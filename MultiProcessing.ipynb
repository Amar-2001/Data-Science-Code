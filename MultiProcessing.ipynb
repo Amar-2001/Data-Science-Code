{
 "cells": [
  {
   "cell_type": "code",
   "execution_count": null,
   "id": "e905678e-13e9-4073-9dcd-0b588d23883c",
   "metadata": {},
   "outputs": [],
   "source": [
    "# Multiprocessing means ek saath alag alag core mein parallely \n",
    "# alag alag program run karaye  \n",
    "\n",
    "# MultiThreading mein 1 hi core mein 4 different or multiple program run karte thay \n",
    "# but MultiProcessing mein 4 different core mein 1-1 program run karwayenge\n",
    "# Jisse program ki time complexity kam ho jayegi\n",
    "\n",
    "\n",
    "# Multiprocessing\n",
    " # A process of running multiple processes simultaneously within multiple threads. "
   ]
  },
  {
   "cell_type": "code",
   "execution_count": 2,
   "id": "bb8429a0-5815-4428-b3e7-22cd413d7efc",
   "metadata": {},
   "outputs": [],
   "source": [
    "import multiprocessing \n",
    "\n",
    "def test():\n",
    "    print(\"This is my Multiprocessing Program\")"
   ]
  },
  {
   "cell_type": "code",
   "execution_count": 3,
   "id": "df62b35d-6d0a-4dc0-ae6f-dce905ef4c04",
   "metadata": {},
   "outputs": [
    {
     "name": "stdout",
     "output_type": "stream",
     "text": [
      "This is my Multiprocessing Program\n"
     ]
    }
   ],
   "source": [
    "test() # call ho gaya"
   ]
  },
  {
   "cell_type": "code",
   "execution_count": 4,
   "id": "f04e8f68-3712-4f8e-8840-f0577d7d878c",
   "metadata": {},
   "outputs": [],
   "source": [
    "# but is program ko kisi aur bhi program ke saath kaise call kare\n",
    "# for example python ke main program ke saath kaise call kare"
   ]
  },
  {
   "cell_type": "code",
   "execution_count": 5,
   "id": "f24a0f1b-5533-4531-b5a8-42f5e8bc35e7",
   "metadata": {},
   "outputs": [],
   "source": [
    "# Multiprocessing with Process example\n",
    "# Process : mulitporcessing.Process wala process \n",
    "# Process objects represent activity that is run in a separate proces"
   ]
  },
  {
   "cell_type": "code",
   "execution_count": 6,
   "id": "b01cf8d0-3b30-434b-acf2-5ed3026d9198",
   "metadata": {},
   "outputs": [
    {
     "name": "stdout",
     "output_type": "stream",
     "text": [
      "This is my main program\n",
      "This is my MultiProcessing Program\n"
     ]
    }
   ],
   "source": [
    "import multiprocessing # importing multiprocessing just like we imported multithreading\n",
    "\n",
    "# test program or child process\n",
    "def test():\n",
    "    print(\"This is my MultiProcessing Program\")\n",
    "\n",
    "# main Program (ye python ke andar inbuilt hai)\n",
    "if __name__=='__main__': # python ka main program (dunder) \n",
    "    \n",
    "    # main program ke baad target prgoram test program ko run kara do\n",
    "    m=multiprocessing.Process(target=test) \n",
    "    print(\"This is my main program\")\n",
    "    m.start() # jab child process ko execute karna hai toh start use kar lo\n",
    "     # start() : start child process\n",
    "    m.join() # jab resources ko release karna ho toh join use kar lo\n",
    "     # join : wait until child process terminates\n",
    "    # Proved that pehle main program run hua  uske baad child (test) program"
   ]
  },
  {
   "cell_type": "code",
   "execution_count": 7,
   "id": "10ca3024-ac9d-48c5-9c87-9c5882dacbf2",
   "metadata": {},
   "outputs": [],
   "source": [
    "# MultiProcessing with bool example : bulk amount of data \n",
    "# is spiltted in different different processors. "
   ]
  },
  {
   "cell_type": "code",
   "execution_count": 8,
   "id": "dc36aaaa-f2f9-4de7-82fe-2b8fd4b4d9d6",
   "metadata": {},
   "outputs": [
    {
     "name": "stdout",
     "output_type": "stream",
     "text": [
      "[1, 4, 9, 16, 25, 36, 49, 64, 81]\n"
     ]
    }
   ],
   "source": [
    "import multiprocessing\n",
    "\n",
    "def square(n):\n",
    "    return n**2\n",
    "# square(2)\n",
    "\n",
    "if __name__==\"__main__\":\n",
    "    \n",
    "    # yaha maine 4 processor mein es kaam ko baat diya hai hum isse 10 mein bhi baat sakte\n",
    "    with multiprocessing.Pool(processes=5)as p: # multiprocessing as pool\n",
    "        \n",
    "    # map function do chiz leta hai pehle \n",
    "    # map function do argument leta hai pehla us par kyaa function apply karna chahte ho\n",
    "    # aur dusra us par kis iterables par apply hoga like\n",
    "    # list ya tuple etc ko apply karna chahte ho\n",
    "        result=p.map(square,[1,2,3,4,5,6,7,8,9])# map function ka use kiye\n",
    "        print(result)\n"
   ]
  },
  {
   "cell_type": "code",
   "execution_count": 9,
   "id": "a6159a1e-a437-4531-a777-121ac281a42c",
   "metadata": {},
   "outputs": [],
   "source": [
    "# Ye square ka kaam humare normally bhi kar sakte thay list aur loop ke jariye\n",
    "# Ya map ke jariye \n",
    "# but why multiprocessing with pool ke jariye \n",
    "# because isse time complexity kaafi kam ho jata process fast hota \n",
    "# becuase different different processors mein process(kaam) bat jaa raha \n",
    "# so automatically kaam fast hota "
   ]
  },
  {
   "cell_type": "code",
   "execution_count": 10,
   "id": "cb52feb2-69ce-4f19-91ad-60a07a7a705f",
   "metadata": {},
   "outputs": [],
   "source": [
    "# ****************************************"
   ]
  },
  {
   "cell_type": "code",
   "execution_count": 11,
   "id": "395c437d-a5ca-46db-855e-8eb687b74886",
   "metadata": {},
   "outputs": [],
   "source": [
    "# 3.MultiProcessing with Queue : means ek processor data ko insert karega\n",
    "                                # dusra processor  data nikalega"
   ]
  },
  {
   "cell_type": "code",
   "execution_count": 32,
   "id": "96df0489-ba06-44dc-afb8-e62f42f03966",
   "metadata": {},
   "outputs": [
    {
     "name": "stdout",
     "output_type": "stream",
     "text": [
      "0\n",
      "1\n",
      "2\n",
      "3\n",
      "4\n",
      "5\n",
      "6\n",
      "7\n",
      "8\n",
      "9\n",
      "Sudh\n"
     ]
    },
    {
     "name": "stderr",
     "output_type": "stream",
     "text": [
      "Process Process-68:\n",
      "Traceback (most recent call last):\n",
      "  File \"/opt/conda/lib/python3.10/multiprocessing/process.py\", line 314, in _bootstrap\n",
      "    self.run()\n"
     ]
    },
    {
     "ename": "KeyboardInterrupt",
     "evalue": "",
     "output_type": "error",
     "traceback": [
      "\u001b[0;31m---------------------------------------------------------------------------\u001b[0m",
      "\u001b[0;31mKeyboardInterrupt\u001b[0m                         Traceback (most recent call last)",
      "Cell \u001b[0;32mIn[32], line 23\u001b[0m\n\u001b[1;32m     21\u001b[0m queVar\u001b[38;5;241m.\u001b[39mput(\u001b[38;5;124m\"\u001b[39m\u001b[38;5;124mSudh\u001b[39m\u001b[38;5;124m\"\u001b[39m)\n\u001b[1;32m     22\u001b[0m m1\u001b[38;5;241m.\u001b[39mjoin()\u001b[38;5;66;03m# jab child process ke saaath relase karna chahe ho then join use karo\u001b[39;00m\n\u001b[0;32m---> 23\u001b[0m \u001b[43mm2\u001b[49m\u001b[38;5;241;43m.\u001b[39;49m\u001b[43mjoin\u001b[49m\u001b[43m(\u001b[49m\u001b[43m)\u001b[49m\n",
      "File \u001b[0;32m/opt/conda/lib/python3.10/multiprocessing/process.py:149\u001b[0m, in \u001b[0;36mBaseProcess.join\u001b[0;34m(self, timeout)\u001b[0m\n\u001b[1;32m    147\u001b[0m \u001b[38;5;28;01massert\u001b[39;00m \u001b[38;5;28mself\u001b[39m\u001b[38;5;241m.\u001b[39m_parent_pid \u001b[38;5;241m==\u001b[39m os\u001b[38;5;241m.\u001b[39mgetpid(), \u001b[38;5;124m'\u001b[39m\u001b[38;5;124mcan only join a child process\u001b[39m\u001b[38;5;124m'\u001b[39m\n\u001b[1;32m    148\u001b[0m \u001b[38;5;28;01massert\u001b[39;00m \u001b[38;5;28mself\u001b[39m\u001b[38;5;241m.\u001b[39m_popen \u001b[38;5;129;01mis\u001b[39;00m \u001b[38;5;129;01mnot\u001b[39;00m \u001b[38;5;28;01mNone\u001b[39;00m, \u001b[38;5;124m'\u001b[39m\u001b[38;5;124mcan only join a started process\u001b[39m\u001b[38;5;124m'\u001b[39m\n\u001b[0;32m--> 149\u001b[0m res \u001b[38;5;241m=\u001b[39m \u001b[38;5;28;43mself\u001b[39;49m\u001b[38;5;241;43m.\u001b[39;49m\u001b[43m_popen\u001b[49m\u001b[38;5;241;43m.\u001b[39;49m\u001b[43mwait\u001b[49m\u001b[43m(\u001b[49m\u001b[43mtimeout\u001b[49m\u001b[43m)\u001b[49m\n\u001b[1;32m    150\u001b[0m \u001b[38;5;28;01mif\u001b[39;00m res \u001b[38;5;129;01mis\u001b[39;00m \u001b[38;5;129;01mnot\u001b[39;00m \u001b[38;5;28;01mNone\u001b[39;00m:\n\u001b[1;32m    151\u001b[0m     _children\u001b[38;5;241m.\u001b[39mdiscard(\u001b[38;5;28mself\u001b[39m)\n",
      "File \u001b[0;32m/opt/conda/lib/python3.10/multiprocessing/popen_fork.py:43\u001b[0m, in \u001b[0;36mPopen.wait\u001b[0;34m(self, timeout)\u001b[0m\n\u001b[1;32m     41\u001b[0m             \u001b[38;5;28;01mreturn\u001b[39;00m \u001b[38;5;28;01mNone\u001b[39;00m\n\u001b[1;32m     42\u001b[0m     \u001b[38;5;66;03m# This shouldn't block if wait() returned successfully.\u001b[39;00m\n\u001b[0;32m---> 43\u001b[0m     \u001b[38;5;28;01mreturn\u001b[39;00m \u001b[38;5;28;43mself\u001b[39;49m\u001b[38;5;241;43m.\u001b[39;49m\u001b[43mpoll\u001b[49m\u001b[43m(\u001b[49m\u001b[43mos\u001b[49m\u001b[38;5;241;43m.\u001b[39;49m\u001b[43mWNOHANG\u001b[49m\u001b[43m \u001b[49m\u001b[38;5;28;43;01mif\u001b[39;49;00m\u001b[43m \u001b[49m\u001b[43mtimeout\u001b[49m\u001b[43m \u001b[49m\u001b[38;5;241;43m==\u001b[39;49m\u001b[43m \u001b[49m\u001b[38;5;241;43m0.0\u001b[39;49m\u001b[43m \u001b[49m\u001b[38;5;28;43;01melse\u001b[39;49;00m\u001b[43m \u001b[49m\u001b[38;5;241;43m0\u001b[39;49m\u001b[43m)\u001b[49m\n\u001b[1;32m     44\u001b[0m \u001b[38;5;28;01mreturn\u001b[39;00m \u001b[38;5;28mself\u001b[39m\u001b[38;5;241m.\u001b[39mreturncode\n",
      "File \u001b[0;32m/opt/conda/lib/python3.10/multiprocessing/popen_fork.py:27\u001b[0m, in \u001b[0;36mPopen.poll\u001b[0;34m(self, flag)\u001b[0m\n\u001b[1;32m     25\u001b[0m \u001b[38;5;28;01mif\u001b[39;00m \u001b[38;5;28mself\u001b[39m\u001b[38;5;241m.\u001b[39mreturncode \u001b[38;5;129;01mis\u001b[39;00m \u001b[38;5;28;01mNone\u001b[39;00m:\n\u001b[1;32m     26\u001b[0m     \u001b[38;5;28;01mtry\u001b[39;00m:\n\u001b[0;32m---> 27\u001b[0m         pid, sts \u001b[38;5;241m=\u001b[39m \u001b[43mos\u001b[49m\u001b[38;5;241;43m.\u001b[39;49m\u001b[43mwaitpid\u001b[49m\u001b[43m(\u001b[49m\u001b[38;5;28;43mself\u001b[39;49m\u001b[38;5;241;43m.\u001b[39;49m\u001b[43mpid\u001b[49m\u001b[43m,\u001b[49m\u001b[43m \u001b[49m\u001b[43mflag\u001b[49m\u001b[43m)\u001b[49m\n\u001b[1;32m     28\u001b[0m     \u001b[38;5;28;01mexcept\u001b[39;00m \u001b[38;5;167;01mOSError\u001b[39;00m:\n\u001b[1;32m     29\u001b[0m         \u001b[38;5;66;03m# Child process not yet created. See #1731717\u001b[39;00m\n\u001b[1;32m     30\u001b[0m         \u001b[38;5;66;03m# e.errno == errno.ECHILD == 10\u001b[39;00m\n\u001b[1;32m     31\u001b[0m         \u001b[38;5;28;01mreturn\u001b[39;00m \u001b[38;5;28;01mNone\u001b[39;00m\n",
      "\u001b[0;31mKeyboardInterrupt\u001b[0m: "
     ]
    },
    {
     "name": "stderr",
     "output_type": "stream",
     "text": [
      "  File \"/opt/conda/lib/python3.10/multiprocessing/process.py\", line 108, in run\n",
      "    self._target(*self._args, **self._kwargs)\n",
      "  File \"/tmp/ipykernel_1538/4197553484.py\", line 9, in consumer\n",
      "    item=q.get()\n",
      "  File \"/opt/conda/lib/python3.10/multiprocessing/queues.py\", line 103, in get\n",
      "    res = self._recv_bytes()\n",
      "  File \"/opt/conda/lib/python3.10/multiprocessing/connection.py\", line 221, in recv_bytes\n",
      "    buf = self._recv_bytes(maxlength)\n",
      "  File \"/opt/conda/lib/python3.10/multiprocessing/connection.py\", line 419, in _recv_bytes\n",
      "    buf = self._recv(4)\n",
      "  File \"/opt/conda/lib/python3.10/multiprocessing/connection.py\", line 384, in _recv\n",
      "    chunk = read(handle, remaining)\n",
      "KeyboardInterrupt\n"
     ]
    }
   ],
   "source": [
    "# data insert\n",
    "def producer(q):\n",
    "    for i in range(10):\n",
    "        q.put(i)\n",
    "        \n",
    "# data nikal raha      \n",
    "def consumer(q):\n",
    "    while True: # jab tak  True hoga here everytime true \n",
    "        item=q.get()\n",
    "        if item==None: # item agar none hoga means loop pura chal chuka hoga tab item mein none aayega\n",
    "            break # aur jab none aayega toh break aur print kar do sara items ko neeche\n",
    "        print(item)\n",
    "        \n",
    "        \n",
    "if __name__==\"__main__\":\n",
    "    queVar=multiprocessing.Queue()\n",
    "    m1=multiprocessing.Process(target=producer, args=(queVar,))\n",
    "    m2=multiprocessing.Process(target=consumer, args=(queVar,))\n",
    "    m1.start() # pehle child process ko execute karna hai toh start use karo \n",
    "    m2.start()\n",
    "    queVar.put(\"Sudh\")\n",
    "    m1.join()# jab child process ke saaath relase karna chahe ho then join use karo\n",
    "    m2.join()\n",
    "        "
   ]
  },
  {
   "cell_type": "code",
   "execution_count": 33,
   "id": "057a35f1-82c7-4c9b-b614-81dbac0d2f09",
   "metadata": {},
   "outputs": [
    {
     "name": "stdout",
     "output_type": "stream",
     "text": [
      "Amar\n",
      "kumar\n",
      "assda\n",
      "Sudh\n"
     ]
    },
    {
     "name": "stderr",
     "output_type": "stream",
     "text": [
      "Process Process-70:\n",
      "Traceback (most recent call last):\n",
      "  File \"/opt/conda/lib/python3.10/multiprocessing/process.py\", line 314, in _bootstrap\n",
      "    self.run()\n"
     ]
    },
    {
     "ename": "KeyboardInterrupt",
     "evalue": "",
     "output_type": "error",
     "traceback": [
      "\u001b[0;31m---------------------------------------------------------------------------\u001b[0m",
      "\u001b[0;31mKeyboardInterrupt\u001b[0m                         Traceback (most recent call last)",
      "Cell \u001b[0;32mIn[33], line 23\u001b[0m\n\u001b[1;32m     21\u001b[0m queVar\u001b[38;5;241m.\u001b[39mput(\u001b[38;5;124m\"\u001b[39m\u001b[38;5;124mSudh\u001b[39m\u001b[38;5;124m\"\u001b[39m)\n\u001b[1;32m     22\u001b[0m m1\u001b[38;5;241m.\u001b[39mjoin()\u001b[38;5;66;03m# jab child process ke saaath relase karna chahe ho then join use karo\u001b[39;00m\n\u001b[0;32m---> 23\u001b[0m \u001b[43mm2\u001b[49m\u001b[38;5;241;43m.\u001b[39;49m\u001b[43mjoin\u001b[49m\u001b[43m(\u001b[49m\u001b[43m)\u001b[49m\n",
      "File \u001b[0;32m/opt/conda/lib/python3.10/multiprocessing/process.py:149\u001b[0m, in \u001b[0;36mBaseProcess.join\u001b[0;34m(self, timeout)\u001b[0m\n\u001b[1;32m    147\u001b[0m \u001b[38;5;28;01massert\u001b[39;00m \u001b[38;5;28mself\u001b[39m\u001b[38;5;241m.\u001b[39m_parent_pid \u001b[38;5;241m==\u001b[39m os\u001b[38;5;241m.\u001b[39mgetpid(), \u001b[38;5;124m'\u001b[39m\u001b[38;5;124mcan only join a child process\u001b[39m\u001b[38;5;124m'\u001b[39m\n\u001b[1;32m    148\u001b[0m \u001b[38;5;28;01massert\u001b[39;00m \u001b[38;5;28mself\u001b[39m\u001b[38;5;241m.\u001b[39m_popen \u001b[38;5;129;01mis\u001b[39;00m \u001b[38;5;129;01mnot\u001b[39;00m \u001b[38;5;28;01mNone\u001b[39;00m, \u001b[38;5;124m'\u001b[39m\u001b[38;5;124mcan only join a started process\u001b[39m\u001b[38;5;124m'\u001b[39m\n\u001b[0;32m--> 149\u001b[0m res \u001b[38;5;241m=\u001b[39m \u001b[38;5;28;43mself\u001b[39;49m\u001b[38;5;241;43m.\u001b[39;49m\u001b[43m_popen\u001b[49m\u001b[38;5;241;43m.\u001b[39;49m\u001b[43mwait\u001b[49m\u001b[43m(\u001b[49m\u001b[43mtimeout\u001b[49m\u001b[43m)\u001b[49m\n\u001b[1;32m    150\u001b[0m \u001b[38;5;28;01mif\u001b[39;00m res \u001b[38;5;129;01mis\u001b[39;00m \u001b[38;5;129;01mnot\u001b[39;00m \u001b[38;5;28;01mNone\u001b[39;00m:\n\u001b[1;32m    151\u001b[0m     _children\u001b[38;5;241m.\u001b[39mdiscard(\u001b[38;5;28mself\u001b[39m)\n",
      "File \u001b[0;32m/opt/conda/lib/python3.10/multiprocessing/popen_fork.py:43\u001b[0m, in \u001b[0;36mPopen.wait\u001b[0;34m(self, timeout)\u001b[0m\n\u001b[1;32m     41\u001b[0m             \u001b[38;5;28;01mreturn\u001b[39;00m \u001b[38;5;28;01mNone\u001b[39;00m\n\u001b[1;32m     42\u001b[0m     \u001b[38;5;66;03m# This shouldn't block if wait() returned successfully.\u001b[39;00m\n\u001b[0;32m---> 43\u001b[0m     \u001b[38;5;28;01mreturn\u001b[39;00m \u001b[38;5;28;43mself\u001b[39;49m\u001b[38;5;241;43m.\u001b[39;49m\u001b[43mpoll\u001b[49m\u001b[43m(\u001b[49m\u001b[43mos\u001b[49m\u001b[38;5;241;43m.\u001b[39;49m\u001b[43mWNOHANG\u001b[49m\u001b[43m \u001b[49m\u001b[38;5;28;43;01mif\u001b[39;49;00m\u001b[43m \u001b[49m\u001b[43mtimeout\u001b[49m\u001b[43m \u001b[49m\u001b[38;5;241;43m==\u001b[39;49m\u001b[43m \u001b[49m\u001b[38;5;241;43m0.0\u001b[39;49m\u001b[43m \u001b[49m\u001b[38;5;28;43;01melse\u001b[39;49;00m\u001b[43m \u001b[49m\u001b[38;5;241;43m0\u001b[39;49m\u001b[43m)\u001b[49m\n\u001b[1;32m     44\u001b[0m \u001b[38;5;28;01mreturn\u001b[39;00m \u001b[38;5;28mself\u001b[39m\u001b[38;5;241m.\u001b[39mreturncode\n",
      "File \u001b[0;32m/opt/conda/lib/python3.10/multiprocessing/popen_fork.py:27\u001b[0m, in \u001b[0;36mPopen.poll\u001b[0;34m(self, flag)\u001b[0m\n\u001b[1;32m     25\u001b[0m \u001b[38;5;28;01mif\u001b[39;00m \u001b[38;5;28mself\u001b[39m\u001b[38;5;241m.\u001b[39mreturncode \u001b[38;5;129;01mis\u001b[39;00m \u001b[38;5;28;01mNone\u001b[39;00m:\n\u001b[1;32m     26\u001b[0m     \u001b[38;5;28;01mtry\u001b[39;00m:\n\u001b[0;32m---> 27\u001b[0m         pid, sts \u001b[38;5;241m=\u001b[39m \u001b[43mos\u001b[49m\u001b[38;5;241;43m.\u001b[39;49m\u001b[43mwaitpid\u001b[49m\u001b[43m(\u001b[49m\u001b[38;5;28;43mself\u001b[39;49m\u001b[38;5;241;43m.\u001b[39;49m\u001b[43mpid\u001b[49m\u001b[43m,\u001b[49m\u001b[43m \u001b[49m\u001b[43mflag\u001b[49m\u001b[43m)\u001b[49m\n\u001b[1;32m     28\u001b[0m     \u001b[38;5;28;01mexcept\u001b[39;00m \u001b[38;5;167;01mOSError\u001b[39;00m:\n\u001b[1;32m     29\u001b[0m         \u001b[38;5;66;03m# Child process not yet created. See #1731717\u001b[39;00m\n\u001b[1;32m     30\u001b[0m         \u001b[38;5;66;03m# e.errno == errno.ECHILD == 10\u001b[39;00m\n\u001b[1;32m     31\u001b[0m         \u001b[38;5;28;01mreturn\u001b[39;00m \u001b[38;5;28;01mNone\u001b[39;00m\n",
      "\u001b[0;31mKeyboardInterrupt\u001b[0m: "
     ]
    },
    {
     "name": "stderr",
     "output_type": "stream",
     "text": [
      "  File \"/opt/conda/lib/python3.10/multiprocessing/process.py\", line 108, in run\n",
      "    self._target(*self._args, **self._kwargs)\n",
      "  File \"/tmp/ipykernel_1538/3807211783.py\", line 9, in consumer\n",
      "    item=q.get()\n",
      "  File \"/opt/conda/lib/python3.10/multiprocessing/queues.py\", line 103, in get\n",
      "    res = self._recv_bytes()\n",
      "  File \"/opt/conda/lib/python3.10/multiprocessing/connection.py\", line 221, in recv_bytes\n",
      "    buf = self._recv_bytes(maxlength)\n",
      "  File \"/opt/conda/lib/python3.10/multiprocessing/connection.py\", line 419, in _recv_bytes\n",
      "    buf = self._recv(4)\n",
      "  File \"/opt/conda/lib/python3.10/multiprocessing/connection.py\", line 384, in _recv\n",
      "    chunk = read(handle, remaining)\n",
      "KeyboardInterrupt\n"
     ]
    }
   ],
   "source": [
    "# data insert\n",
    "def producer(q):\n",
    "    for i in ['Amar','kumar','assda']:\n",
    "        q.put(i)\n",
    "        \n",
    "# data nikal raha      \n",
    "def consumer(q):\n",
    "    while True: # jab tak  True hoga here everytime true \n",
    "        item=q.get()\n",
    "        if item==None: # item agar none hoga means loop pura chal chuka hoga tab item mein none aayega\n",
    "            break # aur jab none aayega toh break aur print kar do sara items ko neeche\n",
    "        print(item)\n",
    "        \n",
    "        \n",
    "if __name__==\"__main__\":\n",
    "    queVar=multiprocessing.Queue()\n",
    "    m1=multiprocessing.Process(target=producer, args=(queVar,))\n",
    "    m2=multiprocessing.Process(target=consumer, args=(queVar,))\n",
    "    m1.start() # pehle child process ko execute karna hai toh start use karo \n",
    "    m2.start()\n",
    "    queVar.put(\"Sudh\")\n",
    "    m1.join()# jab child process ke saaath relase karna chahe ho then join use karo\n",
    "    m2.join()\n",
    "        "
   ]
  },
  {
   "cell_type": "code",
   "execution_count": 17,
   "id": "67cbdfab-fa46-4503-9be9-87ac15dd1077",
   "metadata": {},
   "outputs": [
    {
     "data": {
      "text/plain": [
       "5"
      ]
     },
     "execution_count": 17,
     "metadata": {},
     "output_type": "execute_result"
    }
   ],
   "source": [
    "5"
   ]
  },
  {
   "cell_type": "code",
   "execution_count": null,
   "id": "bd9a65b2-9ffd-4902-af27-aa2cd4ec7634",
   "metadata": {},
   "outputs": [],
   "source": [
    "# ************************************"
   ]
  },
  {
   "cell_type": "code",
   "execution_count": 26,
   "id": "57cf5eed-80c3-4448-957a-5d064676ae0e",
   "metadata": {},
   "outputs": [],
   "source": [
    "# Ek process data ko square kar raha \n",
    "# Dusra process data ko usme append kar raha"
   ]
  },
  {
   "cell_type": "code",
   "execution_count": 34,
   "id": "cb0ab748-4fec-4833-8ea8-e00c042cbbe9",
   "metadata": {},
   "outputs": [
    {
     "name": "stdout",
     "output_type": "stream",
     "text": [
      "[4, 9, 16, 25, 36, 49, 64, 9]\n"
     ]
    }
   ],
   "source": [
    "import multiprocessing\n",
    "def square(index,value):\n",
    "    value[index]=value[index]**2\n",
    "    \n",
    "if __name__==\"__main__\":\n",
    "    arr=multiprocessing.Array('i',[2,3,4,5,6,7,8,9])\n",
    "    process=[] # blank list \n",
    "    \n",
    "    for i in range(7):  # becuase 7 no. in array\n",
    "        m=multiprocessing.Process(target=square, args=(i,arr)) # index=i aur data=arr \n",
    "        process.append(m)# process jo blank list tha usme m jo ki array ka square kar raha \n",
    "                       # wo append ho jaaye process mein\n",
    "        m.start()\n",
    "    \n",
    "    # process ko end karne ke liye kyunki process start toh ho gaya tha but usko end bhi toh karna hai na \n",
    "    for m in process:\n",
    "        m.join()\n",
    "        \n",
    "    print(list(arr)) # isi ke wajah se print ho raha agar isko comment kar rahe toh no output\n",
    "    \n",
    "    "
   ]
  },
  {
   "cell_type": "code",
   "execution_count": 35,
   "id": "af9f4ff4-19fa-4513-8d6c-492b51ae4b40",
   "metadata": {},
   "outputs": [
    {
     "data": {
      "text/plain": [
       "5"
      ]
     },
     "execution_count": 35,
     "metadata": {},
     "output_type": "execute_result"
    }
   ],
   "source": [
    "5"
   ]
  },
  {
   "cell_type": "code",
   "execution_count": 36,
   "id": "25689742-3b32-44a0-a55e-25c646e9915d",
   "metadata": {},
   "outputs": [],
   "source": [
    "# Queue Again"
   ]
  },
  {
   "cell_type": "code",
   "execution_count": 37,
   "id": "7123f507-ee7d-40e9-b740-ad58ed52fe18",
   "metadata": {},
   "outputs": [
    {
     "name": "stdout",
     "output_type": "stream",
     "text": [
      "0\n",
      "1\n",
      "2\n",
      "3\n",
      "4\n",
      "5\n",
      "6\n",
      "7\n",
      "8\n",
      "9\n",
      "Sudh\n"
     ]
    },
    {
     "name": "stderr",
     "output_type": "stream",
     "text": [
      "Process Process-79:\n",
      "Traceback (most recent call last):\n",
      "  File \"/opt/conda/lib/python3.10/multiprocessing/process.py\", line 314, in _bootstrap\n",
      "    self.run()\n"
     ]
    },
    {
     "ename": "KeyboardInterrupt",
     "evalue": "",
     "output_type": "error",
     "traceback": [
      "\u001b[0;31m---------------------------------------------------------------------------\u001b[0m",
      "\u001b[0;31mKeyboardInterrupt\u001b[0m                         Traceback (most recent call last)",
      "Cell \u001b[0;32mIn[37], line 23\u001b[0m\n\u001b[1;32m     21\u001b[0m queVar\u001b[38;5;241m.\u001b[39mput(\u001b[38;5;124m\"\u001b[39m\u001b[38;5;124mSudh\u001b[39m\u001b[38;5;124m\"\u001b[39m)\n\u001b[1;32m     22\u001b[0m m1\u001b[38;5;241m.\u001b[39mjoin()\u001b[38;5;66;03m# jab child process ke saaath relase karna chahe ho then join use karo\u001b[39;00m\n\u001b[0;32m---> 23\u001b[0m \u001b[43mm2\u001b[49m\u001b[38;5;241;43m.\u001b[39;49m\u001b[43mjoin\u001b[49m\u001b[43m(\u001b[49m\u001b[43m)\u001b[49m\n",
      "File \u001b[0;32m/opt/conda/lib/python3.10/multiprocessing/process.py:149\u001b[0m, in \u001b[0;36mBaseProcess.join\u001b[0;34m(self, timeout)\u001b[0m\n\u001b[1;32m    147\u001b[0m \u001b[38;5;28;01massert\u001b[39;00m \u001b[38;5;28mself\u001b[39m\u001b[38;5;241m.\u001b[39m_parent_pid \u001b[38;5;241m==\u001b[39m os\u001b[38;5;241m.\u001b[39mgetpid(), \u001b[38;5;124m'\u001b[39m\u001b[38;5;124mcan only join a child process\u001b[39m\u001b[38;5;124m'\u001b[39m\n\u001b[1;32m    148\u001b[0m \u001b[38;5;28;01massert\u001b[39;00m \u001b[38;5;28mself\u001b[39m\u001b[38;5;241m.\u001b[39m_popen \u001b[38;5;129;01mis\u001b[39;00m \u001b[38;5;129;01mnot\u001b[39;00m \u001b[38;5;28;01mNone\u001b[39;00m, \u001b[38;5;124m'\u001b[39m\u001b[38;5;124mcan only join a started process\u001b[39m\u001b[38;5;124m'\u001b[39m\n\u001b[0;32m--> 149\u001b[0m res \u001b[38;5;241m=\u001b[39m \u001b[38;5;28;43mself\u001b[39;49m\u001b[38;5;241;43m.\u001b[39;49m\u001b[43m_popen\u001b[49m\u001b[38;5;241;43m.\u001b[39;49m\u001b[43mwait\u001b[49m\u001b[43m(\u001b[49m\u001b[43mtimeout\u001b[49m\u001b[43m)\u001b[49m\n\u001b[1;32m    150\u001b[0m \u001b[38;5;28;01mif\u001b[39;00m res \u001b[38;5;129;01mis\u001b[39;00m \u001b[38;5;129;01mnot\u001b[39;00m \u001b[38;5;28;01mNone\u001b[39;00m:\n\u001b[1;32m    151\u001b[0m     _children\u001b[38;5;241m.\u001b[39mdiscard(\u001b[38;5;28mself\u001b[39m)\n",
      "File \u001b[0;32m/opt/conda/lib/python3.10/multiprocessing/popen_fork.py:43\u001b[0m, in \u001b[0;36mPopen.wait\u001b[0;34m(self, timeout)\u001b[0m\n\u001b[1;32m     41\u001b[0m             \u001b[38;5;28;01mreturn\u001b[39;00m \u001b[38;5;28;01mNone\u001b[39;00m\n\u001b[1;32m     42\u001b[0m     \u001b[38;5;66;03m# This shouldn't block if wait() returned successfully.\u001b[39;00m\n\u001b[0;32m---> 43\u001b[0m     \u001b[38;5;28;01mreturn\u001b[39;00m \u001b[38;5;28;43mself\u001b[39;49m\u001b[38;5;241;43m.\u001b[39;49m\u001b[43mpoll\u001b[49m\u001b[43m(\u001b[49m\u001b[43mos\u001b[49m\u001b[38;5;241;43m.\u001b[39;49m\u001b[43mWNOHANG\u001b[49m\u001b[43m \u001b[49m\u001b[38;5;28;43;01mif\u001b[39;49;00m\u001b[43m \u001b[49m\u001b[43mtimeout\u001b[49m\u001b[43m \u001b[49m\u001b[38;5;241;43m==\u001b[39;49m\u001b[43m \u001b[49m\u001b[38;5;241;43m0.0\u001b[39;49m\u001b[43m \u001b[49m\u001b[38;5;28;43;01melse\u001b[39;49;00m\u001b[43m \u001b[49m\u001b[38;5;241;43m0\u001b[39;49m\u001b[43m)\u001b[49m\n\u001b[1;32m     44\u001b[0m \u001b[38;5;28;01mreturn\u001b[39;00m \u001b[38;5;28mself\u001b[39m\u001b[38;5;241m.\u001b[39mreturncode\n",
      "File \u001b[0;32m/opt/conda/lib/python3.10/multiprocessing/popen_fork.py:27\u001b[0m, in \u001b[0;36mPopen.poll\u001b[0;34m(self, flag)\u001b[0m\n\u001b[1;32m     25\u001b[0m \u001b[38;5;28;01mif\u001b[39;00m \u001b[38;5;28mself\u001b[39m\u001b[38;5;241m.\u001b[39mreturncode \u001b[38;5;129;01mis\u001b[39;00m \u001b[38;5;28;01mNone\u001b[39;00m:\n\u001b[1;32m     26\u001b[0m     \u001b[38;5;28;01mtry\u001b[39;00m:\n\u001b[0;32m---> 27\u001b[0m         pid, sts \u001b[38;5;241m=\u001b[39m \u001b[43mos\u001b[49m\u001b[38;5;241;43m.\u001b[39;49m\u001b[43mwaitpid\u001b[49m\u001b[43m(\u001b[49m\u001b[38;5;28;43mself\u001b[39;49m\u001b[38;5;241;43m.\u001b[39;49m\u001b[43mpid\u001b[49m\u001b[43m,\u001b[49m\u001b[43m \u001b[49m\u001b[43mflag\u001b[49m\u001b[43m)\u001b[49m\n\u001b[1;32m     28\u001b[0m     \u001b[38;5;28;01mexcept\u001b[39;00m \u001b[38;5;167;01mOSError\u001b[39;00m:\n\u001b[1;32m     29\u001b[0m         \u001b[38;5;66;03m# Child process not yet created. See #1731717\u001b[39;00m\n\u001b[1;32m     30\u001b[0m         \u001b[38;5;66;03m# e.errno == errno.ECHILD == 10\u001b[39;00m\n\u001b[1;32m     31\u001b[0m         \u001b[38;5;28;01mreturn\u001b[39;00m \u001b[38;5;28;01mNone\u001b[39;00m\n",
      "\u001b[0;31mKeyboardInterrupt\u001b[0m: "
     ]
    },
    {
     "name": "stderr",
     "output_type": "stream",
     "text": [
      "  File \"/opt/conda/lib/python3.10/multiprocessing/process.py\", line 108, in run\n",
      "    self._target(*self._args, **self._kwargs)\n",
      "  File \"/tmp/ipykernel_1538/4197553484.py\", line 9, in consumer\n",
      "    item=q.get()\n",
      "  File \"/opt/conda/lib/python3.10/multiprocessing/queues.py\", line 103, in get\n",
      "    res = self._recv_bytes()\n",
      "  File \"/opt/conda/lib/python3.10/multiprocessing/connection.py\", line 221, in recv_bytes\n",
      "    buf = self._recv_bytes(maxlength)\n",
      "  File \"/opt/conda/lib/python3.10/multiprocessing/connection.py\", line 419, in _recv_bytes\n",
      "    buf = self._recv(4)\n",
      "  File \"/opt/conda/lib/python3.10/multiprocessing/connection.py\", line 384, in _recv\n",
      "    chunk = read(handle, remaining)\n",
      "KeyboardInterrupt\n"
     ]
    }
   ],
   "source": [
    "# data insert\n",
    "def producer(q):\n",
    "    for i in range(10):\n",
    "        q.put(i)\n",
    "        \n",
    "# data nikal raha      \n",
    "def consumer(q):\n",
    "    while True: # jab tak  True hoga here everytime true \n",
    "        item=q.get()\n",
    "        if item==None: # item agar none hoga means loop pura chal chuka hoga tab item mein none aayega\n",
    "            break # aur jab none aayega toh break aur print kar do sara items ko neeche\n",
    "        print(item)\n",
    "        \n",
    "        \n",
    "if __name__==\"__main__\":\n",
    "    queVar=multiprocessing.Queue()\n",
    "    m1=multiprocessing.Process(target=producer, args=(queVar,))\n",
    "    m2=multiprocessing.Process(target=consumer, args=(queVar,))\n",
    "    m1.start() # pehle child process ko execute karna hai toh start use karo \n",
    "    m2.start()\n",
    "    queVar.put(\"Sudh\")\n",
    "    m1.join()# jab child process ke saaath relase karna chahe ho then join use karo\n",
    "    m2.join()\n",
    "        "
   ]
  },
  {
   "cell_type": "code",
   "execution_count": null,
   "id": "c25f3f0e-a212-41c2-9f53-9d5bfa74934a",
   "metadata": {},
   "outputs": [],
   "source": [
    "# multiprocessing with pipe example\n",
    "# Pipe means connection establish karna  jaise pipe ke ek side se koi bol raha dusra sun raha"
   ]
  },
  {
   "cell_type": "code",
   "execution_count": null,
   "id": "b7012782-507a-4fcb-beeb-5246faf881bf",
   "metadata": {},
   "outputs": [
    {
     "name": "stdout",
     "output_type": "stream",
     "text": [
      "My name is Amar\n",
      " I am learning MultiProcessing\n",
      " I am learning by Sudhanshu Sir\n"
     ]
    }
   ],
   "source": [
    "import multiprocessing\n",
    "\n",
    "def sender(conn,msg): # sender connection establish karega tabhi toh message bhej paayega\n",
    "    for i in msg: # jab tak msg pura na likha jaaye\n",
    "        conn.send(i) # jisse connection banaya usko bhej do\n",
    "    conn.close() # connection close karo \n",
    "\n",
    "def receiver(conn): # receiver filhaal sirf receive kar raha \n",
    "    while True: # jab tak ye true hai halaki always true hi hai \n",
    "        try:\n",
    "            msg=conn.recv() # msg receive ho aur msg variable mein store ho jaaye\n",
    "        except Exception as e: # agar msg nahi receive hua toh break kar jaao\n",
    "            print(e)\n",
    "            break\n",
    "        print(msg)# agar message receive hua toh print karo msg ko\n",
    "            \n",
    "if __name__==\"__main__\":\n",
    "    # ye message hai\n",
    "    msg=[\"My name is Amar\", \" I am learning MultiProcessing\", \" I am learning by Sudhanshu Sir\"]\n",
    "    child_conn, parent_conn=multiprocessing.Pipe() # child aur parent ka connection ho raha \n",
    "                                                 # pipe ke jariye\n",
    "    m1=multiprocessing.Process(target=sender, args = (child_conn, msg) ) # child ko target kar raha\n",
    "    m2=multiprocessing.Process(target=receiver, args = (parent_conn,)) # parent ko target kar raha\n",
    "    \n",
    "    m1.start() # m1 ko execute or Start child process\n",
    "    m2.start() # m2 ko execute or Start child process\n",
    "    \n",
    "    m1.join() # Wait until child process terminates or m1 ko terminate\n",
    "    child_conn.close() # connection close karega\n",
    "    m2.join() # ab m2 ko terminate karega\n",
    "    parent_conn.close() # m2 ko close karega\n",
    "    \n",
    "    "
   ]
  },
  {
   "cell_type": "code",
   "execution_count": null,
   "id": "0e638c09-6831-4a9e-8171-a6add5761953",
   "metadata": {},
   "outputs": [],
   "source": [
    "# Quiz"
   ]
  },
  {
   "cell_type": "code",
   "execution_count": null,
   "id": "f1efc4c9-4739-4582-b742-f39fc7ee1e96",
   "metadata": {},
   "outputs": [],
   "source": [
    "# Feature\tMultithreading\tMultiprocessing\n",
    "# Definition\tA single process with multiple threads of execution\tMultiple processes, each with its own threads of execution\n",
    "# Memory\tThreads share the same memory space\tProcesses have their own separate memory space\n",
    "# Communication\tThreads communicate through shared variables\tProcesses communicate through shared memory or message passing\n",
    "# Synchronization\tThreads are synchronized using locks and semaphores\tProcesses are synchronized using pipes, sockets, or shared memory\n",
    "# Performance\tCan be faster than single-threaded execution for I/O-bound tasks\tCan be much faster than single-threaded execution for CPU-bound tasks\n",
    "# Which one to use?\n",
    "\n",
    "# The best choice between multithreading and multiprocessing depends on the specific task you are trying to accomplish.\n",
    "\n",
    "# Multithreading is a good choice for tasks that are I/O-bound, such as web browsing, file processing, and networking. This is because I/O operations are often slow, and multithreading can allow the CPU to do other work while waiting for an I/O operation to complete.\n",
    "# Multiprocessing is a good choice for tasks that are CPU-bound, such as image processing, video encoding, and scientific computing. This is because CPU-bound tasks can take advantage of the multiple cores available on modern CPUs.\n",
    "# In general, multiprocessing is more efficient than multithreading for CPU-bound tasks, but it can also be more complex to implement. Multithreading is less efficient than multiprocessing for CPU-bound tasks, but it is easier to implement."
   ]
  },
  {
   "cell_type": "code",
   "execution_count": null,
   "id": "88eda0e4-5f1a-47f0-81c2-f945c35b91e7",
   "metadata": {},
   "outputs": [],
   "source": [
    "\n",
    " # A process of running multiple processes simultaneously within multiple threads.\n",
    "    \n",
    "\n",
    "# Multiprocessing is used for CPU-bound tasks, while multithreading is used for I/O-bound tasks."
   ]
  },
  {
   "cell_type": "code",
   "execution_count": null,
   "id": "35a50cae-9ff5-40e3-8b58-efa248401a2a",
   "metadata": {},
   "outputs": [],
   "source": [
    "\n",
    "# What is the purpose of multiprocessing in Python?\n",
    "\n",
    "\n",
    "#  To improve the performance of a program by using multiple CPUs or CPU cores."
   ]
  },
  {
   "cell_type": "code",
   "execution_count": null,
   "id": "7bf61695-ffcd-420c-91bd-ae4f33856f00",
   "metadata": {},
   "outputs": [],
   "source": []
  },
  {
   "cell_type": "code",
   "execution_count": null,
   "id": "861c0ec3-eadc-47c1-a3e0-abc9061a0efe",
   "metadata": {},
   "outputs": [],
   "source": []
  },
  {
   "cell_type": "code",
   "execution_count": null,
   "id": "7081d150-ca42-46da-abd8-30228bb0b4b6",
   "metadata": {},
   "outputs": [],
   "source": []
  },
  {
   "cell_type": "code",
   "execution_count": null,
   "id": "bf3de6f6-43ba-4a17-8317-b803a0570b8b",
   "metadata": {},
   "outputs": [],
   "source": []
  }
 ],
 "metadata": {
  "kernelspec": {
   "display_name": "Python 3 (ipykernel)",
   "language": "python",
   "name": "python3"
  },
  "language_info": {
   "codemirror_mode": {
    "name": "ipython",
    "version": 3
   },
   "file_extension": ".py",
   "mimetype": "text/x-python",
   "name": "python",
   "nbconvert_exporter": "python",
   "pygments_lexer": "ipython3",
   "version": "3.10.8"
  }
 },
 "nbformat": 4,
 "nbformat_minor": 5
}
