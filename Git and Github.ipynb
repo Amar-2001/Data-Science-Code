{
 "cells": [
  {
   "cell_type": "code",
   "execution_count": 1,
   "id": "dc214bf6-29da-4dee-8f8a-4013e337995f",
   "metadata": {},
   "outputs": [],
   "source": [
    "# Git and Git Hub\n",
    "\n"
   ]
  },
  {
   "cell_type": "code",
   "execution_count": 3,
   "id": "9dff23b1-ee59-4ffe-9e69-947c27d485fb",
   "metadata": {},
   "outputs": [],
   "source": [
    "# Code ko flask se git hub mein daalne ka tarika\n",
    "\n",
    "# open lab\n",
    "# 2.run python file\n",
    "# 3. clear terminal by writing clear\n",
    "# 4. type git init :- initialise kar dega pure code ko for a github \n",
    "# 5. git add :- repository ko local mein add kar dega\n",
    "# 6. git commit -m \"my first code\" # kuch bhi naam de do\n",
    "#    git config --globla user.email \" \" # email de do \n",
    "#    git config --glbal user.name \" \" # name de do\n",
    "# 7. git branch -M main \n",
    "# 8. git remote add origin https:// github.com/ your user/etc\n",
    "    # if error type git remote remove origin\n",
    "    # then again paste line 8\n",
    "# 9. git push -u origin main\n",
    "\n",
    "# then copy code ->open-> create and continue (if password of github enter password)->ok\n",
    "\n"
   ]
  },
  {
   "cell_type": "code",
   "execution_count": 1,
   "id": "d07f5584-0fa3-40e1-95b3-3d58a50eb931",
   "metadata": {},
   "outputs": [],
   "source": [
    "# Code ko github se flask mein daalne ka tarika\n",
    "\n",
    "# 1. git clone https://github.com/Amar-2001/Flask-Code.git(ye jo link hai wo github mein milega)\n",
    "# 2. to check kitna code hai write ls \n"
   ]
  },
  {
   "cell_type": "code",
   "execution_count": 4,
   "id": "40c434b1-f594-4939-9252-45e53bba4072",
   "metadata": {},
   "outputs": [
    {
     "data": {
      "text/plain": [
       "5"
      ]
     },
     "execution_count": 4,
     "metadata": {},
     "output_type": "execute_result"
    }
   ],
   "source": [
    "# Github Shortcuts\n",
    "\n",
    "# 1.press \"?\" to know all shortcuts in github\n",
    "# 2.website to shorten link \"git.io\" or \"shortUrl\"\n",
    "# 3.To check specific function or from this lines to that lines is by \"link clich\" , shift +line click and send\n",
    "# 4.Blame to check ki koi humare code mein kya changes kiya hai\n",
    "# 5. Commit to know self and to others what our code is doing\n",
    "# \".\" dot to open VSCODE in github\n",
    "5"
   ]
  },
  {
   "cell_type": "code",
   "execution_count": null,
   "id": "0d8d0685-f0c2-4565-89dc-09270aa3d495",
   "metadata": {},
   "outputs": [],
   "source": []
  }
 ],
 "metadata": {
  "kernelspec": {
   "display_name": "Python 3 (ipykernel)",
   "language": "python",
   "name": "python3"
  },
  "language_info": {
   "codemirror_mode": {
    "name": "ipython",
    "version": 3
   },
   "file_extension": ".py",
   "mimetype": "text/x-python",
   "name": "python",
   "nbconvert_exporter": "python",
   "pygments_lexer": "ipython3",
   "version": "3.10.8"
  }
 },
 "nbformat": 4,
 "nbformat_minor": 5
}
