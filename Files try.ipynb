{
 "cells": [
  {
   "cell_type": "code",
   "execution_count": 13,
   "id": "fccaab5c-7e64-47ca-8768-e00c916f0f87",
   "metadata": {},
   "outputs": [],
   "source": [
    "f=open('test1.txt','w')"
   ]
  },
  {
   "cell_type": "code",
   "execution_count": 7,
   "id": "abc576ff-dff9-481a-822c-3336fa290305",
   "metadata": {},
   "outputs": [
    {
     "data": {
      "text/plain": [
       "'/home/jovyan/work'"
      ]
     },
     "execution_count": 7,
     "metadata": {},
     "output_type": "execute_result"
    }
   ],
   "source": [
    "pwd#present working directory"
   ]
  },
  {
   "cell_type": "code",
   "execution_count": 8,
   "id": "46be5b8c-316e-44e7-bc30-025e774004f2",
   "metadata": {},
   "outputs": [
    {
     "name": "stdout",
     "output_type": "stream",
     "text": [
      "'Abstraction,Encapsulation,Polymorphism doubt.ipynb'\n",
      "'Abstraction,Encapsulation  Try.ipynb'\n",
      " Abstraction.ipynb\n",
      "'Assignment 10  feb.ipynb'\n",
      "'Assignment 30feb .ipynb'\n",
      "'Assignment 30 jan.ipynb'\n",
      "'Assignment 6 feb .ipynb'\n",
      "'Assignment 8 feb abstraction,encapsulation.ipynb'\n",
      "'Assignment 9 feb oops.ipynb'\n",
      "'Assignment oops 7feb.ipynb'\n",
      "'Basic python Assignment 29 feb  .ipynb'\n",
      "'Class method.ipynb'\n",
      " Decorator.ipynb\n",
      " DECORATOR.ipynb\n",
      " demo.txt\n",
      " DOUBT.ipynb\n",
      " Encapsulation.ipynb\n",
      "'Files by micro solution.ipynb'\n",
      "'Files (working with files) lec 1.ipynb'\n",
      "'Function Overriding.ipynb'\n",
      " getter,setter,deleter.ipynb\n",
      " Inheritance.ipynb\n",
      "'Password valid or invalid approach assignment 7 feb qno 1.ipynb'\n",
      " Polymorphism.ipynb\n",
      "'Special magical dunders method.ipynb'\n",
      "'Static Method.ipynb'\n",
      " test1.txt\n",
      " test.txt\n",
      "'Try Quetion.ipynb'\n"
     ]
    }
   ],
   "source": [
    "ls"
   ]
  },
  {
   "cell_type": "code",
   "execution_count": 10,
   "id": "00053777-e241-4cc7-a692-686ceac496c7",
   "metadata": {},
   "outputs": [
    {
     "name": "stdout",
     "output_type": "stream",
     "text": [
      "[Errno 2] No such file or directory: 'work'\n",
      "/home/jovyan/work\n"
     ]
    }
   ],
   "source": [
    "cd work"
   ]
  },
  {
   "cell_type": "code",
   "execution_count": 11,
   "id": "664bcc78-935c-426b-ae51-3e45d3913a49",
   "metadata": {},
   "outputs": [],
   "source": [
    "# it changed thankfully so iske liye pehle dursa directory mein jaa kar\n",
    "# files ka code create karo then cd command se work ya koi bhi directory mein change kar lo"
   ]
  },
  {
   "cell_type": "code",
   "execution_count": 14,
   "id": "17794d91-8bbe-47ff-9b71-76d2502eac45",
   "metadata": {},
   "outputs": [
    {
     "data": {
      "text/plain": [
       "23"
      ]
     },
     "execution_count": 14,
     "metadata": {},
     "output_type": "execute_result"
    }
   ],
   "source": [
    "f.write('This is my first files ')"
   ]
  },
  {
   "cell_type": "code",
   "execution_count": 15,
   "id": "8a532266-f457-4b19-a140-61ebbc2faacb",
   "metadata": {},
   "outputs": [],
   "source": [
    "f.close()"
   ]
  },
  {
   "cell_type": "code",
   "execution_count": 16,
   "id": "5c4c3175-ccfd-49f6-b4a3-a9aebe12de4e",
   "metadata": {},
   "outputs": [],
   "source": [
    "f=open('test1.txt','w')"
   ]
  },
  {
   "cell_type": "code",
   "execution_count": 17,
   "id": "7aa7c721-0e08-4222-83cb-9a930269d4c4",
   "metadata": {},
   "outputs": [
    {
     "data": {
      "text/plain": [
       "29"
      ]
     },
     "execution_count": 17,
     "metadata": {},
     "output_type": "execute_result"
    }
   ],
   "source": [
    "f.write('Hello Genius want your files ')"
   ]
  },
  {
   "cell_type": "code",
   "execution_count": 18,
   "id": "7f48e085-397f-4142-a76a-ad3593eda753",
   "metadata": {},
   "outputs": [],
   "source": [
    "f.close()"
   ]
  },
  {
   "cell_type": "code",
   "execution_count": null,
   "id": "830e67b1-e7c1-4ca1-913d-b6afc699c25f",
   "metadata": {},
   "outputs": [],
   "source": []
  }
 ],
 "metadata": {
  "kernelspec": {
   "display_name": "Python 3 (ipykernel)",
   "language": "python",
   "name": "python3"
  },
  "language_info": {
   "codemirror_mode": {
    "name": "ipython",
    "version": 3
   },
   "file_extension": ".py",
   "mimetype": "text/x-python",
   "name": "python",
   "nbconvert_exporter": "python",
   "pygments_lexer": "ipython3",
   "version": "3.10.8"
  }
 },
 "nbformat": 4,
 "nbformat_minor": 5
}
