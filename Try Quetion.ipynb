{
 "cells": [
  {
   "cell_type": "code",
   "execution_count": 34,
   "id": "4e8a8aea-0fe7-412f-a9b1-7789d87035a6",
   "metadata": {},
   "outputs": [],
   "source": [
    "# lambda function"
   ]
  },
  {
   "cell_type": "code",
   "execution_count": 3,
   "id": "ce2a2509-1eca-4d62-904b-3b70959a32e4",
   "metadata": {},
   "outputs": [
    {
     "name": "stdout",
     "output_type": "stream",
     "text": [
      "4\n"
     ]
    }
   ],
   "source": [
    "sq=(lambda x: x**2)\n",
    "print(sq(2))\n"
   ]
  },
  {
   "cell_type": "code",
   "execution_count": 2,
   "id": "aade44d5-db6d-4f38-99ec-893f336f69f3",
   "metadata": {},
   "outputs": [
    {
     "name": "stdout",
     "output_type": "stream",
     "text": [
      "['apple', 'apricot']\n"
     ]
    }
   ],
   "source": [
    "list=[\"apple\",\"mango\",\"Guava\",\"apricot\"]\n",
    "x=[x for x in list if x.startswith(\"a\")]\n",
    "print(x)"
   ]
  },
  {
   "cell_type": "code",
   "execution_count": 33,
   "id": "515c339b-0962-421c-a62e-56d5f4761461",
   "metadata": {},
   "outputs": [],
   "source": [
    "# map function"
   ]
  },
  {
   "cell_type": "code",
   "execution_count": 1,
   "id": "cc1177e9-5a28-4259-8e1b-c7a5d23c86c9",
   "metadata": {},
   "outputs": [
    {
     "name": "stdout",
     "output_type": "stream",
     "text": [
      "[2, 4, 6, 8]\n"
     ]
    }
   ],
   "source": [
    "# l=[1,3,5,2,8]\n",
    "# x=map(lambda y: y+y,l)\n",
    "# print(list(x))\n",
    "\n",
    "numbers = (1, 2, 3, 4)\n",
    "result = map(lambda x: x + x, numbers)\n",
    "print(list(result))"
   ]
  },
  {
   "cell_type": "code",
   "execution_count": 20,
   "id": "b0367903-f6d2-438f-a4b5-291f5ae0d7bd",
   "metadata": {},
   "outputs": [
    {
     "name": "stdout",
     "output_type": "stream",
     "text": [
      "[5, 5, 9]\n"
     ]
    }
   ],
   "source": [
    "def func(n):\n",
    "    return len(n)\n",
    "\n",
    "# l=[\"apple\",'mango','pineapple']\n",
    "l=(\"apple\",'mango','pineapple')# same output as with or wihout []\n",
    "x=map(func,l)\n",
    "\n",
    "print(list(x))\n",
    "\n",
    "# print(list(x))# convert map into list for redability.\n",
    "\n"
   ]
  },
  {
   "cell_type": "code",
   "execution_count": 19,
   "id": "e2a8e2fd-3794-4a8f-94c5-863177c5c5e2",
   "metadata": {},
   "outputs": [
    {
     "name": "stdout",
     "output_type": "stream",
     "text": [
      "[5, 5, 9]\n"
     ]
    }
   ],
   "source": [
    "# l=[\"apple\",'mango','pineapple']\n",
    "l=(\"apple\",'mango','pineapple')# same output with or without [] \n",
    "x=list(map(lambda y:len(y),l))\n",
    "print(x)\n"
   ]
  },
  {
   "cell_type": "code",
   "execution_count": 8,
   "id": "fd23f34c-3c21-42e9-9891-1587d4eac070",
   "metadata": {},
   "outputs": [
    {
     "name": "stdout",
     "output_type": "stream",
     "text": [
      "[1, 3, 2, 5, 8, 9, 4]\n"
     ]
    }
   ],
   "source": [
    "def even_double(n):\n",
    "    if n%2==0:\n",
    "        return 2*n\n",
    "    else:\n",
    "        return n\n",
    "    \n",
    "    \n",
    "l=[1,3,2,5,8,9,4]\n",
    "e=(map(even_double,l))\n",
    "print(list(l))\n",
    "\n",
    "\n",
    "\n",
    "\n"
   ]
  },
  {
   "cell_type": "code",
   "execution_count": null,
   "id": "b9eed80c-a27a-46f1-b5bb-53a6c3bf22f4",
   "metadata": {},
   "outputs": [],
   "source": [
    "# filter function"
   ]
  },
  {
   "cell_type": "code",
   "execution_count": 23,
   "id": "d53eefdb-af1a-44ce-98a7-4c9d990ed0dd",
   "metadata": {},
   "outputs": [
    {
     "name": "stdout",
     "output_type": "stream",
     "text": [
      "[2, 56, 4, 8]\n"
     ]
    }
   ],
   "source": [
    "l=(1,2,3,56,4,59,8)\n",
    "x=list(filter(lambda e: e%2==0,l))\n",
    "print(x)"
   ]
  },
  {
   "cell_type": "code",
   "execution_count": null,
   "id": "ff09a128-d6c4-4f62-98e9-0bf6ce8aa994",
   "metadata": {},
   "outputs": [],
   "source": [
    "# list comprehension"
   ]
  },
  {
   "cell_type": "code",
   "execution_count": 32,
   "id": "d41955e2-780e-42f4-ba41-057b53cea5bb",
   "metadata": {},
   "outputs": [
    {
     "name": "stdout",
     "output_type": "stream",
     "text": [
      "[2, 44]\n"
     ]
    }
   ],
   "source": [
    "\n",
    "\n",
    "num=[1,2,3,5,43,44]\n",
    "l=[x for x in num  if x%2==0]\n",
    "print(l)\n"
   ]
  },
  {
   "cell_type": "code",
   "execution_count": 5,
   "id": "99346897-a7ed-4b03-b1aa-15132759769e",
   "metadata": {},
   "outputs": [
    {
     "name": "stdout",
     "output_type": "stream",
     "text": [
      "[True]\n"
     ]
    }
   ],
   "source": [
    "x=\"Hello\"\n",
    "c=[True if x.startswith(\"H\") else False]\n",
    "print(c)"
   ]
  },
  {
   "cell_type": "code",
   "execution_count": 29,
   "id": "7cae3ce2-d0ac-4cbd-b1cc-f9310538657e",
   "metadata": {},
   "outputs": [
    {
     "ename": "TypeError",
     "evalue": "'bool' object is not callable",
     "output_type": "error",
     "traceback": [
      "\u001b[0;31m---------------------------------------------------------------------------\u001b[0m",
      "\u001b[0;31mTypeError\u001b[0m                                 Traceback (most recent call last)",
      "Cell \u001b[0;32mIn[29], line 2\u001b[0m\n\u001b[1;32m      1\u001b[0m y\u001b[38;5;241m=\u001b[39m(\u001b[38;5;124m\"\u001b[39m\u001b[38;5;124mHello\u001b[39m\u001b[38;5;124m\"\u001b[39m)\n\u001b[0;32m----> 2\u001b[0m map_func\u001b[38;5;241m=\u001b[39m\u001b[38;5;28;43mlist\u001b[39;49m\u001b[43m(\u001b[49m\u001b[38;5;28;43mmap\u001b[39;49m\u001b[43m(\u001b[49m\u001b[43my\u001b[49m\u001b[38;5;241;43m.\u001b[39;49m\u001b[43mstartswith\u001b[49m\u001b[43m(\u001b[49m\u001b[38;5;124;43m\"\u001b[39;49m\u001b[38;5;124;43mH\u001b[39;49m\u001b[38;5;124;43m\"\u001b[39;49m\u001b[43m)\u001b[49m\u001b[43m,\u001b[49m\u001b[43my\u001b[49m\u001b[43m)\u001b[49m\u001b[43m)\u001b[49m\n\u001b[1;32m      3\u001b[0m \u001b[38;5;28mprint\u001b[39m(map_func)\n",
      "\u001b[0;31mTypeError\u001b[0m: 'bool' object is not callable"
     ]
    }
   ],
   "source": [
    "def func():\n",
    "    y=(\"Hello\")\n",
    "    map_func=list(map(y.startswith(\"H\"),y))\n",
    "    print(map_func)\n",
    "func()"
   ]
  },
  {
   "cell_type": "code",
   "execution_count": 40,
   "id": "5478fdcf-cd6c-44c2-b894-f2d665658575",
   "metadata": {},
   "outputs": [
    {
     "name": "stdout",
     "output_type": "stream",
     "text": [
      "<class 'tuple'>\n",
      "<class 'tuple'>\n",
      "<class 'list'>\n"
     ]
    }
   ],
   "source": [
    "a=(\"123\",\"Amit\",\"786Ayesha\",\"54.45\",\"Ajay\")\n",
    "b=\"123\",\"Amit\",\"786Ayesha\",\"54.45\",\"Ajay\"\n",
    "c=[\"123\",\"Amit\",\"786Ayesha\",\"54.45\",\"Ajay\"]\n",
    "print(type(a))\n",
    "print(type(b))\n",
    "print(type(c))"
   ]
  },
  {
   "cell_type": "code",
   "execution_count": 45,
   "id": "f6568ec3-62b9-4fea-b8c6-df0d40e5c5ca",
   "metadata": {},
   "outputs": [
    {
     "name": "stdout",
     "output_type": "stream",
     "text": [
      "True\n"
     ]
    }
   ],
   "source": [
    "a=\"4\"\n",
    "print(a.isnumeric())"
   ]
  },
  {
   "cell_type": "code",
   "execution_count": 46,
   "id": "4f1cad67-d544-4fdb-8587-37de30923497",
   "metadata": {},
   "outputs": [
    {
     "ename": "AttributeError",
     "evalue": "'str' object has no attribute 'isnum'",
     "output_type": "error",
     "traceback": [
      "\u001b[0;31m---------------------------------------------------------------------------\u001b[0m",
      "\u001b[0;31mAttributeError\u001b[0m                            Traceback (most recent call last)",
      "Cell \u001b[0;32mIn[46], line 2\u001b[0m\n\u001b[1;32m      1\u001b[0m a\u001b[38;5;241m=\u001b[39m\u001b[38;5;124m\"\u001b[39m\u001b[38;5;124m4\u001b[39m\u001b[38;5;124m\"\u001b[39m\n\u001b[0;32m----> 2\u001b[0m \u001b[38;5;28mprint\u001b[39m(\u001b[43ma\u001b[49m\u001b[38;5;241;43m.\u001b[39;49m\u001b[43misnum\u001b[49m())\n",
      "\u001b[0;31mAttributeError\u001b[0m: 'str' object has no attribute 'isnum'"
     ]
    }
   ],
   "source": [
    "a=\"4\"\n",
    "print(a.isnum())"
   ]
  },
  {
   "cell_type": "code",
   "execution_count": 47,
   "id": "b14083dd-878b-4e89-b1ef-88d92ef5002f",
   "metadata": {},
   "outputs": [
    {
     "name": "stdout",
     "output_type": "stream",
     "text": [
      "[1, 2, 3, 4, 5, 6, 7, 8, 9, 10]\n"
     ]
    }
   ],
   "source": [
    "number=list(range(1,11))\n",
    "print(number)"
   ]
  },
  {
   "cell_type": "code",
   "execution_count": 50,
   "id": "bffa96ab-6b42-4fe4-acf4-ec7c971fd19d",
   "metadata": {},
   "outputs": [
    {
     "data": {
      "text/plain": [
       "[1, 2, 3, 4, 5, 6, 7, 8, 9, 10]"
      ]
     },
     "execution_count": 50,
     "metadata": {},
     "output_type": "execute_result"
    }
   ],
   "source": [
    "list(range(1,11))\n"
   ]
  },
  {
   "cell_type": "code",
   "execution_count": 1,
   "id": "673db521-697c-43ff-939f-9dc139df49cc",
   "metadata": {},
   "outputs": [
    {
     "name": "stdout",
     "output_type": "stream",
     "text": [
      "[1, 2, 3, 4, 5, 6, 7, 8, 9, 10]\n"
     ]
    }
   ],
   "source": [
    "import math\n",
    "\n",
    "numbers = range(1, 11)\n",
    "cube_roots = list(filter(lambda x: math.pow(x, 1/3), numbers))\n",
    "\n",
    "print(cube_roots)\n"
   ]
  },
  {
   "cell_type": "code",
   "execution_count": 3,
   "id": "e7a9cb78-e2f7-454c-b08c-88ea1bbf2255",
   "metadata": {},
   "outputs": [
    {
     "name": "stdout",
     "output_type": "stream",
     "text": [
      "[1, 4, 9]\n"
     ]
    }
   ],
   "source": [
    "numbers = range(1, 11)\n",
    "squares = list(filter(lambda x: True if x in map(lambda y: y**2, numbers) else False, numbers))\n",
    "print(squares)\n"
   ]
  },
  {
   "cell_type": "code",
   "execution_count": 2,
   "id": "3fcd8083-1cbe-49c5-8ddd-3d055c2091d2",
   "metadata": {},
   "outputs": [
    {
     "name": "stdout",
     "output_type": "stream",
     "text": [
      "[('orange', 80), ('mango', 99), ('grapes', 1000)]\n"
     ]
    }
   ],
   "source": [
    "#  Sort a list of tuples having fruit names and their quantity.\n",
    "# [(\"mango\",99),(\"orange\",80), (\"grapes\", 1000)\n",
    "\n",
    "lis=[(\"mango\",99),(\"orange\",80), (\"grapes\", 1000)]\n",
    "l1=[]\n",
    "for i in lis: # lis mein se tuples ko alag kiya \n",
    "    for j in i:  # tuples se element\n",
    "        if type(j)==int: # elemeent int type ka hai\n",
    "            l1.append(j) # l1 mein  element ko append kar lo\n",
    "            \n",
    "\n",
    "            # l1 ko sort kar rahe\n",
    "l1.sort() # sorted list inside number 80 99 1000\n",
    "\n",
    "\n",
    "l2=[] # ek naya list l2 lete hai jisme sorted tuples daalenge\n",
    "for x in l1: # l1 mein se element ko lete hai 80 99 1000\n",
    "    for p in lis: # lis mein se tuple nikalte hai \n",
    "        for q in p: # tuple se element nikalte hai \n",
    "            if q==x:# wo element mein fruits aur no dono hai\n",
    "                  # agar wo element ka number ye element ka no se milta toh\n",
    "                    # append kar do l2 mein\n",
    "                l2.append(p)\n",
    "print(l2)\n",
    "               \n",
    "                \n",
    "            \n"
   ]
  },
  {
   "cell_type": "code",
   "execution_count": 18,
   "id": "4c773a80-36b9-4488-8e01-307f5b5a8496",
   "metadata": {},
   "outputs": [],
   "source": [
    "#  Sort a list of tuples having fruit names and their quantity.\n",
    "# [(\"mango\",99),(\"orange\",80), (\"grapes\", 1000)\n",
    "\n",
    "\n",
    "def sort_list():\n",
    "    \n",
    "    lis=[(\"mango\",99),(\"orange\",80), (\"grapes\", 1000)]\n",
    "    l1=[]\n",
    "    for i in lis: # lis mein se tuples ko alag kiya \n",
    "        for j in i:  # tuples se element\n",
    "            if type(j)==int: # elemeent int type ka hai\n",
    "                l1.append(j) # l1 mein  element ko append kar lo\n",
    "            \n",
    "\n",
    "            # l1 ko sort kar rahe\n",
    "    l1.sort() # sorted list inside number 80 99 1000\n",
    "\n",
    "\n",
    "    l2=[] # ek naya list l2 lete hai jisme sorted tuples daalenge\n",
    "    for x in l1: # l1 mein se element ko lete hai 80 99 1000\n",
    "        for p in lis: # lis mein se tuple nikalte hai \n",
    "            for q in p: # tuple se element nikalte hai \n",
    "                if q==x:# wo element mein fruits aur no dono hai\n",
    "                  # agar wo element ka number ye element ka no se milta toh\n",
    "                    # append kar do l2 mein\n",
    "                    l2.append(p)\n",
    "\n",
    "    # print(l2)\n",
    "# sort_list()\n",
    "\n",
    "    \n",
    "                result=list(map(sort_list(l2),l))\n",
    "    print(result)\n",
    "\n",
    "               \n",
    "                \n",
    "            \n"
   ]
  },
  {
   "cell_type": "code",
   "execution_count": 34,
   "id": "622eef80-77ef-4f6e-bc77-dbcd483be704",
   "metadata": {},
   "outputs": [
    {
     "name": "stdout",
     "output_type": "stream",
     "text": [
      "[('orange', 80), ('mango', 99), ('grapes', 1000)]\n"
     ]
    }
   ],
   "source": [
    "fruits=[(\"mango\",99),(\"orange\",80), (\"grapes\", 1000)]\n",
    "sort_fruits=sorted(fruits, key=lambda x: x[1])\n",
    "print(sort_fruits)"
   ]
  },
  {
   "cell_type": "code",
   "execution_count": 33,
   "id": "bdd4a9b4-5482-41c9-b73b-1148f5e54b1f",
   "metadata": {},
   "outputs": [
    {
     "ename": "NameError",
     "evalue": "name 'key' is not defined",
     "output_type": "error",
     "traceback": [
      "\u001b[0;31m---------------------------------------------------------------------------\u001b[0m",
      "\u001b[0;31mNameError\u001b[0m                                 Traceback (most recent call last)",
      "Cell \u001b[0;32mIn[33], line 2\u001b[0m\n\u001b[1;32m      1\u001b[0m fruits\u001b[38;5;241m=\u001b[39m[(\u001b[38;5;124m\"\u001b[39m\u001b[38;5;124mmango\u001b[39m\u001b[38;5;124m\"\u001b[39m,\u001b[38;5;241m99\u001b[39m),(\u001b[38;5;124m\"\u001b[39m\u001b[38;5;124morange\u001b[39m\u001b[38;5;124m\"\u001b[39m,\u001b[38;5;241m80\u001b[39m), (\u001b[38;5;124m\"\u001b[39m\u001b[38;5;124mgrapes\u001b[39m\u001b[38;5;124m\"\u001b[39m, \u001b[38;5;241m1000\u001b[39m)]\n\u001b[0;32m----> 2\u001b[0m \u001b[38;5;28mprint\u001b[39m(\u001b[43mkey\u001b[49m\u001b[38;5;241m.\u001b[39mfruits())\n",
      "\u001b[0;31mNameError\u001b[0m: name 'key' is not defined"
     ]
    }
   ],
   "source": [
    "fruits=[(\"mango\",99),(\"orange\",80), (\"grapes\", 1000)]\n",
    "print()"
   ]
  },
  {
   "cell_type": "code",
   "execution_count": 36,
   "id": "cf5b20e0-a8f2-40bd-9061-f0b795457dc0",
   "metadata": {},
   "outputs": [
    {
     "ename": "SyntaxError",
     "evalue": "positional argument follows keyword argument (396195170.py, line 4)",
     "output_type": "error",
     "traceback": [
      "\u001b[0;36m  Cell \u001b[0;32mIn[43], line 4\u001b[0;36m\u001b[0m\n\u001b[0;31m    sort_fruits=list(map(sorted(key=lambda x: x[1],fruits)))\u001b[0m\n\u001b[0m                                                         ^\u001b[0m\n\u001b[0;31mSyntaxError\u001b[0m\u001b[0;31m:\u001b[0m positional argument follows keyword argument\n"
     ]
    }
   ],
   "source": [
    "print(\"List sorted by map function \")    \n",
    "fruits1=[(\"mango\",99),(\"orange\",80), (\"grapes\", 1000)]\n",
    "fruits1.sort()\n",
    "sort_fruits=sorted(list(map(lambda x: x[1],fruits1)))\n",
    "\n",
    "print(sort_fruits)\n",
    "\n",
    "                "
   ]
  },
  {
   "cell_type": "code",
   "execution_count": 37,
   "id": "8c1ce921-bf6a-435d-9b23-f2413cd07265",
   "metadata": {},
   "outputs": [
    {
     "ename": "SyntaxError",
     "evalue": "positional argument follows keyword argument (3916513673.py, line 2)",
     "output_type": "error",
     "traceback": [
      "\u001b[0;36m  Cell \u001b[0;32mIn[44], line 2\u001b[0;36m\u001b[0m\n\u001b[0;31m    sort_fruits=list(map(sorted(fruits, key=lambda x: x[1],fruits)))\u001b[0m\n\u001b[0m                                                                 ^\u001b[0m\n\u001b[0;31mSyntaxError\u001b[0m\u001b[0;31m:\u001b[0m positional argument follows keyword argument\n"
     ]
    }
   ],
   "source": [
    "2\n"
   ]
  },
  {
   "cell_type": "code",
   "execution_count": 48,
   "id": "9175e7f5-2c6e-40a1-af9f-6a64c04fe609",
   "metadata": {},
   "outputs": [
    {
     "name": "stdout",
     "output_type": "stream",
     "text": [
      "\n",
      "List sorted by map function \n",
      "['grapes', 'mango', 'orange']\n"
     ]
    }
   ],
   "source": [
    "print(\"\\nList sorted by map function \")    \n",
    "fruits = [(\"mango\", 99), (\"orange\", 80), (\"grapes\", 1000)]\n",
    "\n",
    "fruit_names = list(map(lambda x: x[0], fruits))\n",
    "fruit_names.sort()\n",
    "print(fruit_names)"
   ]
  },
  {
   "cell_type": "code",
   "execution_count": 49,
   "id": "5304939c-1d88-4cd8-a52c-6a8f22850fe2",
   "metadata": {},
   "outputs": [
    {
     "name": "stdout",
     "output_type": "stream",
     "text": [
      "[('grapes', 1000), ('mango', 99), ('orange', 80)]\n"
     ]
    }
   ],
   "source": [
    "fruits = [(\"mango\", 99), (\"orange\", 80), (\"grapes\", 1000)]\n",
    "\n",
    "sorted_fruits = [x for x in sorted(fruits, key=lambda x: x[0])]\n",
    "\n",
    "print(sorted_fruits)\n"
   ]
  },
  {
   "cell_type": "code",
   "execution_count": 2,
   "id": "e875c25c-0596-4da4-a999-ac188ab85670",
   "metadata": {},
   "outputs": [
    {
     "name": "stdout",
     "output_type": "stream",
     "text": [
      "6\n"
     ]
    }
   ],
   "source": [
    "# function overriding\n",
    "class maths:\n",
    "    def result(self,a,b):\n",
    "        self.a=a\n",
    "        self.b=b\n",
    "        self.c=self.a+self.b\n",
    "        print(self.c)\n",
    "    \n",
    "class mul(maths): #inheritance   \n",
    "    def result(self,a,b):\n",
    "        self.a=a\n",
    "        self.b=b\n",
    "        self.c=self.a*self.b\n",
    "        print(self.c)\n",
    "        \n",
    "result_add=mul()\n",
    "\n",
    "result_add.result(3,2)\n",
    "\n",
    "        "
   ]
  },
  {
   "cell_type": "code",
   "execution_count": 4,
   "id": "4bf91964-64f7-4e9c-96c2-bd6f6c80ccc4",
   "metadata": {},
   "outputs": [
    {
     "name": "stdout",
     "output_type": "stream",
     "text": [
      "6\n"
     ]
    }
   ],
   "source": [
    "class maths:\n",
    "    def result(self,a,b):\n",
    "        self.a=a\n",
    "        self.b=b\n",
    "        self.c=self.a+self.b\n",
    "        print(self.c)\n",
    "        \n",
    "    def result(self,a,b):# value overwrite \n",
    "        self.a=a\n",
    "        self.b=b\n",
    "        self.c=self.a*self.b # so print these\n",
    "        print(self.c)\n",
    "        \n",
    "result_add=maths()\n",
    "\n",
    "result_add.result(3,2)\n",
    "\n",
    "        "
   ]
  },
  {
   "cell_type": "code",
   "execution_count": null,
   "id": "54aa4842-0144-4d9d-8874-674825874ba8",
   "metadata": {},
   "outputs": [],
   "source": []
  }
 ],
 "metadata": {
  "kernelspec": {
   "display_name": "Python 3 (ipykernel)",
   "language": "python",
   "name": "python3"
  },
  "language_info": {
   "codemirror_mode": {
    "name": "ipython",
    "version": 3
   },
   "file_extension": ".py",
   "mimetype": "text/x-python",
   "name": "python",
   "nbconvert_exporter": "python",
   "pygments_lexer": "ipython3",
   "version": "3.10.8"
  }
 },
 "nbformat": 4,
 "nbformat_minor": 5
}
