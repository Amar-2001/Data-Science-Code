{
 "cells": [
  {
   "cell_type": "code",
   "execution_count": 12,
   "id": "af1a7ffe-88dd-4f2d-9a6c-c7490a33c035",
   "metadata": {},
   "outputs": [],
   "source": [
    "# jab bhi hum python mein kuch operatiion karte for example addition, string add etc\n",
    "# toh bydefault wo interally koi na koi funtion call kar raha hota hai jisse interally kisi \n",
    "# ne banay hai \n",
    "# usse hi magic method ya dunder kehte hai \n",
    "\n",
    "# dunder kuch nahi balki \"__function___\" function se pehle aur baad mein underscore hi dunder hai\n",
    "# ***** __init__ bhi dunder hi hai\n",
    "\n",
    "\n",
    "# dunder isliye bolte kyunki iske aage aur piche double underscore laga hai "
   ]
  },
  {
   "cell_type": "code",
   "execution_count": 3,
   "id": "c639d676-f775-4f10-8f96-450cd7837551",
   "metadata": {},
   "outputs": [
    {
     "data": {
      "text/plain": [
       "['__abs__',\n",
       " '__add__',\n",
       " '__and__',\n",
       " '__bool__',\n",
       " '__ceil__',\n",
       " '__class__',\n",
       " '__delattr__',\n",
       " '__dir__',\n",
       " '__divmod__',\n",
       " '__doc__',\n",
       " '__eq__',\n",
       " '__float__',\n",
       " '__floor__',\n",
       " '__floordiv__',\n",
       " '__format__',\n",
       " '__ge__',\n",
       " '__getattribute__',\n",
       " '__getnewargs__',\n",
       " '__gt__',\n",
       " '__hash__',\n",
       " '__index__',\n",
       " '__init__',\n",
       " '__init_subclass__',\n",
       " '__int__',\n",
       " '__invert__',\n",
       " '__le__',\n",
       " '__lshift__',\n",
       " '__lt__',\n",
       " '__mod__',\n",
       " '__mul__',\n",
       " '__ne__',\n",
       " '__neg__',\n",
       " '__new__',\n",
       " '__or__',\n",
       " '__pos__',\n",
       " '__pow__',\n",
       " '__radd__',\n",
       " '__rand__',\n",
       " '__rdivmod__',\n",
       " '__reduce__',\n",
       " '__reduce_ex__',\n",
       " '__repr__',\n",
       " '__rfloordiv__',\n",
       " '__rlshift__',\n",
       " '__rmod__',\n",
       " '__rmul__',\n",
       " '__ror__',\n",
       " '__round__',\n",
       " '__rpow__',\n",
       " '__rrshift__',\n",
       " '__rshift__',\n",
       " '__rsub__',\n",
       " '__rtruediv__',\n",
       " '__rxor__',\n",
       " '__setattr__',\n",
       " '__sizeof__',\n",
       " '__str__',\n",
       " '__sub__',\n",
       " '__subclasshook__',\n",
       " '__truediv__',\n",
       " '__trunc__',\n",
       " '__xor__',\n",
       " 'as_integer_ratio',\n",
       " 'bit_count',\n",
       " 'bit_length',\n",
       " 'conjugate',\n",
       " 'denominator',\n",
       " 'from_bytes',\n",
       " 'imag',\n",
       " 'numerator',\n",
       " 'real',\n",
       " 'to_bytes']"
      ]
     },
     "execution_count": 3,
     "metadata": {},
     "output_type": "execute_result"
    }
   ],
   "source": [
    "dir(int) # int ke saath internally itna sara function kaam karta jisse banaya gaya progrmamer dwara"
   ]
  },
  {
   "cell_type": "code",
   "execution_count": 4,
   "id": "6bdc9b68-a410-4890-a9a5-e11b470dc63d",
   "metadata": {},
   "outputs": [
    {
     "data": {
      "text/plain": [
       "['__add__',\n",
       " '__class__',\n",
       " '__contains__',\n",
       " '__delattr__',\n",
       " '__dir__',\n",
       " '__doc__',\n",
       " '__eq__',\n",
       " '__format__',\n",
       " '__ge__',\n",
       " '__getattribute__',\n",
       " '__getitem__',\n",
       " '__getnewargs__',\n",
       " '__gt__',\n",
       " '__hash__',\n",
       " '__init__',\n",
       " '__init_subclass__',\n",
       " '__iter__',\n",
       " '__le__',\n",
       " '__len__',\n",
       " '__lt__',\n",
       " '__mod__',\n",
       " '__mul__',\n",
       " '__ne__',\n",
       " '__new__',\n",
       " '__reduce__',\n",
       " '__reduce_ex__',\n",
       " '__repr__',\n",
       " '__rmod__',\n",
       " '__rmul__',\n",
       " '__setattr__',\n",
       " '__sizeof__',\n",
       " '__str__',\n",
       " '__subclasshook__',\n",
       " 'capitalize',\n",
       " 'casefold',\n",
       " 'center',\n",
       " 'count',\n",
       " 'encode',\n",
       " 'endswith',\n",
       " 'expandtabs',\n",
       " 'find',\n",
       " 'format',\n",
       " 'format_map',\n",
       " 'index',\n",
       " 'isalnum',\n",
       " 'isalpha',\n",
       " 'isascii',\n",
       " 'isdecimal',\n",
       " 'isdigit',\n",
       " 'isidentifier',\n",
       " 'islower',\n",
       " 'isnumeric',\n",
       " 'isprintable',\n",
       " 'isspace',\n",
       " 'istitle',\n",
       " 'isupper',\n",
       " 'join',\n",
       " 'ljust',\n",
       " 'lower',\n",
       " 'lstrip',\n",
       " 'maketrans',\n",
       " 'partition',\n",
       " 'removeprefix',\n",
       " 'removesuffix',\n",
       " 'replace',\n",
       " 'rfind',\n",
       " 'rindex',\n",
       " 'rjust',\n",
       " 'rpartition',\n",
       " 'rsplit',\n",
       " 'rstrip',\n",
       " 'split',\n",
       " 'splitlines',\n",
       " 'startswith',\n",
       " 'strip',\n",
       " 'swapcase',\n",
       " 'title',\n",
       " 'translate',\n",
       " 'upper',\n",
       " 'zfill']"
      ]
     },
     "execution_count": 4,
     "metadata": {},
     "output_type": "execute_result"
    }
   ],
   "source": [
    "dir(str)"
   ]
  },
  {
   "cell_type": "code",
   "execution_count": null,
   "id": "49abf701-c18f-47a3-92d7-e6d94f38843c",
   "metadata": {},
   "outputs": [],
   "source": [
    "a=100 # a assign to 100"
   ]
  },
  {
   "cell_type": "code",
   "execution_count": 7,
   "id": "d051f26f-c5a0-4092-a02b-4a2ed85ccf8b",
   "metadata": {},
   "outputs": [
    {
     "name": "stdout",
     "output_type": "stream",
     "text": [
      "105\n"
     ]
    }
   ],
   "source": [
    "a+=5\n",
    "print(a)"
   ]
  },
  {
   "cell_type": "code",
   "execution_count": 11,
   "id": "9213c55a-b212-455b-b3da-34f38e74b14c",
   "metadata": {},
   "outputs": [
    {
     "data": {
      "text/plain": [
       "105"
      ]
     },
     "execution_count": 11,
     "metadata": {},
     "output_type": "execute_result"
    }
   ],
   "source": [
    "a.__add__(5) # so jab bhi hum \"+\" ko likhte toh system interally \n",
    "# \"__add__\" function ko call kartea|"
   ]
  },
  {
   "cell_type": "code",
   "execution_count": 13,
   "id": "f8aed6a0-41fa-4433-8a64-fba8458416ee",
   "metadata": {},
   "outputs": [],
   "source": [
    "class pwskills:\n",
    "    def __init__(self):\n",
    "        self.mobile_num=98989498598\n",
    "        "
   ]
  },
  {
   "cell_type": "code",
   "execution_count": 14,
   "id": "b3f8d666-0615-43dd-a42d-ff57af10c785",
   "metadata": {},
   "outputs": [],
   "source": [
    "pw=pwskills()"
   ]
  },
  {
   "cell_type": "code",
   "execution_count": 15,
   "id": "a5873b3a-e71d-4140-94b4-cdbdfaa48b01",
   "metadata": {},
   "outputs": [
    {
     "data": {
      "text/plain": [
       "98989498598"
      ]
     },
     "execution_count": 15,
     "metadata": {},
     "output_type": "execute_result"
    }
   ],
   "source": [
    "pw.mobile_num"
   ]
  },
  {
   "cell_type": "code",
   "execution_count": 18,
   "id": "23af12ab-ef90-408d-9cc7-8ca19817f150",
   "metadata": {},
   "outputs": [],
   "source": [
    "# Proving ki init se pehle bhi kuch call hota hai"
   ]
  },
  {
   "cell_type": "code",
   "execution_count": 31,
   "id": "4b9db6af-276e-4494-8e48-1132976d6e31",
   "metadata": {},
   "outputs": [],
   "source": [
    "\n",
    "class pwskills2:\n",
    "    \n",
    "    def __new__(cls):\n",
    "        print(\"This is new\")\n",
    "    \n",
    "    def __init__(self):\n",
    "        print(\"This is init\")\n",
    "        self.mobile_num=98989498598\n",
    "        "
   ]
  },
  {
   "cell_type": "code",
   "execution_count": 29,
   "id": "7cc59da8-c49f-4b5f-895a-f70584c458ee",
   "metadata": {},
   "outputs": [
    {
     "name": "stdout",
     "output_type": "stream",
     "text": [
      "This is init\n"
     ]
    }
   ],
   "source": [
    "pw=pwskills2() # object banane se saath hi call ho gaya ye "
   ]
  },
  {
   "cell_type": "code",
   "execution_count": 33,
   "id": "b1280e35-dd4b-47c7-988f-a0d6a425934d",
   "metadata": {},
   "outputs": [
    {
     "name": "stdout",
     "output_type": "stream",
     "text": [
      "This is new\n"
     ]
    }
   ],
   "source": [
    "pw2=pwskills2() #proved "
   ]
  },
  {
   "cell_type": "code",
   "execution_count": 17,
   "id": "9d7568d8-8536-4bb6-9b59-182ea2562b33",
   "metadata": {},
   "outputs": [],
   "source": [
    "# here proved that __init__ apne se pehle kuch na kuch call karta hai\n",
    "# jisse ki usko pata chalta taaki init object ke through variable\n",
    "# aur function ko access kara pata"
   ]
  },
  {
   "cell_type": "code",
   "execution_count": 34,
   "id": "3ad74269-0948-4ac4-b7b3-96adc11a0037",
   "metadata": {},
   "outputs": [],
   "source": [
    "# ******************************************************************************************"
   ]
  },
  {
   "cell_type": "code",
   "execution_count": 45,
   "id": "f6929a61-bf0a-455a-9d9b-429aee03c073",
   "metadata": {},
   "outputs": [],
   "source": [
    "# Another example\n",
    "\n",
    "class pwskills3:\n",
    "    def __init__(self):\n",
    "        self.mobile_num=98989498598\n",
    "        \n",
    "    def __str__(self):\n",
    "        return \"This is magic call of str\""
   ]
  },
  {
   "cell_type": "code",
   "execution_count": 46,
   "id": "e79f004a-7292-483d-93ca-3bbb10e09416",
   "metadata": {},
   "outputs": [],
   "source": [
    "obj=pwskills3()"
   ]
  },
  {
   "cell_type": "code",
   "execution_count": 42,
   "id": "5354184d-2cbe-49af-ae3e-b12f51698797",
   "metadata": {},
   "outputs": [
    {
     "data": {
      "text/plain": [
       "<__main__.pwskills3 at 0x7fdaba404fd0>"
      ]
     },
     "execution_count": 42,
     "metadata": {},
     "output_type": "execute_result"
    }
   ],
   "source": [
    "obj"
   ]
  },
  {
   "cell_type": "code",
   "execution_count": 43,
   "id": "49774b62-ac13-49aa-8a95-b7badc287929",
   "metadata": {},
   "outputs": [
    {
     "name": "stdout",
     "output_type": "stream",
     "text": [
      "<__main__.pwskills3 object at 0x7fdaba404fd0>\n"
     ]
    }
   ],
   "source": [
    "print(obj)"
   ]
  },
  {
   "cell_type": "code",
   "execution_count": 47,
   "id": "c5e0cef6-f21e-4df0-9b84-995c03bc4794",
   "metadata": {},
   "outputs": [
    {
     "name": "stdout",
     "output_type": "stream",
     "text": [
      "This is magic call of str\n"
     ]
    }
   ],
   "source": [
    "# After writing dunder function __str__(self)\n",
    "\n",
    "print(obj)"
   ]
  },
  {
   "cell_type": "code",
   "execution_count": 48,
   "id": "470100fe-7d20-418b-b294-2aa3940bae09",
   "metadata": {},
   "outputs": [],
   "source": [
    "# **************************************************"
   ]
  },
  {
   "cell_type": "code",
   "execution_count": 49,
   "id": "624f7521-bacb-4708-8374-3e58fdbd2ff0",
   "metadata": {},
   "outputs": [],
   "source": [
    "# Check ownself"
   ]
  },
  {
   "cell_type": "code",
   "execution_count": 50,
   "id": "f3e85b51-77ff-4d16-ab9c-061ffc127c41",
   "metadata": {},
   "outputs": [
    {
     "data": {
      "text/plain": [
       "['__add__',\n",
       " '__class__',\n",
       " '__class_getitem__',\n",
       " '__contains__',\n",
       " '__delattr__',\n",
       " '__delitem__',\n",
       " '__dir__',\n",
       " '__doc__',\n",
       " '__eq__',\n",
       " '__format__',\n",
       " '__ge__',\n",
       " '__getattribute__',\n",
       " '__getitem__',\n",
       " '__gt__',\n",
       " '__hash__',\n",
       " '__iadd__',\n",
       " '__imul__',\n",
       " '__init__',\n",
       " '__init_subclass__',\n",
       " '__iter__',\n",
       " '__le__',\n",
       " '__len__',\n",
       " '__lt__',\n",
       " '__mul__',\n",
       " '__ne__',\n",
       " '__new__',\n",
       " '__reduce__',\n",
       " '__reduce_ex__',\n",
       " '__repr__',\n",
       " '__reversed__',\n",
       " '__rmul__',\n",
       " '__setattr__',\n",
       " '__setitem__',\n",
       " '__sizeof__',\n",
       " '__str__',\n",
       " '__subclasshook__',\n",
       " 'append',\n",
       " 'clear',\n",
       " 'copy',\n",
       " 'count',\n",
       " 'extend',\n",
       " 'index',\n",
       " 'insert',\n",
       " 'pop',\n",
       " 'remove',\n",
       " 'reverse',\n",
       " 'sort']"
      ]
     },
     "execution_count": 50,
     "metadata": {},
     "output_type": "execute_result"
    }
   ],
   "source": [
    "dir(list)"
   ]
  },
  {
   "cell_type": "code",
   "execution_count": 51,
   "id": "8a4204ed-fca5-4db6-82b1-52923c76580e",
   "metadata": {},
   "outputs": [
    {
     "data": {
      "text/plain": [
       "['__add__',\n",
       " '__class__',\n",
       " '__class_getitem__',\n",
       " '__contains__',\n",
       " '__delattr__',\n",
       " '__dir__',\n",
       " '__doc__',\n",
       " '__eq__',\n",
       " '__format__',\n",
       " '__ge__',\n",
       " '__getattribute__',\n",
       " '__getitem__',\n",
       " '__getnewargs__',\n",
       " '__gt__',\n",
       " '__hash__',\n",
       " '__init__',\n",
       " '__init_subclass__',\n",
       " '__iter__',\n",
       " '__le__',\n",
       " '__len__',\n",
       " '__lt__',\n",
       " '__mul__',\n",
       " '__ne__',\n",
       " '__new__',\n",
       " '__reduce__',\n",
       " '__reduce_ex__',\n",
       " '__repr__',\n",
       " '__rmul__',\n",
       " '__setattr__',\n",
       " '__sizeof__',\n",
       " '__str__',\n",
       " '__subclasshook__',\n",
       " 'count',\n",
       " 'index']"
      ]
     },
     "execution_count": 51,
     "metadata": {},
     "output_type": "execute_result"
    }
   ],
   "source": [
    "dir(tuple)"
   ]
  },
  {
   "cell_type": "code",
   "execution_count": 52,
   "id": "8500c5a6-8d7b-4191-bc27-df19aca2681d",
   "metadata": {},
   "outputs": [
    {
     "name": "stdout",
     "output_type": "stream",
     "text": [
      "(1, 2, 3, 4)\n"
     ]
    }
   ],
   "source": [
    "a=(1,2,3,4)\n",
    "print(a)"
   ]
  },
  {
   "cell_type": "code",
   "execution_count": 57,
   "id": "b6c46b96-aa90-4378-80aa-e3d16d066ef2",
   "metadata": {},
   "outputs": [
    {
     "data": {
      "text/plain": [
       "4"
      ]
     },
     "execution_count": 57,
     "metadata": {},
     "output_type": "execute_result"
    }
   ],
   "source": [
    "len(a) # without dunder"
   ]
  },
  {
   "cell_type": "code",
   "execution_count": 56,
   "id": "cb8c875b-1aa2-4db5-866d-422ad6d36dab",
   "metadata": {},
   "outputs": [
    {
     "data": {
      "text/plain": [
       "4"
      ]
     },
     "execution_count": 56,
     "metadata": {},
     "output_type": "execute_result"
    }
   ],
   "source": [
    "a.__len__() #dunder"
   ]
  },
  {
   "cell_type": "code",
   "execution_count": null,
   "id": "f8f1341c-c189-4f43-89ae-61c6bf06f730",
   "metadata": {},
   "outputs": [],
   "source": []
  }
 ],
 "metadata": {
  "kernelspec": {
   "display_name": "Python 3 (ipykernel)",
   "language": "python",
   "name": "python3"
  },
  "language_info": {
   "codemirror_mode": {
    "name": "ipython",
    "version": 3
   },
   "file_extension": ".py",
   "mimetype": "text/x-python",
   "name": "python",
   "nbconvert_exporter": "python",
   "pygments_lexer": "ipython3",
   "version": "3.10.8"
  }
 },
 "nbformat": 4,
 "nbformat_minor": 5
}
