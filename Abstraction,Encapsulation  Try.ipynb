{
 "cells": [
  {
   "cell_type": "code",
   "execution_count": 1,
   "id": "e610105b-c70e-4276-b7b7-fe4bfc82577e",
   "metadata": {},
   "outputs": [
    {
     "name": "stdout",
     "output_type": "stream",
     "text": [
      "I havve completed assignment 1 of pwskills\n",
      "I havve completed assignment 2 of pwskills\n"
     ]
    }
   ],
   "source": [
    "# Abstraction example\n",
    "\n",
    "import abc\n",
    "class assignment:\n",
    "    @abc.abstractmethod\n",
    "    def assignment_no(self):\n",
    "        pass\n",
    "\n",
    "class assignment_1:\n",
    "    def assignment_no_1(self):\n",
    "        print(\"I havve completed assignment 1 of pwskills\")\n",
    "    \n",
    "\n",
    "class assignment_2:\n",
    "    def assignment_no_2(self):\n",
    "        print(\"I havve completed assignment 2 of pwskills\")\n",
    "    \n",
    "obj1=assignment_1()\n",
    "obj1.assignment_no_1()\n",
    "\n",
    "obj2=assignment_2()\n",
    "obj2.assignment_no_2()"
   ]
  },
  {
   "cell_type": "code",
   "execution_count": 3,
   "id": "a6f38244-84b3-478d-bb01-0156ed39b053",
   "metadata": {},
   "outputs": [
    {
     "name": "stdout",
     "output_type": "stream",
     "text": [
      "I havve completed assignment 1 of pwskills\n",
      "I havve completed assignment 2 of pwskills\n"
     ]
    }
   ],
   "source": [
    "# Abstraction example\n",
    "\n",
    "import abc\n",
    "class assignment:\n",
    "    @abc.abstractmethod\n",
    "    def assignment_no(self):\n",
    "        pass\n",
    "\n",
    "class assignment_1(assignment):# class assignment_1:# same both \n",
    "    def assignment_no_1(self):\n",
    "        print(\"I havve completed assignment 1 of pwskills\")\n",
    "    \n",
    "\n",
    "class assignment_2(assignment):# class assignment_2:# same both \n",
    "    def assignment_no_2(self):\n",
    "        print(\"I havve completed assignment 2 of pwskills\")\n",
    "    \n",
    "obj1=assignment_1()\n",
    "obj1.assignment_no_1()\n",
    "\n",
    "obj2=assignment_2()\n",
    "obj2.assignment_no_2()"
   ]
  },
  {
   "cell_type": "code",
   "execution_count": 7,
   "id": "f3389593-bb2e-413b-bb25-de1d7cefc318",
   "metadata": {},
   "outputs": [
    {
     "name": "stdout",
     "output_type": "stream",
     "text": [
      "I havve completed assignment 1 of pwskills\n",
      "I havve completed assignment 2 of pwskills\n"
     ]
    }
   ],
   "source": [
    "# Abstraction example\n",
    "\n",
    "from abc import ABC\n",
    "class assignment:\n",
    "    \n",
    "    def assignment_no(self):\n",
    "        pass\n",
    "\n",
    "class assignment_1:\n",
    "    def assignment_no_1(self):\n",
    "        print(\"I havve completed assignment 1 of pwskills\")\n",
    "    \n",
    "\n",
    "class assignment_2:\n",
    "    def assignment_no_2(self):\n",
    "        print(\"I havve completed assignment 2 of pwskills\")\n",
    "    \n",
    "obj1=assignment_1()\n",
    "obj1.assignment_no_1()\n",
    "\n",
    "obj2=assignment_2()\n",
    "obj2.assignment_no_2()"
   ]
  },
  {
   "cell_type": "code",
   "execution_count": 8,
   "id": "6e787ec0-6e9d-435a-a67e-a0b40c8c5652",
   "metadata": {},
   "outputs": [
    {
     "name": "stdout",
     "output_type": "stream",
     "text": [
      "I havve completed assignment 1 of pwskills\n",
      "I havve completed assignment 2 of pwskills\n"
     ]
    }
   ],
   "source": [
    "# Abstraction example\n",
    "\n",
    "\n",
    "from abc import ABC\n",
    "\n",
    "class assignment:\n",
    "    @abc.abstractmethod\n",
    "    def assignment_no(self):\n",
    "        pass\n",
    "\n",
    "class assignment_1(assignment):# class assignment_1:# same both \n",
    "    def assignment_no_1(self):\n",
    "        print(\"I havve completed assignment 1 of pwskills\")\n",
    "    \n",
    "\n",
    "class assignment_2(assignment):# class assignment_2:# same both \n",
    "    def assignment_no_2(self):\n",
    "        print(\"I havve completed assignment 2 of pwskills\")\n",
    "    \n",
    "obj1=assignment_1()\n",
    "obj1.assignment_no_1()\n",
    "\n",
    "obj2=assignment_2()\n",
    "obj2.assignment_no_2()"
   ]
  },
  {
   "cell_type": "code",
   "execution_count": 5,
   "id": "ee71efc1-73c0-4411-b05d-2c2265c99ba0",
   "metadata": {},
   "outputs": [
    {
     "ename": "TypeError",
     "evalue": "assignment_1.assignment_no_1() takes 0 positional arguments but 1 was given",
     "output_type": "error",
     "traceback": [
      "\u001b[0;31m---------------------------------------------------------------------------\u001b[0m",
      "\u001b[0;31mTypeError\u001b[0m                                 Traceback (most recent call last)",
      "Cell \u001b[0;32mIn[5], line 19\u001b[0m\n\u001b[1;32m     16\u001b[0m         \u001b[38;5;28mprint\u001b[39m(\u001b[38;5;124m\"\u001b[39m\u001b[38;5;124mI havve completed assignment 2 of pwskills\u001b[39m\u001b[38;5;124m\"\u001b[39m)\n\u001b[1;32m     18\u001b[0m obj1\u001b[38;5;241m=\u001b[39massignment_1()\n\u001b[0;32m---> 19\u001b[0m \u001b[43mobj1\u001b[49m\u001b[38;5;241;43m.\u001b[39;49m\u001b[43massignment_no_1\u001b[49m\u001b[43m(\u001b[49m\u001b[43m)\u001b[49m\n\u001b[1;32m     21\u001b[0m obj2\u001b[38;5;241m=\u001b[39massignment_2()\n\u001b[1;32m     22\u001b[0m obj2\u001b[38;5;241m.\u001b[39massignment_no_2()\n",
      "\u001b[0;31mTypeError\u001b[0m: assignment_1.assignment_no_1() takes 0 positional arguments but 1 was given"
     ]
    }
   ],
   "source": [
    "# Abstraction example\n",
    "\n",
    "import abc\n",
    "class assignment:\n",
    "    @abc.abstractmethod\n",
    "    def assignment_no():\n",
    "        pass\n",
    "\n",
    "class assignment_1:\n",
    "    def assignment_no_1():\n",
    "        print(\"I havve completed assignment 1 of pwskills\")\n",
    "    \n",
    "\n",
    "class assignment_2:\n",
    "    def assignment_no_2():\n",
    "        print(\"I havve completed assignment 2 of pwskills\")\n",
    "    \n",
    "obj1=assignment_1()\n",
    "obj1.assignment_no_1()\n",
    "\n",
    "obj2=assignment_2()\n",
    "obj2.assignment_no_2()\n",
    "\n",
    "\n",
    "# why error if self not given"
   ]
  },
  {
   "cell_type": "code",
   "execution_count": 10,
   "id": "6e63808a-fcfc-4fdc-a495-51b328de9d16",
   "metadata": {},
   "outputs": [
    {
     "data": {
      "text/plain": [
       "'Sudh'"
      ]
     },
     "execution_count": 10,
     "metadata": {},
     "output_type": "execute_result"
    }
   ],
   "source": [
    "# Encapsulation example \n",
    "\n",
    "class pwskills:\n",
    "    def __init__(self,name,city):\n",
    "        self.__name =name\n",
    "        self.__city=city\n",
    "        \n",
    "    \n",
    "    def setValue(self,name,city):\n",
    "        self.__name=name\n",
    "        self.__city=city\n",
    "        \n",
    "    def getValue(self):\n",
    "        return self.__name\n",
    "        return self.__city \n",
    "    \n",
    "obj= pwskills(\"1\",\"2\")\n",
    "obj.setValue(\"Sudh\",\"Gaya\")\n",
    "obj.getValue()\n",
    "\n",
    "\n",
    "        \n",
    "        \n",
    "        \n",
    "        \n",
    "# why only sudh print"
   ]
  },
  {
   "cell_type": "code",
   "execution_count": 15,
   "id": "18609342-7118-4891-a416-d5918a5f1511",
   "metadata": {},
   "outputs": [
    {
     "data": {
      "text/plain": [
       "('Sudh', 'Gaya')"
      ]
     },
     "execution_count": 15,
     "metadata": {},
     "output_type": "execute_result"
    }
   ],
   "source": [
    "# Encapsulation example \n",
    "\n",
    "class pwskills:\n",
    "    def __init__(self,name,city):\n",
    "        self.__name =name\n",
    "        self.__city=city\n",
    "        \n",
    "    \n",
    "    def setValue(self,name,city):\n",
    "        self.__name=name\n",
    "        self.__city=city\n",
    "        \n",
    "    def getValue(self):\n",
    "        return self.__name,self.__city\n",
    "        # return self.__city\n",
    "    \n",
    "obj= pwskills(\"1\",\"2\")\n",
    "obj.setValue(\"Sudh\",\"Gaya\")\n",
    "obj.getValue()\n",
    "\n",
    "# obj.setValue(\"madhu\",\"Gaya\")\n",
    "# obj.getValue()\n",
    "\n",
    "        \n",
    "        \n",
    "        \n",
    "        \n"
   ]
  },
  {
   "cell_type": "code",
   "execution_count": 16,
   "id": "b7277282-3be4-47e4-bb80-dcbf0c6b72cd",
   "metadata": {},
   "outputs": [
    {
     "data": {
      "text/plain": [
       "('madhu', 'Ranchi')"
      ]
     },
     "execution_count": 16,
     "metadata": {},
     "output_type": "execute_result"
    }
   ],
   "source": [
    "obj.setValue(\"madhu\",\"Ranchi\")\n",
    "obj.getValue()"
   ]
  },
  {
   "cell_type": "code",
   "execution_count": null,
   "id": "c1ef9b77-ffe8-4b80-b60a-feea5dd573da",
   "metadata": {},
   "outputs": [],
   "source": []
  }
 ],
 "metadata": {
  "kernelspec": {
   "display_name": "Python 3 (ipykernel)",
   "language": "python",
   "name": "python3"
  },
  "language_info": {
   "codemirror_mode": {
    "name": "ipython",
    "version": 3
   },
   "file_extension": ".py",
   "mimetype": "text/x-python",
   "name": "python",
   "nbconvert_exporter": "python",
   "pygments_lexer": "ipython3",
   "version": "3.10.8"
  }
 },
 "nbformat": 4,
 "nbformat_minor": 5
}
