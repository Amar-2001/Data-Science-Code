{
 "cells": [
  {
   "cell_type": "code",
   "execution_count": null,
   "id": "1321b819-22b5-4186-abb0-692ffe05d2fa",
   "metadata": {},
   "outputs": [],
   "source": [
    "# Exception Handling "
   ]
  },
  {
   "cell_type": "code",
   "execution_count": null,
   "id": "4e7952cd-0cd4-45ac-8630-cfe7e03444bb",
   "metadata": {},
   "outputs": [],
   "source": []
  },
  {
   "cell_type": "code",
   "execution_count": 2,
   "id": "102eb0e3-1de3-44c4-b52d-1cf051329af1",
   "metadata": {},
   "outputs": [
    {
     "ename": "ZeroDivisionError",
     "evalue": "division by zero",
     "output_type": "error",
     "traceback": [
      "\u001b[0;31m---------------------------------------------------------------------------\u001b[0m",
      "\u001b[0;31mZeroDivisionError\u001b[0m                         Traceback (most recent call last)",
      "Cell \u001b[0;32mIn[2], line 2\u001b[0m\n\u001b[1;32m      1\u001b[0m a\u001b[38;5;241m=\u001b[39m\u001b[38;5;241m10\u001b[39m\n\u001b[0;32m----> 2\u001b[0m \u001b[43ma\u001b[49m\u001b[38;5;241;43m/\u001b[39;49m\u001b[38;5;241;43m0\u001b[39;49m\n\u001b[1;32m      4\u001b[0m \u001b[38;5;66;03m# Division by zero error\u001b[39;00m\n",
      "\u001b[0;31mZeroDivisionError\u001b[0m: division by zero"
     ]
    }
   ],
   "source": [
    "a=10\n",
    "a/0\n",
    "\n",
    "# Division by zero error"
   ]
  },
  {
   "cell_type": "code",
   "execution_count": 3,
   "id": "34da7447-d1ff-4791-9d92-c1391024bcff",
   "metadata": {},
   "outputs": [
    {
     "ename": "FileNotFoundError",
     "evalue": "[Errno 2] No such file or directory: 'test.txt'",
     "output_type": "error",
     "traceback": [
      "\u001b[0;31m---------------------------------------------------------------------------\u001b[0m",
      "\u001b[0;31mFileNotFoundError\u001b[0m                         Traceback (most recent call last)",
      "Cell \u001b[0;32mIn[3], line 1\u001b[0m\n\u001b[0;32m----> 1\u001b[0m f\u001b[38;5;241m=\u001b[39m\u001b[38;5;28;43mopen\u001b[39;49m\u001b[43m(\u001b[49m\u001b[38;5;124;43m\"\u001b[39;49m\u001b[38;5;124;43mtest.txt\u001b[39;49m\u001b[38;5;124;43m\"\u001b[39;49m\u001b[43m,\u001b[49m\u001b[38;5;124;43m'\u001b[39;49m\u001b[38;5;124;43mr\u001b[39;49m\u001b[38;5;124;43m'\u001b[39;49m\u001b[43m)\u001b[49m\n",
      "File \u001b[0;32m/opt/conda/lib/python3.10/site-packages/IPython/core/interactiveshell.py:282\u001b[0m, in \u001b[0;36m_modified_open\u001b[0;34m(file, *args, **kwargs)\u001b[0m\n\u001b[1;32m    275\u001b[0m \u001b[38;5;28;01mif\u001b[39;00m file \u001b[38;5;129;01min\u001b[39;00m {\u001b[38;5;241m0\u001b[39m, \u001b[38;5;241m1\u001b[39m, \u001b[38;5;241m2\u001b[39m}:\n\u001b[1;32m    276\u001b[0m     \u001b[38;5;28;01mraise\u001b[39;00m \u001b[38;5;167;01mValueError\u001b[39;00m(\n\u001b[1;32m    277\u001b[0m         \u001b[38;5;124mf\u001b[39m\u001b[38;5;124m\"\u001b[39m\u001b[38;5;124mIPython won\u001b[39m\u001b[38;5;124m'\u001b[39m\u001b[38;5;124mt let you open fd=\u001b[39m\u001b[38;5;132;01m{\u001b[39;00mfile\u001b[38;5;132;01m}\u001b[39;00m\u001b[38;5;124m by default \u001b[39m\u001b[38;5;124m\"\u001b[39m\n\u001b[1;32m    278\u001b[0m         \u001b[38;5;124m\"\u001b[39m\u001b[38;5;124mas it is likely to crash IPython. If you know what you are doing, \u001b[39m\u001b[38;5;124m\"\u001b[39m\n\u001b[1;32m    279\u001b[0m         \u001b[38;5;124m\"\u001b[39m\u001b[38;5;124myou can use builtins\u001b[39m\u001b[38;5;124m'\u001b[39m\u001b[38;5;124m open.\u001b[39m\u001b[38;5;124m\"\u001b[39m\n\u001b[1;32m    280\u001b[0m     )\n\u001b[0;32m--> 282\u001b[0m \u001b[38;5;28;01mreturn\u001b[39;00m \u001b[43mio_open\u001b[49m\u001b[43m(\u001b[49m\u001b[43mfile\u001b[49m\u001b[43m,\u001b[49m\u001b[43m \u001b[49m\u001b[38;5;241;43m*\u001b[39;49m\u001b[43margs\u001b[49m\u001b[43m,\u001b[49m\u001b[43m \u001b[49m\u001b[38;5;241;43m*\u001b[39;49m\u001b[38;5;241;43m*\u001b[39;49m\u001b[43mkwargs\u001b[49m\u001b[43m)\u001b[49m\n",
      "\u001b[0;31mFileNotFoundError\u001b[0m: [Errno 2] No such file or directory: 'test.txt'"
     ]
    }
   ],
   "source": [
    "f=open(\"test.txt\",'r') #FileNotFoundError: [Errno 2] No such file or directory: 'test.txt'\n",
    "print(\"This is my file\") # do not print this line because python line by line syntax chekc\n",
    "                 # karne ke baad hi next line run karta hai so ye sahi hone par bhi run nahi karega\n",
    "    \n",
    "    # look dono statement sahi hai syntax wise but phir bhi error is tarah ke error ko solve\n",
    "    # karne ke liye hi exception handling ka use karte hai "
   ]
  },
  {
   "cell_type": "code",
   "execution_count": 4,
   "id": "23ca8e21-922a-4681-9f44-bc304c71d1ad",
   "metadata": {},
   "outputs": [],
   "source": [
    "# *******************************************"
   ]
  },
  {
   "cell_type": "code",
   "execution_count": 8,
   "id": "35caa83a-1c5a-4ba9-a5f0-ce435ff55ed9",
   "metadata": {},
   "outputs": [
    {
     "name": "stdout",
     "output_type": "stream",
     "text": [
      "This is my except block\n"
     ]
    }
   ],
   "source": [
    "try:\n",
    "    f=open(\"test.txt\",'r')\n",
    "except Exception as e:\n",
    "    print(\"This is my except block\")\n",
    "    \n",
    "# koi bhi error nahi aaya except block chala "
   ]
  },
  {
   "cell_type": "code",
   "execution_count": 9,
   "id": "040f1605-f376-4549-ba6a-a0e3dce0e457",
   "metadata": {},
   "outputs": [
    {
     "name": "stdout",
     "output_type": "stream",
     "text": [
      "This is my except block [Errno 2] No such file or directory: 'test.txt'\n"
     ]
    }
   ],
   "source": [
    "try:\n",
    "    f=open(\"test.txt\",'r')\n",
    "except Exception as e:\n",
    "    print(\"This is my except block\",e)"
   ]
  },
  {
   "cell_type": "code",
   "execution_count": 13,
   "id": "0fcd3547-f6e5-40b0-9b92-94cd46dcfad8",
   "metadata": {},
   "outputs": [
    {
     "name": "stdout",
     "output_type": "stream",
     "text": [
      "This is my except block [Errno 2] No such file or directory: 'test.txt'\n"
     ]
    },
    {
     "data": {
      "text/plain": [
       "9"
      ]
     },
     "execution_count": 13,
     "metadata": {},
     "output_type": "execute_result"
    }
   ],
   "source": [
    "try:\n",
    "    f=open(\"test.txt\",'r')\n",
    "except Exception as e:\n",
    "    print(\"This is my except block\",e)\n",
    "\n",
    "a=4+5\n",
    "a"
   ]
  },
  {
   "cell_type": "code",
   "execution_count": 12,
   "id": "5c91d95e-224f-4e05-8480-f33a560328fc",
   "metadata": {},
   "outputs": [],
   "source": [
    "# ***************************************\n",
    "# if condition true then\n",
    "# **************************************"
   ]
  },
  {
   "cell_type": "code",
   "execution_count": 16,
   "id": "3f73fc8f-a960-4383-b504-740f103e9e5e",
   "metadata": {},
   "outputs": [],
   "source": [
    "try:\n",
    "    f=open(\"test.txt\",'w')\n",
    "    f.write(\"This is my Exception handling test file\")\n",
    "    f.close()\n",
    "except Exception as e:\n",
    "    print(\"This is my except block\",e)"
   ]
  },
  {
   "cell_type": "code",
   "execution_count": 17,
   "id": "d359af17-2dde-4f91-88e1-c78489e2f213",
   "metadata": {},
   "outputs": [],
   "source": [
    "###########################################"
   ]
  },
  {
   "cell_type": "code",
   "execution_count": 18,
   "id": "83116614-97b3-4c52-93bb-55a2406c375e",
   "metadata": {},
   "outputs": [
    {
     "name": "stdout",
     "output_type": "stream",
     "text": [
      "This will be executed when your code will execute without error\n"
     ]
    }
   ],
   "source": [
    "try:\n",
    "    f=open(\"test.txt\",'w')\n",
    "    f.write(\"This is my Exception handling test file\")\n",
    "    f.close()\n",
    "except Exception as e:\n",
    "    print(\"This is my except block\",e)\n",
    "\n",
    "else:\n",
    "    print(\"This will be executed when your code will execute without error\")\n"
   ]
  },
  {
   "cell_type": "code",
   "execution_count": 21,
   "id": "cb56749f-5d1c-4b0b-be6e-2fd5121054ea",
   "metadata": {},
   "outputs": [
    {
     "name": "stdout",
     "output_type": "stream",
     "text": [
      "This is my except block [Errno 2] No such file or directory: 'test1.txt'\n"
     ]
    }
   ],
   "source": [
    "# Showing that else will not execute when condition is False\n",
    "\n",
    "try:\n",
    "    f=open(\"test1.txt\",'r')\n",
    "    f.write(\"This is my Exception handling test file\")\n",
    "    f.close()\n",
    "except Exception as e:\n",
    "    print(\"This is my except block\",e)\n",
    "\n",
    "else:\n",
    "    print(\"This will be executed when your code will execute without error\")\n",
    "\n",
    "    \n",
    "\n",
    "# output : This is my except block [Errno 2] No such file or directory: 'test1.txt'"
   ]
  },
  {
   "cell_type": "code",
   "execution_count": 23,
   "id": "58fb6ddd-5f4f-4465-b1d8-3e5409e4cd8b",
   "metadata": {},
   "outputs": [],
   "source": [
    "# ************************************************\n",
    "# Final \n",
    "#######################################################"
   ]
  },
  {
   "cell_type": "code",
   "execution_count": 26,
   "id": "ac8b2c93-62fd-4ae5-858d-b702a602675c",
   "metadata": {},
   "outputs": [
    {
     "name": "stdout",
     "output_type": "stream",
     "text": [
      "This will execute itself in any postion\n"
     ]
    }
   ],
   "source": [
    "try:\n",
    "    f=open(\"test2.txt\",'w')\n",
    "    f.write(\"This is my Exception Handling test file\")\n",
    "    f.close()\n",
    "\n",
    "finally:\n",
    "    print(\"This will execute itself in any postion\")\n",
    "    \n",
    "# kuch print ho ya na ho but final har conditon mein print hoga \n",
    "# like in database if unable to fetch data from database\n",
    "# in our browser written oops not responding or etc"
   ]
  },
  {
   "cell_type": "code",
   "execution_count": 27,
   "id": "35c76366-7e83-4100-b031-9b90db931ed1",
   "metadata": {},
   "outputs": [],
   "source": [
    "# *******************************************"
   ]
  },
  {
   "cell_type": "code",
   "execution_count": 32,
   "id": "3c6ef738-bf4d-4ce8-abe6-09b60275e619",
   "metadata": {},
   "outputs": [
    {
     "name": "stdout",
     "output_type": "stream",
     "text": [
      "This will execute itself in any postion\n"
     ]
    },
    {
     "ename": "FileNotFoundError",
     "evalue": "[Errno 2] No such file or directory: 'test3.txt'",
     "output_type": "error",
     "traceback": [
      "\u001b[0;31m---------------------------------------------------------------------------\u001b[0m",
      "\u001b[0;31mFileNotFoundError\u001b[0m                         Traceback (most recent call last)",
      "Cell \u001b[0;32mIn[32], line 4\u001b[0m\n\u001b[1;32m      1\u001b[0m \u001b[38;5;66;03m# what if it is wrong \u001b[39;00m\n\u001b[1;32m      3\u001b[0m \u001b[38;5;28;01mtry\u001b[39;00m:\n\u001b[0;32m----> 4\u001b[0m     f\u001b[38;5;241m=\u001b[39m\u001b[38;5;28;43mopen\u001b[39;49m\u001b[43m(\u001b[49m\u001b[38;5;124;43m\"\u001b[39;49m\u001b[38;5;124;43mtest3.txt\u001b[39;49m\u001b[38;5;124;43m\"\u001b[39;49m\u001b[43m,\u001b[49m\u001b[38;5;124;43m'\u001b[39;49m\u001b[38;5;124;43mr\u001b[39;49m\u001b[38;5;124;43m'\u001b[39;49m\u001b[43m)\u001b[49m \u001b[38;5;66;03m# read mode of test 3 which is not available so error\u001b[39;00m\n\u001b[1;32m      5\u001b[0m     f\u001b[38;5;241m.\u001b[39mwrite(\u001b[38;5;124m\"\u001b[39m\u001b[38;5;124mThis is my Exception Handling test file\u001b[39m\u001b[38;5;124m\"\u001b[39m) \u001b[38;5;66;03m# not available and \u001b[39;00m\n\u001b[1;32m      6\u001b[0m     \u001b[38;5;66;03m#                               # we are tring to write on that \u001b[39;00m\n\u001b[1;32m      7\u001b[0m     \u001b[38;5;66;03m#                     # more shocking trying to write on that on read mode \u001b[39;00m\n",
      "File \u001b[0;32m/opt/conda/lib/python3.10/site-packages/IPython/core/interactiveshell.py:282\u001b[0m, in \u001b[0;36m_modified_open\u001b[0;34m(file, *args, **kwargs)\u001b[0m\n\u001b[1;32m    275\u001b[0m \u001b[38;5;28;01mif\u001b[39;00m file \u001b[38;5;129;01min\u001b[39;00m {\u001b[38;5;241m0\u001b[39m, \u001b[38;5;241m1\u001b[39m, \u001b[38;5;241m2\u001b[39m}:\n\u001b[1;32m    276\u001b[0m     \u001b[38;5;28;01mraise\u001b[39;00m \u001b[38;5;167;01mValueError\u001b[39;00m(\n\u001b[1;32m    277\u001b[0m         \u001b[38;5;124mf\u001b[39m\u001b[38;5;124m\"\u001b[39m\u001b[38;5;124mIPython won\u001b[39m\u001b[38;5;124m'\u001b[39m\u001b[38;5;124mt let you open fd=\u001b[39m\u001b[38;5;132;01m{\u001b[39;00mfile\u001b[38;5;132;01m}\u001b[39;00m\u001b[38;5;124m by default \u001b[39m\u001b[38;5;124m\"\u001b[39m\n\u001b[1;32m    278\u001b[0m         \u001b[38;5;124m\"\u001b[39m\u001b[38;5;124mas it is likely to crash IPython. If you know what you are doing, \u001b[39m\u001b[38;5;124m\"\u001b[39m\n\u001b[1;32m    279\u001b[0m         \u001b[38;5;124m\"\u001b[39m\u001b[38;5;124myou can use builtins\u001b[39m\u001b[38;5;124m'\u001b[39m\u001b[38;5;124m open.\u001b[39m\u001b[38;5;124m\"\u001b[39m\n\u001b[1;32m    280\u001b[0m     )\n\u001b[0;32m--> 282\u001b[0m \u001b[38;5;28;01mreturn\u001b[39;00m \u001b[43mio_open\u001b[49m\u001b[43m(\u001b[49m\u001b[43mfile\u001b[49m\u001b[43m,\u001b[49m\u001b[43m \u001b[49m\u001b[38;5;241;43m*\u001b[39;49m\u001b[43margs\u001b[49m\u001b[43m,\u001b[49m\u001b[43m \u001b[49m\u001b[38;5;241;43m*\u001b[39;49m\u001b[38;5;241;43m*\u001b[39;49m\u001b[43mkwargs\u001b[49m\u001b[43m)\u001b[49m\n",
      "\u001b[0;31mFileNotFoundError\u001b[0m: [Errno 2] No such file or directory: 'test3.txt'"
     ]
    }
   ],
   "source": [
    "# what if it is wrong \n",
    "\n",
    "try:\n",
    "    f=open(\"test3.txt\",'r') # read mode of test 3 which is not available so error\n",
    "    f.write(\"This is my Exception Handling test file\") # not available and \n",
    "    #                               # we are tring to write on that \n",
    "    #                     # more shocking trying to write on that on read mode \n",
    "    f.close()\n",
    "\n",
    "finally:\n",
    "    print(\"This will execute itself in any postion\")\n",
    "    \n",
    "# kuch print ho ya na ho but final har conditon mein print hoga \n",
    "# like in database if unable to fetch data from database in our \n",
    "# browser written oops not responding or etc\n",
    "\n",
    "\n",
    "# ouptput: This will execute itself in any postion\n",
    "# means  final block tab bhi execute hua but error aaya ek becuase hum read mode mein\n",
    "# write karne ki koshish kar rahe hai "
   ]
  },
  {
   "cell_type": "code",
   "execution_count": null,
   "id": "b64815bb-9c1b-4acf-8871-5d563f4fe1b5",
   "metadata": {},
   "outputs": [],
   "source": []
  }
 ],
 "metadata": {
  "kernelspec": {
   "display_name": "Python 3 (ipykernel)",
   "language": "python",
   "name": "python3"
  },
  "language_info": {
   "codemirror_mode": {
    "name": "ipython",
    "version": 3
   },
   "file_extension": ".py",
   "mimetype": "text/x-python",
   "name": "python",
   "nbconvert_exporter": "python",
   "pygments_lexer": "ipython3",
   "version": "3.10.8"
  }
 },
 "nbformat": 4,
 "nbformat_minor": 5
}
