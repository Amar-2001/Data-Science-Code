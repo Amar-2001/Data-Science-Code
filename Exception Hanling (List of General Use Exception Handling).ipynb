{
 "cells": [
  {
   "cell_type": "code",
   "execution_count": 1,
   "id": "64971f58-e6ad-4a71-aca7-04387a868a8e",
   "metadata": {},
   "outputs": [],
   "source": [
    "# Python has so much function to handle Exception Handling \n",
    "# Some of them are as follows:"
   ]
  },
  {
   "cell_type": "code",
   "execution_count": 22,
   "id": "726d0ddc-8ce4-42d1-a83d-38fb0af0b9f8",
   "metadata": {},
   "outputs": [
    {
     "name": "stdout",
     "output_type": "stream",
     "text": [
      "division by zero\n"
     ]
    }
   ],
   "source": [
    "# ZeroDivisionError : division by zero \n",
    "\n",
    "try:\n",
    "    a=10/0\n",
    "except ZeroDivisionError as e: # here ZeroDivisionError is a function \n",
    "    print(e)"
   ]
  },
  {
   "cell_type": "code",
   "execution_count": 21,
   "id": "e440f7e0-ce08-448e-b5ea-b4c11dbc4579",
   "metadata": {},
   "outputs": [
    {
     "name": "stdout",
     "output_type": "stream",
     "text": [
      "invalid literal for int() with base 10: 'Sudh'\n"
     ]
    }
   ],
   "source": [
    "# ValueError,TypeError :invalid literal for int() with base 10: 'Sudh'\n",
    "\n",
    "try:\n",
    "    int(\"Sudh\")\n",
    "except (ValueError, TypeError) as e:\n",
    "    print(e)"
   ]
  },
  {
   "cell_type": "code",
   "execution_count": null,
   "id": "4cc4e551-bbbb-4200-abbc-072310e3bd73",
   "metadata": {},
   "outputs": [],
   "source": []
  },
  {
   "cell_type": "code",
   "execution_count": 8,
   "id": "6e99d8f8-d3b0-40c1-9147-c235c49007f0",
   "metadata": {},
   "outputs": [],
   "source": [
    "# NOW ***************************************"
   ]
  },
  {
   "cell_type": "code",
   "execution_count": 10,
   "id": "ff14ab53-3f91-4ef3-a58f-b98dfbf108ca",
   "metadata": {},
   "outputs": [],
   "source": [
    "# Best Definition"
   ]
  },
  {
   "cell_type": "code",
   "execution_count": 18,
   "id": "0b677328-6620-4313-a791-905340bd73d7",
   "metadata": {},
   "outputs": [
    {
     "name": "stdout",
     "output_type": "stream",
     "text": [
      "This will catch an error\n"
     ]
    }
   ],
   "source": [
    "# same as below sirf except likhne par bhi by default \"except Exception\" hi maanta compiler\n",
    "try:\n",
    "    int(\"Sudh\")\n",
    "except:\n",
    "    print(\"This will catch an error\")"
   ]
  },
  {
   "cell_type": "code",
   "execution_count": 19,
   "id": "ea41189a-d27d-4e78-ad1e-75315c9a9bf4",
   "metadata": {},
   "outputs": [
    {
     "name": "stdout",
     "output_type": "stream",
     "text": [
      "This will catch an error\n"
     ]
    }
   ],
   "source": [
    "try:\n",
    "    int(\"Sudh\")\n",
    "except Exception as e:\n",
    "    print(\"This will catch an error\")"
   ]
  },
  {
   "cell_type": "code",
   "execution_count": 20,
   "id": "a38599fc-85bf-496d-8222-cdab24674a69",
   "metadata": {},
   "outputs": [
    {
     "name": "stdout",
     "output_type": "stream",
     "text": [
      "This will catch an error invalid literal for int() with base 10: 'Sudh'\n"
     ]
    }
   ],
   "source": [
    "try:\n",
    "    int(\"Sudh\")\n",
    "except Exception as e:\n",
    "    print(\"This will catch an error\",e)\n",
    "    \n",
    "# Error : invalid literal for int() with base 10: 'Sudh'\n",
    "# this error is same as \"(except ValueError,TypeError as e)\""
   ]
  },
  {
   "cell_type": "code",
   "execution_count": 25,
   "id": "ccb3f6f1-f4ba-4ef5-9572-81ebd325c094",
   "metadata": {},
   "outputs": [
    {
     "name": "stdout",
     "output_type": "stream",
     "text": [
      "No module named 'amar'\n"
     ]
    }
   ],
   "source": [
    "# ImportError : No module named 'amar'\n",
    "\n",
    "try:\n",
    "    import amar\n",
    "except ImportError as e:\n",
    "    print(e)"
   ]
  },
  {
   "cell_type": "code",
   "execution_count": 51,
   "id": "37dee119-92bc-4f9d-acd9-adddb6c6a0aa",
   "metadata": {},
   "outputs": [
    {
     "name": "stdout",
     "output_type": "stream",
     "text": [
      "1\n",
      "1\n"
     ]
    }
   ],
   "source": [
    "try:\n",
    "    d={ \"key\":1,\"key2\":[1,2,3]}\n",
    "    print(d.get(\"key\"))\n",
    "    print(d['key'])\n",
    "except KeyError as e:\n",
    "    print(e)\n",
    " "
   ]
  },
  {
   "cell_type": "code",
   "execution_count": 55,
   "id": "26256a0b-b315-4292-af92-9b88f7343e6a",
   "metadata": {},
   "outputs": [
    {
     "name": "stdout",
     "output_type": "stream",
     "text": [
      "1\n",
      "'key3'\n"
     ]
    }
   ],
   "source": [
    "# KeyError : key3 (print the key which is not present)\n",
    "\n",
    "try:\n",
    "    d={ \"key\":1,\"key2\":[1,2,3]}\n",
    "    print(d.get(\"key\")) # found so print 1\n",
    "    print(d['key3']) # not found key3 so key3 print\n",
    "except KeyError as e:\n",
    "    print(e)\n",
    " "
   ]
  },
  {
   "cell_type": "code",
   "execution_count": 56,
   "id": "b2f3ecc7-5976-4a1a-bae4-6fc624b81aac",
   "metadata": {},
   "outputs": [
    {
     "name": "stdout",
     "output_type": "stream",
     "text": [
      "1\n",
      "1\n"
     ]
    }
   ],
   "source": [
    "# Test this run or not\n",
    "\n",
    "d={ \"key\":1,\"key2\":[1,2,3]}\n",
    "print(d.get(\"key\"))\n",
    "print(d['key'])"
   ]
  },
  {
   "cell_type": "code",
   "execution_count": 70,
   "id": "da7fc976-2206-4d8b-a3ec-c6ffd2dce4f4",
   "metadata": {},
   "outputs": [
    {
     "name": "stdout",
     "output_type": "stream",
     "text": [
      "'str' object has no attribute 'test'\n"
     ]
    }
   ],
   "source": [
    "# AttributeError :'str' object has no attribute 'test'\n",
    "\n",
    "\n",
    "try:\n",
    "    \"sudha\".test()\n",
    "except AttributeError as e:\n",
    "# except Exception as e: # same output\n",
    "    print(e)\n",
    "# finally:\n",
    "#     print(\"This error\")"
   ]
  },
  {
   "cell_type": "code",
   "execution_count": 74,
   "id": "0c832d80-fb09-4911-acdd-e374758da0ec",
   "metadata": {},
   "outputs": [
    {
     "name": "stdout",
     "output_type": "stream",
     "text": [
      "list index out of range\n"
     ]
    }
   ],
   "source": [
    "# IndexError:list index out of range\n",
    "\n",
    "try:\n",
    "    l=[1,2,3,4]\n",
    "    print(l[6]) # list index has range of 3 only\n",
    "except IndexError as e:\n",
    "    print(e)\n",
    "    "
   ]
  },
  {
   "cell_type": "code",
   "execution_count": 76,
   "id": "12dd3c99-b7b2-4d70-8d14-b49aef78a6d0",
   "metadata": {},
   "outputs": [
    {
     "name": "stdout",
     "output_type": "stream",
     "text": [
      "unsupported operand type(s) for +: 'int' and 'str'\n"
     ]
    }
   ],
   "source": [
    "# TypeError:unsupported operand type(s) for +: 'int' and 'str'\n",
    "\n",
    "try:\n",
    "    5+\"Kriti\"\n",
    "except TypeError as e:\n",
    "    print(e)"
   ]
  },
  {
   "cell_type": "code",
   "execution_count": 78,
   "id": "aabc1bc7-2884-4579-a44a-949237eb49ac",
   "metadata": {},
   "outputs": [
    {
     "name": "stdout",
     "output_type": "stream",
     "text": [
      "This is my Exception handling test file\n"
     ]
    }
   ],
   "source": [
    "# FileNotFoundError:\n",
    "\n",
    "try:\n",
    "    with open(\"test.txt\",'r') as f: \n",
    "        print(f.read())# if file found it wll print\n",
    "    \n",
    "except FileNotFoundError as e:\n",
    "    print(e)"
   ]
  },
  {
   "cell_type": "code",
   "execution_count": 80,
   "id": "74f12dff-e347-4fbf-abe4-39d269ebbd32",
   "metadata": {},
   "outputs": [
    {
     "name": "stdout",
     "output_type": "stream",
     "text": [
      "[Errno 2] No such file or directory: 'test0.txt'\n"
     ]
    }
   ],
   "source": [
    "# FileNotFoundError:[Errno 2] No such file or directory: 'test0.txt'\n",
    "\n",
    "try:\n",
    "    with open(\"test0.txt\",'r') as f: \n",
    "        print(f.read())# if file found it wll print if not it will give error\n",
    "    \n",
    "except FileNotFoundError as e:\n",
    "    print(e)"
   ]
  },
  {
   "cell_type": "code",
   "execution_count": 81,
   "id": "b00813ec-9281-4ac7-96b9-71f6bcf195fa",
   "metadata": {},
   "outputs": [
    {
     "data": {
      "text/plain": [
       "['__cause__',\n",
       " '__class__',\n",
       " '__context__',\n",
       " '__delattr__',\n",
       " '__dict__',\n",
       " '__dir__',\n",
       " '__doc__',\n",
       " '__eq__',\n",
       " '__format__',\n",
       " '__ge__',\n",
       " '__getattribute__',\n",
       " '__gt__',\n",
       " '__hash__',\n",
       " '__init__',\n",
       " '__init_subclass__',\n",
       " '__le__',\n",
       " '__lt__',\n",
       " '__ne__',\n",
       " '__new__',\n",
       " '__reduce__',\n",
       " '__reduce_ex__',\n",
       " '__repr__',\n",
       " '__setattr__',\n",
       " '__setstate__',\n",
       " '__sizeof__',\n",
       " '__str__',\n",
       " '__subclasshook__',\n",
       " '__suppress_context__',\n",
       " '__traceback__',\n",
       " 'args',\n",
       " 'with_traceback']"
      ]
     },
     "execution_count": 81,
     "metadata": {},
     "output_type": "execute_result"
    }
   ],
   "source": [
    "dir(Exception) # dir is used to check how many function inside any Module"
   ]
  },
  {
   "cell_type": "code",
   "execution_count": 82,
   "id": "d18da905-d1d1-4e15-8ac4-41901b4e690b",
   "metadata": {},
   "outputs": [
    {
     "data": {
      "text/plain": [
       "['__call__',\n",
       " '__class__',\n",
       " '__delattr__',\n",
       " '__dir__',\n",
       " '__doc__',\n",
       " '__eq__',\n",
       " '__format__',\n",
       " '__ge__',\n",
       " '__getattribute__',\n",
       " '__gt__',\n",
       " '__hash__',\n",
       " '__init__',\n",
       " '__init_subclass__',\n",
       " '__le__',\n",
       " '__lt__',\n",
       " '__module__',\n",
       " '__name__',\n",
       " '__ne__',\n",
       " '__new__',\n",
       " '__qualname__',\n",
       " '__reduce__',\n",
       " '__reduce_ex__',\n",
       " '__repr__',\n",
       " '__self__',\n",
       " '__setattr__',\n",
       " '__sizeof__',\n",
       " '__str__',\n",
       " '__subclasshook__',\n",
       " '__text_signature__']"
      ]
     },
     "execution_count": 82,
     "metadata": {},
     "output_type": "execute_result"
    }
   ],
   "source": [
    "dir(print)"
   ]
  },
  {
   "cell_type": "code",
   "execution_count": 84,
   "id": "84dca3bf-7253-47ee-9935-c551a7fabb41",
   "metadata": {},
   "outputs": [
    {
     "name": "stdout",
     "output_type": "stream",
     "text": [
      "[Errno 2] No such file or directory: 'test0.txt'\n"
     ]
    }
   ],
   "source": [
    "# FileNotFoundError:[Errno 2] No such file or directory: 'test0.txt'\n",
    "# We can write multiple except but remember one thing that \"except Exception as e\" must \n",
    "# be in last\n",
    "\n",
    "\n",
    "try:\n",
    "    with open(\"test0.txt\",'r') as f: \n",
    "        print(f.read())# if file found it wll print if not it will give error\n",
    "    \n",
    "except Exception as e: # always print which is upper\n",
    "    print(e)\n",
    "    \n",
    "except FileNotFoundError as e: # this will not print\n",
    "    print(\"test\",e)"
   ]
  },
  {
   "cell_type": "code",
   "execution_count": 85,
   "id": "c47c5e5a-fd6a-46c3-9388-35cb7747797f",
   "metadata": {},
   "outputs": [
    {
     "name": "stdout",
     "output_type": "stream",
     "text": [
      "test [Errno 2] No such file or directory: 'test0.txt'\n"
     ]
    }
   ],
   "source": [
    "# FileNotFoundError:[Errno 2] No such file or directory: 'test0.txt'\n",
    "\n",
    "try:\n",
    "    with open(\"test0.txt\",'r') as f: \n",
    "        print(f.read())# if file found it wll print if not it will give error\n",
    "\n",
    "except FileNotFoundError as e:  # always print which is upper\n",
    "    print(\"test\",e)\n",
    "except Exception as e:# this will not print\n",
    "    print(e)\n",
    "    \n"
   ]
  },
  {
   "cell_type": "code",
   "execution_count": 91,
   "id": "ccca2133-18c2-4f46-b784-cca9e5cd4e23",
   "metadata": {},
   "outputs": [],
   "source": [
    "# we can write it inside function and classes also \n",
    "\n",
    "def test(file):\n",
    "   \n",
    "\n",
    "    try:\n",
    "        with open(\"test0.txt\",'r') as f: \n",
    "            print(f.read())# if file found it wll print if not it will give error\n",
    "\n",
    "    except FileNotFoundError as e:  # always print which is upper\n",
    "        print(\"test\",e)\n",
    "    except Exception as e:# this will not print\n",
    "        print(e)\n",
    "    \n",
    "# test(file)"
   ]
  },
  {
   "cell_type": "code",
   "execution_count": null,
   "id": "8837d4d7-7b9b-415b-9451-c584478eb1be",
   "metadata": {},
   "outputs": [],
   "source": []
  }
 ],
 "metadata": {
  "kernelspec": {
   "display_name": "Python 3 (ipykernel)",
   "language": "python",
   "name": "python3"
  },
  "language_info": {
   "codemirror_mode": {
    "name": "ipython",
    "version": 3
   },
   "file_extension": ".py",
   "mimetype": "text/x-python",
   "name": "python",
   "nbconvert_exporter": "python",
   "pygments_lexer": "ipython3",
   "version": "3.10.8"
  }
 },
 "nbformat": 4,
 "nbformat_minor": 5
}
