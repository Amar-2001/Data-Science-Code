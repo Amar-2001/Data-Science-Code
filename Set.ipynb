{
 "cells": [
  {
   "cell_type": "code",
   "execution_count": 1,
   "id": "9641c6e4-2fcd-4958-8f34-e1927d1ed4eb",
   "metadata": {},
   "outputs": [],
   "source": [
    "s={}"
   ]
  },
  {
   "cell_type": "code",
   "execution_count": 2,
   "id": "b38b364a-32dc-42d1-a684-7952cf5b8960",
   "metadata": {},
   "outputs": [
    {
     "data": {
      "text/plain": [
       "dict"
      ]
     },
     "execution_count": 2,
     "metadata": {},
     "output_type": "execute_result"
    }
   ],
   "source": [
    "type(s)\n"
   ]
  },
  {
   "cell_type": "code",
   "execution_count": 20,
   "id": "b094f06e-7ab4-4858-bba0-d7d127b444e8",
   "metadata": {},
   "outputs": [],
   "source": [
    "s={1,2,\"Amar\",25+5j,True}"
   ]
  },
  {
   "cell_type": "code",
   "execution_count": 4,
   "id": "2778d788-fcb9-4ee3-8a7b-f3c0e68852e3",
   "metadata": {},
   "outputs": [
    {
     "data": {
      "text/plain": [
       "set"
      ]
     },
     "execution_count": 4,
     "metadata": {},
     "output_type": "execute_result"
    }
   ],
   "source": [
    "type(s)"
   ]
  },
  {
   "cell_type": "code",
   "execution_count": null,
   "id": "40ab29ad-375b-49fc-96ab-4b8b45a5b72c",
   "metadata": {},
   "outputs": [],
   "source": [
    "#2we can't add list to set but tuples"
   ]
  },
  {
   "cell_type": "code",
   "execution_count": 5,
   "id": "29559695-19f5-4c71-bc51-cd8afdbe07fa",
   "metadata": {},
   "outputs": [
    {
     "ename": "TypeError",
     "evalue": "unhashable type: 'list'",
     "output_type": "error",
     "traceback": [
      "\u001b[0;31m---------------------------------------------------------------------------\u001b[0m",
      "\u001b[0;31mTypeError\u001b[0m                                 Traceback (most recent call last)",
      "Cell \u001b[0;32mIn[5], line 1\u001b[0m\n\u001b[0;32m----> 1\u001b[0m s\u001b[38;5;241m=\u001b[39m{\u001b[38;5;241m1\u001b[39m,\u001b[38;5;241m2\u001b[39m,\u001b[38;5;124m\"\u001b[39m\u001b[38;5;124mAmar\u001b[39m\u001b[38;5;124m\"\u001b[39m,\u001b[38;5;241m25\u001b[39m\u001b[38;5;241m+\u001b[39m\u001b[38;5;241m5\u001b[39mj,\u001b[38;5;28;01mTrue\u001b[39;00m,[\u001b[38;5;241m1\u001b[39m,\u001b[38;5;241m22\u001b[39m,\u001b[38;5;241m4.54\u001b[39m]}\n",
      "\u001b[0;31mTypeError\u001b[0m: unhashable type: 'list'"
     ]
    }
   ],
   "source": [
    "s={1,2,\"Amar\",25+5j,True,[1,22,4.54]}"
   ]
  },
  {
   "cell_type": "code",
   "execution_count": 6,
   "id": "3d18d59a-1d6b-45fb-b95d-dc53dd487c52",
   "metadata": {},
   "outputs": [],
   "source": [
    "s={1,2,\"Amar\",25+5j,True,(1,22,4.54)}"
   ]
  },
  {
   "cell_type": "code",
   "execution_count": 7,
   "id": "90932463-9aaa-477c-98f4-144e6e2f57d7",
   "metadata": {},
   "outputs": [
    {
     "data": {
      "text/plain": [
       "{(1, 22, 4.54), (25+5j), 1, 2, 'Amar'}"
      ]
     },
     "execution_count": 7,
     "metadata": {},
     "output_type": "execute_result"
    }
   ],
   "source": [
    "s"
   ]
  },
  {
   "cell_type": "code",
   "execution_count": 8,
   "id": "1818cd9e-f3ea-4ed9-9ddd-1ccf4c22c2f5",
   "metadata": {},
   "outputs": [],
   "source": [
    "# But why we use set because it gives unique element"
   ]
  },
  {
   "cell_type": "code",
   "execution_count": 11,
   "id": "b6c844d7-883b-48dd-b4b1-76a1fa761d57",
   "metadata": {},
   "outputs": [],
   "source": [
    "s2={1,2,2,3,1,1,1,3,1,13,3,3,55,33,\"Amar\",'amar'}\n"
   ]
  },
  {
   "cell_type": "code",
   "execution_count": 12,
   "id": "49bcb3bd-be1c-4c27-88ec-1666745d8a83",
   "metadata": {},
   "outputs": [
    {
     "data": {
      "text/plain": [
       "{1, 13, 2, 3, 33, 55, 'Amar', 'amar'}"
      ]
     },
     "execution_count": 12,
     "metadata": {},
     "output_type": "execute_result"
    }
   ],
   "source": [
    "s2"
   ]
  },
  {
   "cell_type": "code",
   "execution_count": 13,
   "id": "0fe690e8-3bb0-4ba6-bc82-5c2da2dba217",
   "metadata": {},
   "outputs": [],
   "source": [
    "l2=[1,2,2,3,1,1,1,3,1,13,3,3,55,33,\"Amar\",'amar']"
   ]
  },
  {
   "cell_type": "code",
   "execution_count": 14,
   "id": "aa2c4075-09f0-4b72-ac31-173797a31daf",
   "metadata": {},
   "outputs": [
    {
     "data": {
      "text/plain": [
       "{1, 13, 2, 3, 33, 55, 'Amar', 'amar'}"
      ]
     },
     "execution_count": 14,
     "metadata": {},
     "output_type": "execute_result"
    }
   ],
   "source": [
    "set(l2)"
   ]
  },
  {
   "cell_type": "code",
   "execution_count": 15,
   "id": "1cbee130-2686-47b7-834e-bd1ac8925a11",
   "metadata": {},
   "outputs": [],
   "source": [
    "l2=set(l2)# converting list to set\n"
   ]
  },
  {
   "cell_type": "code",
   "execution_count": 16,
   "id": "ca31cbdd-751f-4b37-88a9-2ad15c03e81f",
   "metadata": {},
   "outputs": [
    {
     "data": {
      "text/plain": [
       "{1, 13, 2, 3, 33, 55, 'Amar', 'amar'}"
      ]
     },
     "execution_count": 16,
     "metadata": {},
     "output_type": "execute_result"
    }
   ],
   "source": [
    "l2"
   ]
  },
  {
   "cell_type": "code",
   "execution_count": 19,
   "id": "deaf4253-4d3b-476f-b7ce-6fa5478f7019",
   "metadata": {},
   "outputs": [],
   "source": [
    "l2=list(set(l2))# again converting to list but this time all duplicate has removed\n"
   ]
  },
  {
   "cell_type": "code",
   "execution_count": 18,
   "id": "68086539-6b4b-4bd3-958d-05160d741deb",
   "metadata": {},
   "outputs": [
    {
     "data": {
      "text/plain": [
       "[1, 2, 3, 33, 'amar', 13, 'Amar', 55]"
      ]
     },
     "execution_count": 18,
     "metadata": {},
     "output_type": "execute_result"
    }
   ],
   "source": [
    "l2"
   ]
  },
  {
   "cell_type": "code",
   "execution_count": 27,
   "id": "479b8373-1225-4290-8353-fcb9036331b1",
   "metadata": {},
   "outputs": [],
   "source": [
    "s2={(25+5j), 1, 2, 'Amar',5,3,2,3,2,353,3232}"
   ]
  },
  {
   "cell_type": "code",
   "execution_count": 28,
   "id": "33a5caf8-8b3a-4d98-931a-bafd69654fee",
   "metadata": {},
   "outputs": [
    {
     "data": {
      "text/plain": [
       "{(25+5j), 1, 2, 3, 3232, 353, 5, 'Amar'}"
      ]
     },
     "execution_count": 28,
     "metadata": {},
     "output_type": "execute_result"
    }
   ],
   "source": [
    "s2"
   ]
  },
  {
   "cell_type": "code",
   "execution_count": 29,
   "id": "122f85af-96f7-4a7e-bee3-8a56fdae352c",
   "metadata": {},
   "outputs": [],
   "source": [
    "# proved set do not arrange data in sorting order\n"
   ]
  },
  {
   "cell_type": "code",
   "execution_count": 30,
   "id": "8582e42e-2e9d-480f-87d3-0bddef6da9fb",
   "metadata": {},
   "outputs": [
    {
     "ename": "TypeError",
     "evalue": "'set' object is not subscriptable",
     "output_type": "error",
     "traceback": [
      "\u001b[0;31m---------------------------------------------------------------------------\u001b[0m",
      "\u001b[0;31mTypeError\u001b[0m                                 Traceback (most recent call last)",
      "Cell \u001b[0;32mIn[30], line 1\u001b[0m\n\u001b[0;32m----> 1\u001b[0m \u001b[43ms2\u001b[49m\u001b[43m[\u001b[49m\u001b[38;5;241;43m0\u001b[39;49m\u001b[43m]\u001b[49m\n",
      "\u001b[0;31mTypeError\u001b[0m: 'set' object is not subscriptable"
     ]
    }
   ],
   "source": [
    "s2[0]# we can't get index because set is unordered "
   ]
  },
  {
   "cell_type": "code",
   "execution_count": 32,
   "id": "9d58e518-7b91-4752-91c3-87344b1f2015",
   "metadata": {},
   "outputs": [],
   "source": [
    "s2.add(55)"
   ]
  },
  {
   "cell_type": "code",
   "execution_count": 36,
   "id": "a34dee88-d58e-46ab-8217-71154d140109",
   "metadata": {},
   "outputs": [
    {
     "data": {
      "text/plain": [
       "{(25+5j), 1, 2, 3, 3232, 353, 5, 55, 'Amar'}"
      ]
     },
     "execution_count": 36,
     "metadata": {},
     "output_type": "execute_result"
    }
   ],
   "source": [
    "s2\n"
   ]
  },
  {
   "cell_type": "code",
   "execution_count": 34,
   "id": "f737ddf1-f110-42f0-8f6c-9e9f8ec85b24",
   "metadata": {},
   "outputs": [],
   "source": [
    "s2.add(1)# do not allow duplicate however do not give error run but do not the item"
   ]
  },
  {
   "cell_type": "code",
   "execution_count": 35,
   "id": "49146c56-747f-42ce-bee7-82835f77d749",
   "metadata": {},
   "outputs": [
    {
     "data": {
      "text/plain": [
       "{(25+5j), 1, 2, 3, 3232, 353, 5, 55, 'Amar'}"
      ]
     },
     "execution_count": 35,
     "metadata": {},
     "output_type": "execute_result"
    }
   ],
   "source": [
    "s2\n"
   ]
  },
  {
   "cell_type": "code",
   "execution_count": 39,
   "id": "e1b1973a-ed3d-434c-bd14-fb1d7e9198f2",
   "metadata": {},
   "outputs": [
    {
     "ename": "TypeError",
     "evalue": "'set' object is not subscriptable",
     "output_type": "error",
     "traceback": [
      "\u001b[0;31m---------------------------------------------------------------------------\u001b[0m",
      "\u001b[0;31mTypeError\u001b[0m                                 Traceback (most recent call last)",
      "Cell \u001b[0;32mIn[39], line 1\u001b[0m\n\u001b[0;32m----> 1\u001b[0m \u001b[43ms2\u001b[49m\u001b[43m[\u001b[49m\u001b[38;5;241;43m0\u001b[39;49m\u001b[43m]\u001b[49m\u001b[38;5;66;03m# means set do not have index because it is unindexed\u001b[39;00m\n",
      "\u001b[0;31mTypeError\u001b[0m: 'set' object is not subscriptable"
     ]
    }
   ],
   "source": [
    "s2[0]# means set do not have index because it is unindexed"
   ]
  },
  {
   "cell_type": "code",
   "execution_count": 40,
   "id": "35f259cf-053f-4ec6-a3b2-f42364ea8e7e",
   "metadata": {},
   "outputs": [
    {
     "ename": "TypeError",
     "evalue": "'set' object is not subscriptable",
     "output_type": "error",
     "traceback": [
      "\u001b[0;31m---------------------------------------------------------------------------\u001b[0m",
      "\u001b[0;31mTypeError\u001b[0m                                 Traceback (most recent call last)",
      "Cell \u001b[0;32mIn[40], line 1\u001b[0m\n\u001b[0;32m----> 1\u001b[0m \u001b[43ms2\u001b[49m\u001b[43m[\u001b[49m\u001b[43m:\u001b[49m\u001b[43m:\u001b[49m\u001b[38;5;241;43m-\u001b[39;49m\u001b[38;5;241;43m1\u001b[39;49m\u001b[43m]\u001b[49m\u001b[38;5;66;03m# means set do not have index because it is unindexed\u001b[39;00m\n",
      "\u001b[0;31mTypeError\u001b[0m: 'set' object is not subscriptable"
     ]
    }
   ],
   "source": [
    "s2[::-1]# means set do not have index because it is unindexed"
   ]
  },
  {
   "cell_type": "code",
   "execution_count": 41,
   "id": "695cb695-d736-4223-ae2a-3813a0d8a370",
   "metadata": {},
   "outputs": [
    {
     "ename": "AttributeError",
     "evalue": "'set' object has no attribute 'reverse'",
     "output_type": "error",
     "traceback": [
      "\u001b[0;31m---------------------------------------------------------------------------\u001b[0m",
      "\u001b[0;31mAttributeError\u001b[0m                            Traceback (most recent call last)",
      "Cell \u001b[0;32mIn[41], line 1\u001b[0m\n\u001b[0;32m----> 1\u001b[0m \u001b[43ms2\u001b[49m\u001b[38;5;241;43m.\u001b[39;49m\u001b[43mreverse\u001b[49m()\n",
      "\u001b[0;31mAttributeError\u001b[0m: 'set' object has no attribute 'reverse'"
     ]
    }
   ],
   "source": [
    "s2.reverse()# because is unindexed"
   ]
  },
  {
   "cell_type": "code",
   "execution_count": 42,
   "id": "b46b351f-21a3-4900-8107-96e3d1ff0966",
   "metadata": {},
   "outputs": [],
   "source": [
    "s2.add(555)"
   ]
  },
  {
   "cell_type": "code",
   "execution_count": 43,
   "id": "2ff285d4-64e0-444f-83d8-157b714cf4b4",
   "metadata": {},
   "outputs": [
    {
     "data": {
      "text/plain": [
       "{(25+5j), 1, 2, 3, 3232, 353, 5, 55, 555, 'Amar'}"
      ]
     },
     "execution_count": 43,
     "metadata": {},
     "output_type": "execute_result"
    }
   ],
   "source": [
    "s2"
   ]
  },
  {
   "cell_type": "code",
   "execution_count": 44,
   "id": "779eda4d-b171-4474-911c-2040987895a2",
   "metadata": {},
   "outputs": [],
   "source": [
    "s2.remove(555)\n"
   ]
  },
  {
   "cell_type": "code",
   "execution_count": 45,
   "id": "ccd14121-247c-4ce0-9202-c7086966bee1",
   "metadata": {},
   "outputs": [
    {
     "data": {
      "text/plain": [
       "{(25+5j), 1, 2, 3, 3232, 353, 5, 55, 'Amar'}"
      ]
     },
     "execution_count": 45,
     "metadata": {},
     "output_type": "execute_result"
    }
   ],
   "source": [
    "s2"
   ]
  },
  {
   "cell_type": "code",
   "execution_count": null,
   "id": "3cd260d0-9d70-40a3-b771-0b84a7e404e4",
   "metadata": {},
   "outputs": [],
   "source": []
  }
 ],
 "metadata": {
  "kernelspec": {
   "display_name": "Python 3 (ipykernel)",
   "language": "python",
   "name": "python3"
  },
  "language_info": {
   "codemirror_mode": {
    "name": "ipython",
    "version": 3
   },
   "file_extension": ".py",
   "mimetype": "text/x-python",
   "name": "python",
   "nbconvert_exporter": "python",
   "pygments_lexer": "ipython3",
   "version": "3.10.8"
  }
 },
 "nbformat": 4,
 "nbformat_minor": 5
}
