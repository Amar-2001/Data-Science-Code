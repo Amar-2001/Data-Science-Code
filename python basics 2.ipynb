{
 "cells": [
  {
   "cell_type": "code",
   "execution_count": 1,
   "id": "f86c765e-879f-4a35-8870-4c64ff52bb59",
   "metadata": {},
   "outputs": [
    {
     "name": "stdout",
     "output_type": "stream",
     "text": [
      "Preeti will call me at 5 o clock in the evening today\n"
     ]
    }
   ],
   "source": [
    "print(\"Preeti will call me at 5 o clock in the evening today\")"
   ]
  },
  {
   "cell_type": "code",
   "execution_count": 3,
   "id": "06cf40fa-6222-49ec-ba9f-d20ff4fac899",
   "metadata": {},
   "outputs": [],
   "source": [
    "a=\"Pwskills\""
   ]
  },
  {
   "cell_type": "code",
   "execution_count": 5,
   "id": "366ba0c5-6bfd-498b-9d7a-dfb7f8bbb72f",
   "metadata": {},
   "outputs": [
    {
     "data": {
      "text/plain": [
       "'Pwskills'"
      ]
     },
     "execution_count": 5,
     "metadata": {},
     "output_type": "execute_result"
    }
   ],
   "source": [
    "a"
   ]
  },
  {
   "cell_type": "code",
   "execution_count": 4,
   "id": "d7887f98-c5eb-4bd7-bbd6-97add3909155",
   "metadata": {},
   "outputs": [
    {
     "data": {
      "text/plain": [
       "'s'"
      ]
     },
     "execution_count": 4,
     "metadata": {},
     "output_type": "execute_result"
    }
   ],
   "source": [
    "a[2]"
   ]
  },
  {
   "cell_type": "code",
   "execution_count": 5,
   "id": "de9583d9-1358-45d7-85f0-b38c4f0d337b",
   "metadata": {},
   "outputs": [
    {
     "data": {
      "text/plain": [
       "'s'"
      ]
     },
     "execution_count": 5,
     "metadata": {},
     "output_type": "execute_result"
    }
   ],
   "source": [
    "a[-1]"
   ]
  },
  {
   "cell_type": "code",
   "execution_count": 6,
   "id": "6b8cba77-da3b-42a9-bad1-55319a41baf8",
   "metadata": {},
   "outputs": [
    {
     "data": {
      "text/plain": [
       "'Pwskills'"
      ]
     },
     "execution_count": 6,
     "metadata": {},
     "output_type": "execute_result"
    }
   ],
   "source": [
    "a[0:]"
   ]
  },
  {
   "cell_type": "code",
   "execution_count": 7,
   "id": "ac375587-5393-4cb8-8345-8af5b323eb2f",
   "metadata": {},
   "outputs": [
    {
     "data": {
      "text/plain": [
       "'Pwskill'"
      ]
     },
     "execution_count": 7,
     "metadata": {},
     "output_type": "execute_result"
    }
   ],
   "source": [
    "a[:7]"
   ]
  },
  {
   "cell_type": "code",
   "execution_count": 8,
   "id": "1373ce4f-b839-4338-813c-874f29e4253e",
   "metadata": {},
   "outputs": [
    {
     "data": {
      "text/plain": [
       "'Pw'"
      ]
     },
     "execution_count": 8,
     "metadata": {},
     "output_type": "execute_result"
    }
   ],
   "source": [
    "a[0:2]"
   ]
  },
  {
   "cell_type": "code",
   "execution_count": 9,
   "id": "50c12864-c979-4bbb-b16a-f9fc0319bcf9",
   "metadata": {},
   "outputs": [
    {
     "data": {
      "text/plain": [
       "'Pws'"
      ]
     },
     "execution_count": 9,
     "metadata": {},
     "output_type": "execute_result"
    }
   ],
   "source": [
    "a[0:3]"
   ]
  },
  {
   "cell_type": "code",
   "execution_count": 12,
   "id": "158894e4-4499-4e01-a1c5-cb3081cd111e",
   "metadata": {},
   "outputs": [
    {
     "data": {
      "text/plain": [
       "'Psil'"
      ]
     },
     "execution_count": 12,
     "metadata": {},
     "output_type": "execute_result"
    }
   ],
   "source": [
    "a[0:8:2]# last wala jump ke liye "
   ]
  },
  {
   "cell_type": "code",
   "execution_count": 13,
   "id": "88567742-2e7f-4bd4-b040-ad7929027a4b",
   "metadata": {},
   "outputs": [
    {
     "data": {
      "text/plain": [
       "'Psil'"
      ]
     },
     "execution_count": 13,
     "metadata": {},
     "output_type": "execute_result"
    }
   ],
   "source": [
    "a[::2]# didn't define start and last index it automatically understand"
   ]
  },
  {
   "cell_type": "code",
   "execution_count": 15,
   "id": "c4f2818c-7971-4c89-a8f5-afd18641614d",
   "metadata": {},
   "outputs": [
    {
     "ename": "ValueError",
     "evalue": "slice step cannot be zero",
     "output_type": "error",
     "traceback": [
      "\u001b[0;31m---------------------------------------------------------------------------\u001b[0m",
      "\u001b[0;31mValueError\u001b[0m                                Traceback (most recent call last)",
      "Cell \u001b[0;32mIn[15], line 1\u001b[0m\n\u001b[0;32m----> 1\u001b[0m \u001b[43ma\u001b[49m\u001b[43m[\u001b[49m\u001b[38;5;241;43m0\u001b[39;49m\u001b[43m:\u001b[49m\u001b[43m:\u001b[49m\u001b[38;5;241;43m0\u001b[39;49m\u001b[43m]\u001b[49m\n",
      "\u001b[0;31mValueError\u001b[0m: slice step cannot be zero"
     ]
    }
   ],
   "source": [
    "a[0::0]# slice step can never be zero means 0 step chalega toh aage kaise badhega"
   ]
  },
  {
   "cell_type": "code",
   "execution_count": 21,
   "id": "5609cfc4-8a0b-4b6e-b47a-2ede30771575",
   "metadata": {},
   "outputs": [
    {
     "data": {
      "text/plain": [
       "'sllikswP'"
      ]
     },
     "execution_count": 21,
     "metadata": {},
     "output_type": "execute_result"
    }
   ],
   "source": [
    "a[::-1]"
   ]
  },
  {
   "cell_type": "code",
   "execution_count": 6,
   "id": "7499c2d3-d2f2-491c-9fd9-2325c8ac26fa",
   "metadata": {},
   "outputs": [
    {
     "data": {
      "text/plain": [
       "'slkw'"
      ]
     },
     "execution_count": 6,
     "metadata": {},
     "output_type": "execute_result"
    }
   ],
   "source": [
    "a[::-2]"
   ]
  },
  {
   "cell_type": "code",
   "execution_count": 11,
   "id": "cc3d0cb7-5c66-427f-a0a9-bbaadbd23695",
   "metadata": {},
   "outputs": [
    {
     "data": {
      "text/plain": [
       "''"
      ]
     },
     "execution_count": 11,
     "metadata": {},
     "output_type": "execute_result"
    }
   ],
   "source": [
    "a[0:8:-1]# because ye spelling 0 se 8 hai but hum try kar rahe -1 jo ki 0 se pehle aata hai waha jaane ka so blank Output "
   ]
  },
  {
   "cell_type": "code",
   "execution_count": 12,
   "id": "546ee86f-90a8-4b1e-b913-3acee56e299b",
   "metadata": {},
   "outputs": [
    {
     "data": {
      "text/plain": [
       "''"
      ]
     },
     "execution_count": 12,
     "metadata": {},
     "output_type": "execute_result"
    }
   ],
   "source": [
    "a[2:7:-1]"
   ]
  },
  {
   "cell_type": "code",
   "execution_count": 22,
   "id": "1e68e099-e10c-4ced-a84b-645b4e5ebbb1",
   "metadata": {},
   "outputs": [
    {
     "data": {
      "text/plain": [
       "''"
      ]
     },
     "execution_count": 22,
     "metadata": {},
     "output_type": "execute_result"
    }
   ],
   "source": [
    "a[8:0]# blank because by default jump 1 hota hai aur 8 ke baad 9 10 aata 0 nahi isliye  blank output"
   ]
  },
  {
   "cell_type": "code",
   "execution_count": 27,
   "id": "aa452dfb-339c-4876-8765-cd4e420a9098",
   "metadata": {},
   "outputs": [
    {
     "data": {
      "text/plain": [
       "'slliksw'"
      ]
     },
     "execution_count": 27,
     "metadata": {},
     "output_type": "execute_result"
    }
   ],
   "source": [
    "a[8:0:-1]\n"
   ]
  },
  {
   "cell_type": "code",
   "execution_count": 28,
   "id": "bec1497e-ec23-413b-8c57-754af3ec284e",
   "metadata": {},
   "outputs": [
    {
     "data": {
      "text/plain": [
       "''"
      ]
     },
     "execution_count": 28,
     "metadata": {},
     "output_type": "execute_result"
    }
   ],
   "source": [
    "a[-2:-8:1] # because -2 se -8 -1 ghat raha na +1 add thodi ho raha\n"
   ]
  },
  {
   "cell_type": "code",
   "execution_count": 29,
   "id": "f9a447bb-6522-49e2-991d-3ad397d5ad34",
   "metadata": {},
   "outputs": [
    {
     "data": {
      "text/plain": [
       "'lliksw'"
      ]
     },
     "execution_count": 29,
     "metadata": {},
     "output_type": "execute_result"
    }
   ],
   "source": [
    "a[-2:-8:-1]"
   ]
  },
  {
   "cell_type": "code",
   "execution_count": 32,
   "id": "bc5eca62-a98a-43e9-8800-6e83199e732c",
   "metadata": {},
   "outputs": [
    {
     "data": {
      "text/plain": [
       "'llikswP'"
      ]
     },
     "execution_count": 32,
     "metadata": {},
     "output_type": "execute_result"
    }
   ],
   "source": [
    "a[-2::-1]"
   ]
  },
  {
   "cell_type": "code",
   "execution_count": 33,
   "id": "a24e854c-f0c0-402f-bfdb-9357d8d77868",
   "metadata": {},
   "outputs": [
    {
     "data": {
      "text/plain": [
       "'Pwskills'"
      ]
     },
     "execution_count": 33,
     "metadata": {},
     "output_type": "execute_result"
    }
   ],
   "source": [
    "a[::]#because ye starting se last tak auto detect kar leta"
   ]
  },
  {
   "cell_type": "code",
   "execution_count": 34,
   "id": "37996ead-2fc3-4e85-b662-22a5eb5c32e8",
   "metadata": {},
   "outputs": [
    {
     "ename": "IndexError",
     "evalue": "string index out of range",
     "output_type": "error",
     "traceback": [
      "\u001b[0;31m---------------------------------------------------------------------------\u001b[0m",
      "\u001b[0;31mIndexError\u001b[0m                                Traceback (most recent call last)",
      "Cell \u001b[0;32mIn[34], line 1\u001b[0m\n\u001b[0;32m----> 1\u001b[0m \u001b[43ma\u001b[49m\u001b[43m[\u001b[49m\u001b[38;5;241;43m90\u001b[39;49m\u001b[43m]\u001b[49m\n",
      "\u001b[0;31mIndexError\u001b[0m: string index out of range"
     ]
    }
   ],
   "source": [
    "a[90]#gives error because out of range"
   ]
  },
  {
   "cell_type": "code",
   "execution_count": 35,
   "id": "a98191fb-5372-47fa-81fe-6bbc7d872b64",
   "metadata": {},
   "outputs": [
    {
     "data": {
      "text/plain": [
       "''"
      ]
     },
     "execution_count": 35,
     "metadata": {},
     "output_type": "execute_result"
    }
   ],
   "source": [
    "a[:-90:]# blank because starting from -1 to -90 but by default +1 aage badh raha -1 se jo ki possible nahi hai kyun ki -1+1=0 again 0+1=1 and so on"
   ]
  },
  {
   "cell_type": "code",
   "execution_count": 36,
   "id": "e29cd536-5e59-4e7d-b368-b7c4816755c1",
   "metadata": {},
   "outputs": [
    {
     "data": {
      "text/plain": [
       "'sllikswP'"
      ]
     },
     "execution_count": 36,
     "metadata": {},
     "output_type": "execute_result"
    }
   ],
   "source": [
    "a[:-90:-1]# ye full output dega kyunki -1 se -90 aur jump -1 "
   ]
  },
  {
   "cell_type": "code",
   "execution_count": 37,
   "id": "e2be0237-b24e-4d55-b738-f139be156642",
   "metadata": {},
   "outputs": [
    {
     "data": {
      "text/plain": [
       "'sllikswP'"
      ]
     },
     "execution_count": 37,
     "metadata": {},
     "output_type": "execute_result"
    }
   ],
   "source": [
    "a[:-9999:-1]# -1 se -9 tak hi hai full string uske aage kitna bhi de do wo toh wahi tak na yaani full string ko print karega"
   ]
  },
  {
   "cell_type": "code",
   "execution_count": null,
   "id": "9a269ac0-af17-4f34-b4db-edb1963cf6b0",
   "metadata": {},
   "outputs": [],
   "source": []
  }
 ],
 "metadata": {
  "kernelspec": {
   "display_name": "Python 3 (ipykernel)",
   "language": "python",
   "name": "python3"
  },
  "language_info": {
   "codemirror_mode": {
    "name": "ipython",
    "version": 3
   },
   "file_extension": ".py",
   "mimetype": "text/x-python",
   "name": "python",
   "nbconvert_exporter": "python",
   "pygments_lexer": "ipython3",
   "version": "3.10.8"
  }
 },
 "nbformat": 4,
 "nbformat_minor": 5
}
