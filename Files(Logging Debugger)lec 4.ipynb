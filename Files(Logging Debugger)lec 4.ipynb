{
 "cells": [
  {
   "cell_type": "code",
   "execution_count": 74,
   "id": "9953ef7e-a0c9-4b9b-b7b5-cc710cc6bd6c",
   "metadata": {},
   "outputs": [],
   "source": [
    "# Jab hum print karte hai tab wah console mein run hota hai \n",
    "# kuch error bhi aata hai toh console mein hi \n",
    "# but hum usse find nahi kar sakte future mein \n",
    "# as we see in jupiter notebook kisi code ko run karne ke baad \n",
    "# uske pehkle ya baafd wala code mein changes ho jata i have exprienced this is jupiter notebook\n",
    "\n",
    "\n",
    "# Logging module ek file banakar usko save kar lega taaki future mein dekh sake usko\n",
    "#  ye harddisk mein store ho jata for a very very long time\n",
    "\n",
    "# jo bhi hum log phone mein karte app use karte samay koi button nahi kaam kar raha,\n",
    "# koi app open nahi ho raha , koi app purchase nahi ho raha \n",
    "# agar phone mein koi video play nahi ho raha, phone mein koi warning aa raha ,koi error \n",
    "# aa  raha , etc ye sab ek \"LOGGING\" ke roop mein execute aur store ho raha \n",
    "# may be in the form of info, warning , critical ,error etc \n",
    "# It is very good for future investigation \n",
    "# So sapath yourself from now you will use logging instead of print\n"
   ]
  },
  {
   "cell_type": "code",
   "execution_count": 75,
   "id": "f238d84c-4961-49c4-adf4-c6cdc4786fe4",
   "metadata": {},
   "outputs": [
    {
     "name": "stdout",
     "output_type": "stream",
     "text": [
      "This is my print\n"
     ]
    }
   ],
   "source": [
    "print(\"This is my print\")"
   ]
  },
  {
   "cell_type": "code",
   "execution_count": 104,
   "id": "54d8873b-981b-4c30-8d97-02c0221436d1",
   "metadata": {},
   "outputs": [],
   "source": [
    "# use loggiging instead of print\n",
    "\n",
    "import logging\n",
    "logging.basicConfig(filename= \"test.log\",level=logging.INFO)#level=logging.INFO set hai \n",
    "                  # matlab INFO aur uske neeche ke lables ko access kar sakte hai \n",
    "logging.info(\"Log this line of execution\\n\")\n",
    "logging.info(\"This is my print\")\n"
   ]
  },
  {
   "cell_type": "code",
   "execution_count": 105,
   "id": "edc23710-040f-4e7e-b1c4-8d3b7b1ce7d8",
   "metadata": {},
   "outputs": [],
   "source": [
    "# # In Logging there are multiple labels\n",
    "\n",
    "# 1.NOTSET\n",
    "# 2.DEBUG\n",
    "# 3.INFO\n",
    "# 4.WARNING \n",
    "# 5.ERROR\n",
    "# 6.CRITICAL\n",
    "\n",
    "# Agar hum INFO likhe toh INFO aur uske niche ke sabhi labels ko access kar sakte hai \n",
    "# but uske upar ke labels ko nahi "
   ]
  },
  {
   "cell_type": "code",
   "execution_count": 106,
   "id": "6f66d050-dfe1-4e91-b5b9-6d0ec324c06b",
   "metadata": {},
   "outputs": [],
   "source": [
    "# Showing that \n",
    "\n",
    "# Agar hum INFO likhe toh INFO aur uske niche ke sabhi labels ko access kar sakte hai \n",
    "# but uske upar ke labels ko nahi \n",
    "\n",
    "logging.info(\"This is an information\")"
   ]
  },
  {
   "cell_type": "code",
   "execution_count": 107,
   "id": "b1442c97-a0e4-4e98-95dc-82973afaca9a",
   "metadata": {},
   "outputs": [],
   "source": [
    "logging.warning(\"This is warning message\")"
   ]
  },
  {
   "cell_type": "code",
   "execution_count": 108,
   "id": "7fb05562-0013-4145-965a-103113211bf7",
   "metadata": {},
   "outputs": [],
   "source": [
    "logging.error(\"This is error message\")"
   ]
  },
  {
   "cell_type": "code",
   "execution_count": 131,
   "id": "9940b2da-0bc4-4b1b-98a5-52f570785592",
   "metadata": {},
   "outputs": [],
   "source": [
    "logging.critical(\"This is a critical message\")"
   ]
  },
  {
   "cell_type": "code",
   "execution_count": 174,
   "id": "e86bc212-ed55-4961-8962-edb8ec453a4c",
   "metadata": {},
   "outputs": [],
   "source": [
    "logging.info(\"This is finish\")"
   ]
  },
  {
   "cell_type": "code",
   "execution_count": 175,
   "id": "1303e48c-477c-482e-84dc-d7f205dc69cc",
   "metadata": {},
   "outputs": [],
   "source": [
    "logging.shutdown()"
   ]
  },
  {
   "cell_type": "code",
   "execution_count": 99,
   "id": "46159096-ac78-4176-8bd9-bd388e924af3",
   "metadata": {},
   "outputs": [],
   "source": [
    "# *******************************************************"
   ]
  },
  {
   "cell_type": "code",
   "execution_count": 171,
   "id": "69d44d9e-0629-4a80-a6b7-d414d321a856",
   "metadata": {},
   "outputs": [],
   "source": []
  },
  {
   "cell_type": "code",
   "execution_count": null,
   "id": "aed4edbb-24f5-487d-b4b1-62573353e33a",
   "metadata": {},
   "outputs": [],
   "source": []
  },
  {
   "cell_type": "code",
   "execution_count": null,
   "id": "fe58a95d-9760-42d4-8851-74f9613aef0d",
   "metadata": {},
   "outputs": [],
   "source": []
  },
  {
   "cell_type": "code",
   "execution_count": null,
   "id": "2379641e-1449-46f8-a697-ea98345a888d",
   "metadata": {},
   "outputs": [],
   "source": []
  },
  {
   "cell_type": "code",
   "execution_count": null,
   "id": "5210b53e-bd98-4c48-801b-935ab43dc449",
   "metadata": {},
   "outputs": [],
   "source": []
  },
  {
   "cell_type": "code",
   "execution_count": null,
   "id": "bdc20f9b-b9fa-4e93-98e6-d4a7eb48806b",
   "metadata": {},
   "outputs": [],
   "source": []
  },
  {
   "cell_type": "code",
   "execution_count": null,
   "id": "3cf541dd-d79a-4355-873a-53dca694fb1b",
   "metadata": {},
   "outputs": [],
   "source": []
  },
  {
   "cell_type": "code",
   "execution_count": null,
   "id": "0829c94e-0c1b-4a11-b6ac-802ac70b74c5",
   "metadata": {},
   "outputs": [],
   "source": []
  },
  {
   "cell_type": "code",
   "execution_count": null,
   "id": "5c78f41c-d25e-4e01-bdcc-7763afc69f33",
   "metadata": {},
   "outputs": [],
   "source": []
  },
  {
   "cell_type": "code",
   "execution_count": null,
   "id": "f1b7950b-84de-47ac-b161-a78f5827cbd6",
   "metadata": {},
   "outputs": [],
   "source": []
  },
  {
   "cell_type": "code",
   "execution_count": null,
   "id": "9f05038d-eca8-4bbc-9ccd-5a024f880d63",
   "metadata": {},
   "outputs": [],
   "source": []
  },
  {
   "cell_type": "code",
   "execution_count": null,
   "id": "fa601f22-f748-4b8e-ba59-3cdd64c6650e",
   "metadata": {},
   "outputs": [],
   "source": []
  },
  {
   "cell_type": "code",
   "execution_count": null,
   "id": "21cdf94c-1f73-4532-93e7-3ba559de1dac",
   "metadata": {},
   "outputs": [],
   "source": []
  },
  {
   "cell_type": "code",
   "execution_count": null,
   "id": "2da5e147-3b76-4ab4-bb62-00689fb965f2",
   "metadata": {},
   "outputs": [],
   "source": []
  },
  {
   "cell_type": "code",
   "execution_count": null,
   "id": "d532842f-58cc-4cbf-9cb9-b97d339964d7",
   "metadata": {},
   "outputs": [],
   "source": []
  },
  {
   "cell_type": "code",
   "execution_count": null,
   "id": "d227da39-235a-4c4d-8514-b0745c48273d",
   "metadata": {},
   "outputs": [],
   "source": []
  },
  {
   "cell_type": "code",
   "execution_count": null,
   "id": "b6f62357-ed0c-47c8-9831-217bd46fdd1b",
   "metadata": {},
   "outputs": [],
   "source": []
  },
  {
   "cell_type": "code",
   "execution_count": null,
   "id": "7010ac28-3830-4eb7-9e4d-013faceaa3fa",
   "metadata": {},
   "outputs": [],
   "source": []
  },
  {
   "cell_type": "code",
   "execution_count": null,
   "id": "c5b397f2-6f85-4d82-8643-097bb81944d4",
   "metadata": {},
   "outputs": [],
   "source": []
  },
  {
   "cell_type": "code",
   "execution_count": null,
   "id": "aec80f3f-90ad-481b-a031-976c0f103aa3",
   "metadata": {},
   "outputs": [],
   "source": []
  },
  {
   "cell_type": "code",
   "execution_count": null,
   "id": "7b117b41-b26d-472b-88db-286283457a99",
   "metadata": {},
   "outputs": [],
   "source": []
  },
  {
   "cell_type": "code",
   "execution_count": null,
   "id": "1d6792e1-dbc3-4732-ad96-0c50d15e7e76",
   "metadata": {},
   "outputs": [],
   "source": []
  },
  {
   "cell_type": "code",
   "execution_count": null,
   "id": "f178156f-36bc-4b6a-b3cc-0eee9d6c30d5",
   "metadata": {},
   "outputs": [],
   "source": []
  },
  {
   "cell_type": "code",
   "execution_count": null,
   "id": "c5204520-d9b7-4a16-8be3-85ddcb6e80cb",
   "metadata": {},
   "outputs": [],
   "source": []
  },
  {
   "cell_type": "code",
   "execution_count": null,
   "id": "4b6bf88f-8c53-4609-8d34-e1a0bca08e88",
   "metadata": {},
   "outputs": [],
   "source": []
  },
  {
   "cell_type": "code",
   "execution_count": null,
   "id": "78811c8c-23e8-4586-905b-0679edd7fe17",
   "metadata": {},
   "outputs": [],
   "source": []
  },
  {
   "cell_type": "code",
   "execution_count": null,
   "id": "520af7b6-dd9e-47b7-8d68-07685f62f3ec",
   "metadata": {},
   "outputs": [],
   "source": []
  },
  {
   "cell_type": "code",
   "execution_count": null,
   "id": "7093b523-20b2-489e-96f4-55ad88c8575d",
   "metadata": {},
   "outputs": [],
   "source": []
  },
  {
   "cell_type": "code",
   "execution_count": null,
   "id": "ed3d754b-8bb6-4ba7-8a5d-5214ca417667",
   "metadata": {},
   "outputs": [],
   "source": []
  },
  {
   "cell_type": "code",
   "execution_count": null,
   "id": "3d808100-d6bb-4e2a-8323-b46360cdad0a",
   "metadata": {},
   "outputs": [],
   "source": []
  },
  {
   "cell_type": "code",
   "execution_count": null,
   "id": "2560d872-d600-4216-b43d-9fd14acba6d0",
   "metadata": {},
   "outputs": [],
   "source": []
  },
  {
   "cell_type": "code",
   "execution_count": null,
   "id": "bf6371da-8cdb-4d55-93d8-5a839f70f9ec",
   "metadata": {},
   "outputs": [],
   "source": []
  },
  {
   "cell_type": "code",
   "execution_count": null,
   "id": "ac04cddd-d290-44ea-b118-d61c04c48c61",
   "metadata": {},
   "outputs": [],
   "source": []
  },
  {
   "cell_type": "code",
   "execution_count": null,
   "id": "4467d6ee-2eb5-4692-8ba7-8db3a3bb13c4",
   "metadata": {},
   "outputs": [],
   "source": []
  },
  {
   "cell_type": "code",
   "execution_count": null,
   "id": "1063cfb8-9b2e-4d2c-bf77-1395bfeed170",
   "metadata": {},
   "outputs": [],
   "source": []
  },
  {
   "cell_type": "code",
   "execution_count": null,
   "id": "f92ccc28-09af-4acd-96b3-8bed14a5992f",
   "metadata": {},
   "outputs": [],
   "source": []
  },
  {
   "cell_type": "code",
   "execution_count": null,
   "id": "376981f0-f5aa-4120-8a6a-645ead5806a7",
   "metadata": {},
   "outputs": [],
   "source": []
  },
  {
   "cell_type": "code",
   "execution_count": null,
   "id": "a2f482d4-b9ce-44e8-bb7c-f7db8fee7c06",
   "metadata": {},
   "outputs": [],
   "source": []
  },
  {
   "cell_type": "code",
   "execution_count": null,
   "id": "60a436ca-3c94-4c58-ab6a-0fc5cf3fee1c",
   "metadata": {},
   "outputs": [],
   "source": []
  },
  {
   "cell_type": "code",
   "execution_count": null,
   "id": "bbb37da4-de8d-4610-8a7f-9e90af1d3c24",
   "metadata": {},
   "outputs": [],
   "source": []
  },
  {
   "cell_type": "code",
   "execution_count": null,
   "id": "edbeb9ff-737a-491d-8361-7fea9cc82670",
   "metadata": {},
   "outputs": [],
   "source": []
  },
  {
   "cell_type": "code",
   "execution_count": null,
   "id": "d635347a-189a-404f-af60-ce2e1dc80bbf",
   "metadata": {},
   "outputs": [],
   "source": []
  },
  {
   "cell_type": "code",
   "execution_count": null,
   "id": "e84f13a7-5e5a-4db8-aed0-6955678c9432",
   "metadata": {},
   "outputs": [],
   "source": []
  },
  {
   "cell_type": "code",
   "execution_count": null,
   "id": "0265fc33-ea38-4cf3-9199-69b9a10dbc5d",
   "metadata": {},
   "outputs": [],
   "source": []
  },
  {
   "cell_type": "code",
   "execution_count": null,
   "id": "b9941c13-cbaa-456a-a000-2ca3cd393cad",
   "metadata": {},
   "outputs": [],
   "source": []
  },
  {
   "cell_type": "code",
   "execution_count": null,
   "id": "9100eb08-413f-4008-8d7b-7ddf98da8200",
   "metadata": {},
   "outputs": [],
   "source": []
  },
  {
   "cell_type": "code",
   "execution_count": null,
   "id": "70b89d08-d085-4c08-afc7-21e65b2455e0",
   "metadata": {},
   "outputs": [],
   "source": []
  },
  {
   "cell_type": "code",
   "execution_count": null,
   "id": "079e09b9-84d0-443a-9f64-5fd69322e83e",
   "metadata": {},
   "outputs": [],
   "source": []
  },
  {
   "cell_type": "code",
   "execution_count": null,
   "id": "3ebb61d2-267b-4acc-8243-fb06b03cfb8b",
   "metadata": {},
   "outputs": [],
   "source": []
  },
  {
   "cell_type": "code",
   "execution_count": null,
   "id": "c2a2784f-7fda-4d15-87dc-8e221f229945",
   "metadata": {},
   "outputs": [],
   "source": []
  },
  {
   "cell_type": "code",
   "execution_count": null,
   "id": "f04ff42e-a302-46dc-ab5b-db470ce85ee4",
   "metadata": {},
   "outputs": [],
   "source": []
  },
  {
   "cell_type": "code",
   "execution_count": null,
   "id": "fa989330-a5f9-489f-9cd4-d8c2f02de163",
   "metadata": {},
   "outputs": [],
   "source": []
  },
  {
   "cell_type": "code",
   "execution_count": null,
   "id": "3554bcb0-0a3c-458d-ba1e-67fe940d8aa9",
   "metadata": {},
   "outputs": [],
   "source": []
  },
  {
   "cell_type": "code",
   "execution_count": null,
   "id": "09dba870-8660-443d-ad93-f74515cd395d",
   "metadata": {},
   "outputs": [],
   "source": []
  },
  {
   "cell_type": "code",
   "execution_count": null,
   "id": "6be7b196-c57c-4486-ac4f-76cce5da9427",
   "metadata": {},
   "outputs": [],
   "source": []
  },
  {
   "cell_type": "code",
   "execution_count": null,
   "id": "47b80041-4e9e-40dc-9849-e5bfae501f7c",
   "metadata": {},
   "outputs": [],
   "source": []
  }
 ],
 "metadata": {
  "kernelspec": {
   "display_name": "Python 3 (ipykernel)",
   "language": "python",
   "name": "python3"
  },
  "language_info": {
   "codemirror_mode": {
    "name": "ipython",
    "version": 3
   },
   "file_extension": ".py",
   "mimetype": "text/x-python",
   "name": "python",
   "nbconvert_exporter": "python",
   "pygments_lexer": "ipython3",
   "version": "3.10.8"
  }
 },
 "nbformat": 4,
 "nbformat_minor": 5
}
