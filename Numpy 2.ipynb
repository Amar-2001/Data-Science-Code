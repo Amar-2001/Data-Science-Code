{
 "cells": [
  {
   "cell_type": "code",
   "execution_count": 1,
   "id": "c26f7d04-8042-47ae-9038-fe46784c7fa2",
   "metadata": {},
   "outputs": [],
   "source": [
    "import numpy as np"
   ]
  },
  {
   "cell_type": "code",
   "execution_count": 2,
   "id": "41c92ded-35cb-4158-9f12-ad62a5ff5b95",
   "metadata": {},
   "outputs": [
    {
     "data": {
      "text/plain": [
       "array([[5, 5, 7, 3],\n",
       "       [7, 3, 8, 8],\n",
       "       [4, 9, 5, 3]])"
      ]
     },
     "execution_count": 2,
     "metadata": {},
     "output_type": "execute_result"
    }
   ],
   "source": [
    "arr=np.random.randint(1,10, (3,4))\n",
    "arr"
   ]
  },
  {
   "cell_type": "code",
   "execution_count": 3,
   "id": "18f853c7-687d-4900-9483-ddb54641dfe4",
   "metadata": {},
   "outputs": [
    {
     "data": {
      "text/plain": [
       "array([[5, 5, 7],\n",
       "       [3, 7, 3],\n",
       "       [8, 8, 4],\n",
       "       [9, 5, 3]])"
      ]
     },
     "execution_count": 3,
     "metadata": {},
     "output_type": "execute_result"
    }
   ],
   "source": [
    "arr.reshape(4,3)"
   ]
  },
  {
   "cell_type": "code",
   "execution_count": 4,
   "id": "e28fe9ce-167c-4356-97ca-4e7de6811e4b",
   "metadata": {},
   "outputs": [
    {
     "data": {
      "text/plain": [
       "array([[5, 5],\n",
       "       [7, 3],\n",
       "       [7, 3],\n",
       "       [8, 8],\n",
       "       [4, 9],\n",
       "       [5, 3]])"
      ]
     },
     "execution_count": 4,
     "metadata": {},
     "output_type": "execute_result"
    }
   ],
   "source": [
    "arr.reshape(6,2)"
   ]
  },
  {
   "cell_type": "code",
   "execution_count": 9,
   "id": "0073e397-0041-4fe6-8fca-60b0c5109b13",
   "metadata": {},
   "outputs": [
    {
     "data": {
      "text/plain": [
       "array([[5, 5, 7, 3, 7, 3],\n",
       "       [8, 8, 4, 9, 5, 3]])"
      ]
     },
     "execution_count": 9,
     "metadata": {},
     "output_type": "execute_result"
    }
   ],
   "source": [
    "# arr.reshape(2,6) #\n",
    "arr.reshape(2,-1656)"
   ]
  },
  {
   "cell_type": "code",
   "execution_count": 10,
   "id": "1d690dac-58dd-4a58-9272-fac5f349d47f",
   "metadata": {},
   "outputs": [
    {
     "data": {
      "text/plain": [
       "array([[5, 7, 4],\n",
       "       [5, 3, 9],\n",
       "       [7, 8, 5],\n",
       "       [3, 8, 3]])"
      ]
     },
     "execution_count": 10,
     "metadata": {},
     "output_type": "execute_result"
    }
   ],
   "source": [
    "arr.T"
   ]
  },
  {
   "cell_type": "code",
   "execution_count": 11,
   "id": "ad9c1637-3674-4ebe-abec-0a0b8c1963cb",
   "metadata": {},
   "outputs": [
    {
     "data": {
      "text/plain": [
       "array([[5, 5, 7, 3],\n",
       "       [7, 3, 8, 8],\n",
       "       [4, 9, 5, 3]])"
      ]
     },
     "execution_count": 11,
     "metadata": {},
     "output_type": "execute_result"
    }
   ],
   "source": [
    "arr"
   ]
  },
  {
   "cell_type": "code",
   "execution_count": 12,
   "id": "6826199f-9446-471f-bdd6-d170569ada59",
   "metadata": {},
   "outputs": [
    {
     "data": {
      "text/plain": [
       "array([5, 5, 7, 3, 7, 3, 8, 8, 4, 9, 5, 3])"
      ]
     },
     "execution_count": 12,
     "metadata": {},
     "output_type": "execute_result"
    }
   ],
   "source": [
    "arr.flatten()"
   ]
  },
  {
   "cell_type": "code",
   "execution_count": 13,
   "id": "bdc3593e-db02-4ad4-9b2b-69fcd3802eca",
   "metadata": {},
   "outputs": [],
   "source": [
    "# Now"
   ]
  },
  {
   "cell_type": "code",
   "execution_count": 25,
   "id": "859fed15-7aed-49bc-b5ce-8f010947afd8",
   "metadata": {},
   "outputs": [
    {
     "data": {
      "text/plain": [
       "array([1, 2, 3, 4])"
      ]
     },
     "execution_count": 25,
     "metadata": {},
     "output_type": "execute_result"
    }
   ],
   "source": [
    "arr1=np.array([1,2,3,4]) # agar do bracket hota toh 2 dimension hota \n",
    "arr1"
   ]
  },
  {
   "cell_type": "code",
   "execution_count": 26,
   "id": "74587740-e0d2-4579-9166-5fb7b830f5b5",
   "metadata": {},
   "outputs": [
    {
     "data": {
      "text/plain": [
       "1"
      ]
     },
     "execution_count": 26,
     "metadata": {},
     "output_type": "execute_result"
    }
   ],
   "source": [
    "arr1.ndim"
   ]
  },
  {
   "cell_type": "code",
   "execution_count": 31,
   "id": "4a2b96f7-90b8-40d9-987d-592129e08c5b",
   "metadata": {},
   "outputs": [
    {
     "data": {
      "text/plain": [
       "array([[1],\n",
       "       [2],\n",
       "       [3],\n",
       "       [4]])"
      ]
     },
     "execution_count": 31,
     "metadata": {},
     "output_type": "execute_result"
    }
   ],
   "source": [
    "np.expand_dims(arr1,axis=1) # axis 1 yaani col 1"
   ]
  },
  {
   "cell_type": "code",
   "execution_count": 32,
   "id": "786ea882-0f07-420c-81ed-da179f0a04f2",
   "metadata": {},
   "outputs": [
    {
     "data": {
      "text/plain": [
       "array([[1, 2, 3, 4]])"
      ]
     },
     "execution_count": 32,
     "metadata": {},
     "output_type": "execute_result"
    }
   ],
   "source": [
    "np.expand_dims(arr1,axis=0)"
   ]
  },
  {
   "cell_type": "code",
   "execution_count": 33,
   "id": "40a65859-57fe-456d-8933-5d28bf3a3eb8",
   "metadata": {},
   "outputs": [],
   "source": [
    "# Now"
   ]
  },
  {
   "cell_type": "code",
   "execution_count": 34,
   "id": "0a8de608-367b-4712-bf33-81db3e60e3a0",
   "metadata": {},
   "outputs": [
    {
     "data": {
      "text/plain": [
       "array([[5, 5, 7, 3],\n",
       "       [7, 3, 8, 8],\n",
       "       [4, 9, 5, 3]])"
      ]
     },
     "execution_count": 34,
     "metadata": {},
     "output_type": "execute_result"
    }
   ],
   "source": [
    "arr"
   ]
  },
  {
   "cell_type": "code",
   "execution_count": 36,
   "id": "fadbd79f-666f-4311-aa54-9bf239351149",
   "metadata": {},
   "outputs": [
    {
     "data": {
      "text/plain": [
       "array([[5, 5, 7, 3],\n",
       "       [7, 3, 8, 8],\n",
       "       [4, 9, 5, 3]])"
      ]
     },
     "execution_count": 36,
     "metadata": {},
     "output_type": "execute_result"
    }
   ],
   "source": [
    "np.squeeze(arr)  # as it is"
   ]
  },
  {
   "cell_type": "code",
   "execution_count": 40,
   "id": "4b3a0573-b39e-40ec-ad84-5d1c874fbc6b",
   "metadata": {},
   "outputs": [
    {
     "data": {
      "text/plain": [
       "array([[1],\n",
       "       [2],\n",
       "       [3],\n",
       "       [4]])"
      ]
     },
     "execution_count": 40,
     "metadata": {},
     "output_type": "execute_result"
    }
   ],
   "source": [
    "data=np.array([ [1],[2],[3],[4] ])\n",
    "data"
   ]
  },
  {
   "cell_type": "code",
   "execution_count": 42,
   "id": "b7199c46-1eb9-4456-9fb0-23f0d1a802fb",
   "metadata": {},
   "outputs": [
    {
     "data": {
      "text/plain": [
       "array([1, 2, 3, 4])"
      ]
     },
     "execution_count": 42,
     "metadata": {},
     "output_type": "execute_result"
    }
   ],
   "source": [
    "data.squeeze()"
   ]
  },
  {
   "cell_type": "code",
   "execution_count": 46,
   "id": "06c0a301-71a9-4fe5-9e77-b846846563cd",
   "metadata": {},
   "outputs": [],
   "source": [
    "# Now"
   ]
  },
  {
   "cell_type": "code",
   "execution_count": 47,
   "id": "ffedecb9-774d-4ccd-ac1a-ed1bfa3ebbd0",
   "metadata": {},
   "outputs": [
    {
     "data": {
      "text/plain": [
       "array([1, 2, 3, 4])"
      ]
     },
     "execution_count": 47,
     "metadata": {},
     "output_type": "execute_result"
    }
   ],
   "source": [
    "arr1"
   ]
  },
  {
   "cell_type": "code",
   "execution_count": 49,
   "id": "ccd918ba-d56c-40d0-8e98-54ccc6fbe132",
   "metadata": {},
   "outputs": [
    {
     "data": {
      "text/plain": [
       "array([4, 1, 2, 3])"
      ]
     },
     "execution_count": 49,
     "metadata": {},
     "output_type": "execute_result"
    }
   ],
   "source": [
    "np.roll(arr1,shift=1)"
   ]
  },
  {
   "cell_type": "code",
   "execution_count": 50,
   "id": "b8a5e116-e300-46e7-b84f-2d584aae89a6",
   "metadata": {},
   "outputs": [
    {
     "data": {
      "text/plain": [
       "array([2, 3, 4, 1])"
      ]
     },
     "execution_count": 50,
     "metadata": {},
     "output_type": "execute_result"
    }
   ],
   "source": [
    "np.roll(arr1,shift=3)"
   ]
  },
  {
   "cell_type": "code",
   "execution_count": 51,
   "id": "d5c76a53-e51d-4b79-8eb2-20df023f554d",
   "metadata": {},
   "outputs": [
    {
     "data": {
      "text/plain": [
       "array([1, 1, 2, 2, 3, 3, 4, 4])"
      ]
     },
     "execution_count": 51,
     "metadata": {},
     "output_type": "execute_result"
    }
   ],
   "source": [
    "np.repeat(arr1,2)"
   ]
  },
  {
   "cell_type": "code",
   "execution_count": 53,
   "id": "391df59c-6c94-4238-a24b-55b785168e14",
   "metadata": {},
   "outputs": [
    {
     "data": {
      "text/plain": [
       "array([[1, 0, 0, 0],\n",
       "       [0, 2, 0, 0],\n",
       "       [0, 0, 3, 0],\n",
       "       [0, 0, 0, 4]])"
      ]
     },
     "execution_count": 53,
     "metadata": {},
     "output_type": "execute_result"
    }
   ],
   "source": [
    "np.diag(arr1) # jo element taha 1,2,3,4 wo diagonally aa gaya"
   ]
  },
  {
   "cell_type": "code",
   "execution_count": 54,
   "id": "c26719dc-9e92-4239-bd24-52b4e545c605",
   "metadata": {},
   "outputs": [],
   "source": [
    "# Binary operation in numpy"
   ]
  },
  {
   "cell_type": "code",
   "execution_count": 55,
   "id": "b81c5707-5040-4a7c-9f45-8865c08a4ac0",
   "metadata": {},
   "outputs": [
    {
     "data": {
      "text/plain": [
       "array([[2, 1, 8, 7],\n",
       "       [2, 3, 2, 1],\n",
       "       [1, 1, 1, 4]])"
      ]
     },
     "execution_count": 55,
     "metadata": {},
     "output_type": "execute_result"
    }
   ],
   "source": [
    "arr1=np.random.randint(1,10, (3,4))\n",
    "arr1"
   ]
  },
  {
   "cell_type": "code",
   "execution_count": 57,
   "id": "f25a3084-7055-4baa-a2cd-2959e81e3c42",
   "metadata": {},
   "outputs": [
    {
     "data": {
      "text/plain": [
       "array([[9, 3, 5, 5],\n",
       "       [1, 4, 9, 2],\n",
       "       [2, 6, 4, 2]])"
      ]
     },
     "execution_count": 57,
     "metadata": {},
     "output_type": "execute_result"
    }
   ],
   "source": [
    "arr2=np.random.randint(1,10, (3,4) )\n",
    "arr2"
   ]
  },
  {
   "cell_type": "code",
   "execution_count": 58,
   "id": "fa55e209-3e79-4177-8ab8-26cb577c24f6",
   "metadata": {},
   "outputs": [
    {
     "data": {
      "text/plain": [
       "array([[11,  4, 13, 12],\n",
       "       [ 3,  7, 11,  3],\n",
       "       [ 3,  7,  5,  6]])"
      ]
     },
     "execution_count": 58,
     "metadata": {},
     "output_type": "execute_result"
    }
   ],
   "source": [
    "arr1 + arr2"
   ]
  },
  {
   "cell_type": "code",
   "execution_count": 59,
   "id": "4bddea29-c3af-4994-9356-59d618f72a33",
   "metadata": {},
   "outputs": [
    {
     "data": {
      "text/plain": [
       "array([[-7, -2,  3,  2],\n",
       "       [ 1, -1, -7, -1],\n",
       "       [-1, -5, -3,  2]])"
      ]
     },
     "execution_count": 59,
     "metadata": {},
     "output_type": "execute_result"
    }
   ],
   "source": [
    "arr1 - arr2"
   ]
  },
  {
   "cell_type": "code",
   "execution_count": 60,
   "id": "643e7856-65f0-4cda-b3f7-7f4359c460ae",
   "metadata": {},
   "outputs": [
    {
     "data": {
      "text/plain": [
       "array([[0.22222222, 0.33333333, 1.6       , 1.4       ],\n",
       "       [2.        , 0.75      , 0.22222222, 0.5       ],\n",
       "       [0.5       , 0.16666667, 0.25      , 2.        ]])"
      ]
     },
     "execution_count": 60,
     "metadata": {},
     "output_type": "execute_result"
    }
   ],
   "source": [
    "arr1 / arr2"
   ]
  },
  {
   "cell_type": "code",
   "execution_count": 61,
   "id": "8ec84129-6b9f-4e50-b58d-829a54c1e640",
   "metadata": {},
   "outputs": [
    {
     "data": {
      "text/plain": [
       "array([[18,  3, 40, 35],\n",
       "       [ 2, 12, 18,  2],\n",
       "       [ 2,  6,  4,  8]])"
      ]
     },
     "execution_count": 61,
     "metadata": {},
     "output_type": "execute_result"
    }
   ],
   "source": [
    "arr1 * arr2"
   ]
  },
  {
   "cell_type": "code",
   "execution_count": 62,
   "id": "19081667-8d57-4119-b1ba-333cacd642ea",
   "metadata": {},
   "outputs": [
    {
     "data": {
      "text/plain": [
       "array([[  512,     1, 32768, 16807],\n",
       "       [    2,    81,   512,     1],\n",
       "       [    1,     1,     1,    16]])"
      ]
     },
     "execution_count": 62,
     "metadata": {},
     "output_type": "execute_result"
    }
   ],
   "source": [
    "arr1 ** arr2"
   ]
  },
  {
   "cell_type": "code",
   "execution_count": 63,
   "id": "9133fa9c-f8ce-4bda-84d7-2b2e7deb1305",
   "metadata": {},
   "outputs": [
    {
     "data": {
      "text/plain": [
       "array([[0, 1, 0, 5],\n",
       "       [0, 0, 0, 0],\n",
       "       [0, 0, 0, 0]])"
      ]
     },
     "execution_count": 63,
     "metadata": {},
     "output_type": "execute_result"
    }
   ],
   "source": [
    "arr1 & arr2"
   ]
  },
  {
   "cell_type": "code",
   "execution_count": 64,
   "id": "3a1f02c5-aa47-4b8c-87fe-b3e86b8747c5",
   "metadata": {},
   "outputs": [
    {
     "data": {
      "text/plain": [
       "array([[11,  3, 13,  7],\n",
       "       [ 3,  7, 11,  3],\n",
       "       [ 3,  7,  5,  6]])"
      ]
     },
     "execution_count": 64,
     "metadata": {},
     "output_type": "execute_result"
    }
   ],
   "source": [
    "arr1 | arr2"
   ]
  },
  {
   "cell_type": "code",
   "execution_count": 65,
   "id": "939b904f-7b6a-4412-9f63-aa1894560ce3",
   "metadata": {},
   "outputs": [
    {
     "data": {
      "text/plain": [
       "array([[-2, -1, -8, -7],\n",
       "       [-2, -3, -2, -1],\n",
       "       [-1, -1, -1, -4]])"
      ]
     },
     "execution_count": 65,
     "metadata": {},
     "output_type": "execute_result"
    }
   ],
   "source": [
    "-arr1"
   ]
  },
  {
   "cell_type": "code",
   "execution_count": 66,
   "id": "282713ab-be91-4c32-915c-d061633b3587",
   "metadata": {},
   "outputs": [
    {
     "data": {
      "text/plain": [
       "array([[11,  2, 13,  2],\n",
       "       [ 3,  7, 11,  3],\n",
       "       [ 3,  7,  5,  6]])"
      ]
     },
     "execution_count": 66,
     "metadata": {},
     "output_type": "execute_result"
    }
   ],
   "source": [
    "arr1^arr2"
   ]
  },
  {
   "cell_type": "code",
   "execution_count": 67,
   "id": "89a2a2a9-88ac-4652-823c-2f47664fafd5",
   "metadata": {},
   "outputs": [],
   "source": [
    "# Numpy string"
   ]
  },
  {
   "cell_type": "code",
   "execution_count": 70,
   "id": "a7f00c78-ac3c-4b98-af92-72a03ef7e09a",
   "metadata": {},
   "outputs": [
    {
     "data": {
      "text/plain": [
       "['Amar', 'kumar']"
      ]
     },
     "execution_count": 70,
     "metadata": {},
     "output_type": "execute_result"
    }
   ],
   "source": [
    "name=['Amar', 'kumar' ] \n",
    "name"
   ]
  },
  {
   "cell_type": "code",
   "execution_count": 71,
   "id": "bb714883-3609-4307-abdc-781a0a119974",
   "metadata": {},
   "outputs": [
    {
     "data": {
      "text/plain": [
       "array(['Amar', 'Kumar'], dtype='<U5')"
      ]
     },
     "execution_count": 71,
     "metadata": {},
     "output_type": "execute_result"
    }
   ],
   "source": [
    "np.char.capitalize(name)"
   ]
  },
  {
   "cell_type": "code",
   "execution_count": 74,
   "id": "c4abd0d0-f814-4cd7-818f-2a84bbe33703",
   "metadata": {},
   "outputs": [
    {
     "data": {
      "text/plain": [
       "array(['AMAR', 'KUMAR'], dtype='<U5')"
      ]
     },
     "execution_count": 74,
     "metadata": {},
     "output_type": "execute_result"
    }
   ],
   "source": [
    "np.char.upper(name)"
   ]
  },
  {
   "cell_type": "code",
   "execution_count": 76,
   "id": "95b37412-b206-42ff-948d-cbd83d9e51aa",
   "metadata": {},
   "outputs": [
    {
     "data": {
      "text/plain": [
       "array([ True,  True])"
      ]
     },
     "execution_count": 76,
     "metadata": {},
     "output_type": "execute_result"
    }
   ],
   "source": [
    "np.char.isalpha(name)"
   ]
  },
  {
   "cell_type": "code",
   "execution_count": 78,
   "id": "dd18652e-b852-4b02-9e25-684620fd6a90",
   "metadata": {},
   "outputs": [
    {
     "data": {
      "text/plain": [
       "array(['Amar', 'Kumar'], dtype='<U5')"
      ]
     },
     "execution_count": 78,
     "metadata": {},
     "output_type": "execute_result"
    }
   ],
   "source": [
    "np.char.title(name)"
   ]
  },
  {
   "cell_type": "code",
   "execution_count": 79,
   "id": "b0d90489-2f9f-4998-a2c5-fb8f374d1ccd",
   "metadata": {},
   "outputs": [],
   "source": [
    "# Now mathematical operation"
   ]
  },
  {
   "cell_type": "code",
   "execution_count": 81,
   "id": "1930c547-7285-498d-b23b-7fb39821e054",
   "metadata": {},
   "outputs": [
    {
     "data": {
      "text/plain": [
       "array([[2, 1, 8, 7],\n",
       "       [2, 3, 2, 1],\n",
       "       [1, 1, 1, 4]])"
      ]
     },
     "execution_count": 81,
     "metadata": {},
     "output_type": "execute_result"
    }
   ],
   "source": [
    "arr1"
   ]
  },
  {
   "cell_type": "code",
   "execution_count": 82,
   "id": "9b6cae95-bad3-45e5-84d7-0256f66a5b8a",
   "metadata": {},
   "outputs": [
    {
     "data": {
      "text/plain": [
       "array([[ 0.90929743,  0.84147098,  0.98935825,  0.6569866 ],\n",
       "       [ 0.90929743,  0.14112001,  0.90929743,  0.84147098],\n",
       "       [ 0.84147098,  0.84147098,  0.84147098, -0.7568025 ]])"
      ]
     },
     "execution_count": 82,
     "metadata": {},
     "output_type": "execute_result"
    }
   ],
   "source": [
    "np.sin(arr1)"
   ]
  },
  {
   "cell_type": "code",
   "execution_count": 83,
   "id": "a617ff02-4fad-4811-a266-31e7a71c5a60",
   "metadata": {},
   "outputs": [
    {
     "data": {
      "text/plain": [
       "array([[-0.41614684,  0.54030231, -0.14550003,  0.75390225],\n",
       "       [-0.41614684, -0.9899925 , -0.41614684,  0.54030231],\n",
       "       [ 0.54030231,  0.54030231,  0.54030231, -0.65364362]])"
      ]
     },
     "execution_count": 83,
     "metadata": {},
     "output_type": "execute_result"
    }
   ],
   "source": [
    "np.cos(arr1)"
   ]
  },
  {
   "cell_type": "code",
   "execution_count": 84,
   "id": "fe30df26-7a09-4e62-91d7-2f5d4bd2477a",
   "metadata": {},
   "outputs": [
    {
     "data": {
      "text/plain": [
       "array([[-3.38051501, -3.38051501,  0.87144798, -0.14254654],\n",
       "       [ 0.87144798, -0.14254654, -6.79971146, -6.79971146],\n",
       "       [ 1.15782128, -0.45231566, -3.38051501, -0.14254654]])"
      ]
     },
     "execution_count": 84,
     "metadata": {},
     "output_type": "execute_result"
    }
   ],
   "source": [
    "np.tan(arr)"
   ]
  },
  {
   "cell_type": "code",
   "execution_count": 85,
   "id": "5ddde427-94d5-4c76-aa6c-63e45444d337",
   "metadata": {},
   "outputs": [
    {
     "data": {
      "text/plain": [
       "array([[0.9999092 , 0.9999092 , 0.99999834, 0.99505475],\n",
       "       [0.99999834, 0.99505475, 0.99999977, 0.99999977],\n",
       "       [0.9993293 , 0.99999997, 0.9999092 , 0.99505475]])"
      ]
     },
     "execution_count": 85,
     "metadata": {},
     "output_type": "execute_result"
    }
   ],
   "source": [
    "np.tanh(arr)"
   ]
  },
  {
   "cell_type": "code",
   "execution_count": 86,
   "id": "efef2fa2-f324-4b99-8ec5-1488cf2ea9b3",
   "metadata": {},
   "outputs": [
    {
     "data": {
      "text/plain": [
       "array([[  74.20321058,   74.20321058,  548.31612327,   10.01787493],\n",
       "       [ 548.31612327,   10.01787493, 1490.47882579, 1490.47882579],\n",
       "       [  27.2899172 , 4051.54190208,   74.20321058,   10.01787493]])"
      ]
     },
     "execution_count": 86,
     "metadata": {},
     "output_type": "execute_result"
    }
   ],
   "source": [
    "np.sinh(arr)"
   ]
  },
  {
   "cell_type": "code",
   "execution_count": 87,
   "id": "09a5888c-d708-4ab8-876f-65a0d18af982",
   "metadata": {},
   "outputs": [
    {
     "data": {
      "text/plain": [
       "9"
      ]
     },
     "execution_count": 87,
     "metadata": {},
     "output_type": "execute_result"
    }
   ],
   "source": [
    "np.max(arr)"
   ]
  },
  {
   "cell_type": "code",
   "execution_count": 88,
   "id": "a576fae0-8db1-4a70-ad58-30b07a4f359c",
   "metadata": {},
   "outputs": [
    {
     "data": {
      "text/plain": [
       "3"
      ]
     },
     "execution_count": 88,
     "metadata": {},
     "output_type": "execute_result"
    }
   ],
   "source": [
    "np.min(arr)"
   ]
  },
  {
   "cell_type": "code",
   "execution_count": 89,
   "id": "460c5c3d-cd7d-4fea-b3b7-64cb199cf7e8",
   "metadata": {},
   "outputs": [
    {
     "data": {
      "text/plain": [
       "array([[2.23606798, 2.23606798, 2.64575131, 1.73205081],\n",
       "       [2.64575131, 1.73205081, 2.82842712, 2.82842712],\n",
       "       [2.        , 3.        , 2.23606798, 1.73205081]])"
      ]
     },
     "execution_count": 89,
     "metadata": {},
     "output_type": "execute_result"
    }
   ],
   "source": [
    "np.sqrt(arr)"
   ]
  },
  {
   "cell_type": "code",
   "execution_count": 91,
   "id": "c8c0211c-c363-4392-b444-325f020f703a",
   "metadata": {},
   "outputs": [
    {
     "data": {
      "text/plain": [
       "array([[25, 25, 49,  9],\n",
       "       [49,  9, 64, 64],\n",
       "       [16, 81, 25,  9]])"
      ]
     },
     "execution_count": 91,
     "metadata": {},
     "output_type": "execute_result"
    }
   ],
   "source": [
    "np.power(arr,2)"
   ]
  },
  {
   "cell_type": "code",
   "execution_count": 92,
   "id": "cd48ccc5-e2d4-450f-9791-1a64e5df99ae",
   "metadata": {},
   "outputs": [
    {
     "data": {
      "text/plain": [
       "5.583333333333333"
      ]
     },
     "execution_count": 92,
     "metadata": {},
     "output_type": "execute_result"
    }
   ],
   "source": [
    "np.mean(arr)"
   ]
  },
  {
   "cell_type": "code",
   "execution_count": 93,
   "id": "c4489bb7-fa1d-45f0-8e25-97f9f8d352f0",
   "metadata": {},
   "outputs": [
    {
     "data": {
      "text/plain": [
       "5.0"
      ]
     },
     "execution_count": 93,
     "metadata": {},
     "output_type": "execute_result"
    }
   ],
   "source": [
    "np.median(arr)"
   ]
  },
  {
   "cell_type": "code",
   "execution_count": 96,
   "id": "681f8828-6df8-4ccb-ab50-67d91ccf0391",
   "metadata": {},
   "outputs": [
    {
     "data": {
      "text/plain": [
       "array([[1, 1, 1, 1],\n",
       "       [1, 1, 0, 0],\n",
       "       [0, 1, 1, 1]])"
      ]
     },
     "execution_count": 96,
     "metadata": {},
     "output_type": "execute_result"
    }
   ],
   "source": [
    "np.mod(arr,2)"
   ]
  },
  {
   "cell_type": "code",
   "execution_count": 97,
   "id": "d5ed203e-1ba9-4907-a6ad-8212657a4295",
   "metadata": {},
   "outputs": [
    {
     "data": {
      "text/plain": [
       "2.0598678490513795"
      ]
     },
     "execution_count": 97,
     "metadata": {},
     "output_type": "execute_result"
    }
   ],
   "source": [
    "np.std(arr)"
   ]
  },
  {
   "cell_type": "code",
   "execution_count": null,
   "id": "685ac84c-77dd-4f52-b487-73e9fd9afb15",
   "metadata": {},
   "outputs": [],
   "source": []
  }
 ],
 "metadata": {
  "kernelspec": {
   "display_name": "Python 3 (ipykernel)",
   "language": "python",
   "name": "python3"
  },
  "language_info": {
   "codemirror_mode": {
    "name": "ipython",
    "version": 3
   },
   "file_extension": ".py",
   "mimetype": "text/x-python",
   "name": "python",
   "nbconvert_exporter": "python",
   "pygments_lexer": "ipython3",
   "version": "3.10.8"
  }
 },
 "nbformat": 4,
 "nbformat_minor": 5
}
