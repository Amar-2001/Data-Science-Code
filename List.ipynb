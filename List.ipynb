{
 "cells": [
  {
   "cell_type": "code",
   "execution_count": 1,
   "id": "33ca20b3-da1c-40d3-8be0-c5b06405262d",
   "metadata": {},
   "outputs": [],
   "source": [
    "l=[1,2.21,\"Amard\",'Immortal',True,2+5j]"
   ]
  },
  {
   "cell_type": "code",
   "execution_count": 2,
   "id": "b2751b1b-3d6d-4d84-af5f-7536030171ff",
   "metadata": {},
   "outputs": [
    {
     "name": "stdout",
     "output_type": "stream",
     "text": [
      "[1, 2.21, 'Amard', 'Immortal', True, (2+5j)]\n"
     ]
    }
   ],
   "source": [
    "print(l)"
   ]
  },
  {
   "cell_type": "code",
   "execution_count": 3,
   "id": "23fc99b6-9102-4b79-91b3-223ef6574f2f",
   "metadata": {},
   "outputs": [
    {
     "data": {
      "text/plain": [
       "list"
      ]
     },
     "execution_count": 3,
     "metadata": {},
     "output_type": "execute_result"
    }
   ],
   "source": [
    "type(l)\n"
   ]
  },
  {
   "cell_type": "code",
   "execution_count": 6,
   "id": "78354074-470f-4282-addb-405ccde0c653",
   "metadata": {},
   "outputs": [
    {
     "data": {
      "text/plain": [
       "1"
      ]
     },
     "execution_count": 6,
     "metadata": {},
     "output_type": "execute_result"
    }
   ],
   "source": [
    "l[0]"
   ]
  },
  {
   "cell_type": "code",
   "execution_count": 7,
   "id": "daf2d5b4-0822-4101-8412-dc7fd60370c1",
   "metadata": {},
   "outputs": [
    {
     "data": {
      "text/plain": [
       "'Amard'"
      ]
     },
     "execution_count": 7,
     "metadata": {},
     "output_type": "execute_result"
    }
   ],
   "source": [
    "l[2]"
   ]
  },
  {
   "cell_type": "code",
   "execution_count": 9,
   "id": "6a2ed963-101a-4ed1-9087-da629e62dd3e",
   "metadata": {},
   "outputs": [
    {
     "data": {
      "text/plain": [
       "complex"
      ]
     },
     "execution_count": 9,
     "metadata": {},
     "output_type": "execute_result"
    }
   ],
   "source": [
    "type(l[4])"
   ]
  },
  {
   "cell_type": "code",
   "execution_count": 10,
   "id": "fe717c77-c19f-4689-a207-63f93e651785",
   "metadata": {},
   "outputs": [
    {
     "ename": "IndexError",
     "evalue": "list index out of range",
     "output_type": "error",
     "traceback": [
      "\u001b[0;31m---------------------------------------------------------------------------\u001b[0m",
      "\u001b[0;31mIndexError\u001b[0m                                Traceback (most recent call last)",
      "Cell \u001b[0;32mIn[10], line 1\u001b[0m\n\u001b[0;32m----> 1\u001b[0m \u001b[43ml\u001b[49m\u001b[43m[\u001b[49m\u001b[38;5;241;43m90\u001b[39;49m\u001b[43m]\u001b[49m\u001b[38;5;66;03m#out of range\u001b[39;00m\n",
      "\u001b[0;31mIndexError\u001b[0m: list index out of range"
     ]
    }
   ],
   "source": [
    "l[90]#out of range"
   ]
  },
  {
   "cell_type": "code",
   "execution_count": 12,
   "id": "52fe3174-8a7b-4367-bea7-1fd1990e5264",
   "metadata": {},
   "outputs": [
    {
     "data": {
      "text/plain": [
       "[1, 2.21, 'Amard']"
      ]
     },
     "execution_count": 12,
     "metadata": {},
     "output_type": "execute_result"
    }
   ],
   "source": [
    "l[0:3]"
   ]
  },
  {
   "cell_type": "code",
   "execution_count": 13,
   "id": "432e7cb7-d15e-46dd-b4d9-3aec7e56a3a5",
   "metadata": {},
   "outputs": [
    {
     "data": {
      "text/plain": [
       "(2+5j)"
      ]
     },
     "execution_count": 13,
     "metadata": {},
     "output_type": "execute_result"
    }
   ],
   "source": [
    "l[-1]"
   ]
  },
  {
   "cell_type": "code",
   "execution_count": 14,
   "id": "833c07de-5784-437d-b74e-78f58a99ad30",
   "metadata": {},
   "outputs": [
    {
     "data": {
      "text/plain": [
       "'Amard'"
      ]
     },
     "execution_count": 14,
     "metadata": {},
     "output_type": "execute_result"
    }
   ],
   "source": [
    "l[-3]"
   ]
  },
  {
   "cell_type": "code",
   "execution_count": 17,
   "id": "a7e38411-3578-4891-b984-7530786b7524",
   "metadata": {},
   "outputs": [
    {
     "data": {
      "text/plain": [
       "[(2+5j), 'Immortal', 'Amard', 2.21, 1]"
      ]
     },
     "execution_count": 17,
     "metadata": {},
     "output_type": "execute_result"
    }
   ],
   "source": [
    "l[::-1]"
   ]
  },
  {
   "cell_type": "code",
   "execution_count": 26,
   "id": "f94a969e-9b5e-4cf6-80fa-c77f4d0a9dea",
   "metadata": {},
   "outputs": [
    {
     "data": {
      "text/plain": [
       "[(2+5j), 'Immortal', 'Amard', 2.21, 1]"
      ]
     },
     "execution_count": 26,
     "metadata": {},
     "output_type": "execute_result"
    }
   ],
   "source": [
    "l[-1:-6:-1]"
   ]
  },
  {
   "cell_type": "code",
   "execution_count": 41,
   "id": "5d1d131f-473e-450f-8f7d-da5b81261d65",
   "metadata": {},
   "outputs": [
    {
     "data": {
      "text/plain": [
       "[(2+5j), 'Immortal', 'Amard', 2.21, 1]"
      ]
     },
     "execution_count": 41,
     "metadata": {},
     "output_type": "execute_result"
    }
   ],
   "source": [
    "l[4: :-1]#doubt l 4 se 0 chal jaa raha but 4 se -1 kyun nahi wo toh 0 se pehle -1 hi aata hai na "
   ]
  },
  {
   "cell_type": "code",
   "execution_count": 30,
   "id": "2b95f015-b5ce-455a-abd6-d764ed9eb80e",
   "metadata": {},
   "outputs": [
    {
     "data": {
      "text/plain": [
       "[(2+5j), 'Immortal', 'Amard', 2.21, 1]"
      ]
     },
     "execution_count": 30,
     "metadata": {},
     "output_type": "execute_result"
    }
   ],
   "source": [
    "l[4:-6:-1]#doubt l 4 se 0 chal jaa raha but 4 se -1 kyun nahi wo toh 0 se pehle -1 hi aata hai na \n",
    "#doubt solved"
   ]
  },
  {
   "cell_type": "code",
   "execution_count": 3,
   "id": "b4dface9-d9e1-4dd6-b06b-4bb95f5754f3",
   "metadata": {},
   "outputs": [
    {
     "data": {
      "text/plain": [
       "[]"
      ]
     },
     "execution_count": 3,
     "metadata": {},
     "output_type": "execute_result"
    }
   ],
   "source": [
    "l[-5:5:-1]#doubt why not reverse "
   ]
  },
  {
   "cell_type": "code",
   "execution_count": 4,
   "id": "e68e46ae-aedf-4aed-a665-9afc359bd4c8",
   "metadata": {},
   "outputs": [
    {
     "ename": "SyntaxError",
     "evalue": "invalid syntax (1690159077.py, line 1)",
     "output_type": "error",
     "traceback": [
      "\u001b[0;36m  Cell \u001b[0;32mIn[4], line 1\u001b[0;36m\u001b[0m\n\u001b[0;31m    solution -5 se 5 jaa raha par -5 se 0 jayega tab kar paayega\u001b[0m\n\u001b[0m                ^\u001b[0m\n\u001b[0;31mSyntaxError\u001b[0m\u001b[0;31m:\u001b[0m invalid syntax\n"
     ]
    }
   ],
   "source": [
    "solution -5 se 5 jaa raha par -5 se 0 jayega tab kar paayega "
   ]
  },
  {
   "cell_type": "code",
   "execution_count": 8,
   "id": "2d3f5828-0d53-4ff8-9c1b-247727964309",
   "metadata": {},
   "outputs": [
    {
     "data": {
      "text/plain": [
       "[2.21, 1]"
      ]
     },
     "execution_count": 8,
     "metadata": {},
     "output_type": "execute_result"
    }
   ],
   "source": [
    "l[-5::-1]# doubt ab bhi kyu nahi ho raha "
   ]
  },
  {
   "cell_type": "code",
   "execution_count": 44,
   "id": "40315506-61f4-44e5-bbba-d0e30b9ca490",
   "metadata": {},
   "outputs": [
    {
     "data": {
      "text/plain": [
       "[1, 'Amard', (2+5j)]"
      ]
     },
     "execution_count": 44,
     "metadata": {},
     "output_type": "execute_result"
    }
   ],
   "source": [
    "l[::2]"
   ]
  },
  {
   "cell_type": "code",
   "execution_count": null,
   "id": "45cb1a0e-6e3f-430c-9dc7-2f883714b7ed",
   "metadata": {},
   "outputs": [],
   "source": [
    "\n",
    "\n"
   ]
  },
  {
   "cell_type": "code",
   "execution_count": 45,
   "id": "d021fb95-0485-495b-ba25-fe712e509c52",
   "metadata": {},
   "outputs": [],
   "source": [
    "# LIST WITH INBUILT FUNCTION\n"
   ]
  },
  {
   "cell_type": "code",
   "execution_count": 46,
   "id": "0b8622ee-cc68-41be-a687-05c290890eb6",
   "metadata": {},
   "outputs": [
    {
     "data": {
      "text/plain": [
       "[1, 2.21, 'Amard', 'Immortal', (2+5j)]"
      ]
     },
     "execution_count": 46,
     "metadata": {},
     "output_type": "execute_result"
    }
   ],
   "source": [
    "l"
   ]
  },
  {
   "cell_type": "code",
   "execution_count": 9,
   "id": "8bcb3f02-eaba-4122-92c7-03a21a1b76f6",
   "metadata": {},
   "outputs": [],
   "source": [
    "s=\"Pwskills\""
   ]
  },
  {
   "cell_type": "code",
   "execution_count": 7,
   "id": "a70edce0-ebc6-4c8c-bd56-00b983fadb17",
   "metadata": {},
   "outputs": [
    {
     "ename": "TypeError",
     "evalue": "can only concatenate list (not \"str\") to list",
     "output_type": "error",
     "traceback": [
      "\u001b[0;31m---------------------------------------------------------------------------\u001b[0m",
      "\u001b[0;31mTypeError\u001b[0m                                 Traceback (most recent call last)",
      "Cell \u001b[0;32mIn[7], line 1\u001b[0m\n\u001b[0;32m----> 1\u001b[0m \u001b[43ml\u001b[49m\u001b[38;5;241;43m+\u001b[39;49m\u001b[43ms\u001b[49m\u001b[38;5;66;03m# only concatenate list and list not list and string\u001b[39;00m\n",
      "\u001b[0;31mTypeError\u001b[0m: can only concatenate list (not \"str\") to list"
     ]
    }
   ],
   "source": [
    "l+s# only concatenate list and list not list and string"
   ]
  },
  {
   "cell_type": "code",
   "execution_count": 8,
   "id": "b7500a7d-d8b7-4cf8-a5a4-3fc7dc233f16",
   "metadata": {},
   "outputs": [
    {
     "data": {
      "text/plain": [
       "['P', 'w', 's', 'k', 'i', 'l', 'l', 's']"
      ]
     },
     "execution_count": 8,
     "metadata": {},
     "output_type": "execute_result"
    }
   ],
   "source": [
    "list(s)#not workable it gives list as separate form"
   ]
  },
  {
   "cell_type": "code",
   "execution_count": 16,
   "id": "e2725bc8-c8ff-4d31-8895-c951477c4009",
   "metadata": {},
   "outputs": [
    {
     "data": {
      "text/plain": [
       "['P',\n",
       " 'w',\n",
       " 's',\n",
       " 'k',\n",
       " 'i',\n",
       " 'l',\n",
       " 'l',\n",
       " 's',\n",
       " 1,\n",
       " 2.21,\n",
       " 'Amard',\n",
       " 'Immortal',\n",
       " True,\n",
       " (2+5j)]"
      ]
     },
     "execution_count": 16,
     "metadata": {},
     "output_type": "execute_result"
    }
   ],
   "source": [
    "list(s)+l"
   ]
  },
  {
   "cell_type": "code",
   "execution_count": 3,
   "id": "a5e7ae79-fe3b-4218-99ed-20efc6346639",
   "metadata": {},
   "outputs": [
    {
     "data": {
      "text/plain": [
       "'Amard'"
      ]
     },
     "execution_count": 3,
     "metadata": {},
     "output_type": "execute_result"
    }
   ],
   "source": [
    "l[2]"
   ]
  },
  {
   "cell_type": "code",
   "execution_count": 4,
   "id": "34403bfb-9e14-45a6-a467-ec871404248d",
   "metadata": {},
   "outputs": [
    {
     "data": {
      "text/plain": [
       "'Am'"
      ]
     },
     "execution_count": 4,
     "metadata": {},
     "output_type": "execute_result"
    }
   ],
   "source": [
    "l[2][0:2]"
   ]
  },
  {
   "cell_type": "code",
   "execution_count": 19,
   "id": "b3d5ef81-687c-401c-a18d-6b380d40f0dc",
   "metadata": {},
   "outputs": [
    {
     "data": {
      "text/plain": [
       "True"
      ]
     },
     "execution_count": 19,
     "metadata": {},
     "output_type": "execute_result"
    }
   ],
   "source": [
    "l[4]"
   ]
  },
  {
   "cell_type": "code",
   "execution_count": 20,
   "id": "88d0d3bb-001f-45d2-9796-3cccca3f237c",
   "metadata": {},
   "outputs": [
    {
     "ename": "TypeError",
     "evalue": "'bool' object is not subscriptable",
     "output_type": "error",
     "traceback": [
      "\u001b[0;31m---------------------------------------------------------------------------\u001b[0m",
      "\u001b[0;31mTypeError\u001b[0m                                 Traceback (most recent call last)",
      "Cell \u001b[0;32mIn[20], line 1\u001b[0m\n\u001b[0;32m----> 1\u001b[0m \u001b[43ml\u001b[49m\u001b[43m[\u001b[49m\u001b[38;5;241;43m4\u001b[39;49m\u001b[43m]\u001b[49m\u001b[43m[\u001b[49m\u001b[38;5;241;43m0\u001b[39;49m\u001b[43m:\u001b[49m\u001b[38;5;241;43m2\u001b[39;49m\u001b[43m]\u001b[49m\n",
      "\u001b[0;31mTypeError\u001b[0m: 'bool' object is not subscriptable"
     ]
    }
   ],
   "source": [
    "l[4][0:2]"
   ]
  },
  {
   "cell_type": "code",
   "execution_count": 21,
   "id": "7b10e7e7-7ed3-41ff-b25a-b8ff4687b19d",
   "metadata": {},
   "outputs": [
    {
     "data": {
      "text/plain": [
       "'Tr'"
      ]
     },
     "execution_count": 21,
     "metadata": {},
     "output_type": "execute_result"
    }
   ],
   "source": [
    "str(l[4])[0:2]"
   ]
  },
  {
   "cell_type": "code",
   "execution_count": 22,
   "id": "50319352-f14e-48d2-996b-bca8a4ddbe90",
   "metadata": {},
   "outputs": [
    {
     "ename": "TypeError",
     "evalue": "can only concatenate list (not \"int\") to list",
     "output_type": "error",
     "traceback": [
      "\u001b[0;31m---------------------------------------------------------------------------\u001b[0m",
      "\u001b[0;31mTypeError\u001b[0m                                 Traceback (most recent call last)",
      "Cell \u001b[0;32mIn[22], line 1\u001b[0m\n\u001b[0;32m----> 1\u001b[0m \u001b[43ml\u001b[49m\u001b[38;5;241;43m+\u001b[39;49m\u001b[38;5;241;43m5\u001b[39;49m\n",
      "\u001b[0;31mTypeError\u001b[0m: can only concatenate list (not \"int\") to list"
     ]
    }
   ],
   "source": [
    "l+5\n"
   ]
  },
  {
   "cell_type": "code",
   "execution_count": 1,
   "id": "2387c48a-9620-45b4-a2ff-e4a4fa1afbb6",
   "metadata": {},
   "outputs": [],
   "source": [
    "l2=[5,8,\"Akash\"]"
   ]
  },
  {
   "cell_type": "code",
   "execution_count": 18,
   "id": "d5f52bb1-d2e8-407e-8ebe-601c4cfe155e",
   "metadata": {},
   "outputs": [
    {
     "data": {
      "text/plain": [
       "[1,\n",
       " 2.21,\n",
       " 'Amard',\n",
       " 'Immortal',\n",
       " True,\n",
       " (2+5j),\n",
       " 5,\n",
       " 5,\n",
       " 5,\n",
       " 5,\n",
       " 5,\n",
       " [5, 8, 'Akash', 5, 5],\n",
       " 5,\n",
       " 8,\n",
       " 'Akash',\n",
       " 5,\n",
       " 5]"
      ]
     },
     "execution_count": 18,
     "metadata": {},
     "output_type": "execute_result"
    }
   ],
   "source": [
    "l+l2# list can add "
   ]
  },
  {
   "cell_type": "code",
   "execution_count": 20,
   "id": "08a3a831-b43f-47dc-b7b8-a06f826f6763",
   "metadata": {},
   "outputs": [
    {
     "data": {
      "text/plain": [
       "[5, 8, 'Akash', 5, 5, 5, 8, 'Akash', 5, 5, 5, 8, 'Akash', 5, 5]"
      ]
     },
     "execution_count": 20,
     "metadata": {},
     "output_type": "execute_result"
    }
   ],
   "source": [
    "l2*3"
   ]
  },
  {
   "cell_type": "code",
   "execution_count": 21,
   "id": "38f9d3b1-0109-4294-a6a1-7f6520387dd0",
   "metadata": {},
   "outputs": [
    {
     "data": {
      "text/plain": [
       "12"
      ]
     },
     "execution_count": 21,
     "metadata": {},
     "output_type": "execute_result"
    }
   ],
   "source": [
    "len(l)"
   ]
  },
  {
   "cell_type": "code",
   "execution_count": 22,
   "id": "a2b4b9a3-47ea-45d8-a71d-9e693b5a90da",
   "metadata": {},
   "outputs": [],
   "source": [
    "l2.append(5)"
   ]
  },
  {
   "cell_type": "code",
   "execution_count": 17,
   "id": "77163f02-fa04-49e5-a4a6-740d10930499",
   "metadata": {},
   "outputs": [
    {
     "data": {
      "text/plain": [
       "[5, 8, 'Akash']"
      ]
     },
     "execution_count": 17,
     "metadata": {},
     "output_type": "execute_result"
    }
   ],
   "source": [
    "l2"
   ]
  },
  {
   "cell_type": "code",
   "execution_count": 15,
   "id": "fd738155-2717-4603-acd1-e79f06d7d5fc",
   "metadata": {},
   "outputs": [],
   "source": [
    "l.append(l2)"
   ]
  },
  {
   "cell_type": "code",
   "execution_count": 16,
   "id": "2d28ecc6-f133-45bf-9288-73658315c19e",
   "metadata": {},
   "outputs": [
    {
     "data": {
      "text/plain": [
       "[2.21, 'Amard', 'ATOMS', 'Immortal', True, (2+5j), [5, 8, 'Akash']]"
      ]
     },
     "execution_count": 16,
     "metadata": {},
     "output_type": "execute_result"
    }
   ],
   "source": [
    "l\n"
   ]
  },
  {
   "cell_type": "code",
   "execution_count": 27,
   "id": "7917da31-8af2-4d39-8d47-a8bf3b22652c",
   "metadata": {},
   "outputs": [
    {
     "data": {
      "text/plain": [
       "8"
      ]
     },
     "execution_count": 27,
     "metadata": {},
     "output_type": "execute_result"
    }
   ],
   "source": [
    "l[-1][1]"
   ]
  },
  {
   "cell_type": "code",
   "execution_count": 28,
   "id": "eb79479f-6cf2-4c76-95d2-24f3b617d9ae",
   "metadata": {},
   "outputs": [
    {
     "ename": "TypeError",
     "evalue": "'int' object is not iterable",
     "output_type": "error",
     "traceback": [
      "\u001b[0;31m---------------------------------------------------------------------------\u001b[0m",
      "\u001b[0;31mTypeError\u001b[0m                                 Traceback (most recent call last)",
      "Cell \u001b[0;32mIn[28], line 1\u001b[0m\n\u001b[0;32m----> 1\u001b[0m \u001b[43ml\u001b[49m\u001b[38;5;241;43m.\u001b[39;49m\u001b[43mextend\u001b[49m\u001b[43m(\u001b[49m\u001b[38;5;241;43m99\u001b[39;49m\u001b[43m)\u001b[49m\n",
      "\u001b[0;31mTypeError\u001b[0m: 'int' object is not iterable"
     ]
    }
   ],
   "source": [
    "l.extend(99)"
   ]
  },
  {
   "cell_type": "code",
   "execution_count": 34,
   "id": "654b6c8c-7b02-4d16-b4bb-f9c4b1ef67b2",
   "metadata": {},
   "outputs": [],
   "source": [
    "l.extend(\"Akash\")#unpack the string in character and also multiple number and store in line by line "
   ]
  },
  {
   "cell_type": "code",
   "execution_count": 30,
   "id": "ffc4a654-4682-41e1-94d5-a52e0be0bb99",
   "metadata": {},
   "outputs": [
    {
     "data": {
      "text/plain": [
       "[1,\n",
       " 2.21,\n",
       " 'Amard',\n",
       " 'Immortal',\n",
       " True,\n",
       " (2+5j),\n",
       " 5,\n",
       " 5,\n",
       " 5,\n",
       " 5,\n",
       " 5,\n",
       " [5, 8, 'Akash', 5, 5, 5],\n",
       " [5, 8, 'Akash', 5, 5, 5],\n",
       " 'A',\n",
       " 'k',\n",
       " 'a',\n",
       " 's',\n",
       " 'h']"
      ]
     },
     "execution_count": 30,
     "metadata": {},
     "output_type": "execute_result"
    }
   ],
   "source": [
    "l"
   ]
  },
  {
   "cell_type": "code",
   "execution_count": 32,
   "id": "2507908a-851e-4e2c-a831-7a7c8988e4ab",
   "metadata": {},
   "outputs": [],
   "source": [
    "l.extend([4,92,100.233])"
   ]
  },
  {
   "cell_type": "code",
   "execution_count": 33,
   "id": "ee150cbf-5724-42e5-bde6-395a3e3efe2a",
   "metadata": {},
   "outputs": [
    {
     "data": {
      "text/plain": [
       "[1,\n",
       " 2.21,\n",
       " 'Amard',\n",
       " 'Immortal',\n",
       " True,\n",
       " (2+5j),\n",
       " 5,\n",
       " 5,\n",
       " 5,\n",
       " 5,\n",
       " 5,\n",
       " [5, 8, 'Akash', 5, 5, 5],\n",
       " [5, 8, 'Akash', 5, 5, 5],\n",
       " 'A',\n",
       " 'k',\n",
       " 'a',\n",
       " 's',\n",
       " 'h',\n",
       " 4,\n",
       " 92,\n",
       " 100.233]"
      ]
     },
     "execution_count": 33,
     "metadata": {},
     "output_type": "execute_result"
    }
   ],
   "source": [
    "l"
   ]
  },
  {
   "cell_type": "code",
   "execution_count": 4,
   "id": "f2070aab-740c-4976-8d0e-14ccbd7b8cc7",
   "metadata": {},
   "outputs": [],
   "source": [
    "l.insert(1,45)"
   ]
  },
  {
   "cell_type": "code",
   "execution_count": 5,
   "id": "468e8e29-9c75-46bf-a684-9b98cc103508",
   "metadata": {},
   "outputs": [
    {
     "data": {
      "text/plain": [
       "[1, 45, 2.21, 'Amard', 'Immortal', True, (2+5j)]"
      ]
     },
     "execution_count": 5,
     "metadata": {},
     "output_type": "execute_result"
    }
   ],
   "source": [
    "l"
   ]
  },
  {
   "cell_type": "code",
   "execution_count": 9,
   "id": "24784a52-39d9-43a0-bc2e-42aecc2362f6",
   "metadata": {},
   "outputs": [],
   "source": [
    "l.insert(2,\"ATOMS\")"
   ]
  },
  {
   "cell_type": "code",
   "execution_count": 10,
   "id": "67ae17e2-83cf-414b-8091-f17b5560cb64",
   "metadata": {},
   "outputs": [
    {
     "data": {
      "text/plain": [
       "[2.21, 'Amard', 'ATOMS', 'Immortal', True, (2+5j)]"
      ]
     },
     "execution_count": 10,
     "metadata": {},
     "output_type": "execute_result"
    }
   ],
   "source": [
    "l"
   ]
  },
  {
   "cell_type": "code",
   "execution_count": 11,
   "id": "8250fe99-f227-48ca-9527-9e57030ff2e3",
   "metadata": {},
   "outputs": [
    {
     "ename": "NameError",
     "evalue": "name 'l2' is not defined",
     "output_type": "error",
     "traceback": [
      "\u001b[0;31m---------------------------------------------------------------------------\u001b[0m",
      "\u001b[0;31mNameError\u001b[0m                                 Traceback (most recent call last)",
      "Cell \u001b[0;32mIn[11], line 1\u001b[0m\n\u001b[0;32m----> 1\u001b[0m \u001b[43ml2\u001b[49m\u001b[38;5;241m.\u001b[39minsert(l1)\n",
      "\u001b[0;31mNameError\u001b[0m: name 'l2' is not defined"
     ]
    }
   ],
   "source": [
    "l2.insert(l1)"
   ]
  },
  {
   "cell_type": "code",
   "execution_count": 11,
   "id": "f673d945-b2e6-456e-a8f7-dfc79192617c",
   "metadata": {},
   "outputs": [],
   "source": [
    "l.insert(-1,99.99)#data is actually in -1 means last position but it shifts last the last element \n",
    " # sab mein aisa hi ho raha hai like 1 index mein data hai but wo data ko shift kar de raha jo pehle 1 index mein tha\n",
    "    "
   ]
  },
  {
   "cell_type": "code",
   "execution_count": 12,
   "id": "3fa8b15d-3c28-456f-8f50-83e3bab267e3",
   "metadata": {},
   "outputs": [
    {
     "data": {
      "text/plain": [
       "[1, 45, 'ATOMS', 96, 2.21, 'Amard', 'Immortal', True, 99.99, (2+5j)]"
      ]
     },
     "execution_count": 12,
     "metadata": {},
     "output_type": "execute_result"
    }
   ],
   "source": [
    "l"
   ]
  },
  {
   "cell_type": "code",
   "execution_count": 25,
   "id": "df995a09-4e9e-4db2-aa53-641d5c16ad75",
   "metadata": {},
   "outputs": [
    {
     "ename": "SyntaxError",
     "evalue": "invalid syntax (2739170811.py, line 1)",
     "output_type": "error",
     "traceback": [
      "\u001b[0;36m  Cell \u001b[0;32mIn[25], line 1\u001b[0;36m\u001b[0m\n\u001b[0;31m    l.insert([1:4],1,2,3,4)#is it invalid syantax\u001b[0m\n\u001b[0m               ^\u001b[0m\n\u001b[0;31mSyntaxError\u001b[0m\u001b[0;31m:\u001b[0m invalid syntax\n"
     ]
    }
   ],
   "source": [
    "l.insert([1:4],1,2,3,4)#is it invalid syantax"
   ]
  },
  {
   "cell_type": "code",
   "execution_count": 28,
   "id": "bf039545-4be4-4b95-bdfe-a126df0220eb",
   "metadata": {},
   "outputs": [
    {
     "data": {
      "text/plain": [
       "True"
      ]
     },
     "execution_count": 28,
     "metadata": {},
     "output_type": "execute_result"
    }
   ],
   "source": [
    "l.pop()\n"
   ]
  },
  {
   "cell_type": "code",
   "execution_count": 29,
   "id": "34a8e57a-a41e-4eb0-b107-5f1e30983536",
   "metadata": {},
   "outputs": [
    {
     "data": {
      "text/plain": [
       "[1, 45, 'ATOMS', 96, 2.21, 'Amard', 'Immortal']"
      ]
     },
     "execution_count": 29,
     "metadata": {},
     "output_type": "execute_result"
    }
   ],
   "source": [
    "l"
   ]
  },
  {
   "cell_type": "code",
   "execution_count": 30,
   "id": "02214a3b-ecda-48a4-a99c-be65a4ac76b4",
   "metadata": {},
   "outputs": [
    {
     "data": {
      "text/plain": [
       "96"
      ]
     },
     "execution_count": 30,
     "metadata": {},
     "output_type": "execute_result"
    }
   ],
   "source": [
    "l.pop(3)"
   ]
  },
  {
   "cell_type": "code",
   "execution_count": 42,
   "id": "5765cc5b-3bbf-4822-adff-016898525135",
   "metadata": {},
   "outputs": [
    {
     "data": {
      "text/plain": [
       "[1, 45, 'ATOMS', 2.21, 'Amard', 'Immortal', [5, 'Akash']]"
      ]
     },
     "execution_count": 42,
     "metadata": {},
     "output_type": "execute_result"
    }
   ],
   "source": [
    "l"
   ]
  },
  {
   "cell_type": "code",
   "execution_count": 43,
   "id": "c06b8299-f2ca-44fb-8bf8-d710c8ac155c",
   "metadata": {},
   "outputs": [],
   "source": [
    "l[6].remove(5)"
   ]
  },
  {
   "cell_type": "code",
   "execution_count": 44,
   "id": "c74039ba-2368-4a09-89c5-6f2bf4030872",
   "metadata": {},
   "outputs": [
    {
     "data": {
      "text/plain": [
       "[1, 45, 'ATOMS', 2.21, 'Amard', 'Immortal', ['Akash']]"
      ]
     },
     "execution_count": 44,
     "metadata": {},
     "output_type": "execute_result"
    }
   ],
   "source": [
    "l"
   ]
  },
  {
   "cell_type": "code",
   "execution_count": 46,
   "id": "ade58d91-3722-40bd-a03f-23707d8c6238",
   "metadata": {},
   "outputs": [],
   "source": [
    "l.extend(l2)"
   ]
  },
  {
   "cell_type": "code",
   "execution_count": 47,
   "id": "e284b9b9-51ef-498d-b54d-c8573f59e081",
   "metadata": {},
   "outputs": [
    {
     "data": {
      "text/plain": [
       "[1, 45, 'ATOMS', 2.21, 'Amard', 'Immortal', ['Akash'], 'Akash']"
      ]
     },
     "execution_count": 47,
     "metadata": {},
     "output_type": "execute_result"
    }
   ],
   "source": [
    "l"
   ]
  },
  {
   "cell_type": "code",
   "execution_count": 49,
   "id": "91e42ef9-067d-47ad-b5f6-2e9995c07615",
   "metadata": {},
   "outputs": [],
   "source": [
    "l2.append(\"Amar\")"
   ]
  },
  {
   "cell_type": "code",
   "execution_count": 51,
   "id": "64d7b5a2-2961-4499-b972-21b7991ba462",
   "metadata": {},
   "outputs": [],
   "source": [
    "l2\n",
    "\n",
    "l"
   ]
  },
  {
   "cell_type": "code",
   "execution_count": 53,
   "id": "1dc7c13f-79ea-45c7-b1eb-c68fc2c3092e",
   "metadata": {},
   "outputs": [],
   "source": [
    "l2.extend(\"Aman\")"
   ]
  },
  {
   "cell_type": "code",
   "execution_count": 54,
   "id": "ae0a7740-03a9-47d4-a615-0c5c4a9909bd",
   "metadata": {},
   "outputs": [
    {
     "data": {
      "text/plain": [
       "['Akash', 'Amar', 'A', 'm', 'a', 'n']"
      ]
     },
     "execution_count": 54,
     "metadata": {},
     "output_type": "execute_result"
    }
   ],
   "source": [
    "l2"
   ]
  },
  {
   "cell_type": "code",
   "execution_count": 55,
   "id": "bc8255b5-2aec-4752-a986-bf92f56ed938",
   "metadata": {},
   "outputs": [
    {
     "data": {
      "text/plain": [
       "[1,\n",
       " 45,\n",
       " 'ATOMS',\n",
       " 2.21,\n",
       " 'Amard',\n",
       " 'Immortal',\n",
       " ['Akash', 'Amar', 'A', 'm', 'a', 'n'],\n",
       " 'Akash',\n",
       " 'A',\n",
       " 'm',\n",
       " 'a',\n",
       " 'n']"
      ]
     },
     "execution_count": 55,
     "metadata": {},
     "output_type": "execute_result"
    }
   ],
   "source": [
    "l"
   ]
  },
  {
   "cell_type": "code",
   "execution_count": 5,
   "id": "83280fa7-fed0-4b6e-9708-be172a4c2541",
   "metadata": {},
   "outputs": [
    {
     "ename": "NameError",
     "evalue": "name 'l2' is not defined",
     "output_type": "error",
     "traceback": [
      "\u001b[0;31m---------------------------------------------------------------------------\u001b[0m",
      "\u001b[0;31mNameError\u001b[0m                                 Traceback (most recent call last)",
      "Cell \u001b[0;32mIn[5], line 1\u001b[0m\n\u001b[0;32m----> 1\u001b[0m \u001b[43ml2\u001b[49m[\u001b[38;5;241m7\u001b[39m]\u001b[38;5;241m.\u001b[39mpop(\u001b[38;5;241m2\u001b[39m)\n",
      "\u001b[0;31mNameError\u001b[0m: name 'l2' is not defined"
     ]
    }
   ],
   "source": [
    "l2[7].pop(2)"
   ]
  },
  {
   "cell_type": "code",
   "execution_count": 6,
   "id": "a978e07f-05fe-4131-ac14-2c8c526a9a15",
   "metadata": {},
   "outputs": [],
   "source": [
    "l.remove(1)\n"
   ]
  },
  {
   "cell_type": "code",
   "execution_count": 7,
   "id": "ffb509dd-f429-4b2a-a496-3b8109cd2562",
   "metadata": {},
   "outputs": [
    {
     "data": {
      "text/plain": [
       "[2.21, 'Amard', 'Immortal', True, (2+5j)]"
      ]
     },
     "execution_count": 7,
     "metadata": {},
     "output_type": "execute_result"
    }
   ],
   "source": [
    "l\n"
   ]
  },
  {
   "cell_type": "code",
   "execution_count": 8,
   "id": "d08a5992-72ea-4059-87de-65eac2a3a21b",
   "metadata": {},
   "outputs": [
    {
     "ename": "ValueError",
     "evalue": "list.remove(x): x not in list",
     "output_type": "error",
     "traceback": [
      "\u001b[0;31m---------------------------------------------------------------------------\u001b[0m",
      "\u001b[0;31mValueError\u001b[0m                                Traceback (most recent call last)",
      "Cell \u001b[0;32mIn[8], line 1\u001b[0m\n\u001b[0;32m----> 1\u001b[0m \u001b[43ml\u001b[49m\u001b[38;5;241;43m.\u001b[39;49m\u001b[43mremove\u001b[49m\u001b[43m(\u001b[49m\u001b[38;5;241;43m123\u001b[39;49m\u001b[43m)\u001b[49m\n",
      "\u001b[0;31mValueError\u001b[0m: list.remove(x): x not in list"
     ]
    }
   ],
   "source": [
    "l.remove(123)"
   ]
  },
  {
   "cell_type": "code",
   "execution_count": 20,
   "id": "1a18c6ee-a90d-498c-a0f3-5b9f9d765638",
   "metadata": {},
   "outputs": [],
   "source": [
    "l[6].remove(8)"
   ]
  },
  {
   "cell_type": "code",
   "execution_count": 21,
   "id": "41c6af13-d3a9-454b-ba0a-66030aff79e2",
   "metadata": {},
   "outputs": [
    {
     "data": {
      "text/plain": [
       "[2.21, 'Amard', 'ATOMS', 'Immortal', True, (2+5j), [5, 'Akash']]"
      ]
     },
     "execution_count": 21,
     "metadata": {},
     "output_type": "execute_result"
    }
   ],
   "source": [
    "l"
   ]
  },
  {
   "cell_type": "code",
   "execution_count": 22,
   "id": "0511d93c-dfb9-42d0-a94a-ad33c54d35d4",
   "metadata": {},
   "outputs": [
    {
     "ename": "AttributeError",
     "evalue": "'str' object has no attribute 'remove'",
     "output_type": "error",
     "traceback": [
      "\u001b[0;31m---------------------------------------------------------------------------\u001b[0m",
      "\u001b[0;31mAttributeError\u001b[0m                            Traceback (most recent call last)",
      "Cell \u001b[0;32mIn[22], line 1\u001b[0m\n\u001b[0;32m----> 1\u001b[0m \u001b[43ml\u001b[49m\u001b[43m[\u001b[49m\u001b[38;5;241;43m1\u001b[39;49m\u001b[43m]\u001b[49m\u001b[38;5;241;43m.\u001b[39;49m\u001b[43mremove\u001b[49m(\u001b[38;5;124m\"\u001b[39m\u001b[38;5;124md\u001b[39m\u001b[38;5;124m\"\u001b[39m)\n",
      "\u001b[0;31mAttributeError\u001b[0m: 'str' object has no attribute 'remove'"
     ]
    }
   ],
   "source": [
    "l[1].remove(\"d\")#not delete because string is not mutalble "
   ]
  },
  {
   "cell_type": "code",
   "execution_count": 23,
   "id": "1d5b59da-c103-461c-babb-88d0a96e0298",
   "metadata": {},
   "outputs": [
    {
     "data": {
      "text/plain": [
       "[[5, 'Akash'], (2+5j), True, 'Immortal', 'ATOMS', 'Amard', 2.21]"
      ]
     },
     "execution_count": 23,
     "metadata": {},
     "output_type": "execute_result"
    }
   ],
   "source": [
    "l[::-1]"
   ]
  },
  {
   "cell_type": "code",
   "execution_count": 24,
   "id": "bd29b316-2bd3-4a49-bc1e-ace9681e3144",
   "metadata": {},
   "outputs": [
    {
     "data": {
      "text/plain": [
       "[2.21, 'Amard', 'ATOMS', 'Immortal', True, (2+5j), [5, 'Akash']]"
      ]
     },
     "execution_count": 24,
     "metadata": {},
     "output_type": "execute_result"
    }
   ],
   "source": [
    "l"
   ]
  },
  {
   "cell_type": "code",
   "execution_count": 25,
   "id": "c5a1df0f-6b11-4b01-ba54-32153a70e6e4",
   "metadata": {},
   "outputs": [],
   "source": [
    "l.reverse()"
   ]
  },
  {
   "cell_type": "code",
   "execution_count": 26,
   "id": "3de4676f-f10e-458a-858e-337c267ccd7b",
   "metadata": {},
   "outputs": [
    {
     "data": {
      "text/plain": [
       "[[5, 'Akash'], (2+5j), True, 'Immortal', 'ATOMS', 'Amard', 2.21]"
      ]
     },
     "execution_count": 26,
     "metadata": {},
     "output_type": "execute_result"
    }
   ],
   "source": [
    "l"
   ]
  },
  {
   "cell_type": "code",
   "execution_count": null,
   "id": "174b2b6a-e969-42cd-9ba0-a5835ace3df7",
   "metadata": {},
   "outputs": [],
   "source": [
    "# the only diffference between [::-1] and reverse is that reverse function permanently reverse \n",
    "# while [::-1] only print in temporary"
   ]
  },
  {
   "cell_type": "code",
   "execution_count": 27,
   "id": "25a83de8-979e-4c19-8a15-2800bb4956d3",
   "metadata": {},
   "outputs": [],
   "source": [
    "# But by this method we can \n",
    "l=l[::-1]"
   ]
  },
  {
   "cell_type": "code",
   "execution_count": 28,
   "id": "b6429ae8-7f92-49f8-bb70-af63093ece36",
   "metadata": {},
   "outputs": [
    {
     "data": {
      "text/plain": [
       "[2.21, 'Amard', 'ATOMS', 'Immortal', True, (2+5j), [5, 'Akash']]"
      ]
     },
     "execution_count": 28,
     "metadata": {},
     "output_type": "execute_result"
    }
   ],
   "source": [
    "l"
   ]
  },
  {
   "cell_type": "code",
   "execution_count": 29,
   "id": "fda0f474-a559-4a7d-964d-4bcbe9e810fe",
   "metadata": {},
   "outputs": [
    {
     "ename": "TypeError",
     "evalue": "'<' not supported between instances of 'str' and 'float'",
     "output_type": "error",
     "traceback": [
      "\u001b[0;31m---------------------------------------------------------------------------\u001b[0m",
      "\u001b[0;31mTypeError\u001b[0m                                 Traceback (most recent call last)",
      "Cell \u001b[0;32mIn[29], line 1\u001b[0m\n\u001b[0;32m----> 1\u001b[0m \u001b[43ml\u001b[49m\u001b[38;5;241;43m.\u001b[39;49m\u001b[43msort\u001b[49m\u001b[43m(\u001b[49m\u001b[43m)\u001b[49m\n",
      "\u001b[0;31mTypeError\u001b[0m: '<' not supported between instances of 'str' and 'float'"
     ]
    }
   ],
   "source": [
    "l.sort()"
   ]
  },
  {
   "cell_type": "code",
   "execution_count": 6,
   "id": "8218310a-935f-4857-ab5a-4ad8eb555fab",
   "metadata": {},
   "outputs": [],
   "source": [
    "l3=[1,2,5,3,45,34.22,33.99,33,44.3]"
   ]
  },
  {
   "cell_type": "code",
   "execution_count": 7,
   "id": "02ee3879-3996-4bc3-9766-ca24758c4883",
   "metadata": {},
   "outputs": [],
   "source": [
    "l3.sort()"
   ]
  },
  {
   "cell_type": "code",
   "execution_count": 8,
   "id": "fe67b831-acaa-4d40-b5a9-6802fb917688",
   "metadata": {},
   "outputs": [
    {
     "data": {
      "text/plain": [
       "[1, 2, 3, 5, 33, 33.99, 34.22, 44.3, 45]"
      ]
     },
     "execution_count": 8,
     "metadata": {},
     "output_type": "execute_result"
    }
   ],
   "source": [
    "l3"
   ]
  },
  {
   "cell_type": "code",
   "execution_count": 3,
   "id": "c73ea4bf-4448-4e68-acee-29f79c9b4ee5",
   "metadata": {},
   "outputs": [],
   "source": [
    "l4=[\"Amar\",'Akash','Pari']"
   ]
  },
  {
   "cell_type": "code",
   "execution_count": 4,
   "id": "8028966c-3261-4f36-a7dd-91eced5223a5",
   "metadata": {},
   "outputs": [],
   "source": [
    "l4.sort()"
   ]
  },
  {
   "cell_type": "code",
   "execution_count": 5,
   "id": "c0061026-3fbd-49b8-a852-0a5576d6129f",
   "metadata": {},
   "outputs": [
    {
     "data": {
      "text/plain": [
       "['Akash', 'Amar', 'Pari']"
      ]
     },
     "execution_count": 5,
     "metadata": {},
     "output_type": "execute_result"
    }
   ],
   "source": [
    "l4"
   ]
  },
  {
   "cell_type": "code",
   "execution_count": 9,
   "id": "65c0f936-9acf-40c0-9dd7-8765ad7bfe20",
   "metadata": {},
   "outputs": [],
   "source": [
    "l4.sort(reverse=True)"
   ]
  },
  {
   "cell_type": "code",
   "execution_count": 10,
   "id": "2a15cd38-2406-4a2a-9c4f-f550d22ce6ed",
   "metadata": {},
   "outputs": [
    {
     "data": {
      "text/plain": [
       "['Pari', 'Amar', 'Akash']"
      ]
     },
     "execution_count": 10,
     "metadata": {},
     "output_type": "execute_result"
    }
   ],
   "source": [
    "l4"
   ]
  },
  {
   "cell_type": "code",
   "execution_count": 12,
   "id": "cbcee177-fb15-4879-bfbf-c5830cda655f",
   "metadata": {},
   "outputs": [],
   "source": [
    "l5=['Amar','Aman','Amit']"
   ]
  },
  {
   "cell_type": "code",
   "execution_count": 13,
   "id": "6422c9c4-755b-4819-b7ef-47d8a6f4dd14",
   "metadata": {},
   "outputs": [],
   "source": [
    "l5.sort()"
   ]
  },
  {
   "cell_type": "code",
   "execution_count": 14,
   "id": "8b854feb-120c-41e2-b453-9214d788fd88",
   "metadata": {},
   "outputs": [
    {
     "data": {
      "text/plain": [
       "['Aman', 'Amar', 'Amit']"
      ]
     },
     "execution_count": 14,
     "metadata": {},
     "output_type": "execute_result"
    }
   ],
   "source": [
    "l5"
   ]
  },
  {
   "cell_type": "code",
   "execution_count": 15,
   "id": "e3feecaa-91d6-47c0-a302-5b0112087882",
   "metadata": {},
   "outputs": [],
   "source": [
    "l5.sort(reverse=False)"
   ]
  },
  {
   "cell_type": "code",
   "execution_count": 16,
   "id": "a3f12c00-5996-48f0-96d7-5a567bcfd0a3",
   "metadata": {},
   "outputs": [
    {
     "data": {
      "text/plain": [
       "['Aman', 'Amar', 'Amit']"
      ]
     },
     "execution_count": 16,
     "metadata": {},
     "output_type": "execute_result"
    }
   ],
   "source": [
    "l5"
   ]
  },
  {
   "cell_type": "code",
   "execution_count": 17,
   "id": "6339889d-89f1-4ded-bd62-d891f613241a",
   "metadata": {},
   "outputs": [],
   "source": [
    "l5.sort(reverse=True)"
   ]
  },
  {
   "cell_type": "code",
   "execution_count": 18,
   "id": "9226919d-8c11-481e-8838-6220279a3f5a",
   "metadata": {},
   "outputs": [
    {
     "data": {
      "text/plain": [
       "['Amit', 'Amar', 'Aman']"
      ]
     },
     "execution_count": 18,
     "metadata": {},
     "output_type": "execute_result"
    }
   ],
   "source": [
    "l5\n"
   ]
  },
  {
   "cell_type": "code",
   "execution_count": 19,
   "id": "4c5b0c8e-d9cd-4060-bc4a-f3ca1947b73e",
   "metadata": {},
   "outputs": [
    {
     "data": {
      "text/plain": [
       "0"
      ]
     },
     "execution_count": 19,
     "metadata": {},
     "output_type": "execute_result"
    }
   ],
   "source": [
    "l5.index(\"Amit\")"
   ]
  },
  {
   "cell_type": "code",
   "execution_count": 20,
   "id": "27b54e02-848a-4f1a-ae40-d3d27de9403f",
   "metadata": {},
   "outputs": [
    {
     "data": {
      "text/plain": [
       "1"
      ]
     },
     "execution_count": 20,
     "metadata": {},
     "output_type": "execute_result"
    }
   ],
   "source": [
    "l5.count(\"Amit\")"
   ]
  },
  {
   "cell_type": "code",
   "execution_count": 26,
   "id": "a838c7bc-850f-4631-af4a-3e6d4dc9c27e",
   "metadata": {},
   "outputs": [
    {
     "data": {
      "text/plain": [
       "0"
      ]
     },
     "execution_count": 26,
     "metadata": {},
     "output_type": "execute_result"
    }
   ],
   "source": [
    "l5.count('m')"
   ]
  },
  {
   "cell_type": "code",
   "execution_count": 28,
   "id": "0999afb4-9520-43e2-a8dc-c2f566cf0ea3",
   "metadata": {},
   "outputs": [],
   "source": [
    "s='Sudh'"
   ]
  },
  {
   "cell_type": "code",
   "execution_count": 30,
   "id": "03d23b34-164f-4ecf-8ae8-e5bc4528a4ce",
   "metadata": {},
   "outputs": [
    {
     "ename": "TypeError",
     "evalue": "'str' object does not support item assignment",
     "output_type": "error",
     "traceback": [
      "\u001b[0;31m---------------------------------------------------------------------------\u001b[0m",
      "\u001b[0;31mTypeError\u001b[0m                                 Traceback (most recent call last)",
      "Cell \u001b[0;32mIn[30], line 1\u001b[0m\n\u001b[0;32m----> 1\u001b[0m \u001b[43ms\u001b[49m\u001b[43m[\u001b[49m\u001b[38;5;241;43m0\u001b[39;49m\u001b[43m]\u001b[49m\u001b[38;5;241m=\u001b[39m\u001b[38;5;124m\"\u001b[39m\u001b[38;5;124mB\u001b[39m\u001b[38;5;124m\"\u001b[39m\n",
      "\u001b[0;31mTypeError\u001b[0m: 'str' object does not support item assignment"
     ]
    }
   ],
   "source": [
    "s[0]=\"B\"\n"
   ]
  },
  {
   "cell_type": "code",
   "execution_count": 31,
   "id": "0485ba47-dc74-4da9-a173-411a5a5671cd",
   "metadata": {},
   "outputs": [],
   "source": [
    "l6=[1,22,33.22,5]"
   ]
  },
  {
   "cell_type": "code",
   "execution_count": 32,
   "id": "81b682b4-bb99-477a-a11f-8688c20ce8a8",
   "metadata": {},
   "outputs": [],
   "source": [
    "l6[0]=55"
   ]
  },
  {
   "cell_type": "code",
   "execution_count": 33,
   "id": "ddfd2b3b-df71-47ec-bc76-e2b39e2d048d",
   "metadata": {},
   "outputs": [
    {
     "data": {
      "text/plain": [
       "[55, 22, 33.22, 5]"
      ]
     },
     "execution_count": 33,
     "metadata": {},
     "output_type": "execute_result"
    }
   ],
   "source": [
    "l6"
   ]
  },
  {
   "cell_type": "code",
   "execution_count": 41,
   "id": "5542d7f3-49cd-419c-8bf4-ff4d9f0200fd",
   "metadata": {},
   "outputs": [
    {
     "data": {
      "text/plain": [
       "'B'"
      ]
     },
     "execution_count": 41,
     "metadata": {},
     "output_type": "execute_result"
    }
   ],
   "source": [
    "s[0].replace(\"S\",\"B\")"
   ]
  },
  {
   "cell_type": "code",
   "execution_count": 42,
   "id": "8222eb24-dd9f-4334-9713-8e424caad71d",
   "metadata": {},
   "outputs": [
    {
     "data": {
      "text/plain": [
       "'Budh'"
      ]
     },
     "execution_count": 42,
     "metadata": {},
     "output_type": "execute_result"
    }
   ],
   "source": [
    "s.replace('S',\"B\")# only print in temporary means different memory locations ;"
   ]
  },
  {
   "cell_type": "code",
   "execution_count": 43,
   "id": "dbb2393c-95e6-4486-8d3a-ae1e05ea6076",
   "metadata": {},
   "outputs": [
    {
     "data": {
      "text/plain": [
       "'Sudh'"
      ]
     },
     "execution_count": 43,
     "metadata": {},
     "output_type": "execute_result"
    }
   ],
   "source": [
    "s# can't change on same memory locations so print sudh not Budh"
   ]
  },
  {
   "cell_type": "code",
   "execution_count": null,
   "id": "dbef4b2a-337f-4cf0-b552-1ae22447bc01",
   "metadata": {},
   "outputs": [],
   "source": []
  },
  {
   "cell_type": "code",
   "execution_count": 2,
   "id": "53f35f01-bdbb-4c64-8dbe-5bd22b7e907e",
   "metadata": {},
   "outputs": [],
   "source": [
    "# doubt and solution \n"
   ]
  },
  {
   "cell_type": "code",
   "execution_count": 6,
   "id": "3cbfd173-3bba-4a3b-a031-26072a9bc9b1",
   "metadata": {},
   "outputs": [
    {
     "name": "stdout",
     "output_type": "stream",
     "text": [
      "[1, 2, 3, [2, 3]]  append keeps element at last\n",
      "[1, 2, 3, [2, 3]]  insert keeps elements at desried position\n",
      "[1, 2, 3, 2, 3]  extend keeps element at last and it also unpack string into character\n"
     ]
    }
   ],
   "source": [
    "# Python program to demonstrate\n",
    "# comparison between the three methods\n",
    "\n",
    "# assign lists\n",
    "list_1 = [1, 2, 3]\n",
    "list_2 = [1, 2, 3]\n",
    "list_3 = [1, 2, 3]\n",
    "\n",
    "a = [2, 3]\n",
    "\n",
    "# use methods\n",
    "list_1.append(a)\n",
    "list_2.insert(3, a)\n",
    "list_3.extend(a)\n",
    "\n",
    "# display lis'ts\n",
    "print(list_1,' append keeps element at last')\n",
    "print(list_2,' insert keeps elements at desried position')\n",
    "print(list_3,' extend keeps element at last and it also unpack string into character')\n",
    "\n",
    "#output \n",
    "# [1, 2, 3, [2, 3]]\n",
    "# [1, 2, 3, [2, 3]]\n",
    "# [1, 2, 3, 2, 3]"
   ]
  },
  {
   "cell_type": "code",
   "execution_count": null,
   "id": "3d99cbff-285b-4b92-aea5-c0a6ccee38d2",
   "metadata": {},
   "outputs": [],
   "source": []
  },
  {
   "cell_type": "code",
   "execution_count": 7,
   "id": "94e1f6e9-f86a-494d-bdfe-4b5b96272bf7",
   "metadata": {},
   "outputs": [
    {
     "ename": "SyntaxError",
     "evalue": "invalid syntax (4197269170.py, line 1)",
     "output_type": "error",
     "traceback": [
      "\u001b[0;36m  Cell \u001b[0;32mIn[7], line 1\u001b[0;36m\u001b[0m\n\u001b[0;31m    The pop() function removes the last element or the element based on the index given. remove() function removes the first occurrence of the specified element. The del keyword removes the element specified by the index, deletes the whole list as well as slices the list. It does not require a parameter; it is optional.\u001b[0m\n\u001b[0m        ^\u001b[0m\n\u001b[0;31mSyntaxError\u001b[0m\u001b[0;31m:\u001b[0m invalid syntax\n"
     ]
    }
   ],
   "source": [
    "#The pop() function removes the last element or the element based on the index given. remove() function removes the first occurrence of the specified element. The del keyword removes the element specified by the index, deletes the whole list as well as slices the list. It does not require a parameter; it is optional."
   ]
  },
  {
   "cell_type": "code",
   "execution_count": null,
   "id": "f5e368b2-bdc4-4b16-9165-2393637785d7",
   "metadata": {},
   "outputs": [],
   "source": []
  }
 ],
 "metadata": {
  "kernelspec": {
   "display_name": "Python 3 (ipykernel)",
   "language": "python",
   "name": "python3"
  },
  "language_info": {
   "codemirror_mode": {
    "name": "ipython",
    "version": 3
   },
   "file_extension": ".py",
   "mimetype": "text/x-python",
   "name": "python",
   "nbconvert_exporter": "python",
   "pygments_lexer": "ipython3",
   "version": "3.10.8"
  }
 },
 "nbformat": 4,
 "nbformat_minor": 5
}
