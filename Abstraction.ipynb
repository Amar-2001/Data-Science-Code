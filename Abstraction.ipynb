{
 "cells": [
  {
   "cell_type": "code",
   "execution_count": 1,
   "id": "45399538-ff73-4cb8-a5cd-6a6932d404f9",
   "metadata": {},
   "outputs": [],
   "source": [
    "# Abstraction"
   ]
  },
  {
   "cell_type": "code",
   "execution_count": 26,
   "id": "8e9e5303-059b-4e13-a9db-7b6e3c60d867",
   "metadata": {},
   "outputs": [],
   "source": [
    "import abc\n",
    "\n",
    "class Coding:\n",
    "    \n",
    "    @abc.abstractmethod\n",
    "    def student_details(self):\n",
    "        pass\n",
    "    @abc.abstractclassmethod\n",
    "    def student_assignment(self):\n",
    "        pass\n",
    "    @abc.abstractmethod\n",
    "    def student_marks(self):\n",
    "        pass\n"
   ]
  },
  {
   "cell_type": "code",
   "execution_count": 27,
   "id": "16a593a4-75c4-4002-b90a-05eb9bd74f63",
   "metadata": {},
   "outputs": [],
   "source": [
    "class Sourabh_shukla_class(Coding): #inherit pwskills class\n",
    "    def student_details(self):\n",
    "        return \"This is a method for taking students details for sourabh shukla sir class\" \n",
    "    \n",
    "    def student_assignment(self):\n",
    "        return \"This is a method for assignment of students for sourabh shukla sir class\""
   ]
  },
  {
   "cell_type": "code",
   "execution_count": 28,
   "id": "1df599aa-55e7-42eb-9093-55391c286198",
   "metadata": {},
   "outputs": [],
   "source": [
    "class dataScience_masters(Coding):\n",
    "    def student_details(self):\n",
    "        return \"This will return student details for data science masters class\"\n",
    "    \n",
    "    def student_assignment(self):\n",
    "        return \"This will give you student assignment details for data science masters class\"\n",
    "    "
   ]
  },
  {
   "cell_type": "code",
   "execution_count": 29,
   "id": "9da8921d-7d7e-4215-81e0-1c6c96c96bfa",
   "metadata": {},
   "outputs": [
    {
     "data": {
      "text/plain": [
       "'This will return student details for data science masters class'"
      ]
     },
     "execution_count": 29,
     "metadata": {},
     "output_type": "execute_result"
    }
   ],
   "source": [
    "dsm=dataScience_masters()\n",
    "dsm.student_details()"
   ]
  },
  {
   "cell_type": "code",
   "execution_count": 30,
   "id": "9cd4ef82-21db-4432-baab-44b540b7a171",
   "metadata": {},
   "outputs": [
    {
     "data": {
      "text/plain": [
       "'This will give you student assignment details for data science masters class'"
      ]
     },
     "execution_count": 30,
     "metadata": {},
     "output_type": "execute_result"
    }
   ],
   "source": [
    "dsm.student_assignment()"
   ]
  },
  {
   "cell_type": "code",
   "execution_count": 17,
   "id": "549c5073-9c74-480b-9711-780b785ce801",
   "metadata": {},
   "outputs": [],
   "source": [
    "#Now sourabh shukla sir class"
   ]
  },
  {
   "cell_type": "code",
   "execution_count": 31,
   "id": "de608210-60d7-4531-8139-a31aa56a4b70",
   "metadata": {},
   "outputs": [
    {
     "data": {
      "text/plain": [
       "'This is a method for taking students details for sourabh shukla sir class'"
      ]
     },
     "execution_count": 31,
     "metadata": {},
     "output_type": "execute_result"
    }
   ],
   "source": [
    "SSC=Sourabh_shukla_class()\n",
    "\n",
    "SSC.student_details()\n"
   ]
  },
  {
   "cell_type": "code",
   "execution_count": 32,
   "id": "785f0949-7b64-45a5-ac6a-19dff7d1a984",
   "metadata": {},
   "outputs": [
    {
     "data": {
      "text/plain": [
       "'This is a method for assignment of students for sourabh shukla sir class'"
      ]
     },
     "execution_count": 32,
     "metadata": {},
     "output_type": "execute_result"
    }
   ],
   "source": [
    "SSC.student_assignment()"
   ]
  },
  {
   "cell_type": "code",
   "execution_count": null,
   "id": "925425fd-8a72-4307-91dc-97a63bbeebf6",
   "metadata": {},
   "outputs": [],
   "source": []
  }
 ],
 "metadata": {
  "kernelspec": {
   "display_name": "Python 3 (ipykernel)",
   "language": "python",
   "name": "python3"
  },
  "language_info": {
   "codemirror_mode": {
    "name": "ipython",
    "version": 3
   },
   "file_extension": ".py",
   "mimetype": "text/x-python",
   "name": "python",
   "nbconvert_exporter": "python",
   "pygments_lexer": "ipython3",
   "version": "3.10.8"
  }
 },
 "nbformat": 4,
 "nbformat_minor": 5
}
