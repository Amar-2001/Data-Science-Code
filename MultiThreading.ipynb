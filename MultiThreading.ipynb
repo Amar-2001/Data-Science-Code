{
 "cells": [
  {
   "cell_type": "code",
   "execution_count": 1,
   "id": "d2c8ba1e-d61b-4cd8-bbd0-ae04a5bb3e2f",
   "metadata": {},
   "outputs": [],
   "source": [
    "# If a computer has dual core processor : 2 core \n",
    "#                   quad core processor : 4 core\n",
    "#                   octa core processor : 8 core\n",
    "#                   hexa core processor : 16 core\n",
    "            \n",
    "# Suppose a computer has 4 core then 4 different program can run on 4 core means in each core\n",
    "# 1 program runs. \n",
    "\n",
    "# ** But what if we want to run all 4 program in 1 core we use MultiThreading .\n",
    "#    And this process is called Threading\n"
   ]
  },
  {
   "cell_type": "code",
   "execution_count": 2,
   "id": "b1f9b4f9-968f-41f1-8293-74c7fb76520b",
   "metadata": {},
   "outputs": [],
   "source": [
    "import threading"
   ]
  },
  {
   "cell_type": "code",
   "execution_count": 7,
   "id": "f1c68f23-4ebe-4b9e-a762-6d2775adcc3d",
   "metadata": {},
   "outputs": [
    {
     "name": "stdout",
     "output_type": "stream",
     "text": [
      "Program Start 51\n"
     ]
    }
   ],
   "source": [
    "def test(id):\n",
    "    print(\"Program Start %d\"% id)\n",
    "test(51)"
   ]
  },
  {
   "cell_type": "code",
   "execution_count": 18,
   "id": "c89d049b-682f-4def-bccf-c41768ad51c8",
   "metadata": {},
   "outputs": [],
   "source": [
    "# Now Threading\n",
    "threadVar=[threading.Thread(target=test, args=(i, ) ) for i in range(10)]\n",
    "# threading.Thread : threading ke andar se Thread ko call kar rahe jo threading karega\n",
    "# target = target kar rahe specific function test ko \n",
    "# args: argument le rahe i mein \n",
    "# Finally loop chala rahe 10 baar\n",
    "\n",
    "# Aur ye sab ek list comprehension ke jaise use kar rahe \n",
    "# aur \"threadVar\" varialbe mein rakh rahe\n"
   ]
  },
  {
   "cell_type": "code",
   "execution_count": 19,
   "id": "60a8a6cd-0404-4434-a22e-02dc9150a473",
   "metadata": {},
   "outputs": [
    {
     "name": "stdout",
     "output_type": "stream",
     "text": [
      "Program Start 0\n",
      "Program Start 1\n",
      "Program Start 2\n",
      "Program Start 3\n",
      "Program Start 4\n",
      "Program Start 5\n",
      "Program Start 6\n",
      "Program Start 7\n",
      "Program Start 8\n",
      "Program Start 9\n"
     ]
    }
   ],
   "source": [
    "for t in threadVar:\n",
    "    t.start() \n",
    "    \n",
    "    # how start function work while it is not intialised\n",
    "    # start ka kaam hai start karna loop ko aur given condition tak pahuch na jaye"
   ]
  },
  {
   "cell_type": "code",
   "execution_count": 21,
   "id": "16a73d99-2186-4964-9810-83b8b04292a5",
   "metadata": {},
   "outputs": [
    {
     "data": {
      "text/plain": [
       "[<Thread(Thread-25 (test), stopped 139932671649344)>,\n",
       " <Thread(Thread-26 (test), stopped 139932671649344)>,\n",
       " <Thread(Thread-27 (test), stopped 139932661159488)>,\n",
       " <Thread(Thread-28 (test), stopped 139932671649344)>,\n",
       " <Thread(Thread-29 (test), stopped 139932661159488)>,\n",
       " <Thread(Thread-30 (test), stopped 139932661159488)>,\n",
       " <Thread(Thread-31 (test), stopped 139932661159488)>,\n",
       " <Thread(Thread-32 (test), stopped 139932661159488)>,\n",
       " <Thread(Thread-33 (test), stopped 139932661159488)>,\n",
       " <Thread(Thread-34 (test), stopped 139932661159488)>]"
      ]
     },
     "execution_count": 21,
     "metadata": {},
     "output_type": "execute_result"
    }
   ],
   "source": [
    "threadVar"
   ]
  },
  {
   "cell_type": "code",
   "execution_count": 25,
   "id": "5cb55963-89b3-49c6-9e73-5be3a662e345",
   "metadata": {},
   "outputs": [],
   "source": [
    "# for t in threadVar:\n",
    "#     print(threadVar)\n",
    "\n",
    "# it print multiple thread"
   ]
  },
  {
   "cell_type": "code",
   "execution_count": 28,
   "id": "cb830837-741c-4760-95ab-b2e69bac13c0",
   "metadata": {},
   "outputs": [
    {
     "data": {
      "text/plain": [
       "139932661393776"
      ]
     },
     "execution_count": 28,
     "metadata": {},
     "output_type": "execute_result"
    }
   ],
   "source": [
    "id(139932671649344) # first wala thread ka id dala toh ye output\n",
    "                    # Har baar different output aa raha"
   ]
  },
  {
   "cell_type": "code",
   "execution_count": 33,
   "id": "6ed7acff-8613-467e-80c1-8bf911e9ca23",
   "metadata": {},
   "outputs": [
    {
     "data": {
      "text/plain": [
       "139932661316544"
      ]
     },
     "execution_count": 33,
     "metadata": {},
     "output_type": "execute_result"
    }
   ],
   "source": [
    "id(threadVar) # print thread however it is different than first thread id"
   ]
  },
  {
   "cell_type": "code",
   "execution_count": 34,
   "id": "92b75411-96ed-47c2-a06c-4d273423b302",
   "metadata": {},
   "outputs": [],
   "source": [
    "# ******************************************"
   ]
  },
  {
   "cell_type": "code",
   "execution_count": 35,
   "id": "f4b2713f-39d5-4fe5-8a62-92bcc25d7748",
   "metadata": {},
   "outputs": [],
   "source": [
    "# URL se data lana file mein "
   ]
  },
  {
   "cell_type": "code",
   "execution_count": 36,
   "id": "3cab79b4-a7a7-4735-861e-fc78d928cec7",
   "metadata": {},
   "outputs": [],
   "source": [
    "# ******************************************"
   ]
  },
  {
   "cell_type": "code",
   "execution_count": 56,
   "id": "af9853d8-45c4-47b8-9645-8dac3fc6327e",
   "metadata": {},
   "outputs": [],
   "source": [
    "# 1 thread mein 1 data run (har baar run hone par ye alag alag thread mein run hoga)\n",
    "\n",
    "import urllib.request\n",
    "def file_download(url,filename):\n",
    "    urllib.request.urlretrieve(url,filename)\n",
    "# Har baar run karne par ye alog alag core mein run honge \n",
    "file_download(\"https://practice.geeksforgeeks.org/courses?source=google&medium=cpc&device=c&keyword=gfg&matchtype=b&utm_term=gfg&utm_campaign=&utm_source=adwords&utm_medium=ppc&hsa_acc=4574069274&hsa_cam=20039445781&hsa_grp=147845288105&hsa_ad=656449710374&hsa_src=g&hsa_tgt=kwd-28728042&hsa_kw=gfg&hsa_mt=b&hsa_net=adwords&hsa_ver=3&source=google&medium=cpc&device=c&keyword=gfg&matchtype=b&campaignid=20039445781&adgroup=147845288105&gad=1&gclid=Cj0KCQjw9MCnBhCYARIsAB1WQVVq3T76svV50-CBTvOtSr3LhiJJDnO_hv42TDtTBTJ2-Z_vVXH0PgMaAhAnEALw_wcB\",\"urlFile.txt\")\n",
    "# It is stored in urlFile.txt (urlFile is created and data is written inside that as this run)\n",
    "# file_download(\"https://github.com/Amar-2001/Data-Science-Code/blob/main/Abstraction%2CEncapsulation%20%20Try.ipynb\",\"test.txt\")\n",
    "\n"
   ]
  },
  {
   "cell_type": "code",
   "execution_count": 114,
   "id": "e3afe496-a1af-4588-914d-87171a90a3f4",
   "metadata": {},
   "outputs": [],
   "source": [
    "# But agar hum ek thread mein multiple data run karaye tab \n",
    "\n",
    "import threading\n",
    "import urllib.request\n",
    "def file_download1(url,filename):\n",
    "    urllib.request.urlretrieve(url,filename)\n",
    "\n",
    "# for multiple url in list\n",
    "# so multiple thread in single core run\n",
    "\n",
    "urllist=[\"https://onlinenotepad.org/notepad\",\"https://www.rapidtables.com/tools/notepad.html\",\"https://anotepad.com/\"]\n",
    "filename_list=['Multithreading_data1.txt','Multithreading_data2.txt','MUltithreadig_data3.txt']\n",
    "\n",
    "#Now \n",
    "\n",
    "multiThreadVar=[threading.Thread(target=file_download1 , args=(urllist[i],filename_list[i])) for i in range(len(urllist))]\n",
    "\n"
   ]
  },
  {
   "cell_type": "code",
   "execution_count": 115,
   "id": "2430b928-6f5f-4e9c-b384-9a1e61c8f98a",
   "metadata": {},
   "outputs": [
    {
     "data": {
      "text/plain": [
       "['https://onlinenotepad.org/notepad',\n",
       " 'https://www.rapidtables.com/tools/notepad.html',\n",
       " 'https://anotepad.com/']"
      ]
     },
     "execution_count": 115,
     "metadata": {},
     "output_type": "execute_result"
    }
   ],
   "source": [
    "urllist # to check how many url links are listed"
   ]
  },
  {
   "cell_type": "code",
   "execution_count": 116,
   "id": "11b5ff1d-618e-4fd9-9821-cf8717ad3814",
   "metadata": {},
   "outputs": [
    {
     "data": {
      "text/plain": [
       "[<Thread(Thread-50 (file_download1), initial)>,\n",
       " <Thread(Thread-51 (file_download1), initial)>,\n",
       " <Thread(Thread-52 (file_download1), initial)>]"
      ]
     },
     "execution_count": 116,
     "metadata": {},
     "output_type": "execute_result"
    }
   ],
   "source": [
    "multiThreadVar # to check thread bana ki nahi \n",
    "               # neeche dekho 3 thread bana hai thread 35 , thread 36, thread 37"
   ]
  },
  {
   "cell_type": "code",
   "execution_count": 117,
   "id": "56eddec6-a648-4bef-8ec1-e0cfc465b969",
   "metadata": {},
   "outputs": [
    {
     "name": "stderr",
     "output_type": "stream",
     "text": [
      "Exception in thread Thread-51 (file_download1):\n",
      "Traceback (most recent call last):\n",
      "  File \"/opt/conda/lib/python3.10/threading.py\", line 1016, in _bootstrap_inner\n",
      "    self.run()\n",
      "  File \"/opt/conda/lib/python3.10/threading.py\", line 953, in run\n",
      "    self._target(*self._args, **self._kwargs)\n",
      "  File \"/tmp/ipykernel_77/3498774057.py\", line 6, in file_download1\n",
      "  File \"/opt/conda/lib/python3.10/urllib/request.py\", line 241, in urlretrieve\n",
      "    with contextlib.closing(urlopen(url, data)) as fp:\n",
      "  File \"/opt/conda/lib/python3.10/urllib/request.py\", line 216, in urlopen\n",
      "    return opener.open(url, data, timeout)\n",
      "  File \"/opt/conda/lib/python3.10/urllib/request.py\", line 525, in open\n",
      "    response = meth(req, response)\n",
      "  File \"/opt/conda/lib/python3.10/urllib/request.py\", line 634, in http_response\n",
      "    response = self.parent.error(\n",
      "  File \"/opt/conda/lib/python3.10/urllib/request.py\", line 563, in error\n",
      "    return self._call_chain(*args)\n",
      "  File \"/opt/conda/lib/python3.10/urllib/request.py\", line 496, in _call_chain\n",
      "    result = func(*args)\n",
      "  File \"/opt/conda/lib/python3.10/urllib/request.py\", line 643, in http_error_default\n",
      "    raise HTTPError(req.full_url, code, msg, hdrs, fp)\n",
      "urllib.error.HTTPError: HTTP Error 403: Forbidden\n",
      "Exception in thread Thread-50 (file_download1):\n",
      "Traceback (most recent call last):\n",
      "  File \"/opt/conda/lib/python3.10/threading.py\", line 1016, in _bootstrap_inner\n",
      "    self.run()\n",
      "  File \"/opt/conda/lib/python3.10/threading.py\", line 953, in run\n",
      "    self._target(*self._args, **self._kwargs)\n",
      "  File \"/tmp/ipykernel_77/3498774057.py\", line 6, in file_download1\n",
      "  File \"/opt/conda/lib/python3.10/urllib/request.py\", line 241, in urlretrieve\n",
      "    with contextlib.closing(urlopen(url, data)) as fp:\n",
      "  File \"/opt/conda/lib/python3.10/urllib/request.py\", line 216, in urlopen\n",
      "    return opener.open(url, data, timeout)\n",
      "  File \"/opt/conda/lib/python3.10/urllib/request.py\", line 525, in open\n",
      "    response = meth(req, response)\n",
      "  File \"/opt/conda/lib/python3.10/urllib/request.py\", line 634, in http_response\n",
      "    response = self.parent.error(\n",
      "  File \"/opt/conda/lib/python3.10/urllib/request.py\", line 563, in error\n",
      "    return self._call_chain(*args)\n",
      "  File \"/opt/conda/lib/python3.10/urllib/request.py\", line 496, in _call_chain\n",
      "    result = func(*args)\n",
      "  File \"/opt/conda/lib/python3.10/urllib/request.py\", line 643, in http_error_default\n",
      "    raise HTTPError(req.full_url, code, msg, hdrs, fp)\n",
      "urllib.error.HTTPError: HTTP Error 403: Forbidden\n"
     ]
    }
   ],
   "source": [
    "# now to store thread in a file \n",
    "\n",
    "for t in multiThreadVar:\n",
    "    t.start()"
   ]
  },
  {
   "cell_type": "code",
   "execution_count": 118,
   "id": "a09a5236-6b6c-4bc8-a1c5-2a7f50d10325",
   "metadata": {},
   "outputs": [],
   "source": [
    "# Now time. sleep function "
   ]
  },
  {
   "cell_type": "code",
   "execution_count": 143,
   "id": "87b0e024-c549-48d7-9b5b-c7aaa59ea569",
   "metadata": {},
   "outputs": [],
   "source": [
    "import time\n",
    "def test1(id):\n",
    "    for i in range(10):\n",
    "        print(\"test1 %d printing %d %s\" %(id,i,time.ctime()))\n",
    "        time.sleep(1)# 2 sec ruk kar print hoga\n",
    "\n",
    "# agar time(1) hata de rahe toh pehle thread1(0to9) tak print ho raha then thread2(0to9) \n",
    "# then thread3(0to9) tak print ho raha \n",
    "\n",
    "# but time.sleep(1) : se thread1(0),thread2(0),thread3(0) , then \n",
    "                    # se thread1(1),thread2(1),thread3(1) ,\n",
    "                      # .....\n",
    "# aisa isliye becuase is se thread ko rukne ka mauka mil gaya hai "
   ]
  },
  {
   "cell_type": "code",
   "execution_count": 144,
   "id": "d4d22ae1-7a5d-4a1a-bffd-13f5dadd92d6",
   "metadata": {},
   "outputs": [
    {
     "name": "stdout",
     "output_type": "stream",
     "text": [
      "test1 1 printing 0 Fri Sep  1 06:00:06 2023\n",
      "test1 1 printing 1 Fri Sep  1 06:00:07 2023\n",
      "test1 1 printing 2 Fri Sep  1 06:00:08 2023\n",
      "test1 1 printing 3 Fri Sep  1 06:00:09 2023\n",
      "test1 1 printing 4 Fri Sep  1 06:00:10 2023\n",
      "test1 1 printing 5 Fri Sep  1 06:00:11 2023\n",
      "test1 1 printing 6 Fri Sep  1 06:00:12 2023\n",
      "test1 1 printing 7 Fri Sep  1 06:00:13 2023\n",
      "test1 1 printing 8 Fri Sep  1 06:00:14 2023\n",
      "test1 1 printing 9 Fri Sep  1 06:00:15 2023\n"
     ]
    }
   ],
   "source": [
    "test1(1) # ye 1 sec mein 1 thread print ho raha"
   ]
  },
  {
   "cell_type": "code",
   "execution_count": 145,
   "id": "82c6485f-efc1-440f-be45-5c80a657dbb0",
   "metadata": {},
   "outputs": [
    {
     "name": "stdout",
     "output_type": "stream",
     "text": [
      "test1 0 printing 0 Fri Sep  1 06:00:16 2023\n",
      "test1 1 printing 0 Fri Sep  1 06:00:16 2023\n",
      "test1 2 printing 0 Fri Sep  1 06:00:16 2023\n",
      "test1 0 printing 1 Fri Sep  1 06:00:17 2023test1 1 printing 1 Fri Sep  1 06:00:17 2023\n",
      "\n",
      "test1 2 printing 1 Fri Sep  1 06:00:17 2023\n",
      "test1 1 printing 2 Fri Sep  1 06:00:18 2023\n",
      "test1 2 printing 2 Fri Sep  1 06:00:18 2023\n",
      "test1 0 printing 2 Fri Sep  1 06:00:18 2023\n",
      "test1 1 printing 3 Fri Sep  1 06:00:19 2023test1 2 printing 3 Fri Sep  1 06:00:19 2023\n",
      "\n",
      "test1 0 printing 3 Fri Sep  1 06:00:19 2023\n",
      "test1 2 printing 4 Fri Sep  1 06:00:20 2023test1 1 printing 4 Fri Sep  1 06:00:20 2023\n",
      "test1 0 printing 4 Fri Sep  1 06:00:20 2023\n",
      "\n",
      "test1 1 printing 5 Fri Sep  1 06:00:21 2023test1 0 printing 5 Fri Sep  1 06:00:21 2023\n",
      "test1 2 printing 5 Fri Sep  1 06:00:21 2023\n",
      "\n",
      "test1 0 printing 6 Fri Sep  1 06:00:22 2023\n",
      "test1 2 printing 6 Fri Sep  1 06:00:22 2023\n",
      "test1 1 printing 6 Fri Sep  1 06:00:22 2023\n",
      "test1 0 printing 7 Fri Sep  1 06:00:23 2023\n",
      "test1 2 printing 7 Fri Sep  1 06:00:23 2023\n",
      "test1 1 printing 7 Fri Sep  1 06:00:23 2023\n",
      "test1 0 printing 8 Fri Sep  1 06:00:24 2023test1 1 printing 8 Fri Sep  1 06:00:24 2023\n",
      "\n",
      "test1 2 printing 8 Fri Sep  1 06:00:24 2023\n",
      "test1 1 printing 9 Fri Sep  1 06:00:25 2023test1 0 printing 9 Fri Sep  1 06:00:25 2023\n",
      "\n",
      "test1 2 printing 9 Fri Sep  1 06:00:25 2023\n"
     ]
    }
   ],
   "source": [
    "var=[threading.Thread (target=test1, args=(i,)) for i in range(3)]\n",
    "\n",
    "for t in var:\n",
    "    t.start()\n",
    "    \n",
    "# 1 sec mein 3 thread print ho rahe wo bhi alag alag test ke "
   ]
  },
  {
   "cell_type": "code",
   "execution_count": 146,
   "id": "044604ab-319f-4a73-b291-744d0206c8ec",
   "metadata": {},
   "outputs": [],
   "source": [
    "# ******************************************"
   ]
  },
  {
   "cell_type": "code",
   "execution_count": 150,
   "id": "630b90f9-c311-4757-8b9a-281f61ac30a9",
   "metadata": {},
   "outputs": [],
   "source": [
    "shared_var=0\n",
    "lock_var=threading.Lock()"
   ]
  },
  {
   "cell_type": "code",
   "execution_count": 156,
   "id": "6bebf2e2-92b7-4e8a-8cf9-58005e171534",
   "metadata": {},
   "outputs": [
    {
     "name": "stdout",
     "output_type": "stream",
     "text": [
      "test2 is 0 has increased the shared variable by 1 \n",
      "test2 is 1 has increased the shared variable by 2 \n",
      "test2 is 2 has increased the shared variable by 3 \n"
     ]
    }
   ],
   "source": [
    "shared_var=0\n",
    "lock_var=threading.Lock()\n",
    "\n",
    "def test2(id):\n",
    "    global shared_var\n",
    "    with lock_var:\n",
    "        shared_var=shared_var+1\n",
    "        print(\"test2 is %d has increased the shared variable by %d \" %(id,shared_var))\n",
    "        # time.sleep(1) if \n",
    "\n",
    "# now\n",
    "\n",
    "therVar=[threading.Thread (target=test2, args=(i,)) for i in range(3)]\n",
    "\n",
    "for t in therVar:\n",
    "    t.start()"
   ]
  },
  {
   "cell_type": "code",
   "execution_count": 153,
   "id": "596dc49f-7bba-4c59-830e-9c8f97261674",
   "metadata": {},
   "outputs": [
    {
     "data": {
      "text/plain": [
       "[<Thread(Thread-83 (test2), stopped 139932288927296)>,\n",
       " <Thread(Thread-84 (test2), stopped 139932305712704)>,\n",
       " <Thread(Thread-85 (test2), stopped 139932297320000)>]"
      ]
     },
     "execution_count": 153,
     "metadata": {},
     "output_type": "execute_result"
    }
   ],
   "source": [
    "therVar"
   ]
  },
  {
   "cell_type": "code",
   "execution_count": 1,
   "id": "9383e529-86be-419d-a3b3-6a9c2e2b426c",
   "metadata": {},
   "outputs": [
    {
     "data": {
      "text/plain": [
       "5"
      ]
     },
     "execution_count": 1,
     "metadata": {},
     "output_type": "execute_result"
    }
   ],
   "source": [
    "5"
   ]
  },
  {
   "cell_type": "code",
   "execution_count": 2,
   "id": "61739d95-dae0-4dc2-a0a6-e10d58b291e7",
   "metadata": {},
   "outputs": [],
   "source": [
    "# Quiz"
   ]
  },
  {
   "cell_type": "code",
   "execution_count": 4,
   "id": "d0b06188-5fcd-486b-ab86-a9213f14db3b",
   "metadata": {},
   "outputs": [],
   "source": [
    "#  What is multithreading in Python?\n",
    "\n",
    "\n",
    "#  A process of running multiple threads simultaneously within a single process."
   ]
  },
  {
   "cell_type": "code",
   "execution_count": 5,
   "id": "3b8d8a74-ae84-42ec-886e-79ed351726bd",
   "metadata": {},
   "outputs": [],
   "source": [
    "# To improve the overall efficiency of a program by using multiple CPUs or CPU cores."
   ]
  },
  {
   "cell_type": "code",
   "execution_count": 7,
   "id": "4649b129-f326-40be-8766-04509d552259",
   "metadata": {},
   "outputs": [],
   "source": [
    "# Mutex : \n",
    " # A synchronization primitive used to protect shared resources from being accessed by multiple threads at the same time."
   ]
  },
  {
   "cell_type": "code",
   "execution_count": 8,
   "id": "1b511a60-c4b6-4b30-adde-a5fc07aae3a7",
   "metadata": {},
   "outputs": [],
   "source": [
    "# GIL : \n",
    "#  A mechanism used by Python to ensure that only one thread executes Python bytecode at a time."
   ]
  },
  {
   "cell_type": "code",
   "execution_count": null,
   "id": "5142aae7-0605-4c0f-9680-f3e9a587d7bb",
   "metadata": {},
   "outputs": [],
   "source": []
  },
  {
   "cell_type": "code",
   "execution_count": null,
   "id": "9f9f2660-d1e8-4662-ae64-038ab51838ed",
   "metadata": {},
   "outputs": [],
   "source": []
  }
 ],
 "metadata": {
  "kernelspec": {
   "display_name": "Python 3 (ipykernel)",
   "language": "python",
   "name": "python3"
  },
  "language_info": {
   "codemirror_mode": {
    "name": "ipython",
    "version": 3
   },
   "file_extension": ".py",
   "mimetype": "text/x-python",
   "name": "python",
   "nbconvert_exporter": "python",
   "pygments_lexer": "ipython3",
   "version": "3.10.8"
  }
 },
 "nbformat": 4,
 "nbformat_minor": 5
}
