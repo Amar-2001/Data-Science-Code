{
 "cells": [
  {
   "cell_type": "code",
   "execution_count": 1,
   "id": "a1fede33-7bf2-45ac-bf2e-04849f0e6fc6",
   "metadata": {},
   "outputs": [
    {
     "name": "stdout",
     "output_type": "stream",
     "text": [
      "This is a function\n"
     ]
    }
   ],
   "source": [
    "print(\"This is a function\")"
   ]
  },
  {
   "cell_type": "code",
   "execution_count": 2,
   "id": "09519108-c9bb-449f-a7a7-3307264f1fdb",
   "metadata": {},
   "outputs": [],
   "source": [
    "a=['Amar','Kumar','Swarnkar']"
   ]
  },
  {
   "cell_type": "code",
   "execution_count": 3,
   "id": "bc16b1b4-c180-45b8-b147-795e1bc1245f",
   "metadata": {},
   "outputs": [
    {
     "data": {
      "text/plain": [
       "3"
      ]
     },
     "execution_count": 3,
     "metadata": {},
     "output_type": "execute_result"
    }
   ],
   "source": [
    "len(a)"
   ]
  },
  {
   "cell_type": "code",
   "execution_count": 4,
   "id": "5d4117e5-99fb-44d8-8ff3-68330cab6ba2",
   "metadata": {},
   "outputs": [
    {
     "data": {
      "text/plain": [
       "list"
      ]
     },
     "execution_count": 4,
     "metadata": {},
     "output_type": "execute_result"
    }
   ],
   "source": [
    "type(a)"
   ]
  },
  {
   "cell_type": "code",
   "execution_count": 5,
   "id": "90324f55-f9a8-4bb6-a0a1-9e5a0b0b31da",
   "metadata": {},
   "outputs": [
    {
     "name": "stdout",
     "output_type": "stream",
     "text": [
      "Hello! how are you\n"
     ]
    }
   ],
   "source": [
    "def add():\n",
    "    print(\"Hello! how are you\")\n",
    "add()"
   ]
  },
  {
   "cell_type": "code",
   "execution_count": 6,
   "id": "fedb4131-be95-410c-836a-91c554d1856e",
   "metadata": {},
   "outputs": [],
   "source": [
    "#without any calling simple function\n",
    "\n",
    "def func():\n",
    "    pass"
   ]
  },
  {
   "cell_type": "code",
   "execution_count": 7,
   "id": "ddc2f73d-7dc3-4d78-bd63-607d8076981f",
   "metadata": {},
   "outputs": [],
   "source": [
    "def test():\n",
    "    print(\"this is my first function\")"
   ]
  },
  {
   "cell_type": "code",
   "execution_count": 8,
   "id": "8d6f0dde-54f3-4022-934b-ec723ed78200",
   "metadata": {},
   "outputs": [
    {
     "name": "stdout",
     "output_type": "stream",
     "text": [
      "this is my first function\n",
      "this is my first function\n"
     ]
    }
   ],
   "source": [
    "test()\n",
    "test()"
   ]
  },
  {
   "cell_type": "code",
   "execution_count": 9,
   "id": "57b5d868-b0f0-4e19-ad39-9a4152066406",
   "metadata": {},
   "outputs": [],
   "source": [
    "#*******************************8"
   ]
  },
  {
   "cell_type": "code",
   "execution_count": 10,
   "id": "b1d8f004-36fd-44c7-8617-f4ac7dc8fc55",
   "metadata": {},
   "outputs": [],
   "source": [
    "s=\"Amar\""
   ]
  },
  {
   "cell_type": "code",
   "execution_count": 11,
   "id": "77a8e665-9dbd-4870-aefb-d22a59ca9736",
   "metadata": {},
   "outputs": [
    {
     "data": {
      "text/plain": [
       "'Amar Kumar'"
      ]
     },
     "execution_count": 11,
     "metadata": {},
     "output_type": "execute_result"
    }
   ],
   "source": [
    "s+\" Kumar\" # possible to concatenate string but not able to concatenate in function"
   ]
  },
  {
   "cell_type": "code",
   "execution_count": 12,
   "id": "6be48c76-1381-4f50-babb-129a8323e1e8",
   "metadata": {},
   "outputs": [],
   "source": [
    "#*********************\n",
    "# Function"
   ]
  },
  {
   "cell_type": "code",
   "execution_count": 13,
   "id": "6fbafeeb-da99-473d-a844-402df9c60ae0",
   "metadata": {},
   "outputs": [],
   "source": [
    "def func1():\n",
    "    print(\"Amar\") # print return none data type \n",
    "# func1()#also here we can call"
   ]
  },
  {
   "cell_type": "code",
   "execution_count": 14,
   "id": "becee763-40a9-46b2-99e0-63d80dd43a6e",
   "metadata": {},
   "outputs": [
    {
     "name": "stdout",
     "output_type": "stream",
     "text": [
      "Amar\n"
     ]
    }
   ],
   "source": [
    "func1()# calling "
   ]
  },
  {
   "cell_type": "code",
   "execution_count": 15,
   "id": "c4de97d7-c274-466c-b5c0-a239d0e50918",
   "metadata": {},
   "outputs": [
    {
     "name": "stdout",
     "output_type": "stream",
     "text": [
      "Amar\n"
     ]
    },
    {
     "ename": "TypeError",
     "evalue": "unsupported operand type(s) for +: 'NoneType' and 'str'",
     "output_type": "error",
     "traceback": [
      "\u001b[0;31m---------------------------------------------------------------------------\u001b[0m",
      "\u001b[0;31mTypeError\u001b[0m                                 Traceback (most recent call last)",
      "Cell \u001b[0;32mIn[15], line 1\u001b[0m\n\u001b[0;32m----> 1\u001b[0m \u001b[43mfunc1\u001b[49m\u001b[43m(\u001b[49m\u001b[43m)\u001b[49m\u001b[43m \u001b[49m\u001b[38;5;241;43m+\u001b[39;49m\u001b[43m \u001b[49m\u001b[38;5;124;43m\"\u001b[39;49m\u001b[38;5;124;43mKumar\u001b[39;49m\u001b[38;5;124;43m\"\u001b[39;49m \n",
      "\u001b[0;31mTypeError\u001b[0m: unsupported operand type(s) for +: 'NoneType' and 'str'"
     ]
    }
   ],
   "source": [
    "func1() + \"Kumar\" "
   ]
  },
  {
   "cell_type": "code",
   "execution_count": 17,
   "id": "c14b61dd-89d5-407c-9686-93b2d1630424",
   "metadata": {},
   "outputs": [],
   "source": [
    "def func2():\n",
    "    return (\"This is my firt return \")"
   ]
  },
  {
   "cell_type": "code",
   "execution_count": null,
   "id": "fbc3d4fb-ee9c-4f0b-ae03-05d2970fda9b",
   "metadata": {},
   "outputs": [],
   "source": [
    "func2()"
   ]
  },
  {
   "cell_type": "code",
   "execution_count": 18,
   "id": "fb99eec1-0c74-4e66-9ef9-1701d20eacfa",
   "metadata": {},
   "outputs": [
    {
     "data": {
      "text/plain": [
       "'This is my firt return  Kumar'"
      ]
     },
     "execution_count": 18,
     "metadata": {},
     "output_type": "execute_result"
    }
   ],
   "source": [
    "func2()+\" Kumar\""
   ]
  },
  {
   "cell_type": "code",
   "execution_count": null,
   "id": "e63c10fc-5146-4a2f-ac55-7fdf880ee57b",
   "metadata": {},
   "outputs": [],
   "source": [
    "# so always use return in function not print"
   ]
  },
  {
   "cell_type": "code",
   "execution_count": null,
   "id": "75b3582d-4be4-480c-baee-396fcf99da39",
   "metadata": {},
   "outputs": [],
   "source": [
    "# multiple data set and of different types return "
   ]
  },
  {
   "cell_type": "code",
   "execution_count": 19,
   "id": "314156e9-d255-45a7-a866-e5a140c1e8c1",
   "metadata": {},
   "outputs": [],
   "source": [
    "def func3():\n",
    "    return \"amar\",5,101.00,[4,5.3,'focus']"
   ]
  },
  {
   "cell_type": "code",
   "execution_count": 20,
   "id": "fc279709-5363-47d2-bed9-39ef3f1b46ed",
   "metadata": {},
   "outputs": [
    {
     "data": {
      "text/plain": [
       "('amar', 5, 101.0, [4, 5.3, 'focus'])"
      ]
     },
     "execution_count": 20,
     "metadata": {},
     "output_type": "execute_result"
    }
   ],
   "source": [
    "func3()"
   ]
  },
  {
   "cell_type": "code",
   "execution_count": 21,
   "id": "c54397e6-ac5c-474c-adb6-53ab99cbe580",
   "metadata": {},
   "outputs": [
    {
     "data": {
      "text/plain": [
       "function"
      ]
     },
     "execution_count": 21,
     "metadata": {},
     "output_type": "execute_result"
    }
   ],
   "source": [
    "type(func3)"
   ]
  },
  {
   "cell_type": "code",
   "execution_count": 22,
   "id": "79f8d9d8-1f10-4f23-8b31-f1de323c0078",
   "metadata": {},
   "outputs": [],
   "source": [
    "a,b,c,d=func3() # assigning value of function to a b c and d"
   ]
  },
  {
   "cell_type": "code",
   "execution_count": 23,
   "id": "a96f5102-b9f8-487c-b4cc-731a1a304f67",
   "metadata": {},
   "outputs": [
    {
     "data": {
      "text/plain": [
       "'amar'"
      ]
     },
     "execution_count": 23,
     "metadata": {},
     "output_type": "execute_result"
    }
   ],
   "source": [
    "a"
   ]
  },
  {
   "cell_type": "code",
   "execution_count": 24,
   "id": "d302e949-0b35-47ec-a0df-c0b24fdf5198",
   "metadata": {},
   "outputs": [
    {
     "data": {
      "text/plain": [
       "5"
      ]
     },
     "execution_count": 24,
     "metadata": {},
     "output_type": "execute_result"
    }
   ],
   "source": [
    "b"
   ]
  },
  {
   "cell_type": "code",
   "execution_count": 25,
   "id": "cbff21b3-3a8d-41c1-826a-7b0fe2e0faab",
   "metadata": {},
   "outputs": [
    {
     "data": {
      "text/plain": [
       "(101.0, [4, 5.3, 'focus'])"
      ]
     },
     "execution_count": 25,
     "metadata": {},
     "output_type": "execute_result"
    }
   ],
   "source": [
    "c,d"
   ]
  },
  {
   "cell_type": "code",
   "execution_count": 26,
   "id": "2f21aa00-477f-48df-800d-e3a2dea20ca8",
   "metadata": {},
   "outputs": [
    {
     "data": {
      "text/plain": [
       "[4, 5.3, 'focus']"
      ]
     },
     "execution_count": 26,
     "metadata": {},
     "output_type": "execute_result"
    }
   ],
   "source": [
    "d"
   ]
  },
  {
   "cell_type": "markdown",
   "id": "b01cec5c-e343-4810-9cc9-dea652e520c4",
   "metadata": {},
   "source": [
    "<!-- ============================================ -->"
   ]
  },
  {
   "cell_type": "code",
   "execution_count": null,
   "id": "cd2a703f-b207-457c-af6e-d2a241ec1836",
   "metadata": {},
   "outputs": [],
   "source": [
    "a,b=4,5"
   ]
  },
  {
   "cell_type": "code",
   "execution_count": null,
   "id": "559c6e26-dfab-4620-a89f-cf24dbb07343",
   "metadata": {},
   "outputs": [],
   "source": [
    "a,b"
   ]
  },
  {
   "cell_type": "code",
   "execution_count": null,
   "id": "c6b6098c-87be-4349-8736-1b20ae1aa8d2",
   "metadata": {},
   "outputs": [],
   "source": [
    "type(a)"
   ]
  },
  {
   "cell_type": "code",
   "execution_count": 27,
   "id": "402f0071-e1cd-41a0-b2bb-51388885a449",
   "metadata": {},
   "outputs": [],
   "source": [
    "def func4():\n",
    "    n=5+6/7\n",
    "    return n"
   ]
  },
  {
   "cell_type": "code",
   "execution_count": 28,
   "id": "745831f0-dbf5-47f4-a919-4ef19432adb7",
   "metadata": {},
   "outputs": [
    {
     "data": {
      "text/plain": [
       "5.857142857142857"
      ]
     },
     "execution_count": 28,
     "metadata": {},
     "output_type": "execute_result"
    }
   ],
   "source": [
    "func4()"
   ]
  },
  {
   "cell_type": "code",
   "execution_count": 29,
   "id": "6fde2a8f-cc11-40f9-89c5-6a5e633732af",
   "metadata": {},
   "outputs": [],
   "source": [
    "def func5(a,b,c):\n",
    "    d=a+b+c\n",
    "    return d\n"
   ]
  },
  {
   "cell_type": "code",
   "execution_count": 30,
   "id": "5a8652f2-b8e6-4c46-bd9b-3a0ae1f4413d",
   "metadata": {},
   "outputs": [
    {
     "data": {
      "text/plain": [
       "9"
      ]
     },
     "execution_count": 30,
     "metadata": {},
     "output_type": "execute_result"
    }
   ],
   "source": [
    "func5(2,3,4)"
   ]
  },
  {
   "cell_type": "code",
   "execution_count": 31,
   "id": "33c6bc59-cf39-4645-b46e-1deae65a8c05",
   "metadata": {},
   "outputs": [],
   "source": [
    "def func6(a,b):\n",
    "    return a+b"
   ]
  },
  {
   "cell_type": "code",
   "execution_count": 32,
   "id": "cc164a1c-4e31-4cff-a76d-49f3d0b2546f",
   "metadata": {},
   "outputs": [
    {
     "data": {
      "text/plain": [
       "8"
      ]
     },
     "execution_count": 32,
     "metadata": {},
     "output_type": "execute_result"
    }
   ],
   "source": [
    "func6(3,5)"
   ]
  },
  {
   "cell_type": "code",
   "execution_count": 33,
   "id": "a25e890b-eb28-447e-9b03-97f384b7ec31",
   "metadata": {},
   "outputs": [
    {
     "data": {
      "text/plain": [
       "'Amar Kumar'"
      ]
     },
     "execution_count": 33,
     "metadata": {},
     "output_type": "execute_result"
    }
   ],
   "source": [
    "func6(\"Amar\",\" Kumar\")"
   ]
  },
  {
   "cell_type": "code",
   "execution_count": 34,
   "id": "a2b94636-cfc2-459f-a402-cea7a1e479f0",
   "metadata": {},
   "outputs": [
    {
     "data": {
      "text/plain": [
       "[1, 3, 4, 4.4, 5]"
      ]
     },
     "execution_count": 34,
     "metadata": {},
     "output_type": "execute_result"
    }
   ],
   "source": [
    "func6([1,3,4],[4.4,5])"
   ]
  },
  {
   "cell_type": "code",
   "execution_count": null,
   "id": "38210448-7d09-4fbd-9cc7-1a603c8847a3",
   "metadata": {},
   "outputs": [],
   "source": [
    "# list and function"
   ]
  },
  {
   "cell_type": "code",
   "execution_count": 2,
   "id": "ee78ecbb-67d3-402b-9c37-2d85259af67e",
   "metadata": {},
   "outputs": [],
   "source": [
    "l=[1,2,3,4,\"Amar\",\" Kumar\", \" Swarnkar\",[5,6,7,8]]"
   ]
  },
  {
   "cell_type": "code",
   "execution_count": 36,
   "id": "858162f3-d9eb-42dd-88a6-fd1571a95a53",
   "metadata": {},
   "outputs": [],
   "source": [
    "l1=[]\n",
    "for i in l:\n",
    "    if type(i)==int:\n",
    "        l1.append(i)\n",
    "        "
   ]
  },
  {
   "cell_type": "code",
   "execution_count": 37,
   "id": "b093e31d-5bff-403e-91cc-1c08d89a7c83",
   "metadata": {},
   "outputs": [
    {
     "data": {
      "text/plain": [
       "[1, 2, 3, 4]"
      ]
     },
     "execution_count": 37,
     "metadata": {},
     "output_type": "execute_result"
    }
   ],
   "source": [
    "l1"
   ]
  },
  {
   "cell_type": "code",
   "execution_count": 38,
   "id": "3961ab86-5cdd-4103-9471-7d10f28eef38",
   "metadata": {},
   "outputs": [],
   "source": [
    "def func7():\n",
    "    l1=[]\n",
    "    for i in l:\n",
    "        if type(i)==int:\n",
    "            l1.append(i)\n",
    "    return l1"
   ]
  },
  {
   "cell_type": "code",
   "execution_count": 39,
   "id": "dd279273-5ce6-4c45-9fd6-5c0e591913d7",
   "metadata": {},
   "outputs": [
    {
     "data": {
      "text/plain": [
       "[1, 2, 3, 4]"
      ]
     },
     "execution_count": 39,
     "metadata": {},
     "output_type": "execute_result"
    }
   ],
   "source": [
    "func7()"
   ]
  },
  {
   "cell_type": "code",
   "execution_count": 40,
   "id": "8e5fa0b1-0253-4d23-aeae-e5cc49705b5a",
   "metadata": {},
   "outputs": [
    {
     "data": {
      "text/plain": [
       "[1, 2, 3, 4, 'Amar', ' Kumar', ' Swarnkar', [5, 6, 7, 8]]"
      ]
     },
     "execution_count": 40,
     "metadata": {},
     "output_type": "execute_result"
    }
   ],
   "source": [
    "l\n"
   ]
  },
  {
   "cell_type": "code",
   "execution_count": 3,
   "id": "75ccd610-8279-4997-a2df-096b8bde6496",
   "metadata": {},
   "outputs": [],
   "source": [
    "def func8(a):\n",
    "    l=[]\n",
    "    for i in a:\n",
    "        if type(i)==list:\n",
    "            for j in i:\n",
    "                l.append(j)\n",
    "        else:\n",
    "            if type(i)==int:\n",
    "                l.append(i)\n",
    "    return l"
   ]
  },
  {
   "cell_type": "code",
   "execution_count": 4,
   "id": "d4019648-db9d-4a6a-8ab2-8d2f530e4da1",
   "metadata": {},
   "outputs": [
    {
     "data": {
      "text/plain": [
       "[1, 2, 3, 4, 5, 6, 7, 8]"
      ]
     },
     "execution_count": 4,
     "metadata": {},
     "output_type": "execute_result"
    }
   ],
   "source": [
    "func8(l)"
   ]
  },
  {
   "cell_type": "code",
   "execution_count": 6,
   "id": "c55d979a-72ac-4d57-88ce-d3c8d33e4b14",
   "metadata": {},
   "outputs": [],
   "source": [
    "def func8(a):\n",
    "    l3=[] # naam kuch bhi ho sakta hai l ya l3 doesn't matter.\n",
    "    for i in a:\n",
    "        if type(i)==list:\n",
    "            for j in i:\n",
    "                l3.append(j)\n",
    "        else:\n",
    "            if type(i)==int:\n",
    "                l3.append(i)\n",
    "    return l3"
   ]
  },
  {
   "cell_type": "code",
   "execution_count": 7,
   "id": "15a4475b-07e8-47ee-8367-7cb0b5be17bf",
   "metadata": {},
   "outputs": [
    {
     "data": {
      "text/plain": [
       "[1, 2, 3, 4, 5, 6, 7, 8]"
      ]
     },
     "execution_count": 7,
     "metadata": {},
     "output_type": "execute_result"
    }
   ],
   "source": [
    "func8(l)"
   ]
  },
  {
   "cell_type": "code",
   "execution_count": 1,
   "id": "9c245a25-db80-4e45-a0b1-eef357c404bf",
   "metadata": {},
   "outputs": [
    {
     "data": {
      "text/plain": [
       "4"
      ]
     },
     "execution_count": 1,
     "metadata": {},
     "output_type": "execute_result"
    }
   ],
   "source": [
    "2+2 "
   ]
  },
  {
   "cell_type": "code",
   "execution_count": 8,
   "id": "c18ccb19-ef8f-489e-8cef-c077fcea2e3c",
   "metadata": {},
   "outputs": [
    {
     "data": {
      "text/plain": [
       "[1, 2, 3, 4, 'Amar', ' Kumar', ' Swarnkar', [5, 6, 7, 8]]"
      ]
     },
     "execution_count": 8,
     "metadata": {},
     "output_type": "execute_result"
    }
   ],
   "source": [
    "l"
   ]
  },
  {
   "cell_type": "code",
   "execution_count": 12,
   "id": "ddb3183f-5f67-4823-8774-1dd2f2910654",
   "metadata": {},
   "outputs": [],
   "source": [
    "def func9(a):\n",
    "    \"\"\"This is a function to extract num data from list samjhe \"\"\"# this is docstring.\n",
    "                                                     #shift+tab to see\n",
    "    l=[]\n",
    "    for i in a:\n",
    "        if type(i)==list:\n",
    "            for j in i:\n",
    "                l.append(j)\n",
    "        else:\n",
    "            if type(i)==int:\n",
    "                l.append(i)\n",
    "    return l"
   ]
  },
  {
   "cell_type": "code",
   "execution_count": 15,
   "id": "8ff95aae-2088-4547-af24-962447dd9b94",
   "metadata": {},
   "outputs": [
    {
     "data": {
      "text/plain": [
       "[1, 2, 3, 4, 5, 6, 7, 8]"
      ]
     },
     "execution_count": 15,
     "metadata": {},
     "output_type": "execute_result"
    }
   ],
   "source": [
    "func9(l)"
   ]
  },
  {
   "cell_type": "code",
   "execution_count": 16,
   "id": "bb245d51-4016-443d-b3c2-4c70724f3217",
   "metadata": {},
   "outputs": [],
   "source": [
    "# multiple inputat one time"
   ]
  },
  {
   "cell_type": "code",
   "execution_count": 17,
   "id": "7d581a6c-130c-4451-a2ae-af1c9b0b9604",
   "metadata": {},
   "outputs": [],
   "source": [
    "# two input at one time \n",
    "def two_input(a,b):\n",
    "    return(a+b)"
   ]
  },
  {
   "cell_type": "code",
   "execution_count": 18,
   "id": "3a1908e1-80c6-471d-a84b-5ef809953846",
   "metadata": {},
   "outputs": [
    {
     "data": {
      "text/plain": [
       "6"
      ]
     },
     "execution_count": 18,
     "metadata": {},
     "output_type": "execute_result"
    }
   ],
   "source": [
    "two_input(2,4)"
   ]
  },
  {
   "cell_type": "code",
   "execution_count": 25,
   "id": "d1a44efd-6f52-4ae7-91df-e484d5d683b4",
   "metadata": {},
   "outputs": [],
   "source": [
    "# multiple input according to users choice\n",
    "def multiple_input(*args):\n",
    "    return args"
   ]
  },
  {
   "cell_type": "code",
   "execution_count": 29,
   "id": "4c862df5-a317-4b8e-9046-9db2cd4610c6",
   "metadata": {},
   "outputs": [
    {
     "data": {
      "text/plain": [
       "function"
      ]
     },
     "execution_count": 29,
     "metadata": {},
     "output_type": "execute_result"
    }
   ],
   "source": [
    "type(multiple_input)#multiple input function type ka hai "
   ]
  },
  {
   "cell_type": "code",
   "execution_count": 31,
   "id": "21ef0cd4-06b7-4bf3-b9a7-7182f32794bc",
   "metadata": {},
   "outputs": [
    {
     "data": {
      "text/plain": [
       "tuple"
      ]
     },
     "execution_count": 31,
     "metadata": {},
     "output_type": "execute_result"
    }
   ],
   "source": [
    "type(multiple_input())# multiple input() tuple type ka hai \n",
    "                         # ()  tuple type ka hai "
   ]
  },
  {
   "cell_type": "code",
   "execution_count": 21,
   "id": "d7be6b4a-dcf4-441a-8cd2-9f8c8e782c24",
   "metadata": {},
   "outputs": [
    {
     "data": {
      "text/plain": [
       "(2, 3)"
      ]
     },
     "execution_count": 21,
     "metadata": {},
     "output_type": "execute_result"
    }
   ],
   "source": [
    "multiple_input(2,3)"
   ]
  },
  {
   "cell_type": "code",
   "execution_count": 22,
   "id": "e68cd6a1-d781-4267-a379-240f60a4c98a",
   "metadata": {},
   "outputs": [
    {
     "data": {
      "text/plain": [
       "(2, 32, 32.34, 2222)"
      ]
     },
     "execution_count": 22,
     "metadata": {},
     "output_type": "execute_result"
    }
   ],
   "source": [
    "multiple_input(2,32,32.34,2222)"
   ]
  },
  {
   "cell_type": "code",
   "execution_count": 24,
   "id": "ccc41818-9560-4ed7-a787-8e2d43a635e3",
   "metadata": {},
   "outputs": [
    {
     "data": {
      "text/plain": [
       "('Amar', 1, 2, 3, 4, ['Kumar', 8])"
      ]
     },
     "execution_count": 24,
     "metadata": {},
     "output_type": "execute_result"
    }
   ],
   "source": [
    "multiple_input(\"Amar\",1,2,3,4,[\"Kumar\",8])"
   ]
  },
  {
   "cell_type": "code",
   "execution_count": 34,
   "id": "2b33cdc8-ee7d-4e96-8a65-615a88a71db0",
   "metadata": {},
   "outputs": [],
   "source": [
    "def func10(*amar):\n",
    "    return (amar)\n"
   ]
  },
  {
   "cell_type": "code",
   "execution_count": 35,
   "id": "5960799e-684a-4fcf-b2cf-c1d63482f592",
   "metadata": {},
   "outputs": [
    {
     "data": {
      "text/plain": [
       "(1, 2, 3, 4, 'amar')"
      ]
     },
     "execution_count": 35,
     "metadata": {},
     "output_type": "execute_result"
    }
   ],
   "source": [
    "func10(1,2,3,4,\"amar\")"
   ]
  },
  {
   "cell_type": "code",
   "execution_count": 36,
   "id": "1448c650-ba6d-4efb-baa0-8817cbea77bb",
   "metadata": {},
   "outputs": [],
   "source": [
    "def func11(*args,a):\n",
    "    return args,a\n"
   ]
  },
  {
   "cell_type": "code",
   "execution_count": 40,
   "id": "88280c1d-eeba-40ad-ab46-ace6e9074c90",
   "metadata": {},
   "outputs": [
    {
     "ename": "TypeError",
     "evalue": "func11() missing 1 required keyword-only argument: 'a'",
     "output_type": "error",
     "traceback": [
      "\u001b[0;31m---------------------------------------------------------------------------\u001b[0m",
      "\u001b[0;31mTypeError\u001b[0m                                 Traceback (most recent call last)",
      "Cell \u001b[0;32mIn[40], line 1\u001b[0m\n\u001b[0;32m----> 1\u001b[0m \u001b[43mfunc11\u001b[49m\u001b[43m(\u001b[49m\u001b[38;5;241;43m1\u001b[39;49m\u001b[43m,\u001b[49m\u001b[38;5;241;43m2\u001b[39;49m\u001b[43m,\u001b[49m\u001b[38;5;241;43m3\u001b[39;49m\u001b[43m,\u001b[49m\u001b[38;5;241;43m4\u001b[39;49m\u001b[43m)\u001b[49m \u001b[38;5;66;03m# it confuse ki hum args mein multiple input le rahe \u001b[39;00m\n\u001b[1;32m      2\u001b[0m                 \u001b[38;5;66;03m# tab a mein kya le rahe \u001b[39;00m\n",
      "\u001b[0;31mTypeError\u001b[0m: func11() missing 1 required keyword-only argument: 'a'"
     ]
    }
   ],
   "source": [
    "func11(1,2,3,4) # it confuse ki hum args mein multiple input le rahe \n",
    "                # tab a mein kya le rahe "
   ]
  },
  {
   "cell_type": "code",
   "execution_count": 42,
   "id": "021fe8b2-1d98-4233-9137-b542ffc76b30",
   "metadata": {},
   "outputs": [
    {
     "data": {
      "text/plain": [
       "((1, 2, 3, 4), 12)"
      ]
     },
     "execution_count": 42,
     "metadata": {},
     "output_type": "execute_result"
    }
   ],
   "source": [
    "func11(1,2,3,4,a=12)\n",
    "    \n"
   ]
  },
  {
   "cell_type": "code",
   "execution_count": 43,
   "id": "29551231-94be-49ed-bb31-5306b22f4fd6",
   "metadata": {},
   "outputs": [],
   "source": [
    "# some value fix and  some value not fix\n",
    "\n",
    "def func12(c,d,a=2,b=3):\n",
    "    return a,b,c,d\n"
   ]
  },
  {
   "cell_type": "code",
   "execution_count": 44,
   "id": "dcf20f2a-dd36-4c90-a730-a935052276fc",
   "metadata": {},
   "outputs": [
    {
     "ename": "TypeError",
     "evalue": "func12() missing 2 required positional arguments: 'c' and 'd'",
     "output_type": "error",
     "traceback": [
      "\u001b[0;31m---------------------------------------------------------------------------\u001b[0m",
      "\u001b[0;31mTypeError\u001b[0m                                 Traceback (most recent call last)",
      "Cell \u001b[0;32mIn[44], line 1\u001b[0m\n\u001b[0;32m----> 1\u001b[0m \u001b[43mfunc12\u001b[49m\u001b[43m(\u001b[49m\u001b[43m)\u001b[49m\n",
      "\u001b[0;31mTypeError\u001b[0m: func12() missing 2 required positional arguments: 'c' and 'd'"
     ]
    }
   ],
   "source": [
    "func12()"
   ]
  },
  {
   "cell_type": "code",
   "execution_count": 46,
   "id": "3f8a58e0-a47d-4e40-b360-fd836271b277",
   "metadata": {},
   "outputs": [
    {
     "data": {
      "text/plain": [
       "(2, 3, 0, 1)"
      ]
     },
     "execution_count": 46,
     "metadata": {},
     "output_type": "execute_result"
    }
   ],
   "source": [
    "func12(0,1)# a=2 b=3 ( c=0 d=1 we gave )\n"
   ]
  },
  {
   "cell_type": "code",
   "execution_count": 50,
   "id": "0b7469dc-1082-4b1e-9c98-879e12100851",
   "metadata": {},
   "outputs": [
    {
     "data": {
      "text/plain": [
       "(99, 3, 1, 23)"
      ]
     },
     "execution_count": 50,
     "metadata": {},
     "output_type": "execute_result"
    }
   ],
   "source": [
    "func12(1,23,a=99)  # change value of a from 2 to 99"
   ]
  },
  {
   "cell_type": "code",
   "execution_count": 51,
   "id": "1f4458a7-98e0-4f92-be20-187e7f685998",
   "metadata": {},
   "outputs": [],
   "source": [
    "def func13(**args):\n",
    "    return args\n",
    "    "
   ]
  },
  {
   "cell_type": "code",
   "execution_count": 52,
   "id": "ace72120-e811-4436-877b-d19f72ce7218",
   "metadata": {},
   "outputs": [
    {
     "data": {
      "text/plain": [
       "dict"
      ]
     },
     "execution_count": 52,
     "metadata": {},
     "output_type": "execute_result"
    }
   ],
   "source": [
    "type(func13())"
   ]
  },
  {
   "cell_type": "code",
   "execution_count": 53,
   "id": "25805921-c0c8-4307-b67d-a7b8f020e9f6",
   "metadata": {},
   "outputs": [
    {
     "data": {
      "text/plain": [
       "{'a': 11, 'b': 'Amar', 'c': [1, 2, 34]}"
      ]
     },
     "execution_count": 53,
     "metadata": {},
     "output_type": "execute_result"
    }
   ],
   "source": [
    "func13(a=11,b=\"Amar\",c=[1,2,34])"
   ]
  },
  {
   "cell_type": "code",
   "execution_count": 54,
   "id": "e96bd16d-caff-407c-8b06-748c41b71ce6",
   "metadata": {},
   "outputs": [],
   "source": [
    "# question try"
   ]
  },
  {
   "cell_type": "code",
   "execution_count": 57,
   "id": "a97f8077-36d0-48f0-8c3c-4bd17ea3853f",
   "metadata": {},
   "outputs": [],
   "source": [
    "def funcA(*a1,a2):\n",
    "    \n",
    "    return a1+a2\n",
    "    "
   ]
  },
  {
   "cell_type": "code",
   "execution_count": 58,
   "id": "fd8f6c91-4a86-4501-b327-7ce091d26035",
   "metadata": {},
   "outputs": [
    {
     "ename": "TypeError",
     "evalue": "can only concatenate tuple (not \"int\") to tuple",
     "output_type": "error",
     "traceback": [
      "\u001b[0;31m---------------------------------------------------------------------------\u001b[0m",
      "\u001b[0;31mTypeError\u001b[0m                                 Traceback (most recent call last)",
      "Cell \u001b[0;32mIn[58], line 1\u001b[0m\n\u001b[0;32m----> 1\u001b[0m \u001b[43mfuncA\u001b[49m\u001b[43m(\u001b[49m\u001b[38;5;241;43m2\u001b[39;49m\u001b[43m,\u001b[49m\u001b[38;5;241;43m3\u001b[39;49m\u001b[43m,\u001b[49m\u001b[38;5;241;43m4\u001b[39;49m\u001b[43m,\u001b[49m\u001b[43ma2\u001b[49m\u001b[38;5;241;43m=\u001b[39;49m\u001b[38;5;241;43m5\u001b[39;49m\u001b[43m)\u001b[49m\n",
      "Cell \u001b[0;32mIn[57], line 3\u001b[0m, in \u001b[0;36mfuncA\u001b[0;34m(a2, *a1)\u001b[0m\n\u001b[1;32m      1\u001b[0m \u001b[38;5;28;01mdef\u001b[39;00m \u001b[38;5;21mfuncA\u001b[39m(\u001b[38;5;241m*\u001b[39ma1,a2):\n\u001b[0;32m----> 3\u001b[0m     \u001b[38;5;28;01mreturn\u001b[39;00m \u001b[43ma1\u001b[49m\u001b[38;5;241;43m+\u001b[39;49m\u001b[43ma2\u001b[49m\n",
      "\u001b[0;31mTypeError\u001b[0m: can only concatenate tuple (not \"int\") to tuple"
     ]
    }
   ],
   "source": [
    "funcA(2,3,4,a2=5)"
   ]
  },
  {
   "cell_type": "code",
   "execution_count": null,
   "id": "61b43073-9b0a-412c-b220-fd79a9fa5437",
   "metadata": {},
   "outputs": [],
   "source": []
  },
  {
   "cell_type": "code",
   "execution_count": null,
   "id": "62398e18-44a5-45c3-93d1-bcd38614ab43",
   "metadata": {},
   "outputs": [],
   "source": []
  },
  {
   "cell_type": "code",
   "execution_count": 55,
   "id": "3ec8fa97-0f87-472f-b5b6-96ec1f1a755b",
   "metadata": {},
   "outputs": [
    {
     "data": {
      "text/plain": [
       "4"
      ]
     },
     "execution_count": 55,
     "metadata": {},
     "output_type": "execute_result"
    }
   ],
   "source": [
    "2+2\n"
   ]
  },
  {
   "cell_type": "code",
   "execution_count": null,
   "id": "a3c59488-834e-4179-99e3-7a468453e4c1",
   "metadata": {},
   "outputs": [],
   "source": []
  }
 ],
 "metadata": {
  "kernelspec": {
   "display_name": "Python 3 (ipykernel)",
   "language": "python",
   "name": "python3"
  },
  "language_info": {
   "codemirror_mode": {
    "name": "ipython",
    "version": 3
   },
   "file_extension": ".py",
   "mimetype": "text/x-python",
   "name": "python",
   "nbconvert_exporter": "python",
   "pygments_lexer": "ipython3",
   "version": "3.10.8"
  }
 },
 "nbformat": 4,
 "nbformat_minor": 5
}
