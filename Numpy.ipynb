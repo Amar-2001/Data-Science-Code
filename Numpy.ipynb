{
 "cells": [
  {
   "cell_type": "code",
   "execution_count": 2,
   "id": "49accae9-c304-481a-85cd-f27c57d7ef73",
   "metadata": {},
   "outputs": [],
   "source": [
    "# Numerical Python called Numpy is a library in python for mathematical opeartions based on array and index\n",
    "# like Matlab"
   ]
  },
  {
   "cell_type": "code",
   "execution_count": 1,
   "id": "6c9220b9-2dc4-4141-966a-9d8434e64871",
   "metadata": {},
   "outputs": [],
   "source": [
    "import numpy as np"
   ]
  },
  {
   "cell_type": "code",
   "execution_count": 2,
   "id": "0618a776-134d-429f-83ea-6522ce96f243",
   "metadata": {},
   "outputs": [],
   "source": [
    "l=[1,2,3,4]"
   ]
  },
  {
   "cell_type": "code",
   "execution_count": 3,
   "id": "75d278e4-23be-42de-a3c0-e321b127d241",
   "metadata": {},
   "outputs": [],
   "source": [
    "ar=np.array(l)"
   ]
  },
  {
   "cell_type": "code",
   "execution_count": 4,
   "id": "2612d9a6-9840-4453-ad27-c22f764606b2",
   "metadata": {},
   "outputs": [
    {
     "data": {
      "text/plain": [
       "array([1, 2, 3, 4])"
      ]
     },
     "execution_count": 4,
     "metadata": {},
     "output_type": "execute_result"
    }
   ],
   "source": [
    "ar"
   ]
  },
  {
   "cell_type": "code",
   "execution_count": 5,
   "id": "413926c8-5eb2-4476-bdc5-66d0e7c97c8c",
   "metadata": {},
   "outputs": [
    {
     "data": {
      "text/plain": [
       "numpy.ndarray"
      ]
     },
     "execution_count": 5,
     "metadata": {},
     "output_type": "execute_result"
    }
   ],
   "source": [
    "type(ar) # nd array means nth dimensional array "
   ]
  },
  {
   "cell_type": "code",
   "execution_count": 6,
   "id": "4194b44b-4ca6-47ce-b811-d0500c739ac7",
   "metadata": {},
   "outputs": [
    {
     "data": {
      "text/plain": [
       "array([[1, 2],\n",
       "       [5, 4]])"
      ]
     },
     "execution_count": 6,
     "metadata": {},
     "output_type": "execute_result"
    }
   ],
   "source": [
    "ar1=np.array( [ [1,2] , [5,4] ] )  # 2d array means jitna square bracket utna dimension\n",
    "ar1"
   ]
  },
  {
   "cell_type": "code",
   "execution_count": 7,
   "id": "08429992-8017-4404-ad4e-7f0c3688e7f0",
   "metadata": {},
   "outputs": [
    {
     "data": {
      "text/plain": [
       "numpy.ndarray"
      ]
     },
     "execution_count": 7,
     "metadata": {},
     "output_type": "execute_result"
    }
   ],
   "source": [
    "type(ar1)"
   ]
  },
  {
   "cell_type": "code",
   "execution_count": 8,
   "id": "e12f7ed3-5081-4ed0-a093-8d04f6add17f",
   "metadata": {},
   "outputs": [
    {
     "data": {
      "text/plain": [
       "[1, 2, 3, 4]"
      ]
     },
     "execution_count": 8,
     "metadata": {},
     "output_type": "execute_result"
    }
   ],
   "source": [
    "l"
   ]
  },
  {
   "cell_type": "code",
   "execution_count": 9,
   "id": "e4faf5bc-ee19-4250-b614-f42d0731335b",
   "metadata": {},
   "outputs": [
    {
     "data": {
      "text/plain": [
       "array([1, 2, 3, 4])"
      ]
     },
     "execution_count": 9,
     "metadata": {},
     "output_type": "execute_result"
    }
   ],
   "source": [
    "np.asarray(l) # convert karta 2d array ko 1d mein "
   ]
  },
  {
   "cell_type": "code",
   "execution_count": 10,
   "id": "a1fc310c-ca43-4954-9359-0290c8a5d177",
   "metadata": {},
   "outputs": [
    {
     "name": "stdout",
     "output_type": "stream",
     "text": [
      "ar =  [1 2 3 4]\n",
      "ar1 =  "
     ]
    },
    {
     "data": {
      "text/plain": [
       "array([[1, 2],\n",
       "       [5, 4]])"
      ]
     },
     "execution_count": 10,
     "metadata": {},
     "output_type": "execute_result"
    }
   ],
   "source": [
    "print(\"ar = \",np.asarray(ar)) \n",
    "print(\"ar1 = \",end=\" \")   # doubt kaha convert kiya ar1 (2d ko 1d mein)\n",
    "np.asarray(ar1)           # doubt solved asarray() list ko array mein convert karta bhai"
   ]
  },
  {
   "cell_type": "code",
   "execution_count": 11,
   "id": "9d3a0f9b-aae3-4d0e-9e73-396416d41796",
   "metadata": {},
   "outputs": [
    {
     "name": "stdout",
     "output_type": "stream",
     "text": [
      "[1, 2, 3, 4]\n"
     ]
    }
   ],
   "source": [
    "# ye dekho\n",
    "print(l)\n",
    "l1=np.asarray(l) # covnert list into array  # doubt np.array bhi toh wahi kaam kar raha list ko array mein convert kar raha\n",
    "                                            # solved np.array,np.asarray() , ya np.asanyarray() all are same whose work is to convert list into array"
   ]
  },
  {
   "cell_type": "code",
   "execution_count": 12,
   "id": "737e9d15-f25f-439e-999d-25eb429daa48",
   "metadata": {},
   "outputs": [
    {
     "data": {
      "text/plain": [
       "numpy.ndarray"
      ]
     },
     "execution_count": 12,
     "metadata": {},
     "output_type": "execute_result"
    }
   ],
   "source": [
    "type(l1)"
   ]
  },
  {
   "cell_type": "code",
   "execution_count": 13,
   "id": "243f8bd5-0f7d-4e9f-8437-e8c2d0527ece",
   "metadata": {},
   "outputs": [],
   "source": [
    "l2=np.asanyarray(l)"
   ]
  },
  {
   "cell_type": "code",
   "execution_count": 14,
   "id": "658203a1-222d-41b4-8dcb-e97f3d138300",
   "metadata": {},
   "outputs": [
    {
     "data": {
      "text/plain": [
       "list"
      ]
     },
     "execution_count": 14,
     "metadata": {},
     "output_type": "execute_result"
    }
   ],
   "source": [
    "type(l)"
   ]
  },
  {
   "cell_type": "code",
   "execution_count": 15,
   "id": "2f23af16-b3a4-4dc6-af22-fb15c7fee5ca",
   "metadata": {},
   "outputs": [
    {
     "data": {
      "text/plain": [
       "numpy.ndarray"
      ]
     },
     "execution_count": 15,
     "metadata": {},
     "output_type": "execute_result"
    }
   ],
   "source": [
    "type(l2)"
   ]
  },
  {
   "cell_type": "code",
   "execution_count": 16,
   "id": "0d74d4f6-f785-4103-9380-7606992c3eb1",
   "metadata": {},
   "outputs": [],
   "source": [
    "# convert list into matrix"
   ]
  },
  {
   "cell_type": "code",
   "execution_count": 17,
   "id": "309685b4-4a5c-4257-bcf5-09d46d997316",
   "metadata": {},
   "outputs": [
    {
     "data": {
      "text/plain": [
       "matrix([[1, 2, 3, 4]])"
      ]
     },
     "execution_count": 17,
     "metadata": {},
     "output_type": "execute_result"
    }
   ],
   "source": [
    "b=np.matrix(l)\n",
    "b"
   ]
  },
  {
   "cell_type": "code",
   "execution_count": 18,
   "id": "33cfd90c-a7b7-4f4b-9ab5-a8c9b022cae5",
   "metadata": {},
   "outputs": [
    {
     "data": {
      "text/plain": [
       "numpy.matrix"
      ]
     },
     "execution_count": 18,
     "metadata": {},
     "output_type": "execute_result"
    }
   ],
   "source": [
    "type(b)"
   ]
  },
  {
   "cell_type": "code",
   "execution_count": 19,
   "id": "ac0c51a3-60e3-4cd0-9093-490f0ec8092f",
   "metadata": {},
   "outputs": [],
   "source": [
    "# Now convert matrix into array"
   ]
  },
  {
   "cell_type": "code",
   "execution_count": 20,
   "id": "a2017f8b-34fb-48c4-b0ff-0c76b90b3dfc",
   "metadata": {},
   "outputs": [
    {
     "data": {
      "text/plain": [
       "array([[1, 2, 3, 4]])"
      ]
     },
     "execution_count": 20,
     "metadata": {},
     "output_type": "execute_result"
    }
   ],
   "source": [
    "b1=np.asarray(b)  # not convert matrix into array still because matrix bhi array ka hi form hai[asarray list ko array mein convert karta but jo already arrray hai usko toh array mein hi convert  kareegea  na ]\n",
    "b1"
   ]
  },
  {
   "cell_type": "code",
   "execution_count": 21,
   "id": "6d738ac4-e6a8-4725-870d-491f740d9d70",
   "metadata": {},
   "outputs": [
    {
     "data": {
      "text/plain": [
       "numpy.ndarray"
      ]
     },
     "execution_count": 21,
     "metadata": {},
     "output_type": "execute_result"
    }
   ],
   "source": [
    "# type(np.asarray(b)) # \n",
    "type(b1)  # bhale matrix se array mein convert kiya but type array hi hai [matrix likha raha tha upar dekho line 55]"
   ]
  },
  {
   "cell_type": "code",
   "execution_count": 22,
   "id": "0b7ffec1-1ecb-41d4-b4a4-563aa948490b",
   "metadata": {},
   "outputs": [],
   "source": [
    "# NOw"
   ]
  },
  {
   "cell_type": "code",
   "execution_count": 23,
   "id": "7e67b920-ab04-4eff-89fa-3cde5bfce34b",
   "metadata": {},
   "outputs": [
    {
     "data": {
      "text/plain": [
       "array([1, 2, 3, 4])"
      ]
     },
     "execution_count": 23,
     "metadata": {},
     "output_type": "execute_result"
    }
   ],
   "source": [
    "a=np.array(l)\n",
    "a"
   ]
  },
  {
   "cell_type": "code",
   "execution_count": 24,
   "id": "626929e9-4aac-47f8-aa0a-3b5e89f642a9",
   "metadata": {},
   "outputs": [],
   "source": [
    "c=a"
   ]
  },
  {
   "cell_type": "code",
   "execution_count": 25,
   "id": "2c372376-4f9f-4b1c-840c-b2cad7051ae1",
   "metadata": {},
   "outputs": [
    {
     "data": {
      "text/plain": [
       "array([1, 2, 3, 4])"
      ]
     },
     "execution_count": 25,
     "metadata": {},
     "output_type": "execute_result"
    }
   ],
   "source": [
    "c"
   ]
  },
  {
   "cell_type": "code",
   "execution_count": 26,
   "id": "7dbb04e0-ad43-47db-9a99-fff16f5d492a",
   "metadata": {},
   "outputs": [],
   "source": [
    "c[0]=101"
   ]
  },
  {
   "cell_type": "code",
   "execution_count": 27,
   "id": "aa93f6df-8e7a-458b-8e49-e19b6e87031f",
   "metadata": {},
   "outputs": [
    {
     "data": {
      "text/plain": [
       "array([101,   2,   3,   4])"
      ]
     },
     "execution_count": 27,
     "metadata": {},
     "output_type": "execute_result"
    }
   ],
   "source": [
    "c"
   ]
  },
  {
   "cell_type": "code",
   "execution_count": 28,
   "id": "54c1590d-aad3-4c3c-8001-26436931a228",
   "metadata": {},
   "outputs": [
    {
     "data": {
      "text/plain": [
       "array([101,   2,   3,   4])"
      ]
     },
     "execution_count": 28,
     "metadata": {},
     "output_type": "execute_result"
    }
   ],
   "source": [
    "a  # we didn't change in a but how a changes by changeing c becasue we take its reference(pointer) same address par hai wo\n",
    "        # its  called \"swallow copy\""
   ]
  },
  {
   "cell_type": "code",
   "execution_count": 29,
   "id": "5517c779-bc6e-4346-aac6-cb3ea905327a",
   "metadata": {},
   "outputs": [
    {
     "data": {
      "text/plain": [
       "array([101,   2,   5,   4])"
      ]
     },
     "execution_count": 29,
     "metadata": {},
     "output_type": "execute_result"
    }
   ],
   "source": [
    "a[2]=5 # a ke 2nd index par 5 but c mein bhi changes hoga because of swallow copy\n",
    "c"
   ]
  },
  {
   "cell_type": "code",
   "execution_count": 30,
   "id": "dcff2045-9f22-4527-96f1-7e50ce7766a4",
   "metadata": {},
   "outputs": [],
   "source": [
    "# now deep copy"
   ]
  },
  {
   "cell_type": "code",
   "execution_count": 31,
   "id": "2c7afaf0-dad5-4f9d-94f6-a7c2ef879b6d",
   "metadata": {},
   "outputs": [
    {
     "data": {
      "text/plain": [
       "array([101,   2,   5,   4])"
      ]
     },
     "execution_count": 31,
     "metadata": {},
     "output_type": "execute_result"
    }
   ],
   "source": [
    "d=np.copy(a)\n",
    "d"
   ]
  },
  {
   "cell_type": "code",
   "execution_count": 32,
   "id": "96e25620-51d6-46d5-8ab5-341add2f6317",
   "metadata": {},
   "outputs": [
    {
     "data": {
      "text/plain": [
       "array([101,  88,   5,   4])"
      ]
     },
     "execution_count": 32,
     "metadata": {},
     "output_type": "execute_result"
    }
   ],
   "source": [
    "a[1]=88\n",
    "a"
   ]
  },
  {
   "cell_type": "code",
   "execution_count": 33,
   "id": "186f045c-e4fe-46d8-9f58-ae80544c4d21",
   "metadata": {},
   "outputs": [
    {
     "data": {
      "text/plain": [
       "array([101,   2,   5,   4])"
      ]
     },
     "execution_count": 33,
     "metadata": {},
     "output_type": "execute_result"
    }
   ],
   "source": [
    "d  # d ke 1 index par 88 nahi aaya because ye alag location par array banaya it's called deep copy"
   ]
  },
  {
   "cell_type": "code",
   "execution_count": 34,
   "id": "215149b7-ee9c-454d-b0a9-72fe830d5d2c",
   "metadata": {},
   "outputs": [],
   "source": [
    "# Now np.fromfunction()"
   ]
  },
  {
   "cell_type": "code",
   "execution_count": 35,
   "id": "617d7c91-e739-47c8-912d-0d28e79707c0",
   "metadata": {},
   "outputs": [
    {
     "data": {
      "text/plain": [
       "array([[ True, False, False],\n",
       "       [False,  True, False],\n",
       "       [False, False,  True]])"
      ]
     },
     "execution_count": 35,
     "metadata": {},
     "output_type": "execute_result"
    }
   ],
   "source": [
    "np.fromfunction(lambda i,j:   i==j, (3,3) )"
   ]
  },
  {
   "cell_type": "code",
   "execution_count": 36,
   "id": "883d188f-0fd5-4148-a8b1-6204bc288025",
   "metadata": {},
   "outputs": [
    {
     "data": {
      "text/plain": [
       "array([[0., 1., 2.],\n",
       "       [1., 2., 3.],\n",
       "       [2., 3., 4.]])"
      ]
     },
     "execution_count": 36,
     "metadata": {},
     "output_type": "execute_result"
    }
   ],
   "source": [
    "np.fromfunction(lambda i,j: i+j,  (3,3) )"
   ]
  },
  {
   "cell_type": "code",
   "execution_count": 37,
   "id": "8e6c42f9-8234-4781-9cfa-f6a9421a610d",
   "metadata": {},
   "outputs": [],
   "source": [
    "# Now fromiter() : loop se array bana raha"
   ]
  },
  {
   "cell_type": "code",
   "execution_count": 38,
   "id": "b3955b2c-1571-4b81-a8c7-c8fd5d32e36c",
   "metadata": {},
   "outputs": [],
   "source": [
    "iterable = (i*i for i in range(5) )"
   ]
  },
  {
   "cell_type": "code",
   "execution_count": 39,
   "id": "6ce869d9-0dee-461b-a268-fea52e17fdbe",
   "metadata": {},
   "outputs": [
    {
     "data": {
      "text/plain": [
       "array([ 0,  1,  4,  9, 16])"
      ]
     },
     "execution_count": 39,
     "metadata": {},
     "output_type": "execute_result"
    }
   ],
   "source": [
    "np.fromiter(iterable, int)"
   ]
  },
  {
   "cell_type": "code",
   "execution_count": 40,
   "id": "a39b5429-17de-4833-a526-30bd553c87ed",
   "metadata": {},
   "outputs": [],
   "source": [
    "# fromstring : string se array bana raha "
   ]
  },
  {
   "cell_type": "code",
   "execution_count": 41,
   "id": "8b24f24a-7e5c-4de3-8c7b-4ed46568a793",
   "metadata": {},
   "outputs": [
    {
     "data": {
      "text/plain": [
       "array([1, 2, 3, 4, 5])"
      ]
     },
     "execution_count": 41,
     "metadata": {},
     "output_type": "execute_result"
    }
   ],
   "source": [
    "np.fromstring('1 2 3 4 5',  dtype=int, sep=' ') # no need to write , after each number like 1 2 3 4 5"
   ]
  },
  {
   "cell_type": "code",
   "execution_count": 42,
   "id": "b5e538e4-a877-4205-b5b1-350023f6f2e4",
   "metadata": {},
   "outputs": [
    {
     "data": {
      "text/plain": [
       "array([1, 2, 3, 4, 5])"
      ]
     },
     "execution_count": 42,
     "metadata": {},
     "output_type": "execute_result"
    }
   ],
   "source": [
    "np.fromstring('1,2,3,4,5' , dtype=int, sep= ',') # separate by , "
   ]
  },
  {
   "cell_type": "code",
   "execution_count": 43,
   "id": "4f286c38-09dd-4dbf-99ea-e32c50fde2d6",
   "metadata": {},
   "outputs": [],
   "source": [
    "# Now"
   ]
  },
  {
   "cell_type": "code",
   "execution_count": 44,
   "id": "69dbe3dd-0811-42a6-9774-e8d5da54c4c8",
   "metadata": {},
   "outputs": [],
   "source": [
    "l=[1,2,3,4,5]"
   ]
  },
  {
   "cell_type": "code",
   "execution_count": 45,
   "id": "1de30422-13c3-4128-9fbb-e5b48cb278c8",
   "metadata": {},
   "outputs": [
    {
     "data": {
      "text/plain": [
       "array([1, 2, 3, 4, 5])"
      ]
     },
     "execution_count": 45,
     "metadata": {},
     "output_type": "execute_result"
    }
   ],
   "source": [
    "ar=np.array(l)\n",
    "ar"
   ]
  },
  {
   "cell_type": "code",
   "execution_count": 46,
   "id": "ebe82e26-e61e-4031-85dc-eecd606a748b",
   "metadata": {},
   "outputs": [
    {
     "data": {
      "text/plain": [
       "1"
      ]
     },
     "execution_count": 46,
     "metadata": {},
     "output_type": "execute_result"
    }
   ],
   "source": [
    "ar.ndim"
   ]
  },
  {
   "cell_type": "code",
   "execution_count": 47,
   "id": "90e349b3-7f6b-404b-9b24-200fd8e5fcc0",
   "metadata": {},
   "outputs": [
    {
     "data": {
      "text/plain": [
       "array([[1, 2, 3, 4],\n",
       "       [2, 3, 4, 5]])"
      ]
     },
     "execution_count": 47,
     "metadata": {},
     "output_type": "execute_result"
    }
   ],
   "source": [
    "# Now \n",
    "ar2=np.array( [ [1,2,3,4],[2,3,4,5] ] )\n",
    "ar2"
   ]
  },
  {
   "cell_type": "code",
   "execution_count": 48,
   "id": "fdd4c09e-f0c7-4ccf-adb4-df0f4e0181b0",
   "metadata": {},
   "outputs": [
    {
     "data": {
      "text/plain": [
       "2"
      ]
     },
     "execution_count": 48,
     "metadata": {},
     "output_type": "execute_result"
    }
   ],
   "source": [
    "ar2.ndim"
   ]
  },
  {
   "cell_type": "code",
   "execution_count": 49,
   "id": "d05b427a-8025-4b75-a23f-dd9dd68e2d1d",
   "metadata": {},
   "outputs": [
    {
     "data": {
      "text/plain": [
       "5"
      ]
     },
     "execution_count": 49,
     "metadata": {},
     "output_type": "execute_result"
    }
   ],
   "source": [
    "ar.size"
   ]
  },
  {
   "cell_type": "code",
   "execution_count": 50,
   "id": "96f4e864-52ac-4210-a3aa-f769101d8242",
   "metadata": {},
   "outputs": [
    {
     "data": {
      "text/plain": [
       "8"
      ]
     },
     "execution_count": 50,
     "metadata": {},
     "output_type": "execute_result"
    }
   ],
   "source": [
    "ar2.size"
   ]
  },
  {
   "cell_type": "code",
   "execution_count": 51,
   "id": "9afcec77-29cb-47c6-b227-1ba3a4accbc3",
   "metadata": {},
   "outputs": [
    {
     "data": {
      "text/plain": [
       "(5,)"
      ]
     },
     "execution_count": 51,
     "metadata": {},
     "output_type": "execute_result"
    }
   ],
   "source": [
    "ar.shape # 5 element "
   ]
  },
  {
   "cell_type": "code",
   "execution_count": 52,
   "id": "98dc25eb-7933-42d7-929c-fa0c794d69c9",
   "metadata": {},
   "outputs": [
    {
     "data": {
      "text/plain": [
       "(2, 4)"
      ]
     },
     "execution_count": 52,
     "metadata": {},
     "output_type": "execute_result"
    }
   ],
   "source": [
    "ar2.shape # 2 row 4 column"
   ]
  },
  {
   "cell_type": "code",
   "execution_count": 53,
   "id": "26e61f7d-10c9-45ba-80e2-4f35157d891f",
   "metadata": {},
   "outputs": [
    {
     "data": {
      "text/plain": [
       "dtype('int64')"
      ]
     },
     "execution_count": 53,
     "metadata": {},
     "output_type": "execute_result"
    }
   ],
   "source": [
    "ar.dtype"
   ]
  },
  {
   "cell_type": "code",
   "execution_count": 54,
   "id": "ba71a63a-ced9-4864-990a-f1d625fcc761",
   "metadata": {},
   "outputs": [
    {
     "data": {
      "text/plain": [
       "dtype('int64')"
      ]
     },
     "execution_count": 54,
     "metadata": {},
     "output_type": "execute_result"
    }
   ],
   "source": [
    "ar1.dtype"
   ]
  },
  {
   "cell_type": "code",
   "execution_count": 55,
   "id": "a9fc23fa-17fb-4f85-a7e9-329199e8a6eb",
   "metadata": {},
   "outputs": [],
   "source": [
    "# Now"
   ]
  },
  {
   "cell_type": "code",
   "execution_count": 56,
   "id": "9d4c34c0-17ac-4861-a316-9770f16ca346",
   "metadata": {},
   "outputs": [
    {
     "data": {
      "text/plain": [
       "array([[1.4, 5. , 6. ],\n",
       "       [2. , 3. , 4. ]])"
      ]
     },
     "execution_count": 56,
     "metadata": {},
     "output_type": "execute_result"
    }
   ],
   "source": [
    "# ar22=np.asarray([ [1.4,5,6] , [2,3,4] ] ) # both list or \n",
    "ar22=np.asarray([ (1.4,5,6), (2,3,4) ] ) # tuple inside list\n",
    "ar22"
   ]
  },
  {
   "cell_type": "code",
   "execution_count": 57,
   "id": "8ea7d329-b878-4f1a-9329-4a5f40ed0d95",
   "metadata": {},
   "outputs": [
    {
     "data": {
      "text/plain": [
       "dtype('float64')"
      ]
     },
     "execution_count": 57,
     "metadata": {},
     "output_type": "execute_result"
    }
   ],
   "source": [
    "ar22.dtype # ek float raha 1.4 but uske karan sabko floating point number bana diya automatically"
   ]
  },
  {
   "cell_type": "code",
   "execution_count": 58,
   "id": "95a13f66-a09b-4597-917d-2a7137418c10",
   "metadata": {},
   "outputs": [],
   "source": [
    "# Now"
   ]
  },
  {
   "cell_type": "code",
   "execution_count": 59,
   "id": "e6f43148-13a9-4431-9de4-8e47c8642b48",
   "metadata": {},
   "outputs": [
    {
     "data": {
      "text/plain": [
       "range(0, 5)"
      ]
     },
     "execution_count": 59,
     "metadata": {},
     "output_type": "execute_result"
    }
   ],
   "source": [
    "range(5)"
   ]
  },
  {
   "cell_type": "code",
   "execution_count": 60,
   "id": "41cdcfd0-d3d1-4b11-a2b2-150058c2c7d1",
   "metadata": {},
   "outputs": [
    {
     "name": "stdout",
     "output_type": "stream",
     "text": [
      "[0, 1, 2, 3, 4]\n"
     ]
    },
    {
     "data": {
      "text/plain": [
       "[2, 3, 4, 5, 6, 7, 8]"
      ]
     },
     "execution_count": 60,
     "metadata": {},
     "output_type": "execute_result"
    }
   ],
   "source": [
    "print(list(range(5)))\n",
    "list(range(2,9))"
   ]
  },
  {
   "cell_type": "code",
   "execution_count": 61,
   "id": "3684a872-6a56-4c99-b1c2-6d8872558057",
   "metadata": {},
   "outputs": [
    {
     "ename": "TypeError",
     "evalue": "'float' object cannot be interpreted as an integer",
     "output_type": "error",
     "traceback": [
      "\u001b[0;31m---------------------------------------------------------------------------\u001b[0m",
      "\u001b[0;31mTypeError\u001b[0m                                 Traceback (most recent call last)",
      "Cell \u001b[0;32mIn[61], line 1\u001b[0m\n\u001b[0;32m----> 1\u001b[0m \u001b[38;5;28mlist\u001b[39m(\u001b[38;5;28;43mrange\u001b[39;49m\u001b[43m(\u001b[49m\u001b[38;5;241;43m1.4\u001b[39;49m\u001b[43m,\u001b[49m\u001b[43m \u001b[49m\u001b[38;5;241;43m5.2\u001b[39;49m\u001b[43m)\u001b[49m )\n",
      "\u001b[0;31mTypeError\u001b[0m: 'float' object cannot be interpreted as an integer"
     ]
    }
   ],
   "source": [
    "list(range(1.4, 5.2) )"
   ]
  },
  {
   "cell_type": "code",
   "execution_count": 62,
   "id": "13aa768f-6f6c-43c6-93d6-42d17f4ba43c",
   "metadata": {},
   "outputs": [
    {
     "data": {
      "text/plain": [
       "array([1.4, 2.4, 3.4, 4.4])"
      ]
     },
     "execution_count": 62,
     "metadata": {},
     "output_type": "execute_result"
    }
   ],
   "source": [
    "np.arange(1.4,5.4) # by default 1 jump"
   ]
  },
  {
   "cell_type": "code",
   "execution_count": 63,
   "id": "786785fe-1911-46b3-8b31-5754c0e3dc7b",
   "metadata": {},
   "outputs": [
    {
     "data": {
      "text/plain": [
       "array([1.4, 1.9, 2.4, 2.9, 3.4, 3.9, 4.4, 4.9, 5.4])"
      ]
     },
     "execution_count": 63,
     "metadata": {},
     "output_type": "execute_result"
    }
   ],
   "source": [
    "np.arange(1.4,5.8,.5) # jum 0.2"
   ]
  },
  {
   "cell_type": "code",
   "execution_count": 64,
   "id": "3649b963-e6ea-41c9-907b-f9024789ddc7",
   "metadata": {},
   "outputs": [
    {
     "data": {
      "text/plain": [
       "[1.4, 1.9, 2.4, 2.9, 3.4, 3.9, 4.4, 4.9, 5.4]"
      ]
     },
     "execution_count": 64,
     "metadata": {},
     "output_type": "execute_result"
    }
   ],
   "source": [
    "list(np.arange(1.4,5.8,.5) ) # jum 0.2)"
   ]
  },
  {
   "cell_type": "code",
   "execution_count": 65,
   "id": "a44e6ef7-b8aa-4876-8ad6-51e965dbc797",
   "metadata": {},
   "outputs": [
    {
     "name": "stdout",
     "output_type": "stream",
     "text": [
      "[1.         1.44444444 1.88888889 2.33333333 2.77777778 3.22222222\n",
      " 3.66666667 4.11111111 4.55555556 5.        ]\n"
     ]
    },
    {
     "data": {
      "text/plain": [
       "array([ 1.,  2.,  3.,  4.,  5.,  6.,  7.,  8.,  9., 10.])"
      ]
     },
     "execution_count": 65,
     "metadata": {},
     "output_type": "execute_result"
    }
   ],
   "source": [
    "print(np.linspace(1,5, 10)) # 1 se 5 tak number aur usko 10 bhaag karo\n",
    "np.linspace(1,10,10)"
   ]
  },
  {
   "cell_type": "code",
   "execution_count": 66,
   "id": "81fcf6b1-b6af-4335-a45a-f283489bca8d",
   "metadata": {},
   "outputs": [
    {
     "data": {
      "text/plain": [
       "array([0., 0., 0., 0., 0.])"
      ]
     },
     "execution_count": 66,
     "metadata": {},
     "output_type": "execute_result"
    }
   ],
   "source": [
    "np.zeros(5)"
   ]
  },
  {
   "cell_type": "code",
   "execution_count": 67,
   "id": "fc8e464a-9aaa-451b-b587-43ffd12479ef",
   "metadata": {},
   "outputs": [
    {
     "data": {
      "text/plain": [
       "array([[0., 0., 0., 0.],\n",
       "       [0., 0., 0., 0.],\n",
       "       [0., 0., 0., 0.]])"
      ]
     },
     "execution_count": 67,
     "metadata": {},
     "output_type": "execute_result"
    }
   ],
   "source": [
    "np.zeros((3,4))"
   ]
  },
  {
   "cell_type": "code",
   "execution_count": 68,
   "id": "a09c878d-462b-44e5-8a85-5c09b4c6dab5",
   "metadata": {},
   "outputs": [
    {
     "data": {
      "text/plain": [
       "array([[[0., 0., 0., 0., 0.],\n",
       "        [0., 0., 0., 0., 0.],\n",
       "        [0., 0., 0., 0., 0.],\n",
       "        [0., 0., 0., 0., 0.]],\n",
       "\n",
       "       [[0., 0., 0., 0., 0.],\n",
       "        [0., 0., 0., 0., 0.],\n",
       "        [0., 0., 0., 0., 0.],\n",
       "        [0., 0., 0., 0., 0.]],\n",
       "\n",
       "       [[0., 0., 0., 0., 0.],\n",
       "        [0., 0., 0., 0., 0.],\n",
       "        [0., 0., 0., 0., 0.],\n",
       "        [0., 0., 0., 0., 0.]]])"
      ]
     },
     "execution_count": 68,
     "metadata": {},
     "output_type": "execute_result"
    }
   ],
   "source": [
    "np.zeros((3,4,5))"
   ]
  },
  {
   "cell_type": "code",
   "execution_count": 69,
   "id": "45bd20b3-5be7-4797-adc6-b4e979b36359",
   "metadata": {},
   "outputs": [
    {
     "data": {
      "text/plain": [
       "array([[[[0., 0.],\n",
       "         [0., 0.],\n",
       "         [0., 0.],\n",
       "         [0., 0.],\n",
       "         [0., 0.]],\n",
       "\n",
       "        [[0., 0.],\n",
       "         [0., 0.],\n",
       "         [0., 0.],\n",
       "         [0., 0.],\n",
       "         [0., 0.]],\n",
       "\n",
       "        [[0., 0.],\n",
       "         [0., 0.],\n",
       "         [0., 0.],\n",
       "         [0., 0.],\n",
       "         [0., 0.]],\n",
       "\n",
       "        [[0., 0.],\n",
       "         [0., 0.],\n",
       "         [0., 0.],\n",
       "         [0., 0.],\n",
       "         [0., 0.]]],\n",
       "\n",
       "\n",
       "       [[[0., 0.],\n",
       "         [0., 0.],\n",
       "         [0., 0.],\n",
       "         [0., 0.],\n",
       "         [0., 0.]],\n",
       "\n",
       "        [[0., 0.],\n",
       "         [0., 0.],\n",
       "         [0., 0.],\n",
       "         [0., 0.],\n",
       "         [0., 0.]],\n",
       "\n",
       "        [[0., 0.],\n",
       "         [0., 0.],\n",
       "         [0., 0.],\n",
       "         [0., 0.],\n",
       "         [0., 0.]],\n",
       "\n",
       "        [[0., 0.],\n",
       "         [0., 0.],\n",
       "         [0., 0.],\n",
       "         [0., 0.],\n",
       "         [0., 0.]]],\n",
       "\n",
       "\n",
       "       [[[0., 0.],\n",
       "         [0., 0.],\n",
       "         [0., 0.],\n",
       "         [0., 0.],\n",
       "         [0., 0.]],\n",
       "\n",
       "        [[0., 0.],\n",
       "         [0., 0.],\n",
       "         [0., 0.],\n",
       "         [0., 0.],\n",
       "         [0., 0.]],\n",
       "\n",
       "        [[0., 0.],\n",
       "         [0., 0.],\n",
       "         [0., 0.],\n",
       "         [0., 0.],\n",
       "         [0., 0.]],\n",
       "\n",
       "        [[0., 0.],\n",
       "         [0., 0.],\n",
       "         [0., 0.],\n",
       "         [0., 0.],\n",
       "         [0., 0.]]]])"
      ]
     },
     "execution_count": 69,
     "metadata": {},
     "output_type": "execute_result"
    }
   ],
   "source": [
    "ar4=np.zeros((3,4,5,2))\n",
    "ar4"
   ]
  },
  {
   "cell_type": "code",
   "execution_count": 70,
   "id": "8f80812b-92ea-4724-a08e-3dc6fb6a545f",
   "metadata": {},
   "outputs": [
    {
     "data": {
      "text/plain": [
       "4"
      ]
     },
     "execution_count": 70,
     "metadata": {},
     "output_type": "execute_result"
    }
   ],
   "source": [
    "ar4.ndim"
   ]
  },
  {
   "cell_type": "code",
   "execution_count": 71,
   "id": "7c4cb006-ca92-4124-89ef-92defccb6db1",
   "metadata": {},
   "outputs": [
    {
     "data": {
      "text/plain": [
       "array([1., 1., 1., 1.])"
      ]
     },
     "execution_count": 71,
     "metadata": {},
     "output_type": "execute_result"
    }
   ],
   "source": [
    "np.ones(4)"
   ]
  },
  {
   "cell_type": "code",
   "execution_count": 72,
   "id": "9c32c08d-6ed0-4f1c-83f7-7bb5f694523b",
   "metadata": {},
   "outputs": [
    {
     "data": {
      "text/plain": [
       "array([[1., 1., 1., 1.],\n",
       "       [1., 1., 1., 1.],\n",
       "       [1., 1., 1., 1.]])"
      ]
     },
     "execution_count": 72,
     "metadata": {},
     "output_type": "execute_result"
    }
   ],
   "source": [
    "np.ones((3,4))"
   ]
  },
  {
   "cell_type": "code",
   "execution_count": 73,
   "id": "6a1b3055-f80a-4f7b-8dee-bc56502e3f90",
   "metadata": {},
   "outputs": [
    {
     "data": {
      "text/plain": [
       "array([[[1., 1., 1., 1.],\n",
       "        [1., 1., 1., 1.],\n",
       "        [1., 1., 1., 1.]],\n",
       "\n",
       "       [[1., 1., 1., 1.],\n",
       "        [1., 1., 1., 1.],\n",
       "        [1., 1., 1., 1.]]])"
      ]
     },
     "execution_count": 73,
     "metadata": {},
     "output_type": "execute_result"
    }
   ],
   "source": [
    "on=np.ones((2,3,4)) # 3 row 4 column ke 2 matrix bana denge\n",
    "on"
   ]
  },
  {
   "cell_type": "code",
   "execution_count": 74,
   "id": "259aace1-a022-446b-b23d-3cc2b975f7d1",
   "metadata": {},
   "outputs": [
    {
     "data": {
      "text/plain": [
       "array([[[5., 5., 5., 5.],\n",
       "        [5., 5., 5., 5.],\n",
       "        [5., 5., 5., 5.]],\n",
       "\n",
       "       [[5., 5., 5., 5.],\n",
       "        [5., 5., 5., 5.],\n",
       "        [5., 5., 5., 5.]]])"
      ]
     },
     "execution_count": 74,
     "metadata": {},
     "output_type": "execute_result"
    }
   ],
   "source": [
    "on+4  "
   ]
  },
  {
   "cell_type": "code",
   "execution_count": 75,
   "id": "359adb4e-ced3-4ab6-9741-33bc04e566a6",
   "metadata": {},
   "outputs": [
    {
     "data": {
      "text/plain": [
       "array([[[8.8, 8.8, 8.8, 8.8],\n",
       "        [8.8, 8.8, 8.8, 8.8],\n",
       "        [8.8, 8.8, 8.8, 8.8]],\n",
       "\n",
       "       [[8.8, 8.8, 8.8, 8.8],\n",
       "        [8.8, 8.8, 8.8, 8.8],\n",
       "        [8.8, 8.8, 8.8, 8.8]]])"
      ]
     },
     "execution_count": 75,
     "metadata": {},
     "output_type": "execute_result"
    }
   ],
   "source": [
    "on*8.8"
   ]
  },
  {
   "cell_type": "code",
   "execution_count": 76,
   "id": "98162281-87e5-4af4-92e8-eeb589e94cb1",
   "metadata": {},
   "outputs": [
    {
     "data": {
      "text/plain": [
       "array([[4.66627148e-310, 0.00000000e+000, 2.41907520e-312,\n",
       "        2.14321575e-312],\n",
       "       [2.46151512e-312, 2.31297541e-312, 2.35541533e-312,\n",
       "        2.05833592e-312],\n",
       "       [2.22809558e-312, 2.56761491e-312, 2.48273508e-312,\n",
       "        2.05833592e-312],\n",
       "       [2.05833592e-312, 2.29175545e-312, 2.07955588e-312,\n",
       "        2.14321575e-312]])"
      ]
     },
     "execution_count": 76,
     "metadata": {},
     "output_type": "execute_result"
    }
   ],
   "source": [
    "np.empty((4,4)) # random entry"
   ]
  },
  {
   "cell_type": "code",
   "execution_count": 77,
   "id": "42a79a77-9dad-4ecc-9133-c1b6bcbf8b2f",
   "metadata": {},
   "outputs": [
    {
     "data": {
      "text/plain": [
       "array([[1., 0., 0., 0.],\n",
       "       [0., 1., 0., 0.],\n",
       "       [0., 0., 1., 0.],\n",
       "       [0., 0., 0., 1.]])"
      ]
     },
     "execution_count": 77,
     "metadata": {},
     "output_type": "execute_result"
    }
   ],
   "source": [
    "np.eye(4) # diagonal matrix"
   ]
  },
  {
   "cell_type": "code",
   "execution_count": 78,
   "id": "33ad7ba5-30d3-4507-9066-2fc138082659",
   "metadata": {},
   "outputs": [
    {
     "data": {
      "text/plain": [
       "array([ 3.,  6.,  9., 12., 15., 18., 21.])"
      ]
     },
     "execution_count": 78,
     "metadata": {},
     "output_type": "execute_result"
    }
   ],
   "source": [
    "np.linspace( 3 ,21,7) # 1 to 8 tak ko 10 se bhag kar do"
   ]
  },
  {
   "cell_type": "code",
   "execution_count": 79,
   "id": "6ceb9432-79a1-4fd7-a5ef-fea08abbff28",
   "metadata": {},
   "outputs": [
    {
     "name": "stderr",
     "output_type": "stream",
     "text": [
      "/opt/conda/lib/python3.10/site-packages/numpy/core/function_base.py:277: RuntimeWarning: overflow encountered in power\n",
      "  return _nx.power(base, y)\n"
     ]
    },
    {
     "data": {
      "text/plain": [
       "array([1.e+001, 1.e+112, 1.e+223,     inf,     inf,     inf,     inf,\n",
       "           inf,     inf,     inf])"
      ]
     },
     "execution_count": 79,
     "metadata": {},
     "output_type": "execute_result"
    }
   ],
   "source": [
    "np.logspace(1,1000, 10, base=10)"
   ]
  },
  {
   "cell_type": "code",
   "execution_count": 80,
   "id": "16ed2e62-8dc5-4780-a5d7-2dc23ef1717f",
   "metadata": {},
   "outputs": [],
   "source": [
    "# Now"
   ]
  },
  {
   "cell_type": "code",
   "execution_count": 81,
   "id": "b9942647-3c41-4853-9c85-9cfe65c7e419",
   "metadata": {},
   "outputs": [
    {
     "data": {
      "text/plain": [
       "array([[0.81773208, 0.05349626, 0.32476068, 0.23542595],\n",
       "       [0.19149989, 0.90342908, 0.75351745, 0.63763618],\n",
       "       [0.73017501, 0.73914288, 0.36223617, 0.6605836 ]])"
      ]
     },
     "execution_count": 81,
     "metadata": {},
     "output_type": "execute_result"
    }
   ],
   "source": [
    "np.random.rand(3,4) # mean=0 and std=1 "
   ]
  },
  {
   "cell_type": "code",
   "execution_count": 82,
   "id": "2493c440-8978-44a6-b527-de7a893677b7",
   "metadata": {},
   "outputs": [
    {
     "data": {
      "text/plain": [
       "array([[ 1.87449075,  1.59437558, -1.34264988, -1.5992608 ],\n",
       "       [-1.16259831,  1.68420446, -0.46627624, -0.20860423],\n",
       "       [-2.29947896,  0.9363924 , -0.51142143,  0.01488269]])"
      ]
     },
     "execution_count": 82,
     "metadata": {},
     "output_type": "execute_result"
    }
   ],
   "source": [
    "arr=np.random.randn(3,4)\n",
    "arr"
   ]
  },
  {
   "cell_type": "code",
   "execution_count": 83,
   "id": "e426211b-b129-40b7-92b5-57ff89f74359",
   "metadata": {},
   "outputs": [
    {
     "data": {
      "text/html": [
       "<div>\n",
       "<style scoped>\n",
       "    .dataframe tbody tr th:only-of-type {\n",
       "        vertical-align: middle;\n",
       "    }\n",
       "\n",
       "    .dataframe tbody tr th {\n",
       "        vertical-align: top;\n",
       "    }\n",
       "\n",
       "    .dataframe thead th {\n",
       "        text-align: right;\n",
       "    }\n",
       "</style>\n",
       "<table border=\"1\" class=\"dataframe\">\n",
       "  <thead>\n",
       "    <tr style=\"text-align: right;\">\n",
       "      <th></th>\n",
       "      <th>0</th>\n",
       "      <th>1</th>\n",
       "      <th>2</th>\n",
       "      <th>3</th>\n",
       "    </tr>\n",
       "  </thead>\n",
       "  <tbody>\n",
       "    <tr>\n",
       "      <th>0</th>\n",
       "      <td>1.874491</td>\n",
       "      <td>1.594376</td>\n",
       "      <td>-1.342650</td>\n",
       "      <td>-1.599261</td>\n",
       "    </tr>\n",
       "    <tr>\n",
       "      <th>1</th>\n",
       "      <td>-1.162598</td>\n",
       "      <td>1.684204</td>\n",
       "      <td>-0.466276</td>\n",
       "      <td>-0.208604</td>\n",
       "    </tr>\n",
       "    <tr>\n",
       "      <th>2</th>\n",
       "      <td>-2.299479</td>\n",
       "      <td>0.936392</td>\n",
       "      <td>-0.511421</td>\n",
       "      <td>0.014883</td>\n",
       "    </tr>\n",
       "  </tbody>\n",
       "</table>\n",
       "</div>"
      ],
      "text/plain": [
       "          0         1         2         3\n",
       "0  1.874491  1.594376 -1.342650 -1.599261\n",
       "1 -1.162598  1.684204 -0.466276 -0.208604\n",
       "2 -2.299479  0.936392 -0.511421  0.014883"
      ]
     },
     "execution_count": 83,
     "metadata": {},
     "output_type": "execute_result"
    }
   ],
   "source": [
    "import pandas as pd\n",
    "pd.DataFrame(arr)"
   ]
  },
  {
   "cell_type": "code",
   "execution_count": 84,
   "id": "a96958ce-5ef2-44ad-bc34-ef5d5a3fcea9",
   "metadata": {},
   "outputs": [
    {
     "data": {
      "text/plain": [
       "array([8, 5, 1, 4])"
      ]
     },
     "execution_count": 84,
     "metadata": {},
     "output_type": "execute_result"
    }
   ],
   "source": [
    "np.random.randint(1,10, 4) # 1 se 10 tak random data of size 4 "
   ]
  },
  {
   "cell_type": "code",
   "execution_count": 85,
   "id": "56849004-5d4e-4d1c-97b8-70a77d87e14c",
   "metadata": {},
   "outputs": [
    {
     "data": {
      "text/plain": [
       "array([[282, 745, 284, ..., 542, 421, 636],\n",
       "       [566, 268, 436, ...,  71, 149, 246],\n",
       "       [521, 899,  54, ..., 545, 350, 786],\n",
       "       ...,\n",
       "       [852, 958,  65, ..., 990,  93, 968],\n",
       "       [108,  82, 938, ..., 943,   4, 953],\n",
       "       [840, 509,   9, ..., 271, 942, 537]])"
      ]
     },
     "execution_count": 85,
     "metadata": {},
     "output_type": "execute_result"
    }
   ],
   "source": [
    "np.random.randint(1,1000, (300,400) ) # 1 se 1000 tak and size 3 row 4 column"
   ]
  },
  {
   "cell_type": "code",
   "execution_count": 86,
   "id": "c55f9168-ec8c-44fa-9ac6-1cddaf8327d7",
   "metadata": {},
   "outputs": [
    {
     "data": {
      "text/html": [
       "<div>\n",
       "<style scoped>\n",
       "    .dataframe tbody tr th:only-of-type {\n",
       "        vertical-align: middle;\n",
       "    }\n",
       "\n",
       "    .dataframe tbody tr th {\n",
       "        vertical-align: top;\n",
       "    }\n",
       "\n",
       "    .dataframe thead th {\n",
       "        text-align: right;\n",
       "    }\n",
       "</style>\n",
       "<table border=\"1\" class=\"dataframe\">\n",
       "  <thead>\n",
       "    <tr style=\"text-align: right;\">\n",
       "      <th></th>\n",
       "      <th>0</th>\n",
       "      <th>1</th>\n",
       "      <th>2</th>\n",
       "      <th>3</th>\n",
       "      <th>4</th>\n",
       "      <th>5</th>\n",
       "      <th>6</th>\n",
       "      <th>7</th>\n",
       "      <th>8</th>\n",
       "      <th>9</th>\n",
       "      <th>...</th>\n",
       "      <th>390</th>\n",
       "      <th>391</th>\n",
       "      <th>392</th>\n",
       "      <th>393</th>\n",
       "      <th>394</th>\n",
       "      <th>395</th>\n",
       "      <th>396</th>\n",
       "      <th>397</th>\n",
       "      <th>398</th>\n",
       "      <th>399</th>\n",
       "    </tr>\n",
       "  </thead>\n",
       "  <tbody>\n",
       "    <tr>\n",
       "      <th>0</th>\n",
       "      <td>179</td>\n",
       "      <td>7</td>\n",
       "      <td>490</td>\n",
       "      <td>857</td>\n",
       "      <td>620</td>\n",
       "      <td>200</td>\n",
       "      <td>982</td>\n",
       "      <td>168</td>\n",
       "      <td>148</td>\n",
       "      <td>909</td>\n",
       "      <td>...</td>\n",
       "      <td>949</td>\n",
       "      <td>926</td>\n",
       "      <td>444</td>\n",
       "      <td>529</td>\n",
       "      <td>337</td>\n",
       "      <td>576</td>\n",
       "      <td>884</td>\n",
       "      <td>754</td>\n",
       "      <td>93</td>\n",
       "      <td>282</td>\n",
       "    </tr>\n",
       "    <tr>\n",
       "      <th>1</th>\n",
       "      <td>478</td>\n",
       "      <td>335</td>\n",
       "      <td>729</td>\n",
       "      <td>514</td>\n",
       "      <td>136</td>\n",
       "      <td>15</td>\n",
       "      <td>725</td>\n",
       "      <td>726</td>\n",
       "      <td>634</td>\n",
       "      <td>929</td>\n",
       "      <td>...</td>\n",
       "      <td>319</td>\n",
       "      <td>990</td>\n",
       "      <td>957</td>\n",
       "      <td>462</td>\n",
       "      <td>311</td>\n",
       "      <td>488</td>\n",
       "      <td>27</td>\n",
       "      <td>51</td>\n",
       "      <td>288</td>\n",
       "      <td>455</td>\n",
       "    </tr>\n",
       "    <tr>\n",
       "      <th>2</th>\n",
       "      <td>500</td>\n",
       "      <td>122</td>\n",
       "      <td>166</td>\n",
       "      <td>522</td>\n",
       "      <td>959</td>\n",
       "      <td>321</td>\n",
       "      <td>684</td>\n",
       "      <td>787</td>\n",
       "      <td>132</td>\n",
       "      <td>376</td>\n",
       "      <td>...</td>\n",
       "      <td>9</td>\n",
       "      <td>671</td>\n",
       "      <td>86</td>\n",
       "      <td>819</td>\n",
       "      <td>802</td>\n",
       "      <td>737</td>\n",
       "      <td>595</td>\n",
       "      <td>43</td>\n",
       "      <td>369</td>\n",
       "      <td>987</td>\n",
       "    </tr>\n",
       "    <tr>\n",
       "      <th>3</th>\n",
       "      <td>942</td>\n",
       "      <td>65</td>\n",
       "      <td>962</td>\n",
       "      <td>193</td>\n",
       "      <td>19</td>\n",
       "      <td>18</td>\n",
       "      <td>843</td>\n",
       "      <td>509</td>\n",
       "      <td>351</td>\n",
       "      <td>697</td>\n",
       "      <td>...</td>\n",
       "      <td>400</td>\n",
       "      <td>653</td>\n",
       "      <td>903</td>\n",
       "      <td>626</td>\n",
       "      <td>73</td>\n",
       "      <td>922</td>\n",
       "      <td>797</td>\n",
       "      <td>853</td>\n",
       "      <td>426</td>\n",
       "      <td>1</td>\n",
       "    </tr>\n",
       "    <tr>\n",
       "      <th>4</th>\n",
       "      <td>502</td>\n",
       "      <td>702</td>\n",
       "      <td>476</td>\n",
       "      <td>180</td>\n",
       "      <td>488</td>\n",
       "      <td>521</td>\n",
       "      <td>439</td>\n",
       "      <td>382</td>\n",
       "      <td>158</td>\n",
       "      <td>101</td>\n",
       "      <td>...</td>\n",
       "      <td>518</td>\n",
       "      <td>296</td>\n",
       "      <td>899</td>\n",
       "      <td>710</td>\n",
       "      <td>810</td>\n",
       "      <td>355</td>\n",
       "      <td>222</td>\n",
       "      <td>245</td>\n",
       "      <td>105</td>\n",
       "      <td>933</td>\n",
       "    </tr>\n",
       "    <tr>\n",
       "      <th>...</th>\n",
       "      <td>...</td>\n",
       "      <td>...</td>\n",
       "      <td>...</td>\n",
       "      <td>...</td>\n",
       "      <td>...</td>\n",
       "      <td>...</td>\n",
       "      <td>...</td>\n",
       "      <td>...</td>\n",
       "      <td>...</td>\n",
       "      <td>...</td>\n",
       "      <td>...</td>\n",
       "      <td>...</td>\n",
       "      <td>...</td>\n",
       "      <td>...</td>\n",
       "      <td>...</td>\n",
       "      <td>...</td>\n",
       "      <td>...</td>\n",
       "      <td>...</td>\n",
       "      <td>...</td>\n",
       "      <td>...</td>\n",
       "      <td>...</td>\n",
       "    </tr>\n",
       "    <tr>\n",
       "      <th>295</th>\n",
       "      <td>19</td>\n",
       "      <td>718</td>\n",
       "      <td>46</td>\n",
       "      <td>327</td>\n",
       "      <td>286</td>\n",
       "      <td>135</td>\n",
       "      <td>122</td>\n",
       "      <td>955</td>\n",
       "      <td>784</td>\n",
       "      <td>890</td>\n",
       "      <td>...</td>\n",
       "      <td>703</td>\n",
       "      <td>290</td>\n",
       "      <td>517</td>\n",
       "      <td>689</td>\n",
       "      <td>692</td>\n",
       "      <td>308</td>\n",
       "      <td>731</td>\n",
       "      <td>373</td>\n",
       "      <td>406</td>\n",
       "      <td>464</td>\n",
       "    </tr>\n",
       "    <tr>\n",
       "      <th>296</th>\n",
       "      <td>381</td>\n",
       "      <td>755</td>\n",
       "      <td>414</td>\n",
       "      <td>212</td>\n",
       "      <td>587</td>\n",
       "      <td>68</td>\n",
       "      <td>926</td>\n",
       "      <td>454</td>\n",
       "      <td>915</td>\n",
       "      <td>720</td>\n",
       "      <td>...</td>\n",
       "      <td>95</td>\n",
       "      <td>830</td>\n",
       "      <td>768</td>\n",
       "      <td>243</td>\n",
       "      <td>936</td>\n",
       "      <td>55</td>\n",
       "      <td>577</td>\n",
       "      <td>559</td>\n",
       "      <td>803</td>\n",
       "      <td>283</td>\n",
       "    </tr>\n",
       "    <tr>\n",
       "      <th>297</th>\n",
       "      <td>131</td>\n",
       "      <td>709</td>\n",
       "      <td>820</td>\n",
       "      <td>890</td>\n",
       "      <td>115</td>\n",
       "      <td>192</td>\n",
       "      <td>251</td>\n",
       "      <td>749</td>\n",
       "      <td>820</td>\n",
       "      <td>388</td>\n",
       "      <td>...</td>\n",
       "      <td>882</td>\n",
       "      <td>563</td>\n",
       "      <td>695</td>\n",
       "      <td>769</td>\n",
       "      <td>27</td>\n",
       "      <td>485</td>\n",
       "      <td>817</td>\n",
       "      <td>669</td>\n",
       "      <td>244</td>\n",
       "      <td>876</td>\n",
       "    </tr>\n",
       "    <tr>\n",
       "      <th>298</th>\n",
       "      <td>513</td>\n",
       "      <td>716</td>\n",
       "      <td>606</td>\n",
       "      <td>939</td>\n",
       "      <td>710</td>\n",
       "      <td>141</td>\n",
       "      <td>354</td>\n",
       "      <td>965</td>\n",
       "      <td>50</td>\n",
       "      <td>91</td>\n",
       "      <td>...</td>\n",
       "      <td>985</td>\n",
       "      <td>607</td>\n",
       "      <td>506</td>\n",
       "      <td>764</td>\n",
       "      <td>309</td>\n",
       "      <td>527</td>\n",
       "      <td>534</td>\n",
       "      <td>799</td>\n",
       "      <td>427</td>\n",
       "      <td>365</td>\n",
       "    </tr>\n",
       "    <tr>\n",
       "      <th>299</th>\n",
       "      <td>397</td>\n",
       "      <td>536</td>\n",
       "      <td>768</td>\n",
       "      <td>959</td>\n",
       "      <td>440</td>\n",
       "      <td>757</td>\n",
       "      <td>676</td>\n",
       "      <td>356</td>\n",
       "      <td>974</td>\n",
       "      <td>286</td>\n",
       "      <td>...</td>\n",
       "      <td>228</td>\n",
       "      <td>197</td>\n",
       "      <td>211</td>\n",
       "      <td>164</td>\n",
       "      <td>996</td>\n",
       "      <td>990</td>\n",
       "      <td>656</td>\n",
       "      <td>125</td>\n",
       "      <td>346</td>\n",
       "      <td>916</td>\n",
       "    </tr>\n",
       "  </tbody>\n",
       "</table>\n",
       "<p>300 rows × 400 columns</p>\n",
       "</div>"
      ],
      "text/plain": [
       "     0    1    2    3    4    5    6    7    8    9    ...  390  391  392  \\\n",
       "0    179    7  490  857  620  200  982  168  148  909  ...  949  926  444   \n",
       "1    478  335  729  514  136   15  725  726  634  929  ...  319  990  957   \n",
       "2    500  122  166  522  959  321  684  787  132  376  ...    9  671   86   \n",
       "3    942   65  962  193   19   18  843  509  351  697  ...  400  653  903   \n",
       "4    502  702  476  180  488  521  439  382  158  101  ...  518  296  899   \n",
       "..   ...  ...  ...  ...  ...  ...  ...  ...  ...  ...  ...  ...  ...  ...   \n",
       "295   19  718   46  327  286  135  122  955  784  890  ...  703  290  517   \n",
       "296  381  755  414  212  587   68  926  454  915  720  ...   95  830  768   \n",
       "297  131  709  820  890  115  192  251  749  820  388  ...  882  563  695   \n",
       "298  513  716  606  939  710  141  354  965   50   91  ...  985  607  506   \n",
       "299  397  536  768  959  440  757  676  356  974  286  ...  228  197  211   \n",
       "\n",
       "     393  394  395  396  397  398  399  \n",
       "0    529  337  576  884  754   93  282  \n",
       "1    462  311  488   27   51  288  455  \n",
       "2    819  802  737  595   43  369  987  \n",
       "3    626   73  922  797  853  426    1  \n",
       "4    710  810  355  222  245  105  933  \n",
       "..   ...  ...  ...  ...  ...  ...  ...  \n",
       "295  689  692  308  731  373  406  464  \n",
       "296  243  936   55  577  559  803  283  \n",
       "297  769   27  485  817  669  244  876  \n",
       "298  764  309  527  534  799  427  365  \n",
       "299  164  996  990  656  125  346  916  \n",
       "\n",
       "[300 rows x 400 columns]"
      ]
     },
     "execution_count": 86,
     "metadata": {},
     "output_type": "execute_result"
    }
   ],
   "source": [
    "pd.DataFrame(np.random.randint(1,1000, (300,400) ) ) # 1 se 1000 tak and size 3 row 4 column"
   ]
  },
  {
   "cell_type": "code",
   "execution_count": 87,
   "id": "8ab69a90-6f91-406f-a225-fb53ca1c76d2",
   "metadata": {},
   "outputs": [],
   "source": [
    "# Now convert it into csv and store in file\n",
    "pd.DataFrame(np.random.randint(1,1000, (300,400) ) ). to_csv(\"test.csv\") # 1 se 1000 tak and size 3 row 4 column"
   ]
  },
  {
   "cell_type": "code",
   "execution_count": 88,
   "id": "f3acb705-46ea-425d-a25b-8d4c2c28f276",
   "metadata": {},
   "outputs": [],
   "source": [
    "# Now"
   ]
  },
  {
   "cell_type": "code",
   "execution_count": 89,
   "id": "167b84f6-4dfb-4c24-b26f-82ea43cfe8bc",
   "metadata": {},
   "outputs": [
    {
     "data": {
      "text/plain": [
       "array([[0.5794839 , 0.39683356, 0.01163916, 0.7519103 ],\n",
       "       [0.46939133, 0.52911108, 0.75754097, 0.45643457],\n",
       "       [0.39251344, 0.53909423, 0.68734967, 0.46756806]])"
      ]
     },
     "execution_count": 89,
     "metadata": {},
     "output_type": "execute_result"
    }
   ],
   "source": [
    "arr=np.random.rand(3,4)\n",
    "arr"
   ]
  },
  {
   "cell_type": "code",
   "execution_count": 90,
   "id": "78d4d6ff-bf96-4c09-b2f9-bd86ef39dcc4",
   "metadata": {},
   "outputs": [
    {
     "data": {
      "text/plain": [
       "array([[0.5794839 , 0.39683356, 0.01163916],\n",
       "       [0.7519103 , 0.46939133, 0.52911108],\n",
       "       [0.75754097, 0.45643457, 0.39251344],\n",
       "       [0.53909423, 0.68734967, 0.46756806]])"
      ]
     },
     "execution_count": 90,
     "metadata": {},
     "output_type": "execute_result"
    }
   ],
   "source": [
    "arr.reshape(4,3)"
   ]
  },
  {
   "cell_type": "code",
   "execution_count": 91,
   "id": "af8b3ffd-2193-4c9b-a8ba-79516b768429",
   "metadata": {},
   "outputs": [
    {
     "data": {
      "text/plain": [
       "array([[0.5794839 , 0.39683356],\n",
       "       [0.01163916, 0.7519103 ],\n",
       "       [0.46939133, 0.52911108],\n",
       "       [0.75754097, 0.45643457],\n",
       "       [0.39251344, 0.53909423],\n",
       "       [0.68734967, 0.46756806]])"
      ]
     },
     "execution_count": 91,
     "metadata": {},
     "output_type": "execute_result"
    }
   ],
   "source": [
    "arr.reshape(6,2)"
   ]
  },
  {
   "cell_type": "code",
   "execution_count": 92,
   "id": "114670c3-481e-4fb6-9e48-1d2b81dbd28e",
   "metadata": {},
   "outputs": [
    {
     "ename": "ValueError",
     "evalue": "cannot reshape array of size 12 into shape (6,4)",
     "output_type": "error",
     "traceback": [
      "\u001b[0;31m---------------------------------------------------------------------------\u001b[0m",
      "\u001b[0;31mValueError\u001b[0m                                Traceback (most recent call last)",
      "Cell \u001b[0;32mIn[92], line 1\u001b[0m\n\u001b[0;32m----> 1\u001b[0m \u001b[43marr\u001b[49m\u001b[38;5;241;43m.\u001b[39;49m\u001b[43mreshape\u001b[49m\u001b[43m(\u001b[49m\u001b[38;5;241;43m6\u001b[39;49m\u001b[43m,\u001b[49m\u001b[38;5;241;43m4\u001b[39;49m\u001b[43m)\u001b[49m\n",
      "\u001b[0;31mValueError\u001b[0m: cannot reshape array of size 12 into shape (6,4)"
     ]
    }
   ],
   "source": [
    "arr.reshape(6,4)"
   ]
  },
  {
   "cell_type": "code",
   "execution_count": 93,
   "id": "080e75a0-d447-4e03-b450-ac2709e53a78",
   "metadata": {},
   "outputs": [
    {
     "data": {
      "text/plain": [
       "array([[0.5794839 , 0.39683356],\n",
       "       [0.01163916, 0.7519103 ],\n",
       "       [0.46939133, 0.52911108],\n",
       "       [0.75754097, 0.45643457],\n",
       "       [0.39251344, 0.53909423],\n",
       "       [0.68734967, 0.46756806]])"
      ]
     },
     "execution_count": 93,
     "metadata": {},
     "output_type": "execute_result"
    }
   ],
   "source": [
    "arr.reshape(6,-1)"
   ]
  },
  {
   "cell_type": "code",
   "execution_count": 94,
   "id": "9b4dc279-f98b-4c65-8e91-2e29c0fbb1e2",
   "metadata": {},
   "outputs": [
    {
     "data": {
      "text/plain": [
       "array([[0.5794839 , 0.39683356],\n",
       "       [0.01163916, 0.7519103 ],\n",
       "       [0.46939133, 0.52911108],\n",
       "       [0.75754097, 0.45643457],\n",
       "       [0.39251344, 0.53909423],\n",
       "       [0.68734967, 0.46756806]])"
      ]
     },
     "execution_count": 94,
     "metadata": {},
     "output_type": "execute_result"
    }
   ],
   "source": [
    "arr1=arr.reshape(6,-2343434) # by default samajh gaya ki pehla 6 hai toh dusra 2 hi hoga\n",
    "arr1                            # but ye sirf -ve number ke liye work karta not +ve or float number "
   ]
  },
  {
   "cell_type": "code",
   "execution_count": 95,
   "id": "2fbb3d00-9647-4e64-ae0e-c33c2a6cadb6",
   "metadata": {},
   "outputs": [
    {
     "data": {
      "text/plain": [
       "array([[0.5794839 , 0.39683356, 0.01163916, 0.7519103 ],\n",
       "       [0.46939133, 0.52911108, 0.75754097, 0.45643457],\n",
       "       [0.39251344, 0.53909423, 0.68734967, 0.46756806]])"
      ]
     },
     "execution_count": 95,
     "metadata": {},
     "output_type": "execute_result"
    }
   ],
   "source": [
    "arr.reshape(3,-2555) # 3 row toh 4 column hoga bydefault samajh gaya"
   ]
  },
  {
   "cell_type": "code",
   "execution_count": 96,
   "id": "56133fda-51b9-47a9-a54e-ddc0519cddcc",
   "metadata": {},
   "outputs": [
    {
     "data": {
      "text/plain": [
       "array([[0.5794839 , 0.39683356],\n",
       "       [0.01163916, 0.7519103 ],\n",
       "       [0.46939133, 0.52911108],\n",
       "       [0.75754097, 0.45643457],\n",
       "       [0.39251344, 0.53909423],\n",
       "       [0.68734967, 0.46756806]])"
      ]
     },
     "execution_count": 96,
     "metadata": {},
     "output_type": "execute_result"
    }
   ],
   "source": [
    "arr1"
   ]
  },
  {
   "cell_type": "code",
   "execution_count": 97,
   "id": "8f13ed7c-7f52-4d1c-82a1-7e9e90130ffe",
   "metadata": {},
   "outputs": [
    {
     "data": {
      "text/plain": [
       "0.7519102994247763"
      ]
     },
     "execution_count": 97,
     "metadata": {},
     "output_type": "execute_result"
    }
   ],
   "source": [
    "arr1[1][1]"
   ]
  },
  {
   "cell_type": "code",
   "execution_count": 100,
   "id": "00067cc8-05a0-490b-932f-ec78e977a1de",
   "metadata": {},
   "outputs": [
    {
     "name": "stdout",
     "output_type": "stream",
     "text": [
      "[0.75754097 0.45643457]\n"
     ]
    },
    {
     "data": {
      "text/plain": [
       "array([0.52911108, 0.45643457, 0.53909423])"
      ]
     },
     "execution_count": 100,
     "metadata": {},
     "output_type": "execute_result"
    }
   ],
   "source": [
    "print(arr1[2:5] [1] ) #  Not work    # 2,3,4 row ke 1st column ko nikalo \n",
    "arr1[2:5,1] # correct output"
   ]
  },
  {
   "cell_type": "code",
   "execution_count": 101,
   "id": "bc24b9ae-881a-4b17-a49e-41d52b38d986",
   "metadata": {},
   "outputs": [],
   "source": [
    "# Now"
   ]
  },
  {
   "cell_type": "code",
   "execution_count": 102,
   "id": "0e97e7ec-94e7-4d2d-bbb5-2c0c8558ad50",
   "metadata": {},
   "outputs": [
    {
     "data": {
      "text/plain": [
       "array([[32, 34, 74, 61, 70],\n",
       "       [71, 30, 37, 83, 90],\n",
       "       [58, 77, 57, 90, 39],\n",
       "       [53, 60, 82, 51, 78],\n",
       "       [73, 87, 76, 62, 79]])"
      ]
     },
     "execution_count": 102,
     "metadata": {},
     "output_type": "execute_result"
    }
   ],
   "source": [
    "arr=np.random.randint(30,99,(5,5))\n",
    "arr"
   ]
  },
  {
   "cell_type": "code",
   "execution_count": 103,
   "id": "81cb5bb4-7c9e-4b68-b3ad-e9611cd90382",
   "metadata": {},
   "outputs": [
    {
     "data": {
      "text/plain": [
       "array([[False, False,  True,  True,  True],\n",
       "       [ True, False, False,  True,  True],\n",
       "       [ True,  True,  True,  True, False],\n",
       "       [ True,  True,  True,  True,  True],\n",
       "       [ True,  True,  True,  True,  True]])"
      ]
     },
     "execution_count": 103,
     "metadata": {},
     "output_type": "execute_result"
    }
   ],
   "source": [
    "arr>50"
   ]
  },
  {
   "cell_type": "code",
   "execution_count": 104,
   "id": "d124dd39-0a82-482a-9d30-e9e11b28c571",
   "metadata": {},
   "outputs": [
    {
     "data": {
      "text/plain": [
       "array([74, 61, 70, 71, 83, 90, 58, 77, 57, 90, 53, 60, 82, 51, 78, 73, 87,\n",
       "       76, 62, 79])"
      ]
     },
     "execution_count": 104,
     "metadata": {},
     "output_type": "execute_result"
    }
   ],
   "source": [
    "arr[arr>50]"
   ]
  },
  {
   "cell_type": "code",
   "execution_count": 105,
   "id": "af872234-30b8-425e-8b89-af80169e150a",
   "metadata": {},
   "outputs": [
    {
     "data": {
      "text/plain": [
       "array([[32, 34, 74, 61, 70],\n",
       "       [71, 30, 37, 83, 90],\n",
       "       [58, 77, 57, 90, 39],\n",
       "       [53, 60, 82, 51, 78],\n",
       "       [73, 87, 76, 62, 79]])"
      ]
     },
     "execution_count": 105,
     "metadata": {},
     "output_type": "execute_result"
    }
   ],
   "source": [
    "arr"
   ]
  },
  {
   "cell_type": "code",
   "execution_count": 110,
   "id": "bcffd0c5-837f-47c5-8ce8-13b1fc280adc",
   "metadata": {},
   "outputs": [
    {
     "data": {
      "text/plain": [
       "array([[77, 57],\n",
       "       [60, 82]])"
      ]
     },
     "execution_count": 110,
     "metadata": {},
     "output_type": "execute_result"
    }
   ],
   "source": [
    "# 2,3 row and 1,2 column\n",
    "arr[2:4,1:3]"
   ]
  },
  {
   "cell_type": "code",
   "execution_count": 111,
   "id": "e8caef89-ea1e-49c1-b70a-1c72ca183165",
   "metadata": {},
   "outputs": [
    {
     "data": {
      "text/plain": [
       "array([[77, 57],\n",
       "       [60, 82]])"
      ]
     },
     "execution_count": 111,
     "metadata": {},
     "output_type": "execute_result"
    }
   ],
   "source": [
    "arr[2:4,[1,2] ]"
   ]
  },
  {
   "cell_type": "code",
   "execution_count": 112,
   "id": "f382a532-01b6-4c33-9285-953013c2831d",
   "metadata": {},
   "outputs": [
    {
     "data": {
      "text/plain": [
       "array([[555,  34,  74,  61,  70],\n",
       "       [ 71,  30,  37,  83,  90],\n",
       "       [ 58,  77,  57,  90,  39],\n",
       "       [ 53,  60,  82,  51,  78],\n",
       "       [ 73,  87,  76,  62,  79]])"
      ]
     },
     "execution_count": 112,
     "metadata": {},
     "output_type": "execute_result"
    }
   ],
   "source": [
    "arr[0][0] = 555\n",
    "arr"
   ]
  },
  {
   "cell_type": "code",
   "execution_count": 113,
   "id": "82c47c9e-98cb-4bb2-a391-45a9ac668637",
   "metadata": {},
   "outputs": [],
   "source": [
    "# NOw"
   ]
  },
  {
   "cell_type": "code",
   "execution_count": 127,
   "id": "f16f56ea-48c0-4b15-83aa-4a3b8d3b712b",
   "metadata": {},
   "outputs": [
    {
     "data": {
      "text/plain": [
       "array([[5, 8, 3],\n",
       "       [4, 1, 3],\n",
       "       [1, 6, 4]])"
      ]
     },
     "execution_count": 127,
     "metadata": {},
     "output_type": "execute_result"
    }
   ],
   "source": [
    "arr1=np.random.randint(1,10, (3,3) ) \n",
    "arr1"
   ]
  },
  {
   "cell_type": "code",
   "execution_count": 128,
   "id": "d2709878-e4b9-419e-8777-29ce4ffe0d52",
   "metadata": {},
   "outputs": [
    {
     "data": {
      "text/plain": [
       "array([[1, 7, 6],\n",
       "       [7, 3, 6],\n",
       "       [6, 6, 7]])"
      ]
     },
     "execution_count": 128,
     "metadata": {},
     "output_type": "execute_result"
    }
   ],
   "source": [
    "arr2=np.random.randint(1,10,(3,3))\n",
    "arr2"
   ]
  },
  {
   "cell_type": "code",
   "execution_count": 129,
   "id": "ee303362-e55f-4506-9072-666d52288f16",
   "metadata": {},
   "outputs": [
    {
     "data": {
      "text/plain": [
       "array([[ 6, 15,  9],\n",
       "       [11,  4,  9],\n",
       "       [ 7, 12, 11]])"
      ]
     },
     "execution_count": 129,
     "metadata": {},
     "output_type": "execute_result"
    }
   ],
   "source": [
    "arr1+arr2"
   ]
  },
  {
   "cell_type": "code",
   "execution_count": 130,
   "id": "10f34e02-dd85-410a-9c41-04fef0a1a22c",
   "metadata": {},
   "outputs": [
    {
     "data": {
      "text/plain": [
       "array([[ 4,  1, -3],\n",
       "       [-3, -2, -3],\n",
       "       [-5,  0, -3]])"
      ]
     },
     "execution_count": 130,
     "metadata": {},
     "output_type": "execute_result"
    }
   ],
   "source": [
    "arr1-arr2"
   ]
  },
  {
   "cell_type": "code",
   "execution_count": 131,
   "id": "521f6a45-1925-44da-ac5d-3801e0b75742",
   "metadata": {},
   "outputs": [
    {
     "data": {
      "text/plain": [
       "array([[5.        , 1.14285714, 0.5       ],\n",
       "       [0.57142857, 0.33333333, 0.5       ],\n",
       "       [0.16666667, 1.        , 0.57142857]])"
      ]
     },
     "execution_count": 131,
     "metadata": {},
     "output_type": "execute_result"
    }
   ],
   "source": [
    "arr1/arr2"
   ]
  },
  {
   "cell_type": "code",
   "execution_count": 132,
   "id": "70d976eb-1509-4c9d-b5e4-2d4855011d37",
   "metadata": {},
   "outputs": [
    {
     "data": {
      "text/plain": [
       "array([[ 5, 56, 18],\n",
       "       [28,  3, 18],\n",
       "       [ 6, 36, 28]])"
      ]
     },
     "execution_count": 132,
     "metadata": {},
     "output_type": "execute_result"
    }
   ],
   "source": [
    "arr1*arr2    # this gives element multiplication not matrix multiplication"
   ]
  },
  {
   "cell_type": "code",
   "execution_count": 133,
   "id": "4fee1afe-42ad-4549-a13e-8c87a826cb4d",
   "metadata": {},
   "outputs": [
    {
     "data": {
      "text/plain": [
       "array([[79, 77, 99],\n",
       "       [29, 49, 51],\n",
       "       [67, 49, 70]])"
      ]
     },
     "execution_count": 133,
     "metadata": {},
     "output_type": "execute_result"
    }
   ],
   "source": [
    "arr1@arr2"
   ]
  },
  {
   "cell_type": "code",
   "execution_count": 135,
   "id": "ffbacb99-2db3-4645-9580-c7c5f9f98450",
   "metadata": {},
   "outputs": [
    {
     "data": {
      "text/plain": [
       "array([[1005, 1008, 1003],\n",
       "       [1004, 1001, 1003],\n",
       "       [1001, 1006, 1004]])"
      ]
     },
     "execution_count": 135,
     "metadata": {},
     "output_type": "execute_result"
    }
   ],
   "source": [
    "arr1+1000"
   ]
  },
  {
   "cell_type": "code",
   "execution_count": 136,
   "id": "9b32fbaf-0f18-4b1a-bd2f-95e82ac36288",
   "metadata": {},
   "outputs": [
    {
     "name": "stderr",
     "output_type": "stream",
     "text": [
      "/tmp/ipykernel_84/1510032488.py:1: RuntimeWarning: divide by zero encountered in divide\n",
      "  arr1/0\n"
     ]
    },
    {
     "data": {
      "text/plain": [
       "array([[inf, inf, inf],\n",
       "       [inf, inf, inf],\n",
       "       [inf, inf, inf]])"
      ]
     },
     "execution_count": 136,
     "metadata": {},
     "output_type": "execute_result"
    }
   ],
   "source": [
    "arr1/0"
   ]
  },
  {
   "cell_type": "code",
   "execution_count": 137,
   "id": "4f0c05ba-19c1-4862-9c58-eb0514b06e7b",
   "metadata": {},
   "outputs": [
    {
     "data": {
      "text/plain": [
       "array([[25, 64,  9],\n",
       "       [16,  1,  9],\n",
       "       [ 1, 36, 16]])"
      ]
     },
     "execution_count": 137,
     "metadata": {},
     "output_type": "execute_result"
    }
   ],
   "source": [
    "arr1**2"
   ]
  },
  {
   "cell_type": "code",
   "execution_count": 138,
   "id": "906cebd4-1d28-4e0e-88a7-a693e6f8b8bd",
   "metadata": {},
   "outputs": [],
   "source": [
    "# Now Broadcasting"
   ]
  },
  {
   "cell_type": "code",
   "execution_count": 150,
   "id": "001d0178-795c-4fe6-aad7-a0f8e0fc357d",
   "metadata": {},
   "outputs": [
    {
     "data": {
      "text/plain": [
       "array([[0., 0., 0., 0.],\n",
       "       [0., 0., 0., 0.],\n",
       "       [0., 0., 0., 0.],\n",
       "       [0., 0., 0., 0.]])"
      ]
     },
     "execution_count": 150,
     "metadata": {},
     "output_type": "execute_result"
    }
   ],
   "source": [
    "arr= np.zeros((4,4))\n",
    "arr"
   ]
  },
  {
   "cell_type": "code",
   "execution_count": 151,
   "id": "ae1e8b91-5349-4643-b0ee-e78fb5fdbab9",
   "metadata": {},
   "outputs": [
    {
     "data": {
      "text/plain": [
       "[1, 2, 3, 4]"
      ]
     },
     "execution_count": 151,
     "metadata": {},
     "output_type": "execute_result"
    }
   ],
   "source": [
    "row=[1,2,3,4]\n",
    "row"
   ]
  },
  {
   "cell_type": "code",
   "execution_count": 152,
   "id": "5344943c-78a8-4a7d-b2df-c6ddd4343596",
   "metadata": {},
   "outputs": [
    {
     "data": {
      "text/plain": [
       "array([[1., 2., 3., 4.],\n",
       "       [1., 2., 3., 4.],\n",
       "       [1., 2., 3., 4.],\n",
       "       [1., 2., 3., 4.]])"
      ]
     },
     "execution_count": 152,
     "metadata": {},
     "output_type": "execute_result"
    }
   ],
   "source": [
    "arr+row # when we added arr +1000 it added 1000 to all elements in the matrix \n",
    "                    # but this time it added 1,2,3,4 row wise "
   ]
  },
  {
   "cell_type": "code",
   "execution_count": 153,
   "id": "43270b7a-af93-4e4e-b34f-85d898f674ed",
   "metadata": {},
   "outputs": [],
   "source": [
    "# Now  we want to add it columnn wise"
   ]
  },
  {
   "cell_type": "code",
   "execution_count": 161,
   "id": "30fcecc2-2151-4ff8-a67d-e20f6a179967",
   "metadata": {},
   "outputs": [
    {
     "data": {
      "text/plain": [
       "array([[1, 2, 3, 4]])"
      ]
     },
     "execution_count": 161,
     "metadata": {},
     "output_type": "execute_result"
    }
   ],
   "source": [
    "col=np.array([[1,2,3,4]])\n",
    "col"
   ]
  },
  {
   "cell_type": "code",
   "execution_count": 168,
   "id": "6ad8f7fe-54c7-4c03-9c27-07f22473800b",
   "metadata": {},
   "outputs": [],
   "source": [
    "# col.transpose() # same\n",
    "col=col.T"
   ]
  },
  {
   "cell_type": "code",
   "execution_count": 169,
   "id": "a7ce22c9-72bd-4885-9723-aef1a6243519",
   "metadata": {},
   "outputs": [
    {
     "data": {
      "text/plain": [
       "array([[1., 1., 1., 1.],\n",
       "       [2., 2., 2., 2.],\n",
       "       [3., 3., 3., 3.],\n",
       "       [4., 4., 4., 4.]])"
      ]
     },
     "execution_count": 169,
     "metadata": {},
     "output_type": "execute_result"
    }
   ],
   "source": [
    "arr+col"
   ]
  },
  {
   "cell_type": "code",
   "execution_count": 172,
   "id": "f3a5927b-a78e-4960-adfd-46b9fe7085e1",
   "metadata": {},
   "outputs": [
    {
     "data": {
      "text/plain": [
       "array([[1, 2, 2, 3],\n",
       "       [3, 2, 3, 3],\n",
       "       [3, 1, 1, 3]])"
      ]
     },
     "execution_count": 172,
     "metadata": {},
     "output_type": "execute_result"
    }
   ],
   "source": [
    "arr1=np.random.randint(1,4, (3,4))\n",
    "arr1"
   ]
  },
  {
   "cell_type": "code",
   "execution_count": 174,
   "id": "445bece8-3317-4ef9-9cdc-482dbfb22f0a",
   "metadata": {},
   "outputs": [
    {
     "data": {
      "text/plain": [
       "27"
      ]
     },
     "execution_count": 174,
     "metadata": {},
     "output_type": "execute_result"
    }
   ],
   "source": [
    "np.sum(arr1)"
   ]
  },
  {
   "cell_type": "code",
   "execution_count": 177,
   "id": "f5f50235-ef81-4813-8985-a8f6bee9eb8f",
   "metadata": {},
   "outputs": [
    {
     "data": {
      "text/plain": [
       "array([[1.        , 1.41421356, 1.41421356, 1.73205081],\n",
       "       [1.73205081, 1.41421356, 1.73205081, 1.73205081],\n",
       "       [1.73205081, 1.        , 1.        , 1.73205081]])"
      ]
     },
     "execution_count": 177,
     "metadata": {},
     "output_type": "execute_result"
    }
   ],
   "source": [
    "np.sqrt(arr1)"
   ]
  },
  {
   "cell_type": "code",
   "execution_count": 178,
   "id": "a1f62cd2-f906-4b0c-ac54-199377b04d7c",
   "metadata": {},
   "outputs": [
    {
     "data": {
      "text/plain": [
       "array([[ 2.71828183,  7.3890561 ,  7.3890561 , 20.08553692],\n",
       "       [20.08553692,  7.3890561 , 20.08553692, 20.08553692],\n",
       "       [20.08553692,  2.71828183,  2.71828183, 20.08553692]])"
      ]
     },
     "execution_count": 178,
     "metadata": {},
     "output_type": "execute_result"
    }
   ],
   "source": [
    "np.exp(arr1)"
   ]
  },
  {
   "cell_type": "code",
   "execution_count": 179,
   "id": "4211743b-810d-4095-b2a1-a4246c087ed8",
   "metadata": {},
   "outputs": [
    {
     "data": {
      "text/plain": [
       "array([[0.        , 0.30103   , 0.30103   , 0.47712125],\n",
       "       [0.47712125, 0.30103   , 0.47712125, 0.47712125],\n",
       "       [0.47712125, 0.        , 0.        , 0.47712125]])"
      ]
     },
     "execution_count": 179,
     "metadata": {},
     "output_type": "execute_result"
    }
   ],
   "source": [
    "np.log10(arr1)"
   ]
  },
  {
   "cell_type": "code",
   "execution_count": 180,
   "id": "04851d01-2dce-4313-8449-b56fd73603fc",
   "metadata": {},
   "outputs": [
    {
     "data": {
      "text/plain": [
       "3"
      ]
     },
     "execution_count": 180,
     "metadata": {},
     "output_type": "execute_result"
    }
   ],
   "source": [
    "np.amax(arr1)"
   ]
  },
  {
   "cell_type": "code",
   "execution_count": null,
   "id": "2ac81f46-acd6-4ffb-87ed-69f659fd1413",
   "metadata": {},
   "outputs": [],
   "source": []
  }
 ],
 "metadata": {
  "kernelspec": {
   "display_name": "Python 3 (ipykernel)",
   "language": "python",
   "name": "python3"
  },
  "language_info": {
   "codemirror_mode": {
    "name": "ipython",
    "version": 3
   },
   "file_extension": ".py",
   "mimetype": "text/x-python",
   "name": "python",
   "nbconvert_exporter": "python",
   "pygments_lexer": "ipython3",
   "version": "3.10.8"
  }
 },
 "nbformat": 4,
 "nbformat_minor": 5
}
