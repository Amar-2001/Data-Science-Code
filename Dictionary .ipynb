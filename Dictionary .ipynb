{
 "cells": [
  {
   "cell_type": "code",
   "execution_count": 1,
   "id": "7f21ba8d-de20-4156-9386-2705faca9bb6",
   "metadata": {},
   "outputs": [],
   "source": [
    "d={}"
   ]
  },
  {
   "cell_type": "code",
   "execution_count": 2,
   "id": "1ae21662-c023-4268-b885-dfc64030f576",
   "metadata": {},
   "outputs": [
    {
     "data": {
      "text/plain": [
       "{}"
      ]
     },
     "execution_count": 2,
     "metadata": {},
     "output_type": "execute_result"
    }
   ],
   "source": [
    "d"
   ]
  },
  {
   "cell_type": "code",
   "execution_count": 3,
   "id": "51e5e169-0fcf-4f93-a7fe-e59f0e45d393",
   "metadata": {},
   "outputs": [
    {
     "data": {
      "text/plain": [
       "dict"
      ]
     },
     "execution_count": 3,
     "metadata": {},
     "output_type": "execute_result"
    }
   ],
   "source": [
    "type(d)"
   ]
  },
  {
   "cell_type": "code",
   "execution_count": 4,
   "id": "d4a6b769-0e9d-4ffc-83bd-e81a7ee1c573",
   "metadata": {},
   "outputs": [],
   "source": [
    "d1={\"Key\":\"Value\"}"
   ]
  },
  {
   "cell_type": "code",
   "execution_count": 5,
   "id": "e2f97805-d69c-43f6-b560-7e78fc1cefb4",
   "metadata": {},
   "outputs": [
    {
     "data": {
      "text/plain": [
       "{'Key': 'Value'}"
      ]
     },
     "execution_count": 5,
     "metadata": {},
     "output_type": "execute_result"
    }
   ],
   "source": [
    "d1"
   ]
  },
  {
   "cell_type": "code",
   "execution_count": 8,
   "id": "660a5cb7-ce64-434c-85be-a22250628632",
   "metadata": {},
   "outputs": [],
   "source": [
    "d2={\"Name\":\"Amar\",\"Age\":22,\"NUmber\":123456789}\n"
   ]
  },
  {
   "cell_type": "code",
   "execution_count": 9,
   "id": "6ff0bce5-43dd-4934-aa0f-e79b3991b871",
   "metadata": {},
   "outputs": [
    {
     "data": {
      "text/plain": [
       "{'Name': 'Amar', 'Age': 22, 'NUmber': 123456789}"
      ]
     },
     "execution_count": 9,
     "metadata": {},
     "output_type": "execute_result"
    }
   ],
   "source": [
    "d2"
   ]
  },
  {
   "cell_type": "code",
   "execution_count": 1,
   "id": "e5d2c4e3-81ce-4b14-8b6c-97cfdbdd215b",
   "metadata": {},
   "outputs": [],
   "source": [
    "d3={123:\"Amar\",23.23:43,\"_a\":\"amar\",True:123,False:\"Aman\"}\n"
   ]
  },
  {
   "cell_type": "code",
   "execution_count": 2,
   "id": "571b0720-9e4b-4843-99ce-e271c3d92987",
   "metadata": {},
   "outputs": [
    {
     "data": {
      "text/plain": [
       "{123: 'Amar', 23.23: 43, '_a': 'amar', True: 123, False: 'Aman'}"
      ]
     },
     "execution_count": 2,
     "metadata": {},
     "output_type": "execute_result"
    }
   ],
   "source": [
    "d3"
   ]
  },
  {
   "cell_type": "code",
   "execution_count": null,
   "id": "28b841dd-1fcc-401c-8711-81ee30448aa7",
   "metadata": {},
   "outputs": [],
   "source": [
    "works for all(int,char,string,float,double,boolean) but not special character"
   ]
  },
  {
   "cell_type": "code",
   "execution_count": 12,
   "id": "61b92c62-0a85-4fd5-915c-9b3f736a7d1a",
   "metadata": {},
   "outputs": [
    {
     "data": {
      "text/plain": [
       "'Amar'"
      ]
     },
     "execution_count": 12,
     "metadata": {},
     "output_type": "execute_result"
    }
   ],
   "source": [
    "d3[123]"
   ]
  },
  {
   "cell_type": "code",
   "execution_count": 15,
   "id": "f46f1d94-3849-43a6-99bc-8568443db84c",
   "metadata": {},
   "outputs": [
    {
     "data": {
      "text/plain": [
       "123"
      ]
     },
     "execution_count": 15,
     "metadata": {},
     "output_type": "execute_result"
    }
   ],
   "source": [
    "d3[True]"
   ]
  },
  {
   "cell_type": "code",
   "execution_count": 23,
   "id": "60f919b2-2bc1-46e4-bfd1-4749da0f8800",
   "metadata": {},
   "outputs": [
    {
     "data": {
      "text/plain": [
       "123"
      ]
     },
     "execution_count": 27,
     "metadata": {},
     "output_type": "execute_result"
    }
   ],
   "source": [
    "d3[1]#becuase True means 1 so it shows the value of True "
   ]
  },
  {
   "cell_type": "code",
   "execution_count": 30,
   "id": "ec2d23f1-6c8a-499f-8643-f6b64e8f75f2",
   "metadata": {},
   "outputs": [
    {
     "data": {
      "text/plain": [
       "'Aman'"
      ]
     },
     "execution_count": 30,
     "metadata": {},
     "output_type": "execute_result"
    }
   ],
   "source": [
    "d3[0]"
   ]
  },
  {
   "cell_type": "code",
   "execution_count": 31,
   "id": "d0f5483f-352f-4f39-b9b5-9a6d48758503",
   "metadata": {},
   "outputs": [],
   "source": [
    "d4={\"Name\":\"Amar\",\"Mobile\":12345,\"Name\":\"Amar_Kumar\"}"
   ]
  },
  {
   "cell_type": "code",
   "execution_count": 32,
   "id": "091912d8-4999-4e34-a1ad-2a8cc413b105",
   "metadata": {},
   "outputs": [
    {
     "data": {
      "text/plain": [
       "{'Name': 'Amar_Kumar', 'Mobile': 12345}"
      ]
     },
     "execution_count": 32,
     "metadata": {},
     "output_type": "execute_result"
    }
   ],
   "source": [
    "d4"
   ]
  },
  {
   "cell_type": "code",
   "execution_count": 33,
   "id": "687a66ed-5729-41df-9c50-204bb1247f8e",
   "metadata": {},
   "outputs": [
    {
     "data": {
      "text/plain": [
       "'Amar_Kumar'"
      ]
     },
     "execution_count": 33,
     "metadata": {},
     "output_type": "execute_result"
    }
   ],
   "source": [
    "d4[\"Name\"]"
   ]
  },
  {
   "cell_type": "code",
   "execution_count": 50,
   "id": "8a15ead5-c512-466b-a1f6-372bb0587372",
   "metadata": {},
   "outputs": [],
   "source": [
    "d5={\"company\":\"PWSkils\",\"Course\":[\"Data_Science\",\"Java_with_DSA\"]}"
   ]
  },
  {
   "cell_type": "code",
   "execution_count": 52,
   "id": "c1879d51-dcd8-4991-918d-5e028489528e",
   "metadata": {},
   "outputs": [
    {
     "data": {
      "text/plain": [
       "{'company': 'PWSkils', 'Course': ['Data_Science', 'Java_with_DSA']}"
      ]
     },
     "execution_count": 52,
     "metadata": {},
     "output_type": "execute_result"
    }
   ],
   "source": [
    "d5"
   ]
  },
  {
   "cell_type": "code",
   "execution_count": 54,
   "id": "300e92d4-0ad0-4411-8710-59da3f87894f",
   "metadata": {},
   "outputs": [
    {
     "data": {
      "text/plain": [
       "'Java_with_DSA'"
      ]
     },
     "execution_count": 54,
     "metadata": {},
     "output_type": "execute_result"
    }
   ],
   "source": [
    "d5[\"Course\"][1]"
   ]
  },
  {
   "cell_type": "code",
   "execution_count": 47,
   "id": "050911b2-0236-4682-8305-4108e6102440",
   "metadata": {},
   "outputs": [
    {
     "data": {
      "text/plain": [
       "'Course'"
      ]
     },
     "execution_count": 47,
     "metadata": {},
     "output_type": "execute_result"
    }
   ],
   "source": [
    "d5"
   ]
  },
  {
   "cell_type": "code",
   "execution_count": 23,
   "id": "c4918bed-a4e5-4d4a-a3ab-33b1cb01ccff",
   "metadata": {},
   "outputs": [],
   "source": [
    "d6={\"Name\":[\"Amar\",12345,3+2j],\"Name2\":(\"Amar\",1234,3+2j),\"Name3\":{\"Amar\",12345,3+3j},\"Name4\":{\"Name\":\"Amar\",\"Location\":\"Bhopal\"}}"
   ]
  },
  {
   "cell_type": "code",
   "execution_count": 2,
   "id": "2b24cb52-4f91-4e7d-920b-1db810fb7ff7",
   "metadata": {},
   "outputs": [
    {
     "data": {
      "text/plain": [
       "{'Name': ['Amar', 12345, (3+2j)],\n",
       " 'Name2': ('Amar', 1234, (3+2j)),\n",
       " 'Name3': {(3+3j), 12345, 'Amar'},\n",
       " 'Name4': {'Name': 'Amar', 'Location': 'Bhopal'}}"
      ]
     },
     "execution_count": 2,
     "metadata": {},
     "output_type": "execute_result"
    }
   ],
   "source": [
    "d6 # we can create list,tuple,set and dicitonary inside dictionary"
   ]
  },
  {
   "cell_type": "code",
   "execution_count": 16,
   "id": "621ae7b5-5859-4a1a-85dc-ac012a00165e",
   "metadata": {},
   "outputs": [
    {
     "data": {
      "text/plain": [
       "{'Name': 'Amar', 'Location': 'Bhopal'}"
      ]
     },
     "execution_count": 16,
     "metadata": {},
     "output_type": "execute_result"
    }
   ],
   "source": [
    "d6['Name4']"
   ]
  },
  {
   "cell_type": "code",
   "execution_count": 4,
   "id": "99c4ebf1-6042-4524-84c4-bca7ed7abb5a",
   "metadata": {},
   "outputs": [
    {
     "data": {
      "text/plain": [
       "'Bhopal'"
      ]
     },
     "execution_count": 4,
     "metadata": {},
     "output_type": "execute_result"
    }
   ],
   "source": [
    "d6[\"Name4\"]['Location']\n"
   ]
  },
  {
   "cell_type": "code",
   "execution_count": 18,
   "id": "9e7c090b-0866-4287-8f04-610ec76495b3",
   "metadata": {},
   "outputs": [],
   "source": [
    "d6['mentor']=[\"I don t have money I have 1 centilligion\"]# adding new value to d6\n"
   ]
  },
  {
   "cell_type": "code",
   "execution_count": 19,
   "id": "840ff8e4-2b0d-4c10-b8ef-af7ef061ee2e",
   "metadata": {},
   "outputs": [
    {
     "data": {
      "text/plain": [
       "{'Name': ['Amar', 12345, (3+2j)],\n",
       " 'Name2': ('Amar', 1234, (3+2j)),\n",
       " 'Name3': {(3+3j), 12345, 'Amar'},\n",
       " 'Name4': {'Name': 'Amar', 'Location': 'Bhopal'},\n",
       " 'mentor': ['I don t have money I have 1 centilligion']}"
      ]
     },
     "execution_count": 19,
     "metadata": {},
     "output_type": "execute_result"
    }
   ],
   "source": [
    "d6"
   ]
  },
  {
   "cell_type": "code",
   "execution_count": 21,
   "id": "e955e4be-f529-4bee-a64a-d0e4028bf4a9",
   "metadata": {},
   "outputs": [],
   "source": [
    "del d6 #to delete d6"
   ]
  },
  {
   "cell_type": "code",
   "execution_count": 22,
   "id": "f446d1c0-a505-4d21-84e5-a1fe13ea059e",
   "metadata": {},
   "outputs": [
    {
     "ename": "NameError",
     "evalue": "name 'd6' is not defined",
     "output_type": "error",
     "traceback": [
      "\u001b[0;31m---------------------------------------------------------------------------\u001b[0m",
      "\u001b[0;31mNameError\u001b[0m                                 Traceback (most recent call last)",
      "Cell \u001b[0;32mIn[22], line 1\u001b[0m\n\u001b[0;32m----> 1\u001b[0m \u001b[43md6\u001b[49m\n",
      "\u001b[0;31mNameError\u001b[0m: name 'd6' is not defined"
     ]
    }
   ],
   "source": [
    "d6"
   ]
  },
  {
   "cell_type": "code",
   "execution_count": 26,
   "id": "d6943fab-d335-4b14-8b44-8860b14596d4",
   "metadata": {},
   "outputs": [],
   "source": [
    "del d6['Name2']"
   ]
  },
  {
   "cell_type": "code",
   "execution_count": 27,
   "id": "6aa8ff38-e64c-4a36-98ff-5de3b2770acb",
   "metadata": {},
   "outputs": [
    {
     "data": {
      "text/plain": [
       "{'Name': ['Amar', 12345, (3+2j)],\n",
       " 'Name3': {(3+3j), 12345, 'Amar'},\n",
       " 'Name4': {'Name': 'Amar', 'Location': 'Bhopal'}}"
      ]
     },
     "execution_count": 27,
     "metadata": {},
     "output_type": "execute_result"
    }
   ],
   "source": [
    "d6"
   ]
  },
  {
   "cell_type": "code",
   "execution_count": 28,
   "id": "b1a6966a-71b1-4f74-bdc3-9308f20405e1",
   "metadata": {},
   "outputs": [
    {
     "data": {
      "text/plain": [
       "dict_keys(['Name', 'Name3', 'Name4'])"
      ]
     },
     "execution_count": 28,
     "metadata": {},
     "output_type": "execute_result"
    }
   ],
   "source": [
    "d6.keys()# gives all key items"
   ]
  },
  {
   "cell_type": "code",
   "execution_count": 29,
   "id": "f4edf298-7edd-4f01-bb06-fbe7a5b26fdc",
   "metadata": {},
   "outputs": [
    {
     "data": {
      "text/plain": [
       "['Name', 'Name3', 'Name4']"
      ]
     },
     "execution_count": 29,
     "metadata": {},
     "output_type": "execute_result"
    }
   ],
   "source": [
    "list(d6.keys())# converting into list"
   ]
  },
  {
   "cell_type": "code",
   "execution_count": 30,
   "id": "597a6361-dcf6-4161-8800-3bb1795155d8",
   "metadata": {},
   "outputs": [
    {
     "data": {
      "text/plain": [
       "('Name', 'Name3', 'Name4')"
      ]
     },
     "execution_count": 30,
     "metadata": {},
     "output_type": "execute_result"
    }
   ],
   "source": [
    "tuple(d6.keys())# converting into tuple , # we can convert in any form list tuple set dictionry"
   ]
  },
  {
   "cell_type": "code",
   "execution_count": 33,
   "id": "ef7896b6-d897-432f-9762-1603a0a93908",
   "metadata": {},
   "outputs": [
    {
     "data": {
      "text/plain": [
       "dict_values([['Amar', 12345, (3+2j)], {12345, (3+3j), 'Amar'}, {'Name': 'Amar', 'Location': 'Bhopal'}])"
      ]
     },
     "execution_count": 33,
     "metadata": {},
     "output_type": "execute_result"
    }
   ],
   "source": [
    "d6.values() # finding values "
   ]
  },
  {
   "cell_type": "code",
   "execution_count": 34,
   "id": "d36dafd3-91a0-42af-a06a-bb50e777258b",
   "metadata": {},
   "outputs": [
    {
     "data": {
      "text/plain": [
       "[['Amar', 12345, (3+2j)],\n",
       " {(3+3j), 12345, 'Amar'},\n",
       " {'Name': 'Amar', 'Location': 'Bhopal'}]"
      ]
     },
     "execution_count": 34,
     "metadata": {},
     "output_type": "execute_result"
    }
   ],
   "source": [
    "list(d6.values())"
   ]
  },
  {
   "cell_type": "code",
   "execution_count": 35,
   "id": "4f5dec53-a251-4cfa-896a-a63fa057cf01",
   "metadata": {},
   "outputs": [],
   "source": [
    "# there is any other function called items to find keys and values both \n"
   ]
  },
  {
   "cell_type": "code",
   "execution_count": 36,
   "id": "44465944-23c6-4b5f-9b85-43d8d26f260c",
   "metadata": {},
   "outputs": [
    {
     "data": {
      "text/plain": [
       "[('Name', ['Amar', 12345, (3+2j)]),\n",
       " ('Name3', {(3+3j), 12345, 'Amar'}),\n",
       " ('Name4', {'Name': 'Amar', 'Location': 'Bhopal'})]"
      ]
     },
     "execution_count": 36,
     "metadata": {},
     "output_type": "execute_result"
    }
   ],
   "source": [
    "list(d6.items())# finding keys and values and converting them into list"
   ]
  },
  {
   "cell_type": "code",
   "execution_count": 38,
   "id": "45bb9dd7-1778-45a6-a448-b8ae0d72cf75",
   "metadata": {},
   "outputs": [
    {
     "data": {
      "text/plain": [
       "{(3+3j), 12345, 'Amar'}"
      ]
     },
     "execution_count": 38,
     "metadata": {},
     "output_type": "execute_result"
    }
   ],
   "source": [
    "d6.pop('Name3')"
   ]
  },
  {
   "cell_type": "code",
   "execution_count": 39,
   "id": "c4c47ff1-2a31-47be-a4bc-0838880c162a",
   "metadata": {},
   "outputs": [
    {
     "data": {
      "text/plain": [
       "{'Name': ['Amar', 12345, (3+2j)],\n",
       " 'Name4': {'Name': 'Amar', 'Location': 'Bhopal'}}"
      ]
     },
     "execution_count": 39,
     "metadata": {},
     "output_type": "execute_result"
    }
   ],
   "source": [
    "d6"
   ]
  },
  {
   "cell_type": "code",
   "execution_count": 42,
   "id": "f09d2ddc-8087-4877-a039-cd61d663cfce",
   "metadata": {},
   "outputs": [
    {
     "ename": "TypeError",
     "evalue": "pop expected at least 1 argument, got 0",
     "output_type": "error",
     "traceback": [
      "\u001b[0;31m---------------------------------------------------------------------------\u001b[0m",
      "\u001b[0;31mTypeError\u001b[0m                                 Traceback (most recent call last)",
      "Cell \u001b[0;32mIn[42], line 1\u001b[0m\n\u001b[0;32m----> 1\u001b[0m \u001b[43md6\u001b[49m\u001b[38;5;241;43m.\u001b[39;49m\u001b[43mpop\u001b[49m\u001b[43m(\u001b[49m\u001b[43m)\u001b[49m\u001b[38;5;66;03m# the diffference between delete and pop function is that \u001b[39;00m\n\u001b[1;32m      2\u001b[0m         \u001b[38;5;66;03m# in pop there must at least 1 argument while delete deletes argument and whole list,tuple,set,dict\u001b[39;00m\n",
      "\u001b[0;31mTypeError\u001b[0m: pop expected at least 1 argument, got 0"
     ]
    }
   ],
   "source": [
    "d6.pop()# the diffference between delete and pop function is that \n",
    "        # in pop there must at least 1 argument while delete deletes argument and whole list,tuple,set,dict"
   ]
  },
  {
   "cell_type": "code",
   "execution_count": null,
   "id": "d5000da7-7fee-41b2-b19c-24c6e3557e99",
   "metadata": {},
   "outputs": [],
   "source": []
  },
  {
   "cell_type": "code",
   "execution_count": null,
   "id": "68ea901b-3b85-4885-b144-1bf1a14f1b8c",
   "metadata": {},
   "outputs": [],
   "source": []
  }
 ],
 "metadata": {
  "kernelspec": {
   "display_name": "Python 3 (ipykernel)",
   "language": "python",
   "name": "python3"
  },
  "language_info": {
   "codemirror_mode": {
    "name": "ipython",
    "version": 3
   },
   "file_extension": ".py",
   "mimetype": "text/x-python",
   "name": "python",
   "nbconvert_exporter": "python",
   "pygments_lexer": "ipython3",
   "version": "3.10.8"
  }
 },
 "nbformat": 4,
 "nbformat_minor": 5
}
