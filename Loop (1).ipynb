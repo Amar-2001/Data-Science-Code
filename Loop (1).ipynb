{
 "cells": [
  {
   "cell_type": "code",
   "execution_count": 2,
   "id": "45a6ab00-bf37-4720-833d-258552d96538",
   "metadata": {},
   "outputs": [],
   "source": [
    "l=[1,23,5,3,23,223,694]"
   ]
  },
  {
   "cell_type": "code",
   "execution_count": 3,
   "id": "c5d2c987-8a60-462e-8ca0-c365f703a0d9",
   "metadata": {},
   "outputs": [
    {
     "data": {
      "text/plain": [
       "[1, 23, 5, 3, 23, 223, 694]"
      ]
     },
     "execution_count": 3,
     "metadata": {},
     "output_type": "execute_result"
    }
   ],
   "source": [
    "l"
   ]
  },
  {
   "cell_type": "code",
   "execution_count": 3,
   "id": "a6a05eb7-91c3-4fdf-8330-8027454b2884",
   "metadata": {},
   "outputs": [
    {
     "name": "stdout",
     "output_type": "stream",
     "text": [
      "1\n",
      "23\n",
      "5\n",
      "3\n",
      "23\n",
      "223\n",
      "694\n"
     ]
    }
   ],
   "source": [
    "for i in l: # i jo hai wo l tak chalega\n",
    "    print(i) # print karega uske 0 index 1 index and so on index ke data ko"
   ]
  },
  {
   "cell_type": "code",
   "execution_count": null,
   "id": "da3a33b0-1a7a-422b-ba77-9bc5385a3030",
   "metadata": {},
   "outputs": [],
   "source": [
    "# important baat loop list se element print kar raha"
   ]
  },
  {
   "cell_type": "code",
   "execution_count": 4,
   "id": "97f3a72b-1e8c-4c36-8742-640460d4f63e",
   "metadata": {},
   "outputs": [
    {
     "name": "stdout",
     "output_type": "stream",
     "text": [
      "[1, 23, 5, 3, 23, 223, 694]\n",
      "[1, 23, 5, 3, 23, 223, 694]\n",
      "[1, 23, 5, 3, 23, 223, 694]\n",
      "[1, 23, 5, 3, 23, 223, 694]\n",
      "[1, 23, 5, 3, 23, 223, 694]\n",
      "[1, 23, 5, 3, 23, 223, 694]\n",
      "[1, 23, 5, 3, 23, 223, 694]\n"
     ]
    }
   ],
   "source": [
    "for i in l: # i jo hai wo l tak chalega\n",
    "    print(l) # print kar raha 0 index par l ko yaani pure elements ko and so on kaam kar raha sab ke liye"
   ]
  },
  {
   "cell_type": "code",
   "execution_count": null,
   "id": "80cfe99d-4153-40c6-bab3-14e7716b7494",
   "metadata": {},
   "outputs": [],
   "source": [
    "# ek jodna hai list ke sab element mein"
   ]
  },
  {
   "cell_type": "code",
   "execution_count": 6,
   "id": "384a0ffb-d423-4122-a61c-6eeb2fb8e819",
   "metadata": {},
   "outputs": [
    {
     "name": "stdout",
     "output_type": "stream",
     "text": [
      "2\n",
      "24\n",
      "6\n",
      "4\n",
      "24\n",
      "224\n",
      "695\n"
     ]
    }
   ],
   "source": [
    "for i in l:\n",
    "    print(i+1)# sab mein ek jodna hai\n",
    "    "
   ]
  },
  {
   "cell_type": "code",
   "execution_count": 18,
   "id": "ef509428-1f4b-48bd-bc4b-eadc3296fec1",
   "metadata": {},
   "outputs": [
    {
     "name": "stdout",
     "output_type": "stream",
     "text": [
      "2\n",
      "24\n",
      "6\n",
      "4\n",
      "24\n",
      "224\n",
      "695\n"
     ]
    },
    {
     "data": {
      "text/plain": [
       "[1, 23, 5, 3, 23, 223, 694]"
      ]
     },
     "execution_count": 18,
     "metadata": {},
     "output_type": "execute_result"
    }
   ],
   "source": [
    "l1=[]\n",
    "for i in l:\n",
    "    print(i+1)\n",
    "    l1.append(i+1)\n",
    "l\n"
   ]
  },
  {
   "cell_type": "code",
   "execution_count": 19,
   "id": "83a166c1-933c-4ba2-86ca-a7d0e4bfd952",
   "metadata": {},
   "outputs": [],
   "source": [
    "l=['amar','kumar','pwskills']"
   ]
  },
  {
   "cell_type": "code",
   "execution_count": 25,
   "id": "ce095e2d-44be-4741-8e63-baea04cd92fe",
   "metadata": {},
   "outputs": [
    {
     "name": "stdout",
     "output_type": "stream",
     "text": [
      "AMAR\n",
      "KUMAR\n",
      "PWSKILLS\n"
     ]
    }
   ],
   "source": [
    "for i in l:\n",
    "    print(i.upper())"
   ]
  },
  {
   "cell_type": "code",
   "execution_count": 28,
   "id": "0c81980a-405d-4718-b410-63c341f9984a",
   "metadata": {},
   "outputs": [
    {
     "name": "stdout",
     "output_type": "stream",
     "text": [
      "amar\n",
      "kumar\n",
      "pwskills\n"
     ]
    },
    {
     "data": {
      "text/plain": [
       "['AMAR', 'KUMAR', 'PWSKILLS']"
      ]
     },
     "execution_count": 28,
     "metadata": {},
     "output_type": "execute_result"
    }
   ],
   "source": [
    "l2=[]\n",
    "for i in l:\n",
    "    print(i)\n",
    "    l2.append(i.upper())\n",
    "l2"
   ]
  },
  {
   "cell_type": "code",
   "execution_count": 29,
   "id": "6d410965-f1e2-4af8-868c-d1e5e368bcd4",
   "metadata": {},
   "outputs": [
    {
     "data": {
      "text/plain": [
       "['AMAR', 'KUMAR', 'PWSKILLS']"
      ]
     },
     "execution_count": 29,
     "metadata": {},
     "output_type": "execute_result"
    }
   ],
   "source": [
    "l2"
   ]
  },
  {
   "cell_type": "code",
   "execution_count": 1,
   "id": "e252893e-528b-41d6-b29e-32a4a742a79b",
   "metadata": {},
   "outputs": [],
   "source": [
    "l3=[1,2.2,3,'Amar',4,'kumar',8]"
   ]
  },
  {
   "cell_type": "code",
   "execution_count": 2,
   "id": "890292b6-01dc-4ac1-a38b-d9c81b24eb48",
   "metadata": {},
   "outputs": [],
   "source": [
    "l1_int=[]\n",
    "l2_str=[]\n",
    "for i in l3:\n",
    "    if type(i)==int or type(i)==float:\n",
    "        l1_int.append(i)\n",
    "    else:\n",
    "        l2_str.append(i)\n",
    "        "
   ]
  },
  {
   "cell_type": "code",
   "execution_count": 3,
   "id": "608b2695-2972-47dc-8203-cd0e4ed5e2ec",
   "metadata": {},
   "outputs": [
    {
     "data": {
      "text/plain": [
       "[1, 2.2, 3, 4, 8]"
      ]
     },
     "execution_count": 3,
     "metadata": {},
     "output_type": "execute_result"
    }
   ],
   "source": [
    "l1_int"
   ]
  },
  {
   "cell_type": "code",
   "execution_count": 4,
   "id": "4341a6c0-a405-4502-8227-e78351bc2b2d",
   "metadata": {},
   "outputs": [
    {
     "data": {
      "text/plain": [
       "['Amar', 'kumar']"
      ]
     },
     "execution_count": 4,
     "metadata": {},
     "output_type": "execute_result"
    }
   ],
   "source": [
    "l2_str"
   ]
  },
  {
   "cell_type": "code",
   "execution_count": 13,
   "id": "bc2959b6-b300-4ed2-b4c8-896ed0620979",
   "metadata": {},
   "outputs": [
    {
     "data": {
      "text/plain": [
       "['Amar', 'kumar']"
      ]
     },
     "execution_count": 13,
     "metadata": {},
     "output_type": "execute_result"
    }
   ],
   "source": [
    "l1_int=[]\n",
    "l2_str=[]\n",
    "for i in l3:\n",
    "    if type(i)==int or type(i)==float:\n",
    "        l1_int.append(i)\n",
    "    else:\n",
    "        l2_str.append(i)\n",
    "l1_int\n",
    "l2_str\n",
    "l1_int\n",
    "l2_str\n",
    "# according to this jo neeche rahega wahi call ho raha\n",
    "        "
   ]
  },
  {
   "cell_type": "code",
   "execution_count": null,
   "id": "98bd53e1-81e4-47cb-bf02-8aaeebfc795e",
   "metadata": {},
   "outputs": [],
   "source": []
  },
  {
   "cell_type": "code",
   "execution_count": null,
   "id": "22234245-5f3f-422c-ab6d-7943e650ef99",
   "metadata": {},
   "outputs": [],
   "source": []
  }
 ],
 "metadata": {
  "kernelspec": {
   "display_name": "Python 3 (ipykernel)",
   "language": "python",
   "name": "python3"
  },
  "language_info": {
   "codemirror_mode": {
    "name": "ipython",
    "version": 3
   },
   "file_extension": ".py",
   "mimetype": "text/x-python",
   "name": "python",
   "nbconvert_exporter": "python",
   "pygments_lexer": "ipython3",
   "version": "3.10.8"
  }
 },
 "nbformat": 4,
 "nbformat_minor": 5
}
