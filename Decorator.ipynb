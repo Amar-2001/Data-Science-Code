{
 "cells": [
  {
   "cell_type": "code",
   "execution_count": 1,
   "id": "7abef848-e767-4dce-9203-f93d01e7496c",
   "metadata": {},
   "outputs": [],
   "source": [
    "# Decorator in python is used to decorate on codes like \n",
    "# decorating in between start and last code and where ever you asked for\n",
    "\n",
    "# It is used with \"@function_name\" "
   ]
  },
  {
   "cell_type": "code",
   "execution_count": 8,
   "id": "83eb17c9-05cd-4dc7-a634-3f5d04dbad23",
   "metadata": {},
   "outputs": [
    {
     "name": "stdout",
     "output_type": "stream",
     "text": [
      "This is the start of my function\n",
      "This is the function to test \n",
      "16\n",
      "This is the end of my function\n"
     ]
    }
   ],
   "source": [
    "# simple function with decorator\n",
    "\n",
    "def func():\n",
    "    print(\"This is the start of my function\")\n",
    "    print(\"This is the function to test \")\n",
    "    i=4\n",
    "    i=i++i++i++i\n",
    "    print(i)\n",
    "    print(\"This is the end of my function\")\n",
    "func()"
   ]
  },
  {
   "cell_type": "code",
   "execution_count": 31,
   "id": "1a5a5450-1cc3-4f43-9d98-9045b6408ad1",
   "metadata": {},
   "outputs": [],
   "source": [
    "# decorator function\n",
    "\n",
    "def deco(func1):\n",
    "    def inner_dec():\n",
    "        print(\"This is the start of my function\")\n",
    "        func1()\n",
    "        print(\"This is the end of my function\")\n",
    "    return inner_dec # if we add () to inner_dec() then error occurs non type is not callabler\n"
   ]
  },
  {
   "cell_type": "code",
   "execution_count": 29,
   "id": "7b15ea0e-d6ce-41e8-b3aa-be792f606e6a",
   "metadata": {},
   "outputs": [
    {
     "name": "stdout",
     "output_type": "stream",
     "text": [
      "This is the start of my function\n",
      "9\n",
      "This is the end of my function\n"
     ]
    }
   ],
   "source": [
    "@deco              # test function ko deco function ke argument func mein daal do aur \n",
    "def test_func():   # jaha jaha func() call hoga waha waha par ye function call hoga ya kaam karega\n",
    "    print(4+5)\n",
    "test_func()"
   ]
  },
  {
   "cell_type": "code",
   "execution_count": 30,
   "id": "dd52fefd-9212-443d-9c56-ceef6c676368",
   "metadata": {},
   "outputs": [
    {
     "name": "stdout",
     "output_type": "stream",
     "text": [
      "This is the start of my function\n",
      "9\n",
      "This is the end of my function\n"
     ]
    }
   ],
   "source": [
    "test_func()"
   ]
  },
  {
   "cell_type": "code",
   "execution_count": 3,
   "id": "06f231bb-9392-4358-b25d-e39dfdcb8ffd",
   "metadata": {},
   "outputs": [],
   "source": [
    "# Function ko run karne mein kitna time lagg raha hai \n",
    "\n",
    "import time\n",
    "\n",
    "def timer_test(func2):\n",
    "    def timer_test_inner():\n",
    "        start=time.time()\n",
    "        func2()\n",
    "        end=time.time()\n",
    "        print(\"Time = \", end-start)\n",
    "    timer_test_inner\n",
    "    \n",
    "        "
   ]
  },
  {
   "cell_type": "code",
   "execution_count": 4,
   "id": "40a643d2-d0bd-4f0b-91c6-2f7e32ee4f2a",
   "metadata": {},
   "outputs": [
    {
     "name": "stdout",
     "output_type": "stream",
     "text": [
      "9\n"
     ]
    }
   ],
   "source": [
    "def test2():\n",
    "    print(4+5)\n",
    "test2()"
   ]
  },
  {
   "cell_type": "code",
   "execution_count": 5,
   "id": "d5df29b6-5673-4781-b8c2-e3401ece9787",
   "metadata": {},
   "outputs": [],
   "source": [
    "@timer_test\n",
    "def test2():\n",
    "    print(4+5)\n"
   ]
  },
  {
   "cell_type": "code",
   "execution_count": 6,
   "id": "d2da9bcc-ed8f-4d47-b3b3-a5f149ceaa76",
   "metadata": {},
   "outputs": [
    {
     "ename": "TypeError",
     "evalue": "'NoneType' object is not callable",
     "output_type": "error",
     "traceback": [
      "\u001b[0;31m---------------------------------------------------------------------------\u001b[0m",
      "\u001b[0;31mTypeError\u001b[0m                                 Traceback (most recent call last)",
      "Cell \u001b[0;32mIn[6], line 1\u001b[0m\n\u001b[0;32m----> 1\u001b[0m \u001b[43mtest2\u001b[49m\u001b[43m(\u001b[49m\u001b[43m)\u001b[49m\n",
      "\u001b[0;31mTypeError\u001b[0m: 'NoneType' object is not callable"
     ]
    }
   ],
   "source": [
    "test2()"
   ]
  },
  {
   "cell_type": "code",
   "execution_count": 7,
   "id": "3afd6c60-faea-486b-ad08-2853205e7c5f",
   "metadata": {},
   "outputs": [
    {
     "ename": "TypeError",
     "evalue": "'NoneType' object is not callable",
     "output_type": "error",
     "traceback": [
      "\u001b[0;31m---------------------------------------------------------------------------\u001b[0m",
      "\u001b[0;31mTypeError\u001b[0m                                 Traceback (most recent call last)",
      "Cell \u001b[0;32mIn[7], line 5\u001b[0m\n\u001b[1;32m      3\u001b[0m     \u001b[38;5;28;01mfor\u001b[39;00m i \u001b[38;5;129;01min\u001b[39;00m \u001b[38;5;28mrange\u001b[39m (\u001b[38;5;241m1000000000000\u001b[39m):\n\u001b[1;32m      4\u001b[0m         \u001b[38;5;28;01mpass\u001b[39;00m\n\u001b[0;32m----> 5\u001b[0m \u001b[43mtest3\u001b[49m\u001b[43m(\u001b[49m\u001b[43m)\u001b[49m\n",
      "\u001b[0;31mTypeError\u001b[0m: 'NoneType' object is not callable"
     ]
    }
   ],
   "source": [
    "@timer_test\n",
    "def test3():\n",
    "    for i in range (1000000000000):\n",
    "        pass\n",
    "test3()"
   ]
  },
  {
   "cell_type": "code",
   "execution_count": 1,
   "id": "1e536a72-dee3-4842-aea8-5a2e983c1c90",
   "metadata": {},
   "outputs": [
    {
     "data": {
      "text/plain": [
       "5"
      ]
     },
     "execution_count": 1,
     "metadata": {},
     "output_type": "execute_result"
    }
   ],
   "source": [
    "5"
   ]
  },
  {
   "cell_type": "code",
   "execution_count": null,
   "id": "6af78c43-c6be-478c-862d-4a013e4fb3ff",
   "metadata": {},
   "outputs": [],
   "source": []
  }
 ],
 "metadata": {
  "kernelspec": {
   "display_name": "Python 3 (ipykernel)",
   "language": "python",
   "name": "python3"
  },
  "language_info": {
   "codemirror_mode": {
    "name": "ipython",
    "version": 3
   },
   "file_extension": ".py",
   "mimetype": "text/x-python",
   "name": "python",
   "nbconvert_exporter": "python",
   "pygments_lexer": "ipython3",
   "version": "3.10.8"
  }
 },
 "nbformat": 4,
 "nbformat_minor": 5
}
