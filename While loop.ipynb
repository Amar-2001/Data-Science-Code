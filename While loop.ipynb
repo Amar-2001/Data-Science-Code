{
 "cells": [
  {
   "cell_type": "code",
   "execution_count": 1,
   "id": "5ebe09b1-b917-43b3-bd8b-1f4598ad2810",
   "metadata": {},
   "outputs": [],
   "source": [
    "# for loop doesnt check condition whereas \n",
    "# while loop checks condition first then it enters the loop "
   ]
  },
  {
   "cell_type": "code",
   "execution_count": 3,
   "id": "fef77fb4-6462-4904-bf3d-ae33e2a08520",
   "metadata": {},
   "outputs": [
    {
     "name": "stdout",
     "output_type": "stream",
     "text": [
      "1\n",
      "2\n",
      "3\n",
      "4\n",
      "5\n",
      "6\n",
      "7\n",
      "8\n",
      "9\n",
      "10\n"
     ]
    }
   ],
   "source": [
    "a=1\n",
    "while a<=10:# check condition first 1<=10 T 2<=10 T ... 10<=10 T 11<=10 F then exit from loop\n",
    "    print(a)\n",
    "    a=a+1# increasing value each times by 1"
   ]
  },
  {
   "cell_type": "code",
   "execution_count": null,
   "id": "3a4c6425-7ca2-4ba4-8ee5-da8b54a9a7da",
   "metadata": {},
   "outputs": [],
   "source": [
    "a=1 \n",
    "while a<=10: # chalta rahega infinte times tak kyunki aur print karta rahega 1 or jo tum input doge\n",
    "     #uske baad ye check karega condition 1<=10 T  phir print karega 1 aur phir check karega\n",
    "        # 1<=10 T phir print kar dega 1 and so on chalta rahega infinte times tak\n",
    "    print(a)\n"
   ]
  },
  {
   "cell_type": "code",
   "execution_count": null,
   "id": "294a742b-1513-4bd8-a43d-7cea3147c30d",
   "metadata": {},
   "outputs": [],
   "source": [
    "sum = 0\n",
    "n=int(input(\"Enter the limit \"))\n",
    "while a<=n:\n",
    "    sum=sum+a\n",
    "    a=a+1\n",
    "print(sum) "
   ]
  },
  {
   "cell_type": "code",
   "execution_count": 2,
   "id": "cc6104b6-dcec-42a3-b464-3b389e5c84c0",
   "metadata": {},
   "outputs": [
    {
     "data": {
      "text/plain": [
       "4"
      ]
     },
     "execution_count": 2,
     "metadata": {},
     "output_type": "execute_result"
    }
   ],
   "source": [
    "2+2"
   ]
  },
  {
   "cell_type": "code",
   "execution_count": 3,
   "id": "232020e2-5302-4ae0-be7f-a93c9403b6e9",
   "metadata": {},
   "outputs": [],
   "source": [
    "# Fibonacci series"
   ]
  },
  {
   "cell_type": "code",
   "execution_count": 13,
   "id": "fa37de75-543c-45de-9259-2c848716fa3d",
   "metadata": {},
   "outputs": [
    {
     "name": "stdin",
     "output_type": "stream",
     "text": [
      "Enter any number  4\n"
     ]
    },
    {
     "name": "stdout",
     "output_type": "stream",
     "text": [
      "0\n",
      "1\n",
      "1\n",
      "2\n"
     ]
    },
    {
     "data": {
      "text/plain": [
       "2"
      ]
     },
     "execution_count": 13,
     "metadata": {},
     "output_type": "execute_result"
    }
   ],
   "source": [
    "n=int(input(\"Enter any number \"))\n",
    "a=0\n",
    "b=1\n",
    "# fib=0\n",
    "while n>0:\n",
    "    # fib=a\n",
    "    print(a)\n",
    "    c=a+b\n",
    "    a=b\n",
    "    b=c\n",
    "    n=n-1\n",
    "fib\n",
    "    "
   ]
  },
  {
   "cell_type": "code",
   "execution_count": 11,
   "id": "15f98393-1473-4a01-95d9-e9fd93219258",
   "metadata": {},
   "outputs": [
    {
     "name": "stdin",
     "output_type": "stream",
     "text": [
      "Enter any number  5\n"
     ]
    },
    {
     "name": "stdout",
     "output_type": "stream",
     "text": [
      "0\n",
      "1\n",
      "1\n",
      "2\n",
      "3\n"
     ]
    }
   ],
   "source": [
    "n=int(input(\"Enter any number \"))\n",
    "a,b=0,1\n",
    "c=0\n",
    "counter=0\n",
    "while counter<n:\n",
    "    print(a)\n",
    "    c=a+b\n",
    "    a=b\n",
    "    b=c\n",
    "    counter =counter+1\n",
    "    "
   ]
  },
  {
   "cell_type": "code",
   "execution_count": 14,
   "id": "b23b14f9-c1ab-464d-b917-e470a561f309",
   "metadata": {},
   "outputs": [],
   "source": [
    "name=\"AMAR\""
   ]
  },
  {
   "cell_type": "code",
   "execution_count": 17,
   "id": "42266895-a826-4e62-a529-03c75d41a3db",
   "metadata": {},
   "outputs": [
    {
     "data": {
      "text/plain": [
       "'RAMA'"
      ]
     },
     "execution_count": 17,
     "metadata": {},
     "output_type": "execute_result"
    }
   ],
   "source": [
    "# reverse method 1\n",
    "# name.reverse()#'str' object has no attribute 'reverse'\n",
    "\n",
    "# method 2\n",
    "name[::-1]"
   ]
  },
  {
   "cell_type": "code",
   "execution_count": 18,
   "id": "81d04a5e-014d-497a-8a5f-64db7a5fe5b5",
   "metadata": {},
   "outputs": [
    {
     "data": {
      "text/plain": [
       "'AMAR'"
      ]
     },
     "execution_count": 18,
     "metadata": {},
     "output_type": "execute_result"
    }
   ],
   "source": [
    "name\n"
   ]
  },
  {
   "cell_type": "code",
   "execution_count": 23,
   "id": "1b10251d-a2fb-4a86-a854-32c1f267b3d5",
   "metadata": {},
   "outputs": [
    {
     "data": {
      "text/plain": [
       "'RAMA'"
      ]
     },
     "execution_count": 23,
     "metadata": {},
     "output_type": "execute_result"
    }
   ],
   "source": [
    "# Reverse by loop\n",
    "\n",
    "revName=\"\"\n",
    "length=len(name)\n",
    "while length>0: # 4>0 True 3>0 True 2>0 True 1>0 True 0>0 False so exit\n",
    "    revName = revName + name[length-1] # 3(\"_R\") 2(\"RA\") + 1(\"RAM\") + 0(\"RAMA\")\n",
    "    length=length-1 # 3 2 1 0\n",
    "revName"
   ]
  },
  {
   "cell_type": "code",
   "execution_count": 24,
   "id": "f59c5373-d92a-4ba1-9ca3-dda19a52a51a",
   "metadata": {},
   "outputs": [],
   "source": [
    "# Table print\n"
   ]
  },
  {
   "cell_type": "code",
   "execution_count": 26,
   "id": "8ab5a0a0-e152-42eb-b001-35d3919e6d30",
   "metadata": {},
   "outputs": [
    {
     "name": "stdin",
     "output_type": "stream",
     "text": [
      "Enter any table  5\n"
     ]
    },
    {
     "name": "stdout",
     "output_type": "stream",
     "text": [
      "5 * 1 = 5\n",
      "5 * 2 = 10\n",
      "5 * 3 = 15\n",
      "5 * 4 = 20\n",
      "5 * 5 = 25\n",
      "5 * 6 = 30\n",
      "5 * 7 = 35\n",
      "5 * 8 = 40\n",
      "5 * 9 = 45\n",
      "5 * 10 = 50\n"
     ]
    }
   ],
   "source": [
    "n=int(input(\"Enter any table \"))\n",
    "i=1\n",
    "while i<=10:\n",
    "    print(n,\"*\",i,\"=\",n*i)\n",
    "    i=i+1\n",
    "    "
   ]
  },
  {
   "cell_type": "code",
   "execution_count": 27,
   "id": "26d9ce37-25d9-42d8-818f-c5afea4914a8",
   "metadata": {},
   "outputs": [],
   "source": [
    "# while else"
   ]
  },
  {
   "cell_type": "code",
   "execution_count": null,
   "id": "a2b8fb15-4109-4b19-a3c3-7b42b2246549",
   "metadata": {},
   "outputs": [],
   "source": [
    "n=5\n",
    "i=1\n",
    "while i<n:\n",
    "    print(i)\n",
    "else:\n",
    "    print(\"This will be executed when your while will be completed\")"
   ]
  },
  {
   "cell_type": "code",
   "execution_count": null,
   "id": "3e752d28-a771-4bfc-8f31-d6a968026f55",
   "metadata": {},
   "outputs": [],
   "source": [
    "2+2"
   ]
  },
  {
   "cell_type": "code",
   "execution_count": null,
   "id": "21d52e88-ea23-439d-a048-1fab0720d324",
   "metadata": {},
   "outputs": [],
   "source": [
    "n=5\n",
    "i=1\n",
    "while i<n:\n",
    "    if i==3:\n",
    "        break\n",
    "    print(i)\n",
    "else:\n",
    "    print(\"This will be executed when while willbe completed\")"
   ]
  },
  {
   "cell_type": "code",
   "execution_count": null,
   "id": "905535b1-8092-4593-ac55-38896be1c584",
   "metadata": {},
   "outputs": [],
   "source": []
  }
 ],
 "metadata": {
  "kernelspec": {
   "display_name": "Python 3 (ipykernel)",
   "language": "python",
   "name": "python3"
  },
  "language_info": {
   "codemirror_mode": {
    "name": "ipython",
    "version": 3
   },
   "file_extension": ".py",
   "mimetype": "text/x-python",
   "name": "python",
   "nbconvert_exporter": "python",
   "pygments_lexer": "ipython3",
   "version": "3.10.8"
  }
 },
 "nbformat": 4,
 "nbformat_minor": 5
}
