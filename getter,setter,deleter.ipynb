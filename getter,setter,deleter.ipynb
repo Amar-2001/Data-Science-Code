{
 "cells": [
  {
   "cell_type": "code",
   "execution_count": 1,
   "id": "a07d6d87-5a75-486d-89fb-59d8dd1916f5",
   "metadata": {},
   "outputs": [],
   "source": [
    "# Decorator"
   ]
  },
  {
   "cell_type": "code",
   "execution_count": 2,
   "id": "57f727d5-3bb8-4300-b418-1b49f11b7827",
   "metadata": {},
   "outputs": [],
   "source": [
    "class pwskills:\n",
    "    def __init__(self,course_name,course_price):\n",
    "        self.course_name=course_name\n",
    "        self.__course_price=course_price # private"
   ]
  },
  {
   "cell_type": "code",
   "execution_count": 3,
   "id": "054224c2-84b0-488c-9c55-b289580cf8ec",
   "metadata": {},
   "outputs": [],
   "source": [
    "pw=pwskills(\"Data Science Masters\", 3500)"
   ]
  },
  {
   "cell_type": "code",
   "execution_count": 4,
   "id": "1078e994-24ea-4089-a2a8-fda50ebba179",
   "metadata": {},
   "outputs": [
    {
     "data": {
      "text/plain": [
       "'Data Science Masters'"
      ]
     },
     "execution_count": 4,
     "metadata": {},
     "output_type": "execute_result"
    }
   ],
   "source": [
    "pw.course_name\n"
   ]
  },
  {
   "cell_type": "code",
   "execution_count": 6,
   "id": "294c491f-3a9d-47ad-8544-b00db0ba0262",
   "metadata": {},
   "outputs": [
    {
     "ename": "AttributeError",
     "evalue": "'pwskills' object has no attribute 'course_price'",
     "output_type": "error",
     "traceback": [
      "\u001b[0;31m---------------------------------------------------------------------------\u001b[0m",
      "\u001b[0;31mAttributeError\u001b[0m                            Traceback (most recent call last)",
      "Cell \u001b[0;32mIn[6], line 1\u001b[0m\n\u001b[0;32m----> 1\u001b[0m \u001b[43mpw\u001b[49m\u001b[38;5;241;43m.\u001b[39;49m\u001b[43mcourse_price\u001b[49m \u001b[38;5;66;03m# because it is private so not accessible\u001b[39;00m\n",
      "\u001b[0;31mAttributeError\u001b[0m: 'pwskills' object has no attribute 'course_price'"
     ]
    }
   ],
   "source": [
    "pw.course_price # because it is private so not accessible"
   ]
  },
  {
   "cell_type": "code",
   "execution_count": 13,
   "id": "b236f8ff-85b4-4afb-8e73-b81afd7bd66b",
   "metadata": {},
   "outputs": [
    {
     "data": {
      "text/plain": [
       "3500"
      ]
     },
     "execution_count": 13,
     "metadata": {},
     "output_type": "execute_result"
    }
   ],
   "source": [
    "# To access private\n",
    "\n",
    "pw._pwskills__course_price # _className__variableName"
   ]
  },
  {
   "cell_type": "code",
   "execution_count": 14,
   "id": "0233705b-a020-46a5-8695-70e9b9ef52bc",
   "metadata": {},
   "outputs": [],
   "source": [
    "# *************************************************"
   ]
  },
  {
   "cell_type": "code",
   "execution_count": 31,
   "id": "1a3e2f01-3c1e-4874-9ef2-9f77ba634d30",
   "metadata": {},
   "outputs": [],
   "source": [
    "#  but hum user ko access kaise de taaki user bhi private ko access kar paaye\n",
    "# modify kar paaye , delete kar paaye\n",
    "\n",
    "# @property\n",
    "# function(self)\n",
    "# return self.__variable name or print\n",
    "\n",
    "# make object\n",
    "# obj.functionName()"
   ]
  },
  {
   "cell_type": "code",
   "execution_count": 41,
   "id": "ead73c05-f9cd-4f31-817c-3b591e1d3423",
   "metadata": {},
   "outputs": [],
   "source": [
    "class pwskills1:\n",
    "    def __init__(self,course_name,course_price):\n",
    "        self.course_name=course_name\n",
    "        self.__course_price=course_price # private\n",
    "        \n",
    "    @property\n",
    "    def course_price_access(self):\n",
    "        print(\"Price of course\")\n",
    "        return self.__course_price # run\n",
    "        \n",
    "\n",
    "        \n",
    "# error many times print price of course and\n",
    "# error maximum recursion depth exceeded while calling a Python object\n",
    "        \n",
    "        # print(self.__course_price)\n",
    "        # print(self.course_price) # "
   ]
  },
  {
   "cell_type": "code",
   "execution_count": 42,
   "id": "ba6efc08-862f-4548-a569-eadbf177a243",
   "metadata": {},
   "outputs": [],
   "source": [
    "pw1=pwskills1(\"Data Science masters\",3500)"
   ]
  },
  {
   "cell_type": "code",
   "execution_count": 43,
   "id": "cd04b55d-5b87-474d-9f24-0d1529f8a38b",
   "metadata": {},
   "outputs": [
    {
     "name": "stdout",
     "output_type": "stream",
     "text": [
      "Price of course\n"
     ]
    },
    {
     "data": {
      "text/plain": [
       "3500"
      ]
     },
     "execution_count": 43,
     "metadata": {},
     "output_type": "execute_result"
    }
   ],
   "source": [
    "pw1.course_price_access\n"
   ]
  },
  {
   "cell_type": "code",
   "execution_count": 44,
   "id": "6d340002-e008-425c-977a-8a87e5ebf1f4",
   "metadata": {},
   "outputs": [],
   "source": [
    "# doubt \n",
    "# return work but  print not why"
   ]
  },
  {
   "cell_type": "code",
   "execution_count": 45,
   "id": "86666d04-4a3e-422e-88cc-fbf2a5fe91c1",
   "metadata": {},
   "outputs": [],
   "source": [
    "# ***************************************************"
   ]
  },
  {
   "cell_type": "code",
   "execution_count": 48,
   "id": "a4efcd4e-e209-49a7-abe6-557a0d1614bf",
   "metadata": {},
   "outputs": [],
   "source": [
    "# To give access to set or modify value of private memeber\n",
    "\n",
    "class pwskills2:\n",
    "    def __init__(self,course_name,course_price):\n",
    "        self.course_name=course_name\n",
    "        self.__course_price=course_price # private\n",
    "        \n",
    "    @property\n",
    "    def course_price_access(self):\n",
    "        print(\"Price of course\")\n",
    "        return self.__course_price # run\n",
    "    \n",
    "    \n",
    "    @course_price_access.setter # setter function use\n",
    "    def course_price_set(self,price):\n",
    "        self.__course_price=price\n",
    "        \n",
    "        \n",
    "\n",
    "        \n",
    "# error many times print price of course and\n",
    "# error maximum recursion depth exceeded while calling a Python object\n",
    "        \n",
    "        # print(self.__course_price)\n",
    "        # print(self.course_price) # \n"
   ]
  },
  {
   "cell_type": "code",
   "execution_count": 50,
   "id": "dd5f2b1c-1652-4791-bfb6-01c863ed19d2",
   "metadata": {},
   "outputs": [],
   "source": [
    "pw2=pwskills2(\"Data Science masters\" , 3500)"
   ]
  },
  {
   "cell_type": "code",
   "execution_count": 51,
   "id": "c897820a-f8d8-4624-a0a1-0d2e3d01df61",
   "metadata": {},
   "outputs": [
    {
     "data": {
      "text/plain": [
       "'Data Science masters'"
      ]
     },
     "execution_count": 51,
     "metadata": {},
     "output_type": "execute_result"
    }
   ],
   "source": [
    "pw2.course_name"
   ]
  },
  {
   "cell_type": "code",
   "execution_count": 52,
   "id": "7fce6b11-cfa6-48c2-8668-1c03fd2c1ca9",
   "metadata": {},
   "outputs": [
    {
     "name": "stdout",
     "output_type": "stream",
     "text": [
      "Price of course\n"
     ]
    },
    {
     "data": {
      "text/plain": [
       "3500"
      ]
     },
     "execution_count": 52,
     "metadata": {},
     "output_type": "execute_result"
    }
   ],
   "source": [
    "pw2.course_price_access"
   ]
  },
  {
   "cell_type": "code",
   "execution_count": 56,
   "id": "15506e7b-5495-464c-ae7a-1aa31a3baee5",
   "metadata": {},
   "outputs": [],
   "source": [
    "# course price set 3500 to 4500"
   ]
  },
  {
   "cell_type": "code",
   "execution_count": 54,
   "id": "2222468f-7040-49f2-a9ac-86ee6f4115b8",
   "metadata": {},
   "outputs": [],
   "source": [
    "pw2.course_price_set=4500"
   ]
  },
  {
   "cell_type": "code",
   "execution_count": 57,
   "id": "16319290-7795-4f80-9e3c-77d547ec389d",
   "metadata": {},
   "outputs": [
    {
     "name": "stdout",
     "output_type": "stream",
     "text": [
      "Price of course\n"
     ]
    },
    {
     "data": {
      "text/plain": [
       "4500"
      ]
     },
     "execution_count": 57,
     "metadata": {},
     "output_type": "execute_result"
    }
   ],
   "source": [
    "pw2.course_price_access\n"
   ]
  },
  {
   "cell_type": "code",
   "execution_count": 58,
   "id": "e4a1414b-cd07-426a-86a6-0c44df090b4d",
   "metadata": {},
   "outputs": [],
   "source": [
    "# **********************************"
   ]
  },
  {
   "cell_type": "code",
   "execution_count": 69,
   "id": "47b84fd2-eac9-4cc0-b7d5-750b7f25165a",
   "metadata": {},
   "outputs": [],
   "source": [
    "# To give access to delelte a function or member\n",
    "\n",
    "class pwskills3:\n",
    "    def __init__(self,course_name,course_price):\n",
    "        self.course_name=course_name\n",
    "        self.__course_price=course_price # private\n",
    "        \n",
    "    @property\n",
    "    def course_price_access(self):\n",
    "        print(\"Price of course\")\n",
    "        return self.__course_price # run\n",
    "    \n",
    "    \n",
    "    @course_price_access.setter # setter function use\n",
    "    def course_price_set(self,price):\n",
    "        self.__course_price=price\n",
    "        \n",
    "      \n",
    "    @course_price_access.deleter\n",
    "    def delete_course_price(self):\n",
    "        del self.__course_price\n",
    "\n",
    "        \n",
    "# error many times print price of course and\n",
    "# error maximum recursion depth exceeded while calling a Python object\n",
    "        \n",
    "        # print(self.__course_price)\n",
    "        # print(self.course_price) # \n"
   ]
  },
  {
   "cell_type": "code",
   "execution_count": 70,
   "id": "edbb1adf-fca5-4fa2-b5da-4d7e31367974",
   "metadata": {},
   "outputs": [],
   "source": [
    "pw3=pwskills3(\"Data Science masters\" , 3500)"
   ]
  },
  {
   "cell_type": "code",
   "execution_count": 71,
   "id": "6c777ae5-4da0-4451-ad55-256be7d6008c",
   "metadata": {},
   "outputs": [
    {
     "name": "stdout",
     "output_type": "stream",
     "text": [
      "Price of course\n"
     ]
    },
    {
     "data": {
      "text/plain": [
       "3500"
      ]
     },
     "execution_count": 71,
     "metadata": {},
     "output_type": "execute_result"
    }
   ],
   "source": [
    "pw3.course_name\n",
    "pw3.course_price_access\n"
   ]
  },
  {
   "cell_type": "code",
   "execution_count": 72,
   "id": "28cc77a9-3b75-48a9-9376-8a5f8c85f40c",
   "metadata": {},
   "outputs": [
    {
     "name": "stdout",
     "output_type": "stream",
     "text": [
      "Price of course\n"
     ]
    },
    {
     "data": {
      "text/plain": [
       "4000"
      ]
     },
     "execution_count": 72,
     "metadata": {},
     "output_type": "execute_result"
    }
   ],
   "source": [
    "pw3.course_price_set=4000\n",
    "pw3.course_price_access"
   ]
  },
  {
   "cell_type": "code",
   "execution_count": 66,
   "id": "924fe47f-5268-42d8-be70-53371770b31c",
   "metadata": {},
   "outputs": [],
   "source": [
    "# now delete functon use"
   ]
  },
  {
   "cell_type": "code",
   "execution_count": 86,
   "id": "2c34c8dd-d29e-4270-a267-43e67fb85020",
   "metadata": {},
   "outputs": [],
   "source": [
    "del pw3.delete_course_price"
   ]
  },
  {
   "cell_type": "code",
   "execution_count": 74,
   "id": "d30a60d9-31b0-41fd-b734-76c4de08258f",
   "metadata": {},
   "outputs": [
    {
     "name": "stdout",
     "output_type": "stream",
     "text": [
      "Price of course\n"
     ]
    },
    {
     "ename": "AttributeError",
     "evalue": "'pwskills3' object has no attribute '_pwskills3__course_price'",
     "output_type": "error",
     "traceback": [
      "\u001b[0;31m---------------------------------------------------------------------------\u001b[0m",
      "\u001b[0;31mAttributeError\u001b[0m                            Traceback (most recent call last)",
      "Cell \u001b[0;32mIn[74], line 1\u001b[0m\n\u001b[0;32m----> 1\u001b[0m \u001b[43mpw3\u001b[49m\u001b[38;5;241;43m.\u001b[39;49m\u001b[43mcourse_price_access\u001b[49m\n",
      "Cell \u001b[0;32mIn[69], line 11\u001b[0m, in \u001b[0;36mpwskills3.course_price_access\u001b[0;34m(self)\u001b[0m\n\u001b[1;32m      8\u001b[0m \u001b[38;5;129m@property\u001b[39m\n\u001b[1;32m      9\u001b[0m \u001b[38;5;28;01mdef\u001b[39;00m \u001b[38;5;21mcourse_price_access\u001b[39m(\u001b[38;5;28mself\u001b[39m):\n\u001b[1;32m     10\u001b[0m     \u001b[38;5;28mprint\u001b[39m(\u001b[38;5;124m\"\u001b[39m\u001b[38;5;124mPrice of course\u001b[39m\u001b[38;5;124m\"\u001b[39m)\n\u001b[0;32m---> 11\u001b[0m     \u001b[38;5;28;01mreturn\u001b[39;00m \u001b[38;5;28;43mself\u001b[39;49m\u001b[38;5;241;43m.\u001b[39;49m\u001b[43m__course_price\u001b[49m\n",
      "\u001b[0;31mAttributeError\u001b[0m: 'pwskills3' object has no attribute '_pwskills3__course_price'"
     ]
    }
   ],
   "source": [
    "pw3.course_price_access"
   ]
  },
  {
   "cell_type": "code",
   "execution_count": 77,
   "id": "bacefd10-8b00-4ab6-aca1-1e728743d4f6",
   "metadata": {},
   "outputs": [],
   "source": [
    "# 'pwskills3' object has no attribute '_pwskills3__course_price'\n",
    "\n",
    "# proved that course price has deleted"
   ]
  },
  {
   "cell_type": "code",
   "execution_count": 79,
   "id": "4a1406be-5030-4811-83e7-f0e61adcfc52",
   "metadata": {},
   "outputs": [],
   "source": [
    "# *****************************************"
   ]
  },
  {
   "cell_type": "code",
   "execution_count": 78,
   "id": "1bd88138-8a8a-4b7c-825d-dab4d2176988",
   "metadata": {},
   "outputs": [],
   "source": [
    "# We can again set course price"
   ]
  },
  {
   "cell_type": "code",
   "execution_count": 87,
   "id": "12f9aeab-bc94-43f0-adb6-a40ff7e5e3e5",
   "metadata": {},
   "outputs": [
    {
     "name": "stdout",
     "output_type": "stream",
     "text": [
      "Price of course\n"
     ]
    },
    {
     "ename": "AttributeError",
     "evalue": "'pwskills3' object has no attribute '_pwskills3__course_price'",
     "output_type": "error",
     "traceback": [
      "\u001b[0;31m---------------------------------------------------------------------------\u001b[0m",
      "\u001b[0;31mAttributeError\u001b[0m                            Traceback (most recent call last)",
      "Cell \u001b[0;32mIn[87], line 1\u001b[0m\n\u001b[0;32m----> 1\u001b[0m \u001b[43mpw3\u001b[49m\u001b[38;5;241;43m.\u001b[39;49m\u001b[43mcourse_price_access\u001b[49m \u001b[38;5;66;03m# check price delted or not and it is succcessfull deleted \u001b[39;00m\n\u001b[1;32m      2\u001b[0m                          \u001b[38;5;66;03m# so this message show\u001b[39;00m\n",
      "Cell \u001b[0;32mIn[69], line 11\u001b[0m, in \u001b[0;36mpwskills3.course_price_access\u001b[0;34m(self)\u001b[0m\n\u001b[1;32m      8\u001b[0m \u001b[38;5;129m@property\u001b[39m\n\u001b[1;32m      9\u001b[0m \u001b[38;5;28;01mdef\u001b[39;00m \u001b[38;5;21mcourse_price_access\u001b[39m(\u001b[38;5;28mself\u001b[39m):\n\u001b[1;32m     10\u001b[0m     \u001b[38;5;28mprint\u001b[39m(\u001b[38;5;124m\"\u001b[39m\u001b[38;5;124mPrice of course\u001b[39m\u001b[38;5;124m\"\u001b[39m)\n\u001b[0;32m---> 11\u001b[0m     \u001b[38;5;28;01mreturn\u001b[39;00m \u001b[38;5;28;43mself\u001b[39;49m\u001b[38;5;241;43m.\u001b[39;49m\u001b[43m__course_price\u001b[49m\n",
      "\u001b[0;31mAttributeError\u001b[0m: 'pwskills3' object has no attribute '_pwskills3__course_price'"
     ]
    }
   ],
   "source": [
    "pw3.course_price_access # check price delted or not and it is succcessfull deleted \n",
    "                         # so this message show"
   ]
  },
  {
   "cell_type": "code",
   "execution_count": 84,
   "id": "5e60a51c-0b7a-4a29-9fa0-8b0f56db0d39",
   "metadata": {},
   "outputs": [
    {
     "name": "stdout",
     "output_type": "stream",
     "text": [
      "Price of course\n"
     ]
    },
    {
     "data": {
      "text/plain": [
       "4200"
      ]
     },
     "execution_count": 84,
     "metadata": {},
     "output_type": "execute_result"
    }
   ],
   "source": [
    "# now set price\n",
    "\n",
    "pw3.course_price_set=4200\n",
    "pw3.course_price_access"
   ]
  },
  {
   "cell_type": "code",
   "execution_count": 1,
   "id": "ed748979-148a-43cd-8617-3478c1a7ab23",
   "metadata": {},
   "outputs": [],
   "source": [
    "# Assignment\n",
    "\n",
    "# Q4. What are getter and setter in python? Create a class and create a getter\n",
    "# and a setter method in this class.\n",
    "\n",
    "# getter and setter is method in property decorator which is used to access,modify,\n",
    "# set,get and delete value of a private variable \n",
    "\n",
    "class student:\n",
    "    def __init__(self,name,enrollment_no):\n",
    "        self.name=name\n",
    "        self.__enrollment_no=enrollment_no # private\n",
    "        \n",
    "    @property\n",
    "    def enrollment_no_access(self):\n",
    "        return self.__enrollment_no\n",
    "    \n",
    "    @enrollment_no_access.setter\n",
    "    def set_enrollment_no(self,enroll):\n",
    "        self.__enrollment_no=enroll\n",
    "        \n",
    "        "
   ]
  },
  {
   "cell_type": "code",
   "execution_count": 2,
   "id": "05e37dec-dab1-40ad-a317-e3c92783ea5d",
   "metadata": {},
   "outputs": [
    {
     "data": {
      "text/plain": [
       "3"
      ]
     },
     "execution_count": 2,
     "metadata": {},
     "output_type": "execute_result"
    }
   ],
   "source": [
    "obj=student(\"Dheeraj\",36)\n",
    "obj.set_enrollment_no=3\n",
    "obj.enrollment_no_access"
   ]
  },
  {
   "cell_type": "code",
   "execution_count": 3,
   "id": "735e08c0-dd0d-4251-b40f-380bdf4f5bb6",
   "metadata": {},
   "outputs": [],
   "source": [
    "# Assignment\n",
    "\n",
    "# Q4. What are getter and setter in python? Create a class and create a getter\n",
    "# and a setter method in this class.\n",
    "\n",
    "# getter and setter is method in property decorator which is used to access,modify,\n",
    "# set,get and delete value of a private variable \n",
    "\n",
    "class student:\n",
    "    def __init__(self,name,enrollment_no):\n",
    "        self.name=name\n",
    "        self.__enrollment_no=enrollment_no # private\n",
    "        \n",
    "    @property\n",
    "    def enrollment_no_access(self):\n",
    "        return self.__enrollment_no\n",
    "    \n",
    "    @enrollment_no_access.setter\n",
    "    def set_enrollment_no(self,enroll):\n",
    "        self.__enrollment_no=enroll\n",
    "        \n",
    "    @enrollment_no_access.getter\n",
    "    def get_enrollment_no(self):\n",
    "        return self.__enrollment_no  "
   ]
  },
  {
   "cell_type": "code",
   "execution_count": 4,
   "id": "13ccff04-49ea-41b7-a256-770e800dae61",
   "metadata": {},
   "outputs": [
    {
     "data": {
      "text/plain": [
       "3"
      ]
     },
     "execution_count": 4,
     "metadata": {},
     "output_type": "execute_result"
    }
   ],
   "source": [
    "obj=student(\"Dheeraj\",36)\n",
    "obj.set_enrollment_no=3\n",
    "obj.get_enrollment_no"
   ]
  },
  {
   "cell_type": "code",
   "execution_count": null,
   "id": "95760cd0-3f25-42d3-806f-f277cc286612",
   "metadata": {},
   "outputs": [],
   "source": []
  }
 ],
 "metadata": {
  "kernelspec": {
   "display_name": "Python 3 (ipykernel)",
   "language": "python",
   "name": "python3"
  },
  "language_info": {
   "codemirror_mode": {
    "name": "ipython",
    "version": 3
   },
   "file_extension": ".py",
   "mimetype": "text/x-python",
   "name": "python",
   "nbconvert_exporter": "python",
   "pygments_lexer": "ipython3",
   "version": "3.10.8"
  }
 },
 "nbformat": 4,
 "nbformat_minor": 5
}
