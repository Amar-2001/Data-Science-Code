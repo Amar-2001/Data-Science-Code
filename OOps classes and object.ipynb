{
 "cells": [
  {
   "cell_type": "code",
   "execution_count": 1,
   "id": "e0f23f5c-d8e2-420c-9fb6-707ac9429562",
   "metadata": {},
   "outputs": [],
   "source": [
    "# Class is a classificatio of real world entity.\n",
    "# It is a blueprint of a real world entity\n",
    "\n",
    "# Object is a real world entity.\n",
    "# Object may also called as variable or instance."
   ]
  },
  {
   "cell_type": "code",
   "execution_count": 2,
   "id": "7e6947ff-3272-4914-bdec-99ce6297fda8",
   "metadata": {},
   "outputs": [],
   "source": [
    "# hum class kyon banate hai\n",
    "\n",
    "# jab hum project bana rahe hote tab humare paas bahut sare module hote hai \n",
    "# like frontend, backend ,middle end , database ,file process, cloud\n",
    "# if we use code without any heirarchy then code becomes very unstructured.\n",
    "# If want to contribute then we can't contribute because they are un organized\n",
    "\n",
    "# so class usko structured bana deta hai like ek class bana sakte hai jisme frontend ka \n",
    "# module ho , ek class jisme backend ka module Ho ek class jisme database ka modeule ho.\n",
    "\n",
    "# so coding becomes organized and make code reusable.\n",
    "# classification ko simple bana deta."
   ]
  },
  {
   "cell_type": "code",
   "execution_count": 3,
   "id": "622f5af1-1e11-45f2-a580-1c0274b06fea",
   "metadata": {},
   "outputs": [],
   "source": [
    "# class ke andar functions , variable , methods etc rakh sakte hai"
   ]
  },
  {
   "cell_type": "code",
   "execution_count": 4,
   "id": "25742714-c0a8-453b-813e-fb85db57806a",
   "metadata": {},
   "outputs": [],
   "source": [
    "a=1"
   ]
  },
  {
   "cell_type": "code",
   "execution_count": 5,
   "id": "1bca9d5e-8a40-4ae1-b1a4-6ff5276401df",
   "metadata": {},
   "outputs": [
    {
     "name": "stdout",
     "output_type": "stream",
     "text": [
      "<class 'int'>\n"
     ]
    }
   ],
   "source": [
    "print(type(a))"
   ]
  },
  {
   "cell_type": "code",
   "execution_count": 6,
   "id": "9666bead-dadb-4115-8d3a-f65ded1f8471",
   "metadata": {},
   "outputs": [
    {
     "name": "stdout",
     "output_type": "stream",
     "text": [
      "<class 'str'>\n"
     ]
    }
   ],
   "source": [
    "print(type(\"amar\"))"
   ]
  },
  {
   "cell_type": "code",
   "execution_count": 7,
   "id": "b950ee96-e174-445e-ac3e-ab839c17f6de",
   "metadata": {},
   "outputs": [],
   "source": [
    "# but what is class int or class str\n",
    "# a is of int type classification means it has integer value. whatever they may 1,2,3..\n",
    "# \"amar\" is of string type classification . \n"
   ]
  },
  {
   "cell_type": "code",
   "execution_count": 8,
   "id": "0ae8ffb6-0af8-49a9-ab2a-8f1c20b33b21",
   "metadata": {},
   "outputs": [
    {
     "ename": "SyntaxError",
     "evalue": "incomplete input (3527747674.py, line 1)",
     "output_type": "error",
     "traceback": [
      "\u001b[0;36m  Cell \u001b[0;32mIn[8], line 1\u001b[0;36m\u001b[0m\n\u001b[0;31m    class test:\u001b[0m\n\u001b[0m               ^\u001b[0m\n\u001b[0;31mSyntaxError\u001b[0m\u001b[0;31m:\u001b[0m incomplete input\n"
     ]
    }
   ],
   "source": [
    "class test:"
   ]
  },
  {
   "cell_type": "code",
   "execution_count": 9,
   "id": "c29e03b2-6159-4d31-ae9a-471a3e4b5c08",
   "metadata": {},
   "outputs": [],
   "source": [
    "class test:\n",
    "    pass# class is created."
   ]
  },
  {
   "cell_type": "code",
   "execution_count": 10,
   "id": "b225dea2-4fdd-4808-b0de-f8097edf6aad",
   "metadata": {},
   "outputs": [],
   "source": [
    "a=test()"
   ]
  },
  {
   "cell_type": "code",
   "execution_count": 11,
   "id": "74b6ee31-5362-475a-bee5-3598701eb3bf",
   "metadata": {},
   "outputs": [
    {
     "data": {
      "text/plain": [
       "__main__.test"
      ]
     },
     "execution_count": 11,
     "metadata": {},
     "output_type": "execute_result"
    }
   ],
   "source": [
    "type(a)"
   ]
  },
  {
   "cell_type": "code",
   "execution_count": 12,
   "id": "9011074b-a217-4d6c-bb79-028da14e2cd7",
   "metadata": {},
   "outputs": [
    {
     "name": "stdout",
     "output_type": "stream",
     "text": [
      "<class '__main__.test'>\n"
     ]
    }
   ],
   "source": [
    "print(type(a))"
   ]
  },
  {
   "cell_type": "code",
   "execution_count": 13,
   "id": "3c8d50f8-a15f-417f-8ab0-08f6c857cfbb",
   "metadata": {},
   "outputs": [],
   "source": [
    "# class and object  coding"
   ]
  },
  {
   "cell_type": "code",
   "execution_count": 4,
   "id": "3fd15312-e619-4923-93a0-d2b1f48da4b9",
   "metadata": {},
   "outputs": [],
   "source": [
    "class pwskills:\n",
    "    def welcome_message():\n",
    "        print(\"Welcome to pwskills\")"
   ]
  },
  {
   "cell_type": "code",
   "execution_count": null,
   "id": "5bbea92e-345e-4538-996c-d77cb554de06",
   "metadata": {},
   "outputs": [],
   "source": [
    "rohan = pwskills # rohan is an object, instance or variable \n",
    "                # rohan belongs to pwskills class\n"
   ]
  },
  {
   "cell_type": "code",
   "execution_count": null,
   "id": "94e985dd-757e-4e02-a06e-86fc51b3e5f6",
   "metadata": {},
   "outputs": [],
   "source": [
    "rohan.welcome_message()"
   ]
  },
  {
   "cell_type": "code",
   "execution_count": 5,
   "id": "50fee8af-6248-4461-8e21-9584ba452f46",
   "metadata": {},
   "outputs": [],
   "source": [
    "\n",
    "amar=pwskills\n",
    "# amar=pwskills()# then it gives error after next line when amar.welcome_message written\n",
    "# error pwskills.welcome_message() takes 0 positional arguments but 1 was given\n",
    "\n",
    "# is error ko solve karne ka do tarika hai \n",
    "# pehla : - def function ke argument mein (self) likh do \n",
    "# dusra apne object amar=pwskills() se () hata do aur aise likeho amar=pwskills only\n",
    "\n",
    "# simply bole toh jab jab self denge tab tab ye () dena hai\n"
   ]
  },
  {
   "cell_type": "code",
   "execution_count": 6,
   "id": "90d080fb-2775-49a5-a618-2ffdc815e147",
   "metadata": {},
   "outputs": [
    {
     "name": "stdout",
     "output_type": "stream",
     "text": [
      "Welcome to pwskills\n"
     ]
    }
   ],
   "source": [
    "amar.welcome_message()\n"
   ]
  },
  {
   "cell_type": "code",
   "execution_count": null,
   "id": "a3589d59-435b-4fd5-88fa-1904ea623a47",
   "metadata": {},
   "outputs": [],
   "source": [
    "# self pointer hai ya refernce provide karta hai class ko\n",
    "# bina self ke aap access  hi nahi kar sakte hai class ke varialbe ko \n"
   ]
  },
  {
   "cell_type": "code",
   "execution_count": null,
   "id": "4bfffdf7-f9d4-476e-9a6d-931f595aee11",
   "metadata": {},
   "outputs": [],
   "source": [
    "class pwskills1:\n",
    "    def __init__(self,roll,email,phone):\n",
    "        self.roll=roll\n",
    "        self.email= email\n",
    "        self.phone=phone\n",
    "        \n",
    "    def return_value(self):\n",
    "        return self.roll,self.email,self.phone\n",
    "        "
   ]
  },
  {
   "cell_type": "code",
   "execution_count": null,
   "id": "72efc66c-4940-4931-a9c9-392769470064",
   "metadata": {},
   "outputs": [],
   "source": [
    "rohan=pwskills1(11,'rohan2002@gmail.com',84332322232)\n"
   ]
  },
  {
   "cell_type": "code",
   "execution_count": null,
   "id": "c89f9adb-87f9-4127-b3ae-d230b66b72fb",
   "metadata": {},
   "outputs": [],
   "source": [
    "rohan.return_value()"
   ]
  },
  {
   "cell_type": "code",
   "execution_count": null,
   "id": "b8166910-40d6-498b-b9f2-45eb9ac1a02b",
   "metadata": {},
   "outputs": [],
   "source": [
    "rohan.phone\n"
   ]
  },
  {
   "cell_type": "code",
   "execution_count": null,
   "id": "1c2d030f-1b9b-4793-9b27-25a3c71e3f7c",
   "metadata": {},
   "outputs": [],
   "source": [
    "rohan.roll"
   ]
  },
  {
   "cell_type": "code",
   "execution_count": null,
   "id": "e321300b-6ac4-4f62-b0d6-d2916bc2aafa",
   "metadata": {},
   "outputs": [],
   "source": [
    "amar=pwskills1(1,'Amar@richestman.come',1)"
   ]
  },
  {
   "cell_type": "code",
   "execution_count": null,
   "id": "db84de25-c053-4040-ba73-5a940019edde",
   "metadata": {},
   "outputs": [],
   "source": [
    "amar.return_value()"
   ]
  },
  {
   "cell_type": "code",
   "execution_count": null,
   "id": "8055de61-be80-43ae-84c8-ab35aa9e3927",
   "metadata": {},
   "outputs": [],
   "source": [
    "# functions ke andar ka varible jo self.____ ke saath aata hai aur jo variable \n",
    "# hum def function(__)ke andar use karte hai wo dono alag hai \n",
    "\n",
    "# proving"
   ]
  },
  {
   "cell_type": "code",
   "execution_count": null,
   "id": "55c73101-741e-4789-9677-cbc8f96c232c",
   "metadata": {},
   "outputs": [],
   "source": [
    "class pwskills2:\n",
    "    def __init__(self,roll,email,phone):\n",
    "        self.roll1=roll\n",
    "        self.email1= email\n",
    "        self.phone1=phone\n",
    "        \n",
    "    def return_value(self):\n",
    "        return self.roll1,self.email1,self.phone1"
   ]
  },
  {
   "cell_type": "code",
   "execution_count": null,
   "id": "cef537ee-b98d-48ca-a95e-b195952eaf39",
   "metadata": {},
   "outputs": [],
   "source": [
    "rohan=pwskills2(2,'rohan@gmail.com',98469946644)"
   ]
  },
  {
   "cell_type": "code",
   "execution_count": null,
   "id": "e61d7aad-4df7-4623-8118-3256b55cfe66",
   "metadata": {},
   "outputs": [],
   "source": [
    "rohan.return_value()#'pwskills2' object has no attribute 'email' \n"
   ]
  },
  {
   "cell_type": "code",
   "execution_count": null,
   "id": "c4528d4d-d3cc-4bb1-a8a7-acd111925634",
   "metadata": {},
   "outputs": [],
   "source": [
    "# so understood \n",
    "# humne return_value mein roll ke jagah toh roll1 kar diya par email ke jagah email1 nahi kiya \n",
    "# toh error this prove that ki function ke andar self.__ ke saath jo variable rehta hai aur us mein jo\n",
    "# assign kiya jaata hai jaani def func( -- ) ke andar wo dono different hai \n",
    "# aur  saath ssaath ye bhi prove kar raha hai self ke paas power hai ki \n",
    "# class ke function,variable ko access karne ka\n",
    "\n",
    "# teesra chiz ye prove karta hai ki python line by line execute hota hai kyunki jab call kar rahe thay \n",
    "# rohan.return_value ko tab usme ek variable jisko roll1 hona tha wo roll tha toh error wahi de raha tha ki\n",
    "# 'pwskills2' object has no attribute 'roll'par jab humne waha se roll ko roll1 kar diya\n",
    "# tab wo error hat gaya aur uske aage  ka error dene laga\n",
    "# 'pwskills2' object has no attribute 'email' kyunki humne email ko email1 abhi tak nahi kiya tha that's why\n",
    "# so  proved python line by line execute hota hai or sirf line by line hi nahi har ek word by word"
   ]
  },
  {
   "cell_type": "code",
   "execution_count": null,
   "id": "c9059bbe-1b9e-433e-9cbb-82aebd576155",
   "metadata": {},
   "outputs": [],
   "source": [
    "rohan.phone1"
   ]
  },
  {
   "cell_type": "code",
   "execution_count": null,
   "id": "fcb492c1-62db-4489-a781-2020ebc30897",
   "metadata": {},
   "outputs": [],
   "source": [
    "rohan.roll1"
   ]
  },
  {
   "cell_type": "code",
   "execution_count": null,
   "id": "49f9bd49-fb5b-4599-93b0-10a4f3b3067b",
   "metadata": {},
   "outputs": [],
   "source": [
    "rohan.return_value()# ab print ho gaya"
   ]
  },
  {
   "cell_type": "code",
   "execution_count": null,
   "id": "29beae89-240d-4692-9e9c-e49e80e749b8",
   "metadata": {},
   "outputs": [],
   "source": [
    "# self is not a reserved keyword\n",
    "# self ke jagah kuch bhi daal sakte hai\n",
    "# self ke jagha amar"
   ]
  },
  {
   "cell_type": "code",
   "execution_count": null,
   "id": "c0321c69-f78e-4b86-b04a-5e40149e1c98",
   "metadata": {},
   "outputs": [],
   "source": [
    "class pwskills2:\n",
    "    def __init__(amar,roll,email,phone):\n",
    "        amar.roll1=roll\n",
    "        amar.email1= email\n",
    "        amar.phone1=phone\n",
    "        \n",
    "    def return_value(amar):\n",
    "        return amar.roll1,amar.email1,amar.phone1"
   ]
  },
  {
   "cell_type": "code",
   "execution_count": null,
   "id": "36cfbc85-163c-4e1d-a58f-c8eae72f79a3",
   "metadata": {},
   "outputs": [],
   "source": [
    "rohan=pwskills2(2,'amar@gmail.com',87392977)"
   ]
  },
  {
   "cell_type": "code",
   "execution_count": 16,
   "id": "a4bc86e4-a818-4f2d-b99a-f9634768ded7",
   "metadata": {},
   "outputs": [
    {
     "ename": "AttributeError",
     "evalue": "type object 'pwskills' has no attribute 'return_value'",
     "output_type": "error",
     "traceback": [
      "\u001b[0;31m---------------------------------------------------------------------------\u001b[0m",
      "\u001b[0;31mAttributeError\u001b[0m                            Traceback (most recent call last)",
      "Cell \u001b[0;32mIn[16], line 1\u001b[0m\n\u001b[0;32m----> 1\u001b[0m \u001b[43mrohan\u001b[49m\u001b[38;5;241;43m.\u001b[39;49m\u001b[43mreturn_value\u001b[49m()\n",
      "\u001b[0;31mAttributeError\u001b[0m: type object 'pwskills' has no attribute 'return_value'"
     ]
    }
   ],
   "source": [
    "rohan.return_value()"
   ]
  },
  {
   "cell_type": "code",
   "execution_count": null,
   "id": "d13abbfd-718e-43bc-9858-b815e0902809",
   "metadata": {},
   "outputs": [],
   "source": []
  }
 ],
 "metadata": {
  "kernelspec": {
   "display_name": "Python 3 (ipykernel)",
   "language": "python",
   "name": "python3"
  },
  "language_info": {
   "codemirror_mode": {
    "name": "ipython",
    "version": 3
   },
   "file_extension": ".py",
   "mimetype": "text/x-python",
   "name": "python",
   "nbconvert_exporter": "python",
   "pygments_lexer": "ipython3",
   "version": "3.10.8"
  }
 },
 "nbformat": 4,
 "nbformat_minor": 5
}
