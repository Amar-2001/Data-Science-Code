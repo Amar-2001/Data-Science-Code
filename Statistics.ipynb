{
 "cells": [
  {
   "cell_type": "code",
   "execution_count": 1,
   "id": "a873efb4-7b49-4883-a3dd-363e8d2f8127",
   "metadata": {},
   "outputs": [],
   "source": [
    "# Statistics:- Statistics is the science of collecting,organizing and analyzing data.\n",
    "#              It is used in decision making process.\n",
    "    \n",
    "# Data := Facts or pieces of information. Data is a raw facts. \n",
    "# Information:= Information is the processed data.\n",
    "# Knoweledge:= Use of information to build product or take decision is called Knoweledge.\n",
    "\n",
    "# Data example:- Height of student in a class, IQ of student in a class.\n"
   ]
  },
  {
   "cell_type": "code",
   "execution_count": 5,
   "id": "b002a189-2546-4436-8fa8-cd7a8ddbf9c3",
   "metadata": {},
   "outputs": [
    {
     "data": {
      "text/plain": [
       "5"
      ]
     },
     "execution_count": 5,
     "metadata": {},
     "output_type": "execute_result"
    }
   ],
   "source": [
    "# There are two types of Statistics:- \n",
    "# 1.Descriptive statistics\n",
    "# 2.Inferential statistics\n",
    "\n",
    "# 1.Descriptive statistics:- It consists of organizing and summarizing data.\n",
    "#              (i) Measure of Central Tendencies:- [mean,median,mode]\n",
    "#              (ii) Measure of dispersion :- [variance,std]\n",
    "#              (iii) Different types of distribution of data:= Histogram, pdf, pnf\n",
    "            \n",
    "            \n",
    "# 2.Inferential statistics:- It consists of using data you have measured in the form of conclusion.\n",
    "#             (i) Z test :- Hypothesis testing\n",
    "#             (ii) T test :- H0,H,P value\n",
    "#             (iii) MI Square :- Significance\n",
    "            \n",
    "# Q.Let's say there are 20 statistics classes at your college and you have to collect the height of student \n",
    "#   in the class. Heights are recorded[150,120,179,180,190,150,155,189]\n",
    "    \n",
    "# Descriptive Question:- What is the average height of the entire classroom. \n",
    "# Solution find mean (sum of all datat)/number of data\n",
    "\n",
    "# Inferential Question:-Are the height of student in the class similar to what you expect in the college.\n",
    "            \n",
    "# Population are sample data\n",
    "# Population :- The group you are intersted in studying.\n",
    "# Sample:- A subset of population\n",
    "\n",
    "# Example :- Exit Pole during election\n",
    "5"
   ]
  },
  {
   "cell_type": "code",
   "execution_count": 9,
   "id": "456b58c2-c77f-4d43-9b31-076742e44853",
   "metadata": {},
   "outputs": [],
   "source": [
    "# Data are of two types:-\n",
    "#     1.Quantitative\n",
    "#     2.Qualitative\n",
    "    \n",
    "#     1.Quantitative are of two types: Data which are in numbers.\n",
    "#             (i)Discrette:-Whole number ex:- No.of student,bank account, children etc\n",
    "#             (ii)Continuous:-Decimal number ex:- weight,speed,temperature etc\n",
    "#     2.Qualitative are of two types: Also called as Categorical data\n",
    "#             (i)Nominal :- Male,Female,Yes-No,True-False,Fire-NotFire,\n",
    "#             (ii)Ordinal :- Rank,Customer Feedback (Good,Better,Best)\n",
    "            \n",
    "            "
   ]
  },
  {
   "cell_type": "code",
   "execution_count": 2,
   "id": "42c8c9ec-f46b-4bb2-9968-7e5c58609b23",
   "metadata": {},
   "outputs": [
    {
     "data": {
      "text/plain": [
       "5"
      ]
     },
     "execution_count": 2,
     "metadata": {},
     "output_type": "execute_result"
    }
   ],
   "source": [
    "# Scale of measurement\n",
    "# =========================\n",
    "# Nominal Scale Data\n",
    "# Ordinal scale Data \n",
    "# Interval Scale data\n",
    "# Ratio Scale Data \n",
    "\n",
    "# 1.Nominal Scale data:-\n",
    "#     * Qualitative/Categorical Data \n",
    "#     * Gender,Colour,Labels\n",
    "#     * Order does not matter\n",
    "#     * Ex:- Red(5)\n",
    "#            Orange(3)\n",
    "#            Blue(2)\n",
    "            \n",
    "# 2.order scale data:- \n",
    "#     *Ranking matter\n",
    "#     *Order matter\n",
    "#     *Difference cannot be measured.\n",
    "#     *Ex:- 1.Best 2.Good 3.Bad ,   1st 2nd 3rd , Sun,Mon,Tue,Wednes,Thurs,Fri,Sat\n",
    "    \n",
    "# 3.Interval Scale Data:=\n",
    "#     *Order matter\n",
    "#     * Difference matter\n",
    "#     *Ratio cannot be found.\n",
    "#     *No \"0\" starting point\n",
    "#     *Ex:- Temperature variable= 10,20,30,35,-19,0,21 in Fahrenheit. \n",
    "\n",
    "# 4.Ratio Scale Data:-\n",
    "#     *The order matter\n",
    "#     * \"0\" starting point\n",
    "#     * Difference is measurable\n",
    "#     * Student's  marks in a class\n",
    "    \n",
    "    \n",
    "# Question:- Length of different rivers in Bharat.Solution Ratio scale data\n",
    "#             Favroite food based on Gender.   Solution Nominal Scale Data\n",
    "#             Marrital Status  solution Nominal Scale data\n",
    "            \n",
    "    \n",
    "    \n",
    "    \n",
    "    \n",
    "    \n",
    "5    "
   ]
  },
  {
   "cell_type": "code",
   "execution_count": null,
   "id": "bfb6e6a3-0e8e-4856-a3d4-e1a02f699f18",
   "metadata": {},
   "outputs": [],
   "source": []
  }
 ],
 "metadata": {
  "kernelspec": {
   "display_name": "Python 3 (ipykernel)",
   "language": "python",
   "name": "python3"
  },
  "language_info": {
   "codemirror_mode": {
    "name": "ipython",
    "version": 3
   },
   "file_extension": ".py",
   "mimetype": "text/x-python",
   "name": "python",
   "nbconvert_exporter": "python",
   "pygments_lexer": "ipython3",
   "version": "3.10.8"
  }
 },
 "nbformat": 4,
 "nbformat_minor": 5
}
