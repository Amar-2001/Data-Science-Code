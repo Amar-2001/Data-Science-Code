{
 "cells": [
  {
   "cell_type": "code",
   "execution_count": 3,
   "id": "4a68e753-0377-4971-b2f3-23d95414577a",
   "metadata": {},
   "outputs": [],
   "source": [
    "l=[1,2.22,\"Amard\",True ,5+8j]"
   ]
  },
  {
   "cell_type": "code",
   "execution_count": 4,
   "id": "95ffb3c9-35b9-4d5b-80db-939d2d2e1964",
   "metadata": {},
   "outputs": [
    {
     "data": {
      "text/plain": [
       "[1, 2.22, 'Amard', True, (5+8j)]"
      ]
     },
     "execution_count": 4,
     "metadata": {},
     "output_type": "execute_result"
    }
   ],
   "source": [
    "l\n"
   ]
  },
  {
   "cell_type": "code",
   "execution_count": 3,
   "id": "22d70368-829a-4d16-947a-7388ca14fd6b",
   "metadata": {},
   "outputs": [
    {
     "data": {
      "text/plain": [
       "5"
      ]
     },
     "execution_count": 3,
     "metadata": {},
     "output_type": "execute_result"
    }
   ],
   "source": [
    "len(l)"
   ]
  },
  {
   "cell_type": "code",
   "execution_count": 7,
   "id": "73ec793a-a4e7-4c63-aa38-f1e568972adb",
   "metadata": {},
   "outputs": [],
   "source": [
    "l.append(\"A\")"
   ]
  },
  {
   "cell_type": "code",
   "execution_count": 8,
   "id": "adc77a8d-68ad-4eec-a241-07ed831155a6",
   "metadata": {},
   "outputs": [
    {
     "data": {
      "text/plain": [
       "[1, 2.22, 'Amard', True, (5+8j), 5, 5, 'A']"
      ]
     },
     "execution_count": 8,
     "metadata": {},
     "output_type": "execute_result"
    }
   ],
   "source": [
    "l"
   ]
  },
  {
   "cell_type": "code",
   "execution_count": 5,
   "id": "3daf4002-fbbc-42da-b8c8-2df850c54b94",
   "metadata": {},
   "outputs": [],
   "source": [
    "l.append(\"Amar\")\n"
   ]
  },
  {
   "cell_type": "code",
   "execution_count": 6,
   "id": "50bc2993-316c-4430-9aa8-5f5df0808c19",
   "metadata": {},
   "outputs": [
    {
     "data": {
      "text/plain": [
       "[1, 2.22, 'Amard', True, (5+8j), 'Amar']"
      ]
     },
     "execution_count": 6,
     "metadata": {},
     "output_type": "execute_result"
    }
   ],
   "source": [
    "l"
   ]
  },
  {
   "cell_type": "code",
   "execution_count": 7,
   "id": "b0c15de9-6aac-4069-b15d-48570946416e",
   "metadata": {},
   "outputs": [],
   "source": [
    "l.extend(\"Amar\")"
   ]
  },
  {
   "cell_type": "code",
   "execution_count": 8,
   "id": "b9a5b2fd-66a6-4070-9745-6b9b139ce244",
   "metadata": {},
   "outputs": [
    {
     "data": {
      "text/plain": [
       "[1, 2.22, 'Amard', True, (5+8j), 'Amar', 'A', 'm', 'a', 'r']"
      ]
     },
     "execution_count": 8,
     "metadata": {},
     "output_type": "execute_result"
    }
   ],
   "source": [
    "l"
   ]
  },
  {
   "cell_type": "code",
   "execution_count": null,
   "id": "fef9a6ee-226b-4da4-8a59-09c6768afd0b",
   "metadata": {},
   "outputs": [],
   "source": []
  }
 ],
 "metadata": {
  "kernelspec": {
   "display_name": "Python 3 (ipykernel)",
   "language": "python",
   "name": "python3"
  },
  "language_info": {
   "codemirror_mode": {
    "name": "ipython",
    "version": 3
   },
   "file_extension": ".py",
   "mimetype": "text/x-python",
   "name": "python",
   "nbconvert_exporter": "python",
   "pygments_lexer": "ipython3",
   "version": "3.10.8"
  }
 },
 "nbformat": 4,
 "nbformat_minor": 5
}
