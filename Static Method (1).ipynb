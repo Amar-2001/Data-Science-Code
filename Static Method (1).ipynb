{
 "cells": [
  {
   "cell_type": "code",
   "execution_count": 32,
   "id": "5dc59048-23f9-4872-aed0-0d0224317ec9",
   "metadata": {},
   "outputs": [],
   "source": [
    "# static method :  Bina object banaye only class se method aur class variable ko access karna \n",
    "# iske liye hum static method ka use karenge\n",
    "\n",
    "# yaad karo pichla class mein hum class method mein bhi bina object ke method ko call ya \n",
    "# access karte thay only variable name\n",
    "\n",
    "# # difference between class method and static method is that \n",
    "\n",
    "# 1. class method mein humko variabel bananaa padta tha aur variable se hum access kar paate thay\n",
    "# just like we access method and variable through obj\n",
    "# par difference ye ki usme hum sirf class ke naame se access karte thay toh ho jata tha \n",
    "# par ek message aata tha \" <__main__.pwskills at 0x7f31d024f8e0> \"\n",
    "#lekin static method mein koi bhi aisa message nahi aata it shows output\n",
    "\n",
    "\n",
    "# Static method ek better idea hai jab hum repeatedly use karna chahte hai method ko \n",
    "# for all the object \n",
    "\n",
    "static method ka tab use karna chahiye jab hum kisi meth\n"
   ]
  },
  {
   "cell_type": "code",
   "execution_count": 27,
   "id": "22a10eef-1f86-460b-81c9-f4d849482c02",
   "metadata": {},
   "outputs": [],
   "source": [
    "class pwskills:\n",
    "    def student_details(self,name,email,number):\n",
    "        self.name=name\n",
    "        print(self.name,email,number)"
   ]
  },
  {
   "cell_type": "code",
   "execution_count": 28,
   "id": "9d77fd92-e701-4ef2-ad5f-e6b066ff662b",
   "metadata": {},
   "outputs": [],
   "source": [
    "obj=pwskills()"
   ]
  },
  {
   "cell_type": "code",
   "execution_count": 29,
   "id": "6be6d8b8-fbff-431e-b2b8-bebe64aadafe",
   "metadata": {},
   "outputs": [
    {
     "name": "stdout",
     "output_type": "stream",
     "text": [
      "Sakshi sakshi@2002@gmail.com 9828992389\n"
     ]
    }
   ],
   "source": [
    "obj.student_details(\"Sakshi\",\"sakshi@2002@gmail.com\",9828992389)"
   ]
  },
  {
   "cell_type": "code",
   "execution_count": 25,
   "id": "45f99f6a-ec42-4d88-aec2-fc3c5b30cb7c",
   "metadata": {},
   "outputs": [],
   "source": [
    "# # doubt  if we add self.name in print in student_details function then it give error when\n",
    "# # running in obj.student_details(\"Sakshi\",\"sakshi@2002@gmail.com\",9828992389) line\n",
    "\n",
    "# # error = 'pwskills' object has no attribute 'name'\n",
    "\n",
    "# but error resolve when i did this\n",
    "\n",
    "# class pwskills:\n",
    "#     def student_details(self,name,email,number):\n",
    "#         self.name=name # error resolve by doing this and giving correct output\n",
    "#         print(self.name,email,number)"
   ]
  },
  {
   "cell_type": "code",
   "execution_count": 33,
   "id": "1218de17-28f9-4057-aff3-cf0a027bb417",
   "metadata": {},
   "outputs": [],
   "source": [
    "# ***************************************************"
   ]
  },
  {
   "cell_type": "code",
   "execution_count": 5,
   "id": "c1e20ac5-8473-4841-a89e-4f2b64df8e13",
   "metadata": {},
   "outputs": [],
   "source": [
    "# static method \n",
    "\n",
    "class pwskills1:\n",
    "    def student_details(self,name,email,number):\n",
    "        # self.name=name\n",
    "        # print(self.name,email,number)\n",
    "        print(name,email,number)\n",
    "        \n",
    "    @staticmethod # ye ek static method hai jo static rahega for all the object in a clas\n",
    "    def mentor_class_static(list_mentor): # no need to write self doubt why\n",
    "        print(list_mentor)\n",
    "        \n",
    "    def mentor_class_normal(self,list_mentor2): # ye wala function object se accessible hai\n",
    "        print(list_mentor2)       # ye(instance method) har student ke liye alag rahega "
   ]
  },
  {
   "cell_type": "code",
   "execution_count": 105,
   "id": "daedb7b4-ff31-4ba8-bf9d-d012a7a8a1f7",
   "metadata": {},
   "outputs": [
    {
     "name": "stdout",
     "output_type": "stream",
     "text": [
      "Aman aman@gmail.com 988989828\n"
     ]
    }
   ],
   "source": [
    "pwskills1.student_details('hero','Aman','aman@gmail.com',988989828)"
   ]
  },
  {
   "cell_type": "code",
   "execution_count": 61,
   "id": "c2fa9e13-47da-4e0d-a244-8121d1aed465",
   "metadata": {},
   "outputs": [],
   "source": [
    "# doubt why here 4 input as an argument means also taking self ka argument\n",
    "# but not showing self wala argument \n",
    "\n",
    "#solution \n",
    "\n",
    "# we can access student_details( which is not static function)\n",
    "# but by only after creating class not object \n",
    "\n",
    "# but still my doubt how did i accessed it and it even shows value how all except self"
   ]
  },
  {
   "cell_type": "code",
   "execution_count": 69,
   "id": "210a126e-15c7-4416-825b-9d8292fe9d4d",
   "metadata": {},
   "outputs": [
    {
     "name": "stdout",
     "output_type": "stream",
     "text": [
      "['Sudh', 'Krish Naik']\n"
     ]
    }
   ],
   "source": [
    "pwskills1.mentor_class_static([\"Sudh\",\"Krish Naik\"])"
   ]
  },
  {
   "cell_type": "code",
   "execution_count": 50,
   "id": "94f5b2ea-4c16-4e9f-9836-1f5472a6b7fd",
   "metadata": {},
   "outputs": [],
   "source": [
    "# Now *****************************************************"
   ]
  },
  {
   "cell_type": "code",
   "execution_count": 88,
   "id": "76c1006f-f7df-4f78-88d6-a978866836b4",
   "metadata": {},
   "outputs": [],
   "source": [
    "stud1=pwskills1()"
   ]
  },
  {
   "cell_type": "code",
   "execution_count": 89,
   "id": "002d405e-b49a-414b-85aa-5591b2191441",
   "metadata": {},
   "outputs": [
    {
     "name": "stdout",
     "output_type": "stream",
     "text": [
      "['Sudh', 'Krish Naik']\n"
     ]
    }
   ],
   "source": [
    "stud1.mentor_class_normal([\"Sudh\",\"Krish Naik\"]) # stud1 ke liye mentor_class_normal dusra hai"
   ]
  },
  {
   "cell_type": "code",
   "execution_count": 91,
   "id": "afe9be4b-e000-4e5c-9af7-ea62a34aeaf1",
   "metadata": {},
   "outputs": [],
   "source": [
    "stud2=pwskills1()"
   ]
  },
  {
   "cell_type": "code",
   "execution_count": 94,
   "id": "d0f22283-6954-4a7e-a992-bb0230579b57",
   "metadata": {},
   "outputs": [
    {
     "name": "stdout",
     "output_type": "stream",
     "text": [
      "['Sudh', 'Krish Naik', 'Campus X']\n"
     ]
    }
   ],
   "source": [
    "stud2.mentor_class_normal([\"Sudh\",\"Krish Naik\",\"Campus X\"])\n",
    "# stud2 ke liye mentor_class_normal dusra hai means jitni baar object banega sab ke liye \n",
    "# alag hai chahe wo stud3 ho ya stud4"
   ]
  },
  {
   "cell_type": "code",
   "execution_count": 53,
   "id": "388a2f5f-8a9c-4445-9b39-51c5d3fbb023",
   "metadata": {},
   "outputs": [],
   "source": [
    "stud3=pwskills1()"
   ]
  },
  {
   "cell_type": "code",
   "execution_count": 96,
   "id": "c08e9763-2afb-40af-a653-a02ad40af6ca",
   "metadata": {},
   "outputs": [],
   "source": [
    "stud4=pwskills1()"
   ]
  },
  {
   "cell_type": "code",
   "execution_count": 98,
   "id": "8d603401-557f-479e-8341-ef350baa36b7",
   "metadata": {},
   "outputs": [
    {
     "name": "stdout",
     "output_type": "stream",
     "text": [
      "['Ajay', 'Rohit']\n"
     ]
    }
   ],
   "source": [
    "stud4.mentor_class_static([\"Ajay\",\"Rohit\"])\n",
    "\n",
    "# doubt stud4 ek object hai wo kaise access kar paa raha mentor class static ko \n",
    "# jabki kaha gaya ki obj ke paas power hai ki wo class ke function aur variable\n",
    "# ko aceess kar sake kahi isliye toh nahi \n",
    "# par static class toh bina object ke bhi access kar sakte"
   ]
  },
  {
   "cell_type": "code",
   "execution_count": 3,
   "id": "69f87bd5-54a1-4ea9-8757-297a78fe695f",
   "metadata": {},
   "outputs": [
    {
     "name": "stdout",
     "output_type": "stream",
     "text": [
      "['Ajay', 'Rohit']\n"
     ]
    }
   ],
   "source": [
    "pwskills1.mentor_class_normal(\"Rahul\",[\"Ajay\",\"Rohit\"])\n",
    "# doubt ek extra input shuru mein dena pad raha aur wo ho jaa raha  par print nahi ho raha\n",
    "\n",
    "# # Mysolution jab hum normal function ko class se directly access karte bina object banaye\n",
    "# then may be humein ek extra argument dena hota hai jaisa ki yaha aur upar mein extra argumetn\n",
    "# diye thay self ki jagah \n",
    "# but  ye print nahi hoga extra wala"
   ]
  },
  {
   "cell_type": "code",
   "execution_count": 108,
   "id": "aac7fab5-f4e0-427c-bc68-a480373035ca",
   "metadata": {},
   "outputs": [
    {
     "name": "stdout",
     "output_type": "stream",
     "text": [
      "['Ajay', 'Rohit']\n"
     ]
    }
   ],
   "source": [
    "# but it can easily access static member\n",
    "\n",
    "pwskills1.mentor_class_static([\"Ajay\",\"Rohit\"])\n"
   ]
  },
  {
   "cell_type": "code",
   "execution_count": 1,
   "id": "32087ded-a659-4e30-9827-d9a05cd614b1",
   "metadata": {},
   "outputs": [],
   "source": [
    "# **************************************************************************************"
   ]
  },
  {
   "cell_type": "code",
   "execution_count": 27,
   "id": "a3da1856-e5cc-4226-aa66-f279b3644f34",
   "metadata": {},
   "outputs": [],
   "source": [
    "\n",
    "# class method can easily access static member\n",
    "#  static memeber can easily access another static member \n",
    "# static method \n",
    "\n",
    "class pwskills2:\n",
    "    def student_details(self,name,email,number):\n",
    "        # self.name=name\n",
    "        # print(self.name,email,number)\n",
    "        print(name,email,number)\n",
    "        \n",
    "    @staticmethod  # this static method is going to use in another static method mentor class static\n",
    "    def mentor_mail_id(mail_id):\n",
    "        print(mail_id)\n",
    "    \n",
    "    \n",
    "#     Static method can access another static method \n",
    "#     here static method mentor_mail_id is accessed by another static method mentor_class_static\n",
    "    @staticmethod # ye ek static method hai jo static rahega for all the object in a class\n",
    "    def mentor_class_static(list_mentor): # no need to write self doubt why\n",
    "        pwskills2.mentor_mail_id=(['sudh@gmail.com','krish@gmail.com'])\n",
    "        print(list_mentor)\n",
    "       \n",
    "\n",
    " #  class mehtod can also access static method \n",
    "#   mentor_class_static which is a static method accessed by class_name which is a class method\n",
    "    @classmethod\n",
    "    def class_name(cls):\n",
    "        cls.mentor_class_static([\"sudh\",'krish'])\n",
    "        \n",
    "        \n",
    "      # normal function can also access static method like here mentor_class_static is accessed  \n",
    "    def mentor_class_normal(self,list_mentor2): # ye wala function object se accessible hai\n",
    "        print(list_mentor2)       # ye(instance method) har student ke liye alag rahega \n",
    "        self.mentor_class_static([\"sourabh shukla \",'Babbar '])\n",
    "        "
   ]
  },
  {
   "cell_type": "code",
   "execution_count": 25,
   "id": "7f3f0a67-0230-460b-8d7e-072f03f772d7",
   "metadata": {},
   "outputs": [
    {
     "name": "stdout",
     "output_type": "stream",
     "text": [
      "['sudh', 'krish']\n"
     ]
    }
   ],
   "source": [
    "pwskills2.class_name()"
   ]
  },
  {
   "cell_type": "code",
   "execution_count": 22,
   "id": "a0ddea2c-5153-442a-af21-381ab2267fa7",
   "metadata": {},
   "outputs": [
    {
     "name": "stdout",
     "output_type": "stream",
     "text": [
      "['sudh', 'krish']\n"
     ]
    }
   ],
   "source": [
    "pwskills2.mentor_class_static(['sudh','krish'])# why not printing email id \n",
    " # email id shoul also print because it has accessed in mentor class static\n",
    "# sir ka print ho raha but mine not why"
   ]
  },
  {
   "cell_type": "code",
   "execution_count": 26,
   "id": "8940b2a6-ad93-4532-9942-1486790dbe5a",
   "metadata": {},
   "outputs": [
    {
     "name": "stdout",
     "output_type": "stream",
     "text": [
      "['aman', 'shraddha']\n",
      "['sourabh shukla ', 'Babbar ']\n"
     ]
    }
   ],
   "source": [
    "# now  we are trying to access mentor class normal \n",
    "# since it is a normal function so it is accessed by obj\n",
    "\n",
    "obj2=pwskills2()\n",
    "obj2.mentor_class_normal([\"aman\",\"shraddha\"])"
   ]
  },
  {
   "cell_type": "code",
   "execution_count": 31,
   "id": "656c72ad-ec1c-4747-8531-d5ef4e1a6e21",
   "metadata": {},
   "outputs": [],
   "source": [
    "# static method ko hum static method se access karne ke liye \n",
    "# class_name.func_name\n",
    " # example\n",
    "#     @classmethod\n",
    "#     def class_name(cls):\n",
    "#         cls.mentor_class_static([\"sudh\",'krish'])\n",
    "        \n",
    "    \n",
    "\n",
    "# Static method ko class method se access karne ka tarika \n",
    "# static method ke anrgument \"cls\" (ya anothter name may be) se \".\" call karte \n",
    "# # example =\n",
    "#   @classmethod\n",
    "#     def class_name(cls):\n",
    "#         cls.mentor_class_static([\"sudh\",'krish'])\n",
    "\n",
    "\n",
    "# Static method ko normal method se access karne ka tarika \n",
    "# # static method ke anrgument \"self\" (ya anothter name may be) se \".\" call karte \n",
    "# example\n",
    "#   # normal function can also access static method like here mentor_class_static is accessed  \n",
    "#     def mentor_class_normal(self,list_mentor2): # ye wala function object se accessible hai\n",
    "#         print(list_mentor2)       # ye(instance method) har student ke liye alag rahega \n",
    "#         self.mentor_class_static([\"sourabh shukla \",'Babbar '])\n",
    "        "
   ]
  },
  {
   "cell_type": "code",
   "execution_count": 32,
   "id": "7faaeb33-5059-42cf-b553-e968452d14c8",
   "metadata": {},
   "outputs": [
    {
     "ename": "SyntaxError",
     "evalue": "invalid syntax (3621660492.py, line 1)",
     "output_type": "error",
     "traceback": [
      "\u001b[0;36m  Cell \u001b[0;32mIn[32], line 1\u001b[0;36m\u001b[0m\n\u001b[0;31m    prince katiyar sir\u001b[0m\n\u001b[0m           ^\u001b[0m\n\u001b[0;31mSyntaxError\u001b[0m\u001b[0;31m:\u001b[0m invalid syntax\n"
     ]
    }
   ],
   "source": [
    "prince katiyar sir \n"
   ]
  },
  {
   "cell_type": "code",
   "execution_count": 3,
   "id": "58d160c5-8a56-46a6-8ef5-e87a356777b4",
   "metadata": {},
   "outputs": [
    {
     "data": {
      "text/plain": [
       "55"
      ]
     },
     "execution_count": 3,
     "metadata": {},
     "output_type": "execute_result"
    }
   ],
   "source": [
    "55"
   ]
  },
  {
   "cell_type": "code",
   "execution_count": null,
   "id": "97b50f44-6ad5-4993-81b1-6719c12f4e48",
   "metadata": {},
   "outputs": [],
   "source": []
  }
 ],
 "metadata": {
  "kernelspec": {
   "display_name": "Python 3 (ipykernel)",
   "language": "python",
   "name": "python3"
  },
  "language_info": {
   "codemirror_mode": {
    "name": "ipython",
    "version": 3
   },
   "file_extension": ".py",
   "mimetype": "text/x-python",
   "name": "python",
   "nbconvert_exporter": "python",
   "pygments_lexer": "ipython3",
   "version": "3.10.8"
  }
 },
 "nbformat": 4,
 "nbformat_minor": 5
}
