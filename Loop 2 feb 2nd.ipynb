{
 "cells": [
  {
   "cell_type": "code",
   "execution_count": 1,
   "id": "eaca4c86-8791-4b06-9761-4bb949e8a5ac",
   "metadata": {},
   "outputs": [],
   "source": [
    "l=[1,2,33,4,55]"
   ]
  },
  {
   "cell_type": "code",
   "execution_count": 2,
   "id": "e5f75f23-396d-4367-ac04-a692e550cb0d",
   "metadata": {},
   "outputs": [
    {
     "name": "stdout",
     "output_type": "stream",
     "text": [
      "1 <class 'int'>\n",
      "2 <class 'int'>\n",
      "33 <class 'int'>\n",
      "4 <class 'int'>\n",
      "55 <class 'int'>\n"
     ]
    }
   ],
   "source": [
    "for i in l:\n",
    "    print(i,type(i))"
   ]
  },
  {
   "cell_type": "code",
   "execution_count": 21,
   "id": "4691dc7b-ab94-44d1-a522-56c0f03496a2",
   "metadata": {},
   "outputs": [],
   "source": [
    "l1=['Amar','Kumar','Data Scientist']"
   ]
  },
  {
   "cell_type": "code",
   "execution_count": 4,
   "id": "291b39e7-0848-4ca2-8f56-f414653db347",
   "metadata": {},
   "outputs": [
    {
     "name": "stdout",
     "output_type": "stream",
     "text": [
      "Amar <class 'str'>\n",
      "Kumar <class 'str'>\n",
      "Data Scientist <class 'str'>\n"
     ]
    }
   ],
   "source": [
    "for i in l1:\n",
    "    print(i,type(i))"
   ]
  },
  {
   "cell_type": "code",
   "execution_count": 5,
   "id": "1c102692-0515-4c16-a0ad-de748884f587",
   "metadata": {},
   "outputs": [],
   "source": [
    "# for else use"
   ]
  },
  {
   "cell_type": "code",
   "execution_count": 6,
   "id": "03b85c9c-0407-48cf-8a28-83f20a8b11c7",
   "metadata": {},
   "outputs": [
    {
     "data": {
      "text/plain": [
       "['Amar', 'Kumar', 'Data Scientist']"
      ]
     },
     "execution_count": 6,
     "metadata": {},
     "output_type": "execute_result"
    }
   ],
   "source": [
    "l1"
   ]
  },
  {
   "cell_type": "code",
   "execution_count": 7,
   "id": "878ef157-05fe-4073-bfb0-2ebacd1bc14d",
   "metadata": {},
   "outputs": [
    {
     "name": "stdout",
     "output_type": "stream",
     "text": [
      "Amar\n",
      "Kumar\n",
      "Data Scientist\n",
      "Execute this if it is able to completer itself\n"
     ]
    }
   ],
   "source": [
    "for i in l1:\n",
    "    print(i)\n",
    "else:\n",
    "    print(\"Execute this if it is able to completer itself\")"
   ]
  },
  {
   "cell_type": "code",
   "execution_count": 11,
   "id": "f39d4818-4305-4676-b93a-d42608bef23b",
   "metadata": {},
   "outputs": [
    {
     "name": "stdout",
     "output_type": "stream",
     "text": [
      "Amar\n"
     ]
    }
   ],
   "source": [
    "for i in l1:\n",
    "    if i == \"Kumar\":\n",
    "        break\n",
    "    print(i)\n",
    "else:\n",
    "    print(\"Execute this if it is able to completer itself\")"
   ]
  },
  {
   "cell_type": "code",
   "execution_count": 12,
   "id": "39d5d7dd-f6c6-4300-83b4-a8f7a693cbcf",
   "metadata": {},
   "outputs": [],
   "source": [
    "# look nahi hua na print else wala line \n",
    "# because loop complete nahi chala beech mein break ho gaya"
   ]
  },
  {
   "cell_type": "code",
   "execution_count": 13,
   "id": "a08e1e40-ffd1-407b-bbcc-fb0f9c480180",
   "metadata": {},
   "outputs": [],
   "source": [
    "# continue use"
   ]
  },
  {
   "cell_type": "code",
   "execution_count": 14,
   "id": "b2680a33-e0af-45c8-9fd2-c719e1947c5e",
   "metadata": {},
   "outputs": [
    {
     "data": {
      "text/plain": [
       "['Amar', 'Kumar', 'Data Scientist']"
      ]
     },
     "execution_count": 14,
     "metadata": {},
     "output_type": "execute_result"
    }
   ],
   "source": [
    "l1"
   ]
  },
  {
   "cell_type": "code",
   "execution_count": 17,
   "id": "5d38dd71-45e5-4733-9b90-b0bccc289106",
   "metadata": {},
   "outputs": [
    {
     "name": "stdout",
     "output_type": "stream",
     "text": [
      "Amar\n",
      "Data Scientist\n"
     ]
    }
   ],
   "source": [
    "for i in l1:\n",
    "    if i == \"Kumar\":\n",
    "        continue\n",
    "    else:\n",
    "        print(i)\n",
    "    \n",
    "    "
   ]
  },
  {
   "cell_type": "code",
   "execution_count": 1,
   "id": "52251dc7-28a5-41b0-b07f-8f800a0a810f",
   "metadata": {},
   "outputs": [],
   "source": [
    "#Range"
   ]
  },
  {
   "cell_type": "code",
   "execution_count": 2,
   "id": "c0727959-1448-4324-b58a-7eba3fcd9b6c",
   "metadata": {},
   "outputs": [
    {
     "data": {
      "text/plain": [
       "range(0, 5)"
      ]
     },
     "execution_count": 2,
     "metadata": {},
     "output_type": "execute_result"
    }
   ],
   "source": [
    "range(0,5)"
   ]
  },
  {
   "cell_type": "code",
   "execution_count": 3,
   "id": "668f9a86-b57f-4f68-a8df-43fe6c42dd12",
   "metadata": {},
   "outputs": [
    {
     "name": "stdout",
     "output_type": "stream",
     "text": [
      "<class 'range'>\n"
     ]
    }
   ],
   "source": [
    "print(range)"
   ]
  },
  {
   "cell_type": "code",
   "execution_count": 5,
   "id": "42f25b97-fa7b-406c-ac61-a29aef2c3b3c",
   "metadata": {},
   "outputs": [
    {
     "name": "stdout",
     "output_type": "stream",
     "text": [
      "range(0, 5)\n"
     ]
    }
   ],
   "source": [
    "print(range(0,5))#proved print range ko print nahi kar paa raha \n",
    "                # lekin list kar dega"
   ]
  },
  {
   "cell_type": "code",
   "execution_count": 7,
   "id": "84cec82f-d0e2-4414-a43d-19b92220da5a",
   "metadata": {},
   "outputs": [
    {
     "data": {
      "text/plain": [
       "[0, 1, 2, 3, 4]"
      ]
     },
     "execution_count": 7,
     "metadata": {},
     "output_type": "execute_result"
    }
   ],
   "source": [
    "list(range(0,5))# list range ko print kar diya "
   ]
  },
  {
   "cell_type": "code",
   "execution_count": 10,
   "id": "04ce2be0-c9cb-447a-b216-08f84adb9135",
   "metadata": {},
   "outputs": [
    {
     "data": {
      "text/plain": [
       "[0, 1, 2, 3, 4, 5, 6, 7, 8, 9]"
      ]
     },
     "execution_count": 10,
     "metadata": {},
     "output_type": "execute_result"
    }
   ],
   "source": [
    "list(range(0,10,1))# 0 se 10 se ek kam tak aur 1 ka jump le kar"
   ]
  },
  {
   "cell_type": "code",
   "execution_count": 12,
   "id": "6f795049-f5da-42c0-b814-590e2635a039",
   "metadata": {},
   "outputs": [
    {
     "data": {
      "text/plain": [
       "[0, 2, 4, 6, 8, 10, 12, 14, 16, 18]"
      ]
     },
     "execution_count": 12,
     "metadata": {},
     "output_type": "execute_result"
    }
   ],
   "source": [
    "list (range(0,20,2))# 0 se 20 se ek kam tak aur 2 jump le kar"
   ]
  },
  {
   "cell_type": "code",
   "execution_count": 13,
   "id": "524b88c6-8e0e-4183-804b-69293ca67aa8",
   "metadata": {},
   "outputs": [
    {
     "data": {
      "text/plain": [
       "(0, 3, 6, 9, 12, 15, 18)"
      ]
     },
     "execution_count": 13,
     "metadata": {},
     "output_type": "execute_result"
    }
   ],
   "source": [
    "tuple(range(0,20,3))"
   ]
  },
  {
   "cell_type": "code",
   "execution_count": 14,
   "id": "1a45dc15-e6d4-423c-9fe1-4f7a7c2ec829",
   "metadata": {},
   "outputs": [
    {
     "data": {
      "text/plain": [
       "{0, 4, 8, 12, 16}"
      ]
     },
     "execution_count": 14,
     "metadata": {},
     "output_type": "execute_result"
    }
   ],
   "source": [
    "set(range(0,20,4))"
   ]
  },
  {
   "cell_type": "code",
   "execution_count": 15,
   "id": "0ce6e160-aed6-4c34-bc12-2b898080ce2f",
   "metadata": {},
   "outputs": [
    {
     "ename": "TypeError",
     "evalue": "cannot convert dictionary update sequence element #0 to a sequence",
     "output_type": "error",
     "traceback": [
      "\u001b[0;31m---------------------------------------------------------------------------\u001b[0m",
      "\u001b[0;31mTypeError\u001b[0m                                 Traceback (most recent call last)",
      "Cell \u001b[0;32mIn[15], line 1\u001b[0m\n\u001b[0;32m----> 1\u001b[0m \u001b[38;5;28;43mdict\u001b[39;49m\u001b[43m(\u001b[49m\u001b[38;5;28;43mrange\u001b[39;49m\u001b[43m(\u001b[49m\u001b[38;5;241;43m0\u001b[39;49m\u001b[43m,\u001b[49m\u001b[38;5;241;43m20\u001b[39;49m\u001b[43m,\u001b[49m\u001b[38;5;241;43m3\u001b[39;49m\u001b[43m)\u001b[49m\u001b[43m)\u001b[49m\n",
      "\u001b[0;31mTypeError\u001b[0m: cannot convert dictionary update sequence element #0 to a sequence"
     ]
    }
   ],
   "source": [
    "dict(range(0,20,3))"
   ]
  },
  {
   "cell_type": "code",
   "execution_count": 19,
   "id": "5cf3f852-b528-4f08-bd34-beef26edc5ef",
   "metadata": {},
   "outputs": [
    {
     "data": {
      "text/plain": [
       "[-10, -9, -8, -7, -6, -5, -4, -3, -2, -1]"
      ]
     },
     "execution_count": 19,
     "metadata": {},
     "output_type": "execute_result"
    }
   ],
   "source": [
    "list(range(-10,0))# -10 se 0 se ek kam yaani -1 tak \n",
    "                # by default jump 1 hota hai"
   ]
  },
  {
   "cell_type": "code",
   "execution_count": null,
   "id": "42eb14e2-5619-4075-96cd-076211c379db",
   "metadata": {},
   "outputs": [],
   "source": [
    "#***************************************"
   ]
  },
  {
   "cell_type": "code",
   "execution_count": 22,
   "id": "4ead9fed-f722-41a2-9034-a017bc6fb5f7",
   "metadata": {},
   "outputs": [
    {
     "data": {
      "text/plain": [
       "['Amar', 'Kumar', 'Data Scientist']"
      ]
     },
     "execution_count": 22,
     "metadata": {},
     "output_type": "execute_result"
    }
   ],
   "source": [
    "l1"
   ]
  },
  {
   "cell_type": "code",
   "execution_count": 24,
   "id": "49e565c0-e0d1-4e29-a1db-3fcca7d01c3a",
   "metadata": {},
   "outputs": [
    {
     "name": "stdout",
     "output_type": "stream",
     "text": [
      "Amar\n",
      "Kumar\n",
      "Data Scientist\n"
     ]
    }
   ],
   "source": [
    "for i in l1:\n",
    "    print(i)"
   ]
  },
  {
   "cell_type": "code",
   "execution_count": 25,
   "id": "f4cc07bc-9728-41ec-8964-64e9dea5bb05",
   "metadata": {},
   "outputs": [],
   "source": [
    "#or another method"
   ]
  },
  {
   "cell_type": "code",
   "execution_count": 34,
   "id": "41726b7b-b04f-42f2-83cb-314563e08555",
   "metadata": {},
   "outputs": [
    {
     "data": {
      "text/plain": [
       "['Amar', 'Kumar', 'Data Scientist']"
      ]
     },
     "execution_count": 34,
     "metadata": {},
     "output_type": "execute_result"
    }
   ],
   "source": [
    "l1"
   ]
  },
  {
   "cell_type": "code",
   "execution_count": 36,
   "id": "da2f70d8-7308-4ee3-ab5d-763f2af7471a",
   "metadata": {},
   "outputs": [
    {
     "data": {
      "text/plain": [
       "3"
      ]
     },
     "execution_count": 36,
     "metadata": {},
     "output_type": "execute_result"
    }
   ],
   "source": [
    "len(l1)"
   ]
  },
  {
   "cell_type": "code",
   "execution_count": 42,
   "id": "98be0169-7441-43f8-b75b-3a19b749cfd7",
   "metadata": {},
   "outputs": [
    {
     "data": {
      "text/plain": [
       "[0, 1, 2]"
      ]
     },
     "execution_count": 42,
     "metadata": {},
     "output_type": "execute_result"
    }
   ],
   "source": [
    "list(range(len(l1)))\n",
    "# list(range(l1))#list' object cannot be interpreted as an integer"
   ]
  },
  {
   "cell_type": "code",
   "execution_count": 40,
   "id": "90cdd4b1-8b9e-44f6-a1a2-252c5512f428",
   "metadata": {},
   "outputs": [
    {
     "name": "stdout",
     "output_type": "stream",
     "text": [
      "Amar\n",
      "Kumar\n",
      "Data Scientist\n"
     ]
    }
   ],
   "source": [
    "for i in range(len(l1)):\n",
    "    print(l1[i])\n",
    "    \n",
    "# for i in l1:\n",
    "#     print(i)\n",
    "#simple logic but i have to be advance\n"
   ]
  },
  {
   "cell_type": "code",
   "execution_count": 90,
   "id": "8bc3cbd1-1f6c-49ac-b9e0-91ec9599f9c8",
   "metadata": {},
   "outputs": [],
   "source": [
    "\n",
    "# simple method of reverse\n",
    "\n",
    "# method 1\n",
    "\n",
    "# l1.reverse()\n",
    "# output \n",
    "# ['Data Scientist', 'Kumar', 'Amar']\n",
    "\n",
    "# method 2\n",
    "\n",
    "# l1[3::-1]\n",
    "\n",
    "\n",
    "# for i in l1:\n",
    "#     print(i.reverse())\n",
    "#     #'str' object has no attribute 'reverse'\n",
    "    \n",
    "# for i in range(3,):\n",
    "#     print(l1[i])"
   ]
  },
  {
   "cell_type": "code",
   "execution_count": 83,
   "id": "8cc7c807-87be-44f5-84a0-19f8198efcd2",
   "metadata": {},
   "outputs": [],
   "source": [
    "# By loop we will try to reverse string"
   ]
  },
  {
   "cell_type": "code",
   "execution_count": 68,
   "id": "3274133d-a37d-4995-a56e-559302a5f858",
   "metadata": {},
   "outputs": [
    {
     "data": {
      "text/plain": [
       "[2, 1, 0]"
      ]
     },
     "execution_count": 68,
     "metadata": {},
     "output_type": "execute_result"
    }
   ],
   "source": [
    "list( range(len(l1)-1,-1,-1))"
   ]
  },
  {
   "cell_type": "code",
   "execution_count": 92,
   "id": "a7f97c12-7de2-4988-b5c6-5fd7754eb05d",
   "metadata": {},
   "outputs": [
    {
     "name": "stdout",
     "output_type": "stream",
     "text": [
      "Data Scientist\n",
      "Kumar\n",
      "Amar\n"
     ]
    }
   ],
   "source": [
    "for i in range(len(l1)-1,-1,-1):\n",
    "    print(l1[i])"
   ]
  },
  {
   "cell_type": "code",
   "execution_count": 96,
   "id": "7c0a78f8-d84a-486f-ad77-6ea3026fe299",
   "metadata": {},
   "outputs": [
    {
     "name": "stdout",
     "output_type": "stream",
     "text": [
      "Amar\n",
      "Kumar\n",
      "Data Scientist\n",
      "*******************\n",
      "Data Scientist\n",
      "Kumar\n",
      "Amar\n"
     ]
    }
   ],
   "source": [
    "# another method \n",
    "for i in [0,1,2]:\n",
    "    print(l1[i])\n",
    "print(\"*******************\")\n",
    "for i in [2,1,0]:\n",
    "    print(l1[i])\n"
   ]
  },
  {
   "cell_type": "code",
   "execution_count": 1,
   "id": "f7637d99-adea-4c2b-900b-79621c726de6",
   "metadata": {},
   "outputs": [],
   "source": [
    "#*******************88"
   ]
  },
  {
   "cell_type": "code",
   "execution_count": 5,
   "id": "9738a8b9-5295-4df1-9307-b569fc73a977",
   "metadata": {},
   "outputs": [],
   "source": [
    "l2=[1,23,34,343,34,334,454,643,345,11]"
   ]
  },
  {
   "cell_type": "code",
   "execution_count": 3,
   "id": "b5baa6b7-dae6-45c5-a17d-4acf755686d3",
   "metadata": {},
   "outputs": [
    {
     "data": {
      "text/plain": [
       "[0, 2, 4, 6, 8]"
      ]
     },
     "execution_count": 3,
     "metadata": {},
     "output_type": "execute_result"
    }
   ],
   "source": [
    "list(range(0,len(l2),2))"
   ]
  },
  {
   "cell_type": "code",
   "execution_count": 6,
   "id": "11166cb5-9c6f-428a-97cb-c58d24cd968b",
   "metadata": {},
   "outputs": [
    {
     "name": "stdout",
     "output_type": "stream",
     "text": [
      "1\n",
      "34\n",
      "34\n",
      "454\n",
      "345\n"
     ]
    }
   ],
   "source": [
    "for i in range(0,len(l2),2):\n",
    "    print(l2[i])"
   ]
  },
  {
   "cell_type": "code",
   "execution_count": 9,
   "id": "1009f556-710c-4d61-b07b-ebedd44e4f5f",
   "metadata": {},
   "outputs": [],
   "source": [
    "l2=set(l2)"
   ]
  },
  {
   "cell_type": "code",
   "execution_count": 10,
   "id": "e95f1811-b744-46a9-b5c0-eef3edaf08ae",
   "metadata": {},
   "outputs": [
    {
     "data": {
      "text/plain": [
       "{1, 11, 23, 34, 334, 343, 345, 454, 643}"
      ]
     },
     "execution_count": 10,
     "metadata": {},
     "output_type": "execute_result"
    }
   ],
   "source": [
    "l2"
   ]
  },
  {
   "cell_type": "code",
   "execution_count": 12,
   "id": "f5da2884-70c6-4415-8544-d9e14f726bad",
   "metadata": {},
   "outputs": [
    {
     "ename": "TypeError",
     "evalue": "'set' object is not subscriptable",
     "output_type": "error",
     "traceback": [
      "\u001b[0;31m---------------------------------------------------------------------------\u001b[0m",
      "\u001b[0;31mTypeError\u001b[0m                                 Traceback (most recent call last)",
      "Cell \u001b[0;32mIn[12], line 2\u001b[0m\n\u001b[1;32m      1\u001b[0m \u001b[38;5;28;01mfor\u001b[39;00m i \u001b[38;5;129;01min\u001b[39;00m \u001b[38;5;28mrange\u001b[39m(\u001b[38;5;241m0\u001b[39m,\u001b[38;5;28mlen\u001b[39m(l2),\u001b[38;5;241m2\u001b[39m):\n\u001b[0;32m----> 2\u001b[0m     \u001b[38;5;28mprint\u001b[39m(\u001b[43ml2\u001b[49m\u001b[43m[\u001b[49m\u001b[43mi\u001b[49m\u001b[43m]\u001b[49m)\n\u001b[1;32m      3\u001b[0m     \u001b[38;5;66;03m#'set' object is not subscriptable\u001b[39;00m\n\u001b[1;32m      4\u001b[0m     \u001b[38;5;66;03m#may set in not indexed so it is unable to print index value\u001b[39;00m\n",
      "\u001b[0;31mTypeError\u001b[0m: 'set' object is not subscriptable"
     ]
    }
   ],
   "source": [
    "for i in range(0,len(l2),2):\n",
    "    print(l2[i])\n",
    "    #'set' object is not subscriptable\n",
    "    #may set in not indexed so it is unable to print index value"
   ]
  },
  {
   "cell_type": "code",
   "execution_count": 13,
   "id": "fb2d44f1-b60f-4c72-a3aa-abedf4296d95",
   "metadata": {},
   "outputs": [
    {
     "ename": "TypeError",
     "evalue": "'set' object is not callable",
     "output_type": "error",
     "traceback": [
      "\u001b[0;31m---------------------------------------------------------------------------\u001b[0m",
      "\u001b[0;31mTypeError\u001b[0m                                 Traceback (most recent call last)",
      "Cell \u001b[0;32mIn[13], line 1\u001b[0m\n\u001b[0;32m----> 1\u001b[0m \u001b[43ml2\u001b[49m\u001b[43m(\u001b[49m\u001b[38;5;241;43m2\u001b[39;49m\u001b[43m)\u001b[49m\n",
      "\u001b[0;31mTypeError\u001b[0m: 'set' object is not callable"
     ]
    }
   ],
   "source": [
    "l2(2)#'set' object is not callable"
   ]
  },
  {
   "cell_type": "code",
   "execution_count": 14,
   "id": "95f67941-ba65-482d-8a8a-33f7bb0af5a5",
   "metadata": {},
   "outputs": [
    {
     "ename": "TypeError",
     "evalue": "'set' object is not subscriptable",
     "output_type": "error",
     "traceback": [
      "\u001b[0;31m---------------------------------------------------------------------------\u001b[0m",
      "\u001b[0;31mTypeError\u001b[0m                                 Traceback (most recent call last)",
      "Cell \u001b[0;32mIn[14], line 1\u001b[0m\n\u001b[0;32m----> 1\u001b[0m \u001b[43ml2\u001b[49m\u001b[43m[\u001b[49m\u001b[38;5;241;43m2\u001b[39;49m\u001b[43m]\u001b[49m\n",
      "\u001b[0;31mTypeError\u001b[0m: 'set' object is not subscriptable"
     ]
    }
   ],
   "source": [
    "l2[2]# 'set' object is not callable"
   ]
  },
  {
   "cell_type": "code",
   "execution_count": 15,
   "id": "91f4aff1-46df-4171-9824-441d5a7a4460",
   "metadata": {},
   "outputs": [],
   "source": [
    "#IIIIIIIIIIIIIIIIIIIIIi"
   ]
  },
  {
   "cell_type": "code",
   "execution_count": 16,
   "id": "673090e4-0f42-472b-b223-aee1f66e16b1",
   "metadata": {},
   "outputs": [],
   "source": [
    "l4=[1,23,5,22]"
   ]
  },
  {
   "cell_type": "code",
   "execution_count": 17,
   "id": "77125f4a-3210-48cc-a953-5a3981708781",
   "metadata": {},
   "outputs": [
    {
     "data": {
      "text/plain": [
       "51"
      ]
     },
     "execution_count": 17,
     "metadata": {},
     "output_type": "execute_result"
    }
   ],
   "source": [
    "sum(l4)"
   ]
  },
  {
   "cell_type": "code",
   "execution_count": 19,
   "id": "08618f3b-2b56-4520-b963-fa8a19901716",
   "metadata": {},
   "outputs": [
    {
     "name": "stdout",
     "output_type": "stream",
     "text": [
      "51\n"
     ]
    }
   ],
   "source": [
    "print(sum(l4))"
   ]
  },
  {
   "cell_type": "code",
   "execution_count": 20,
   "id": "8173d8c7-1c8d-41c7-a789-cc91682bc4f1",
   "metadata": {},
   "outputs": [
    {
     "name": "stdout",
     "output_type": "stream",
     "text": [
      "51\n"
     ]
    }
   ],
   "source": [
    "sum=0\n",
    "for i in l4:\n",
    "    sum=sum+i\n",
    "print(sum)\n",
    "    "
   ]
  },
  {
   "cell_type": "code",
   "execution_count": 21,
   "id": "3d191a52-fe19-4a61-a702-105813887842",
   "metadata": {},
   "outputs": [],
   "source": [
    "t=(13,5,3,5,3)"
   ]
  },
  {
   "cell_type": "code",
   "execution_count": 22,
   "id": "3ab51f4a-70b9-4df8-b268-125f80faa65c",
   "metadata": {},
   "outputs": [
    {
     "name": "stdout",
     "output_type": "stream",
     "text": [
      "29\n"
     ]
    }
   ],
   "source": [
    "sum=0\n",
    "for i in t:\n",
    "    sum=sum+i\n",
    "print(sum)\n",
    "    "
   ]
  },
  {
   "cell_type": "code",
   "execution_count": 28,
   "id": "baf66291-b628-4a0d-a948-6efbaa5b3b75",
   "metadata": {},
   "outputs": [],
   "source": [
    "s={1,2,3,3,4,1,5}# sum =19 but give 15 because it is set \n",
    "                 # not duplicate item count"
   ]
  },
  {
   "cell_type": "code",
   "execution_count": 27,
   "id": "971b299f-f27e-49c1-a454-1a830948f83d",
   "metadata": {},
   "outputs": [
    {
     "name": "stdout",
     "output_type": "stream",
     "text": [
      "15\n"
     ]
    }
   ],
   "source": [
    "sum=0\n",
    "for i in s:\n",
    "    sum=sum+i\n",
    "print(sum)\n",
    "    "
   ]
  },
  {
   "cell_type": "code",
   "execution_count": 31,
   "id": "fedc820f-a8db-44ee-98ef-ffde0ea4c9e9",
   "metadata": {},
   "outputs": [],
   "source": [
    "s1=\"pwskills\""
   ]
  },
  {
   "cell_type": "code",
   "execution_count": 32,
   "id": "3d2401e2-05c1-4195-898c-f620e1163066",
   "metadata": {},
   "outputs": [
    {
     "name": "stdout",
     "output_type": "stream",
     "text": [
      "p\n",
      "w\n",
      "s\n",
      "k\n",
      "i\n",
      "l\n",
      "l\n",
      "s\n"
     ]
    }
   ],
   "source": [
    "\n",
    "for i in s1:\n",
    "    print(i)\n",
    "    "
   ]
  },
  {
   "cell_type": "code",
   "execution_count": 33,
   "id": "96ce523e-e953-4cb5-a2d5-ebcc4cbd34ac",
   "metadata": {},
   "outputs": [],
   "source": [
    "# dictionary"
   ]
  },
  {
   "cell_type": "code",
   "execution_count": 34,
   "id": "1185ed09-7722-4def-a250-235efda608e6",
   "metadata": {},
   "outputs": [],
   "source": [
    "d={\"Name\":\"Amar\",\"class\":\"Data Science Masters\",\"topic\":[\"python\",\"statistics\",\"Deep Learning\",\"Machine learning\",\"Natural language processing\",\"Resume Building\",\"Interview\"]}\n",
    "                                                         "
   ]
  },
  {
   "cell_type": "code",
   "execution_count": 35,
   "id": "482d1469-fcee-47d3-af71-8c9c2ce8f16b",
   "metadata": {},
   "outputs": [
    {
     "data": {
      "text/plain": [
       "{'Name': 'Amar',\n",
       " 'class': 'Data Science Masters',\n",
       " 'topic': ['python',\n",
       "  'statistics',\n",
       "  'Deep Learning',\n",
       "  'Machine learning',\n",
       "  'Natural language processing',\n",
       "  'Resume Building',\n",
       "  'Interview']}"
      ]
     },
     "execution_count": 35,
     "metadata": {},
     "output_type": "execute_result"
    }
   ],
   "source": [
    "d"
   ]
  },
  {
   "cell_type": "code",
   "execution_count": 36,
   "id": "0f1c2f88-3e71-4d06-b23d-cd3b567705e9",
   "metadata": {},
   "outputs": [
    {
     "data": {
      "text/plain": [
       "dict_keys(['Name', 'class', 'topic'])"
      ]
     },
     "execution_count": 36,
     "metadata": {},
     "output_type": "execute_result"
    }
   ],
   "source": [
    "d.keys()"
   ]
  },
  {
   "cell_type": "code",
   "execution_count": 41,
   "id": "e16ed20b-cef9-4b96-9790-50fb80f9795e",
   "metadata": {},
   "outputs": [
    {
     "data": {
      "text/plain": [
       "'Amar'"
      ]
     },
     "execution_count": 41,
     "metadata": {},
     "output_type": "execute_result"
    }
   ],
   "source": [
    "d['Name']"
   ]
  },
  {
   "cell_type": "code",
   "execution_count": 48,
   "id": "906b1f24-10d7-404f-933a-3872ff2099fc",
   "metadata": {},
   "outputs": [
    {
     "name": "stdout",
     "output_type": "stream",
     "text": [
      "Amar\n",
      "Data Science Masters\n",
      "['python', 'statistics', 'Deep Learning', 'Machine learning', 'Natural language processing', 'Resume Building', 'Interview']\n"
     ]
    }
   ],
   "source": [
    "for i in d.keys():# d.keys yaani dictionary ke keys ke andar jaakar \n",
    "                # uske element ko print karna\n",
    "    print(d[i])\n",
    "    # print(i)# Name class topic"
   ]
  },
  {
   "cell_type": "code",
   "execution_count": 44,
   "id": "1711655e-7926-4e47-a92b-f1c3b83b1d88",
   "metadata": {},
   "outputs": [
    {
     "data": {
      "text/plain": [
       "dict_values(['Amar', 'Data Science Masters', ['python', 'statistics', 'Deep Learning', 'Machine learning', 'Natural language processing', 'Resume Building', 'Interview']])"
      ]
     },
     "execution_count": 44,
     "metadata": {},
     "output_type": "execute_result"
    }
   ],
   "source": [
    "d.values()"
   ]
  },
  {
   "cell_type": "code",
   "execution_count": 51,
   "id": "c3b16e94-8246-4f07-8965-def7a09e38e1",
   "metadata": {},
   "outputs": [
    {
     "name": "stdout",
     "output_type": "stream",
     "text": [
      "Amar\n",
      "Data Science Masters\n",
      "['python', 'statistics', 'Deep Learning', 'Machine learning', 'Natural language processing', 'Resume Building', 'Interview']\n"
     ]
    }
   ],
   "source": [
    "for i in d.values():\n",
    "    print(i)\n",
    "    # print(d[i])# error socho yaar values print ho gaya ab aur kuch raha toh nahi uske andar"
   ]
  },
  {
   "cell_type": "code",
   "execution_count": 52,
   "id": "94b49d9c-5d63-4d07-a154-852acf3d56bc",
   "metadata": {},
   "outputs": [
    {
     "data": {
      "text/plain": [
       "dict_items([('Name', 'Amar'), ('class', 'Data Science Masters'), ('topic', ['python', 'statistics', 'Deep Learning', 'Machine learning', 'Natural language processing', 'Resume Building', 'Interview'])])"
      ]
     },
     "execution_count": 52,
     "metadata": {},
     "output_type": "execute_result"
    }
   ],
   "source": [
    "d.items()"
   ]
  },
  {
   "cell_type": "code",
   "execution_count": 55,
   "id": "85de8691-d815-4ab5-b2d9-b5bcbb8d151d",
   "metadata": {},
   "outputs": [
    {
     "name": "stdout",
     "output_type": "stream",
     "text": [
      "('Name', 'Amar')\n",
      "('class', 'Data Science Masters')\n",
      "('topic', ['python', 'statistics', 'Deep Learning', 'Machine learning', 'Natural language processing', 'Resume Building', 'Interview'])\n"
     ]
    }
   ],
   "source": [
    "for i in d.items():\n",
    "    print(i)\n",
    "    # print(d[i])# error"
   ]
  },
  {
   "cell_type": "code",
   "execution_count": null,
   "id": "b89dec13-765d-4495-910e-298c78f70841",
   "metadata": {},
   "outputs": [],
   "source": []
  }
 ],
 "metadata": {
  "kernelspec": {
   "display_name": "Python 3 (ipykernel)",
   "language": "python",
   "name": "python3"
  },
  "language_info": {
   "codemirror_mode": {
    "name": "ipython",
    "version": 3
   },
   "file_extension": ".py",
   "mimetype": "text/x-python",
   "name": "python",
   "nbconvert_exporter": "python",
   "pygments_lexer": "ipython3",
   "version": "3.10.8"
  }
 },
 "nbformat": 4,
 "nbformat_minor": 5
}
