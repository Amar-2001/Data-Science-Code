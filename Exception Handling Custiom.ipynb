{
 "cells": [
  {
   "cell_type": "code",
   "execution_count": 2,
   "id": "bb649406-0c8c-4b7f-aa9a-bf2f31c28ba4",
   "metadata": {},
   "outputs": [],
   "source": [
    "# Exception ek super class hai \n",
    "\n",
    "#Exception ke andar pehle se handler diya hua hai pehle se \n",
    "# ek ek class banakar rakha hai python mein\n",
    "# error like  \n",
    "# 1. file nahi mila (file not found)\n",
    "# 2. Attribute mein koi dikkat h gaya\n",
    "# 3. Zero Division error\n",
    "# 4. Network error\n",
    "# 5. Input/Output error\n",
    "# 6. \n",
    "\n",
    "\n",
    "# but jiske class banakar python mein nahi rakha hai uske liye hum exception kaise banaye\n",
    "# Uske liye hi custom exception handling use karte hai"
   ]
  },
  {
   "cell_type": "code",
   "execution_count": 3,
   "id": "f57d1588-2ebe-4921-8213-0fe7cf5f9d5e",
   "metadata": {},
   "outputs": [
    {
     "name": "stdin",
     "output_type": "stream",
     "text": [
      "Enter your age:  -344\n"
     ]
    }
   ],
   "source": [
    "age=int(input(\"Enter your age: \"))"
   ]
  },
  {
   "cell_type": "code",
   "execution_count": 1,
   "id": "d0824301-bb74-4548-9c17-db24e5a6ae49",
   "metadata": {},
   "outputs": [],
   "source": [
    "class validateAge(Exception): # Exception class ko inherit kar raha \n",
    "                              # itna mat socho Exception kaha se aaya \n",
    "                              # Ye Exception class shuru se hai python mein \n",
    "    def __init__(self,msg):\n",
    "        self.msg=msg"
   ]
  },
  {
   "cell_type": "code",
   "execution_count": 2,
   "id": "5675f04b-104e-4e3a-b1a5-21ada106cdb0",
   "metadata": {},
   "outputs": [],
   "source": [
    "def validAge(age):\n",
    "    if age<0:\n",
    "        raise validateAge(\"Entered age is negative\")\n",
    "    elif age>200:\n",
    "        raise validateAge(\"Enter age is ver very high\")\n",
    "    else:\n",
    "        print(\"Valid Age\")"
   ]
  },
  {
   "cell_type": "code",
   "execution_count": 7,
   "id": "0c5f57f0-23a3-4817-98d9-f66ad870458a",
   "metadata": {},
   "outputs": [],
   "source": [
    "# **************************************\n",
    "# Now"
   ]
  },
  {
   "cell_type": "code",
   "execution_count": null,
   "id": "57866f87-9c81-4f90-805d-f44af945ad78",
   "metadata": {},
   "outputs": [],
   "source": [
    "try:\n",
    "    age=int(input(\"Enter the age : \"))\n",
    "    validAge(age)\n",
    "except validateAge as e:\n",
    "    print(e)"
   ]
  },
  {
   "cell_type": "code",
   "execution_count": null,
   "id": "2ea05627-1a2b-4045-9118-c412f5a7791d",
   "metadata": {},
   "outputs": [],
   "source": []
  }
 ],
 "metadata": {
  "kernelspec": {
   "display_name": "Python 3 (ipykernel)",
   "language": "python",
   "name": "python3"
  },
  "language_info": {
   "codemirror_mode": {
    "name": "ipython",
    "version": 3
   },
   "file_extension": ".py",
   "mimetype": "text/x-python",
   "name": "python",
   "nbconvert_exporter": "python",
   "pygments_lexer": "ipython3",
   "version": "3.10.8"
  }
 },
 "nbformat": 4,
 "nbformat_minor": 5
}
