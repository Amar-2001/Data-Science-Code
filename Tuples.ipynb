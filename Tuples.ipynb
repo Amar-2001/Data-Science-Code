{
 "cells": [
  {
   "cell_type": "code",
   "execution_count": 3,
   "id": "85686b83-f0e9-4561-985a-a8797dfb5c6d",
   "metadata": {},
   "outputs": [],
   "source": [
    "t=(1,55,9.22,5,44,\"Amar\",5+8j,True,False)"
   ]
  },
  {
   "cell_type": "code",
   "execution_count": 4,
   "id": "bf9dd7d4-9b17-4b6b-825c-df2e45260657",
   "metadata": {},
   "outputs": [
    {
     "data": {
      "text/plain": [
       "(1, 55, 9.22, 5, 44, 'Amar', (5+8j), True, False)"
      ]
     },
     "execution_count": 4,
     "metadata": {},
     "output_type": "execute_result"
    }
   ],
   "source": [
    "t"
   ]
  },
  {
   "cell_type": "code",
   "execution_count": 7,
   "id": "b3432056-adeb-4b43-b915-97e178849081",
   "metadata": {},
   "outputs": [],
   "source": [
    "t=(1,55,9.22,5,44,\"Amar\",5+8j,True,False,[1,2,\"Amar\",2+4j])"
   ]
  },
  {
   "cell_type": "code",
   "execution_count": 8,
   "id": "ee79cdd2-982d-4e38-917c-3494e99b0ca1",
   "metadata": {},
   "outputs": [
    {
     "data": {
      "text/plain": [
       "(1, 55, 9.22, 5, 44, 'Amar', (5+8j), True, False, [1, 2, 'Amar', (2+4j)])"
      ]
     },
     "execution_count": 8,
     "metadata": {},
     "output_type": "execute_result"
    }
   ],
   "source": [
    "t"
   ]
  },
  {
   "cell_type": "code",
   "execution_count": 10,
   "id": "de7951b6-7ae0-4302-a6c4-9769c926525d",
   "metadata": {},
   "outputs": [
    {
     "data": {
      "text/plain": [
       "tuple"
      ]
     },
     "execution_count": 10,
     "metadata": {},
     "output_type": "execute_result"
    }
   ],
   "source": [
    "type(t)"
   ]
  },
  {
   "cell_type": "code",
   "execution_count": 11,
   "id": "5d460b6c-66bd-40a6-8b20-ec9d4699d023",
   "metadata": {},
   "outputs": [
    {
     "data": {
      "text/plain": [
       "10"
      ]
     },
     "execution_count": 11,
     "metadata": {},
     "output_type": "execute_result"
    }
   ],
   "source": [
    "len(t)\n"
   ]
  },
  {
   "cell_type": "code",
   "execution_count": 13,
   "id": "4e61dcc8-7eba-4cdf-ba41-ff33485611c6",
   "metadata": {},
   "outputs": [
    {
     "data": {
      "text/plain": [
       "1"
      ]
     },
     "execution_count": 13,
     "metadata": {},
     "output_type": "execute_result"
    }
   ],
   "source": [
    "t[0]"
   ]
  },
  {
   "cell_type": "code",
   "execution_count": 14,
   "id": "84ebbde5-8242-40a0-9456-acb61ab0139a",
   "metadata": {},
   "outputs": [
    {
     "data": {
      "text/plain": [
       "[1, 2, 'Amar', (2+4j)]"
      ]
     },
     "execution_count": 14,
     "metadata": {},
     "output_type": "execute_result"
    }
   ],
   "source": [
    "t[-1]"
   ]
  },
  {
   "cell_type": "code",
   "execution_count": 15,
   "id": "4beda07e-5438-48d4-b902-71cdcea4c65f",
   "metadata": {},
   "outputs": [
    {
     "data": {
      "text/plain": [
       "([1, 2, 'Amar', (2+4j)], False, True, (5+8j), 'Amar', 44, 5, 9.22, 55, 1)"
      ]
     },
     "execution_count": 15,
     "metadata": {},
     "output_type": "execute_result"
    }
   ],
   "source": [
    "t[::-1]"
   ]
  },
  {
   "cell_type": "code",
   "execution_count": null,
   "id": "079e43f9-a2f2-4fc9-8957-d73eda5ea918",
   "metadata": {},
   "outputs": [],
   "source": [
    "#all are same as list so why are we using tuples "
   ]
  },
  {
   "cell_type": "code",
   "execution_count": null,
   "id": "ab8a0623-d0c6-4b19-8d45-3dc6ec8bde35",
   "metadata": {},
   "outputs": [],
   "source": [
    "# Because tuples do not allow assignment at their index means it is immutable"
   ]
  },
  {
   "cell_type": "code",
   "execution_count": 18,
   "id": "3bcc916a-120d-4e25-b1f5-523ce1635794",
   "metadata": {},
   "outputs": [
    {
     "ename": "TypeError",
     "evalue": "'tuple' object does not support item assignment",
     "output_type": "error",
     "traceback": [
      "\u001b[0;31m---------------------------------------------------------------------------\u001b[0m",
      "\u001b[0;31mTypeError\u001b[0m                                 Traceback (most recent call last)",
      "Cell \u001b[0;32mIn[18], line 1\u001b[0m\n\u001b[0;32m----> 1\u001b[0m \u001b[43mt\u001b[49m\u001b[43m[\u001b[49m\u001b[38;5;241;43m2\u001b[39;49m\u001b[43m]\u001b[49m\u001b[38;5;241m=\u001b[39m\u001b[38;5;124m\"\u001b[39m\u001b[38;5;124mA\u001b[39m\u001b[38;5;124m\"\u001b[39m\n",
      "\u001b[0;31mTypeError\u001b[0m: 'tuple' object does not support item assignment"
     ]
    }
   ],
   "source": [
    "t[2]=\"A\""
   ]
  },
  {
   "cell_type": "code",
   "execution_count": null,
   "id": "471b4a34-b58f-4741-baf3-3a7bb72310d2",
   "metadata": {},
   "outputs": [],
   "source": [
    "#proved tuples do not allow mutability"
   ]
  },
  {
   "cell_type": "code",
   "execution_count": 22,
   "id": "4bd991d7-3fe0-45f2-a88b-512cf3439145",
   "metadata": {},
   "outputs": [
    {
     "data": {
      "text/plain": [
       "2"
      ]
     },
     "execution_count": 22,
     "metadata": {},
     "output_type": "execute_result"
    }
   ],
   "source": [
    "t.count(1)"
   ]
  },
  {
   "cell_type": "code",
   "execution_count": 24,
   "id": "e64d8f3e-7f17-49d5-9f0d-580e3569db55",
   "metadata": {},
   "outputs": [
    {
     "data": {
      "text/plain": [
       "3"
      ]
     },
     "execution_count": 24,
     "metadata": {},
     "output_type": "execute_result"
    }
   ],
   "source": [
    "t.index(5)"
   ]
  },
  {
   "cell_type": "code",
   "execution_count": 25,
   "id": "e9391b47-1adb-4729-abdc-59d3206ce4e3",
   "metadata": {},
   "outputs": [
    {
     "data": {
      "text/plain": [
       "(1, 55, 9.22, 5, 44, 'Amar', (5+8j), True, False, [1, 2, 'Amar', (2+4j)])"
      ]
     },
     "execution_count": 25,
     "metadata": {},
     "output_type": "execute_result"
    }
   ],
   "source": [
    "t"
   ]
  },
  {
   "cell_type": "code",
   "execution_count": null,
   "id": "b689f131-034a-4b2c-8843-62d158e4f3f1",
   "metadata": {},
   "outputs": [],
   "source": []
  }
 ],
 "metadata": {
  "kernelspec": {
   "display_name": "Python 3 (ipykernel)",
   "language": "python",
   "name": "python3"
  },
  "language_info": {
   "codemirror_mode": {
    "name": "ipython",
    "version": 3
   },
   "file_extension": ".py",
   "mimetype": "text/x-python",
   "name": "python",
   "nbconvert_exporter": "python",
   "pygments_lexer": "ipython3",
   "version": "3.10.8"
  }
 },
 "nbformat": 4,
 "nbformat_minor": 5
}
