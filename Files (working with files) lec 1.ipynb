{
 "cells": [
  {
   "cell_type": "code",
   "execution_count": 20,
   "id": "ff197870-867f-4239-927d-04d740ae9e46",
   "metadata": {},
   "outputs": [],
   "source": [
    "# open is a inbuilt function which helps in creating,writing ,reading etc in files\n",
    "# to see how many function and its uses press shift+tab\n",
    "\n",
    "f=open('test.txt','w')\n"
   ]
  },
  {
   "cell_type": "code",
   "execution_count": 21,
   "id": "63bffd6a-9131-43fc-8d6a-6ea2870bf3b7",
   "metadata": {},
   "outputs": [
    {
     "data": {
      "text/plain": [
       "'/home/jovyan/work'"
      ]
     },
     "execution_count": 21,
     "metadata": {},
     "output_type": "execute_result"
    }
   ],
   "source": [
    "pwd"
   ]
  },
  {
   "cell_type": "code",
   "execution_count": 22,
   "id": "24a74015-4b6b-4c88-b4b3-ee6400660d47",
   "metadata": {},
   "outputs": [
    {
     "name": "stdout",
     "output_type": "stream",
     "text": [
      "'Abstraction,Encapsulation,Polymorphism doubt.ipynb'\n",
      "'Abstraction,Encapsulation  Try.ipynb'\n",
      " Abstraction.ipynb\n",
      "'Assignment 10  feb.ipynb'\n",
      "'Assignment 30feb .ipynb'\n",
      "'Assignment 30 jan.ipynb'\n",
      "'Assignment 6 feb .ipynb'\n",
      "'Assignment 8 feb abstraction,encapsulation.ipynb'\n",
      "'Assignment 9 feb oops.ipynb'\n",
      "'Assignment oops 7feb.ipynb'\n",
      "'Basic python Assignment 29 feb  .ipynb'\n",
      "'Class method.ipynb'\n",
      " Decorator.ipynb\n",
      " DECORATOR.ipynb\n",
      " demo.txt\n",
      " DOUBT.ipynb\n",
      " Encapsulation.ipynb\n",
      "'Files by micro solution.ipynb'\n",
      "'Files try.ipynb'\n",
      "'Files (working with files) lec 1.ipynb'\n",
      "'Function Overriding.ipynb'\n",
      " getter,setter,deleter.ipynb\n",
      " Inheritance.ipynb\n",
      "'Password valid or invalid approach assignment 7 feb qno 1.ipynb'\n",
      " Polymorphism.ipynb\n",
      "'Special magical dunders method.ipynb'\n",
      "'Static Method.ipynb'\n",
      " testNew.txt\n",
      " test.txt\n",
      "'Try Quetion.ipynb'\n"
     ]
    }
   ],
   "source": [
    "ls"
   ]
  },
  {
   "cell_type": "code",
   "execution_count": 23,
   "id": "8d77060f-4239-4b39-96fb-71f95b9ad792",
   "metadata": {},
   "outputs": [
    {
     "name": "stdout",
     "output_type": "stream",
     "text": [
      "[Errno 2] No such file or directory: 'work'\n",
      "/home/jovyan/work\n"
     ]
    }
   ],
   "source": [
    "cd work"
   ]
  },
  {
   "cell_type": "code",
   "execution_count": 5,
   "id": "4a51981c-8187-4186-86ab-9e6f811a03f1",
   "metadata": {},
   "outputs": [],
   "source": [
    "# it already changed so giving error"
   ]
  },
  {
   "cell_type": "code",
   "execution_count": 6,
   "id": "a1695f0c-6435-4c53-912c-7923a32785d6",
   "metadata": {},
   "outputs": [],
   "source": [
    "# it changed thankfully so iske liye pehle dursa directory mein jaa kar\n",
    "# files ka code create karo then cd command se work ya koi bhi directory mein change kar lo"
   ]
  },
  {
   "cell_type": "code",
   "execution_count": 24,
   "id": "924fac37-ad67-4a00-a4a7-28196fdc02c5",
   "metadata": {},
   "outputs": [
    {
     "data": {
      "text/plain": [
       "25"
      ]
     },
     "execution_count": 24,
     "metadata": {},
     "output_type": "execute_result"
    }
   ],
   "source": [
    "# Now \n",
    "\n",
    "f.write('This is my files to write')"
   ]
  },
  {
   "cell_type": "code",
   "execution_count": 25,
   "id": "2cd72e1b-6a1f-4ea0-9e9a-8d405d2e5acf",
   "metadata": {},
   "outputs": [],
   "source": [
    "# Abhi tak nahi likhaya 'This is my files to write in files code' but ab likhayega \n",
    "# f.close karne par\n",
    "\n",
    "f.close()"
   ]
  },
  {
   "cell_type": "code",
   "execution_count": 26,
   "id": "75de0e8f-9c59-40eb-93b3-0a48c73e48a8",
   "metadata": {},
   "outputs": [],
   "source": [
    "# Now again if we run in write mode it will truncate (rel\n",
    "\n",
    "f=open(\"test.txt\",'w')"
   ]
  },
  {
   "cell_type": "code",
   "execution_count": 27,
   "id": "55fcf32e-81fb-4b7e-bb53-042932e19d25",
   "metadata": {},
   "outputs": [
    {
     "data": {
      "text/plain": [
       "17"
      ]
     },
     "execution_count": 27,
     "metadata": {},
     "output_type": "execute_result"
    }
   ],
   "source": [
    "\n",
    "f.write(\"Hello I am Genius\")"
   ]
  },
  {
   "cell_type": "code",
   "execution_count": 28,
   "id": "b683b0f6-dfde-4269-afa3-4e3bbb72bd39",
   "metadata": {},
   "outputs": [],
   "source": [
    "f.close()"
   ]
  },
  {
   "cell_type": "code",
   "execution_count": 29,
   "id": "172c426b-3d18-4f6c-b02d-97d4ce0703dd",
   "metadata": {},
   "outputs": [],
   "source": [
    "f=open(\"test.txt\",'a')"
   ]
  },
  {
   "cell_type": "code",
   "execution_count": 30,
   "id": "be33a1bd-a390-46ec-9fa9-02045ff6157b",
   "metadata": {},
   "outputs": [
    {
     "data": {
      "text/plain": [
       "30"
      ]
     },
     "execution_count": 30,
     "metadata": {},
     "output_type": "execute_result"
    }
   ],
   "source": [
    "f.write(\" Apppending \\\"Hello:\\\"after that\" )"
   ]
  },
  {
   "cell_type": "code",
   "execution_count": 31,
   "id": "e1f97b69-f0f0-484a-a86f-28ee59e5692e",
   "metadata": {},
   "outputs": [],
   "source": [
    "f.close()"
   ]
  },
  {
   "cell_type": "code",
   "execution_count": 32,
   "id": "69a83c9a-3834-444a-b1e3-9353c26aaa05",
   "metadata": {},
   "outputs": [],
   "source": [
    "f=open(\"test.txt\",'a')"
   ]
  },
  {
   "cell_type": "code",
   "execution_count": 33,
   "id": "2a182d5f-6197-47a4-a5b0-6bdd97c52cb3",
   "metadata": {},
   "outputs": [
    {
     "data": {
      "text/plain": [
       "60"
      ]
     },
     "execution_count": 33,
     "metadata": {},
     "output_type": "execute_result"
    }
   ],
   "source": [
    "f.write(\" \\nI will complete Data Science and DSA By Babbar in 3 months\")"
   ]
  },
  {
   "cell_type": "code",
   "execution_count": 17,
   "id": "e0eb07e0-1f96-46fd-ae71-7ebdae40578e",
   "metadata": {},
   "outputs": [],
   "source": [
    "f.close()"
   ]
  },
  {
   "cell_type": "code",
   "execution_count": 75,
   "id": "57565bcf-5d26-4323-a6da-a243f963b392",
   "metadata": {},
   "outputs": [],
   "source": [
    "# without open file you can't read \n",
    "# piche dekho picehe (upar ) wo close ho chuka hai "
   ]
  },
  {
   "cell_type": "code",
   "execution_count": 34,
   "id": "e166c0cb-63e7-42ee-9fd9-094eca561f91",
   "metadata": {},
   "outputs": [
    {
     "ename": "UnsupportedOperation",
     "evalue": "not readable",
     "output_type": "error",
     "traceback": [
      "\u001b[0;31m---------------------------------------------------------------------------\u001b[0m",
      "\u001b[0;31mUnsupportedOperation\u001b[0m                      Traceback (most recent call last)",
      "Cell \u001b[0;32mIn[34], line 1\u001b[0m\n\u001b[0;32m----> 1\u001b[0m \u001b[43mf\u001b[49m\u001b[38;5;241;43m.\u001b[39;49m\u001b[43mread\u001b[49m\u001b[43m(\u001b[49m\u001b[43m)\u001b[49m\n",
      "\u001b[0;31mUnsupportedOperation\u001b[0m: not readable"
     ]
    }
   ],
   "source": [
    "f.read()"
   ]
  },
  {
   "cell_type": "code",
   "execution_count": 35,
   "id": "e016f47e-c8e8-44df-9404-d8a92f4c7832",
   "metadata": {},
   "outputs": [],
   "source": [
    "f=open('test.txt')"
   ]
  },
  {
   "cell_type": "code",
   "execution_count": 36,
   "id": "4d946d3d-cb57-4b32-87c2-0e28ad98cd55",
   "metadata": {},
   "outputs": [
    {
     "data": {
      "text/plain": [
       "'Hello I am Genius Apppending \"Hello:\"after that \\nI will complete Data Science and DSA By Babbar in 3 months'"
      ]
     },
     "execution_count": 36,
     "metadata": {},
     "output_type": "execute_result"
    }
   ],
   "source": [
    "f.read()"
   ]
  },
  {
   "cell_type": "code",
   "execution_count": null,
   "id": "49f3217c-df6d-4080-9eb1-fb92caecf040",
   "metadata": {},
   "outputs": [],
   "source": [
    "# save data in another variable"
   ]
  },
  {
   "cell_type": "code",
   "execution_count": 38,
   "id": "8f29ad25-0ea3-45c2-b0b4-5765ab13d6ff",
   "metadata": {},
   "outputs": [],
   "source": [
    "saveData=open('test.txt')"
   ]
  },
  {
   "cell_type": "code",
   "execution_count": 39,
   "id": "6bbe5df8-05ad-46a4-a399-fe34c953562c",
   "metadata": {},
   "outputs": [
    {
     "data": {
      "text/plain": [
       "'Hello I am Genius Apppending \"Hello:\"after that \\nI will complete Data Science and DSA By Babbar in 3 months'"
      ]
     },
     "execution_count": 39,
     "metadata": {},
     "output_type": "execute_result"
    }
   ],
   "source": [
    "saveData.read()"
   ]
  },
  {
   "cell_type": "code",
   "execution_count": null,
   "id": "2a721957-26d7-4e54-963f-9da6a2fad21b",
   "metadata": {},
   "outputs": [],
   "source": []
  },
  {
   "cell_type": "code",
   "execution_count": null,
   "id": "b12bd3fb-2a76-4b96-a024-b0db28cd5609",
   "metadata": {},
   "outputs": [],
   "source": [
    "# **********************************************************"
   ]
  },
  {
   "cell_type": "code",
   "execution_count": null,
   "id": "01b8c7ee-b2f9-46fb-a753-8e0509e28f8c",
   "metadata": {},
   "outputs": [],
   "source": [
    "# Now if want to read data line by line "
   ]
  },
  {
   "cell_type": "code",
   "execution_count": null,
   "id": "90266ce5-3bc7-4fa1-8892-9b0e946ad5c6",
   "metadata": {},
   "outputs": [],
   "source": [
    "#**********************************************************"
   ]
  },
  {
   "cell_type": "code",
   "execution_count": 40,
   "id": "af83590e-a3ac-4565-b27a-cede09dd8168",
   "metadata": {},
   "outputs": [
    {
     "data": {
      "text/plain": [
       "''"
      ]
     },
     "execution_count": 40,
     "metadata": {},
     "output_type": "execute_result"
    }
   ],
   "source": [
    "f.readline()  # it gives blank becuase pointer at last position of data\n",
    "               # // simply data ko read function already last tak read kar liya hai \n",
    "                    # jisse pointer last mein hai toh ye usiliye \" \" print kar raha "
   ]
  },
  {
   "cell_type": "code",
   "execution_count": 41,
   "id": "1ff4b7f7-47b8-491d-b983-422c8a406ee5",
   "metadata": {},
   "outputs": [
    {
     "data": {
      "text/plain": [
       "0"
      ]
     },
     "execution_count": 41,
     "metadata": {},
     "output_type": "execute_result"
    }
   ],
   "source": [
    "# So tarika kya hai\n",
    "\n",
    "f.seek(0) # ab phir se seek ki madat se pointer first position mein aa gaya \n",
    "            # now you can print data"
   ]
  },
  {
   "cell_type": "code",
   "execution_count": 42,
   "id": "bcdd6c78-c8e6-4681-8263-d30f7c425577",
   "metadata": {},
   "outputs": [
    {
     "data": {
      "text/plain": [
       "'Hello I am Genius Apppending \"Hello:\"after that \\n'"
      ]
     },
     "execution_count": 42,
     "metadata": {},
     "output_type": "execute_result"
    }
   ],
   "source": [
    "f.readline()"
   ]
  },
  {
   "cell_type": "code",
   "execution_count": 43,
   "id": "c093387c-2910-4a53-9be7-61c6632df84b",
   "metadata": {},
   "outputs": [
    {
     "data": {
      "text/plain": [
       "'I will complete Data Science and DSA By Babbar in 3 months'"
      ]
     },
     "execution_count": 43,
     "metadata": {},
     "output_type": "execute_result"
    }
   ],
   "source": [
    "f.readline() # it print because it is in next line i used '\\n' there "
   ]
  },
  {
   "cell_type": "code",
   "execution_count": 44,
   "id": "90a7625c-136e-43ec-8428-223da7c896ba",
   "metadata": {},
   "outputs": [
    {
     "data": {
      "text/plain": [
       "''"
      ]
     },
     "execution_count": 44,
     "metadata": {},
     "output_type": "execute_result"
    }
   ],
   "source": [
    "f.readline() # now finish there is no line after that \n",
    "            # cursor is already at last so not print any data"
   ]
  },
  {
   "cell_type": "code",
   "execution_count": 45,
   "id": "b101997d-9bd2-4595-a12d-786bb18cd5c4",
   "metadata": {},
   "outputs": [
    {
     "data": {
      "text/plain": [
       "10"
      ]
     },
     "execution_count": 45,
     "metadata": {},
     "output_type": "execute_result"
    }
   ],
   "source": [
    "# i  can also seeek data from any position like 10 12 anything\n",
    "# we use seek : seek se hum cursor ya pointer ko set kar sakte hai kisi bhi position par \n",
    "# Aur seek read aur readline dono par kaam karta  hai\n",
    "\n",
    "f.seek(10)"
   ]
  },
  {
   "cell_type": "code",
   "execution_count": 46,
   "id": "d2074a53-e9bb-45d6-97da-efdb19b76630",
   "metadata": {},
   "outputs": [
    {
     "data": {
      "text/plain": [
       "' Genius Apppending \"Hello:\"after that \\nI will complete Data Science and DSA By Babbar in 3 months'"
      ]
     },
     "execution_count": 46,
     "metadata": {},
     "output_type": "execute_result"
    }
   ],
   "source": [
    "f.read()"
   ]
  },
  {
   "cell_type": "code",
   "execution_count": 47,
   "id": "d85cd877-7381-4e38-ae9d-f379362bfdd3",
   "metadata": {},
   "outputs": [
    {
     "data": {
      "text/plain": [
       "10"
      ]
     },
     "execution_count": 47,
     "metadata": {},
     "output_type": "execute_result"
    }
   ],
   "source": [
    "f.seek(10) # seek dono ke liye kaam karta read aur readline both"
   ]
  },
  {
   "cell_type": "code",
   "execution_count": 48,
   "id": "fc6a5942-c5e1-4113-b736-6985ec5353c0",
   "metadata": {},
   "outputs": [
    {
     "data": {
      "text/plain": [
       "' Genius Apppending \"Hello:\"after that \\n'"
      ]
     },
     "execution_count": 48,
     "metadata": {},
     "output_type": "execute_result"
    }
   ],
   "source": [
    "f.readline()"
   ]
  },
  {
   "cell_type": "code",
   "execution_count": null,
   "id": "736a290f-541a-42c4-a534-4d4824409c75",
   "metadata": {},
   "outputs": [],
   "source": [
    "# ************************************************"
   ]
  },
  {
   "cell_type": "code",
   "execution_count": null,
   "id": "f046ff4b-96a5-4f59-bc6c-d511bf5c2f07",
   "metadata": {},
   "outputs": [],
   "source": [
    "# we can also read line by line  data by for loop "
   ]
  },
  {
   "cell_type": "code",
   "execution_count": null,
   "id": "bd1f88c9-366d-478d-a67a-fd6df237fb9c",
   "metadata": {},
   "outputs": [],
   "source": [
    "# **************************************************"
   ]
  },
  {
   "cell_type": "code",
   "execution_count": 49,
   "id": "847ccf37-7ad1-4f41-8bcf-f3b0aced79d5",
   "metadata": {},
   "outputs": [],
   "source": [
    "data1=open(\"test.txt\",'r') # in read mode \n",
    "                         # read mode mein nahi bhi kiya normal mode mein kiya \n",
    "                            # toh bhi same output"
   ]
  },
  {
   "cell_type": "code",
   "execution_count": 50,
   "id": "56acc419-d8a9-4759-90b0-704576fc1531",
   "metadata": {},
   "outputs": [
    {
     "name": "stdout",
     "output_type": "stream",
     "text": [
      "Hello I am Genius Apppending \"Hello:\"after that \n",
      "\n",
      "I will complete Data Science and DSA By Babbar in 3 months\n"
     ]
    }
   ],
   "source": [
    "for i in data1:\n",
    "    print(i)"
   ]
  },
  {
   "cell_type": "code",
   "execution_count": null,
   "id": "1143265c-bfcd-4e5a-87f9-8f571f3ca6ca",
   "metadata": {},
   "outputs": [],
   "source": [
    "# ********************************"
   ]
  },
  {
   "cell_type": "code",
   "execution_count": null,
   "id": "15873d7a-7359-400e-b3fd-787bbe4d6efa",
   "metadata": {},
   "outputs": [],
   "source": [
    "# Size of file, remove , many operation we can perform by os method"
   ]
  },
  {
   "cell_type": "code",
   "execution_count": null,
   "id": "070edb12-d278-4e10-9dcc-f19c95ee55d7",
   "metadata": {},
   "outputs": [],
   "source": [
    "################################################"
   ]
  },
  {
   "cell_type": "code",
   "execution_count": 51,
   "id": "a775379d-ae03-438d-91cf-b645e360162c",
   "metadata": {},
   "outputs": [],
   "source": [
    "import os "
   ]
  },
  {
   "cell_type": "code",
   "execution_count": 52,
   "id": "e45e0567-89e9-4bee-b077-ac121862322e",
   "metadata": {},
   "outputs": [
    {
     "data": {
      "text/plain": [
       "107"
      ]
     },
     "execution_count": 52,
     "metadata": {},
     "output_type": "execute_result"
    }
   ],
   "source": [
    "os.path.getsize('test.txt')  # corrrect"
   ]
  },
  {
   "cell_type": "code",
   "execution_count": 53,
   "id": "f291c31b-15c5-43b9-8ce5-1b18b6bd4f99",
   "metadata": {},
   "outputs": [],
   "source": [
    "# Removing or deleting files\n",
    "\n",
    "\n",
    "os.remove('test.txt') # deleted test.txt\n"
   ]
  },
  {
   "cell_type": "code",
   "execution_count": null,
   "id": "8df596bd-e549-4d74-b5e5-31d67e6062e6",
   "metadata": {},
   "outputs": [],
   "source": [
    "# again creating a new file"
   ]
  },
  {
   "cell_type": "code",
   "execution_count": 54,
   "id": "b02b19cd-5bd4-4f87-91fa-68bebdab3de9",
   "metadata": {},
   "outputs": [],
   "source": [
    "f2=open('testNew.txt','w')"
   ]
  },
  {
   "cell_type": "code",
   "execution_count": 55,
   "id": "34f00b2d-6b85-4738-9251-d075e3ab3641",
   "metadata": {},
   "outputs": [
    {
     "data": {
      "text/plain": [
       "167"
      ]
     },
     "execution_count": 55,
     "metadata": {},
     "output_type": "execute_result"
    }
   ],
   "source": [
    "f2.write('Hello I am Genius Apppending \\\"Hello:\"\\ after that I will complete Data Science and DSA By Babbar in 3 months I will complete Data Science and DSA By Babbar in 3 months')"
   ]
  },
  {
   "cell_type": "code",
   "execution_count": 57,
   "id": "8a0bb252-ec60-48c8-8d21-272dcaac4de3",
   "metadata": {},
   "outputs": [],
   "source": [
    "f2=open('testNew.txt')"
   ]
  },
  {
   "cell_type": "code",
   "execution_count": 58,
   "id": "24cc20ea-b27d-46be-8a22-30455566af88",
   "metadata": {},
   "outputs": [
    {
     "data": {
      "text/plain": [
       "'Hello I am Genius Apppending \"Hello:\"\\\\ after that I will complete Data Science and DSA By Babbar in 3 months I will complete Data Science and DSA By Babbar in 3 months'"
      ]
     },
     "execution_count": 58,
     "metadata": {},
     "output_type": "execute_result"
    }
   ],
   "source": [
    "f2.read()"
   ]
  },
  {
   "cell_type": "code",
   "execution_count": 59,
   "id": "7141d00e-a74d-4141-9147-e7c401ef5282",
   "metadata": {},
   "outputs": [
    {
     "data": {
      "text/plain": [
       "0"
      ]
     },
     "execution_count": 59,
     "metadata": {},
     "output_type": "execute_result"
    }
   ],
   "source": [
    "f2.seek(0)"
   ]
  },
  {
   "cell_type": "code",
   "execution_count": 60,
   "id": "ff2cc1d8-5646-41b7-8859-400fb2e601c7",
   "metadata": {},
   "outputs": [
    {
     "data": {
      "text/plain": [
       "'Hello I am Genius Apppending \"Hello:\"\\\\ after that I will complete Data Science and DSA By Babbar in 3 months I will complete Data Science and DSA By Babbar in 3 months'"
      ]
     },
     "execution_count": 60,
     "metadata": {},
     "output_type": "execute_result"
    }
   ],
   "source": [
    "f2.readline()"
   ]
  },
  {
   "cell_type": "code",
   "execution_count": null,
   "id": "0514b0f6-13dd-48d6-ac2d-812d52705d0b",
   "metadata": {},
   "outputs": [],
   "source": [
    "# *******************************"
   ]
  },
  {
   "cell_type": "code",
   "execution_count": null,
   "id": "2e9c22e1-224e-4f49-95b7-bcb863899216",
   "metadata": {},
   "outputs": [],
   "source": [
    "# Changing the name of file"
   ]
  },
  {
   "cell_type": "code",
   "execution_count": null,
   "id": "6f4fe21c-bb5b-4e3c-8183-d2039c87cfc5",
   "metadata": {},
   "outputs": [],
   "source": [
    "#**********************************"
   ]
  },
  {
   "cell_type": "code",
   "execution_count": 61,
   "id": "c40220e5-cadd-4cdb-abf9-deadb6671c1f",
   "metadata": {},
   "outputs": [],
   "source": [
    "os.rename(\"testNew.txt\",\"demoNew.txt\")"
   ]
  },
  {
   "cell_type": "code",
   "execution_count": 62,
   "id": "16d61d2f-cf38-4c35-a17f-624d980964fe",
   "metadata": {},
   "outputs": [],
   "source": [
    "#########################################"
   ]
  },
  {
   "cell_type": "code",
   "execution_count": 63,
   "id": "3689bc03-e64e-4c0b-bd79-81c99809d11f",
   "metadata": {},
   "outputs": [],
   "source": [
    "# copy the text file"
   ]
  },
  {
   "cell_type": "code",
   "execution_count": 64,
   "id": "181c73ec-0a2f-420a-9dac-71298fa7203d",
   "metadata": {},
   "outputs": [],
   "source": [
    "# *********************************************"
   ]
  },
  {
   "cell_type": "code",
   "execution_count": 65,
   "id": "12d4354f-5ef0-4d18-9364-ffb326a7a433",
   "metadata": {},
   "outputs": [],
   "source": [
    "import shutil"
   ]
  },
  {
   "cell_type": "code",
   "execution_count": 67,
   "id": "298d2aa0-33e7-4358-8914-3c95cc22e820",
   "metadata": {},
   "outputs": [
    {
     "data": {
      "text/plain": [
       "'copytext.txt'"
      ]
     },
     "execution_count": 67,
     "metadata": {},
     "output_type": "execute_result"
    }
   ],
   "source": [
    "shutil.copy('demoNew.txt','copytext.txt')"
   ]
  },
  {
   "cell_type": "code",
   "execution_count": 68,
   "id": "f78f15ea-f454-45f8-8196-3680cebe364f",
   "metadata": {},
   "outputs": [],
   "source": [
    "#########################"
   ]
  },
  {
   "cell_type": "code",
   "execution_count": 73,
   "id": "32b7c1a5-ae35-48ff-a247-b10bc28f3670",
   "metadata": {},
   "outputs": [],
   "source": [
    "with open('demoNew.txt','r') as amar: # amar is an elias or short form to access demoNext.txt\n",
    "    amar.read()\n",
    "    \n",
    "    #not print yet "
   ]
  },
  {
   "cell_type": "code",
   "execution_count": 74,
   "id": "466cfe65-6b15-41b9-ae2e-976092feffab",
   "metadata": {},
   "outputs": [
    {
     "name": "stdout",
     "output_type": "stream",
     "text": [
      "Hello I am Genius Apppending \"Hello:\"\\ after that I will complete Data Science and DSA By Babbar in 3 months I will complete Data Science and DSA By Babbar in 3 months\n"
     ]
    }
   ],
   "source": [
    "# To print\n",
    "\n",
    "with open('demoNew.txt' ,'r') as amar:\n",
    "    print(amar.read())"
   ]
  },
  {
   "cell_type": "code",
   "execution_count": null,
   "id": "d373da9b-623a-4906-ab3e-85488720921d",
   "metadata": {},
   "outputs": [],
   "source": []
  }
 ],
 "metadata": {
  "kernelspec": {
   "display_name": "Python 3 (ipykernel)",
   "language": "python",
   "name": "python3"
  },
  "language_info": {
   "codemirror_mode": {
    "name": "ipython",
    "version": 3
   },
   "file_extension": ".py",
   "mimetype": "text/x-python",
   "name": "python",
   "nbconvert_exporter": "python",
   "pygments_lexer": "ipython3",
   "version": "3.10.8"
  }
 },
 "nbformat": 4,
 "nbformat_minor": 5
}
