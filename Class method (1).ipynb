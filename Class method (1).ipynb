{
 "cells": [
  {
   "cell_type": "code",
   "execution_count": 24,
   "id": "142b7bb5-164b-41d6-a4fa-1bee3639b6e7",
   "metadata": {},
   "outputs": [],
   "source": [
    "# Class method : bina object ka use kiye hum call kar sakte hai kisi bhi variable aur \n",
    "# method ko aur pass bhi kar sakte hai value bina __Init__ ke use kiye method functiion ke dwara\n",
    "\n",
    "# Or  isme mein init ko overload kar rahe however in python there are no overloading concept"
   ]
  },
  {
   "cell_type": "code",
   "execution_count": 8,
   "id": "24e11b9d-d734-4962-a9de-095602892ac2",
   "metadata": {},
   "outputs": [],
   "source": [
    "#Normal\n",
    "\n",
    "class pwskills():\n",
    "    def __init__(self,name,email):\n",
    "        self.name=name\n",
    "        self.email=email\n",
    "    \n",
    "    def student_details(self):\n",
    "        print(f\"Student name ={self.name} \\n student's email = {self.email}\") "
   ]
  },
  {
   "cell_type": "code",
   "execution_count": 10,
   "id": "4e0459a7-3e6c-410d-860c-74871974a99e",
   "metadata": {},
   "outputs": [
    {
     "data": {
      "text/plain": [
       "<__main__.pwskills at 0x7f31d0449360>"
      ]
     },
     "execution_count": 10,
     "metadata": {},
     "output_type": "execute_result"
    }
   ],
   "source": [
    "pwskills(\"Rohan\",\"rohan@pw.com\") # check after using class mehtod in line 6 or starting of class method"
   ]
  },
  {
   "cell_type": "code",
   "execution_count": 15,
   "id": "dea00970-46a8-4d41-8aa1-a59ed0e0961a",
   "metadata": {},
   "outputs": [],
   "source": [
    "\n",
    "# pwskills.student_details(\"Rohan\",\"rohan@pw.com\") # check after using class mehtod in line 6 or starting of class method\n",
    "\n",
    "# gives error  pwskills.student_details() takes 1 positional argument but 2 were given\n",
    "# but ye prove kar diya ki yaha par bhi class ke paas power hai\n",
    "# class method ko access karne ka jo neeche hai class method mein dikhaya jaa raha"
   ]
  },
  {
   "cell_type": "code",
   "execution_count": null,
   "id": "acaa5c2d-cf9f-4a8d-99d4-6c0e3b99f8d9",
   "metadata": {},
   "outputs": [],
   "source": [
    "pw=pwskills(\"Rohan\",\"rohan@pw.com\")"
   ]
  },
  {
   "cell_type": "code",
   "execution_count": 7,
   "id": "9e11f7ef-30d4-4cd0-bf07-1fe6d17c1579",
   "metadata": {},
   "outputs": [
    {
     "data": {
      "text/plain": [
       "'Rohan'"
      ]
     },
     "execution_count": 7,
     "metadata": {},
     "output_type": "execute_result"
    }
   ],
   "source": [
    "pw.name"
   ]
  },
  {
   "cell_type": "code",
   "execution_count": 8,
   "id": "6bedf93c-2fb3-4c15-83be-f68c15585173",
   "metadata": {},
   "outputs": [
    {
     "data": {
      "text/plain": [
       "'rohan@pw.com'"
      ]
     },
     "execution_count": 8,
     "metadata": {},
     "output_type": "execute_result"
    }
   ],
   "source": [
    "pw.email"
   ]
  },
  {
   "cell_type": "code",
   "execution_count": 10,
   "id": "b0602a73-4437-4a22-a829-1ba74549ce91",
   "metadata": {},
   "outputs": [
    {
     "name": "stdout",
     "output_type": "stream",
     "text": [
      "Student name =Rohan \n",
      " student's email = rohan@pw.com\n"
     ]
    }
   ],
   "source": [
    "pw.student_details()"
   ]
  },
  {
   "cell_type": "code",
   "execution_count": 17,
   "id": "19ebe59b-17bb-4819-8706-e9f0214949f1",
   "metadata": {},
   "outputs": [],
   "source": [
    "# *****************************************************"
   ]
  },
  {
   "cell_type": "code",
   "execution_count": 19,
   "id": "d06bc163-2543-4f03-87f1-5d9dca06ebb8",
   "metadata": {},
   "outputs": [],
   "source": [
    "# Class method\n",
    "\n",
    "class pwskills():\n",
    "    def __init__(self,name,email):\n",
    "        self.name=name\n",
    "        self.email=email\n",
    "        \n",
    "    @classmethod # decorator inbuit in python\n",
    "    def details(cls,name,email): # cls pointer\n",
    "                    #def details function yaha init function ko overload kar raha\n",
    "        return cls(name,email)\n",
    "    \n",
    "    def student_details(self):\n",
    "        print(f\"Student name ={self.name} \\n student's email = {self.email}\") "
   ]
  },
  {
   "cell_type": "code",
   "execution_count": 20,
   "id": "57dcaf71-52ad-49fa-b148-146fd456c4af",
   "metadata": {},
   "outputs": [
    {
     "data": {
      "text/plain": [
       "<__main__.pwskills at 0x7f31d024f8e0>"
      ]
     },
     "execution_count": 20,
     "metadata": {},
     "output_type": "execute_result"
    }
   ],
   "source": [
    "pwskills.details(\"Aman\",'aman@gamil.com') \n",
    "# details class method hai isliye hum usse class pwskills se access kar sakte"
   ]
  },
  {
   "cell_type": "code",
   "execution_count": 21,
   "id": "faee04bb-4afb-48d2-ad4c-e4e0248f6fad",
   "metadata": {},
   "outputs": [],
   "source": [
    "pw1=pwskills.details(\"Aman\",'aman@gamil.com')\n",
    "# ab pwskills.details(\"Aman\",'aman@gamil.com') ko ek variable pw1 mein store kiye\n",
    "\n",
    "# Object aur variable mein ye antar\n",
    "\n",
    "# Variables : ek memory block haijisme hum bahut hi kam bahut hi single \n",
    "# or limited values hi rakh sakte hai \n",
    "\n",
    "# Object : Par object ek bahut bada memory block hai jisme hum bahut saare values \n",
    "# ko rakh sakte hai even kaha jaaye toh object mein kayi saara variable or methods(function) \n",
    "# ko bhi rakh sakte hai aur access kar sakte hai \n",
    "\n",
    "# however in oops "
   ]
  },
  {
   "cell_type": "code",
   "execution_count": 42,
   "id": "1f302d0b-db7a-4623-95a3-b0d80b1658e2",
   "metadata": {},
   "outputs": [
    {
     "data": {
      "text/plain": [
       "'Aman'"
      ]
     },
     "execution_count": 42,
     "metadata": {},
     "output_type": "execute_result"
    }
   ],
   "source": [
    "pw1.name # doubt ek variable pw1 dusra variable name ko kaise access kar paa raha"
   ]
  },
  {
   "cell_type": "code",
   "execution_count": 22,
   "id": "71ec3c11-f576-4138-8e52-a929defa6ce0",
   "metadata": {},
   "outputs": [
    {
     "data": {
      "text/plain": [
       "'aman@gamil.com'"
      ]
     },
     "execution_count": 22,
     "metadata": {},
     "output_type": "execute_result"
    }
   ],
   "source": [
    "pw1.email #doubt ek variable pw1 dusra variable name ko kaise access kar paa raha"
   ]
  },
  {
   "cell_type": "code",
   "execution_count": 23,
   "id": "11b2048c-898a-4139-8489-d3d96d49e3a1",
   "metadata": {},
   "outputs": [
    {
     "name": "stdout",
     "output_type": "stream",
     "text": [
      "Student name =Aman \n",
      " student's email = aman@gamil.com\n"
     ]
    }
   ],
   "source": [
    "pw1.student_details() #doubt ek variable pw1 ek function student_details ko kaise access kar paa raha"
   ]
  },
  {
   "cell_type": "code",
   "execution_count": null,
   "id": "a3c3b4e0-7a8f-4619-affa-bf824d20c161",
   "metadata": {},
   "outputs": [],
   "source": []
  },
  {
   "cell_type": "code",
   "execution_count": 36,
   "id": "d487f7fa-c698-4895-b96c-545ef6e3a0b8",
   "metadata": {},
   "outputs": [],
   "source": [
    "# Simple and Easy way"
   ]
  },
  {
   "cell_type": "code",
   "execution_count": 13,
   "id": "d823f429-00dc-43cd-99ac-72ab0dba5a21",
   "metadata": {},
   "outputs": [
    {
     "data": {
      "text/plain": [
       "<__main__.pwskills at 0x7fd5681fc5b0>"
      ]
     },
     "execution_count": 13,
     "metadata": {},
     "output_type": "execute_result"
    }
   ],
   "source": [
    "pwskills(\"Rohit\",\"rohit@gmail.com\")"
   ]
  },
  {
   "cell_type": "code",
   "execution_count": 14,
   "id": "451684d2-d566-4799-844b-a38b986b196d",
   "metadata": {},
   "outputs": [],
   "source": [
    "pw=pwskills(\"Rohit\",\"rohit@gmail.com\")"
   ]
  },
  {
   "cell_type": "code",
   "execution_count": 15,
   "id": "5fba1679-e9b9-458b-a706-f61f23f66ecf",
   "metadata": {},
   "outputs": [
    {
     "data": {
      "text/plain": [
       "'Rohit'"
      ]
     },
     "execution_count": 15,
     "metadata": {},
     "output_type": "execute_result"
    }
   ],
   "source": [
    "pw.name"
   ]
  },
  {
   "cell_type": "code",
   "execution_count": 16,
   "id": "46597f75-4fb0-43c4-8456-46dd7200960d",
   "metadata": {},
   "outputs": [
    {
     "data": {
      "text/plain": [
       "'rohit@gmail.com'"
      ]
     },
     "execution_count": 16,
     "metadata": {},
     "output_type": "execute_result"
    }
   ],
   "source": [
    "pw.email"
   ]
  },
  {
   "cell_type": "code",
   "execution_count": 18,
   "id": "c6fced26-e2cd-4cc8-bf68-352e384e08fa",
   "metadata": {},
   "outputs": [
    {
     "name": "stdout",
     "output_type": "stream",
     "text": [
      "Student name =Rohit \n",
      " student's email = rohit@gmail.com\n"
     ]
    }
   ],
   "source": [
    "pw.student_details()"
   ]
  },
  {
   "cell_type": "code",
   "execution_count": null,
   "id": "1860c2ee-fd86-4f31-a8b9-7103ba6a59ba",
   "metadata": {},
   "outputs": [],
   "source": []
  },
  {
   "cell_type": "code",
   "execution_count": 2,
   "id": "7bd16e93-e1da-403b-9b52-45e3c5aebfd8",
   "metadata": {},
   "outputs": [],
   "source": [
    "# sirf details se bhi ho ja raha"
   ]
  },
  {
   "cell_type": "code",
   "execution_count": 23,
   "id": "8720efde-4768-4b07-8859-b76840e9359f",
   "metadata": {},
   "outputs": [
    {
     "data": {
      "text/plain": [
       "<__main__.pwskills at 0x7fd56046a560>"
      ]
     },
     "execution_count": 23,
     "metadata": {},
     "output_type": "execute_result"
    }
   ],
   "source": [
    "pw.details('Rohan','rohan@gmail.com')"
   ]
  },
  {
   "cell_type": "code",
   "execution_count": 24,
   "id": "a1daa518-e86a-4f93-b150-4fb01911cd62",
   "metadata": {},
   "outputs": [],
   "source": [
    "pw1=pw.details('Rohan','rohan@gmail.com')"
   ]
  },
  {
   "cell_type": "code",
   "execution_count": 27,
   "id": "2cf9d0d4-b4ed-4f3f-adf5-7619e2d1b36c",
   "metadata": {},
   "outputs": [
    {
     "data": {
      "text/plain": [
       "'Rohan'"
      ]
     },
     "execution_count": 27,
     "metadata": {},
     "output_type": "execute_result"
    }
   ],
   "source": [
    "pw1.name"
   ]
  },
  {
   "cell_type": "code",
   "execution_count": 26,
   "id": "c03b1a88-2cce-4523-a0fd-b41254c6cad7",
   "metadata": {},
   "outputs": [
    {
     "data": {
      "text/plain": [
       "'rohan@gmail.com'"
      ]
     },
     "execution_count": 26,
     "metadata": {},
     "output_type": "execute_result"
    }
   ],
   "source": [
    "pw1.email"
   ]
  },
  {
   "cell_type": "code",
   "execution_count": 28,
   "id": "19258f57-ec76-43df-b7fa-754e14e1f981",
   "metadata": {},
   "outputs": [
    {
     "name": "stdout",
     "output_type": "stream",
     "text": [
      "Student name =Rohan \n",
      " student's email = rohan@gmail.com\n"
     ]
    }
   ],
   "source": [
    "pw1.student_details()"
   ]
  },
  {
   "cell_type": "code",
   "execution_count": 34,
   "id": "1eb47a6b-d653-4e16-b21d-05e3f033e5dd",
   "metadata": {},
   "outputs": [],
   "source": [
    "# Error with or without bracket"
   ]
  },
  {
   "cell_type": "code",
   "execution_count": 32,
   "id": "b7e6860e-244e-4f05-8d63-752cf4273878",
   "metadata": {},
   "outputs": [
    {
     "data": {
      "text/plain": [
       "<bound method pwskills.details of <class '__main__.pwskills'>>"
      ]
     },
     "execution_count": 32,
     "metadata": {},
     "output_type": "execute_result"
    }
   ],
   "source": [
    "pw1.details"
   ]
  },
  {
   "cell_type": "code",
   "execution_count": 33,
   "id": "d8ae7d74-2728-4e72-af17-956450b983c1",
   "metadata": {},
   "outputs": [
    {
     "ename": "TypeError",
     "evalue": "pwskills.details() missing 2 required positional arguments: 'name' and 'email'",
     "output_type": "error",
     "traceback": [
      "\u001b[0;31m---------------------------------------------------------------------------\u001b[0m",
      "\u001b[0;31mTypeError\u001b[0m                                 Traceback (most recent call last)",
      "Cell \u001b[0;32mIn[33], line 1\u001b[0m\n\u001b[0;32m----> 1\u001b[0m \u001b[43mpw1\u001b[49m\u001b[38;5;241;43m.\u001b[39;49m\u001b[43mdetails\u001b[49m\u001b[43m(\u001b[49m\u001b[43m)\u001b[49m\n",
      "\u001b[0;31mTypeError\u001b[0m: pwskills.details() missing 2 required positional arguments: 'name' and 'email'"
     ]
    }
   ],
   "source": [
    "pw1.details()"
   ]
  },
  {
   "cell_type": "code",
   "execution_count": 35,
   "id": "cb2a1b0c-4cf0-4a8a-a2c5-8c032bd9700e",
   "metadata": {},
   "outputs": [],
   "source": [
    "# error sirf sikhne ke liye tha "
   ]
  },
  {
   "cell_type": "code",
   "execution_count": 25,
   "id": "dbfc7e58-e11b-4488-a8fb-44d8ed544333",
   "metadata": {},
   "outputs": [],
   "source": [
    "# *************************************"
   ]
  },
  {
   "cell_type": "code",
   "execution_count": null,
   "id": "d5683024-93fb-4320-81ad-cdf19e1b7934",
   "metadata": {},
   "outputs": [],
   "source": []
  },
  {
   "cell_type": "code",
   "execution_count": 71,
   "id": "6d0e38c7-a7b8-4828-9dec-9a23ca43d032",
   "metadata": {},
   "outputs": [],
   "source": [
    "# Class method question 2\n",
    "\n",
    "class pwskills3():\n",
    "    \n",
    "    mobile_num=983523433 # without function num \n",
    "    # here num is basically called class variable\n",
    "    \n",
    "    def __init__(self,name,email):\n",
    "        self.name=name\n",
    "        self.email=email\n",
    "    \n",
    "    @classmethod\n",
    "    def change_num(cls,mobile): # changing here mobile num\n",
    "        pwskills3.mobile_num=mobile\n",
    "        \n",
    "    @classmethod # decorator inbuit in python\n",
    "    def details3(cls,name,email): # cls pointer\n",
    "                    #def details function yaha init function ko overload kar raha\n",
    "        return cls(name,email)\n",
    "    \n",
    "    def student_details(self):\n",
    "        print(f\"Student name ={self.name}\\n student's email = {self.email}\\n Mobile number={pwskills3.mobile_num}\") "
   ]
  },
  {
   "cell_type": "code",
   "execution_count": 47,
   "id": "c03fdae4-4ed7-449c-a37d-bee850fc7b1c",
   "metadata": {},
   "outputs": [
    {
     "data": {
      "text/plain": [
       "983523433"
      ]
     },
     "execution_count": 47,
     "metadata": {},
     "output_type": "execute_result"
    }
   ],
   "source": [
    "# we can access class variable without object\n",
    "\n",
    "pwskills3.mobile_num"
   ]
  },
  {
   "cell_type": "code",
   "execution_count": 76,
   "id": "e5a57f12-54cd-40a7-8b9d-61b74ad49c7d",
   "metadata": {},
   "outputs": [],
   "source": [
    "pwskills3.change_num(620378788)"
   ]
  },
  {
   "cell_type": "code",
   "execution_count": 77,
   "id": "845614b0-7ff2-467e-8b64-976b8059f302",
   "metadata": {},
   "outputs": [
    {
     "data": {
      "text/plain": [
       "620378788"
      ]
     },
     "execution_count": 77,
     "metadata": {},
     "output_type": "execute_result"
    }
   ],
   "source": [
    "pwskills3.mobile_num"
   ]
  },
  {
   "cell_type": "code",
   "execution_count": 69,
   "id": "2a99de17-1c76-415e-9970-dc094512c45b",
   "metadata": {},
   "outputs": [],
   "source": [
    "# We can also access it throught obj\n",
    "\n",
    "obj=pwskills3(\"Amit\",\"amit@gmail.com\")\n"
   ]
  },
  {
   "cell_type": "code",
   "execution_count": 78,
   "id": "438f167a-9cb7-4331-a836-752cf7fc5959",
   "metadata": {},
   "outputs": [
    {
     "name": "stdout",
     "output_type": "stream",
     "text": [
      "Student name =Amit\n",
      " student's email = amit@gmail.com\n",
      " Mobile number=620378788\n"
     ]
    }
   ],
   "source": [
    "obj.student_details()"
   ]
  },
  {
   "cell_type": "code",
   "execution_count": 72,
   "id": "773e9acc-6ff8-4e77-9930-b86de51786e9",
   "metadata": {},
   "outputs": [
    {
     "data": {
      "text/plain": [
       "<__main__.pwskills3 at 0x7f31af40f4c0>"
      ]
     },
     "execution_count": 72,
     "metadata": {},
     "output_type": "execute_result"
    }
   ],
   "source": [
    "# Now we can access it without object\n",
    "\n",
    "pwskills3.details3(\"rohit\",'rohit@gmail.google')"
   ]
  },
  {
   "cell_type": "code",
   "execution_count": 73,
   "id": "aa38b23a-d90d-4c62-8174-b56b771eb7d2",
   "metadata": {},
   "outputs": [],
   "source": [
    "pw3=pwskills3.details3(\"rohit\",'rohit@gmail.google') # pw3 is variable not object"
   ]
  },
  {
   "cell_type": "code",
   "execution_count": 79,
   "id": "5e426827-dde9-4c6c-8dbd-fb32173de54b",
   "metadata": {},
   "outputs": [
    {
     "name": "stdout",
     "output_type": "stream",
     "text": [
      "Student name =rohit\n",
      " student's email = rohit@gmail.google\n",
      " Mobile number=620378788\n"
     ]
    }
   ],
   "source": [
    "pw3.student_details()"
   ]
  },
  {
   "cell_type": "code",
   "execution_count": 1,
   "id": "9f03333a-b53b-4047-b916-ff8690c4c93a",
   "metadata": {},
   "outputs": [],
   "source": [
    "# ***************************************"
   ]
  },
  {
   "cell_type": "code",
   "execution_count": 2,
   "id": "c842f1f3-ca7f-4cef-9883-a63e4b3d370e",
   "metadata": {},
   "outputs": [],
   "source": [
    "# External function ko class mein kaise add kare"
   ]
  },
  {
   "cell_type": "code",
   "execution_count": 5,
   "id": "6658c254-8c1e-4b62-99c2-fb9844dc9c8b",
   "metadata": {},
   "outputs": [],
   "source": [
    "# Class method question 2\n",
    "\n",
    "class pwskills4():\n",
    "    \n",
    "    mobile_num=983523433 # without function num \n",
    "    # here num is basically called class variable\n",
    "    \n",
    "    def __init__(self,name,email):\n",
    "        self.name=name\n",
    "        self.email=email\n",
    "    \n",
    "    @classmethod\n",
    "    def change_num(cls,mobile): # changing here mobile num\n",
    "        pwskills3.mobile_num=mobile\n",
    "        \n",
    "    @classmethod # decorator inbuit in python\n",
    "    def details4(cls,name,email): # cls pointer\n",
    "                    #def details function yaha init function ko overload kar raha\n",
    "        return cls(name,email)\n",
    "    \n",
    "    def student_details(self):\n",
    "        print(f\"Student name ={self.name}\\n student's email = {self.email}\\n Mobile number={pwskills3.mobile_num}\") "
   ]
  },
  {
   "cell_type": "code",
   "execution_count": 6,
   "id": "57862cc2-ba5e-426e-a118-90277655b3f4",
   "metadata": {},
   "outputs": [],
   "source": [
    "def external_func(cls,course_name):\n",
    "    print(\"Course name = \",course_name)\n",
    "    "
   ]
  },
  {
   "cell_type": "code",
   "execution_count": 8,
   "id": "606cb955-b9b6-456a-99ce-2edda68c5064",
   "metadata": {},
   "outputs": [],
   "source": [
    "# pwskills4. #here we are unable to access external function \n",
    "# # check by tab key"
   ]
  },
  {
   "cell_type": "code",
   "execution_count": 12,
   "id": "d1439e71-6cb8-4f55-bf64-d2bea4de76cc",
   "metadata": {},
   "outputs": [],
   "source": [
    "# then how to access\n",
    "\n",
    "pwskills4.external_func= classmethod(external_func)\n"
   ]
  },
  {
   "cell_type": "code",
   "execution_count": 14,
   "id": "2e96e282-6be5-4ee4-bfae-a6c24dff9192",
   "metadata": {},
   "outputs": [
    {
     "name": "stdout",
     "output_type": "stream",
     "text": [
      "Course name =  Data Science\n"
     ]
    }
   ],
   "source": [
    "# now we can access exteranal func\n",
    "\n",
    "pwskills4.external_func(\"Data Science\")\n"
   ]
  },
  {
   "cell_type": "code",
   "execution_count": 16,
   "id": "3a34822b-0f48-4978-878a-3f808b2cfb45",
   "metadata": {},
   "outputs": [],
   "source": [
    "# one more example of external func\n",
    "\n",
    "def external_func2(dls,list_of_mentor):\n",
    "    print(list_of_mentor)\n"
   ]
  },
  {
   "cell_type": "code",
   "execution_count": 17,
   "id": "c7fff98b-d3d0-4fb1-a3f3-ff8f69eac7f7",
   "metadata": {},
   "outputs": [],
   "source": [
    "pwskills4.external_func2=classmethod(external_func2)"
   ]
  },
  {
   "cell_type": "code",
   "execution_count": 19,
   "id": "56f4f6b4-1cd0-45bf-9459-82a5e64dd6eb",
   "metadata": {},
   "outputs": [
    {
     "name": "stdout",
     "output_type": "stream",
     "text": [
      "['SUDHANSHU SIR', 'KRISH NAIK SIR']\n"
     ]
    }
   ],
   "source": [
    "pwskills4.external_func2([\"SUDHANSHU SIR\",\"KRISH NAIK SIR\"])"
   ]
  },
  {
   "cell_type": "code",
   "execution_count": 20,
   "id": "0403183b-989d-462b-ae00-e94c662cb53f",
   "metadata": {},
   "outputs": [],
   "source": [
    "# NOW WE CAN ALSO DELETE CLASS METHOD (FUNCTION OF CLASS)"
   ]
  },
  {
   "cell_type": "code",
   "execution_count": 30,
   "id": "082d1ba1-6939-4ac5-99f3-b2ea02ef1c13",
   "metadata": {},
   "outputs": [],
   "source": [
    "# Class method question 2\n",
    "\n",
    "class pwskills5():\n",
    "    \n",
    "    mobile_num=983523433 # without function num \n",
    "    # here num is basically called class variable\n",
    "    \n",
    "    def __init__(self,name,email):\n",
    "        self.name=name\n",
    "        self.email=email\n",
    "    \n",
    "    @classmethod\n",
    "    def change_num(cls,mobile): # changing here mobile num\n",
    "        pwskills3.mobile_num=mobile\n",
    "        \n",
    "    @classmethod # decorator inbuit in python\n",
    "    def details5(cls,name,email): # cls pointer\n",
    "                    #def details function yaha init function ko overload kar raha\n",
    "        return cls(name,email)\n",
    "    \n",
    "    def student_details(self):\n",
    "        print(f\"Student name ={self.name}\\n student's email = {self.email}\\n Mobile number={pwskills3.mobile_num}\") "
   ]
  },
  {
   "cell_type": "code",
   "execution_count": 33,
   "id": "485cc583-5f2c-41aa-8e10-9ca06eae0ee9",
   "metadata": {},
   "outputs": [],
   "source": [
    "del pwskills5.change_num"
   ]
  },
  {
   "cell_type": "code",
   "execution_count": 24,
   "id": "a509a358-eb05-442c-911d-ab6b68ef9495",
   "metadata": {},
   "outputs": [],
   "source": [
    "# pwskills5.  #change_num is deleted "
   ]
  },
  {
   "cell_type": "code",
   "execution_count": 32,
   "id": "bc1dd1d7-8e9b-4d35-a7d8-9260240902e4",
   "metadata": {},
   "outputs": [],
   "source": [
    "# another method to delete class method(function)\n",
    "\n",
    "delattr(pwskills5,\"details5\")\n"
   ]
  },
  {
   "cell_type": "code",
   "execution_count": 28,
   "id": "d3a1401c-fc24-459c-9b1e-ba8620788f6b",
   "metadata": {},
   "outputs": [],
   "source": [
    "# pwskills5. # details 5 is deleted"
   ]
  },
  {
   "cell_type": "code",
   "execution_count": 31,
   "id": "efca3d81-af70-438d-a305-2d7435ab24c0",
   "metadata": {},
   "outputs": [],
   "source": [
    "del pwskills5.mobile_num"
   ]
  },
  {
   "cell_type": "code",
   "execution_count": 34,
   "id": "7efef4d8-739a-4c90-998b-dfb8ad68c86b",
   "metadata": {},
   "outputs": [],
   "source": [
    "# pwskills5. # mobile number which is variable of class also deleted by this method means \n",
    "    # del keyword has power to delete both method and variable "
   ]
  },
  {
   "cell_type": "code",
   "execution_count": 35,
   "id": "3f1c789d-4b4d-4945-9175-85163d64d17d",
   "metadata": {},
   "outputs": [],
   "source": [
    "delattr(pwskills5,\"student_details\")"
   ]
  },
  {
   "cell_type": "code",
   "execution_count": 36,
   "id": "5f75bb93-a83d-4b0a-a61e-786c405444cd",
   "metadata": {},
   "outputs": [],
   "source": [
    "# pwskills5 # student_details also deleted which is not a classmethod but a normal method in class"
   ]
  },
  {
   "cell_type": "code",
   "execution_count": 38,
   "id": "faa2e600-e840-4781-b287-622ee39e9c55",
   "metadata": {},
   "outputs": [
    {
     "ename": "AttributeError",
     "evalue": "type object 'pwskills5' has no attribute 'change_num'",
     "output_type": "error",
     "traceback": [
      "\u001b[0;31m---------------------------------------------------------------------------\u001b[0m",
      "\u001b[0;31mAttributeError\u001b[0m                            Traceback (most recent call last)",
      "Cell \u001b[0;32mIn[38], line 1\u001b[0m\n\u001b[0;32m----> 1\u001b[0m \u001b[43mpwskills5\u001b[49m\u001b[38;5;241;43m.\u001b[39;49m\u001b[43mchange_num\u001b[49m(\u001b[38;5;241m9839348938\u001b[39m) \u001b[38;5;66;03m#  type object 'pwskills5' has no attribute 'change_num'\u001b[39;00m\n\u001b[1;32m      2\u001b[0m \u001b[38;5;66;03m# proved that change_num has delted\\?\u001b[39;00m\n",
      "\u001b[0;31mAttributeError\u001b[0m: type object 'pwskills5' has no attribute 'change_num'"
     ]
    }
   ],
   "source": [
    "pwskills5.change_num(9839348938) #  type object 'pwskills5' has no attribute 'change_num'\n",
    "# proved that change_num has delted\\?"
   ]
  },
  {
   "cell_type": "code",
   "execution_count": null,
   "id": "3c7e0797-76d2-4962-85b6-a2ca74a82c2c",
   "metadata": {},
   "outputs": [],
   "source": []
  }
 ],
 "metadata": {
  "kernelspec": {
   "display_name": "Python 3 (ipykernel)",
   "language": "python",
   "name": "python3"
  },
  "language_info": {
   "codemirror_mode": {
    "name": "ipython",
    "version": 3
   },
   "file_extension": ".py",
   "mimetype": "text/x-python",
   "name": "python",
   "nbconvert_exporter": "python",
   "pygments_lexer": "ipython3",
   "version": "3.10.8"
  }
 },
 "nbformat": 4,
 "nbformat_minor": 5
}
