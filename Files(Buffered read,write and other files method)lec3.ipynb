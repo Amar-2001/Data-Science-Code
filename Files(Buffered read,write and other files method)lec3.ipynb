{
 "cells": [
  {
   "cell_type": "code",
   "execution_count": 6,
   "id": "d15993a4-3ac1-486e-b274-c657db4052b9",
   "metadata": {},
   "outputs": [],
   "source": [
    "# Buffer bada files ko chunk mein read karta hai \n",
    "# By default size of buffered data = 8192"
   ]
  },
  {
   "cell_type": "code",
   "execution_count": 3,
   "id": "20a4b79c-2d8a-456a-9c4c-43202a4adfa9",
   "metadata": {},
   "outputs": [],
   "source": [
    "import io "
   ]
  },
  {
   "cell_type": "code",
   "execution_count": 4,
   "id": "2a75389c-5cc2-477a-b95e-5566abf7a2d0",
   "metadata": {},
   "outputs": [],
   "source": [
    "with open('test5.txt','wb') as f: # file ko open karo \n",
    "    file=io.BufferedWriter(f)    # then file ko buffered mode mein write karo \n",
    "    \n",
    "    # ab files ko write kare\n",
    "    file.write(b\"This is my first file\\n\")\n",
    "    file.write(b\"This is my second file\\n\")\n",
    "    file.write(b\"This is my third file\\n\") \n",
    "    #  without b error : a bytes-like object is required, not 'str'\n",
    "    \n",
    "    file.flush()"
   ]
  },
  {
   "cell_type": "code",
   "execution_count": 17,
   "id": "7dd43413-6d68-4542-8b96-72ef93889689",
   "metadata": {},
   "outputs": [],
   "source": [
    "with open('test5.txt','r') as f:\n",
    "    d=io.BufferedReader(f)\n",
    "    \n",
    "    f.read()\n",
    "    # not read without print"
   ]
  },
  {
   "cell_type": "code",
   "execution_count": 13,
   "id": "7b48ca7b-08f0-4430-a769-55844da5a377",
   "metadata": {},
   "outputs": [
    {
     "name": "stdout",
     "output_type": "stream",
     "text": [
      "This is my first file\n",
      "This is my second file\n",
      "This is my third file\n",
      "\n"
     ]
    }
   ],
   "source": [
    "with open('test5.txt','r') as f:\n",
    "    d=io.BufferedReader(f)\n",
    "    \n",
    "    print(f.read())"
   ]
  },
  {
   "cell_type": "code",
   "execution_count": 16,
   "id": "90939e7a-3c92-4f4d-819d-c02521cde7bf",
   "metadata": {},
   "outputs": [
    {
     "name": "stdout",
     "output_type": "stream",
     "text": [
      "This is my first file\n",
      "This is my second file\n",
      "This i\n"
     ]
    }
   ],
   "source": [
    "with open('test5.txt','r') as f:\n",
    "    d=io.BufferedReader(f)\n",
    "    \n",
    "    print(f.read(51))"
   ]
  },
  {
   "cell_type": "code",
   "execution_count": 18,
   "id": "969bb0ba-edfb-4cd7-b20d-9ea05ef43d9a",
   "metadata": {},
   "outputs": [],
   "source": [
    "##################################"
   ]
  },
  {
   "cell_type": "code",
   "execution_count": null,
   "id": "4449e278-a726-4b66-bcdb-34def731f193",
   "metadata": {},
   "outputs": [],
   "source": [
    "what I learnt from all json,csv,bin,buffer file\n",
    "\n",
    "# json=javascript object notation file\n",
    "# jo help karta hai server se data ko webpage mein laane mein\n",
    "# import json\n",
    "# json file create hota hai\n",
    "# data dictionary ke andar hota hai aur ek json file create hota hai \n",
    "\n",
    "# csv = comma separated value file\n",
    "# ye comma se separated hota hai \n",
    "# import csv then list ke andar list bana kar data rakhna padta hai\n",
    "# csv file create hota hai\n",
    "# ye list ka bhi list se file ko present karta hai \n",
    "\n",
    "# bin file koi bhi photos,videos,song etc binary (0,1) mein convert hokar hexadecimal \n",
    "# mein store hokar rahte hai\n",
    "# isme text file hota hai create hota hai\n",
    "\n",
    "# isme \n"
   ]
  }
 ],
 "metadata": {
  "kernelspec": {
   "display_name": "Python 3 (ipykernel)",
   "language": "python",
   "name": "python3"
  },
  "language_info": {
   "codemirror_mode": {
    "name": "ipython",
    "version": 3
   },
   "file_extension": ".py",
   "mimetype": "text/x-python",
   "name": "python",
   "nbconvert_exporter": "python",
   "pygments_lexer": "ipython3",
   "version": "3.10.8"
  }
 },
 "nbformat": 4,
 "nbformat_minor": 5
}
