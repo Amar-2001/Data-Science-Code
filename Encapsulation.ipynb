{
 "cells": [
  {
   "cell_type": "code",
   "execution_count": 128,
   "id": "b502fd74-bfc4-49cf-b988-1bde01e36ff0",
   "metadata": {},
   "outputs": [],
   "source": [
    "# Encapsulation"
   ]
  },
  {
   "cell_type": "code",
   "execution_count": 129,
   "id": "9998f201-db3e-4ca4-aac8-040874009543",
   "metadata": {},
   "outputs": [],
   "source": [
    "class test:\n",
    "    def __init__(self,a,b):\n",
    "        self.a=a\n",
    "        self.b=b\n",
    "        \n",
    "    "
   ]
  },
  {
   "cell_type": "code",
   "execution_count": 130,
   "id": "75d513e5-7d04-46ce-96b8-5abd1821d97c",
   "metadata": {},
   "outputs": [],
   "source": [
    "obj=test(23,25)#obj"
   ]
  },
  {
   "cell_type": "code",
   "execution_count": 131,
   "id": "22815600-9201-4904-a6bb-9d2d40db4212",
   "metadata": {},
   "outputs": [
    {
     "data": {
      "text/plain": [
       "23"
      ]
     },
     "execution_count": 131,
     "metadata": {},
     "output_type": "execute_result"
    }
   ],
   "source": [
    "obj.a"
   ]
  },
  {
   "cell_type": "code",
   "execution_count": 132,
   "id": "ba1cc9d3-5f67-4c0c-9ac1-9159eab3c33d",
   "metadata": {},
   "outputs": [
    {
     "data": {
      "text/plain": [
       "25"
      ]
     },
     "execution_count": 132,
     "metadata": {},
     "output_type": "execute_result"
    }
   ],
   "source": [
    "obj.b"
   ]
  },
  {
   "cell_type": "code",
   "execution_count": 133,
   "id": "717be284-a0c5-416e-ab23-a82c089c1ccf",
   "metadata": {},
   "outputs": [
    {
     "name": "stdout",
     "output_type": "stream",
     "text": [
      "23\n",
      "25\n"
     ]
    }
   ],
   "source": [
    "for i in (obj.a,obj.b):# show by loop\n",
    "    print(i)\n",
    "    "
   ]
  },
  {
   "cell_type": "code",
   "execution_count": 134,
   "id": "f251b304-1b21-4217-ad17-4d2988f5b1ce",
   "metadata": {},
   "outputs": [],
   "source": [
    "#but we can also change values"
   ]
  },
  {
   "cell_type": "code",
   "execution_count": 135,
   "id": "0ffdad7e-ab94-417e-ac56-b988935590ff",
   "metadata": {},
   "outputs": [],
   "source": [
    "obj.a=2999 #here we are changing the value of a from 23 to 2999"
   ]
  },
  {
   "cell_type": "code",
   "execution_count": 136,
   "id": "4653ae26-80e1-4fb3-bd9f-e945331cae15",
   "metadata": {},
   "outputs": [],
   "source": [
    "obj.b=239  # here we are changing the value of a from 25 to 239\n"
   ]
  },
  {
   "cell_type": "code",
   "execution_count": 137,
   "id": "3f32cf33-8586-4308-957c-36275d63eb6c",
   "metadata": {},
   "outputs": [
    {
     "data": {
      "text/plain": [
       "2999"
      ]
     },
     "execution_count": 137,
     "metadata": {},
     "output_type": "execute_result"
    }
   ],
   "source": [
    "obj.a"
   ]
  },
  {
   "cell_type": "code",
   "execution_count": 138,
   "id": "edb2cf56-b6df-4a59-b437-2fdaaa6c7e5a",
   "metadata": {},
   "outputs": [
    {
     "data": {
      "text/plain": [
       "239"
      ]
     },
     "execution_count": 138,
     "metadata": {},
     "output_type": "execute_result"
    }
   ],
   "source": [
    "obj.b"
   ]
  },
  {
   "cell_type": "code",
   "execution_count": 139,
   "id": "74ae636d-718e-489f-9f0b-47fc2586a155",
   "metadata": {},
   "outputs": [],
   "source": [
    "# But we want nobody can change that so ,\n",
    "# we encpasulation is used\n"
   ]
  },
  {
   "cell_type": "code",
   "execution_count": 140,
   "id": "07171f2a-d1fa-468b-acac-893c26f369c7",
   "metadata": {},
   "outputs": [],
   "source": [
    "class car:\n",
    "    def __init__(self,year,company,model,speed):\n",
    "        self.__year=year  #private\n",
    "        self.__company = company# private\n",
    "        self.model=model#public\n",
    "        self.speed=speed#public\n",
    "        "
   ]
  },
  {
   "cell_type": "code",
   "execution_count": 141,
   "id": "63dc5bcb-0d9b-4c6c-aa15-96418d59d983",
   "metadata": {},
   "outputs": [],
   "source": [
    "obj=car(2023,\"BMW\",\"i8\",300)"
   ]
  },
  {
   "cell_type": "code",
   "execution_count": 142,
   "id": "fb8ea4a6-25b5-44a4-a2a1-49d1bfc3eec5",
   "metadata": {},
   "outputs": [
    {
     "data": {
      "text/plain": [
       "'i8'"
      ]
     },
     "execution_count": 142,
     "metadata": {},
     "output_type": "execute_result"
    }
   ],
   "source": [
    "obj.model"
   ]
  },
  {
   "cell_type": "code",
   "execution_count": 143,
   "id": "77513c33-c373-46af-86e8-76b2d8c86211",
   "metadata": {},
   "outputs": [
    {
     "ename": "AttributeError",
     "evalue": "'car' object has no attribute 'company'",
     "output_type": "error",
     "traceback": [
      "\u001b[0;31m---------------------------------------------------------------------------\u001b[0m",
      "\u001b[0;31mAttributeError\u001b[0m                            Traceback (most recent call last)",
      "Cell \u001b[0;32mIn[143], line 1\u001b[0m\n\u001b[0;32m----> 1\u001b[0m \u001b[43mobj\u001b[49m\u001b[38;5;241;43m.\u001b[39;49m\u001b[43mcompany\u001b[49m \u001b[38;5;66;03m#we can't call because it is private\u001b[39;00m\n",
      "\u001b[0;31mAttributeError\u001b[0m: 'car' object has no attribute 'company'"
     ]
    }
   ],
   "source": [
    "obj.company #we can't call because it is private"
   ]
  },
  {
   "cell_type": "code",
   "execution_count": null,
   "id": "94b6624d-9e65-47d8-9929-00b3054c031f",
   "metadata": {},
   "outputs": [],
   "source": [
    "# To access private variable we need obj._className__variableName"
   ]
  },
  {
   "cell_type": "code",
   "execution_count": null,
   "id": "bf9e3318-9cae-4287-8f09-c432f3957478",
   "metadata": {},
   "outputs": [],
   "source": [
    "obj._car__company"
   ]
  },
  {
   "cell_type": "code",
   "execution_count": null,
   "id": "0ee3e065-cde6-4748-ac6f-ec05e135be1e",
   "metadata": {},
   "outputs": [],
   "source": [
    "obj._car__company"
   ]
  },
  {
   "cell_type": "code",
   "execution_count": null,
   "id": "98c21121-4516-43e4-bc36-a9c44eb415c8",
   "metadata": {},
   "outputs": [],
   "source": [
    "# Again\n"
   ]
  },
  {
   "cell_type": "code",
   "execution_count": null,
   "id": "58144e79-8a0d-4ef4-a681-77ebb7df840f",
   "metadata": {},
   "outputs": [],
   "source": [
    "class car:\n",
    "    def __init__(self,year,brand,model,speed):\n",
    "        self.__year=year\n",
    "        self.__brand=brand\n",
    "        self.__model=model\n",
    "        self.__speed=speed\n",
    "        "
   ]
  },
  {
   "cell_type": "code",
   "execution_count": null,
   "id": "80768c2f-4545-4d51-b254-5c4011e752ca",
   "metadata": {},
   "outputs": [],
   "source": [
    "obj=car(2023,\"Audi\",\"Q7\",150)"
   ]
  },
  {
   "cell_type": "code",
   "execution_count": null,
   "id": "737d43ff-a4c0-406a-9d46-119e8e9e00a3",
   "metadata": {},
   "outputs": [],
   "source": [
    "obj._car__year"
   ]
  },
  {
   "cell_type": "code",
   "execution_count": null,
   "id": "667ca79a-a2cb-4c4b-9530-d521ad671ef4",
   "metadata": {},
   "outputs": [],
   "source": [
    "# or if we wan to access all\n",
    "for i in obj._car: # doubt why I am not able to do it.\n",
    "    print(i)\n",
    "    "
   ]
  },
  {
   "cell_type": "code",
   "execution_count": null,
   "id": "9e5db675-09c7-4dbd-b99a-b1a59a090c2d",
   "metadata": {},
   "outputs": [],
   "source": [
    "# Set and get  value"
   ]
  },
  {
   "cell_type": "code",
   "execution_count": null,
   "id": "f7a4dade-b1ad-490e-8996-216d0a898bcc",
   "metadata": {},
   "outputs": [],
   "source": [
    "class bike:\n",
    "    def __init__(self,price,model,speed):\n",
    "        self.__price=price\n",
    "        self.__model=model\n",
    "        self.__speed=speed\n",
    "        \n",
    "        # agar humko user ko kuch dikhana hai like speed set karna aur speed dekhna etc then \n",
    "\n",
    "    def set_speed(self,speed):\n",
    "        self._speed= 0 if speed<0 else speed\n",
    "        \n",
    "    def get_speed(self):\n",
    "        return self._speed\n",
    "    \n",
    "    "
   ]
  },
  {
   "cell_type": "code",
   "execution_count": 144,
   "id": "fcf94e93-0251-495c-982a-aed715a82eed",
   "metadata": {},
   "outputs": [],
   "source": [
    "obj=bike(\"1.5 lakh\",\"Royal Enfield\",110)"
   ]
  },
  {
   "cell_type": "code",
   "execution_count": 145,
   "id": "0f85b83f-47e1-4874-9693-1feff1299a52",
   "metadata": {},
   "outputs": [],
   "source": [
    "obj.set_speed(150)"
   ]
  },
  {
   "cell_type": "code",
   "execution_count": 146,
   "id": "ec08a646-aaa3-4c05-af71-69d3433344cb",
   "metadata": {},
   "outputs": [
    {
     "data": {
      "text/plain": [
       "<bound method bike.get_speed of <__main__.bike object at 0x7ff0df666440>>"
      ]
     },
     "execution_count": 146,
     "metadata": {},
     "output_type": "execute_result"
    }
   ],
   "source": [
    "obj.get_speed # why not access"
   ]
  },
  {
   "cell_type": "code",
   "execution_count": 147,
   "id": "8b5f4c5f-9f60-414e-afd1-2f9fc8eea1f5",
   "metadata": {},
   "outputs": [
    {
     "data": {
      "text/plain": [
       "150"
      ]
     },
     "execution_count": 147,
     "metadata": {},
     "output_type": "execute_result"
    }
   ],
   "source": [
    "obj.get_speed()"
   ]
  },
  {
   "cell_type": "code",
   "execution_count": 148,
   "id": "aa79b930-90b6-4846-a5da-d97728839613",
   "metadata": {},
   "outputs": [],
   "source": [
    "# what if we assign -ve speed"
   ]
  },
  {
   "cell_type": "code",
   "execution_count": 149,
   "id": "6aeac340-7f16-422a-91b6-46d4cc52bbe3",
   "metadata": {},
   "outputs": [],
   "source": [
    "obj.set_speed(-23) # negative speed can't be possible so output 0 as we set"
   ]
  },
  {
   "cell_type": "code",
   "execution_count": 150,
   "id": "76480a5a-00be-437f-bda1-b36c58aa05c8",
   "metadata": {},
   "outputs": [
    {
     "data": {
      "text/plain": [
       "0"
      ]
     },
     "execution_count": 150,
     "metadata": {},
     "output_type": "execute_result"
    }
   ],
   "source": [
    "obj.get_speed()"
   ]
  },
  {
   "cell_type": "code",
   "execution_count": 151,
   "id": "25791f5a-5b64-404f-8174-fb20e682d7ff",
   "metadata": {},
   "outputs": [],
   "source": [
    "# Bank mini software"
   ]
  },
  {
   "cell_type": "code",
   "execution_count": 162,
   "id": "086a4f84-6e37-4155-8b1e-689bdf9bc605",
   "metadata": {},
   "outputs": [],
   "source": [
    "class Bank:\n",
    "    def __init__(self,balance):\n",
    "        self.__balance=balance # ye private hai isliye hum isko direct nahi \n",
    "                                # dekh sakte so is liiye neech ek get-balance banaye\n",
    "        \n",
    "        \n",
    "        # Below are all public memeber function and variable\n",
    "    def deposit(self,amount):\n",
    "        self.__balance=self.__balance + amount # isko hum get_balance se dekh sakte\n",
    "        \n",
    "    def withdraw(self,amount):\n",
    "        if self.__balance >= amount:\n",
    "            self.__balance = self.__balance -amount# isko hum get_balance se dekh sakte\n",
    "            return True # agar amount<=Balance then true else false\n",
    "        else:\n",
    "            return False\n",
    "            \n",
    "    def get_balance(self): # isi ki madat se dekh paa rahe balance\n",
    "        \n",
    "        return self.__balance\n",
    "                    \n",
    "    \n",
    "    \n",
    "        "
   ]
  },
  {
   "cell_type": "code",
   "execution_count": 153,
   "id": "27ab20a3-9884-4e94-b6f9-7e4e591907aa",
   "metadata": {},
   "outputs": [],
   "source": [
    "obj=Bank(5000)"
   ]
  },
  {
   "cell_type": "code",
   "execution_count": 154,
   "id": "c39a19b6-5786-4162-b344-5dcdb2067dac",
   "metadata": {},
   "outputs": [
    {
     "data": {
      "text/plain": [
       "5000"
      ]
     },
     "execution_count": 154,
     "metadata": {},
     "output_type": "execute_result"
    }
   ],
   "source": [
    "obj.get_balance()"
   ]
  },
  {
   "cell_type": "code",
   "execution_count": 155,
   "id": "392446d4-682e-4e3a-8a49-2a7a9c5d0f2b",
   "metadata": {},
   "outputs": [],
   "source": [
    "obj.deposit(500)"
   ]
  },
  {
   "cell_type": "code",
   "execution_count": 156,
   "id": "4ab80468-7c90-4cdf-b426-69672823840d",
   "metadata": {},
   "outputs": [
    {
     "data": {
      "text/plain": [
       "5500"
      ]
     },
     "execution_count": 156,
     "metadata": {},
     "output_type": "execute_result"
    }
   ],
   "source": [
    "obj.get_balance()\n"
   ]
  },
  {
   "cell_type": "code",
   "execution_count": 157,
   "id": "19871e51-218b-417d-9e2d-ec50c410e126",
   "metadata": {},
   "outputs": [
    {
     "data": {
      "text/plain": [
       "False"
      ]
     },
     "execution_count": 157,
     "metadata": {},
     "output_type": "execute_result"
    }
   ],
   "source": [
    "obj.withdraw(90000)"
   ]
  },
  {
   "cell_type": "code",
   "execution_count": 158,
   "id": "bde232e9-6695-4a53-b2e6-f14fdbd10c3a",
   "metadata": {},
   "outputs": [
    {
     "data": {
      "text/plain": [
       "5500"
      ]
     },
     "execution_count": 158,
     "metadata": {},
     "output_type": "execute_result"
    }
   ],
   "source": [
    "obj.get_balance()"
   ]
  },
  {
   "cell_type": "code",
   "execution_count": 159,
   "id": "850817c9-91ae-4c8a-9078-e4dcb36edc4a",
   "metadata": {},
   "outputs": [
    {
     "data": {
      "text/plain": [
       "True"
      ]
     },
     "execution_count": 159,
     "metadata": {},
     "output_type": "execute_result"
    }
   ],
   "source": [
    "obj.withdraw(500)"
   ]
  },
  {
   "cell_type": "code",
   "execution_count": 160,
   "id": "5ae626bc-7528-4977-8365-a15c063bf088",
   "metadata": {},
   "outputs": [
    {
     "data": {
      "text/plain": [
       "5000"
      ]
     },
     "execution_count": 160,
     "metadata": {},
     "output_type": "execute_result"
    }
   ],
   "source": [
    "obj.get_balance()\n",
    "\n"
   ]
  },
  {
   "cell_type": "code",
   "execution_count": 161,
   "id": "879dc260-9677-4c13-9f2e-187f80c32175",
   "metadata": {},
   "outputs": [
    {
     "data": {
      "text/plain": [
       "2"
      ]
     },
     "execution_count": 161,
     "metadata": {},
     "output_type": "execute_result"
    }
   ],
   "source": [
    "2"
   ]
  },
  {
   "cell_type": "code",
   "execution_count": null,
   "id": "d0be1742-455c-4569-b85b-958f8c12daf8",
   "metadata": {},
   "outputs": [],
   "source": []
  }
 ],
 "metadata": {
  "kernelspec": {
   "display_name": "Python 3 (ipykernel)",
   "language": "python",
   "name": "python3"
  },
  "language_info": {
   "codemirror_mode": {
    "name": "ipython",
    "version": 3
   },
   "file_extension": ".py",
   "mimetype": "text/x-python",
   "name": "python",
   "nbconvert_exporter": "python",
   "pygments_lexer": "ipython3",
   "version": "3.10.8"
  }
 },
 "nbformat": 4,
 "nbformat_minor": 5
}
