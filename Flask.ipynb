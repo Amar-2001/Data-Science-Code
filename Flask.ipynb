{
 "cells": [
  {
   "cell_type": "code",
   "execution_count": null,
   "id": "da8dd9f4-d628-4e89-a6f0-bb2157a47aa0",
   "metadata": {},
   "outputs": [],
   "source": [
    "# Flask ek python ki library hai jo help karta hai UPI create karne mein \n",
    "# isme hum function banate aur usse acccess karte but not through python but from the \n",
    "# outer world by the websites just like google does \n",
    "\n",
    "\n",
    "# yaha neeche jo  code hai wo code jaha likhe hai uska url copy karo app tak \n",
    "# aur last mein: 5000 add karo like https://red-librarian-ylqqo.pwskills.app:5000/ \n",
    "# You can also see it from the mobile\n",
    "\n",
    "# means humara goal achieve ho gaya  \n",
    "# jo tha ki kisi dusre device se communicate kar paana ya same code ko run kar paana \n",
    "# in a different system \n",
    "\n",
    "# this is an example of  heterogeneous APIs\n",
    "# because yaha data hum dusre device or dusre browser se le rahe output aur \n",
    "# aur jo different platform use karta ho like website use karta html,css ,js but\n",
    "# we write code in python\n",
    "\n",
    "# ye hai client server architecture ka example\n",
    "# aur ye sab only 2 function ki help se hua @app.route(\"/\") aur app.run(host=\"0.0.0.0\")\n",
    "                                                     \n"
   ]
  },
  {
   "cell_type": "code",
   "execution_count": null,
   "id": "ace847ee-ab32-4986-a2a9-0ae9cc1a1365",
   "metadata": {},
   "outputs": [],
   "source": [
    "# Here in output 200 means successfull or 404 means page not found"
   ]
  },
  {
   "cell_type": "code",
   "execution_count": 4,
   "id": "51f6556d-f147-4432-8602-559d4a4ed34e",
   "metadata": {},
   "outputs": [
    {
     "name": "stdout",
     "output_type": "stream",
     "text": [
      " * Serving Flask app '__main__'\n",
      " * Debug mode: off\n"
     ]
    },
    {
     "name": "stderr",
     "output_type": "stream",
     "text": [
      "WARNING: This is a development server. Do not use it in a production deployment. Use a production WSGI server instead.\n",
      " * Running on all addresses (0.0.0.0)\n",
      " * Running on http://127.0.0.1:5000\n",
      " * Running on http://172.18.0.4:5000\n",
      "Press CTRL+C to quit\n"
     ]
    }
   ],
   "source": [
    "from flask import Flask\n",
    "from flask import request\n",
    "\n",
    "app = Flask(__name__) # (__name__)dunder ban gaya Flask ke andar aur ek variable\n",
    "                        # ya object (app)mein store ho gaya means jo bhi Flask mein \n",
    "                        # hai wo sab app name ke variable ya object mein hai Ok\n",
    "\n",
    "@app.route(\"/\") # app jo ki ek variable / object hai jo Flask ke sare operations ko kar sakta\n",
    "#        app ko hum decorator ke bana diye aur us se hum decorate karenge\n",
    "        #  \"/\" diye jo ki client  server architecture  ko bata raha \n",
    "        #  \"/\" client agar server ke paas aayega toh wo route karega aur functions ko\n",
    "        #   access karega through route and isliye \"/ hai \" iske jagah kuch naam bhi de sake\n",
    "        #  .py mein jo likha hai wo server side ka code hai aur server kaun banyega :-\n",
    "         # Flask mein likha code \n",
    "        # aur client jitne bhi function likhe hai usko access kar payega \n",
    "\n",
    "\n",
    "def hello_world():   #ek function banaya\n",
    "    return \"<h2>Hello, Dudhanshu sir</h2>\"  # return kara diye hello world in <H1> as you write <h1> in html\n",
    "\n",
    "\n",
    "@app.route(\"/hello_world1\")\n",
    "def hello_world1():   #ek function banaya\n",
    "    return \"<h2>Hello, Sudhanshu sir</h2>\"  # return kara diye hello world in <H1> as you write <h1> in html\n",
    "\n",
    "@app.route(\"/test\")\n",
    "def test():\n",
    "    # print(\"This is my function to test for APIs\")\n",
    "    # TypeError: The view function for 'test' did not return a valid response. \n",
    "    # The function either returned None or ended without a return statement\n",
    "    a=4+5\n",
    "    return \"<h2>This is my function to test for APIs {} </h2> \".format(a)\n",
    "\n",
    "\n",
    "# To take INput first request.args.get('x')le lo aur import kar lo request ko upar\n",
    "# import request and \n",
    "# run karte waqt jaise google mein hota hai waise :- https://red-librarian-ylqqo.pwskills.app:5000/test2?x=Amar\n",
    "# means https://red-librarian-ylqqo.pwskills.app:5000/test2?x=Amar\n",
    "#  sirf last mein ?x=jo bhi likhna chate\n",
    "\n",
    "@app.route(\"/test2\")\n",
    "def test2():\n",
    "    data=request.args.get(\"x\") # request kar raha argument ko aur get kar raha (x) ko \n",
    "                             # aur usko variable  data mein rakh raha\n",
    "    return \"This is a data input from my URL {} \".format(data)\n",
    "\n",
    "@app.route(\"/hello_world12\")\n",
    "def hello_world2():   #ek function banaya\n",
    "    return \"<h2>Hello, Sudhanshu sir</h2>\"  # return kara diye hello world in <H1> as you write <h1> in html\n",
    "\n",
    "\n",
    "\n",
    "\n",
    "if __name__==\"__main__\": # kya dunder name main function mein hai \n",
    "    app.run(host=\"0.0.0.0\") # agar ha toh run kara do aur uska ip address hai 0.0.0.0\n",
    "\n",
    "# **************************************************\n",
    "    # output :-\u001b[31m\u001b[1mWARNING: This is a development server.\n",
    "    #  Do not use it in a production deployment. Use a production WSGI server \n",
    "    # instead.\u001b[0m\n",
    "#  * Running on all addresses (0.0.0.0)\n",
    "#  * Running on http://127.0.0.1:5000\n",
    "#  * Running on http://172.18.0.17:5000\n",
    "# ***********************************************************\n",
    "\n",
    "\n",
    "\n",
    "# Flask ek python ki library hai jo help karta hai UPI create karne mein \n",
    "# isme hum function banate aur usse acccess karte but not through python but from the \n",
    "# outer world by the websites just like google does \n",
    "\n",
    "\n",
    "# yaha neeche jo  code hai wo code jaha likhe hai uska url copy karo app tak \n",
    "# aur last mein: 5000 add karo like https://red-librarian-ylqqo.pwskills.app:5000/ \n",
    "# You can also see it from the mobile\n",
    "\n",
    "# means humara goal achieve ho gaya  \n",
    "# jo tha ki kisi dusre device se communicate kar paana ya same code ko run kar paana \n",
    "# in a different system \n",
    "\n",
    "# this is an example of  heterogeneous APIs\n",
    "# because yaha data hum dusre device or dusre browser se le rahe output aur \n",
    "# aur jo different platform use karta ho like website use karta html,css ,js but\n",
    "# we write code in python\n",
    "\n",
    "# ye hai client server architecture ka example\n",
    "# aur ye sab only 2 function ki help se hua @app.route(\"/\") aur app.run(host=\"0.0.0.0\")\n",
    "                                                     \n",
    "\n",
    "\n",
    "# Here in output 200 means successfull or 404 means page not found\n",
    "\n",
    "# Hum yaha \n",
    "# https://red-librarian-ylqqo.pwskills.app:5000/test2?x=World%27s%20richest%20man%20Amar\n",
    "# ye jo link hai wo protocol hai jo APIs hai\n",
    "# iske madat se hum APIs se connect ho sakte kisi bhi system mein kisi bhi browser mein\n",
    "# kisi bhi  programming language dwara issey call kar sakte no matter Apis ka code python\n",
    "# mein hai but usse java se call kar sakte ya koi bhi any other programming languge se\n",
    "# So thank You Guys Have a nice learning journey\n",
    "# Try More questions on these"
   ]
  },
  {
   "cell_type": "code",
   "execution_count": 2,
   "id": "5005d2e1-7e54-4adf-b636-895a17bbcc28",
   "metadata": {},
   "outputs": [
    {
     "name": "stdout",
     "output_type": "stream",
     "text": [
      "Collecting flask\n",
      "  Downloading flask-3.0.0-py3-none-any.whl (99 kB)\n",
      "\u001b[2K     \u001b[90m━━━━━━━━━━━━━━━━━━━━━━━━━━━━━━━━━━━━━━━━\u001b[0m \u001b[32m99.7/99.7 kB\u001b[0m \u001b[31m11.8 MB/s\u001b[0m eta \u001b[36m0:00:00\u001b[0m\n",
      "\u001b[?25hRequirement already satisfied: click>=8.1.3 in /opt/conda/lib/python3.10/site-packages (from flask) (8.1.3)\n",
      "Collecting blinker>=1.6.2\n",
      "  Downloading blinker-1.6.2-py3-none-any.whl (13 kB)\n",
      "Collecting Werkzeug>=3.0.0\n",
      "  Downloading werkzeug-3.0.0-py3-none-any.whl (226 kB)\n",
      "\u001b[2K     \u001b[90m━━━━━━━━━━━━━━━━━━━━━━━━━━━━━━━━━━━━━━\u001b[0m \u001b[32m226.6/226.6 kB\u001b[0m \u001b[31m32.9 MB/s\u001b[0m eta \u001b[36m0:00:00\u001b[0m\n",
      "\u001b[?25hRequirement already satisfied: Jinja2>=3.1.2 in /opt/conda/lib/python3.10/site-packages (from flask) (3.1.2)\n",
      "Collecting itsdangerous>=2.1.2\n",
      "  Downloading itsdangerous-2.1.2-py3-none-any.whl (15 kB)\n",
      "Requirement already satisfied: MarkupSafe>=2.0 in /opt/conda/lib/python3.10/site-packages (from Jinja2>=3.1.2->flask) (2.1.1)\n",
      "Installing collected packages: Werkzeug, itsdangerous, blinker, flask\n",
      "  Attempting uninstall: blinker\n",
      "    Found existing installation: blinker 1.5\n",
      "    Uninstalling blinker-1.5:\n",
      "      Successfully uninstalled blinker-1.5\n",
      "Successfully installed Werkzeug-3.0.0 blinker-1.6.2 flask-3.0.0 itsdangerous-2.1.2\n",
      "Note: you may need to restart the kernel to use updated packages.\n"
     ]
    }
   ],
   "source": [
    "pip install flask\n"
   ]
  },
  {
   "cell_type": "code",
   "execution_count": 5,
   "id": "1c9cb2bb-45be-4287-892e-f6d03898b88d",
   "metadata": {},
   "outputs": [
    {
     "name": "stdout",
     "output_type": "stream",
     "text": [
      " * Serving Flask app '__main__'\n",
      " * Debug mode: off\n"
     ]
    },
    {
     "name": "stderr",
     "output_type": "stream",
     "text": [
      "WARNING: This is a development server. Do not use it in a production deployment. Use a production WSGI server instead.\n",
      " * Running on all addresses (0.0.0.0)\n",
      " * Running on http://127.0.0.1:5000\n",
      " * Running on http://172.18.0.4:5000\n",
      "Press CTRL+C to quit\n"
     ]
    }
   ],
   "source": [
    "from flask import Flask\n",
    "from flask import request # to take input\n",
    "\n",
    "app = Flask(__name__)\n",
    "\n",
    "@app.route(\"/\")\n",
    "def func1():\n",
    "    a=8/5\n",
    "    return \"<h1> This is a function 1 {} </h1>\".format(a)\n",
    "\n",
    "@app.route(\"/amar\") # proof ho gaya ki yaha kuch bhi naame rakh sakte jaruri \n",
    "                    # nahi ki function ka hi name rakho\n",
    "def func2():\n",
    "    return \"<h2>This is a function 2</h2>\"\n",
    "\n",
    "# to take Input\n",
    "\n",
    "@app.route(\"/Masooma\")\n",
    "def func3():\n",
    "    amar=request.args.get(\"a\")\n",
    "    return \"<h1>This is function 3 Masooma is   {}</h1>\".format(amar)\n",
    "\n",
    "\n",
    "if __name__==\"__main__\":\n",
    "    app.run(host=\"0.0.0.0\")\n",
    "\n"
   ]
  },
  {
   "cell_type": "code",
   "execution_count": 3,
   "id": "4db230fd-73b0-4ee8-ae06-e0c5dd2ecb42",
   "metadata": {},
   "outputs": [
    {
     "name": "stdout",
     "output_type": "stream",
     "text": [
      "Collecting flask\n",
      "  Downloading flask-3.0.0-py3-none-any.whl (99 kB)\n",
      "\u001b[2K     \u001b[90m━━━━━━━━━━━━━━━━━━━━━━━━━━━━━━━━━━━━━━━━\u001b[0m \u001b[32m99.7/99.7 kB\u001b[0m \u001b[31m3.3 MB/s\u001b[0m eta \u001b[36m0:00:00\u001b[0m\n",
      "\u001b[?25hCollecting itsdangerous>=2.1.2\n",
      "  Downloading itsdangerous-2.1.2-py3-none-any.whl (15 kB)\n",
      "Collecting Werkzeug>=3.0.0\n",
      "  Downloading werkzeug-3.0.0-py3-none-any.whl (226 kB)\n",
      "\u001b[2K     \u001b[90m━━━━━━━━━━━━━━━━━━━━━━━━━━━━━━━━━━━━━━\u001b[0m \u001b[32m226.6/226.6 kB\u001b[0m \u001b[31m22.4 MB/s\u001b[0m eta \u001b[36m0:00:00\u001b[0m\n",
      "\u001b[?25hRequirement already satisfied: click>=8.1.3 in /opt/conda/lib/python3.10/site-packages (from flask) (8.1.3)\n",
      "Collecting blinker>=1.6.2\n",
      "  Downloading blinker-1.6.3-py3-none-any.whl (13 kB)\n",
      "Requirement already satisfied: Jinja2>=3.1.2 in /opt/conda/lib/python3.10/site-packages (from flask) (3.1.2)\n",
      "Requirement already satisfied: MarkupSafe>=2.0 in /opt/conda/lib/python3.10/site-packages (from Jinja2>=3.1.2->flask) (2.1.1)\n",
      "Installing collected packages: Werkzeug, itsdangerous, blinker, flask\n",
      "  Attempting uninstall: blinker\n",
      "    Found existing installation: blinker 1.5\n",
      "    Uninstalling blinker-1.5:\n",
      "      Successfully uninstalled blinker-1.5\n",
      "Successfully installed Werkzeug-3.0.0 blinker-1.6.3 flask-3.0.0 itsdangerous-2.1.2\n",
      "Note: you may need to restart the kernel to use updated packages.\n"
     ]
    }
   ],
   "source": [
    "pip install flask\n"
   ]
  },
  {
   "cell_type": "code",
   "execution_count": null,
   "id": "85990e49-6caf-4d44-978a-c798b2e78691",
   "metadata": {},
   "outputs": [
    {
     "name": "stdout",
     "output_type": "stream",
     "text": [
      " * Serving Flask app '__main__'\n",
      " * Debug mode: off\n"
     ]
    },
    {
     "name": "stderr",
     "output_type": "stream",
     "text": [
      "WARNING: This is a development server. Do not use it in a production deployment. Use a production WSGI server instead.\n",
      " * Running on all addresses (0.0.0.0)\n",
      " * Running on http://127.0.0.1:5000\n",
      " * Running on http://172.18.0.4:5000\n",
      "Press CTRL+C to quit\n",
      "172.18.0.2 - - [23/Oct/2023 08:27:42] \"GET /func HTTP/1.1\" 200 -\n",
      "172.18.0.2 - - [23/Oct/2023 08:28:01] \"GET /func?input=Amar%20is%20the%20world's%20richest%20man HTTP/1.1\" 200 -\n"
     ]
    }
   ],
   "source": [
    "# Try self\n",
    "\n",
    "from flask import Flask\n",
    "\n",
    "data=Flask(__name__)\n",
    "\n",
    "@data.route(\"/\")\n",
    "def func1():\n",
    "    a=5+8\n",
    "    return\"This is add function {}\".format(a)\n",
    "\n",
    "@data.route(\"/func\")\n",
    "def func2():\n",
    "    a=request.args.get('input')\n",
    "    return \"Taking Input {}\".format(a)\n",
    "\n",
    "if __name__==\"__main__\" :\n",
    "    data.run(host=\"0.0.0.0\")"
   ]
  },
  {
   "cell_type": "code",
   "execution_count": 7,
   "id": "d8826165-d0f1-4ade-907b-b697ca033142",
   "metadata": {},
   "outputs": [
    {
     "data": {
      "text/plain": [
       "5"
      ]
     },
     "execution_count": 7,
     "metadata": {},
     "output_type": "execute_result"
    }
   ],
   "source": [
    "5"
   ]
  },
  {
   "cell_type": "code",
   "execution_count": null,
   "id": "76561158-e0d8-4c2b-a668-e39f766d626d",
   "metadata": {},
   "outputs": [],
   "source": []
  }
 ],
 "metadata": {
  "kernelspec": {
   "display_name": "Python 3 (ipykernel)",
   "language": "python",
   "name": "python3"
  },
  "language_info": {
   "codemirror_mode": {
    "name": "ipython",
    "version": 3
   },
   "file_extension": ".py",
   "mimetype": "text/x-python",
   "name": "python",
   "nbconvert_exporter": "python",
   "pygments_lexer": "ipython3",
   "version": "3.10.8"
  }
 },
 "nbformat": 4,
 "nbformat_minor": 5
}
