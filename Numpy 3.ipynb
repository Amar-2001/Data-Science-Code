{
 "cells": [
  {
   "cell_type": "code",
   "execution_count": 13,
   "id": "ccb5f604-353f-4e73-8fc7-80dd8aafabba",
   "metadata": {},
   "outputs": [],
   "source": [
    "import numpy as ny"
   ]
  },
  {
   "cell_type": "code",
   "execution_count": 14,
   "id": "1556987e-4926-4ce4-a2f9-53d5ae43b4d4",
   "metadata": {},
   "outputs": [
    {
     "data": {
      "text/plain": [
       "array([   2,    3,    4,    3,    5,    3,    3,    4, 3333,   33,   34])"
      ]
     },
     "execution_count": 14,
     "metadata": {},
     "output_type": "execute_result"
    }
   ],
   "source": [
    "arr=ny.array([2,3,4,3,5,3,3,4,3333,33,34])\n",
    "arr"
   ]
  },
  {
   "cell_type": "code",
   "execution_count": 15,
   "id": "e80cd6eb-7962-4e23-9f70-2bd068d22d30",
   "metadata": {},
   "outputs": [
    {
     "data": {
      "text/plain": [
       "array([   2,    3,    3,    3,    3,    4,    4,    5,   33,   34, 3333])"
      ]
     },
     "execution_count": 15,
     "metadata": {},
     "output_type": "execute_result"
    }
   ],
   "source": [
    "ny.sort(arr)"
   ]
  },
  {
   "cell_type": "code",
   "execution_count": 16,
   "id": "49a1951c-a238-44c6-85a8-af185ca4c4a2",
   "metadata": {},
   "outputs": [
    {
     "data": {
      "text/plain": [
       "1"
      ]
     },
     "execution_count": 16,
     "metadata": {},
     "output_type": "execute_result"
    }
   ],
   "source": [
    "ny.searchsorted(arr,3) # if available give index"
   ]
  },
  {
   "cell_type": "code",
   "execution_count": 17,
   "id": "0e807108-b036-4c31-aabc-8657070d1b21",
   "metadata": {},
   "outputs": [
    {
     "data": {
      "text/plain": [
       "8"
      ]
     },
     "execution_count": 17,
     "metadata": {},
     "output_type": "execute_result"
    }
   ],
   "source": [
    "ny.searchsorted(arr,9) # if not available give its index where to put"
   ]
  },
  {
   "cell_type": "code",
   "execution_count": 18,
   "id": "3acc84b1-e31f-4708-8729-7d2bd27ab7d0",
   "metadata": {},
   "outputs": [],
   "source": [
    "# Now"
   ]
  },
  {
   "cell_type": "code",
   "execution_count": 20,
   "id": "00c39032-f767-4c57-b307-28320401d4bd",
   "metadata": {},
   "outputs": [
    {
     "data": {
      "text/plain": [
       "array([0, 0, 2, 3, 0, 2, 0, 0])"
      ]
     },
     "execution_count": 20,
     "metadata": {},
     "output_type": "execute_result"
    }
   ],
   "source": [
    "arr1=ny.array([0,0,2,3,0,2,0,0] )\n",
    "arr1"
   ]
  },
  {
   "cell_type": "code",
   "execution_count": 22,
   "id": "e3891f31-6a8e-4ff1-88b7-b01428faaeee",
   "metadata": {},
   "outputs": [
    {
     "data": {
      "text/plain": [
       "3"
      ]
     },
     "execution_count": 22,
     "metadata": {},
     "output_type": "execute_result"
    }
   ],
   "source": [
    "ny.count_nonzero(arr1)"
   ]
  },
  {
   "cell_type": "code",
   "execution_count": 27,
   "id": "c005bafb-c4ec-4bfb-83f5-86fb41487189",
   "metadata": {},
   "outputs": [
    {
     "data": {
      "text/plain": [
       "(array([2, 5]),)"
      ]
     },
     "execution_count": 27,
     "metadata": {},
     "output_type": "execute_result"
    }
   ],
   "source": [
    "ny.where(arr1==2)"
   ]
  },
  {
   "cell_type": "code",
   "execution_count": 28,
   "id": "feb72184-821f-486b-a11a-558d37a1767b",
   "metadata": {},
   "outputs": [
    {
     "data": {
      "text/plain": [
       "(array([2, 3, 5]),)"
      ]
     },
     "execution_count": 28,
     "metadata": {},
     "output_type": "execute_result"
    }
   ],
   "source": [
    "ny.where(arr1>1)"
   ]
  },
  {
   "cell_type": "code",
   "execution_count": 29,
   "id": "57e291ed-a826-46a8-a849-40f743d521e6",
   "metadata": {},
   "outputs": [
    {
     "data": {
      "text/plain": [
       "array([   4,    5,    4, 3333,   33,   34])"
      ]
     },
     "execution_count": 29,
     "metadata": {},
     "output_type": "execute_result"
    }
   ],
   "source": [
    "ny.extract(arr>3, arr)"
   ]
  },
  {
   "cell_type": "code",
   "execution_count": 30,
   "id": "78b90f4a-1a1c-41bf-beb4-6c2057eb5ece",
   "metadata": {},
   "outputs": [],
   "source": [
    "# Now Byteswapping"
   ]
  },
  {
   "cell_type": "code",
   "execution_count": 31,
   "id": "fdbdb4d8-aaa8-4913-8d1a-f46ca6472127",
   "metadata": {},
   "outputs": [
    {
     "data": {
      "text/plain": [
       "array([   2,    3,    4,    3,    5,    3,    3,    4, 3333,   33,   34])"
      ]
     },
     "execution_count": 31,
     "metadata": {},
     "output_type": "execute_result"
    }
   ],
   "source": [
    "arr"
   ]
  },
  {
   "cell_type": "code",
   "execution_count": 34,
   "id": "a315f665-1bd9-42ee-a99a-d439f038eeca",
   "metadata": {},
   "outputs": [
    {
     "data": {
      "text/plain": [
       "array([ 144115188075855872,  216172782113783808,  288230376151711744,\n",
       "        216172782113783808,  360287970189639680,  216172782113783808,\n",
       "        216172782113783808,  288230376151711744,  363947144886878208,\n",
       "       2377900603251621888, 2449958197289549824])"
      ]
     },
     "execution_count": 34,
     "metadata": {},
     "output_type": "execute_result"
    }
   ],
   "source": [
    "arr.byteswap()"
   ]
  },
  {
   "cell_type": "code",
   "execution_count": 35,
   "id": "607996f2-fc23-4b3a-a7d5-bf887bef9867",
   "metadata": {},
   "outputs": [],
   "source": [
    "# Now  copies and views"
   ]
  },
  {
   "cell_type": "code",
   "execution_count": 36,
   "id": "a337dab9-c11d-401c-b8e6-f94a6636bc49",
   "metadata": {},
   "outputs": [
    {
     "data": {
      "text/plain": [
       "array([   2,    3,    4,    3,    5,    3,    3,    4, 3333,   33,   34])"
      ]
     },
     "execution_count": 36,
     "metadata": {},
     "output_type": "execute_result"
    }
   ],
   "source": [
    "arr"
   ]
  },
  {
   "cell_type": "code",
   "execution_count": 39,
   "id": "52595b2c-61f3-4570-a9f9-5922d3fa7ed9",
   "metadata": {},
   "outputs": [
    {
     "data": {
      "text/plain": [
       "array([   2,    3,    4,    3,    5,    3,    3,    4, 3333,   33,   34])"
      ]
     },
     "execution_count": 39,
     "metadata": {},
     "output_type": "execute_result"
    }
   ],
   "source": [
    "a=ny.copy(arr) # dcopy means agar a mein changes hoga toh arr mein changes nahi hoga\n",
    "a"
   ]
  },
  {
   "cell_type": "code",
   "execution_count": 43,
   "id": "b32968bb-4611-4fb9-934b-20acdbd35e48",
   "metadata": {},
   "outputs": [],
   "source": [
    "b=arr.view()   # or b=arr "
   ]
  },
  {
   "cell_type": "code",
   "execution_count": 44,
   "id": "546bbe89-5e8e-4e5d-b9a1-fb33b45ec0e1",
   "metadata": {},
   "outputs": [
    {
     "data": {
      "text/plain": [
       "array([   2,    3,    4,    3,    5,    3,    3,    4, 3333,   33,   34])"
      ]
     },
     "execution_count": 44,
     "metadata": {},
     "output_type": "execute_result"
    }
   ],
   "source": [
    "b"
   ]
  },
  {
   "cell_type": "code",
   "execution_count": 45,
   "id": "ab0bbfca-6865-4930-aae1-0b4abbe53a3e",
   "metadata": {},
   "outputs": [
    {
     "data": {
      "text/plain": [
       "array([   2,    3,    4,    3,    5,    3,    3,    4, 3333,   33,   34])"
      ]
     },
     "execution_count": 45,
     "metadata": {},
     "output_type": "execute_result"
    }
   ],
   "source": [
    "arr"
   ]
  },
  {
   "cell_type": "code",
   "execution_count": 46,
   "id": "2fdc084c-4147-4e4f-9ac0-f53be75cd8d6",
   "metadata": {},
   "outputs": [
    {
     "data": {
      "text/plain": [
       "array([  88,    3,    4,    3,    5,    3,    3,    4, 3333,   33,   34])"
      ]
     },
     "execution_count": 46,
     "metadata": {},
     "output_type": "execute_result"
    }
   ],
   "source": [
    "b[0]=88\n",
    "b"
   ]
  },
  {
   "cell_type": "code",
   "execution_count": 47,
   "id": "f65dd6bd-4b09-4edd-8400-649620f25b5c",
   "metadata": {},
   "outputs": [
    {
     "data": {
      "text/plain": [
       "array([  88,    3,    4,    3,    5,    3,    3,    4, 3333,   33,   34])"
      ]
     },
     "execution_count": 47,
     "metadata": {},
     "output_type": "execute_result"
    }
   ],
   "source": [
    "arr"
   ]
  },
  {
   "cell_type": "code",
   "execution_count": 49,
   "id": "618e6842-dbea-4e83-84d1-605dca2ee2a7",
   "metadata": {},
   "outputs": [],
   "source": [
    "# ****"
   ]
  },
  {
   "cell_type": "code",
   "execution_count": 50,
   "id": "816233a7-bdf1-4bb2-838b-483a13a6803a",
   "metadata": {},
   "outputs": [],
   "source": [
    "import numpy.matlib as nm"
   ]
  },
  {
   "cell_type": "code",
   "execution_count": 51,
   "id": "c69da3de-0a79-4aa6-b6ab-2ecfbe5443e1",
   "metadata": {},
   "outputs": [
    {
     "data": {
      "text/plain": [
       "matrix([[0., 0., 0., 0., 0.]])"
      ]
     },
     "execution_count": 51,
     "metadata": {},
     "output_type": "execute_result"
    }
   ],
   "source": [
    "nm.zeros(5)"
   ]
  },
  {
   "cell_type": "code",
   "execution_count": 52,
   "id": "ecc5a60d-8e72-42cd-9b8a-75d653f0a3d0",
   "metadata": {},
   "outputs": [
    {
     "data": {
      "text/plain": [
       "matrix([[1., 1., 1., 1., 1.]])"
      ]
     },
     "execution_count": 52,
     "metadata": {},
     "output_type": "execute_result"
    }
   ],
   "source": [
    "nm.ones(5)"
   ]
  },
  {
   "cell_type": "code",
   "execution_count": 54,
   "id": "695f07ef-8aff-470e-81ef-bb79ad4de67c",
   "metadata": {},
   "outputs": [
    {
     "data": {
      "text/plain": [
       "matrix([[1., 1., 1., 1.],\n",
       "        [1., 1., 1., 1.],\n",
       "        [1., 1., 1., 1.]])"
      ]
     },
     "execution_count": 54,
     "metadata": {},
     "output_type": "execute_result"
    }
   ],
   "source": [
    "nm.ones((3,4))"
   ]
  },
  {
   "cell_type": "code",
   "execution_count": 56,
   "id": "4beb985c-56f0-49c6-8375-1e267b3c5d33",
   "metadata": {},
   "outputs": [
    {
     "data": {
      "text/plain": [
       "matrix([[1., 0., 0., 0.],\n",
       "        [0., 1., 0., 0.],\n",
       "        [0., 0., 1., 0.],\n",
       "        [0., 0., 0., 1.]])"
      ]
     },
     "execution_count": 56,
     "metadata": {},
     "output_type": "execute_result"
    }
   ],
   "source": [
    "nm.eye(4)"
   ]
  },
  {
   "cell_type": "code",
   "execution_count": 57,
   "id": "40507cc9-54ff-46dd-b111-c62840848425",
   "metadata": {},
   "outputs": [],
   "source": [
    "#Linear Algebra"
   ]
  },
  {
   "cell_type": "code",
   "execution_count": 65,
   "id": "a90e25be-b1c8-4834-a666-01631e511491",
   "metadata": {},
   "outputs": [
    {
     "data": {
      "text/plain": [
       "array([1, 2])"
      ]
     },
     "execution_count": 65,
     "metadata": {},
     "output_type": "execute_result"
    }
   ],
   "source": [
    "arr1=ny.random.randint( [1,2] , [2,3] )\n",
    "arr1"
   ]
  },
  {
   "cell_type": "code",
   "execution_count": 68,
   "id": "25a71b6a-b8e1-4987-98ac-db2bd25ffc39",
   "metadata": {},
   "outputs": [
    {
     "data": {
      "text/plain": [
       "array([[0, 0],\n",
       "       [0, 1]])"
      ]
     },
     "execution_count": 68,
     "metadata": {},
     "output_type": "execute_result"
    }
   ],
   "source": [
    "test=ny.random.randint( [[1,2] , [2,3]] )\n",
    "test"
   ]
  },
  {
   "cell_type": "code",
   "execution_count": 70,
   "id": "12c37d0d-23d0-4f9f-9024-adf83bb82ac9",
   "metadata": {},
   "outputs": [
    {
     "data": {
      "text/plain": [
       "array([[1, 1],\n",
       "       [2, 4]])"
      ]
     },
     "execution_count": 70,
     "metadata": {},
     "output_type": "execute_result"
    }
   ],
   "source": [
    "arr1=ny.random.randint([[2,3],[4,5]] )\n",
    "arr1"
   ]
  },
  {
   "cell_type": "code",
   "execution_count": 72,
   "id": "75df0de8-7faf-466f-9885-5141a8829728",
   "metadata": {},
   "outputs": [
    {
     "data": {
      "text/plain": [
       "array([[4, 2],\n",
       "       [1, 2]])"
      ]
     },
     "execution_count": 72,
     "metadata": {},
     "output_type": "execute_result"
    }
   ],
   "source": [
    "arr2=ny.random.randint([[5,3],[2,5]] )\n",
    "arr2"
   ]
  },
  {
   "cell_type": "code",
   "execution_count": 75,
   "id": "153ffc3a-7ac9-4904-9a15-0043d811ef3b",
   "metadata": {},
   "outputs": [
    {
     "data": {
      "text/plain": [
       "array([[ 5,  4],\n",
       "       [12, 12]])"
      ]
     },
     "execution_count": 75,
     "metadata": {},
     "output_type": "execute_result"
    }
   ],
   "source": [
    "ny.dot(arr1,arr2) # matrix multiplication"
   ]
  },
  {
   "cell_type": "code",
   "execution_count": 76,
   "id": "fc20b9a3-b99f-4fbd-8896-dd0ad04e75ae",
   "metadata": {},
   "outputs": [
    {
     "data": {
      "text/plain": [
       "array([[ 5,  4],\n",
       "       [12, 12]])"
      ]
     },
     "execution_count": 76,
     "metadata": {},
     "output_type": "execute_result"
    }
   ],
   "source": [
    "arr1@arr2"
   ]
  },
  {
   "cell_type": "code",
   "execution_count": null,
   "id": "bc284e60-b6e7-40d7-a3f4-b32a190de3be",
   "metadata": {},
   "outputs": [],
   "source": []
  }
 ],
 "metadata": {
  "kernelspec": {
   "display_name": "Python 3 (ipykernel)",
   "language": "python",
   "name": "python3"
  },
  "language_info": {
   "codemirror_mode": {
    "name": "ipython",
    "version": 3
   },
   "file_extension": ".py",
   "mimetype": "text/x-python",
   "name": "python",
   "nbconvert_exporter": "python",
   "pygments_lexer": "ipython3",
   "version": "3.10.8"
  }
 },
 "nbformat": 4,
 "nbformat_minor": 5
}
