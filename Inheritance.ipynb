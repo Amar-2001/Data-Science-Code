{
 "cells": [
  {
   "cell_type": "code",
   "execution_count": 1,
   "id": "37af5cec-4ef0-4d3b-8a66-ebab3d361e02",
   "metadata": {},
   "outputs": [],
   "source": [
    "# Inheritance:"
   ]
  },
  {
   "cell_type": "code",
   "execution_count": 7,
   "id": "69cedfa6-17ad-42f7-b097-48a56b7614c0",
   "metadata": {},
   "outputs": [],
   "source": [
    "class parent:\n",
    "    def test(self):\n",
    "        return \"This is my first class \""
   ]
  },
  {
   "cell_type": "code",
   "execution_count": 8,
   "id": "7f3cfb51-4b34-45e5-820b-cb7d80692331",
   "metadata": {},
   "outputs": [
    {
     "data": {
      "text/plain": [
       "'This is my first class '"
      ]
     },
     "execution_count": 8,
     "metadata": {},
     "output_type": "execute_result"
    }
   ],
   "source": [
    "# obj=parent()\n",
    "# obj.test()"
   ]
  },
  {
   "cell_type": "code",
   "execution_count": 12,
   "id": "ca275840-7c72-4c5f-882b-badbac7c06f6",
   "metadata": {},
   "outputs": [],
   "source": [
    "class child(parent):\n",
    "    pass"
   ]
  },
  {
   "cell_type": "code",
   "execution_count": 13,
   "id": "7109f2d7-208f-4c6a-9e45-62451ad15bea",
   "metadata": {},
   "outputs": [],
   "source": [
    "obj_child=child()"
   ]
  },
  {
   "cell_type": "code",
   "execution_count": 15,
   "id": "5390079c-22f4-4aed-a0bd-47def9be9948",
   "metadata": {},
   "outputs": [
    {
     "data": {
      "text/plain": [
       "'This is my first class '"
      ]
     },
     "execution_count": 15,
     "metadata": {},
     "output_type": "execute_result"
    }
   ],
   "source": [
    "obj_child.test()"
   ]
  },
  {
   "cell_type": "code",
   "execution_count": 49,
   "id": "7d79d7d5-1287-46a9-898e-32de9cf5aa1f",
   "metadata": {},
   "outputs": [],
   "source": [
    "#Multiple inheritance"
   ]
  },
  {
   "cell_type": "code",
   "execution_count": 55,
   "id": "89863555-b967-4042-9b8f-9787e649602d",
   "metadata": {},
   "outputs": [],
   "source": [
    "class A:\n",
    "    def funcA(self):\n",
    "        return \"This is method of class A\""
   ]
  },
  {
   "cell_type": "code",
   "execution_count": 56,
   "id": "e36bd651-2c31-4e8b-b605-d84b71fff6e5",
   "metadata": {},
   "outputs": [],
   "source": [
    "class B:\n",
    "    def funcB(self):\n",
    "        \n",
    "        return \"This is method of class B\""
   ]
  },
  {
   "cell_type": "code",
   "execution_count": 57,
   "id": "2c025e36-a11d-48c1-9ddb-73a7f0c0120f",
   "metadata": {},
   "outputs": [],
   "source": [
    "class C(A,B):\n",
    "    pass\n",
    "    "
   ]
  },
  {
   "cell_type": "code",
   "execution_count": 58,
   "id": "a21c2127-383b-4000-bef0-7b65bb15bd71",
   "metadata": {},
   "outputs": [],
   "source": [
    "obj_C=C()"
   ]
  },
  {
   "cell_type": "code",
   "execution_count": 62,
   "id": "a37c912f-da4a-481c-b45f-5d67995fa810",
   "metadata": {},
   "outputs": [
    {
     "data": {
      "text/plain": [
       "'This is method of class A'"
      ]
     },
     "execution_count": 62,
     "metadata": {},
     "output_type": "execute_result"
    }
   ],
   "source": [
    "obj_C.funcA()"
   ]
  },
  {
   "cell_type": "code",
   "execution_count": 60,
   "id": "238fc0b5-e3a8-4156-b864-cb290aee127c",
   "metadata": {},
   "outputs": [
    {
     "data": {
      "text/plain": [
       "'This is method of class B'"
      ]
     },
     "execution_count": 60,
     "metadata": {},
     "output_type": "execute_result"
    }
   ],
   "source": [
    "obj_C.funcB()"
   ]
  },
  {
   "cell_type": "code",
   "execution_count": null,
   "id": "7fe0244a-45d3-4933-9f64-452445d5fd82",
   "metadata": {},
   "outputs": [],
   "source": [
    "#Now Heirarchical Inheritance"
   ]
  },
  {
   "cell_type": "code",
   "execution_count": 2,
   "id": "59498d81-7da3-4fff-80c7-fc8c8d2b54cb",
   "metadata": {},
   "outputs": [],
   "source": [
    "# BAse class\n",
    "class A:\n",
    "    def testA(self):\n",
    "        return \"This is class A\""
   ]
  },
  {
   "cell_type": "code",
   "execution_count": 3,
   "id": "e3e6a4f9-00fe-4a26-8f50-02dd616aa9cd",
   "metadata": {},
   "outputs": [],
   "source": [
    "# Drive class\n",
    "class B(A):\n",
    "    pass\n",
    "       "
   ]
  },
  {
   "cell_type": "code",
   "execution_count": 4,
   "id": "21aba3d0-a26a-42ca-9113-8fad2d7d4261",
   "metadata": {},
   "outputs": [],
   "source": [
    "# Drive class\n",
    "class C(A):\n",
    "    pass"
   ]
  },
  {
   "cell_type": "code",
   "execution_count": 5,
   "id": "13244d6a-b8dd-46ed-93ab-cab284b172bc",
   "metadata": {},
   "outputs": [],
   "source": [
    "obj_B=B() # object of B classs\n",
    "\n",
    "obj_C=C() # object of c class"
   ]
  },
  {
   "cell_type": "code",
   "execution_count": 9,
   "id": "4dbd7fe6-0acf-416c-b128-105aa3a1eec9",
   "metadata": {},
   "outputs": [
    {
     "data": {
      "text/plain": [
       "'This is class A'"
      ]
     },
     "execution_count": 9,
     "metadata": {},
     "output_type": "execute_result"
    }
   ],
   "source": [
    "obj_B.testA()\n"
   ]
  },
  {
   "cell_type": "code",
   "execution_count": 10,
   "id": "04404ac1-fc09-4243-9f69-f1cbc549f923",
   "metadata": {},
   "outputs": [
    {
     "data": {
      "text/plain": [
       "'This is class A'"
      ]
     },
     "execution_count": 10,
     "metadata": {},
     "output_type": "execute_result"
    }
   ],
   "source": [
    "obj_C.testA()"
   ]
  },
  {
   "cell_type": "code",
   "execution_count": null,
   "id": "f3932a6d-75a8-4829-a8a2-2f7607d4c8ed",
   "metadata": {},
   "outputs": [],
   "source": [
    "#Now multilevel Inheritance"
   ]
  },
  {
   "cell_type": "code",
   "execution_count": 37,
   "id": "c3e17b34-9b39-4038-ad03-3f8557a72074",
   "metadata": {},
   "outputs": [],
   "source": [
    "class A:\n",
    "    def testA(self):\n",
    "        return \"This is method from class A\""
   ]
  },
  {
   "cell_type": "code",
   "execution_count": 38,
   "id": "51ce48db-4bb7-4fe2-8e34-5df09b03b578",
   "metadata": {},
   "outputs": [],
   "source": [
    "class B(A):\n",
    "    def testB(self):\n",
    "        return \"This is a method from class B\""
   ]
  },
  {
   "cell_type": "code",
   "execution_count": 39,
   "id": "2d255182-8d9d-41f4-92b7-59e08ddb7b02",
   "metadata": {},
   "outputs": [],
   "source": [
    "class C(B):\n",
    "    pass"
   ]
  },
  {
   "cell_type": "code",
   "execution_count": 40,
   "id": "0a6a8645-1230-4829-b387-05aa47ece843",
   "metadata": {},
   "outputs": [],
   "source": [
    "obj_class_c = C()"
   ]
  },
  {
   "cell_type": "code",
   "execution_count": 45,
   "id": "5fcee357-d111-4b3a-b4c1-d241ef4b8418",
   "metadata": {},
   "outputs": [
    {
     "data": {
      "text/plain": [
       "'This is method from class A'"
      ]
     },
     "execution_count": 45,
     "metadata": {},
     "output_type": "execute_result"
    }
   ],
   "source": [
    "\n",
    "obj_class_c.testA()\n"
   ]
  },
  {
   "cell_type": "code",
   "execution_count": 46,
   "id": "27f16a4e-5169-4bb5-bef5-83578dbdfbfb",
   "metadata": {},
   "outputs": [
    {
     "data": {
      "text/plain": [
       "'This is a method from class B'"
      ]
     },
     "execution_count": 46,
     "metadata": {},
     "output_type": "execute_result"
    }
   ],
   "source": [
    "obj_class_c.testB()"
   ]
  },
  {
   "cell_type": "code",
   "execution_count": 48,
   "id": "f9544ad6-bd39-4f6a-826d-448f69a76c89",
   "metadata": {},
   "outputs": [
    {
     "ename": "TypeError",
     "evalue": "'C' object is not iterable",
     "output_type": "error",
     "traceback": [
      "\u001b[0;31m---------------------------------------------------------------------------\u001b[0m",
      "\u001b[0;31mTypeError\u001b[0m                                 Traceback (most recent call last)",
      "Cell \u001b[0;32mIn[48], line 2\u001b[0m\n\u001b[1;32m      1\u001b[0m \u001b[38;5;66;03m# or\u001b[39;00m\n\u001b[0;32m----> 2\u001b[0m \u001b[38;5;28;01mfor\u001b[39;00m i \u001b[38;5;129;01min\u001b[39;00m obj_class_c:\n\u001b[1;32m      3\u001b[0m     \u001b[38;5;28mprint\u001b[39m(i)\n\u001b[1;32m      5\u001b[0m     \u001b[38;5;66;03m#object is not iterable\u001b[39;00m\n",
      "\u001b[0;31mTypeError\u001b[0m: 'C' object is not iterable"
     ]
    }
   ],
   "source": [
    "# or\n",
    "for i in obj_class_c:\n",
    "    print(i)\n",
    "    \n",
    "    #object is not iterable"
   ]
  },
  {
   "cell_type": "code",
   "execution_count": 63,
   "id": "21c84009-a875-42e8-934a-81f27d694e74",
   "metadata": {},
   "outputs": [],
   "source": [
    "# W3school "
   ]
  },
  {
   "cell_type": "code",
   "execution_count": 64,
   "id": "a6ff6672-1f84-4b48-b172-4b98a47f2aa8",
   "metadata": {},
   "outputs": [
    {
     "name": "stdout",
     "output_type": "stream",
     "text": [
      "Mike Olsen\n"
     ]
    }
   ],
   "source": [
    "class Person:\n",
    "  def __init__(self, fname, lname):\n",
    "    self.firstname = fname\n",
    "    self.lastname = lname\n",
    "\n",
    "  def printname(self):\n",
    "    print(self.firstname, self.lastname)\n",
    "\n",
    "class Student(Person):\n",
    "  def __init__(self, fname, lname):\n",
    "    Person.__init__(self, fname, lname) #why this line\n",
    "\n",
    "x = Student(\"Mike\", \"Olsen\")\n",
    "x.printname()\n"
   ]
  },
  {
   "cell_type": "code",
   "execution_count": null,
   "id": "c4cf616f-efa7-43ed-9b07-0e5a02b1d08b",
   "metadata": {},
   "outputs": [],
   "source": [
    "#use of super fucntion"
   ]
  },
  {
   "cell_type": "code",
   "execution_count": 66,
   "id": "5d73430d-37be-4c38-8db1-7d4095f78013",
   "metadata": {},
   "outputs": [
    {
     "name": "stdout",
     "output_type": "stream",
     "text": [
      "Mike Olsen\n"
     ]
    }
   ],
   "source": [
    "class Person:\n",
    "  def __init__(self, fname, lname):\n",
    "    self.firstname = fname\n",
    "    self.lastname = lname\n",
    "\n",
    "  def printname(self):\n",
    "    print(self.firstname, self.lastname)\n",
    "\n",
    "class Student(Person):\n",
    "  def __init__(self, fname, lname):\n",
    "    super().__init__(fname, lname)\n",
    "\n",
    "x = Student(\"Mike\", \"Olsen\")\n",
    "x.printname()\n"
   ]
  },
  {
   "cell_type": "code",
   "execution_count": null,
   "id": "c3f705ab-0bb1-4e79-8476-efba54eb860b",
   "metadata": {},
   "outputs": [],
   "source": [
    "२ "
   ]
  },
  {
   "cell_type": "code",
   "execution_count": null,
   "id": "12894d25-cc90-4b6b-9141-6084fab690f8",
   "metadata": {},
   "outputs": [],
   "source": [
    "२ "
   ]
  }
 ],
 "metadata": {
  "kernelspec": {
   "display_name": "Python 3 (ipykernel)",
   "language": "python",
   "name": "python3"
  },
  "language_info": {
   "codemirror_mode": {
    "name": "ipython",
    "version": 3
   },
   "file_extension": ".py",
   "mimetype": "text/x-python",
   "name": "python",
   "nbconvert_exporter": "python",
   "pygments_lexer": "ipython3",
   "version": "3.10.8"
  }
 },
 "nbformat": 4,
 "nbformat_minor": 5
}
