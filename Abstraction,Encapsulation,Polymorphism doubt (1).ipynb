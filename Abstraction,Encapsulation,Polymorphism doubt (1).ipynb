{
 "cells": [
  {
   "cell_type": "code",
   "execution_count": 1,
   "id": "e38e4521-914f-4e8d-afc6-6ef1d4efa73e",
   "metadata": {},
   "outputs": [],
   "source": [
    "# Abstraction : Abstraction means hiding the details and showing \n",
    "# only the necessary details\n",
    "# isme ek skeleton(blueprint) bana kar de diya jata hai\n",
    "# log us par code karte hai \n",
    "\n",
    "# An abstract class is different from abstraction, \n",
    "# abstract classes/methods are created with an intention to implement\n",
    "# them in child class or subclass. \n",
    "\n",
    "# Whereas abstraction is simply hiding the data, \n",
    "# and showing only the relevant data by using access specifiers\n",
    "# like public, protected, private."
   ]
  },
  {
   "cell_type": "code",
   "execution_count": null,
   "id": "dbf81d3b-340f-4e8e-a772-f2def52201cf",
   "metadata": {},
   "outputs": [],
   "source": [
    "## Q2. Differentiate between Abstraction and Encapsulation. \n",
    "# Explain with an example.\n",
    "\n",
    "# Abstraction is a process of hiding unnecessary data and \n",
    "# showing only relevant data.\n",
    "\n",
    "# Encapsulation is binding the data members with member variables. \n",
    "# This will avoid the direct access of variables, \n",
    "# because direct access of variables may violate privacy, \n",
    "# and hiding of the implementation will not be possible.\n",
    "\n",
    "# Encapsulation works like a protective wrapper that conceals the code\n",
    "# and data within the class. That data and code will be accessed outside \n",
    "# the method/member function and the class that is not the members of that class.\n",
    "\n",
    "# _________________________________________________________________________\n",
    "# An abstract class is different from abstraction,abstract classes/methods\n",
    "# are created with an intention to implement them in child class or \n",
    "# subclass. Whereas abstraction is simply hiding the data,\n",
    "# and showing only the relevant data by using access specifiers\n",
    "# like public, protected, private.\n",
    "# -----------------------------------------------------------------------------\n",
    "\n",
    "# __________________________________\n",
    "# Advantages of Abstraction \n",
    "# __________________________________\n",
    "\n",
    "# Privacy of data is maintained since only relevant data \n",
    "# is visible to the user.\n",
    "\n",
    "# Reduces the complexity of code and increases readability.\n",
    "\n",
    "# Abstraction makes applications extendable and simplifies refactoring.\n",
    "\n",
    "# When developing with the abstraction’s superior level,\n",
    "# you communicate more on the behavior and less on the implementation.\n",
    "\n",
    "# It enables effective simulation of a real-world event. \n",
    "# It helps you to invent solutions to real-world problems.\n",
    "\n",
    "# It simplifies maintaining and modifying the existing code \n",
    "# because new objects can be developed with minor differences \n",
    "# from the existing ones.\n",
    "\n",
    "# When you modify your code implemented with an abstraction,\n",
    "# the abstraction’s users need not modify their code. \n",
    "# The users need to change their code only when the abstraction changes.\n",
    "\n",
    "\n",
    "# ___________________________________\n",
    "# Advantages of Encapsulation\n",
    "# ___________________________________\n",
    "\n",
    "# It helps in binding the data members with member functions.\n",
    "\n",
    "# Improves efficiency and user friendly for error analysis.\n",
    "\n",
    "# Provides flexibility to the programmer in controlling\n",
    "# the accessibility and transparency of the data.\n",
    "\n",
    "# Your code’s user doesn’t rely on your program’s part that is expected\n",
    "# to change. When you modify your program, the users \n",
    "# need not modify their code.\n",
    "\n",
    "# You can efficiently control how your code and state modify \n",
    "# across your program’s lifetime. Encapsulation makes sure there\n",
    "# will be fewer unforeseen problems to fix\n",
    "\n",
    "\n",
    "# Abstraction represents only useful data, whereas encapsulation \n",
    "# wraps data and codes for necessary information\n",
    "\n",
    "\n",
    "# ______________\n",
    "# Hiding:\n",
    "# ______________\n",
    "\n",
    "# Abstraction provides you with a more abstract overview and\n",
    "# thus hides the complexity. Encapsulation hides the internal working, \n",
    "# which helps you to change it later.\n",
    "\n",
    "# Abstraction solves problems at the design level\n",
    "# whereas Encapsulation does at the implementation level.\n",
    "\n",
    "# Focus:\n",
    "# The prominent difference between Encapsulation and Abstraction\n",
    "# lies in the focus. Abstraction mainly focuses on what must be done,\n",
    "# whereas encapsulation mainly focuses on how it must be done. \n",
    "\n",
    "\n",
    "# ___________________________________________\n",
    "# Real world example of Abstraction\n",
    "# __________________________________________\n",
    "\n",
    "# you want to develop a banking application and are asked to gather\n",
    "# all the details of your customer. You may gather some details that are\n",
    "# irrelevant when developing a banking application. \n",
    "# Hence, you have to choose only valuable information like name, address, \n",
    "# tax info, etc. The process of fetching, removing,and selecting the \n",
    "# customer information from a pool of data is called Abstraction.\n",
    "\n",
    "# The information, once extracted, can be utilized for various applications.\n",
    "# For example, you can use the same data for job portal applications,\n",
    "# hospital applications, a Government database, etc. \n",
    "# with slight or no amendment. Therefore, it works as your Master Data.\n",
    "\n",
    "# ______________________________________________\n",
    "# Real world example of Encapsulation\n",
    "# _________________________________________________\n",
    "\n",
    "# perform tasks like capturing photos, recording audio/video,\n",
    "# listening to music, accessing the web, etc.\n",
    "# These features are common in all smartphones.\n",
    "# You don’t have to understand the internal working of these features.\n",
    "# For example, you don’t need to know how your camera recognizes \n",
    "# a human face in an image or how it calculates gamma correction. \n",
    "# You simply need to learn the software interface. \n",
    "# So, it is a real-world example of encapsulation.\n"
   ]
  },
  {
   "cell_type": "code",
   "execution_count": 24,
   "id": "871ef174-2913-4573-90b0-0fdf02585474",
   "metadata": {},
   "outputs": [
    {
     "name": "stdout",
     "output_type": "stream",
     "text": [
      "The mileage is 30kmph\n",
      "The mileage is 27kmph \n",
      "The mileage is 25kmph \n",
      "The mileage is 24kmph \n"
     ]
    }
   ],
   "source": [
    "# Python program demonstrate  \n",
    "# abstract base class work   \n",
    "\n",
    "from abc import ABC, \n",
    "\n",
    "# abstractmethod   \n",
    "class Car(ABC):   \n",
    "    def mileage(self):   \n",
    "        pass  \n",
    "  \n",
    "class Tesla(Car):   \n",
    "    def mileage(self):   \n",
    "        print(\"The mileage is 30kmph\")   \n",
    "class Suzuki(Car):   \n",
    "    def mileage(self):   \n",
    "        print(\"The mileage is 25kmph \")   \n",
    "class Duster(Car):   \n",
    "     def mileage(self):   \n",
    "          print(\"The mileage is 24kmph \")   \n",
    "  \n",
    "class Renault(Car):   \n",
    "    def mileage(self):   \n",
    "            print(\"The mileage is 27kmph \")   \n",
    "          \n",
    "# Driver code   \n",
    "t= Tesla ()   \n",
    "t.mileage()   \n",
    "  \n",
    "r = Renault()   \n",
    "r.mileage()   \n",
    "  \n",
    "s = Suzuki()   \n",
    "s.mileage()   \n",
    "d = Duster()   \n",
    "d.mileage()  "
   ]
  },
  {
   "cell_type": "code",
   "execution_count": 28,
   "id": "01386455-df34-434c-b76d-674cf4a40acc",
   "metadata": {},
   "outputs": [
    {
     "name": "stdout",
     "output_type": "stream",
     "text": [
      "Triangle has 3 sides\n",
      "I have 4 sides\n",
      "Pentagon has 5 sides\n",
      "Hexagon has 6 sides\n"
     ]
    }
   ],
   "source": [
    "# Python program to define   \n",
    "# abstract class  \n",
    "  \n",
    "from abc import ABC  \n",
    "  \n",
    "class Polygon(ABC):   \n",
    "  \n",
    "   # abstract method   \n",
    "   def sides(self):   \n",
    "      pass  \n",
    "  \n",
    "class Triangle(Polygon):   \n",
    "  \n",
    "     \n",
    "   def sides(self):   \n",
    "      print(\"Triangle has 3 sides\")   \n",
    "  \n",
    "class Pentagon(Polygon):   \n",
    "  \n",
    "     \n",
    "   def sides(self):   \n",
    "      print(\"Pentagon has 5 sides\")   \n",
    "  \n",
    "class Hexagon(Polygon):   \n",
    "  \n",
    "   def sides(self):   \n",
    "      print(\"Hexagon has 6 sides\")   \n",
    "  \n",
    "class square(Polygon):   \n",
    "  \n",
    "   def sides(self):   \n",
    "      print(\"I have 4 sides\")   \n",
    "  \n",
    "# Driver code   \n",
    "t = Triangle()   \n",
    "t.sides()   \n",
    "  \n",
    "s = square()   \n",
    "s.sides()   \n",
    "  \n",
    "p = Pentagon()   \n",
    "p.sides()   \n",
    "  \n",
    "k = Hexagon()   \n",
    "k.sides()   "
   ]
  },
  {
   "cell_type": "code",
   "execution_count": null,
   "id": "fd4b8cd7-92a2-42a6-876b-bfbb67021680",
   "metadata": {},
   "outputs": [],
   "source": [
    "# upar wala aur ye wala mein antar sirf itna hai ki \n",
    "\n",
    "# upar wala mein \"from abc import ABC\" likhna padta aur uske baad\n",
    "# main class mein ABC inherit karana padta\n",
    "\n",
    "#neech wala mein inherit nahi karana padta uske jagah \" @abc.abstractmethod\" likhna padta"
   ]
  },
  {
   "cell_type": "code",
   "execution_count": 11,
   "id": "02a27734-a950-4929-a125-5b13f613e3eb",
   "metadata": {},
   "outputs": [],
   "source": [
    "import abc\n",
    "\n",
    "class Coding:\n",
    "    \n",
    "    @abc.abstractmethod\n",
    "    def student_details(self):\n",
    "        pass\n",
    "    @abc.abstractclassmethod\n",
    "    def student_assignment(self):\n",
    "        pass\n",
    "    @abc.abstractmethod\n",
    "    def student_marks(self):\n",
    "        pass\n"
   ]
  },
  {
   "cell_type": "code",
   "execution_count": 12,
   "id": "1d998a68-c9f1-44f5-88c9-6de5ae474bdb",
   "metadata": {},
   "outputs": [],
   "source": [
    "class Sourabh_shukla_class: # class Sourabh_shukla_class(Coding): same, no problem \n",
    "    def student_details(self):\n",
    "        return \"This is a method for taking students details for sourabh shukla sir class\" \n",
    "    \n",
    "    def student_assignment(self):\n",
    "        return \"This is a method for assignment of students for sourabh shukla sir class\""
   ]
  },
  {
   "cell_type": "code",
   "execution_count": 13,
   "id": "594666c7-e19c-4239-90d8-276d4d5068c6",
   "metadata": {},
   "outputs": [],
   "source": [
    "class dataScience_masters:#class dataScience_masters(Coding): same,no problem\n",
    "    def student_details(self):\n",
    "        return \"This will return student details for data science masters class\"\n",
    "    \n",
    "    def student_assignment(self):\n",
    "        return \"This will give you student assignment details for data science masters class\"\n",
    "    "
   ]
  },
  {
   "cell_type": "code",
   "execution_count": 14,
   "id": "bd64a1e1-498e-4776-ba68-3e1aad758c08",
   "metadata": {},
   "outputs": [
    {
     "data": {
      "text/plain": [
       "'This will return student details for data science masters class'"
      ]
     },
     "execution_count": 14,
     "metadata": {},
     "output_type": "execute_result"
    }
   ],
   "source": [
    "dsm=dataScience_masters()\n",
    "dsm.student_details()"
   ]
  },
  {
   "cell_type": "code",
   "execution_count": 15,
   "id": "07a6ef04-4663-4ba0-a8b8-871d1b93370f",
   "metadata": {},
   "outputs": [
    {
     "data": {
      "text/plain": [
       "'This will give you student assignment details for data science masters class'"
      ]
     },
     "execution_count": 15,
     "metadata": {},
     "output_type": "execute_result"
    }
   ],
   "source": [
    "dsm.student_assignment()"
   ]
  },
  {
   "cell_type": "code",
   "execution_count": 25,
   "id": "c7ee8fa5-691e-4a2f-912b-8b5ee06d1940",
   "metadata": {},
   "outputs": [],
   "source": [
    "# Now sourabh shukla sir class"
   ]
  },
  {
   "cell_type": "code",
   "execution_count": 16,
   "id": "948d5ebe-dfee-4e57-a9b9-1d65bbbcedd9",
   "metadata": {},
   "outputs": [
    {
     "data": {
      "text/plain": [
       "'This is a method for taking students details for sourabh shukla sir class'"
      ]
     },
     "execution_count": 16,
     "metadata": {},
     "output_type": "execute_result"
    }
   ],
   "source": [
    "SSC=Sourabh_shukla_class()\n",
    "SSC.student_details()"
   ]
  },
  {
   "cell_type": "code",
   "execution_count": 17,
   "id": "6c6ec191-38bf-4aef-ab92-8cd749bf0956",
   "metadata": {},
   "outputs": [
    {
     "data": {
      "text/plain": [
       "'This is a method for assignment of students for sourabh shukla sir class'"
      ]
     },
     "execution_count": 17,
     "metadata": {},
     "output_type": "execute_result"
    }
   ],
   "source": [
    "SSC.student_assignment()"
   ]
  },
  {
   "cell_type": "code",
   "execution_count": 4,
   "id": "44456d2f-c7a3-48b0-ab54-3fe9b080bf31",
   "metadata": {},
   "outputs": [
    {
     "data": {
      "text/plain": [
       "'- button can decrease volume of TV'"
      ]
     },
     "execution_count": 4,
     "metadata": {},
     "output_type": "execute_result"
    }
   ],
   "source": [
    "# Abstraction\n",
    "\n",
    "import abc\n",
    "\n",
    "class Tv:\n",
    "\n",
    "    @abc.abstractmethod\n",
    "    def Volume(self):\n",
    "        pass\n",
    "    \n",
    "class increaseVolume: #  #class increaseVolume: # same both\n",
    "    def volume(self):\n",
    "        return \"+ button can increase volume of TV\"    \n",
    "\n",
    "class decreaseVolume: #  #class decreaseVolume: # same both\n",
    "    def volume(self):\n",
    "        return \"- button can decrease volume of TV\"\n"
   ]
  },
  {
   "cell_type": "code",
   "execution_count": 18,
   "id": "6d819046-27cd-4834-b1d5-cf25a5738da8",
   "metadata": {},
   "outputs": [],
   "source": [
    "\n",
    "# import abc\n",
    "\n",
    "# class Tv:\n",
    "\n",
    "#     @abc.abstractmethod\n",
    "#     def Volume(self):\n",
    "#         pass\n",
    "    \n",
    "# class increaseVolume(Tv): #class increaseVolume: # same both\n",
    "#     def volume(self):\n",
    "#         return \"+ button can increase volume of TV\"    \n",
    "\n",
    "# class decreaseVolume(Tv): #class decreaseVolume: # same both\n",
    "#     def volume(self):\n",
    "#         return \"- button can decrease volume of TV\"\n"
   ]
  },
  {
   "cell_type": "code",
   "execution_count": 19,
   "id": "3d49fab6-27f9-4854-b9a1-2b6c708df964",
   "metadata": {},
   "outputs": [
    {
     "data": {
      "text/plain": [
       "'+ button can increase volume of TV'"
      ]
     },
     "execution_count": 19,
     "metadata": {},
     "output_type": "execute_result"
    }
   ],
   "source": [
    "volUp=increaseVolume()\n",
    "volUp.volume()"
   ]
  },
  {
   "cell_type": "code",
   "execution_count": 20,
   "id": "4fc76f1a-c169-41e5-9ea0-9bcfaab56517",
   "metadata": {},
   "outputs": [
    {
     "data": {
      "text/plain": [
       "'- button can decrease volume of TV'"
      ]
     },
     "execution_count": 20,
     "metadata": {},
     "output_type": "execute_result"
    }
   ],
   "source": [
    "volDown=decreaseVolume()\n",
    "volDown.volume()"
   ]
  },
  {
   "cell_type": "code",
   "execution_count": 21,
   "id": "eaf6067a-6421-4e5b-9a8c-c0106e131a78",
   "metadata": {},
   "outputs": [
    {
     "data": {
      "text/plain": [
       "4"
      ]
     },
     "execution_count": 21,
     "metadata": {},
     "output_type": "execute_result"
    }
   ],
   "source": [
    "2+2"
   ]
  },
  {
   "cell_type": "code",
   "execution_count": 15,
   "id": "4991ef7f-2686-467c-ada5-9d413bc3ea2c",
   "metadata": {},
   "outputs": [],
   "source": [
    "# Another method  \n",
    "\n",
    "# isme aur upar wala mein ye antar hai ki \n",
    "\n",
    "# 1. upar wala mein import abc likha padta hai\n",
    "# class ke baad function se pehle \"abc.abstractmethod\" likhna padta hai \n",
    "\n",
    "# 2. isme from abc import ABC likhna padta hai\n",
    "# class mein ABC inherit karna padta hai means uske argument mein ABC likhna\n",
    "# isme class ke baad aur fucntion se pehle \"abc.abstractmethod\" nahi likhna padta\n",
    "# but isme har class ke function mein ABC jis class mein inherit kiya gaya \n",
    "# us inherit kiya gaya class ko inherit karna padega \n"
   ]
  },
  {
   "cell_type": "code",
   "execution_count": 13,
   "id": "93505b46-bb7a-4d4b-b6a9-d2af750b85c5",
   "metadata": {},
   "outputs": [],
   "source": [
    "# Abstraction\n",
    "\n",
    "from abc import ABC\n",
    "\n",
    "class Tv(ABC): #inherit property of ABC  thats why no need to write abc.abstractmethod\n",
    "\n",
    "    # @abc.abstractmethod no need\n",
    "    def Volume(self):\n",
    "        pass\n",
    "    \n",
    "class increaseVolume1(Tv):# inherit property of TV\n",
    "    def volume(self):\n",
    "        return \"+ button can increase volume of TV\"    \n",
    "\n",
    "class decreaseVolume1(Tv): #inherit property of TV\n",
    "    def volume(self):\n",
    "        \n",
    "        return \"- button can decrease volume of TV\"\n"
   ]
  },
  {
   "cell_type": "code",
   "execution_count": 11,
   "id": "26fbfa35-18d8-4c06-af34-dce5955b8c03",
   "metadata": {},
   "outputs": [
    {
     "data": {
      "text/plain": [
       "'+ button can increase volume of TV'"
      ]
     },
     "execution_count": 11,
     "metadata": {},
     "output_type": "execute_result"
    }
   ],
   "source": [
    "volUp=increaseVolume1()\n",
    "volUp.volume()"
   ]
  },
  {
   "cell_type": "code",
   "execution_count": 12,
   "id": "3492b5bf-4298-49e3-9d20-667ae56ead00",
   "metadata": {},
   "outputs": [
    {
     "data": {
      "text/plain": [
       "'- button can decrease volume of TV'"
      ]
     },
     "execution_count": 12,
     "metadata": {},
     "output_type": "execute_result"
    }
   ],
   "source": [
    "volDown=decreaseVolume1()\n",
    "volDown.volume()"
   ]
  },
  {
   "cell_type": "code",
   "execution_count": 51,
   "id": "9954a686-cc1d-46d6-a377-0edd0be1c847",
   "metadata": {},
   "outputs": [],
   "source": [
    "# Encapsulation\n",
    "\n",
    "class test:\n",
    "    def __init__(self,a,b):\n",
    "        self.a=a\n",
    "        self.b=b\n",
    "            \n",
    "obj=test(23,25)#obj\n"
   ]
  },
  {
   "cell_type": "code",
   "execution_count": 52,
   "id": "b8f82c8e-cc4f-4347-a639-7b18d533cf19",
   "metadata": {},
   "outputs": [
    {
     "data": {
      "text/plain": [
       "23"
      ]
     },
     "execution_count": 52,
     "metadata": {},
     "output_type": "execute_result"
    }
   ],
   "source": [
    "obj.a"
   ]
  },
  {
   "cell_type": "code",
   "execution_count": 53,
   "id": "2c9497b2-1c5d-4113-b4d3-57caa1c69a2f",
   "metadata": {},
   "outputs": [
    {
     "data": {
      "text/plain": [
       "25"
      ]
     },
     "execution_count": 53,
     "metadata": {},
     "output_type": "execute_result"
    }
   ],
   "source": [
    "obj.b"
   ]
  },
  {
   "cell_type": "code",
   "execution_count": 54,
   "id": "9267724a-bd59-4fe3-836f-335b49ed0b7c",
   "metadata": {},
   "outputs": [
    {
     "name": "stdout",
     "output_type": "stream",
     "text": [
      "23\n",
      "25\n"
     ]
    }
   ],
   "source": [
    "for i in (obj .a,obj.b):# show by loop\n",
    "    print(i)"
   ]
  },
  {
   "cell_type": "code",
   "execution_count": 31,
   "id": "5a86ad47-69d1-449c-abec-07de05cfedcb",
   "metadata": {},
   "outputs": [],
   "source": [
    "#but we can also change values\n",
    "\n",
    "obj.a=2999 #here we are changing the value of a from 23 to 2999\n",
    "obj.b=239  # here we are changing the value of a from 25 to 239\n"
   ]
  },
  {
   "cell_type": "code",
   "execution_count": 32,
   "id": "f3589c72-b12d-4d9a-8844-87b0aa16cf2d",
   "metadata": {},
   "outputs": [
    {
     "data": {
      "text/plain": [
       "2999"
      ]
     },
     "execution_count": 32,
     "metadata": {},
     "output_type": "execute_result"
    }
   ],
   "source": [
    "obj.a"
   ]
  },
  {
   "cell_type": "code",
   "execution_count": 33,
   "id": "2369f2c9-a3d5-4f71-8284-15c5f0e856e8",
   "metadata": {},
   "outputs": [
    {
     "data": {
      "text/plain": [
       "239"
      ]
     },
     "execution_count": 33,
     "metadata": {},
     "output_type": "execute_result"
    }
   ],
   "source": [
    "obj.b"
   ]
  },
  {
   "cell_type": "code",
   "execution_count": 34,
   "id": "4023899b-f5cd-4788-b562-0644b5f74813",
   "metadata": {},
   "outputs": [],
   "source": [
    "# Kuch aisa kare ki change na kar paaye \n",
    "# so make them private by __(double ) protected by _(single) and public no use this"
   ]
  },
  {
   "cell_type": "code",
   "execution_count": 35,
   "id": "ef2beb84-aa54-45f5-80c3-8f8e96b19e32",
   "metadata": {},
   "outputs": [],
   "source": [
    "class car:\n",
    "    def __init__(self,year,company,model,speed):\n",
    "        self.__year=year  #private\n",
    "        self.__company = company# private\n",
    "        self.model=model#public\n",
    "        self.speed=speed#public\n",
    "    \n",
    "        \n",
    "obj=car(2023,\"BMW\",\"i8\",300)\n"
   ]
  },
  {
   "cell_type": "code",
   "execution_count": 36,
   "id": "50f16d97-ad25-4263-81ab-672ea99d578c",
   "metadata": {},
   "outputs": [
    {
     "data": {
      "text/plain": [
       "'i8'"
      ]
     },
     "execution_count": 36,
     "metadata": {},
     "output_type": "execute_result"
    }
   ],
   "source": [
    "obj.model"
   ]
  },
  {
   "cell_type": "code",
   "execution_count": 37,
   "id": "5112660d-5f14-4935-b80f-acfb9e8686a1",
   "metadata": {},
   "outputs": [
    {
     "data": {
      "text/plain": [
       "300"
      ]
     },
     "execution_count": 37,
     "metadata": {},
     "output_type": "execute_result"
    }
   ],
   "source": [
    "obj.speed"
   ]
  },
  {
   "cell_type": "code",
   "execution_count": 38,
   "id": "e5482049-327d-44bf-aa3d-150dfc92cf79",
   "metadata": {},
   "outputs": [],
   "source": [
    "# but we can't access company and year because they are private"
   ]
  },
  {
   "cell_type": "code",
   "execution_count": 39,
   "id": "54e9b222-3369-45a8-aab7-9c2b9f71c018",
   "metadata": {},
   "outputs": [
    {
     "ename": "AttributeError",
     "evalue": "'car' object has no attribute 'company'",
     "output_type": "error",
     "traceback": [
      "\u001b[0;31m---------------------------------------------------------------------------\u001b[0m",
      "\u001b[0;31mAttributeError\u001b[0m                            Traceback (most recent call last)",
      "Cell \u001b[0;32mIn[39], line 1\u001b[0m\n\u001b[0;32m----> 1\u001b[0m \u001b[43mobj\u001b[49m\u001b[38;5;241;43m.\u001b[39;49m\u001b[43mcompany\u001b[49m\n",
      "\u001b[0;31mAttributeError\u001b[0m: 'car' object has no attribute 'company'"
     ]
    }
   ],
   "source": [
    "obj.company"
   ]
  },
  {
   "cell_type": "code",
   "execution_count": 40,
   "id": "8c09521b-93e9-4dc7-84b9-1b1c6d96a407",
   "metadata": {},
   "outputs": [],
   "source": [
    " # so usko access karne ke liye pehle obj. ke saath\" _class__function \""
   ]
  },
  {
   "cell_type": "code",
   "execution_count": 41,
   "id": "e0bb8cf4-c281-4c8a-8b98-e7cd37eb8e2b",
   "metadata": {},
   "outputs": [
    {
     "data": {
      "text/plain": [
       "'BMW'"
      ]
     },
     "execution_count": 41,
     "metadata": {},
     "output_type": "execute_result"
    }
   ],
   "source": [
    "obj._car__company"
   ]
  },
  {
   "cell_type": "code",
   "execution_count": 43,
   "id": "ae135c6d-46e4-4301-8c6b-40fb0a374d2d",
   "metadata": {},
   "outputs": [
    {
     "data": {
      "text/plain": [
       "2023"
      ]
     },
     "execution_count": 43,
     "metadata": {},
     "output_type": "execute_result"
    }
   ],
   "source": [
    "obj._car__year"
   ]
  },
  {
   "cell_type": "code",
   "execution_count": 44,
   "id": "aa8e79bf-f9cc-4ce7-8b90-0f1b3d47a1e7",
   "metadata": {},
   "outputs": [],
   "source": [
    "# Why can't we iterate this doubt"
   ]
  },
  {
   "cell_type": "code",
   "execution_count": 55,
   "id": "8c553cf6-586d-436c-a673-411adddd622f",
   "metadata": {},
   "outputs": [],
   "source": [
    "class car:\n",
    "    def __init__(self,year,brand,model,speed):\n",
    "        self.__year=year\n",
    "        self.__brand=brand\n",
    "        self.__model=model\n",
    "        self.__speed=speed\n",
    "        \n",
    "obj=car(2023,\"Audi\",\"Q7\",150)\n",
    "\n"
   ]
  },
  {
   "cell_type": "code",
   "execution_count": 57,
   "id": "5c0884bd-fc86-41de-8fd7-781bb83239a2",
   "metadata": {},
   "outputs": [
    {
     "data": {
      "text/plain": [
       "2023"
      ]
     },
     "execution_count": 57,
     "metadata": {},
     "output_type": "execute_result"
    }
   ],
   "source": [
    "obj._car__year\n"
   ]
  },
  {
   "cell_type": "code",
   "execution_count": 59,
   "id": "8ce1e028-35c5-4222-a682-1064c9959107",
   "metadata": {},
   "outputs": [
    {
     "ename": "AttributeError",
     "evalue": "'car' object has no attribute '_car'",
     "output_type": "error",
     "traceback": [
      "\u001b[0;31m---------------------------------------------------------------------------\u001b[0m",
      "\u001b[0;31mAttributeError\u001b[0m                            Traceback (most recent call last)",
      "Cell \u001b[0;32mIn[60], line 1\u001b[0m\n\u001b[0;32m----> 1\u001b[0m \u001b[38;5;28;01mfor\u001b[39;00m i \u001b[38;5;129;01min\u001b[39;00m (\u001b[43mobj\u001b[49m\u001b[38;5;241;43m.\u001b[39;49m\u001b[43m_car\u001b[49m):\n\u001b[1;32m      2\u001b[0m     \u001b[38;5;28mprint\u001b[39m(i)\n",
      "\u001b[0;31mAttributeError\u001b[0m: 'car' object has no attribute '_car'"
     ]
    }
   ],
   "source": [
    "for i in (obj._car):\n",
    "    print(i)\n",
    "    "
   ]
  },
  {
   "cell_type": "code",
   "execution_count": null,
   "id": "3e32c776-35e4-4ff7-8bb5-30c8a0206d3f",
   "metadata": {},
   "outputs": [],
   "source": [
    "# Another exapmple"
   ]
  },
  {
   "cell_type": "code",
   "execution_count": 62,
   "id": "c3c7ab48-f976-41bb-b448-cc9dfd5e2fcc",
   "metadata": {},
   "outputs": [],
   "source": [
    "class bike:\n",
    "    def __init__(self,price,model,speed):\n",
    "        self.__price=price\n",
    "        self.__model=model\n",
    "        self.__speed=speed\n",
    "        \n",
    "        # agar humko user ko kuch dikhana hai like speed set karna aur speed dekhna etc then \n",
    "\n",
    "    def set_speed(self,speed):\n",
    "        self._speed= 0 if speed<0 else speed\n",
    "        \n",
    "    def get_speed(self):\n",
    "        return self._speed\n",
    "    \n",
    "obj=bike(\"1.5 lakh\",\"Royal Enfield\",110)"
   ]
  },
  {
   "cell_type": "code",
   "execution_count": 72,
   "id": "583ec69a-4a79-422a-81ec-4d023b2b427f",
   "metadata": {},
   "outputs": [
    {
     "data": {
      "text/plain": [
       "150"
      ]
     },
     "execution_count": 72,
     "metadata": {},
     "output_type": "execute_result"
    }
   ],
   "source": [
    "obj.set_speed(150)\n",
    "obj.get_speed() "
   ]
  },
  {
   "cell_type": "code",
   "execution_count": 66,
   "id": "b78f3844-543e-482c-87d9-60da18cb3085",
   "metadata": {},
   "outputs": [
    {
     "data": {
      "text/plain": [
       "0"
      ]
     },
     "execution_count": 66,
     "metadata": {},
     "output_type": "execute_result"
    }
   ],
   "source": [
    "# what if we assign -ve speed\n",
    "\n",
    "obj.set_speed(-23) # negative speed can't be possible so output 0 as we set\n",
    "obj.get_speed()\n",
    "0"
   ]
  },
  {
   "cell_type": "code",
   "execution_count": 76,
   "id": "353428ab-9882-45e1-a446-51e3224188fe",
   "metadata": {},
   "outputs": [],
   "source": [
    "#polymorphism = poly means many and phism means form \n",
    "# many forms\n",
    "\n",
    "def test(a,b):\n",
    "    return a+b"
   ]
  },
  {
   "cell_type": "code",
   "execution_count": 77,
   "id": "8f45cfaf-d7ce-4c40-b31c-2defb49eb597",
   "metadata": {},
   "outputs": [
    {
     "data": {
      "text/plain": [
       "8"
      ]
     },
     "execution_count": 77,
     "metadata": {},
     "output_type": "execute_result"
    }
   ],
   "source": [
    "test(3,5)##test function int ko add kar raha"
   ]
  },
  {
   "cell_type": "code",
   "execution_count": 78,
   "id": "75725871-a702-41f6-bf51-839b3c8f0087",
   "metadata": {},
   "outputs": [
    {
     "data": {
      "text/plain": [
       "'RamSita'"
      ]
     },
     "execution_count": 78,
     "metadata": {},
     "output_type": "execute_result"
    }
   ],
   "source": [
    "test(\"Ram\",\"Sita\")#test function string ko add kar raha"
   ]
  },
  {
   "cell_type": "code",
   "execution_count": 79,
   "id": "be9f812d-907d-4e54-966f-484791d40136",
   "metadata": {},
   "outputs": [
    {
     "data": {
      "text/plain": [
       "[1, 2, 3, 4, 5, 6]"
      ]
     },
     "execution_count": 79,
     "metadata": {},
     "output_type": "execute_result"
    }
   ],
   "source": [
    "test([1,2,3],[4,5,6])#test function list ko add kar raha  "
   ]
  },
  {
   "cell_type": "code",
   "execution_count": 99,
   "id": "7862af10-bad0-45df-8c88-6dd38e293bfc",
   "metadata": {},
   "outputs": [
    {
     "name": "stdout",
     "output_type": "stream",
     "text": [
      "Drive!\n",
      "\n",
      "\n",
      "Sail!\n",
      "\n",
      "\n",
      "Fly!\n",
      "\n",
      "\n"
     ]
    }
   ],
   "source": [
    "# w3school\n",
    "\n",
    "class Car:\n",
    "  def __init__(self, brand, model):\n",
    "    self.brand = brand\n",
    "    self.model = model\n",
    "\n",
    "  def move(self):\n",
    "    print(\"Drive!\")\n",
    "\n",
    "class Boat:\n",
    "  def __init__(self, brand, model):\n",
    "    self.brand = brand\n",
    "    self.model = model\n",
    "\n",
    "  def move(self):\n",
    "    print(\"Sail!\")\n",
    "\n",
    "class Plane:\n",
    "  def __init__(self, brand, model):\n",
    "    self.brand = brand\n",
    "    self.model = model\n",
    "\n",
    "  def move(self):\n",
    "    print(\"Fly!\")\n",
    "\n",
    "car1 = Car(\"Ford\", \"Mustang\")       #Create a Car class\n",
    "boat1 = Boat(\"Ibiza\", \"Touring 20\") #Create a Boat class\n",
    "plane1 = Plane(\"Boeing\", \"747\")     #Create a Plane class\n",
    "\n",
    "for x in (car1, boat1, plane1):\n",
    "    # x.brand #not work\n",
    "    # print(x.brand) # work why\n",
    "    x.move()\n",
    "    print(\"\\n\")\n",
    "  "
   ]
  },
  {
   "cell_type": "code",
   "execution_count": 90,
   "id": "5e74e5f0-a00c-40f8-a5e9-4e5208ff53d7",
   "metadata": {},
   "outputs": [
    {
     "name": "stdout",
     "output_type": "stream",
     "text": [
      "Ford\n",
      "Mustang\n",
      "Move!\n",
      "\n",
      "\n",
      "Ibiza\n",
      "Touring 20\n",
      "Sail!\n",
      "\n",
      "\n",
      "Boeing\n",
      "747\n",
      "Fly!\n",
      "\n",
      "\n"
     ]
    }
   ],
   "source": [
    "class Vehicle:\n",
    "  def __init__(self, brand, model):\n",
    "    self.brand = brand\n",
    "    self.model = model\n",
    "\n",
    "  def move(self):\n",
    "    print(\"Move!\")\n",
    "\n",
    "class Car(Vehicle):\n",
    "  pass\n",
    "\n",
    "class Boat(Vehicle):\n",
    "  def move(self):\n",
    "    print(\"Sail!\")\n",
    "\n",
    "class Plane(Vehicle):\n",
    "  def move(self):\n",
    "    print(\"Fly!\")\n",
    "\n",
    "car1 = Car(\"Ford\", \"Mustang\") #Create a Car object\n",
    "boat1 = Boat(\"Ibiza\", \"Touring 20\") #Create a Boat object\n",
    "plane1 = Plane(\"Boeing\", \"747\") #Create a Plane object\n",
    "\n",
    "for x in (car1, boat1, plane1):\n",
    "  print(x.brand)\n",
    "  print(x.model)\n",
    "  x.move()\n",
    "  print(\"\\n\")\n"
   ]
  },
  {
   "cell_type": "code",
   "execution_count": 100,
   "id": "0e86897a-be38-4fe4-a1b7-2f54772b1fd2",
   "metadata": {},
   "outputs": [
    {
     "name": "stdout",
     "output_type": "stream",
     "text": [
      "Maths object 5\n",
      "Maths2 object 6\n"
     ]
    }
   ],
   "source": [
    "class maths:\n",
    "    def result(self,a,b):\n",
    "        self.a=a\n",
    "        self.b=b\n",
    "        self.c=self.a+self.b\n",
    "        print(self.c)\n",
    "\n",
    "        \n",
    "class maths2:        \n",
    "    def result(self,a,b):\n",
    "        self.a=a\n",
    "        self.b=b\n",
    "        self.c=self.a*self.b\n",
    "        print(self.c)\n",
    "        \n",
    "obj=maths()\n",
    "print(\"Maths object \",end = '')\n",
    "obj.result(3,2) #  functtion name same (result)\n",
    "\n",
    "obj=maths2()\n",
    "print(\"Maths2 object \",end = '')\n",
    "obj.result(3,2) # function name same(result)\n",
    "\n",
    "\n",
    "        "
   ]
  },
  {
   "cell_type": "code",
   "execution_count": 104,
   "id": "4f205e8a-96c5-4207-8322-aab0a4e05919",
   "metadata": {},
   "outputs": [],
   "source": [
    "# function overriding # function name same class different \n",
    "# isme wo function chalega jo niche hoga"
   ]
  },
  {
   "cell_type": "code",
   "execution_count": 110,
   "id": "41bbe3c0-429f-4c13-9a4f-93105b3e0eb6",
   "metadata": {},
   "outputs": [
    {
     "name": "stdout",
     "output_type": "stream",
     "text": [
      "6\n"
     ]
    }
   ],
   "source": [
    "class maths:\n",
    "    def result(self,a,b): \n",
    "        self.a=a\n",
    "        self.b=b\n",
    "        self.c=self.a+self.b\n",
    "        print(self.c)\n",
    "\n",
    "class mul(maths):\n",
    "    def result(self,a,b):\n",
    "        self.a=a\n",
    "        self.b=b\n",
    "        self.c=self.a*self.b# ye wala chal raha hai\n",
    "        print(self.c)\n",
    "        \n",
    "result_add=mul()\n",
    "\n",
    "result_add.result(3,2)\n",
    "\n",
    "        "
   ]
  },
  {
   "cell_type": "code",
   "execution_count": 118,
   "id": "a8d33343-c241-454b-920d-9c4eea58c5ef",
   "metadata": {},
   "outputs": [
    {
     "name": "stdout",
     "output_type": "stream",
     "text": [
      "5\n",
      "6\n"
     ]
    }
   ],
   "source": [
    "class maths:\n",
    "    def result(self,a,b): \n",
    "        self.a=a\n",
    "        self.b=b\n",
    "        self.c=self.a+self.b\n",
    "        print(self.c)\n",
    "\n",
    "class mul(maths):\n",
    "    def result1(self,a,b): # name change kar diye result se result1 \n",
    "        self.a=a\n",
    "        self.b=b\n",
    "        self.c=self.a*self.b# ye wala chal raha hai\n",
    "        print(self.c)\n",
    "        \n",
    "result_add=mul()\n",
    "\n",
    "result_add.result(3,2)# dekho class mul hai but usme mul result ka output 5 aa raha\n",
    "                       #kyunki wo add operation use kar raha\n",
    "result_add.result1(3,2)# ye muliply operation use kar raha\n",
    "\n",
    "# so proved upar wala example function overriding ka hai\n",
    "        "
   ]
  },
  {
   "cell_type": "code",
   "execution_count": null,
   "id": "82bf07e4-529e-4177-b80e-97f42ae75b45",
   "metadata": {},
   "outputs": [],
   "source": []
  }
 ],
 "metadata": {
  "kernelspec": {
   "display_name": "Python 3 (ipykernel)",
   "language": "python",
   "name": "python3"
  },
  "language_info": {
   "codemirror_mode": {
    "name": "ipython",
    "version": 3
   },
   "file_extension": ".py",
   "mimetype": "text/x-python",
   "name": "python",
   "nbconvert_exporter": "python",
   "pygments_lexer": "ipython3",
   "version": "3.10.8"
  }
 },
 "nbformat": 4,
 "nbformat_minor": 5
}
