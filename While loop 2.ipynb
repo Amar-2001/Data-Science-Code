{
 "cells": [
  {
   "cell_type": "code",
   "execution_count": 2,
   "id": "646cd480-8a8b-4205-91ee-857316d4a0df",
   "metadata": {},
   "outputs": [
    {
     "name": "stdin",
     "output_type": "stream",
     "text": [
      "Enter the limit  5\n"
     ]
    },
    {
     "data": {
      "text/plain": [
       "15"
      ]
     },
     "execution_count": 2,
     "metadata": {},
     "output_type": "execute_result"
    }
   ],
   "source": [
    "a=1\n",
    "sum = 0\n",
    "n=int(input(\"Enter the limit \"))\n",
    "while a<=n:\n",
    "    sum=sum+a\n",
    "    a=a+1\n",
    "sum    "
   ]
  },
  {
   "cell_type": "code",
   "execution_count": 4,
   "id": "d41f84cf-77af-441f-a48a-152c43bcd9ef",
   "metadata": {},
   "outputs": [
    {
     "name": "stdin",
     "output_type": "stream",
     "text": [
      "Enter any number =  5\n"
     ]
    },
    {
     "name": "stdout",
     "output_type": "stream",
     "text": [
      "120\n"
     ]
    }
   ],
   "source": [
    "n=int(input('Enter any number = '))\n",
    "fact=1\n",
    "while n>=1:#4 3 2 1 True (if 0 False )\n",
    "    fact=fact*n # 1*4 4*3 12*2 24*1\n",
    "    n=n-1\n",
    "print(fact)"
   ]
  },
  {
   "cell_type": "code",
   "execution_count": 6,
   "id": "7129b26c-1868-4892-969d-7645ea09bdfe",
   "metadata": {},
   "outputs": [
    {
     "name": "stdin",
     "output_type": "stream",
     "text": [
      "Enter any number  3\n"
     ]
    },
    {
     "data": {
      "text/plain": [
       "6"
      ]
     },
     "execution_count": 6,
     "metadata": {},
     "output_type": "execute_result"
    }
   ],
   "source": [
    "n=int(input('Enter any number '))\n",
    "fact=1\n",
    "while n>0: # 3 T 2 T 1 T 0 F \n",
    "    fact=fact*n # 1*3 3*2 6*1 =6\n",
    "    n=n-1 # 2 1 0\n",
    "fact\n",
    "\n",
    "      \n",
    "      "
   ]
  },
  {
   "cell_type": "code",
   "execution_count": 7,
   "id": "7009140c-4d93-4a5e-9f83-02af16a88343",
   "metadata": {},
   "outputs": [],
   "source": [
    "# Fibonacci series"
   ]
  },
  {
   "cell_type": "code",
   "execution_count": null,
   "id": "ffd452d7-a4bd-4bb5-9c29-d0cde719e8cf",
   "metadata": {},
   "outputs": [],
   "source": [
    "n=int(input(\"Enter any number \"))\n",
    "a=0\n",
    "b=1\n",
    "fib=0\n",
    "while n>0:\n",
    "    fib=a\n",
    "    c=a+b\n",
    "    a=b\n",
    "    b=c\n",
    "    n=n-1\n",
    "fib\n",
    "    "
   ]
  },
  {
   "cell_type": "code",
   "execution_count": null,
   "id": "4c798a4d-f023-4d53-958f-8ee43f4fd88b",
   "metadata": {},
   "outputs": [],
   "source": [
    "# while else"
   ]
  },
  {
   "cell_type": "code",
   "execution_count": null,
   "id": "ca48a776-1525-4fab-a7d8-5a73c6d7390e",
   "metadata": {},
   "outputs": [],
   "source": [
    "n=5\n",
    "i=1\n",
    "while i<n:\n",
    "    print(i)\n",
    "else:\n",
    "    print(\"This will be executed when your while will be completed\")"
   ]
  },
  {
   "cell_type": "code",
   "execution_count": null,
   "id": "177a0f07-f302-4d2f-837d-be83cc954e4d",
   "metadata": {},
   "outputs": [],
   "source": []
  }
 ],
 "metadata": {
  "kernelspec": {
   "display_name": "Python 3 (ipykernel)",
   "language": "python",
   "name": "python3"
  },
  "language_info": {
   "codemirror_mode": {
    "name": "ipython",
    "version": 3
   },
   "file_extension": ".py",
   "mimetype": "text/x-python",
   "name": "python",
   "nbconvert_exporter": "python",
   "pygments_lexer": "ipython3",
   "version": "3.10.8"
  }
 },
 "nbformat": 4,
 "nbformat_minor": 5
}
