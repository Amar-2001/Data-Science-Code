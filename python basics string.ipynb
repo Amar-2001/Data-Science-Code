{
 "cells": [
  {
   "cell_type": "code",
   "execution_count": 12,
   "id": "0124db3a-dd45-4fa6-919b-311875f883fc",
   "metadata": {},
   "outputs": [],
   "source": [
    "a=\"This is my string class\""
   ]
  },
  {
   "cell_type": "code",
   "execution_count": 17,
   "id": "db6b8d3b-0741-4499-b069-0c3935fdbec4",
   "metadata": {},
   "outputs": [
    {
     "data": {
      "text/plain": [
       "'This is my string class'"
      ]
     },
     "execution_count": 17,
     "metadata": {},
     "output_type": "execute_result"
    }
   ],
   "source": [
    "a"
   ]
  },
  {
   "cell_type": "code",
   "execution_count": 18,
   "id": "71944997-b593-4269-af90-de8c556d08b7",
   "metadata": {},
   "outputs": [
    {
     "data": {
      "text/plain": [
       "23"
      ]
     },
     "execution_count": 18,
     "metadata": {},
     "output_type": "execute_result"
    }
   ],
   "source": [
    "len(a)"
   ]
  },
  {
   "cell_type": "code",
   "execution_count": null,
   "id": "5d0ca727-0905-480f-89ee-d681ab38ed97",
   "metadata": {},
   "outputs": [],
   "source": []
  },
  {
   "cell_type": "code",
   "execution_count": 5,
   "id": "6c1e68d6-6945-46d3-87da-363850bf00a9",
   "metadata": {},
   "outputs": [
    {
     "data": {
      "text/plain": [
       "3"
      ]
     },
     "execution_count": 5,
     "metadata": {},
     "output_type": "execute_result"
    }
   ],
   "source": [
    "a.find('s')"
   ]
  },
  {
   "cell_type": "code",
   "execution_count": 6,
   "id": "c69867ff-7a3e-40f0-94a9-d72c57ae81a4",
   "metadata": {},
   "outputs": [
    {
     "data": {
      "text/plain": [
       "2"
      ]
     },
     "execution_count": 6,
     "metadata": {},
     "output_type": "execute_result"
    }
   ],
   "source": [
    "a.find('is')"
   ]
  },
  {
   "cell_type": "code",
   "execution_count": 9,
   "id": "3bfd4ed9-5a2f-4e5c-98ef-08a591a49315",
   "metadata": {},
   "outputs": [
    {
     "data": {
      "text/plain": [
       "-1"
      ]
     },
     "execution_count": 9,
     "metadata": {},
     "output_type": "execute_result"
    }
   ],
   "source": [
    "a.find(\"iS\")#it gives output -1 when didn't find in string"
   ]
  },
  {
   "cell_type": "code",
   "execution_count": null,
   "id": "a1f6feb8-2045-4b47-bca2-8e3bd1f86be2",
   "metadata": {},
   "outputs": [],
   "source": [
    "a.casefold()\n"
   ]
  },
  {
   "cell_type": "code",
   "execution_count": null,
   "id": "d1067924-0ccf-4ba5-b34b-eb1074bbce4c",
   "metadata": {},
   "outputs": [],
   "source": [
    "a.count('s')\n"
   ]
  },
  {
   "cell_type": "code",
   "execution_count": null,
   "id": "4c47f9b1-0b85-4eda-91d2-13b0f00f4f2d",
   "metadata": {},
   "outputs": [],
   "source": [
    "a.count(\"is\")"
   ]
  },
  {
   "cell_type": "code",
   "execution_count": 11,
   "id": "1f37fa1e-09b9-4981-bdd7-6d159fb7536c",
   "metadata": {},
   "outputs": [
    {
     "ename": "NameError",
     "evalue": "name 'a' is not defined",
     "output_type": "error",
     "traceback": [
      "\u001b[0;31m---------------------------------------------------------------------------\u001b[0m",
      "\u001b[0;31mNameError\u001b[0m                                 Traceback (most recent call last)",
      "Cell \u001b[0;32mIn[11], line 1\u001b[0m\n\u001b[0;32m----> 1\u001b[0m \u001b[43ma\u001b[49m\u001b[38;5;241m.\u001b[39mcount(\u001b[38;5;124m\"\u001b[39m\u001b[38;5;124mq\u001b[39m\u001b[38;5;124m\"\u001b[39m)\n",
      "\u001b[0;31mNameError\u001b[0m: name 'a' is not defined"
     ]
    }
   ],
   "source": [
    "a.count(\"q\")\n"
   ]
  },
  {
   "cell_type": "code",
   "execution_count": null,
   "id": "d0934e3e-32a3-4fe5-a4c6-1960a1541944",
   "metadata": {},
   "outputs": [],
   "source": [
    "a.upper()"
   ]
  },
  {
   "cell_type": "code",
   "execution_count": null,
   "id": "5edb7bb5-ca03-45dd-a7af-bc72d106e0c7",
   "metadata": {},
   "outputs": [],
   "source": [
    "b='THIS IS MY STRING CLASS'"
   ]
  },
  {
   "cell_type": "code",
   "execution_count": 10,
   "id": "83e1e5b4-a4ad-4f4a-a3af-6bcfe822fb7a",
   "metadata": {},
   "outputs": [
    {
     "data": {
      "text/plain": [
       "'this is my string class'"
      ]
     },
     "execution_count": 10,
     "metadata": {},
     "output_type": "execute_result"
    }
   ],
   "source": [
    "b.lower()\n"
   ]
  },
  {
   "cell_type": "code",
   "execution_count": 8,
   "id": "2aedc0be-ea8b-4bdf-a6ae-1bac7901330e",
   "metadata": {},
   "outputs": [
    {
     "data": {
      "text/plain": [
       "'This Is My String Class'"
      ]
     },
     "execution_count": 8,
     "metadata": {},
     "output_type": "execute_result"
    }
   ],
   "source": [
    "b.title()"
   ]
  },
  {
   "cell_type": "code",
   "execution_count": null,
   "id": "9467fbc5-0ed2-43e6-b2b0-330392d6da06",
   "metadata": {},
   "outputs": [],
   "source": [
    "b.capitalize()"
   ]
  },
  {
   "cell_type": "code",
   "execution_count": 19,
   "id": "709f5d5e-b251-4941-9113-839ca41dac93",
   "metadata": {},
   "outputs": [
    {
     "ename": "TypeError",
     "evalue": "can only concatenate str (not \"int\") to str",
     "output_type": "error",
     "traceback": [
      "\u001b[0;31m---------------------------------------------------------------------------\u001b[0m",
      "\u001b[0;31mTypeError\u001b[0m                                 Traceback (most recent call last)",
      "Cell \u001b[0;32mIn[19], line 1\u001b[0m\n\u001b[0;32m----> 1\u001b[0m \u001b[43ma\u001b[49m\u001b[38;5;241;43m+\u001b[39;49m\u001b[38;5;241;43m1\u001b[39;49m\n",
      "\u001b[0;31mTypeError\u001b[0m: can only concatenate str (not \"int\") to str"
     ]
    }
   ],
   "source": [
    "a+1"
   ]
  },
  {
   "cell_type": "code",
   "execution_count": 20,
   "id": "5b93b70d-daa3-451d-9be2-3a66556b6b79",
   "metadata": {},
   "outputs": [
    {
     "data": {
      "text/plain": [
       "'This is my string class'"
      ]
     },
     "execution_count": 20,
     "metadata": {},
     "output_type": "execute_result"
    }
   ],
   "source": [
    "a"
   ]
  },
  {
   "cell_type": "code",
   "execution_count": 21,
   "id": "66fbc71a-e9cd-415d-95be-6e4ad26542d0",
   "metadata": {},
   "outputs": [
    {
     "data": {
      "text/plain": [
       "'This is my string class Amar'"
      ]
     },
     "execution_count": 21,
     "metadata": {},
     "output_type": "execute_result"
    }
   ],
   "source": [
    "a+\" Amar\""
   ]
  },
  {
   "cell_type": "code",
   "execution_count": 22,
   "id": "ec4f84f6-b34b-4bb9-934c-fb0607ba6797",
   "metadata": {},
   "outputs": [
    {
     "data": {
      "text/plain": [
       "'This is my string class1'"
      ]
     },
     "execution_count": 22,
     "metadata": {},
     "output_type": "execute_result"
    }
   ],
   "source": [
    "a+\"1\""
   ]
  },
  {
   "cell_type": "code",
   "execution_count": 23,
   "id": "6032097b-04af-4b39-a96b-5e42eee1538b",
   "metadata": {},
   "outputs": [
    {
     "data": {
      "text/plain": [
       "'This is my string class1'"
      ]
     },
     "execution_count": 23,
     "metadata": {},
     "output_type": "execute_result"
    }
   ],
   "source": [
    "a+str(1)"
   ]
  },
  {
   "cell_type": "code",
   "execution_count": 24,
   "id": "fccd2a22-7a29-49b3-9078-f540243d93f2",
   "metadata": {},
   "outputs": [
    {
     "data": {
      "text/plain": [
       "'This is my string classThis is my string classThis is my string class'"
      ]
     },
     "execution_count": 24,
     "metadata": {},
     "output_type": "execute_result"
    }
   ],
   "source": [
    "a*3\n"
   ]
  },
  {
   "cell_type": "code",
   "execution_count": 25,
   "id": "83c06842-a69f-4664-8d20-b47c29a61f9b",
   "metadata": {},
   "outputs": [
    {
     "data": {
      "text/plain": [
       "'AMARAMARAMARAMARAMARAMARAMARAMARAMARAMAR'"
      ]
     },
     "execution_count": 25,
     "metadata": {},
     "output_type": "execute_result"
    }
   ],
   "source": [
    "\"AMAR\"*10"
   ]
  },
  {
   "cell_type": "code",
   "execution_count": 26,
   "id": "2342899e-4c5a-42c3-951c-96b8773d752c",
   "metadata": {},
   "outputs": [
    {
     "ename": "TypeError",
     "evalue": "unsupported operand type(s) for ** or pow(): 'str' and 'int'",
     "output_type": "error",
     "traceback": [
      "\u001b[0;31m---------------------------------------------------------------------------\u001b[0m",
      "\u001b[0;31mTypeError\u001b[0m                                 Traceback (most recent call last)",
      "Cell \u001b[0;32mIn[26], line 1\u001b[0m\n\u001b[0;32m----> 1\u001b[0m \u001b[38;5;124;43m\"\u001b[39;49m\u001b[38;5;124;43mAmar \u001b[39;49m\u001b[38;5;124;43m\"\u001b[39;49m\u001b[38;5;241;43m*\u001b[39;49m\u001b[38;5;241;43m*\u001b[39;49m\u001b[38;5;241;43m4\u001b[39;49m\n",
      "\u001b[0;31mTypeError\u001b[0m: unsupported operand type(s) for ** or pow(): 'str' and 'int'"
     ]
    }
   ],
   "source": [
    "\"Amar \"**4"
   ]
  },
  {
   "cell_type": "code",
   "execution_count": 29,
   "id": "e996f428-c9da-451b-a673-9036fe112a18",
   "metadata": {},
   "outputs": [
    {
     "data": {
      "text/plain": [
       "\"Don't do copy and paster in my class \""
      ]
     },
     "execution_count": 29,
     "metadata": {},
     "output_type": "execute_result"
    }
   ],
   "source": [
    "\"Don't do copy and paster in my class \""
   ]
  },
  {
   "cell_type": "code",
   "execution_count": 30,
   "id": "34165941-a050-47ef-9742-0ed374d3b7c1",
   "metadata": {},
   "outputs": [
    {
     "data": {
      "text/plain": [
       "'Don\"t do copy and paster in my class'"
      ]
     },
     "execution_count": 30,
     "metadata": {},
     "output_type": "execute_result"
    }
   ],
   "source": [
    "'Don\"t do copy and paster in my class'"
   ]
  },
  {
   "cell_type": "code",
   "execution_count": 37,
   "id": "10dadfbe-2465-40e2-818c-d82329a5ddf6",
   "metadata": {},
   "outputs": [
    {
     "data": {
      "text/plain": [
       "'I am learning python again in deeper level'"
      ]
     },
     "execution_count": 37,
     "metadata": {},
     "output_type": "execute_result"
    }
   ],
   "source": [
    "\"I am learning python again in deeper level\" # Comment"
   ]
  },
  {
   "cell_type": "code",
   "execution_count": 40,
   "id": "b50b21e6-4c41-4825-867d-6cd751c666fc",
   "metadata": {},
   "outputs": [
    {
     "data": {
      "text/plain": [
       "'I am learning python in deeper levelcomment is tarah se nai hoga print ho jaa raha why'"
      ]
     },
     "execution_count": 40,
     "metadata": {},
     "output_type": "execute_result"
    }
   ],
   "source": [
    "\"I am learning python in deeper level\" \"\"\"comment is tarah se nai hoga print ho jaa raha why\"\"\""
   ]
  },
  {
   "cell_type": "code",
   "execution_count": 38,
   "id": "bc951fba-c1b2-4997-abf9-280a7d001d6c",
   "metadata": {},
   "outputs": [
    {
     "data": {
      "text/plain": [
       "'I am a very fast learner. I can learn anything faster than anybody because I am a challenging person\\nwho always challenge ownself.'"
      ]
     },
     "execution_count": 38,
     "metadata": {},
     "output_type": "execute_result"
    }
   ],
   "source": [
    "\"\"\"I am a very fast learner. I can learn anything faster than anybody because I am a challenging person\n",
    "who always challenge ownself.\"\"\""
   ]
  },
  {
   "cell_type": "code",
   "execution_count": null,
   "id": "9a3f2832-16e3-41da-b247-4cdcd96d9113",
   "metadata": {},
   "outputs": [],
   "source": [
    "# I am \n",
    "# checking \n",
    "# comment by \n",
    "# commment and \n",
    "# forward slash ?"
   ]
  },
  {
   "cell_type": "code",
   "execution_count": 41,
   "id": "9aafc2be-fea9-48e8-8c34-23aeb0eac898",
   "metadata": {},
   "outputs": [],
   "source": [
    "a=\"Coding\""
   ]
  },
  {
   "cell_type": "code",
   "execution_count": 42,
   "id": "6a434aec-8236-47f2-8e99-0b90e014c412",
   "metadata": {},
   "outputs": [
    {
     "name": "stdout",
     "output_type": "stream",
     "text": [
      "Coding\n"
     ]
    }
   ],
   "source": [
    "print(a)"
   ]
  },
  {
   "cell_type": "code",
   "execution_count": 47,
   "id": "5b7a0eaf-73c0-4a52-97e2-0a7ea79a4900",
   "metadata": {},
   "outputs": [
    {
     "data": {
      "text/plain": [
       "'c'"
      ]
     },
     "execution_count": 47,
     "metadata": {},
     "output_type": "execute_result"
    }
   ],
   "source": [
    "a[-6::-1].lower()"
   ]
  },
  {
   "cell_type": "code",
   "execution_count": 48,
   "id": "c1ce4581-f647-447d-b36c-cf4e9ff876df",
   "metadata": {},
   "outputs": [],
   "source": [
    "e='pwskills'"
   ]
  },
  {
   "cell_type": "code",
   "execution_count": 49,
   "id": "f3483b0d-a634-4975-9383-12ac0c146542",
   "metadata": {},
   "outputs": [
    {
     "data": {
      "text/plain": [
       "'pwskills'"
      ]
     },
     "execution_count": 49,
     "metadata": {},
     "output_type": "execute_result"
    }
   ],
   "source": [
    "e\n"
   ]
  },
  {
   "cell_type": "code",
   "execution_count": null,
   "id": "de353b74-47c8-48be-a26a-11b846e61b76",
   "metadata": {},
   "outputs": [
    {
     "data": {
      "text/plain": [
       "'slliksw'"
      ]
     },
     "execution_count": 53,
     "metadata": {},
     "output_type": "execute_result"
    }
   ],
   "source": [
    "e[:-8:-1]"
   ]
  },
  {
   "cell_type": "code",
   "execution_count": 54,
   "id": "e7bfaeca-9035-43ce-aa5d-0f7cf8ebfc1a",
   "metadata": {},
   "outputs": [
    {
     "data": {
      "text/plain": [
       "'slliksw'"
      ]
     },
     "execution_count": 54,
     "metadata": {},
     "output_type": "execute_result"
    }
   ],
   "source": [
    "e[8:0:-1]\n",
    "\n",
    "\n"
   ]
  },
  {
   "cell_type": "code",
   "execution_count": 62,
   "id": "9592931e-d213-427f-9319-85eba149afd8",
   "metadata": {},
   "outputs": [
    {
     "data": {
      "text/plain": [
       "'k'"
      ]
     },
     "execution_count": 62,
     "metadata": {},
     "output_type": "execute_result"
    }
   ],
   "source": [
    "e[3:2:-1]"
   ]
  },
  {
   "cell_type": "code",
   "execution_count": 64,
   "id": "73c56c02-dc03-4b36-8ed9-dfb39f841b74",
   "metadata": {},
   "outputs": [
    {
     "data": {
      "text/plain": [
       "''"
      ]
     },
     "execution_count": 64,
     "metadata": {},
     "output_type": "execute_result"
    }
   ],
   "source": [
    "e[2:3:-1]# doubt why not "
   ]
  },
  {
   "cell_type": "code",
   "execution_count": null,
   "id": "06fbc5f4-0af7-4e47-9f9f-706cd9fb4b22",
   "metadata": {},
   "outputs": [],
   "source": []
  },
  {
   "cell_type": "code",
   "execution_count": null,
   "id": "56017c18-9bc4-4868-aaea-e610b800dac8",
   "metadata": {},
   "outputs": [],
   "source": [
    "\n",
    "\n"
   ]
  },
  {
   "cell_type": "code",
   "execution_count": null,
   "id": "898edb4c-b83a-49e1-9c76-0857205c8797",
   "metadata": {},
   "outputs": [],
   "source": []
  },
  {
   "cell_type": "code",
   "execution_count": null,
   "id": "dae79827-b6f4-41cb-bcea-5c15b3c5a9aa",
   "metadata": {},
   "outputs": [],
   "source": []
  },
  {
   "cell_type": "code",
   "execution_count": null,
   "id": "0b5499c5-be16-4f89-87de-54e158e578a0",
   "metadata": {},
   "outputs": [],
   "source": [
    "\n"
   ]
  }
 ],
 "metadata": {
  "kernelspec": {
   "display_name": "Python 3 (ipykernel)",
   "language": "python",
   "name": "python3"
  },
  "language_info": {
   "codemirror_mode": {
    "name": "ipython",
    "version": 3
   },
   "file_extension": ".py",
   "mimetype": "text/x-python",
   "name": "python",
   "nbconvert_exporter": "python",
   "pygments_lexer": "ipython3",
   "version": "3.10.8"
  }
 },
 "nbformat": 4,
 "nbformat_minor": 5
}
