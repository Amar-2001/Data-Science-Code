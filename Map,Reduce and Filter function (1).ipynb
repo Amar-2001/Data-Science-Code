{
 "cells": [
  {
   "cell_type": "code",
   "execution_count": 1,
   "id": "148904b3-8edf-4a7f-b0e9-fdbb8c162083",
   "metadata": {},
   "outputs": [],
   "source": [
    "l=[2,3,8,4,5]"
   ]
  },
  {
   "cell_type": "code",
   "execution_count": 11,
   "id": "e67f4222-9f9c-4868-a5ae-d96428025930",
   "metadata": {},
   "outputs": [],
   "source": [
    "def sq(l):\n",
    "    l1=[]\n",
    "    for i in l:\n",
    "        l1.append(i**2)\n",
    "    return l1"
   ]
  },
  {
   "cell_type": "code",
   "execution_count": 13,
   "id": "678f66f2-8bcb-41ad-877a-574803cb1dee",
   "metadata": {},
   "outputs": [
    {
     "data": {
      "text/plain": [
       "[4, 9, 64, 16, 25]"
      ]
     },
     "execution_count": 13,
     "metadata": {},
     "output_type": "execute_result"
    }
   ],
   "source": [
    "sq(l)"
   ]
  },
  {
   "cell_type": "code",
   "execution_count": 39,
   "id": "bafcff64-ac7f-4706-9af4-3e4f176e017b",
   "metadata": {},
   "outputs": [],
   "source": [
    "# map function \n",
    "# map function do argument leta hai pehla us par kyaa function apply karna chahte ho\n",
    "# aur dusra us par kis iterables par apply hoga like\n",
    "# list ya tuple etc ko apply karna chahte ho"
   ]
  },
  {
   "cell_type": "code",
   "execution_count": 15,
   "id": "d07773d5-8d95-4522-af41-1765bb75a6f6",
   "metadata": {},
   "outputs": [
    {
     "data": {
      "text/plain": [
       "[2, 3, 8, 4, 5]"
      ]
     },
     "execution_count": 15,
     "metadata": {},
     "output_type": "execute_result"
    }
   ],
   "source": [
    "l"
   ]
  },
  {
   "cell_type": "code",
   "execution_count": 28,
   "id": "a2e26edb-f517-465c-a965-861afdcec0d9",
   "metadata": {},
   "outputs": [],
   "source": [
    "def sq(l):\n",
    "        return l**2\n",
    "def sq(x):# we can pass anything as an argument \n",
    "    return x**2"
   ]
  },
  {
   "cell_type": "code",
   "execution_count": 32,
   "id": "a62a016a-12b2-46e2-8355-77f7be2fe642",
   "metadata": {},
   "outputs": [
    {
     "data": {
      "text/plain": [
       "<map at 0x7faa5c06ab30>"
      ]
     },
     "execution_count": 32,
     "metadata": {},
     "output_type": "execute_result"
    }
   ],
   "source": [
    "map(sq,l)# gave object of map"
   ]
  },
  {
   "cell_type": "code",
   "execution_count": 30,
   "id": "70fbe1be-8d6b-4661-8a4c-95090d7faf92",
   "metadata": {},
   "outputs": [
    {
     "data": {
      "text/plain": [
       "[4, 9, 64, 16, 25]"
      ]
     },
     "execution_count": 30,
     "metadata": {},
     "output_type": "execute_result"
    }
   ],
   "source": [
    "list(map(sq,l))# converting object into list\n"
   ]
  },
  {
   "cell_type": "code",
   "execution_count": 31,
   "id": "2555bb69-03d6-4153-83c1-f118c140aba3",
   "metadata": {},
   "outputs": [
    {
     "data": {
      "text/plain": [
       "[4, 9, 64, 16, 25]"
      ]
     },
     "execution_count": 31,
     "metadata": {},
     "output_type": "execute_result"
    }
   ],
   "source": [
    "# for def sq(x)\n",
    "list(map(sq,l))# also give same output "
   ]
  },
  {
   "cell_type": "code",
   "execution_count": 35,
   "id": "1e362cd5-bdb5-42ef-a545-a805baa766e6",
   "metadata": {},
   "outputs": [
    {
     "data": {
      "text/plain": [
       "[4, 9, 64, 16, 25]"
      ]
     },
     "execution_count": 35,
     "metadata": {},
     "output_type": "execute_result"
    }
   ],
   "source": [
    "# map by lambda function\n",
    "\n",
    "list(map(lambda x: x**2,l))"
   ]
  },
  {
   "cell_type": "code",
   "execution_count": 41,
   "id": "8a837034-cf1a-42a6-9ae8-4557559d1446",
   "metadata": {},
   "outputs": [],
   "source": [
    "l1=[1,2,3,4,5]\n",
    "l2=[5,6,7,8,9]"
   ]
  },
  {
   "cell_type": "code",
   "execution_count": 54,
   "id": "d43227bd-0f80-47c5-96e0-817fb48ca8c8",
   "metadata": {},
   "outputs": [],
   "source": [
    "def func(l1,l2):\n",
    "    result=[]\n",
    "    for i in range(len(l1)):\n",
    "        result.append(l1[i]+l2[i])\n",
    "    return result"
   ]
  },
  {
   "cell_type": "code",
   "execution_count": 55,
   "id": "75dc4681-5efb-4500-8459-033e1d9d0206",
   "metadata": {},
   "outputs": [
    {
     "data": {
      "text/plain": [
       "[6, 8, 10, 12, 14]"
      ]
     },
     "execution_count": 55,
     "metadata": {},
     "output_type": "execute_result"
    }
   ],
   "source": [
    "func(l1,l2)\n"
   ]
  },
  {
   "cell_type": "code",
   "execution_count": null,
   "id": "5b8573b3-fcd4-490c-999c-476771584bc5",
   "metadata": {},
   "outputs": [],
   "source": []
  },
  {
   "cell_type": "code",
   "execution_count": 61,
   "id": "387ca896-6b20-4d41-ac34-48f0ce3b8414",
   "metadata": {},
   "outputs": [],
   "source": [
    "def addList(l1,l2):\n",
    "    return  l1+l2\n",
    "\n",
    "def addList(x,y):\n",
    "    return  x+y\n",
    "\n"
   ]
  },
  {
   "cell_type": "code",
   "execution_count": 59,
   "id": "cf2f4775-181a-417b-849d-e1f575159161",
   "metadata": {},
   "outputs": [
    {
     "data": {
      "text/plain": [
       "[6, 8, 10, 12, 14]"
      ]
     },
     "execution_count": 59,
     "metadata": {},
     "output_type": "execute_result"
    }
   ],
   "source": [
    "# map function\n",
    "list(map(addList, l1,l2))"
   ]
  },
  {
   "cell_type": "code",
   "execution_count": 64,
   "id": "e3aa833d-ebda-4009-afcf-86a92ac6a1b4",
   "metadata": {},
   "outputs": [
    {
     "data": {
      "text/plain": [
       "[6, 8, 10, 12, 14]"
      ]
     },
     "execution_count": 64,
     "metadata": {},
     "output_type": "execute_result"
    }
   ],
   "source": [
    "list(map(addList,l1,l2))# for def x,y"
   ]
  },
  {
   "cell_type": "code",
   "execution_count": 60,
   "id": "9833ab2e-3464-4675-8dfd-b1d696983749",
   "metadata": {},
   "outputs": [
    {
     "data": {
      "text/plain": [
       "[6, 8, 10, 12, 14]"
      ]
     },
     "execution_count": 60,
     "metadata": {},
     "output_type": "execute_result"
    }
   ],
   "source": [
    "# lambda function to add\n",
    "\n",
    "list(map(lambda x,y:x+y,l1,l2))"
   ]
  },
  {
   "cell_type": "code",
   "execution_count": 65,
   "id": "5e9c487c-b337-48f4-ad64-dd7e0170f391",
   "metadata": {},
   "outputs": [],
   "source": [
    "l4=\"Pwskills\""
   ]
  },
  {
   "cell_type": "code",
   "execution_count": 81,
   "id": "c2705ce6-6e52-4e19-b67b-87f538abbc1d",
   "metadata": {},
   "outputs": [],
   "source": [
    "l4a=[]\n",
    "for i in l4:\n",
    "    l4a.append(i.upper())\n",
    "    "
   ]
  },
  {
   "cell_type": "code",
   "execution_count": 82,
   "id": "533fb531-72b6-4300-9e65-2fc7b8e3c3d2",
   "metadata": {},
   "outputs": [
    {
     "data": {
      "text/plain": [
       "['P', 'W', 'S', 'K', 'I', 'L', 'L', 'S']"
      ]
     },
     "execution_count": 82,
     "metadata": {},
     "output_type": "execute_result"
    }
   ],
   "source": [
    "l4a"
   ]
  },
  {
   "cell_type": "code",
   "execution_count": 83,
   "id": "14eab1fa-b070-43d9-a668-5b531a3e2795",
   "metadata": {},
   "outputs": [
    {
     "data": {
      "text/plain": [
       "'Pwskills'"
      ]
     },
     "execution_count": 83,
     "metadata": {},
     "output_type": "execute_result"
    }
   ],
   "source": [
    "l4"
   ]
  },
  {
   "cell_type": "code",
   "execution_count": 84,
   "id": "f9be4023-97db-4407-a5ab-15b2942c566c",
   "metadata": {},
   "outputs": [
    {
     "data": {
      "text/plain": [
       "['P', 'W', 'S', 'K', 'I', 'L', 'L', 'S']"
      ]
     },
     "execution_count": 84,
     "metadata": {},
     "output_type": "execute_result"
    }
   ],
   "source": [
    "# map function\n",
    "list(map(lambda x: x.upper(),l4))"
   ]
  },
  {
   "cell_type": "code",
   "execution_count": 85,
   "id": "e212ed93-c51d-49e4-ab72-f79be52360ea",
   "metadata": {},
   "outputs": [],
   "source": [
    "# Reduce function\n"
   ]
  },
  {
   "cell_type": "code",
   "execution_count": 86,
   "id": "59f291a8-6556-4184-b572-9ff70f8e6795",
   "metadata": {},
   "outputs": [],
   "source": [
    "from functools import reduce"
   ]
  },
  {
   "cell_type": "code",
   "execution_count": 88,
   "id": "3a14eb36-cb20-4981-9251-73f25edb1bb8",
   "metadata": {},
   "outputs": [],
   "source": [
    "l=[1,2,3,4,5]"
   ]
  },
  {
   "cell_type": "code",
   "execution_count": 89,
   "id": "bce00c0c-bc12-4f24-9346-7108b2b2dbe3",
   "metadata": {},
   "outputs": [
    {
     "data": {
      "text/plain": [
       "15"
      ]
     },
     "execution_count": 89,
     "metadata": {},
     "output_type": "execute_result"
    }
   ],
   "source": [
    "reduce(lambda x,y: x+y,l)"
   ]
  },
  {
   "cell_type": "code",
   "execution_count": 96,
   "id": "53539d46-8d00-4ee6-bef4-014bcafb983b",
   "metadata": {},
   "outputs": [],
   "source": [
    "total=0\n",
    "def add(l):\n",
    "    for i in l:\n",
    "        total=total+i\n",
    "    return total"
   ]
  },
  {
   "cell_type": "code",
   "execution_count": 98,
   "id": "cc253c52-af73-46ca-ba6c-d067e60fb4f5",
   "metadata": {},
   "outputs": [
    {
     "ename": "TypeError",
     "evalue": "add() takes 1 positional argument but 2 were given",
     "output_type": "error",
     "traceback": [
      "\u001b[0;31m---------------------------------------------------------------------------\u001b[0m",
      "\u001b[0;31mTypeError\u001b[0m                                 Traceback (most recent call last)",
      "Cell \u001b[0;32mIn[98], line 1\u001b[0m\n\u001b[0;32m----> 1\u001b[0m \u001b[43mreduce\u001b[49m\u001b[43m(\u001b[49m\u001b[43madd\u001b[49m\u001b[43m,\u001b[49m\u001b[43ml\u001b[49m\u001b[43m)\u001b[49m\n",
      "\u001b[0;31mTypeError\u001b[0m: add() takes 1 positional argument but 2 were given"
     ]
    }
   ],
   "source": [
    "reduce(add,l)"
   ]
  },
  {
   "cell_type": "code",
   "execution_count": 99,
   "id": "73dc5fed-40ca-4372-b9c2-9dd8ee0099c0",
   "metadata": {},
   "outputs": [],
   "source": [
    "# with direct list"
   ]
  },
  {
   "cell_type": "code",
   "execution_count": 100,
   "id": "4ca10a6e-dd53-4e90-9ba5-9be9a4a1588b",
   "metadata": {},
   "outputs": [
    {
     "data": {
      "text/plain": [
       "15"
      ]
     },
     "execution_count": 100,
     "metadata": {},
     "output_type": "execute_result"
    }
   ],
   "source": [
    "reduce(lambda x,y: x+y,[1,2,3,4,5])"
   ]
  },
  {
   "cell_type": "code",
   "execution_count": 102,
   "id": "c8f49e9c-59a9-4118-a60b-6e4adbf8e0cc",
   "metadata": {},
   "outputs": [
    {
     "ename": "TypeError",
     "evalue": "reduce() of empty iterable with no initial value",
     "output_type": "error",
     "traceback": [
      "\u001b[0;31m---------------------------------------------------------------------------\u001b[0m",
      "\u001b[0;31mTypeError\u001b[0m                                 Traceback (most recent call last)",
      "Cell \u001b[0;32mIn[102], line 1\u001b[0m\n\u001b[0;32m----> 1\u001b[0m \u001b[43mreduce\u001b[49m\u001b[43m(\u001b[49m\u001b[38;5;28;43;01mlambda\u001b[39;49;00m\u001b[43m \u001b[49m\u001b[43mx\u001b[49m\u001b[43m,\u001b[49m\u001b[43my\u001b[49m\u001b[43m:\u001b[49m\u001b[43m \u001b[49m\u001b[43mx\u001b[49m\u001b[38;5;241;43m+\u001b[39;49m\u001b[43my\u001b[49m\u001b[43m,\u001b[49m\u001b[43m[\u001b[49m\u001b[43m]\u001b[49m\u001b[43m)\u001b[49m\u001b[38;5;66;03m# kisi ko nahi jod paa raha  \u001b[39;00m\n\u001b[1;32m      2\u001b[0m \u001b[38;5;66;03m# yaha na hi x aur na hi y ki value di huyi hai so error of \"empty list\"\u001b[39;00m\n",
      "\u001b[0;31mTypeError\u001b[0m: reduce() of empty iterable with no initial value"
     ]
    }
   ],
   "source": [
    "reduce(lambda x,y: x+y,[])# kisi ko nahi jod paa raha  \n",
    "# yaha na hi x aur na hi y ki value di huyi hai so error of \"empty list\""
   ]
  },
  {
   "cell_type": "code",
   "execution_count": 107,
   "id": "2ddf162c-7b4a-4401-93a4-3988ed28b4f9",
   "metadata": {},
   "outputs": [
    {
     "data": {
      "text/plain": [
       "1"
      ]
     },
     "execution_count": 107,
     "metadata": {},
     "output_type": "execute_result"
    }
   ],
   "source": [
    "reduce(lambda x,y: x+y,[1])# ek element ke case mein work karega \n",
    "# kyunki atleasst wo number 1 + 0 =1 1 agar atleast 0 se bhi judega toh 1 toh hoga hi na"
   ]
  },
  {
   "cell_type": "code",
   "execution_count": 108,
   "id": "08f249dd-2afa-4a3e-9036-8bd8221bb35e",
   "metadata": {},
   "outputs": [
    {
     "data": {
      "text/plain": [
       "120"
      ]
     },
     "execution_count": 108,
     "metadata": {},
     "output_type": "execute_result"
    }
   ],
   "source": [
    "reduce(lambda x,y:x*y,l)\n"
   ]
  },
  {
   "cell_type": "code",
   "execution_count": 110,
   "id": "3a44834d-01d3-47b8-be88-ca1387ee3b2c",
   "metadata": {},
   "outputs": [
    {
     "data": {
      "text/plain": [
       "5"
      ]
     },
     "execution_count": 110,
     "metadata": {},
     "output_type": "execute_result"
    }
   ],
   "source": [
    "reduce(lambda x,y: x if x>y  else y,l)"
   ]
  },
  {
   "cell_type": "code",
   "execution_count": 111,
   "id": "64969169-6625-4aff-a1fb-fd9016ca9307",
   "metadata": {},
   "outputs": [],
   "source": [
    "# use of filter"
   ]
  },
  {
   "cell_type": "code",
   "execution_count": 112,
   "id": "435faa33-c4b3-4f15-841c-337d93a76086",
   "metadata": {},
   "outputs": [
    {
     "data": {
      "text/plain": [
       "[1, 2, 3, 4, 5]"
      ]
     },
     "execution_count": 112,
     "metadata": {},
     "output_type": "execute_result"
    }
   ],
   "source": [
    "l"
   ]
  },
  {
   "cell_type": "code",
   "execution_count": 114,
   "id": "f3f0f38c-2e07-4954-9e18-5a01f3e615e0",
   "metadata": {},
   "outputs": [
    {
     "data": {
      "text/plain": [
       "[2, 4]"
      ]
     },
     "execution_count": 114,
     "metadata": {},
     "output_type": "execute_result"
    }
   ],
   "source": [
    "list(filter(lambda x: x%2==0,l))"
   ]
  },
  {
   "cell_type": "code",
   "execution_count": 115,
   "id": "8adb28d3-f81f-4dd8-9cb8-61ff9364bc36",
   "metadata": {},
   "outputs": [
    {
     "data": {
      "text/plain": [
       "[1, 3, 5]"
      ]
     },
     "execution_count": 115,
     "metadata": {},
     "output_type": "execute_result"
    }
   ],
   "source": [
    "list(filter(lambda x: x%2!=0,l))"
   ]
  },
  {
   "cell_type": "code",
   "execution_count": 116,
   "id": "b41550c0-dd56-4639-9324-c1ea99872ad8",
   "metadata": {},
   "outputs": [],
   "source": [
    "n=[1,2,-3,-5,-2,3,-9,0]"
   ]
  },
  {
   "cell_type": "code",
   "execution_count": 117,
   "id": "147bef57-e094-40a2-b1eb-075e8bc6df8f",
   "metadata": {},
   "outputs": [
    {
     "data": {
      "text/plain": [
       "[-3, -5, -2, -9]"
      ]
     },
     "execution_count": 117,
     "metadata": {},
     "output_type": "execute_result"
    }
   ],
   "source": [
    "list(filter(lambda x: x<0,n))"
   ]
  },
  {
   "cell_type": "code",
   "execution_count": 118,
   "id": "29f1429b-ba3f-49ae-aa47-b0233498c5ff",
   "metadata": {},
   "outputs": [
    {
     "ename": "SyntaxError",
     "evalue": "expected 'else' after 'if' expression (3995791388.py, line 1)",
     "output_type": "error",
     "traceback": [
      "\u001b[0;36m  Cell \u001b[0;32mIn[118], line 1\u001b[0;36m\u001b[0m\n\u001b[0;31m    list(filter(lambda x: x if x<0,n))\u001b[0m\n\u001b[0m                          ^\u001b[0m\n\u001b[0;31mSyntaxError\u001b[0m\u001b[0;31m:\u001b[0m expected 'else' after 'if' expression\n"
     ]
    }
   ],
   "source": [
    "list(filter(lambda x: x if x<0,n))"
   ]
  },
  {
   "cell_type": "code",
   "execution_count": 119,
   "id": "6985877f-88f0-4788-b001-9e4f9c8fa2de",
   "metadata": {},
   "outputs": [],
   "source": [
    "string=['Amar','kumar',\"world's richest man \",'data scientist']"
   ]
  },
  {
   "cell_type": "code",
   "execution_count": 120,
   "id": "c9a42f1a-94cd-4fc8-bea4-f13e70340c5a",
   "metadata": {},
   "outputs": [
    {
     "data": {
      "text/plain": [
       "['Amar', 'kumar']"
      ]
     },
     "execution_count": 120,
     "metadata": {},
     "output_type": "execute_result"
    }
   ],
   "source": [
    "list(filter(lambda x: len(x)<6,string))\n"
   ]
  },
  {
   "cell_type": "code",
   "execution_count": 10,
   "id": "1ee4495e-f102-4344-b8db-e43f2d223004",
   "metadata": {},
   "outputs": [
    {
     "data": {
      "text/plain": [
       "0"
      ]
     },
     "execution_count": 10,
     "metadata": {},
     "output_type": "execute_result"
    }
   ],
   "source": [
    "2-2"
   ]
  },
  {
   "cell_type": "code",
   "execution_count": null,
   "id": "ac98539d-7db0-46b3-8f45-3d3b4323191e",
   "metadata": {},
   "outputs": [],
   "source": []
  }
 ],
 "metadata": {
  "kernelspec": {
   "display_name": "Python 3 (ipykernel)",
   "language": "python",
   "name": "python3"
  },
  "language_info": {
   "codemirror_mode": {
    "name": "ipython",
    "version": 3
   },
   "file_extension": ".py",
   "mimetype": "text/x-python",
   "name": "python",
   "nbconvert_exporter": "python",
   "pygments_lexer": "ipython3",
   "version": "3.10.8"
  }
 },
 "nbformat": 4,
 "nbformat_minor": 5
}
