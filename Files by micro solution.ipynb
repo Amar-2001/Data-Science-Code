{
 "cells": [
  {
   "cell_type": "code",
   "execution_count": 1,
   "id": "4dc389f9-b4af-4da3-80b0-012e727762d8",
   "metadata": {},
   "outputs": [],
   "source": [
    "f=open(\"demo.txt\",'x')"
   ]
  },
  {
   "cell_type": "code",
   "execution_count": 1,
   "id": "a31ab49f-ceab-4012-948b-e757db44f8dc",
   "metadata": {},
   "outputs": [],
   "source": [
    "f=open('demo.txt','w')\n",
    "f.write(\"Hello You are learning file handling\")\n",
    "f.close()"
   ]
  },
  {
   "cell_type": "code",
   "execution_count": 2,
   "id": "c89cef64-2bd6-4448-9eb5-ef23c2d452f3",
   "metadata": {},
   "outputs": [
    {
     "name": "stdout",
     "output_type": "stream",
     "text": [
      "Hello You are learning file handling\n"
     ]
    }
   ],
   "source": [
    "f=open(\"demo.txt\",\"r\")\n",
    "for x in f:\n",
    "    print(x)"
   ]
  },
  {
   "cell_type": "code",
   "execution_count": 3,
   "id": "ee358f8c-0b41-466f-8a3b-691e10447b29",
   "metadata": {},
   "outputs": [],
   "source": [
    "f=open(\"demo.txt\",'a')\n",
    "f.write(\"\\nYou have mastered file handling\")\n",
    "f.close()"
   ]
  },
  {
   "cell_type": "code",
   "execution_count": 5,
   "id": "0385649f-d656-4d5d-8f0c-cf615b61256e",
   "metadata": {},
   "outputs": [
    {
     "name": "stdout",
     "output_type": "stream",
     "text": [
      "Hello You are learning file handling\n",
      "You have mastered file handling\n"
     ]
    }
   ],
   "source": [
    "f=open('demo.txt','r')\n",
    "myfile=f.read()\n",
    "print(myfile)\n",
    "f.close()"
   ]
  },
  {
   "cell_type": "code",
   "execution_count": 6,
   "id": "a4b0e326-a8ad-4e46-881f-06a03340357b",
   "metadata": {},
   "outputs": [
    {
     "data": {
      "text/plain": [
       "'Hello You are learning file handling\\nYou have mastered file handling'"
      ]
     },
     "execution_count": 6,
     "metadata": {},
     "output_type": "execute_result"
    }
   ],
   "source": [
    "# or another method to read\n",
    "f=open('demo.txt','r')\n",
    "f.read()"
   ]
  },
  {
   "cell_type": "code",
   "execution_count": 5,
   "id": "544a0e83-c49f-4880-8a84-6e1a2ab7f8ac",
   "metadata": {},
   "outputs": [
    {
     "name": "stdout",
     "output_type": "stream",
     "text": [
      "Hello You are learning file handling\n",
      "You have mastered file handling\n"
     ]
    }
   ],
   "source": [
    "# or another method to read\n",
    "f=open('demo.txt','r')\n",
    "print(f.read())"
   ]
  },
  {
   "cell_type": "code",
   "execution_count": null,
   "id": "9a8f8be1-5e91-491f-9568-ecf87eac4291",
   "metadata": {},
   "outputs": [],
   "source": []
  }
 ],
 "metadata": {
  "kernelspec": {
   "display_name": "Python 3 (ipykernel)",
   "language": "python",
   "name": "python3"
  },
  "language_info": {
   "codemirror_mode": {
    "name": "ipython",
    "version": 3
   },
   "file_extension": ".py",
   "mimetype": "text/x-python",
   "name": "python",
   "nbconvert_exporter": "python",
   "pygments_lexer": "ipython3",
   "version": "3.10.8"
  }
 },
 "nbformat": 4,
 "nbformat_minor": 5
}
