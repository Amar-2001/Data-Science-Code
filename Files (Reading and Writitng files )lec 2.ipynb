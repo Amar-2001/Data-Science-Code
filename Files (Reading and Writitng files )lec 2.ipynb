{
 "cells": [
  {
   "cell_type": "code",
   "execution_count": 2,
   "id": "a43456d9-ff83-44bd-a295-b5e37cff622a",
   "metadata": {},
   "outputs": [],
   "source": [
    "# Key Value Key Value is also called as JSON object \n",
    "# (JSON stands for JavaScript Object Notation. JSON is a lightweight format\n",
    "# for storing and transporting data. \n",
    "# JSON is often used when data is sent from a server to a web page.\n",
    "\n",
    "data={\"name \": \"Ram\",\n",
    "      \"email \": \"ram@gmail.com\",\n",
    "      \"number\": 86123983859,\n",
    "      \"subject\":[\"Data Science\", \"DSA\" , \"Aptitude\",\"Religion\"]\n",
    "     }"
   ]
  },
  {
   "cell_type": "code",
   "execution_count": 5,
   "id": "a8060e7c-7acf-4046-ac91-1fe46f21996e",
   "metadata": {},
   "outputs": [],
   "source": [
    "# open json file\n",
    "\n",
    "import json\n",
    "with open(\"data.json\",'w') as f:\n",
    "    json.dump(data,f) # dump data ko write karne mein help karta hai aur load se read karne mein \n",
    "    \n",
    "    # data.json naam ka file ban chuka hai "
   ]
  },
  {
   "cell_type": "code",
   "execution_count": 12,
   "id": "7b792847-204b-47f2-b1bd-5c3e9c8764a6",
   "metadata": {},
   "outputs": [],
   "source": [
    "# now  read data \n",
    "# dump write karta aur load read karta\n",
    "\n",
    "with open (\"data.json\",'r') as f:\n",
    "    json.load(f)\n",
    "\n",
    "    # doesn't print anything "
   ]
  },
  {
   "cell_type": "code",
   "execution_count": 8,
   "id": "6810df3a-033b-4fa0-b070-f794f03fe51d",
   "metadata": {},
   "outputs": [],
   "source": [
    "# To print\n",
    "\n",
    "with open (\"data.json\",'r') as f:\n",
    "    data1=json.load(f)\n",
    "    "
   ]
  },
  {
   "cell_type": "code",
   "execution_count": 9,
   "id": "0500c1d0-b327-4801-af63-5222d6b8041c",
   "metadata": {},
   "outputs": [
    {
     "data": {
      "text/plain": [
       "{'name ': 'Ram',\n",
       " 'email ': 'ram@gmail.com',\n",
       " 'number': 86123983859,\n",
       " 'subject': ['Data Science', 'DSA', 'Aptitude', 'Religion']}"
      ]
     },
     "execution_count": 9,
     "metadata": {},
     "output_type": "execute_result"
    }
   ],
   "source": [
    "data1"
   ]
  },
  {
   "cell_type": "code",
   "execution_count": 10,
   "id": "4be8ad72-aa4a-4780-9749-d7b186e8f87a",
   "metadata": {},
   "outputs": [
    {
     "data": {
      "text/plain": [
       "['Data Science', 'DSA', 'Aptitude', 'Religion']"
      ]
     },
     "execution_count": 10,
     "metadata": {},
     "output_type": "execute_result"
    }
   ],
   "source": [
    "data1['subject']"
   ]
  },
  {
   "cell_type": "code",
   "execution_count": 11,
   "id": "d6c6b057-9f48-4d84-9a5a-365507576c82",
   "metadata": {},
   "outputs": [
    {
     "data": {
      "text/plain": [
       "'DSA'"
      ]
     },
     "execution_count": 11,
     "metadata": {},
     "output_type": "execute_result"
    }
   ],
   "source": [
    "data1['subject'][1]"
   ]
  },
  {
   "cell_type": "code",
   "execution_count": 13,
   "id": "dde632bb-0b87-4b55-bf85-282141d0ae8c",
   "metadata": {},
   "outputs": [],
   "source": [
    "# *************************************"
   ]
  },
  {
   "cell_type": "code",
   "execution_count": 17,
   "id": "42eb2629-88a2-40e3-b17a-eb544fbccdec",
   "metadata": {},
   "outputs": [],
   "source": [
    "#  Now CSV (comma separated value file) jo commma se separated ho\n",
    "#  like 1,2,3,4.. or a,b,c,etc"
   ]
  },
  {
   "cell_type": "code",
   "execution_count": 19,
   "id": "d4d0e59f-d945-4a71-b204-bb8c34a7893b",
   "metadata": {},
   "outputs": [],
   "source": [
    "\n",
    "import csv\n"
   ]
  },
  {
   "cell_type": "code",
   "execution_count": 33,
   "id": "87837c90-47cf-4d7e-9e4b-2f0c16501693",
   "metadata": {},
   "outputs": [],
   "source": [
    "data2=[['name','email','number'],\n",
    "       ['Ram','ram@gmail.com',8923829238],\n",
    "       ['Shyam','shyam@gmail.com',892839283],\n",
    "       ['Aman','macho@gmail.com',11111]\n",
    "      ]"
   ]
  },
  {
   "cell_type": "code",
   "execution_count": 34,
   "id": "7ae4ffec-7a72-4f40-97bb-3a5e5fc71d51",
   "metadata": {},
   "outputs": [],
   "source": [
    "with open('data2.csv','w') as f:\n",
    "    w=csv.writer(f) # write kar rahe file ko \n",
    "    \n",
    "    # list ko read karna hai line by line ( abhi humara data hai list inside list mein upar)\n",
    "    for i in data2:\n",
    "        w.writerow(i)\n",
    "        \n",
    "        # csv (comma separated value file) has created "
   ]
  },
  {
   "cell_type": "code",
   "execution_count": 37,
   "id": "0af81fac-ce2b-471a-9013-8ee76e711f10",
   "metadata": {},
   "outputs": [
    {
     "name": "stdout",
     "output_type": "stream",
     "text": [
      "['name', 'email', 'number']\n",
      "['Ram', 'ram@gmail.com', 8923829238]\n",
      "['Shyam', 'shyam@gmail.com', 892839283]\n",
      "['Aman', 'macho@gmail.com', 11111]\n"
     ]
    }
   ],
   "source": [
    "# now read csv data\n",
    "\n",
    "with open(\"data2.csv\")as f:\n",
    "    r=csv.reader(f)\n",
    "    \n",
    "    # list ko read karne ke liye\n",
    "    for i in data2:\n",
    "        # r.reader(i)# doesn't work error\n",
    "        print(i)"
   ]
  },
  {
   "cell_type": "code",
   "execution_count": 39,
   "id": "18dabc48-1ff8-4969-8df0-80ee1e910fb4",
   "metadata": {},
   "outputs": [],
   "source": [
    "# *************************************************"
   ]
  },
  {
   "cell_type": "code",
   "execution_count": 42,
   "id": "38786204-20c7-42de-a313-87c4dc94297a",
   "metadata": {},
   "outputs": [],
   "source": [
    "# Binary yaani 0,1 mein convert hokar hexadecimal mein store hota hai \n",
    "# system ke andar usko read kaise kare write kaise kare\n",
    "# Photos , videos , songs etc binary mein store rehte usko read write kaise kare \n",
    "# by the help of bin \n",
    "# binary data is not readable by human jab tak usko image ya video etc mein covert na kar le"
   ]
  },
  {
   "cell_type": "code",
   "execution_count": 63,
   "id": "c5e16494-d3eb-43fa-98f4-cf4d9b45ae6d",
   "metadata": {},
   "outputs": [],
   "source": [
    "with open('data3.bin','wb') as f:\n",
    "    f.write(b'x01\\x03\\x33232') # read x01\u00033232"
   ]
  },
  {
   "cell_type": "code",
   "execution_count": 59,
   "id": "3d0d108d-9269-4203-9be9-8a08416e6c9a",
   "metadata": {},
   "outputs": [],
   "source": [
    "with open('data3.bin','rb') as f:\n",
    "    f.read()\n",
    "    \n",
    "    #not printing "
   ]
  },
  {
   "cell_type": "code",
   "execution_count": 62,
   "id": "246e56e7-955a-4f1f-8163-11232705292a",
   "metadata": {},
   "outputs": [
    {
     "name": "stdout",
     "output_type": "stream",
     "text": [
      "b'x01\\x033232'\n"
     ]
    }
   ],
   "source": [
    "# To print\n",
    "\n",
    "with open('data3.bin','rb') as f:\n",
    "    print(f.read())\n",
    "    \n",
    "    # # to read\n",
    "    # for i in f:\n",
    "    #     print(i)  # nothing print blank"
   ]
  },
  {
   "cell_type": "code",
   "execution_count": null,
   "id": "67a2d424-03ff-43b4-8254-1b106281bc23",
   "metadata": {},
   "outputs": [],
   "source": []
  }
 ],
 "metadata": {
  "kernelspec": {
   "display_name": "Python 3 (ipykernel)",
   "language": "python",
   "name": "python3"
  },
  "language_info": {
   "codemirror_mode": {
    "name": "ipython",
    "version": 3
   },
   "file_extension": ".py",
   "mimetype": "text/x-python",
   "name": "python",
   "nbconvert_exporter": "python",
   "pygments_lexer": "ipython3",
   "version": "3.10.8"
  }
 },
 "nbformat": 4,
 "nbformat_minor": 5
}
