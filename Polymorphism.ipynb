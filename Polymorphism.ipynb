{
 "cells": [
  {
   "cell_type": "code",
   "execution_count": 1,
   "id": "e01d6b14-5cf4-4a5f-a9b9-8e13df9d7b41",
   "metadata": {},
   "outputs": [],
   "source": [
    "#polymorphism = poly means many and phism means form \n",
    "# many forms"
   ]
  },
  {
   "cell_type": "code",
   "execution_count": 2,
   "id": "a3060755-7dd0-41d1-b928-1158fedb80dc",
   "metadata": {},
   "outputs": [],
   "source": [
    "def test(a,b):\n",
    "    return a+b"
   ]
  },
  {
   "cell_type": "code",
   "execution_count": 6,
   "id": "be2513d6-d7b8-4aa1-b510-34d8cc710e38",
   "metadata": {},
   "outputs": [
    {
     "data": {
      "text/plain": [
       "8"
      ]
     },
     "execution_count": 6,
     "metadata": {},
     "output_type": "execute_result"
    }
   ],
   "source": [
    "test(3,5)##test function int ko add kar raha"
   ]
  },
  {
   "cell_type": "code",
   "execution_count": 19,
   "id": "ef993f4e-f523-447e-bea0-a2e06a7d342b",
   "metadata": {},
   "outputs": [
    {
     "data": {
      "text/plain": [
       "'RamSita'"
      ]
     },
     "execution_count": 19,
     "metadata": {},
     "output_type": "execute_result"
    }
   ],
   "source": [
    "test(\"Ram\",\"Sita\")#test function string ko add kar raha"
   ]
  },
  {
   "cell_type": "code",
   "execution_count": 8,
   "id": "3fca1f76-126f-4110-a06a-a5006e8e8cbe",
   "metadata": {},
   "outputs": [
    {
     "data": {
      "text/plain": [
       "[1, 2, 3, 4, 5, 6]"
      ]
     },
     "execution_count": 8,
     "metadata": {},
     "output_type": "execute_result"
    }
   ],
   "source": [
    "test([1,2,3],[4,5,6])#test function list ko add kar raha\n"
   ]
  },
  {
   "cell_type": "code",
   "execution_count": 9,
   "id": "da6ed967-56cd-47fc-894b-83b6d964923d",
   "metadata": {},
   "outputs": [],
   "source": [
    "# best exapmple"
   ]
  },
  {
   "cell_type": "code",
   "execution_count": 31,
   "id": "16383db8-e5cf-4652-b8bb-889104aaab7d",
   "metadata": {},
   "outputs": [],
   "source": [
    "class data_science:\n",
    "    def syllabus(self): # syllabus(function name same )\n",
    "        print(\"This is my data science class\")\n",
    "        \n",
    "        "
   ]
  },
  {
   "cell_type": "code",
   "execution_count": 32,
   "id": "91ae7d8d-a157-48cd-b91f-ea4d10fb6639",
   "metadata": {},
   "outputs": [],
   "source": [
    "class Machine_learning:\n",
    "    def syllabus(self):#syllabus(function name same)\n",
    "        print(\"This is my machine learnging class\")"
   ]
  },
  {
   "cell_type": "code",
   "execution_count": 42,
   "id": "5d0143f7-a044-46e2-8318-31bf700a8e12",
   "metadata": {},
   "outputs": [],
   "source": [
    "#External function\n",
    "\n",
    "def class_parcer(class_obj): # argument class_obj\n",
    "    for i in  class_obj:\n",
    "        i.syllabus() # syllabus function ko iterate kar raha jiske andar\n",
    "        # ka operation ho raha so data sciecne par\n",
    "        # This is my data science class\"print ho raha \n",
    "        #  aur ml  par\n",
    "        # This is my machine learnging class\"print raha\n",
    "    "
   ]
  },
  {
   "cell_type": "code",
   "execution_count": 34,
   "id": "2ca29152-b166-410c-b656-5f384cf983ba",
   "metadata": {},
   "outputs": [],
   "source": [
    "data_science=data_science()#data science is  an object data science()class"
   ]
  },
  {
   "cell_type": "code",
   "execution_count": 35,
   "id": "d7d797eb-b1c2-42c1-bcf2-87efe7cfd1d0",
   "metadata": {},
   "outputs": [],
   "source": [
    "Machine_learning=Machine_learning()# machine learning is an obj ml()class"
   ]
  },
  {
   "cell_type": "code",
   "execution_count": 41,
   "id": "11ada632-7555-44ad-b251-b6d697ce6de9",
   "metadata": {},
   "outputs": [],
   "source": [
    "class_obj=[data_science,Machine_learning]\n",
    "#external function(class_parce) ke parameter(class_obj) mein \n",
    "# machine learning aur data science object assignm kar diya as a list \n",
    "# or keh sakte hai input mein list ke form mein (data science and ml) ko liy\n",
    "\n"
   ]
  },
  {
   "cell_type": "code",
   "execution_count": 39,
   "id": "ef771cce-7a05-4e6d-983c-6a5f7068f2e0",
   "metadata": {},
   "outputs": [
    {
     "name": "stdout",
     "output_type": "stream",
     "text": [
      "This is my data science class\n",
      "This is my machine learnging class\n"
     ]
    }
   ],
   "source": [
    "class_parcer(class_obj)\n",
    "# class parcer calling \n",
    "# iske argument(class_obj) mein machine learnging aur data science hai\n"
   ]
  },
  {
   "cell_type": "code",
   "execution_count": null,
   "id": "4399146f-233a-4bc3-8099-c4aef691dd20",
   "metadata": {},
   "outputs": [],
   "source": [
    "# w3school"
   ]
  },
  {
   "cell_type": "code",
   "execution_count": 2,
   "id": "c4e1cc53-ae22-4d2f-b5b1-8e9525b6583d",
   "metadata": {},
   "outputs": [
    {
     "name": "stdout",
     "output_type": "stream",
     "text": [
      "Drive!\n",
      "Sail!\n",
      "Fly!\n"
     ]
    }
   ],
   "source": [
    "class Car:\n",
    "  def __init__(self, brand, model):\n",
    "    self.brand = brand\n",
    "    self.model = model\n",
    "\n",
    "  def move(self):\n",
    "    print(\"Drive!\")\n",
    "\n",
    "class Boat:\n",
    "  def __init__(self, brand, model):\n",
    "    self.brand = brand\n",
    "    self.model = model\n",
    "\n",
    "  def move(self):\n",
    "    print(\"Sail!\")\n",
    "\n",
    "class Plane:\n",
    "  def __init__(self, brand, model):\n",
    "    self.brand = brand\n",
    "    self.model = model\n",
    "\n",
    "  def move(self):\n",
    "    print(\"Fly!\")\n",
    "\n",
    "car1 = Car(\"Ford\", \"Mustang\")       #Create a Car class\n",
    "boat1 = Boat(\"Ibiza\", \"Touring 20\") #Create a Boat class\n",
    "plane1 = Plane(\"Boeing\", \"747\")     #Create a Plane class\n",
    "\n",
    "for x in (car1, boat1, plane1):\n",
    "  x.move()"
   ]
  },
  {
   "cell_type": "code",
   "execution_count": 1,
   "id": "dd508467-36e1-4f89-b45f-99c90230be2e",
   "metadata": {},
   "outputs": [
    {
     "name": "stdout",
     "output_type": "stream",
     "text": [
      "Ford\n",
      "Mustang\n",
      "Move!\n",
      "Ibiza\n",
      "Touring 20\n",
      "Sail!\n",
      "Boeing\n",
      "747\n",
      "Fly!\n"
     ]
    }
   ],
   "source": [
    "class Vehicle:\n",
    "  def __init__(self, brand, model):\n",
    "    self.brand = brand\n",
    "    self.model = model\n",
    "\n",
    "  def move(self):\n",
    "    print(\"Move!\")\n",
    "\n",
    "class Car(Vehicle):\n",
    "  pass\n",
    "\n",
    "class Boat(Vehicle):\n",
    "  def move(self):\n",
    "    print(\"Sail!\")\n",
    "\n",
    "class Plane(Vehicle):\n",
    "  def move(self):\n",
    "    print(\"Fly!\")\n",
    "\n",
    "car1 = Car(\"Ford\", \"Mustang\") #Create a Car object\n",
    "boat1 = Boat(\"Ibiza\", \"Touring 20\") #Create a Boat object\n",
    "plane1 = Plane(\"Boeing\", \"747\") #Create a Plane object\n",
    "\n",
    "for x in (car1, boat1, plane1):\n",
    "  print(x.brand)\n",
    "  print(x.model)\n",
    "  x.move()\n"
   ]
  },
  {
   "cell_type": "code",
   "execution_count": 3,
   "id": "b002c8b7-7e9d-48be-9795-e292a863ea23",
   "metadata": {},
   "outputs": [],
   "source": [
    "# self\n"
   ]
  },
  {
   "cell_type": "code",
   "execution_count": 21,
   "id": "189705b7-ac7d-4105-ab29-2aa144fa5800",
   "metadata": {},
   "outputs": [
    {
     "name": "stdout",
     "output_type": "stream",
     "text": [
      "Maths object 5\n",
      "Maths 2 object 6\n"
     ]
    }
   ],
   "source": [
    "class maths:\n",
    "    def result(self,a,b):\n",
    "        self.a=a\n",
    "        self.b=b\n",
    "        self.c=self.a+self.b\n",
    "        print(self.c)\n",
    "\n",
    "        \n",
    "class maths2:        \n",
    "    def result(self,a,b):\n",
    "        self.a=a\n",
    "        self.b=b\n",
    "        self.c=self.a*self.b\n",
    "        print(self.c)\n",
    "        \n",
    "obj=maths()\n",
    "print(\"Maths object \",end = '')\n",
    "obj.result(3,2) #  functtion name same (result)\n",
    "\n",
    "obj=maths2()\n",
    "print(\"Maths 2 object \",end = '')\n",
    "obj.result(3,2) # function name same(result)\n",
    "\n",
    "\n",
    "        "
   ]
  },
  {
   "cell_type": "code",
   "execution_count": 26,
   "id": "109af3ed-b284-4321-8227-07c9325e8c06",
   "metadata": {},
   "outputs": [
    {
     "name": "stdout",
     "output_type": "stream",
     "text": [
      "<__main__.maths2 object at 0x7f0fac38f220>\n",
      "<__main__.maths2 object at 0x7f0fac39e710>\n"
     ]
    }
   ],
   "source": [
    "class maths:\n",
    "    def result(self,a,b):\n",
    "        self.a=a\n",
    "        self.b=b\n",
    "        self.c=self.a+self.b\n",
    "        print(self.c)\n",
    "\n",
    "        \n",
    "class maths2:        \n",
    "    def result(self,a,b):\n",
    "        self.a=a\n",
    "        self.b=b\n",
    "        self.c=self.a*self.b\n",
    "        print(self.c)\n",
    "        \n",
    "obj1=maths()\n",
    "obj2=maths2()\n",
    "\n",
    "for x in (obj,obj2):\n",
    "    print(x)\n",
    "    \n",
    "\n",
    "        "
   ]
  },
  {
   "cell_type": "code",
   "execution_count": 23,
   "id": "91b30b4e-ea14-4f53-af5e-47a81e7d197c",
   "metadata": {},
   "outputs": [
    {
     "ename": "TypeError",
     "evalue": "maths() takes no arguments",
     "output_type": "error",
     "traceback": [
      "\u001b[0;31m---------------------------------------------------------------------------\u001b[0m",
      "\u001b[0;31mTypeError\u001b[0m                                 Traceback (most recent call last)",
      "Cell \u001b[0;32mIn[23], line 19\u001b[0m\n\u001b[1;32m     15\u001b[0m     \u001b[38;5;28;01mdef\u001b[39;00m \u001b[38;5;21mshow_result\u001b[39m(\u001b[38;5;28mself\u001b[39m):\n\u001b[1;32m     17\u001b[0m         \u001b[38;5;28mprint\u001b[39m(\u001b[38;5;28mself\u001b[39m\u001b[38;5;241m.\u001b[39mc)\n\u001b[0;32m---> 19\u001b[0m m1\u001b[38;5;241m=\u001b[39m\u001b[43mmaths\u001b[49m\u001b[43m(\u001b[49m\u001b[38;5;241;43m3\u001b[39;49m\u001b[43m,\u001b[49m\u001b[38;5;241;43m2\u001b[39;49m\u001b[43m)\u001b[49m\n\u001b[1;32m     20\u001b[0m m2\u001b[38;5;241m=\u001b[39mmaths2(\u001b[38;5;241m3\u001b[39m,\u001b[38;5;241m2\u001b[39m)\n\u001b[1;32m     23\u001b[0m \u001b[38;5;28;01mfor\u001b[39;00m x \u001b[38;5;129;01min\u001b[39;00m (m1,m2):\n",
      "\u001b[0;31mTypeError\u001b[0m: maths() takes no arguments"
     ]
    }
   ],
   "source": [
    "class maths:\n",
    "    def __init__result(self,a,b):\n",
    "        self.a=a\n",
    "        self.b=b\n",
    "        self.c=self.a+self.b\n",
    "    def show_result(self):\n",
    "        print(self.c)\n",
    "\n",
    "        \n",
    "class maths2:        \n",
    "    def __init__(self,a,b):\n",
    "        self.a=a\n",
    "        self.b=b\n",
    "        self.c=self.a*self.b\n",
    "    def show_result(self):\n",
    "        \n",
    "        print(self.c)\n",
    "        \n",
    "m1=maths(3,2)\n",
    "m2=maths2(3,2)\n",
    "\n",
    "        \n",
    "for x in (m1,m2):\n",
    "    print(x)\n",
    "        \n",
    "# obj=maths()\n",
    "# print(\"Maths object \",end = '')\n",
    "# obj.result(3,2) #  functtion name same (result)\n",
    "\n",
    "# obj=maths2()\n",
    "# print(\"Maths 2 object \",end = '')\n",
    "# obj.result(3,2) # function name same(result)\n",
    "\n",
    "\n",
    "        "
   ]
  },
  {
   "cell_type": "code",
   "execution_count": null,
   "id": "470ad971-2761-42fa-8f52-148bc06a1fcb",
   "metadata": {},
   "outputs": [],
   "source": []
  }
 ],
 "metadata": {
  "kernelspec": {
   "display_name": "Python 3 (ipykernel)",
   "language": "python",
   "name": "python3"
  },
  "language_info": {
   "codemirror_mode": {
    "name": "ipython",
    "version": 3
   },
   "file_extension": ".py",
   "mimetype": "text/x-python",
   "name": "python",
   "nbconvert_exporter": "python",
   "pygments_lexer": "ipython3",
   "version": "3.10.8"
  }
 },
 "nbformat": 4,
 "nbformat_minor": 5
}
