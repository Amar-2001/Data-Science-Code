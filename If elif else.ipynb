{
 "cells": [
  {
   "cell_type": "code",
   "execution_count": 1,
   "id": "87915526-33bb-4ab7-8c6e-1df71a874df8",
   "metadata": {},
   "outputs": [
    {
     "name": "stdout",
     "output_type": "stream",
     "text": [
      "You will be a part of A0 batch\n"
     ]
    }
   ],
   "source": [
    "marks=90\n",
    "if marks >=80:\n",
    "    print(\"You will be a part of A0 batch\")\n",
    "elif marks >=60 and marks<80:\n",
    "    print(\"You will be a part of A1 batch\")\n",
    "elif marks >=40 and marks<60:\n",
    "    print(\"You will be a part of A2 batch\")\n",
    "else:\n",
    "    print(\"You  will be a part of A3 batch\")"
   ]
  },
  {
   "cell_type": "code",
   "execution_count": 3,
   "id": "825deeb1-8740-484a-be6f-b39a608ca8c9",
   "metadata": {},
   "outputs": [
    {
     "name": "stdin",
     "output_type": "stream",
     "text": [
      "Enter your marks  99\n"
     ]
    },
    {
     "name": "stdout",
     "output_type": "stream",
     "text": [
      "You will be a part of A0 batch\n"
     ]
    }
   ],
   "source": [
    "marks=int(input(\"Enter your marks \"))\n",
    "if marks >=80:\n",
    "    print(\"You will be a part of A0 batch\")\n",
    "elif marks >=60 and marks<80:\n",
    "    print(\"You will be a part of A1 batch\")\n",
    "elif marks >=40 and marks<60:\n",
    "    print(\"You will be a part of A2 batch\")\n",
    "else:\n",
    "    print(\"You  will be a part of A3 batch\")"
   ]
  },
  {
   "cell_type": "code",
   "execution_count": 4,
   "id": "8c277acb-d720-4b59-9cef-6ff4eee5b568",
   "metadata": {},
   "outputs": [
    {
     "name": "stdin",
     "output_type": "stream",
     "text": [
      "Enter your marks 99\n"
     ]
    }
   ],
   "source": [
    "marks=99"
   ]
  },
  {
   "cell_type": "code",
   "execution_count": 3,
   "id": "157a4806-9375-44e0-b648-fdd5c85240f8",
   "metadata": {},
   "outputs": [
    {
     "name": "stdin",
     "output_type": "stream",
     "text": [
      "Enter price = 1500\n"
     ]
    },
    {
     "name": "stdout",
     "output_type": "stream",
     "text": [
      "I will purchase\n"
     ]
    }
   ],
   "source": [
    "price=int(input(\"Enter price =\"))\n",
    "if price>2000:\n",
    "    print(\"I will not purchase\")\n",
    "else:\n",
    "    print(\"I will purchase\")"
   ]
  },
  {
   "cell_type": "code",
   "execution_count": 4,
   "id": "3d73a91e-768d-447b-9e9d-857b1c64936a",
   "metadata": {},
   "outputs": [
    {
     "name": "stdin",
     "output_type": "stream",
     "text": [
      "Enter price = 1500\n"
     ]
    }
   ],
   "source": [
    "price=int(input(\"Enter price =\"))\n",
    "if price>2000:\n",
    "    print(\"I will not purchase\")\n"
   ]
  },
  {
   "cell_type": "code",
   "execution_count": 5,
   "id": "9a8dbdb8-e3ec-4c66-95bc-9f7e14267b3c",
   "metadata": {},
   "outputs": [],
   "source": [
    "# if condition false in \"If\" statement nothing will print"
   ]
  },
  {
   "cell_type": "code",
   "execution_count": 15,
   "id": "454221c5-4b93-4cf9-a771-4a53c8a93f6e",
   "metadata": {},
   "outputs": [
    {
     "name": "stdin",
     "output_type": "stream",
     "text": [
      "Enter price = 700000\n"
     ]
    },
    {
     "name": "stdout",
     "output_type": "stream",
     "text": [
      "I will not purchase\n",
      "Its too much\n"
     ]
    }
   ],
   "source": [
    "price=int(input(\"Enter price =\"))\n",
    "if price>2000:\n",
    "    print(\"I will not purchase\")\n",
    "    if price>7000:\n",
    "        print(\"Its too much\")\n",
    "    elif price>5000:\n",
    "        print(\"Its ok\")\n",
    "else:\n",
    "    print(\"I will purchase\")"
   ]
  },
  {
   "cell_type": "code",
   "execution_count": 18,
   "id": "4c7d3a0c-563e-4094-803c-2c70d2b62e21",
   "metadata": {},
   "outputs": [],
   "source": [
    "#loop"
   ]
  },
  {
   "cell_type": "code",
   "execution_count": 22,
   "id": "c065e987-1b3e-48b4-a8ba-61a25d5b261a",
   "metadata": {},
   "outputs": [],
   "source": [
    "a=[1,2,3,4,5,6,7,8]\n"
   ]
  },
  {
   "cell_type": "code",
   "execution_count": 23,
   "id": "8f8c609d-f07f-4552-8c9e-e6e0a7421af5",
   "metadata": {},
   "outputs": [
    {
     "data": {
      "text/plain": [
       "[1, 2, 3, 4, 5, 6, 7, 8]"
      ]
     },
     "execution_count": 23,
     "metadata": {},
     "output_type": "execute_result"
    }
   ],
   "source": [
    "a"
   ]
  },
  {
   "cell_type": "code",
   "execution_count": 24,
   "id": "b66b5f71-56a9-4340-8211-8a6007c2cfe1",
   "metadata": {},
   "outputs": [
    {
     "data": {
      "text/plain": [
       "2"
      ]
     },
     "execution_count": 24,
     "metadata": {},
     "output_type": "execute_result"
    }
   ],
   "source": [
    "a[0]+1"
   ]
  },
  {
   "cell_type": "code",
   "execution_count": 25,
   "id": "d172c82d-865c-43dc-bf68-0d6d8714a290",
   "metadata": {},
   "outputs": [],
   "source": [
    "a.append(a[0]+1)"
   ]
  },
  {
   "cell_type": "code",
   "execution_count": 26,
   "id": "8e2a1a6d-a316-4c97-ae6f-306bb30e57ae",
   "metadata": {},
   "outputs": [
    {
     "data": {
      "text/plain": [
       "[1, 2, 3, 4, 5, 6, 7, 8, 2]"
      ]
     },
     "execution_count": 26,
     "metadata": {},
     "output_type": "execute_result"
    }
   ],
   "source": [
    "a"
   ]
  },
  {
   "cell_type": "code",
   "execution_count": 27,
   "id": "6b7db44e-880f-41c2-a56b-54668f055d8a",
   "metadata": {},
   "outputs": [
    {
     "name": "stdout",
     "output_type": "stream",
     "text": [
      "1\n",
      "2\n",
      "3\n",
      "4\n",
      "5\n",
      "6\n",
      "7\n",
      "8\n",
      "2\n"
     ]
    }
   ],
   "source": [
    "for i in a:\n",
    "    print(i)"
   ]
  },
  {
   "cell_type": "code",
   "execution_count": 28,
   "id": "32e14940-992c-442f-ac20-dbd24b9b3f81",
   "metadata": {},
   "outputs": [
    {
     "name": "stdout",
     "output_type": "stream",
     "text": [
      "[1, 2, 3, 4, 5, 6, 7, 8, 2]\n",
      "[1, 2, 3, 4, 5, 6, 7, 8, 2]\n",
      "[1, 2, 3, 4, 5, 6, 7, 8, 2]\n",
      "[1, 2, 3, 4, 5, 6, 7, 8, 2]\n",
      "[1, 2, 3, 4, 5, 6, 7, 8, 2]\n",
      "[1, 2, 3, 4, 5, 6, 7, 8, 2]\n",
      "[1, 2, 3, 4, 5, 6, 7, 8, 2]\n",
      "[1, 2, 3, 4, 5, 6, 7, 8, 2]\n",
      "[1, 2, 3, 4, 5, 6, 7, 8, 2]\n"
     ]
    }
   ],
   "source": [
    "for i in a:\n",
    "    print(a)\n",
    "    "
   ]
  },
  {
   "cell_type": "code",
   "execution_count": null,
   "id": "ef89bd33-2f9d-4455-9f5a-1c795db8b988",
   "metadata": {},
   "outputs": [],
   "source": []
  }
 ],
 "metadata": {
  "kernelspec": {
   "display_name": "Python 3 (ipykernel)",
   "language": "python",
   "name": "python3"
  },
  "language_info": {
   "codemirror_mode": {
    "name": "ipython",
    "version": 3
   },
   "file_extension": ".py",
   "mimetype": "text/x-python",
   "name": "python",
   "nbconvert_exporter": "python",
   "pygments_lexer": "ipython3",
   "version": "3.10.8"
  }
 },
 "nbformat": 4,
 "nbformat_minor": 5
}
