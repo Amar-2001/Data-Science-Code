{
 "cells": [
  {
   "cell_type": "code",
   "execution_count": 1,
   "id": "ed4d36b2-a7b8-495c-bede-6196d4147e99",
   "metadata": {},
   "outputs": [],
   "source": [
    "import logging"
   ]
  },
  {
   "cell_type": "code",
   "execution_count": 2,
   "id": "514f7152-6978-4d1d-afc1-d1da21a53a3d",
   "metadata": {},
   "outputs": [],
   "source": [
    "logging.basicConfig(filename=\"test1.log\",level=logging.DEBUG,format=\"%(asctime)s %(message)s \")\n",
    "\n",
    "# logging mein time aur message dikhega only"
   ]
  },
  {
   "cell_type": "code",
   "execution_count": 3,
   "id": "06f12140-0f2f-4497-8722-e3d8ff85c2ef",
   "metadata": {},
   "outputs": [],
   "source": [
    "logging.info(\"This is info\")"
   ]
  },
  {
   "cell_type": "code",
   "execution_count": 4,
   "id": "3c04b3ce-24a2-4edb-b261-605e151f4905",
   "metadata": {},
   "outputs": [],
   "source": [
    "logging.critical(\"This is critical\")"
   ]
  },
  {
   "cell_type": "code",
   "execution_count": 5,
   "id": "d0fc1648-847d-4e19-b0eb-e5f73dc68adc",
   "metadata": {},
   "outputs": [],
   "source": [
    "logging.warning(\"This is warning\")"
   ]
  },
  {
   "cell_type": "code",
   "execution_count": 6,
   "id": "4e7d0739-78a3-42e0-8831-82abe6e24a63",
   "metadata": {},
   "outputs": [],
   "source": [
    "logging.error(\"This is error message\")"
   ]
  },
  {
   "cell_type": "code",
   "execution_count": 7,
   "id": "e5427704-c7cb-4f0b-94ab-e968ec09cb74",
   "metadata": {},
   "outputs": [],
   "source": [
    "logging.shutdown()"
   ]
  },
  {
   "cell_type": "code",
   "execution_count": 8,
   "id": "1d53fa2e-b3ab-4ed5-b361-3cb5f6aede90",
   "metadata": {},
   "outputs": [],
   "source": [
    "# ***************************************************"
   ]
  },
  {
   "cell_type": "code",
   "execution_count": 9,
   "id": "6f4749ae-62e1-4289-b3f3-c84ea2ad1953",
   "metadata": {},
   "outputs": [],
   "source": [
    "import logging"
   ]
  },
  {
   "cell_type": "code",
   "execution_count": 10,
   "id": "b8a3340c-32b2-42cd-84dc-1a4e3caf9e60",
   "metadata": {},
   "outputs": [],
   "source": [
    "logging.basicConfig(filename=\"testNew.log\",level=logging.DEBUG,format = '%(asctime)s %(name)s %(levelname)s %(message)s' )\n",
    "\n",
    "# fomat mein time , name, levelname aur message dikhega"
   ]
  },
  {
   "cell_type": "code",
   "execution_count": 11,
   "id": "e517ec12-4b8e-42db-9a54-d0a649ba9e7d",
   "metadata": {},
   "outputs": [],
   "source": [
    "logging.info(\"This is information\")\n"
   ]
  },
  {
   "cell_type": "code",
   "execution_count": 12,
   "id": "e46580df-ac60-4569-84c5-adccb8b68828",
   "metadata": {},
   "outputs": [],
   "source": [
    "logging.debug(\"This is debug\")"
   ]
  },
  {
   "cell_type": "code",
   "execution_count": 13,
   "id": "0a09b71a-1744-4dc7-abc6-8b09efef020e",
   "metadata": {},
   "outputs": [],
   "source": [
    "logging.error(\"This is error\")"
   ]
  },
  {
   "cell_type": "code",
   "execution_count": 14,
   "id": "16dd1063-aba0-40d6-b327-359bd57e7261",
   "metadata": {},
   "outputs": [],
   "source": [
    "logging.critical(\"This is critical\")"
   ]
  },
  {
   "cell_type": "code",
   "execution_count": 15,
   "id": "97ef19ab-91d9-4cf5-b61c-48791dc6c2bc",
   "metadata": {},
   "outputs": [],
   "source": [
    "logging.info(\"This is ending\")"
   ]
  },
  {
   "cell_type": "code",
   "execution_count": 16,
   "id": "bd97789d-d704-46f0-9ee4-a2bded8f2d04",
   "metadata": {},
   "outputs": [],
   "source": [
    "# **********************************************************"
   ]
  },
  {
   "cell_type": "code",
   "execution_count": null,
   "id": "efca23cf-43e2-439e-acd6-6710a1838aa7",
   "metadata": {},
   "outputs": [],
   "source": []
  },
  {
   "cell_type": "code",
   "execution_count": null,
   "id": "3cf5e108-bbae-4116-9b6d-7446d46604f7",
   "metadata": {},
   "outputs": [],
   "source": []
  },
  {
   "cell_type": "code",
   "execution_count": 17,
   "id": "6169ce10-9626-4313-8d54-5b296938ba33",
   "metadata": {},
   "outputs": [],
   "source": [
    "# Now adding list in logging"
   ]
  },
  {
   "cell_type": "code",
   "execution_count": null,
   "id": "41affade-8d8a-4226-9f0f-d2e9325671b0",
   "metadata": {},
   "outputs": [],
   "source": []
  },
  {
   "cell_type": "code",
   "execution_count": 18,
   "id": "a19a1968-f7c7-4e7e-8c4f-3d7a7f15f98b",
   "metadata": {},
   "outputs": [],
   "source": [
    "l=[1,2,3,4,[11,12,13],'sudh','kumar']"
   ]
  },
  {
   "cell_type": "code",
   "execution_count": 19,
   "id": "c33ebd58-d880-46a1-b805-1a7265d54fa2",
   "metadata": {},
   "outputs": [],
   "source": [
    "l1_int=[]\n",
    "l2_str=[]\n",
    "\n",
    "for i in l:\n",
    "    if type(i)==int:\n",
    "        l1_int.append(i)\n",
    "    \n",
    "    # inside i loop j loop runs to find list inside list\n",
    "    elif type(i)==list:\n",
    "        for j in i:\n",
    "            l1_int.append(j)\n",
    "    \n",
    "    #now string in l2_str\n",
    "    else:\n",
    "        if type(i)==str:\n",
    "            l2_str.append(i)"
   ]
  },
  {
   "cell_type": "code",
   "execution_count": 20,
   "id": "5aa9d709-d93a-43eb-ac15-ae817e92405b",
   "metadata": {},
   "outputs": [
    {
     "data": {
      "text/plain": [
       "[1, 2, 3, 4, 11, 12, 13]"
      ]
     },
     "execution_count": 20,
     "metadata": {},
     "output_type": "execute_result"
    }
   ],
   "source": [
    "l1_int"
   ]
  },
  {
   "cell_type": "code",
   "execution_count": 21,
   "id": "5512a5cc-0064-4d55-9802-afe620298600",
   "metadata": {},
   "outputs": [
    {
     "data": {
      "text/plain": [
       "['sudh', 'kumar']"
      ]
     },
     "execution_count": 21,
     "metadata": {},
     "output_type": "execute_result"
    }
   ],
   "source": [
    "l2_str"
   ]
  },
  {
   "cell_type": "code",
   "execution_count": 22,
   "id": "241fc679-552d-4a51-a206-c67333f725c6",
   "metadata": {},
   "outputs": [],
   "source": []
  },
  {
   "cell_type": "code",
   "execution_count": 23,
   "id": "837ee11f-900a-461f-b467-4745d63d0c0e",
   "metadata": {},
   "outputs": [],
   "source": []
  },
  {
   "cell_type": "code",
   "execution_count": 24,
   "id": "1f2854e5-dab0-4e30-a1df-af127da4c8d5",
   "metadata": {},
   "outputs": [],
   "source": []
  },
  {
   "cell_type": "code",
   "execution_count": null,
   "id": "04059299-efc7-452d-b077-9dfabd1b0f74",
   "metadata": {},
   "outputs": [],
   "source": []
  }
 ],
 "metadata": {
  "kernelspec": {
   "display_name": "Python 3 (ipykernel)",
   "language": "python",
   "name": "python3"
  },
  "language_info": {
   "codemirror_mode": {
    "name": "ipython",
    "version": 3
   },
   "file_extension": ".py",
   "mimetype": "text/x-python",
   "name": "python",
   "nbconvert_exporter": "python",
   "pygments_lexer": "ipython3",
   "version": "3.10.8"
  }
 },
 "nbformat": 4,
 "nbformat_minor": 5
}
