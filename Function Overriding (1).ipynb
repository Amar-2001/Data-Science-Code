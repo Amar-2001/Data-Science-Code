{
 "cells": [
  {
   "cell_type": "code",
   "execution_count": 2,
   "id": "1e221dc4-1e77-4a3d-9ce4-63bcf161c3cd",
   "metadata": {},
   "outputs": [
    {
     "name": "stdout",
     "output_type": "stream",
     "text": [
      "6\n"
     ]
    }
   ],
   "source": [
    "class maths:\n",
    "    def result(self,a,b): \n",
    "        self.a=a\n",
    "        self.b=b\n",
    "        self.c=self.a+self.b\n",
    "        print(self.c)\n",
    "\n",
    "class mul(maths):\n",
    "    def result(self,a,b):\n",
    "        self.a=a\n",
    "        self.b=b\n",
    "        self.c=self.a*self.b# ye wala chal raha hai\n",
    "        print(self.c)\n",
    "        \n",
    "result_add=mul()\n",
    "\n",
    "result_add.result(3,2)\n",
    "\n",
    "        "
   ]
  },
  {
   "cell_type": "code",
   "execution_count": null,
   "id": "1de98ce3-cc4e-4de2-b2d5-7bd931aef12c",
   "metadata": {},
   "outputs": [],
   "source": []
  }
 ],
 "metadata": {
  "kernelspec": {
   "display_name": "Python 3 (ipykernel)",
   "language": "python",
   "name": "python3"
  },
  "language_info": {
   "codemirror_mode": {
    "name": "ipython",
    "version": 3
   },
   "file_extension": ".py",
   "mimetype": "text/x-python",
   "name": "python",
   "nbconvert_exporter": "python",
   "pygments_lexer": "ipython3",
   "version": "3.10.8"
  }
 },
 "nbformat": 4,
 "nbformat_minor": 5
}
