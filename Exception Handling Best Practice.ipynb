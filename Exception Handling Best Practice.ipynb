{
 "cells": [
  {
   "cell_type": "code",
   "execution_count": 1,
   "id": "bc45f390-540c-4dc5-8a49-71ddcbeb128f",
   "metadata": {},
   "outputs": [
    {
     "name": "stdout",
     "output_type": "stream",
     "text": [
      "division by zero\n"
     ]
    }
   ],
   "source": [
    "# 1. Always use a specific exception \n",
    "\n",
    "try:\n",
    "    a=8/0\n",
    "except Exception as e:# Exception is a super class It will give output but it is not a \n",
    "                     # good way.\n",
    "    print(e)"
   ]
  },
  {
   "cell_type": "code",
   "execution_count": 3,
   "id": "c663e47d-57cf-4880-b45c-56b6a28e2641",
   "metadata": {},
   "outputs": [
    {
     "name": "stdout",
     "output_type": "stream",
     "text": [
      "division by zero\n"
     ]
    }
   ],
   "source": [
    "# Good way  \n",
    "try:\n",
    "    a=8/0\n",
    "except ZeroDivisionError as e:\n",
    "    print(e)"
   ]
  },
  {
   "cell_type": "code",
   "execution_count": null,
   "id": "239da774-83d6-4349-b5d0-09a32c65d18b",
   "metadata": {},
   "outputs": [],
   "source": [
    "# ****************************************************************************"
   ]
  },
  {
   "cell_type": "code",
   "execution_count": 5,
   "id": "df4db0a9-aa15-49f8-ad46-816f492d8b49",
   "metadata": {},
   "outputs": [
    {
     "name": "stdout",
     "output_type": "stream",
     "text": [
      "I am trying to handle a ZeroDivisionError :  division by zero\n"
     ]
    }
   ],
   "source": [
    "# 2. Always use proper message\n",
    "\n",
    "# Good way  \n",
    "try:\n",
    "    a=8/0\n",
    "except ZeroDivisionError as e:\n",
    "    print(\"I am trying to handle a ZeroDivisionError : \",e)"
   ]
  },
  {
   "cell_type": "code",
   "execution_count": 6,
   "id": "5e5101aa-75d1-4e83-bd53-be2920fb89d1",
   "metadata": {},
   "outputs": [],
   "source": [
    "# ************************************************************************"
   ]
  },
  {
   "cell_type": "code",
   "execution_count": 12,
   "id": "6d17ba0c-77a3-4164-8973-bd2ef1118e26",
   "metadata": {},
   "outputs": [],
   "source": [
    "# 3.Always try to log your error\n",
    "\n",
    "# Good way  \n",
    "\n",
    "import logging\n",
    "logging.basicConfig(filename=\"error.log\", level=logging.ERROR,format=\"%(asctime)s, %(name)s , %(filename)s, %(message)s\")\n",
    "try:\n",
    "    a=8/0\n",
    "except ZeroDivisionError as e:\n",
    "    logging.error(\"I am trying to handle a ZeroDivisionError : {} \".format(e))"
   ]
  },
  {
   "cell_type": "code",
   "execution_count": 13,
   "id": "6ea75eaf-bbfa-41da-8df2-206f96eb74a7",
   "metadata": {},
   "outputs": [],
   "source": [
    "# *******************************************************"
   ]
  },
  {
   "cell_type": "code",
   "execution_count": 18,
   "id": "0f3ea64f-54f4-46d8-b183-fe0181143ebf",
   "metadata": {},
   "outputs": [],
   "source": [
    "# Always try to avoid the multiple exception Hanling\n",
    "\n",
    "# Good way \n",
    "import logging\n",
    "logging.basicConfig(filename=\"error.log\",level=logging.ERROR,format=\"%(asctime)s, %(name)s, %(filename)s, %(message)s\")\n",
    "try:\n",
    "    a=8/0\n",
    "    \n",
    "except (TypeError,ValueError)  as e:\n",
    "    logging.error(\"I am trying to handle a TypeError and ValueError : {}\".format(e))\n",
    "\n",
    "except AttributeError as e:\n",
    "    logging.error(\"I am trying to handle a AttributeError : {}\".format(e))\n",
    "    \n",
    "except ImportError as e:\n",
    "    logging.error(\"I am trying to handle a ImportError : {}\".format(e))\n",
    "    \n",
    "except IndexError  as e:\n",
    "    logging.error(\"I am trying to handle a IndexError : {}\".format(e))\n",
    "\n",
    "except KeyError as e:\n",
    "    logging.error(\"I am trying to handle a KeyError : {}\".format(e))\n",
    "    \n",
    "except ZeroDivisionError as e: # sirf isi ko lega aur kisi ko nahi so always try to write\n",
    "                             # specific error\n",
    "    logging.error(\"I am trying to handle a ZeroDivisionError : {}\".format(e))"
   ]
  },
  {
   "cell_type": "code",
   "execution_count": 3,
   "id": "37917865-e742-41b9-a1fc-f990e29bcfaf",
   "metadata": {},
   "outputs": [
    {
     "name": "stdout",
     "output_type": "stream",
     "text": [
      "Closing it\n"
     ]
    }
   ],
   "source": [
    "# Document all the erro\n",
    "# CleanUp all the resources\n",
    "\n",
    "# Good way  \n",
    "\n",
    "import logging\n",
    "logging.basicConfig(filename=\"error.log\", level=logging.ERROR,format=\"%(asctime)s, %(name)s , %(filename)s, %(message)s\")\n",
    "try:\n",
    "    \n",
    "    with open(\"test.txt\",'a') as f:\n",
    "        f.write(\"\\nFile Handling This is for Exception Handling \")# haven't close it with f.close()\n",
    "    \n",
    "except FileNotFoundError as e:\n",
    "    logging.error(\"I am trying to handle a FileNotFoundError : {} \".format(e))\n",
    "\n",
    "finally:\n",
    "    print(\"Closing it\")\n",
    "    f.close()"
   ]
  },
  {
   "cell_type": "code",
   "execution_count": null,
   "id": "a2c47f5e-e65e-4518-b857-990688d799a0",
   "metadata": {},
   "outputs": [],
   "source": []
  }
 ],
 "metadata": {
  "kernelspec": {
   "display_name": "Python 3 (ipykernel)",
   "language": "python",
   "name": "python3"
  },
  "language_info": {
   "codemirror_mode": {
    "name": "ipython",
    "version": 3
   },
   "file_extension": ".py",
   "mimetype": "text/x-python",
   "name": "python",
   "nbconvert_exporter": "python",
   "pygments_lexer": "ipython3",
   "version": "3.10.8"
  }
 },
 "nbformat": 4,
 "nbformat_minor": 5
}
