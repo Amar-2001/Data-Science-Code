{
 "cells": [
  {
   "cell_type": "code",
   "execution_count": 3,
   "id": "0877d4bd-e8d9-40d3-a13b-1c415ad913e1",
   "metadata": {},
   "outputs": [],
   "source": [
    "# Generator function aisa function jo generate karte jata hai outcome \n",
    "# ko without holding everthing to a memory.\n",
    "\n",
    "# Generator function hum bante hai takki wo memory ko reduce kar sake \n",
    "# Function one by one , one by one outcome dete jayega , ek baar mein nahi dega \n",
    "# jis se memory consumption kam hoga "
   ]
  },
  {
   "cell_type": "code",
   "execution_count": 1,
   "id": "da32caf3-3fc3-4dc3-aa27-3c37aaaddfe3",
   "metadata": {},
   "outputs": [
    {
     "data": {
      "text/plain": [
       "range(0, 10)"
      ]
     },
     "execution_count": 1,
     "metadata": {},
     "output_type": "execute_result"
    }
   ],
   "source": [
    "range(10)"
   ]
  },
  {
   "cell_type": "code",
   "execution_count": 2,
   "id": "01981cb3-51e7-43bf-824c-b4e9530e6970",
   "metadata": {},
   "outputs": [
    {
     "name": "stdout",
     "output_type": "stream",
     "text": [
      "0\n",
      "1\n",
      "2\n",
      "3\n",
      "4\n",
      "5\n",
      "6\n",
      "7\n",
      "8\n",
      "9\n"
     ]
    }
   ],
   "source": [
    "for i in range(10):\n",
    "    print(i)"
   ]
  },
  {
   "cell_type": "code",
   "execution_count": 12,
   "id": "0282aa68-acb4-4f82-8eb3-9b44b3a146d1",
   "metadata": {},
   "outputs": [],
   "source": [
    "def fib(n):\n",
    "    a,b=0,1\n",
    "    for i in range(n):\n",
    "        yield a\n",
    "        # print(a)\n",
    "        a,b=b,a+b\n",
    "        "
   ]
  },
  {
   "cell_type": "code",
   "execution_count": 7,
   "id": "a85a6e8e-8abc-4904-a079-45e3d05d0d82",
   "metadata": {},
   "outputs": [
    {
     "data": {
      "text/plain": [
       "<generator object fib at 0x7efdb4441a10>"
      ]
     },
     "execution_count": 7,
     "metadata": {},
     "output_type": "execute_result"
    }
   ],
   "source": [
    "fib(10)"
   ]
  },
  {
   "cell_type": "code",
   "execution_count": 13,
   "id": "cee123d8-ee19-4812-8116-7f8b74998200",
   "metadata": {},
   "outputs": [
    {
     "name": "stdout",
     "output_type": "stream",
     "text": [
      "0\n",
      "1\n",
      "1\n",
      "2\n",
      "3\n",
      "5\n",
      "8\n",
      "13\n",
      "21\n",
      "34\n"
     ]
    }
   ],
   "source": [
    "for i in fib(10):\n",
    "    print(i)\n",
    "    \n"
   ]
  },
  {
   "cell_type": "code",
   "execution_count": 14,
   "id": "08b83b87-0d75-46c8-abac-12d37119132f",
   "metadata": {},
   "outputs": [],
   "source": [
    "# while loop"
   ]
  },
  {
   "cell_type": "code",
   "execution_count": 28,
   "id": "bc6238a6-3370-40fc-b39f-9adc7d7563b3",
   "metadata": {},
   "outputs": [],
   "source": [
    "def fib1(n):\n",
    "    a,b=0,1\n",
    "    while True:\n",
    "        yield a\n",
    "        a,b=b,a+b"
   ]
  },
  {
   "cell_type": "code",
   "execution_count": 29,
   "id": "d8b60cf9-6929-40c0-8c14-5a87ef158c60",
   "metadata": {},
   "outputs": [
    {
     "data": {
      "text/plain": [
       "<generator object fib1 at 0x7efd9a739ee0>"
      ]
     },
     "execution_count": 29,
     "metadata": {},
     "output_type": "execute_result"
    }
   ],
   "source": [
    "fib1(10)"
   ]
  },
  {
   "cell_type": "code",
   "execution_count": 23,
   "id": "59c147bb-ae05-49c8-a6cc-aa583f2ca059",
   "metadata": {},
   "outputs": [
    {
     "name": "stderr",
     "output_type": "stream",
     "text": [
      "IOPub data rate exceeded.\n",
      "The Jupyter server will temporarily stop sending output\n",
      "to the client in order to avoid crashing it.\n",
      "To change this limit, set the config variable\n",
      "`--ServerApp.iopub_data_rate_limit`.\n",
      "\n",
      "Current values:\n",
      "ServerApp.iopub_data_rate_limit=1000000.0 (bytes/sec)\n",
      "ServerApp.rate_limit_window=3.0 (secs)\n",
      "\n"
     ]
    },
    {
     "ename": "ValueError",
     "evalue": "Exceeds the limit (4300) for integer string conversion; use sys.set_int_max_str_digits() to increase the limit",
     "output_type": "error",
     "traceback": [
      "\u001b[0;31m---------------------------------------------------------------------------\u001b[0m",
      "\u001b[0;31mValueError\u001b[0m                                Traceback (most recent call last)",
      "Cell \u001b[0;32mIn[23], line 2\u001b[0m\n\u001b[1;32m      1\u001b[0m \u001b[38;5;28;01mfor\u001b[39;00m i \u001b[38;5;129;01min\u001b[39;00m fib1(\u001b[38;5;241m10\u001b[39m):\n\u001b[0;32m----> 2\u001b[0m     \u001b[38;5;28;43mprint\u001b[39;49m\u001b[43m(\u001b[49m\u001b[43mi\u001b[49m\u001b[43m)\u001b[49m\n",
      "\u001b[0;31mValueError\u001b[0m: Exceeds the limit (4300) for integer string conversion; use sys.set_int_max_str_digits() to increase the limit"
     ]
    }
   ],
   "source": [
    "for i in fib(10):\n",
    "    print(i)\n",
    "    \n",
    "    "
   ]
  },
  {
   "cell_type": "code",
   "execution_count": 30,
   "id": "3072cf57-3e07-4d8d-8936-416721d8976b",
   "metadata": {},
   "outputs": [
    {
     "data": {
      "text/plain": [
       "4"
      ]
     },
     "execution_count": 30,
     "metadata": {},
     "output_type": "execute_result"
    }
   ],
   "source": [
    "2+2"
   ]
  },
  {
   "cell_type": "code",
   "execution_count": 32,
   "id": "a96ce5b2-9896-4f24-90d0-a74f9340ad83",
   "metadata": {},
   "outputs": [],
   "source": [
    "def fib1():\n",
    "    a,b=0,1\n",
    "    while True:\n",
    "        yield a\n",
    "        a,b=b,a+b"
   ]
  },
  {
   "cell_type": "code",
   "execution_count": 52,
   "id": "df7f37b0-bf79-4f45-85ff-b38e8cb29acc",
   "metadata": {},
   "outputs": [],
   "source": [
    "fib_object=fib1()"
   ]
  },
  {
   "cell_type": "code",
   "execution_count": 54,
   "id": "a2d5109f-3a5f-44ae-94ad-4d2ad2adc9ae",
   "metadata": {},
   "outputs": [
    {
     "data": {
      "text/plain": [
       "generator"
      ]
     },
     "execution_count": 54,
     "metadata": {},
     "output_type": "execute_result"
    }
   ],
   "source": [
    "type(fib_object) # generator type\n"
   ]
  },
  {
   "cell_type": "code",
   "execution_count": 34,
   "id": "1b5c2316-85e4-4d18-8dec-0bee509bc6fe",
   "metadata": {},
   "outputs": [
    {
     "name": "stdout",
     "output_type": "stream",
     "text": [
      "0\n",
      "1\n",
      "1\n",
      "2\n",
      "3\n",
      "5\n",
      "8\n",
      "13\n",
      "21\n",
      "34\n"
     ]
    }
   ],
   "source": [
    "for i in range(10):\n",
    "    print(next(fib_object))"
   ]
  },
  {
   "cell_type": "code",
   "execution_count": 35,
   "id": "d7fdeb29-1fcd-49f5-b19f-fd313fabc9f8",
   "metadata": {},
   "outputs": [],
   "source": [
    "# next function use"
   ]
  },
  {
   "cell_type": "code",
   "execution_count": 36,
   "id": "315da2be-2ee7-46c3-887d-2f7f18ef21b9",
   "metadata": {},
   "outputs": [],
   "source": [
    "a=\"Amar\""
   ]
  },
  {
   "cell_type": "code",
   "execution_count": 37,
   "id": "14b5661f-70eb-4625-a65e-36a6287e32a1",
   "metadata": {},
   "outputs": [
    {
     "name": "stdout",
     "output_type": "stream",
     "text": [
      "A\n",
      "m\n",
      "a\n",
      "r\n"
     ]
    }
   ],
   "source": [
    "for i in a :\n",
    "    print(i)\n",
    "    "
   ]
  },
  {
   "cell_type": "code",
   "execution_count": 38,
   "id": "25b9947c-2f89-4018-b38e-6cb35471dadb",
   "metadata": {},
   "outputs": [
    {
     "ename": "TypeError",
     "evalue": "'str' object is not an iterator",
     "output_type": "error",
     "traceback": [
      "\u001b[0;31m---------------------------------------------------------------------------\u001b[0m",
      "\u001b[0;31mTypeError\u001b[0m                                 Traceback (most recent call last)",
      "Cell \u001b[0;32mIn[38], line 1\u001b[0m\n\u001b[0;32m----> 1\u001b[0m \u001b[38;5;28;43mnext\u001b[39;49m\u001b[43m(\u001b[49m\u001b[43ma\u001b[49m\u001b[43m)\u001b[49m\n",
      "\u001b[0;31mTypeError\u001b[0m: 'str' object is not an iterator"
     ]
    }
   ],
   "source": [
    "next(a)#'str' object is not an iterator"
   ]
  },
  {
   "cell_type": "code",
   "execution_count": 39,
   "id": "a34c12bc-abc8-4a53-9479-ccf550b14756",
   "metadata": {},
   "outputs": [],
   "source": [
    "# so first i have to convert a in iterator\n",
    "a=iter(a)"
   ]
  },
  {
   "cell_type": "code",
   "execution_count": 41,
   "id": "65fc132e-1b31-4e49-a2c4-a1f11f4265f3",
   "metadata": {},
   "outputs": [
    {
     "data": {
      "text/plain": [
       "str_iterator"
      ]
     },
     "execution_count": 41,
     "metadata": {},
     "output_type": "execute_result"
    }
   ],
   "source": [
    "type(a)  # coverted to iterator\n"
   ]
  },
  {
   "cell_type": "code",
   "execution_count": 42,
   "id": "6c59ed16-519b-4b02-8d1d-fe41926f4a4c",
   "metadata": {},
   "outputs": [],
   "source": [
    "# now use of next\n"
   ]
  },
  {
   "cell_type": "code",
   "execution_count": 43,
   "id": "5232b503-2a23-41ea-97ff-baccf32826f0",
   "metadata": {},
   "outputs": [
    {
     "data": {
      "text/plain": [
       "'A'"
      ]
     },
     "execution_count": 43,
     "metadata": {},
     "output_type": "execute_result"
    }
   ],
   "source": [
    "next(a)"
   ]
  },
  {
   "cell_type": "code",
   "execution_count": 44,
   "id": "f829958f-130b-45a2-9cf3-265f3745bb13",
   "metadata": {},
   "outputs": [
    {
     "data": {
      "text/plain": [
       "'m'"
      ]
     },
     "execution_count": 44,
     "metadata": {},
     "output_type": "execute_result"
    }
   ],
   "source": [
    "next(a)"
   ]
  },
  {
   "cell_type": "code",
   "execution_count": 45,
   "id": "e66f3cc3-98d0-4d01-9f22-543e2ae9c76c",
   "metadata": {},
   "outputs": [
    {
     "data": {
      "text/plain": [
       "'a'"
      ]
     },
     "execution_count": 45,
     "metadata": {},
     "output_type": "execute_result"
    }
   ],
   "source": [
    "next(a)\n"
   ]
  },
  {
   "cell_type": "code",
   "execution_count": 46,
   "id": "79892392-fb0a-432e-a16c-90511c97fe12",
   "metadata": {},
   "outputs": [
    {
     "data": {
      "text/plain": [
       "'r'"
      ]
     },
     "execution_count": 46,
     "metadata": {},
     "output_type": "execute_result"
    }
   ],
   "source": [
    "next(a)"
   ]
  },
  {
   "cell_type": "code",
   "execution_count": 47,
   "id": "28c564e2-3a34-4d20-84c7-80fbefb2e080",
   "metadata": {},
   "outputs": [
    {
     "ename": "StopIteration",
     "evalue": "",
     "output_type": "error",
     "traceback": [
      "\u001b[0;31m---------------------------------------------------------------------------\u001b[0m",
      "\u001b[0;31mStopIteration\u001b[0m                             Traceback (most recent call last)",
      "Cell \u001b[0;32mIn[47], line 1\u001b[0m\n\u001b[0;32m----> 1\u001b[0m \u001b[38;5;28;43mnext\u001b[39;49m\u001b[43m(\u001b[49m\u001b[43ma\u001b[49m\u001b[43m)\u001b[49m\u001b[38;5;66;03m# if more than character length \u001b[39;00m\n",
      "\u001b[0;31mStopIteration\u001b[0m: "
     ]
    }
   ],
   "source": [
    "next(a)# if more than character length "
   ]
  },
  {
   "cell_type": "code",
   "execution_count": 49,
   "id": "6a8210f8-561b-4545-9503-4af55b018fd1",
   "metadata": {},
   "outputs": [],
   "source": [
    "# we can only convert string ,list into iterator becuase these are iterable\n",
    "# int,float ,complex etc is not iterable\n",
    "a=45"
   ]
  },
  {
   "cell_type": "code",
   "execution_count": 51,
   "id": "1d13a53e-41bf-41b8-b5bb-eff1c6229978",
   "metadata": {},
   "outputs": [
    {
     "ename": "TypeError",
     "evalue": "'int' object is not an iterator",
     "output_type": "error",
     "traceback": [
      "\u001b[0;31m---------------------------------------------------------------------------\u001b[0m",
      "\u001b[0;31mTypeError\u001b[0m                                 Traceback (most recent call last)",
      "Cell \u001b[0;32mIn[51], line 1\u001b[0m\n\u001b[0;32m----> 1\u001b[0m \u001b[38;5;28;43mnext\u001b[39;49m\u001b[43m(\u001b[49m\u001b[43ma\u001b[49m\u001b[43m)\u001b[49m \u001b[38;5;66;03m# 'int' object is not an iterator\u001b[39;00m\n",
      "\u001b[0;31mTypeError\u001b[0m: 'int' object is not an iterator"
     ]
    }
   ],
   "source": [
    "next(a) # 'int' object is not an iterator"
   ]
  },
  {
   "cell_type": "code",
   "execution_count": 56,
   "id": "49e5c791-5b7b-4ba0-9668-60170a424f8a",
   "metadata": {},
   "outputs": [],
   "source": [
    "def count(n):\n",
    "    a=1\n",
    "    while a<=n:\n",
    "        yield a\n",
    "        a=a+1\n",
    "    "
   ]
  },
  {
   "cell_type": "code",
   "execution_count": 57,
   "id": "e8a22c6e-5d78-41bc-b667-705051f37c0b",
   "metadata": {},
   "outputs": [],
   "source": [
    "c=count(5)"
   ]
  },
  {
   "cell_type": "code",
   "execution_count": 58,
   "id": "e71d0913-9ad0-4121-a23d-3f29ba99b619",
   "metadata": {},
   "outputs": [
    {
     "data": {
      "text/plain": [
       "generator"
      ]
     },
     "execution_count": 58,
     "metadata": {},
     "output_type": "execute_result"
    }
   ],
   "source": [
    "type(c)"
   ]
  },
  {
   "cell_type": "code",
   "execution_count": 59,
   "id": "3889d35d-6dfb-4c94-8c4b-a21a95aa8374",
   "metadata": {},
   "outputs": [
    {
     "name": "stdout",
     "output_type": "stream",
     "text": [
      "1\n",
      "2\n",
      "3\n",
      "4\n",
      "5\n"
     ]
    }
   ],
   "source": [
    "for i in c:\n",
    "    print(i)\n",
    "    "
   ]
  },
  {
   "cell_type": "code",
   "execution_count": 60,
   "id": "9d2c90e3-6052-4888-a02a-4fd91403d166",
   "metadata": {},
   "outputs": [],
   "source": [
    "def count1():\n",
    "    a=1\n",
    "    while True:\n",
    "        yield a\n",
    "        a=a+1"
   ]
  },
  {
   "cell_type": "code",
   "execution_count": 61,
   "id": "63fb4f40-536f-44f4-b692-e4a0118be262",
   "metadata": {},
   "outputs": [],
   "source": [
    "c1=count1()"
   ]
  },
  {
   "cell_type": "code",
   "execution_count": 62,
   "id": "cf662393-f5ef-41c0-89c5-f17fef41eb83",
   "metadata": {},
   "outputs": [
    {
     "name": "stdout",
     "output_type": "stream",
     "text": [
      "1\n",
      "2\n",
      "3\n",
      "4\n",
      "5\n"
     ]
    }
   ],
   "source": [
    "for i in range(5):\n",
    "    print(next(c1))"
   ]
  },
  {
   "cell_type": "code",
   "execution_count": 78,
   "id": "4bb4a3fa-bb7a-49c7-a32d-a387b95fe23c",
   "metadata": {},
   "outputs": [],
   "source": [
    "# Table\n",
    "def table():\n",
    "    i=1\n",
    "    n=int(input(\"Enter the table : \"))\n",
    "    while True:\n",
    "        yield (\"5 * \",i,\" = \",5*i)\n",
    "        # yield(\"5\", '*' ,i, '=', 5*i)\n",
    "        i=i+1\n"
   ]
  },
  {
   "cell_type": "code",
   "execution_count": 79,
   "id": "c8d65320-25ee-47de-bb7c-2195d5117c29",
   "metadata": {},
   "outputs": [],
   "source": [
    "t=table()"
   ]
  },
  {
   "cell_type": "code",
   "execution_count": 80,
   "id": "9a17c321-af1d-41c9-865a-b249aa4ce4ff",
   "metadata": {},
   "outputs": [
    {
     "name": "stdin",
     "output_type": "stream",
     "text": [
      "Enter the table :  5\n"
     ]
    },
    {
     "name": "stdout",
     "output_type": "stream",
     "text": [
      "('5 * ', 1, ' = ', 5)\n",
      "('5 * ', 2, ' = ', 10)\n",
      "('5 * ', 3, ' = ', 15)\n",
      "('5 * ', 4, ' = ', 20)\n",
      "('5 * ', 5, ' = ', 25)\n",
      "('5 * ', 6, ' = ', 30)\n",
      "('5 * ', 7, ' = ', 35)\n",
      "('5 * ', 8, ' = ', 40)\n",
      "('5 * ', 9, ' = ', 45)\n",
      "('5 * ', 10, ' = ', 50)\n"
     ]
    }
   ],
   "source": [
    "for i in range(10):\n",
    "    print(next(t))"
   ]
  },
  {
   "cell_type": "code",
   "execution_count": 65,
   "id": "7bcd1594-ac49-49b2-a48b-678bb80bb1ce",
   "metadata": {},
   "outputs": [],
   "source": [
    "# 19:32\n",
    "# Generator Functions\n",
    "\n",
    "# Generator : generator wo hai jo data ko one by one dete jayega and\n",
    "# it is represented by \"YIeLd\" keyword, \n",
    "# Iterator : Iterator wo hai jisme hum next next karke jaa sakte hai\n",
    "# Iterable : Iterable wo hai jisko hum iterate kar sakte hai\n",
    "\n",
    "\n"
   ]
  },
  {
   "cell_type": "code",
   "execution_count": null,
   "id": "18687820-4e32-42de-b1c6-eee72d018499",
   "metadata": {},
   "outputs": [],
   "source": []
  }
 ],
 "metadata": {
  "kernelspec": {
   "display_name": "Python 3 (ipykernel)",
   "language": "python",
   "name": "python3"
  },
  "language_info": {
   "codemirror_mode": {
    "name": "ipython",
    "version": 3
   },
   "file_extension": ".py",
   "mimetype": "text/x-python",
   "name": "python",
   "nbconvert_exporter": "python",
   "pygments_lexer": "ipython3",
   "version": "3.10.8"
  }
 },
 "nbformat": 4,
 "nbformat_minor": 5
}
